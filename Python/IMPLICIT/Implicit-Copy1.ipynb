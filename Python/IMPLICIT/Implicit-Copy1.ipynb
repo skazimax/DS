{
 "cells": [
  {
   "cell_type": "code",
   "execution_count": 2,
   "metadata": {
    "collapsed": true
   },
   "outputs": [],
   "source": [
    "import pandas as pd\n",
    "import numpy as np\n",
    "from os import path, environ"
   ]
  },
  {
   "cell_type": "markdown",
   "metadata": {},
   "source": [
    "Берём большой Датасет"
   ]
  },
  {
   "cell_type": "code",
   "execution_count": 3,
   "metadata": {},
   "outputs": [],
   "source": [
    "data_dir = \"C://Users//asus//Desktop//Netology//Data//Last_FM\"\n",
    "environ[\"DATA_DIR\"] = \"/home/spynal/DATA/lastfm-dataset-360K/\"\n",
    "col_names = [\"user\", \"artist-mbid\", \"artist-name\", \"total-plays\"]\n",
    "data = pd.read_csv(\n",
    "    path.join(data_dir, \"lastfm_small.tsv\"),\n",
    "    sep=\"\\t\",\n",
    "    header=None,\n",
    "    names=col_names\n",
    ")"
   ]
  },
  {
   "cell_type": "markdown",
   "metadata": {},
   "source": [
    "Пустые значения заменяем 0"
   ]
  },
  {
   "cell_type": "code",
   "execution_count": 4,
   "metadata": {
    "collapsed": true
   },
   "outputs": [],
   "source": [
    "data.fillna(0, inplace=True)"
   ]
  },
  {
   "cell_type": "code",
   "execution_count": 5,
   "metadata": {
    "collapsed": true
   },
   "outputs": [],
   "source": [
    "data['user_id']=data['user'].astype('category').cat.codes.copy()+1\n",
    "data['artist_id']=data['artist-mbid'].astype('category').cat.codes.copy()+1"
   ]
  },
  {
   "cell_type": "code",
   "execution_count": 6,
   "metadata": {
    "collapsed": true
   },
   "outputs": [],
   "source": [
    "data.drop(['user','artist-mbid','artist-name'], axis=1,inplace=True)"
   ]
  },
  {
   "cell_type": "markdown",
   "metadata": {},
   "source": [
    "Делим на Train\\Test"
   ]
  },
  {
   "cell_type": "code",
   "execution_count": 7,
   "metadata": {
    "collapsed": true
   },
   "outputs": [],
   "source": [
    "from sklearn.model_selection import train_test_split"
   ]
  },
  {
   "cell_type": "code",
   "execution_count": 8,
   "metadata": {
    "collapsed": true
   },
   "outputs": [],
   "source": [
    "data_Test, data_Train=train_test_split(data, test_size=0.2, random_state=0 )"
   ]
  },
  {
   "cell_type": "markdown",
   "metadata": {},
   "source": [
    "Записываем в файлы, для MREC"
   ]
  },
  {
   "cell_type": "code",
   "execution_count": 9,
   "metadata": {
    "collapsed": true
   },
   "outputs": [],
   "source": [
    "test_file_name = \"lastfm.test.0\"\n",
    "data_Test[[\"user_id\", \"artist_id\", \"total-plays\"]].to_csv(\n",
    "    path.join(data_dir,test_file_name),\n",
    "    sep=\"\\t\",\n",
    "    header=False,\n",
    "    index=False\n",
    ")\n",
    "train_file_name = \"lastfm.train.0\"\n",
    "data_Train[[\"user_id\", \"artist_id\", \"total-plays\"]].to_csv(\n",
    "    path.join(data_dir,train_file_name),\n",
    "    sep=\"\\t\",\n",
    "    header=False,\n",
    "    index=False\n",
    ")"
   ]
  },
  {
   "cell_type": "markdown",
   "metadata": {},
   "source": [
    "Конвертим в разряженную матрицу"
   ]
  },
  {
   "cell_type": "code",
   "execution_count": 10,
   "metadata": {
    "collapsed": true
   },
   "outputs": [],
   "source": [
    "from scipy.sparse import csr_matrix\n",
    "\n",
    "def sparse_info(sparse_matrix: csr_matrix) -> None:\n",
    "    print(\"Размерности матрицы: {}\".format(sparse_matrix.shape))\n",
    "    print(\"Ненулевых элементов в матрице: {}\".format(sparse_matrix.nnz))\n",
    "    print(\"Доля ненулевых элементов: {}\"\n",
    "          .format(sparse_matrix.nnz / sparse_matrix.shape[0] / sparse_matrix.shape[1])\n",
    "    )\n",
    "    print(\"Среднее значение ненулевых элементов: {}\".format(sparse_matrix.data.mean()))\n",
    "    print(\"Максимальное значение ненулевых элементов: {}\".format(sparse_matrix.data.max()))\n",
    "    print(\"Минимальное значение ненулевых элементов: {}\".format(sparse_matrix.data.min()))"
   ]
  },
  {
   "cell_type": "code",
   "execution_count": 11,
   "metadata": {},
   "outputs": [
    {
     "name": "stdout",
     "output_type": "stream",
     "text": [
      "Размерности матрицы: (66799, 20466)\n",
      "Ненулевых элементов в матрице: 199998\n",
      "Доля ненулевых элементов: 0.00014629272240249542\n",
      "Среднее значение ненулевых элементов: 219.34535217285156\n",
      "Максимальное значение ненулевых элементов: 134993.0\n",
      "Минимальное значение ненулевых элементов: 1.0\n"
     ]
    }
   ],
   "source": [
    "from scipy.sparse import coo_matrix\n",
    "plays_knn=coo_matrix((data_Train['total-plays'].astype(np.float32),(data_Train['artist_id'], data_Train['user_id'])))\n",
    "sparse_info(plays_knn.tocsr())"
   ]
  },
  {
   "cell_type": "code",
   "execution_count": 12,
   "metadata": {
    "scrolled": true
   },
   "outputs": [
    {
     "name": "stdout",
     "output_type": "stream",
     "text": [
      "Размерности матрицы: (66799, 20466)\n",
      "Ненулевых элементов в матрице: 199998\n",
      "Доля ненулевых элементов: 0.00014629272240249542\n",
      "Среднее значение ненулевых элементов: 219.34536845368453\n",
      "Максимальное значение ненулевых элементов: 134993.0\n",
      "Минимальное значение ненулевых элементов: 1.0\n"
     ]
    }
   ],
   "source": [
    "from scipy.sparse import coo_matrix\n",
    "plays_als=coo_matrix((data_Train['total-plays'].astype(np.double),(data_Train['artist_id'], data_Train['user_id'])))\n",
    "sparse_info(plays_als.tocsr())"
   ]
  },
  {
   "cell_type": "markdown",
   "metadata": {},
   "source": [
    "Берём ALS и KNN"
   ]
  },
  {
   "cell_type": "code",
   "execution_count": 13,
   "metadata": {
    "collapsed": true
   },
   "outputs": [],
   "source": [
    "from implicit.nearest_neighbours import CosineRecommender\n",
    "from implicit.als import AlternatingLeastSquares"
   ]
  },
  {
   "cell_type": "code",
   "execution_count": 14,
   "metadata": {
    "scrolled": true
   },
   "outputs": [
    {
     "name": "stdout",
     "output_type": "stream",
     "text": [
      "Размерности матрицы: (66799, 66799)\n",
      "Ненулевых элементов в матрице: 481101\n",
      "Доля ненулевых элементов: 0.00010781925771473777\n",
      "Среднее значение ненулевых элементов: 0.3207606778610867\n",
      "Максимальное значение ненулевых элементов: 1.0000000585911983\n",
      "Минимальное значение ненулевых элементов: 0.0\n"
     ]
    }
   ],
   "source": [
    "model_knn=CosineRecommender()\n",
    "model_knn.fit(plays_knn)\n",
    "sparse_info(model_knn.similarity)"
   ]
  },
  {
   "cell_type": "code",
   "execution_count": 15,
   "metadata": {
    "scrolled": true
   },
   "outputs": [
    {
     "name": "stdout",
     "output_type": "stream",
     "text": [
      "Wall time: 13 s\n"
     ]
    }
   ],
   "source": [
    "%%time\n",
    "model_als_default=AlternatingLeastSquares()\n",
    "model_als_default.fit(plays_als)"
   ]
  },
  {
   "cell_type": "markdown",
   "metadata": {},
   "source": [
    "После нескольких попыток на меньшем датасете, вырбрал новые параметры для ALS"
   ]
  },
  {
   "cell_type": "code",
   "execution_count": 16,
   "metadata": {},
   "outputs": [
    {
     "name": "stdout",
     "output_type": "stream",
     "text": [
      "Wall time: 42.2 s\n"
     ]
    }
   ],
   "source": [
    "%%time\n",
    "model_als_tune=AlternatingLeastSquares(factors=20,regularization=0.01, iterations=300)\n",
    "model_als_tune.fit(plays_als)"
   ]
  },
  {
   "cell_type": "code",
   "execution_count": 22,
   "metadata": {
    "scrolled": true
   },
   "outputs": [],
   "source": [
    "user_plays = plays_knn.T.tocsr()"
   ]
  },
  {
   "cell_type": "code",
   "execution_count": 25,
   "metadata": {},
   "outputs": [
    {
     "data": {
      "text/plain": [
       "[(20058, 296.81502269772722),\n",
       " (14830, 191.90314544230824),\n",
       " (64624, 170.37926258945791),\n",
       " (48303, 145.75837560737025),\n",
       " (4141, 135.68269031543178),\n",
       " (63824, 112.24380670497186),\n",
       " (7015, 112.24380670497186),\n",
       " (20027, 109.05364214562719),\n",
       " (15452, 108.4191248822043),\n",
       " (42028, 104.2125582274963)]"
      ]
     },
     "execution_count": 25,
     "metadata": {},
     "output_type": "execute_result"
    }
   ],
   "source": [
    "model_knn.recommend('1533', user_plays)"
   ]
  },
  {
   "cell_type": "code",
   "execution_count": 23,
   "metadata": {},
   "outputs": [
    {
     "data": {
      "text/plain": [
       "array([15568,  1615, 15787, ...,    59,  9814, 18894], dtype=int64)"
      ]
     },
     "execution_count": 23,
     "metadata": {},
     "output_type": "execute_result"
    }
   ],
   "source": [
    "data_Test[\"user_id\"].unique()"
   ]
  },
  {
   "cell_type": "code",
   "execution_count": 37,
   "metadata": {},
   "outputs": [
    {
     "name": "stdout",
     "output_type": "stream",
     "text": [
      "CPU times: user 3min 52s, sys: 779 ms, total: 3min 53s\n",
      "Wall time: 3min 53s\n"
     ]
    }
   ],
   "source": [
    "%%time\n",
    "user_plays = plays_knn.T.tocsr()\n",
    "with open((data_dir+\"/knn/lastfm.test.0.recs.tsv\"), \"w\") as output_file:\n",
    "    for user_id in data_Test[\"user_id\"].unique():\n",
    "        for artist_id, score in model_knn.recommend(user_id, user_plays):\n",
    "                output_file.write(\"%s\\t%s\\t%s\\n\" % (user_id, artist_id, score))"
   ]
  },
  {
   "cell_type": "code",
   "execution_count": 38,
   "metadata": {},
   "outputs": [
    {
     "name": "stdout",
     "output_type": "stream",
     "text": [
      "CPU times: user 3h 28min 59s, sys: 46 s, total: 3h 29min 45s\n",
      "Wall time: 52min 28s\n"
     ]
    }
   ],
   "source": [
    "%%time\n",
    "user_plays = plays_als.T.tocsr()\n",
    "with open((data_dir+\"/als_default/lastfm.test.0.recs.tsv\"), \"w\") as output_file:\n",
    "    for user_id in data_Test[\"user_id\"].unique():\n",
    "        for artist_id, score in model_als_default.recommend(user_id, user_plays):\n",
    "                output_file.write(\"%s\\t%s\\t%s\\n\" % (user_id, artist_id, score))"
   ]
  },
  {
   "cell_type": "code",
   "execution_count": 39,
   "metadata": {
    "scrolled": false
   },
   "outputs": [
    {
     "name": "stdout",
     "output_type": "stream",
     "text": [
      "CPU times: user 1h 27min 46s, sys: 30.7 s, total: 1h 28min 17s\n",
      "Wall time: 22min 5s\n"
     ]
    }
   ],
   "source": [
    "%%time\n",
    "user_plays = plays_als.T.tocsr()\n",
    "with open((data_dir+\"/als_tune/lastfm.test.0.recs.tsv\"), \"w\") as output_file:\n",
    "    for user_id in data_Test[\"user_id\"].unique():\n",
    "        for artist_id, score in model_als_tune.recommend(user_id, user_plays):\n",
    "                output_file.write(\"%s\\t%s\\t%s\\n\" % (user_id, artist_id, score))"
   ]
  },
  {
   "cell_type": "markdown",
   "metadata": {},
   "source": [
    "### KNN"
   ]
  },
  {
   "cell_type": "code",
   "execution_count": 40,
   "metadata": {},
   "outputs": [
    {
     "name": "stdout",
     "output_type": "stream",
     "text": [
      "[2017-11-30 13:39:01,703] INFO: processing /home/spynal/DATA/lastfm-dataset-360K/lastfm.test.0...\n",
      "None\n",
      "mrr            0.0528 +/- 0.0000\n",
      "prec@5         0.0215 +/- 0.0000\n",
      "prec@10        0.0227 +/- 0.0000\n",
      "prec@15        0.0151 +/- 0.0000\n",
      "prec@20        0.0114 +/- 0.0000\n"
     ]
    }
   ],
   "source": [
    "!mrec_evaluate --input_format tsv --test_input_format tsv --train $DATA_DIR/lastfm.test.0 --recsdir $DATA_DIR/knn"
   ]
  },
  {
   "cell_type": "markdown",
   "metadata": {},
   "source": [
    "### ALS\n",
    "по умолчанию"
   ]
  },
  {
   "cell_type": "code",
   "execution_count": 41,
   "metadata": {
    "scrolled": true
   },
   "outputs": [
    {
     "name": "stdout",
     "output_type": "stream",
     "text": [
      "[2017-11-30 13:42:03,201] INFO: processing /home/spynal/DATA/lastfm-dataset-360K/lastfm.test.0...\n",
      "None\n",
      "mrr            0.5834 +/- 0.0000\n",
      "prec@5         0.3469 +/- 0.0000\n",
      "prec@10        0.3025 +/- 0.0000\n",
      "prec@15        0.2017 +/- 0.0000\n",
      "prec@20        0.1513 +/- 0.0000\n"
     ]
    }
   ],
   "source": [
    "!mrec_evaluate --input_format tsv --test_input_format tsv --train $DATA_DIR/lastfm.test.0 --recsdir $DATA_DIR/als_default"
   ]
  },
  {
   "cell_type": "markdown",
   "metadata": {},
   "source": [
    "### ALS\n",
    "С подобранными параметрами"
   ]
  },
  {
   "cell_type": "code",
   "execution_count": 42,
   "metadata": {},
   "outputs": [
    {
     "name": "stdout",
     "output_type": "stream",
     "text": [
      "[2017-11-30 13:45:03,164] INFO: processing /home/spynal/DATA/lastfm-dataset-360K/lastfm.test.0...\n",
      "None\n",
      "mrr            0.6258 +/- 0.0000\n",
      "prec@5         0.3750 +/- 0.0000\n",
      "prec@10        0.3229 +/- 0.0000\n",
      "prec@15        0.2153 +/- 0.0000\n",
      "prec@20        0.1614 +/- 0.0000\n"
     ]
    }
   ],
   "source": [
    "!mrec_evaluate --input_format tsv --test_input_format tsv --train $DATA_DIR/lastfm.test.0 --recsdir $DATA_DIR/als_tune"
   ]
  },
  {
   "cell_type": "code",
   "execution_count": null,
   "metadata": {
    "collapsed": true
   },
   "outputs": [],
   "source": []
  }
 ],
 "metadata": {
  "kernelspec": {
   "display_name": "Python 3",
   "language": "python",
   "name": "python3"
  },
  "language_info": {
   "codemirror_mode": {
    "name": "ipython",
    "version": 3
   },
   "file_extension": ".py",
   "mimetype": "text/x-python",
   "name": "python",
   "nbconvert_exporter": "python",
   "pygments_lexer": "ipython3",
   "version": "3.6.2"
  }
 },
 "nbformat": 4,
 "nbformat_minor": 2
}
