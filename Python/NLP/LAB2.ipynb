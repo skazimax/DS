{
 "cells": [
  {
   "cell_type": "markdown",
   "metadata": {},
   "source": [
    "### Обработка данных"
   ]
  },
  {
   "cell_type": "code",
   "execution_count": 1,
   "metadata": {
    "collapsed": true
   },
   "outputs": [],
   "source": [
    "import pandas as pd\n",
    "import random\n",
    "from sklearn.model_selection import train_test_split\n",
    "import re\n",
    "from sklearn.metrics import f1_score, accuracy_score\n",
    "import numpy as np"
   ]
  },
  {
   "cell_type": "code",
   "execution_count": 2,
   "metadata": {
    "collapsed": true
   },
   "outputs": [],
   "source": [
    "data_fem=pd.read_csv('c:/Users/mrasskazov/Desktop/DS/Data/NLP/female.txt', header=None, names=['names'])\n",
    "data_male=pd.read_csv('c:/Users/mrasskazov/Desktop/DS/Data/NLP/male.txt',header=None, names=['names'])"
   ]
  },
  {
   "cell_type": "code",
   "execution_count": 10,
   "metadata": {
    "collapsed": true
   },
   "outputs": [],
   "source": [
    "data_merge=data_fem.merge(data_male, left_on=data_fem.names,right_on=data_male.names, how='inner')"
   ]
  },
  {
   "cell_type": "code",
   "execution_count": 4,
   "metadata": {
    "collapsed": true
   },
   "outputs": [],
   "source": [
    "data_fem_fil=data_fem[~data_fem.names.isin(data_merge.names_x.values.tolist())]\n",
    "data_male_fil=data_male[~data_male.names.isin(data_merge.names_x.values.tolist())]"
   ]
  },
  {
   "cell_type": "code",
   "execution_count": 24,
   "metadata": {},
   "outputs": [
    {
     "name": "stderr",
     "output_type": "stream",
     "text": [
      "C:\\Users\\mrasskazov\\AppData\\Local\\Continuum\\Anaconda3\\lib\\site-packages\\ipykernel_launcher.py:1: SettingWithCopyWarning: \n",
      "A value is trying to be set on a copy of a slice from a DataFrame.\n",
      "Try using .loc[row_indexer,col_indexer] = value instead\n",
      "\n",
      "See the caveats in the documentation: http://pandas.pydata.org/pandas-docs/stable/indexing.html#indexing-view-versus-copy\n",
      "  \"\"\"Entry point for launching an IPython kernel.\n",
      "C:\\Users\\mrasskazov\\AppData\\Local\\Continuum\\Anaconda3\\lib\\site-packages\\ipykernel_launcher.py:2: SettingWithCopyWarning: \n",
      "A value is trying to be set on a copy of a slice from a DataFrame.\n",
      "Try using .loc[row_indexer,col_indexer] = value instead\n",
      "\n",
      "See the caveats in the documentation: http://pandas.pydata.org/pandas-docs/stable/indexing.html#indexing-view-versus-copy\n",
      "  \n",
      "C:\\Users\\mrasskazov\\AppData\\Local\\Continuum\\Anaconda3\\lib\\site-packages\\ipykernel_launcher.py:3: SettingWithCopyWarning: \n",
      "A value is trying to be set on a copy of a slice from a DataFrame.\n",
      "Try using .loc[row_indexer,col_indexer] = value instead\n",
      "\n",
      "See the caveats in the documentation: http://pandas.pydata.org/pandas-docs/stable/indexing.html#indexing-view-versus-copy\n",
      "  This is separate from the ipykernel package so we can avoid doing imports until\n",
      "C:\\Users\\mrasskazov\\AppData\\Local\\Continuum\\Anaconda3\\lib\\site-packages\\ipykernel_launcher.py:4: SettingWithCopyWarning: \n",
      "A value is trying to be set on a copy of a slice from a DataFrame.\n",
      "Try using .loc[row_indexer,col_indexer] = value instead\n",
      "\n",
      "See the caveats in the documentation: http://pandas.pydata.org/pandas-docs/stable/indexing.html#indexing-view-versus-copy\n",
      "  after removing the cwd from sys.path.\n"
     ]
    }
   ],
   "source": [
    "data_fem_fil['is_male']=0\n",
    "data_male_fil['is_male']=1\n",
    "data_fem_fil['names']=data_fem_fil.names.str.lower()\n",
    "data_male_fil['names']=data_male_fil.names.str.lower()"
   ]
  },
  {
   "cell_type": "code",
   "execution_count": 25,
   "metadata": {
    "collapsed": true
   },
   "outputs": [],
   "source": [
    "data_fem_fil_samp=data_fem_fil.sample(len(data_male_fil))"
   ]
  },
  {
   "cell_type": "code",
   "execution_count": 26,
   "metadata": {
    "collapsed": true
   },
   "outputs": [],
   "source": [
    "df1=pd.concat([data_fem_fil_samp,data_male_fil], ignore_index=True)"
   ]
  },
  {
   "cell_type": "code",
   "execution_count": 27,
   "metadata": {},
   "outputs": [],
   "source": [
    "X_train, X_test, y_train, y_test=train_test_split(df1.names,df1.is_male, random_state=6666, test_size=0.2 )"
   ]
  },
  {
   "cell_type": "markdown",
   "metadata": {},
   "source": [
    "### Классификация\n",
    "Лучший результат дала ЛогРегрессия - 0.88, с разбиением по 2-3 нграмма и char_wb аналайзером"
   ]
  },
  {
   "cell_type": "code",
   "execution_count": 34,
   "metadata": {
    "collapsed": true
   },
   "outputs": [],
   "source": [
    "from sklearn.naive_bayes import MultinomialNB\n",
    "from sklearn.linear_model import LogisticRegression\n",
    "from sklearn.pipeline import Pipeline\n",
    "from sklearn.feature_extraction.text import CountVectorizer\n",
    "from sklearn.model_selection import GridSearchCV"
   ]
  },
  {
   "cell_type": "code",
   "execution_count": 35,
   "metadata": {},
   "outputs": [],
   "source": [
    "Classifier=[LogisticRegression(),MultinomialNB()]"
   ]
  },
  {
   "cell_type": "code",
   "execution_count": 36,
   "metadata": {
    "collapsed": true
   },
   "outputs": [],
   "source": [
    "ngrams=[2,3,4]"
   ]
  },
  {
   "cell_type": "code",
   "execution_count": 37,
   "metadata": {},
   "outputs": [
    {
     "name": "stdout",
     "output_type": "stream",
     "text": [
      "LogisticRegression (ngrams=2) :\n",
      "F1-measure:   0.85\n",
      "Accuracy:   0.84\n",
      "\n",
      "LogisticRegression (ngrams=3) :\n",
      "F1-measure:   0.88\n",
      "Accuracy:   0.87\n",
      "\n",
      "LogisticRegression (ngrams=4) :\n",
      "F1-measure:   0.89\n",
      "Accuracy:   0.88\n",
      "\n",
      "MultinomialNB (ngrams=2) :\n",
      "F1-measure:   0.81\n",
      "Accuracy:   0.81\n",
      "\n",
      "MultinomialNB (ngrams=3) :\n",
      "F1-measure:   0.85\n",
      "Accuracy:   0.85\n",
      "\n",
      "MultinomialNB (ngrams=4) :\n",
      "F1-measure:   0.85\n",
      "Accuracy:   0.84\n",
      "\n"
     ]
    }
   ],
   "source": [
    "for c in Classifier:\n",
    "    for n in ngrams:\n",
    "        clf = Pipeline([\n",
    "            ('vect', CountVectorizer(ngram_range=(n-1,n), analyzer='char_wb')),\n",
    "            #('tfidf', TfidfTransformer()),\n",
    "            ('clf', c),\n",
    "            \n",
    "        ])\n",
    "        clf.fit(X_train, y_train)\n",
    "        preds=clf.predict(X_test)\n",
    "        print(*re.findall(r'\\w+(?=\\()',str(c)),'(ngrams='+str(n)+')',':')\n",
    "        print(\"F1-measure: {0:6.2f}\".format(f1_score(y_test, preds)))\n",
    "        print(\"Accuracy: {0:6.2f}\\n\".format(accuracy_score(y_test, preds)))"
   ]
  },
  {
   "cell_type": "markdown",
   "metadata": {},
   "source": [
    "### LSTM"
   ]
  },
  {
   "cell_type": "code",
   "execution_count": 94,
   "metadata": {
    "collapsed": true
   },
   "outputs": [],
   "source": [
    "from keras.models import Sequential\n",
    "from keras.layers.core import Dense, Activation, Dropout\n",
    "from keras.layers.recurrent import LSTM"
   ]
  },
  {
   "cell_type": "code",
   "execution_count": 38,
   "metadata": {},
   "outputs": [],
   "source": [
    "all_names_len=len(df1)"
   ]
  },
  {
   "cell_type": "code",
   "execution_count": 46,
   "metadata": {},
   "outputs": [],
   "source": [
    "max_len=len(max(data_fem_fil_samp.names, key=len)+max(data_male_fil.names, key=len))"
   ]
  },
  {
   "cell_type": "code",
   "execution_count": 61,
   "metadata": {},
   "outputs": [],
   "source": [
    "chars=set(''.join(df1.names))"
   ]
  },
  {
   "cell_type": "code",
   "execution_count": 85,
   "metadata": {},
   "outputs": [],
   "source": [
    "char_ind=dict((c, i) for i, c in enumerate(chars)) \n",
    "ind_char=((i, c) for i, c in enumerate(chars)) "
   ]
  },
  {
   "cell_type": "code",
   "execution_count": 90,
   "metadata": {},
   "outputs": [],
   "source": [
    "X=np.zeros((all_names_len,max_len, len(chars)), dtype=np.bool)\n",
    "y=np.zeros((all_names_len,2), dtype=np.bool)"
   ]
  },
  {
   "cell_type": "code",
   "execution_count": 92,
   "metadata": {},
   "outputs": [],
   "source": [
    "for i, name in enumerate(data_male_fil.names):\n",
    "    for t, char in enumerate(name):\n",
    "        X[i, t, char_ind[char]]=1\n",
    "    y[i,0] = 1"
   ]
  },
  {
   "cell_type": "code",
   "execution_count": 93,
   "metadata": {
    "collapsed": true
   },
   "outputs": [],
   "source": [
    "for i, name in enumerate(data_fem_fil_samp.names):\n",
    "    for t, char in enumerate(name):\n",
    "        X[i + len(data_male_fil.names), t, char_ind[char]]=1\n",
    "    y[i+len(data_male_fil.names), 1] = 1"
   ]
  },
  {
   "cell_type": "code",
   "execution_count": 95,
   "metadata": {
    "collapsed": true
   },
   "outputs": [],
   "source": [
    "model=Sequential()\n",
    "model.add(LSTM(512, return_sequences=True, input_shape=(max_len, len(chars))))\n",
    "model.add(Dropout(0.2))\n",
    "model.add(LSTM(512, return_sequences=False))\n",
    "model.add(Dropout(0.2))\n",
    "model.add(Dense(2))\n",
    "model.add(Activation('softmax'))"
   ]
  },
  {
   "cell_type": "code",
   "execution_count": 96,
   "metadata": {
    "collapsed": true
   },
   "outputs": [],
   "source": [
    "model.compile(loss='binary_crossentropy',optimizer='rmsprop')"
   ]
  },
  {
   "cell_type": "code",
   "execution_count": null,
   "metadata": {},
   "outputs": [
    {
     "name": "stdout",
     "output_type": "stream",
     "text": [
      "Epoch 1/10\n",
      "5156/5156 [==============================] - 154s 30ms/step - loss: 0.7650\n",
      "Epoch 2/10\n",
      "5156/5156 [==============================] - 154s 30ms/step - loss: 0.7027\n",
      "Epoch 3/10\n",
      "3968/5156 [======================>.......] - ETA: 35s - loss: 0.7207"
     ]
    }
   ],
   "source": [
    "model.fit(X,y, batch_size=16, epochs=10)"
   ]
  },
  {
   "cell_type": "code",
   "execution_count": null,
   "metadata": {
    "collapsed": true
   },
   "outputs": [],
   "source": [
    "model.evaluate(X,y, batch_size=16)"
   ]
  }
 ],
 "metadata": {
  "kernelspec": {
   "display_name": "Python 3",
   "language": "python",
   "name": "python3"
  },
  "language_info": {
   "codemirror_mode": {
    "name": "ipython",
    "version": 3
   },
   "file_extension": ".py",
   "mimetype": "text/x-python",
   "name": "python",
   "nbconvert_exporter": "python",
   "pygments_lexer": "ipython3",
   "version": "3.6.1"
  }
 },
 "nbformat": 4,
 "nbformat_minor": 2
}
