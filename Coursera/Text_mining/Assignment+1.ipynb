{
 "cells": [
  {
   "cell_type": "markdown",
   "metadata": {},
   "source": [
    "---\n",
    "\n",
    "_You are currently looking at **version 1.1** of this notebook. To download notebooks and datafiles, as well as get help on Jupyter notebooks in the Coursera platform, visit the [Jupyter Notebook FAQ](https://www.coursera.org/learn/python-text-mining/resources/d9pwm) course resource._\n",
    "\n",
    "---"
   ]
  },
  {
   "cell_type": "markdown",
   "metadata": {},
   "source": [
    "# Assignment 1\n",
    "\n",
    "In this assignment, you'll be working with messy medical data and using regex to extract relevant infromation from the data. \n",
    "\n",
    "Each line of the `dates.txt` file corresponds to a medical note. Each note has a date that needs to be extracted, but each date is encoded in one of many formats.\n",
    "\n",
    "The goal of this assignment is to correctly identify all of the different date variants encoded in this dataset and to properly normalize and sort the dates. \n",
    "\n",
    "Here is a list of some of the variants you might encounter in this dataset:\n",
    "* 04/20/2009; 04/20/09; 4/20/09; 4/3/09\n",
    "* Mar-20-2009; Mar 20, 2009; March 20, 2009;  Mar. 20, 2009; Mar 20 2009;\n",
    "* 20 Mar 2009; 20 March 2009; 20 Mar. 2009; 20 March, 2009\n",
    "* Mar 20th, 2009; Mar 21st, 2009; Mar 22nd, 2009\n",
    "* Feb 2009; Sep 2009; Oct 2010\n",
    "* 6/2008; 12/2009\n",
    "* 2009; 2010\n",
    "\n",
    "Once you have extracted these date patterns from the text, the next step is to sort them in ascending chronological order accoring to the following rules:\n",
    "* Assume all dates in xx/xx/xx format are mm/dd/yy\n",
    "* Assume all dates where year is encoded in only two digits are years from the 1900's (e.g. 1/5/89 is January 5th, 1989)\n",
    "* If the day is missing (e.g. 9/2009), assume it is the first day of the month (e.g. September 1, 2009).\n",
    "* If the month is missing (e.g. 2010), assume it is the first of January of that year (e.g. January 1, 2010).\n",
    "* Watch out for potential typos as this is a raw, real-life derived dataset.\n",
    "\n",
    "With these rules in mind, find the correct date in each note and return a pandas Series in chronological order of the original Series' indices.\n",
    "\n",
    "For example if the original series was this:\n",
    "\n",
    "    0    1999\n",
    "    1    2010\n",
    "    2    1978\n",
    "    3    2015\n",
    "    4    1985\n",
    "\n",
    "Your function should return this:\n",
    "\n",
    "    0    2\n",
    "    1    4\n",
    "    2    0\n",
    "    3    1\n",
    "    4    3\n",
    "\n",
    "Your score will be calculated using [Kendall's tau](https://en.wikipedia.org/wiki/Kendall_rank_correlation_coefficient), a correlation measure for ordinal data.\n",
    "\n",
    "*This function should return a Series of length 500 and dtype int.*"
   ]
  },
  {
   "cell_type": "code",
   "execution_count": 4,
   "metadata": {},
   "outputs": [
    {
     "data": {
      "text/plain": [
       "0         03/25/93 Total time of visit (in minutes):\\n\n",
       "1                       6/18/85 Primary Care Doctor:\\n\n",
       "2    sshe plans to move as of 7/8/71 In-Home Servic...\n",
       "3                7 on 9/27/75 Audit C Score Current:\\n\n",
       "4    2/6/96 sleep studyPain Treatment Pain Level (N...\n",
       "5                    .Per 7/06/79 Movement D/O note:\\n\n",
       "6    4, 5/18/78 Patient's thoughts about current su...\n",
       "7    10/24/89 CPT Code: 90801 - Psychiatric Diagnos...\n",
       "8                         3/7/86 SOS-10 Total Score:\\n\n",
       "9             (4/10/71)Score-1Audit C Score Current:\\n\n",
       "dtype: object"
      ]
     },
     "execution_count": 4,
     "metadata": {},
     "output_type": "execute_result"
    }
   ],
   "source": [
    "import pandas as pd\n",
    "import re\n",
    "doc = []\n",
    "with open('dates.txt') as file:\n",
    "    for line in file:\n",
    "        doc.append(line)\n",
    "\n",
    "df = pd.Series(doc)\n",
    "df.head(10)"
   ]
  },
  {
   "cell_type": "code",
   "execution_count": 2,
   "metadata": {},
   "outputs": [],
   "source": [
    "def date_sorter():\n",
    "    \n",
    "    doc = []\n",
    "    with open('dates.txt') as file:\n",
    "        for line in file:\n",
    "            doc.append(line)\n",
    "\n",
    "    df = pd.Series(doc)\n",
    "    \n",
    "    df = df.str.lower().copy()\n",
    "    \n",
    "    year = df.str.extract('(?P<y1>[12]\\d{3})|(?:\\d{1,2}[\\\\\\/-]\\d{1,2}[\\\\\\/-](?P<y2>\\d{2}|\\d{4})\\D)', expand = True)\n",
    "    \n",
    "    day = df.str.extract('(?:[\\/-](?P<d1>\\d{1,2})[\\/-])|(?:(?:(?P<d2>\\d{1,2})[\\s,])?(?:jan|feb|mar|apr|may|jun|jul|aug|sep|nov|oct|dec)[a-z\\.]*[\\s](?:(?P<d3>\\d{1,2})[\\s,])?)', expand = True)\n",
    "    \n",
    "    month = df.str.extract('(?:(?:^|[\\s\\(0])(?P<m1>\\d{1,2})[\\\\\\/-]\\d{1,4}[\\\\\\/\\-])|(?:(?P<m3>\\d{1,2})[\\\\\\/-]\\d{4})|(?:(?P<m2>jan|feb|mar|apr|may|jun|jul|aug|sep|nov|oct|dec)[a-z.,]*[\\s](?:\\d{2}[,\\s]|\\d{4}))', expand = True)\n",
    "    \n",
    "    df1 = pd.concat([df,year,month,day], axis = 1)\n",
    "    \n",
    "    df1['year'] = df1.y1.combine_first(df1.y2)\n",
    "    df1['month'] = df1.m1.combine_first(df1.m2.combine_first(df1.m3)).fillna(1)\n",
    "    df1['day'] = df1.d1.combine_first(df1.d2.combine_first(df1.d3)).fillna(1)\n",
    "    \n",
    "    df1['date'] = pd.to_datetime(df1.apply(lambda x: str(x.year) + '-' + str(x.month) + '-' + str(x.day), axis = 1), yearfirst=True)\n",
    "     \n",
    "    return df1.sort_values(by='date').reset_index()['index']"
   ]
  },
  {
   "cell_type": "code",
   "execution_count": 7,
   "metadata": {},
   "outputs": [],
   "source": [
    "df = df.str.lower().copy()\n",
    "year = df.str.extract('(?P<y1>[12]\\d{3})|(?:\\d{1,2}[\\\\\\/-]\\d{1,2}[\\\\\\/-](?P<y2>\\d{2}|\\d{4})\\D)', expand = True)\n",
    "day = df.str.extract('(?:[\\/-](?P<d1>\\d{1,2})[\\/-])|(?:(?:(?P<d2>\\d{1,2})[\\s,])?(?:jan|feb|mar|apr|may|jun|jul|aug|sep|nov|oct|dec)[a-z\\.]*[\\s](?:(?P<d3>\\d{1,2})[\\s,])?)', expand = True)\n",
    "month = df.str.extract('(?:(?:^|[\\s\\(0])(?P<m1>\\d{1,2})[\\\\\\/-]\\d{1,4}[\\\\\\/\\-])|(?:(?P<m3>\\d{1,2})[\\\\\\/-]\\d{4})|(?:(?P<m2>jan|feb|mar|apr|may|jun|jul|aug|sep|nov|oct|dec)[a-z.,]*[\\s](?:\\d{2}[,\\s]|\\d{4}))', expand = True)\n",
    "df1 = pd.concat([df,year,month,day], axis = 1)\n",
    "df1['year'] = df1.y1.combine_first(df1.y2)\n",
    "df1['month'] = df1.m1.combine_first(df1.m2.combine_first(df1.m3)).fillna(1)\n",
    "df1['day'] = df1.d1.combine_first(df1.d2.combine_first(df1.d3)).fillna(1)\n",
    "df1['date'] = pd.to_datetime(df1.apply(lambda x: str(x.year) + '-' + str(x.month) + '-' + str(x.day), axis = 1), yearfirst=True)"
   ]
  },
  {
   "cell_type": "code",
   "execution_count": 8,
   "metadata": {},
   "outputs": [],
   "source": [
    "df1.to_excel('export.xlsx')"
   ]
  },
  {
   "cell_type": "code",
   "execution_count": 10,
   "metadata": {},
   "outputs": [],
   "source": [
    "x = ')dilantin (phenytoin) 100 mg capsule take 2 capsule(s) po hs; no change (taking differently), comments: decreased from 290 daily to 260 mg daily due to elevated phenytoin level from 8/9/97'"
   ]
  },
  {
   "cell_type": "code",
   "execution_count": 28,
   "metadata": {},
   "outputs": [
    {
     "data": {
      "text/plain": [
       "['9']"
      ]
     },
     "execution_count": 28,
     "metadata": {},
     "output_type": "execute_result"
    }
   ],
   "source": [
    "re.findall('(?:[\\/-](?P<d1>\\d{1,2})[\\/-])', x)\n"
   ]
  },
  {
   "cell_type": "code",
   "execution_count": 16,
   "metadata": {},
   "outputs": [
    {
     "data": {
      "text/plain": [
       "')dilantin (phenytoin) 100 mg capsule take 2 capsule(s) po hs; no change (taking differently), comments: decreased from 290 daily to 260 mg daily due to elevated phenytoin level from 8/9/97'"
      ]
     },
     "execution_count": 16,
     "metadata": {},
     "output_type": "execute_result"
    }
   ],
   "source": [
    "x."
   ]
  },
  {
   "cell_type": "code",
   "execution_count": 19,
   "metadata": {},
   "outputs": [
    {
     "data": {
      "text/plain": [
       "<function str.find>"
      ]
     },
     "execution_count": 19,
     "metadata": {},
     "output_type": "execute_result"
    }
   ],
   "source": [
    "re.search()"
   ]
  },
  {
   "cell_type": "code",
   "execution_count": null,
   "metadata": {},
   "outputs": [],
   "source": []
  }
 ],
 "metadata": {
  "coursera": {
   "course_slug": "python-text-mining",
   "graded_item_id": "LvcWI",
   "launcher_item_id": "krne9",
   "part_id": "Mkp1I"
  },
  "kernelspec": {
   "display_name": "Python 3",
   "language": "python",
   "name": "python3"
  },
  "language_info": {
   "codemirror_mode": {
    "name": "ipython",
    "version": 3
   },
   "file_extension": ".py",
   "mimetype": "text/x-python",
   "name": "python",
   "nbconvert_exporter": "python",
   "pygments_lexer": "ipython3",
   "version": "3.6.2"
  }
 },
 "nbformat": 4,
 "nbformat_minor": 2
}
