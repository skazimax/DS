{
 "cells": [
  {
   "cell_type": "code",
   "execution_count": 1,
   "metadata": {
    "collapsed": true
   },
   "outputs": [],
   "source": [
    "import pandas as pd\n",
    "import numpy as np"
   ]
  },
  {
   "cell_type": "code",
   "execution_count": 2,
   "metadata": {
    "collapsed": true
   },
   "outputs": [],
   "source": [
    "from matplotlib import pyplot as plt\n",
    "%matplotlib inline\n",
    "import seaborn as sns"
   ]
  },
  {
   "cell_type": "code",
   "execution_count": 3,
   "metadata": {
    "collapsed": true
   },
   "outputs": [],
   "source": [
    "import requests\n",
    "from multiprocessing.dummy import Pool\n",
    "from lxml.html import fromstring\n",
    "\n",
    "def get_page(url):\n",
    "    html = requests.get(url).text\n",
    "    dom = fromstring(html)\n",
    "    dom.make_links_absolute(url)\n",
    "    return dom\n",
    "\n",
    "def get_article_urls(url_date):\n",
    "    pattern = '.b-other_docs__list a'\n",
    "    dom = get_page(url_date)\n",
    "    #print([t.attrib['href'] for t in dom.cssselect(pattern)])\n",
    "    return [t.attrib['href'] for t in dom.cssselect(pattern)]\n",
    "\n",
    "def get_article_text(url):\n",
    "    # todo: if 'video' or 'gallery' ... - return ''\n",
    "    pattern_header = 'h1'\n",
    "    patterns = ['.article_text_wrapper p', '.b-social__layout-mutation p']\n",
    "    \n",
    "    try:\n",
    "        dom = get_page(url)\n",
    "    except:\n",
    "        return None, None\n",
    "    \n",
    "    try:\n",
    "        header = dom.cssselect(pattern_header)[0].text_content().strip()\n",
    "    except:\n",
    "        header = \"\"\n",
    "\n",
    "    try:\n",
    "        css_elements = flatten([dom.cssselect(pattern) for pattern in patterns])\n",
    "        text = \"\\n\\n\".join([t.text_content().strip() for t in css_elements])\n",
    "    except:\n",
    "        text = \"\"\n",
    "\n",
    "    return header, text\n",
    "\n",
    "flatten = lambda l: [item for sublist in l for item in sublist]"
   ]
  },
  {
   "cell_type": "markdown",
   "metadata": {},
   "source": [
    "Мы будем собирать данные за годы правления Путина и Медведева"
   ]
  },
  {
   "cell_type": "code",
   "execution_count": 4,
   "metadata": {
    "collapsed": true
   },
   "outputs": [],
   "source": [
    "from datetime import timedelta, date\n",
    "\n",
    "url_date_template = 'https://www.kommersant.ru/archive/news/{}'\n",
    "url_dates_medved = []\n",
    "\n",
    "def daterange(start_date, end_date):\n",
    "    for n in range(0,int ((end_date - start_date).days),10):\n",
    "        yield start_date + timedelta(n)\n",
    "\n",
    "start_date = date(2008, 5, 7)\n",
    "end_date = date(2012, 5, 7)\n",
    "for single_date in daterange(start_date, end_date):\n",
    "    url_dates_medved.append(url_date_template.format(single_date.strftime(\"%Y-%m-%d\")))"
   ]
  },
  {
   "cell_type": "code",
   "execution_count": 5,
   "metadata": {
    "collapsed": true
   },
   "outputs": [],
   "source": [
    "from datetime import timedelta, date\n",
    "\n",
    "url_date_template = 'https://www.kommersant.ru/archive/news/{}'\n",
    "url_dates_putin = []\n",
    "\n",
    "def daterange(start_date, end_date):\n",
    "    for n in range(0,int ((end_date - start_date).days),10):\n",
    "        yield start_date + timedelta(n)\n",
    "\n",
    "start_date = date(2012, 5, 7)\n",
    "end_date = date(2016, 5, 7)\n",
    "for single_date in daterange(start_date, end_date):\n",
    "    url_dates_putin.append(url_date_template.format(single_date.strftime(\"%Y-%m-%d\")))"
   ]
  },
  {
   "cell_type": "code",
   "execution_count": 6,
   "metadata": {
    "collapsed": true
   },
   "outputs": [],
   "source": [
    "pool = Pool(50)"
   ]
  },
  {
   "cell_type": "code",
   "execution_count": 7,
   "metadata": {},
   "outputs": [
    {
     "name": "stdout",
     "output_type": "stream",
     "text": [
      "Wall time: 5.14 s\n"
     ]
    }
   ],
   "source": [
    "%%time\n",
    "url_articles_medved = pool.map(get_article_urls, url_dates_medved)\n",
    "url_articles_medved = flatten(url_articles_medved)"
   ]
  },
  {
   "cell_type": "code",
   "execution_count": 8,
   "metadata": {},
   "outputs": [
    {
     "name": "stdout",
     "output_type": "stream",
     "text": [
      "Wall time: 4.57 s\n"
     ]
    }
   ],
   "source": [
    "%%time\n",
    "url_articles_putin = pool.map(get_article_urls, url_dates_putin)\n",
    "url_articles_putin = flatten(url_articles_putin)"
   ]
  },
  {
   "cell_type": "code",
   "execution_count": 9,
   "metadata": {},
   "outputs": [
    {
     "data": {
      "text/plain": [
       "4103"
      ]
     },
     "execution_count": 9,
     "metadata": {},
     "output_type": "execute_result"
    }
   ],
   "source": [
    "len(url_articles_medved)"
   ]
  },
  {
   "cell_type": "code",
   "execution_count": 10,
   "metadata": {},
   "outputs": [
    {
     "data": {
      "text/plain": [
       "13429"
      ]
     },
     "execution_count": 10,
     "metadata": {},
     "output_type": "execute_result"
    }
   ],
   "source": [
    "len(url_articles_putin)"
   ]
  },
  {
   "cell_type": "code",
   "execution_count": 11,
   "metadata": {
    "collapsed": true
   },
   "outputs": [],
   "source": [
    "urls=url_articles_putin+url_articles_medved"
   ]
  },
  {
   "cell_type": "code",
   "execution_count": 12,
   "metadata": {
    "collapsed": true
   },
   "outputs": [],
   "source": [
    "df1 = pd.DataFrame({\"url\": url_articles_putin, \"Putin\":1})\n",
    "df2 = pd.DataFrame({\"url\": url_articles_medved, \"Putin\":0})"
   ]
  },
  {
   "cell_type": "code",
   "execution_count": 13,
   "metadata": {
    "collapsed": true
   },
   "outputs": [],
   "source": [
    "df=pd.concat([df1,df2])"
   ]
  },
  {
   "cell_type": "code",
   "execution_count": 14,
   "metadata": {},
   "outputs": [
    {
     "name": "stdout",
     "output_type": "stream",
     "text": [
      "Wall time: 24min 35s\n"
     ]
    }
   ],
   "source": [
    "%%time\n",
    "headers_texts = pool.map(get_article_text, urls)"
   ]
  },
  {
   "cell_type": "code",
   "execution_count": 15,
   "metadata": {
    "collapsed": true
   },
   "outputs": [],
   "source": [
    "pool.close()\n",
    "pool.join()"
   ]
  },
  {
   "cell_type": "code",
   "execution_count": 16,
   "metadata": {
    "collapsed": true
   },
   "outputs": [],
   "source": [
    "df[\"header\"] = [t[0] for t in headers_texts]\n",
    "df[\"text\"] = [t[1] for t in headers_texts]"
   ]
  },
  {
   "cell_type": "code",
   "execution_count": 17,
   "metadata": {
    "collapsed": true
   },
   "outputs": [],
   "source": [
    "df=df[df.header.notnull()]"
   ]
  },
  {
   "cell_type": "code",
   "execution_count": 18,
   "metadata": {
    "collapsed": true
   },
   "outputs": [],
   "source": [
    "df.to_pickle('komm_archive.pkl')"
   ]
  },
  {
   "cell_type": "markdown",
   "metadata": {},
   "source": [
    "Лемматизируем слова"
   ]
  },
  {
   "cell_type": "code",
   "execution_count": 19,
   "metadata": {
    "collapsed": true
   },
   "outputs": [],
   "source": [
    "import pymorphy2\n",
    "from nltk.tokenize import word_tokenize\n",
    "import nltk\n",
    "#nltk.download('punkt')"
   ]
  },
  {
   "cell_type": "code",
   "execution_count": 20,
   "metadata": {
    "collapsed": true
   },
   "outputs": [],
   "source": [
    "class MorphProvider:\n",
    "    def __init__(self):\n",
    "        self.cache = {}\n",
    "        self.morph = pymorphy2.MorphAnalyzer()\n",
    "    \n",
    "    def __call__(self, w):\n",
    "        w = w.lower()\n",
    "        cached = self.cache.get(w)\n",
    "        if cached:\n",
    "            return cached\n",
    "        try:\n",
    "            morphed = self.morph.parse(w)[0].normal_form\n",
    "            self.cache[w] = morphed\n",
    "            return morphed\n",
    "        except:\n",
    "            return None\n",
    "    \n",
    "    def morph_string(self, s):\n",
    "        words = word_tokenize(s)\n",
    "        return \" \".join([self.__call__(w) for w in words])"
   ]
  },
  {
   "cell_type": "code",
   "execution_count": 21,
   "metadata": {
    "collapsed": true
   },
   "outputs": [],
   "source": [
    "morph = MorphProvider()"
   ]
  },
  {
   "cell_type": "code",
   "execution_count": 22,
   "metadata": {
    "collapsed": true
   },
   "outputs": [],
   "source": [
    "from tqdm import tqdm"
   ]
  },
  {
   "cell_type": "code",
   "execution_count": 23,
   "metadata": {},
   "outputs": [
    {
     "name": "stderr",
     "output_type": "stream",
     "text": [
      "100%|███████████████████████████████████| 14563/14563 [00:36<00:00, 401.29it/s]\n"
     ]
    }
   ],
   "source": [
    "df[\"normalized\"] = [morph.morph_string(t) for t in tqdm(df.text)]"
   ]
  },
  {
   "cell_type": "markdown",
   "metadata": {},
   "source": [
    "Убираем цифры"
   ]
  },
  {
   "cell_type": "code",
   "execution_count": 24,
   "metadata": {
    "scrolled": true
   },
   "outputs": [],
   "source": [
    "df[\"normalized_words\"] = df.normalized.apply(lambda x: ' '.join([w if w.isalpha() else 'num' for w in x.split() if w.isalpha() or w.isdigit()]))"
   ]
  },
  {
   "cell_type": "markdown",
   "metadata": {},
   "source": [
    "Векторизуем"
   ]
  },
  {
   "cell_type": "code",
   "execution_count": 25,
   "metadata": {
    "collapsed": true
   },
   "outputs": [],
   "source": [
    "from sklearn.feature_extraction.text import CountVectorizer"
   ]
  },
  {
   "cell_type": "code",
   "execution_count": 26,
   "metadata": {
    "collapsed": true
   },
   "outputs": [],
   "source": [
    "vectorizer = CountVectorizer(max_features=5000)"
   ]
  },
  {
   "cell_type": "code",
   "execution_count": 27,
   "metadata": {
    "scrolled": true
   },
   "outputs": [
    {
     "name": "stdout",
     "output_type": "stream",
     "text": [
      "Wall time: 1.34 s\n"
     ]
    }
   ],
   "source": [
    "%%time\n",
    "X = vectorizer.fit_transform(df.normalized_words).toarray()"
   ]
  },
  {
   "cell_type": "markdown",
   "metadata": {},
   "source": [
    "Предсказываем"
   ]
  },
  {
   "cell_type": "code",
   "execution_count": 28,
   "metadata": {
    "collapsed": true
   },
   "outputs": [],
   "source": [
    "y = df.Putin"
   ]
  },
  {
   "cell_type": "code",
   "execution_count": 29,
   "metadata": {
    "collapsed": true
   },
   "outputs": [],
   "source": [
    "from sklearn.model_selection import train_test_split"
   ]
  },
  {
   "cell_type": "code",
   "execution_count": 30,
   "metadata": {
    "collapsed": true
   },
   "outputs": [],
   "source": [
    "X_train, X_test, y_train, y_test = train_test_split(X, y, random_state=42, test_size=0.2)"
   ]
  },
  {
   "cell_type": "code",
   "execution_count": 31,
   "metadata": {
    "collapsed": true
   },
   "outputs": [],
   "source": [
    "from sklearn.model_selection import GridSearchCV\n",
    "from sklearn.tree import DecisionTreeClassifier"
   ]
  },
  {
   "cell_type": "code",
   "execution_count": 32,
   "metadata": {
    "collapsed": true
   },
   "outputs": [],
   "source": [
    "depths = np.arange(1,10)\n",
    "grid = {'max_depth': depths}#, 'max_features': features_num}\n",
    "gridsearch = GridSearchCV(DecisionTreeClassifier(), grid, scoring='neg_log_loss', cv=5)"
   ]
  },
  {
   "cell_type": "code",
   "execution_count": 33,
   "metadata": {},
   "outputs": [
    {
     "data": {
      "text/plain": [
       "GridSearchCV(cv=5, error_score='raise',\n",
       "       estimator=DecisionTreeClassifier(class_weight=None, criterion='gini', max_depth=None,\n",
       "            max_features=None, max_leaf_nodes=None,\n",
       "            min_impurity_split=1e-07, min_samples_leaf=1,\n",
       "            min_samples_split=2, min_weight_fraction_leaf=0.0,\n",
       "            presort=False, random_state=None, splitter='best'),\n",
       "       fit_params={}, iid=True, n_jobs=1,\n",
       "       param_grid={'max_depth': array([1, 2, 3, 4, 5, 6, 7, 8, 9])},\n",
       "       pre_dispatch='2*n_jobs', refit=True, return_train_score=True,\n",
       "       scoring='neg_log_loss', verbose=0)"
      ]
     },
     "execution_count": 33,
     "metadata": {},
     "output_type": "execute_result"
    }
   ],
   "source": [
    "gridsearch.fit(X_train, y_train)"
   ]
  },
  {
   "cell_type": "code",
   "execution_count": 34,
   "metadata": {},
   "outputs": [
    {
     "name": "stderr",
     "output_type": "stream",
     "text": [
      "C:\\Users\\mrasskazov\\AppData\\Local\\Continuum\\Anaconda3\\lib\\site-packages\\sklearn\\model_selection\\_search.py:667: DeprecationWarning: The grid_scores_ attribute was deprecated in version 0.18 in favor of the more elaborate cv_results_ attribute. The grid_scores_ attribute will not be available from 0.20\n",
      "  DeprecationWarning)\n"
     ]
    },
    {
     "data": {
      "text/plain": [
       "[mean: -0.40091, std: 0.00581, params: {'max_depth': 3},\n",
       " mean: -0.40321, std: 0.03017, params: {'max_depth': 4},\n",
       " mean: -0.41303, std: 0.03366, params: {'max_depth': 5},\n",
       " mean: -0.43027, std: 0.01078, params: {'max_depth': 2},\n",
       " mean: -0.44426, std: 0.03984, params: {'max_depth': 6},\n",
       " mean: -0.46386, std: 0.00260, params: {'max_depth': 1},\n",
       " mean: -0.48593, std: 0.05413, params: {'max_depth': 7},\n",
       " mean: -0.57906, std: 0.07664, params: {'max_depth': 8},\n",
       " mean: -0.69046, std: 0.06010, params: {'max_depth': 9}]"
      ]
     },
     "execution_count": 34,
     "metadata": {},
     "output_type": "execute_result"
    }
   ],
   "source": [
    "sorted(gridsearch.grid_scores_, key = lambda x: -x.mean_validation_score)"
   ]
  },
  {
   "cell_type": "code",
   "execution_count": 35,
   "metadata": {},
   "outputs": [
    {
     "name": "stderr",
     "output_type": "stream",
     "text": [
      "C:\\Users\\mrasskazov\\AppData\\Local\\Continuum\\Anaconda3\\lib\\site-packages\\sklearn\\model_selection\\_search.py:667: DeprecationWarning: The grid_scores_ attribute was deprecated in version 0.18 in favor of the more elaborate cv_results_ attribute. The grid_scores_ attribute will not be available from 0.20\n",
      "  DeprecationWarning)\n"
     ]
    },
    {
     "data": {
      "text/plain": [
       "<matplotlib.collections.PathCollection at 0x49bd438>"
      ]
     },
     "execution_count": 35,
     "metadata": {},
     "output_type": "execute_result"
    },
    {
     "data": {
      "image/png": "[encoded data removed]",
      "text/plain": [
       "<matplotlib.figure.Figure at 0x15e769b0>"
      ]
     },
     "metadata": {},
     "output_type": "display_data"
    }
   ],
   "source": [
    "scores = [-x.mean_validation_score for x in gridsearch.grid_scores_]\n",
    "plt.plot(depths, scores)\n",
    "plt.scatter(depths, scores)\n",
    "best_point = np.argmin(scores)\n",
    "plt.scatter(depths[best_point], scores[best_point], c='g', s=100)"
   ]
  },
  {
   "cell_type": "code",
   "execution_count": 44,
   "metadata": {
    "collapsed": true
   },
   "outputs": [],
   "source": [
    "clf_final = DecisionTreeClassifier(max_depth=5)"
   ]
  },
  {
   "cell_type": "code",
   "execution_count": 45,
   "metadata": {},
   "outputs": [
    {
     "data": {
      "text/plain": [
       "DecisionTreeClassifier(class_weight=None, criterion='gini', max_depth=5,\n",
       "            max_features=None, max_leaf_nodes=None,\n",
       "            min_impurity_split=1e-07, min_samples_leaf=1,\n",
       "            min_samples_split=2, min_weight_fraction_leaf=0.0,\n",
       "            presort=False, random_state=None, splitter='best')"
      ]
     },
     "execution_count": 45,
     "metadata": {},
     "output_type": "execute_result"
    }
   ],
   "source": [
    "clf_final.fit(X_train, y_train)"
   ]
  },
  {
   "cell_type": "code",
   "execution_count": 46,
   "metadata": {
    "collapsed": true
   },
   "outputs": [],
   "source": [
    "y_pred_proba = clf_final.predict_proba(X_test)\n",
    "y_pred = clf_final.predict(X_test)"
   ]
  },
  {
   "cell_type": "markdown",
   "metadata": {},
   "source": [
    "Оцениваем"
   ]
  },
  {
   "cell_type": "code",
   "execution_count": 47,
   "metadata": {
    "collapsed": true
   },
   "outputs": [],
   "source": [
    "from sklearn.metrics import accuracy_score\n",
    "from sklearn.metrics import roc_auc_score"
   ]
  },
  {
   "cell_type": "code",
   "execution_count": 48,
   "metadata": {},
   "outputs": [
    {
     "data": {
      "text/plain": [
       "0.80775832475111564"
      ]
     },
     "execution_count": 48,
     "metadata": {},
     "output_type": "execute_result"
    }
   ],
   "source": [
    "accuracy_score(y_test, y_pred)"
   ]
  },
  {
   "cell_type": "code",
   "execution_count": 49,
   "metadata": {
    "scrolled": true
   },
   "outputs": [
    {
     "data": {
      "text/plain": [
       "0.68551283836993149"
      ]
     },
     "execution_count": 49,
     "metadata": {},
     "output_type": "execute_result"
    }
   ],
   "source": [
    "roc_auc_score(y_test,y_pred)"
   ]
  },
  {
   "cell_type": "markdown",
   "metadata": {},
   "source": [
    "Строим дерево"
   ]
  },
  {
   "cell_type": "code",
   "execution_count": 50,
   "metadata": {
    "collapsed": true
   },
   "outputs": [],
   "source": [
    "from sklearn.tree import export_graphviz\n",
    "\n",
    "def get_tree_dot_view(clf, feature_names=None, class_names=None):\n",
    "    print(export_graphviz(clf, out_file=None, filled=True, feature_names=feature_names, class_names=class_names))"
   ]
  },
  {
   "cell_type": "code",
   "execution_count": 51,
   "metadata": {},
   "outputs": [
    {
     "name": "stdout",
     "output_type": "stream",
     "text": [
      "digraph Tree {\n",
      "node [shape=box, style=\"filled\", color=\"black\"] ;\n",
      "0 [label=\"читать <= 0.5\\ngini = 0.3683\\nsamples = 11650\\nvalue = [2835, 8815]\\nclass = medvedev\", fillcolor=\"#399de5ad\"] ;\n",
      "1 [label=\"риа <= 0.5\\ngini = 0.4472\\nsamples = 8380\\nvalue = [2829, 5551]\\nclass = medvedev\", fillcolor=\"#399de57d\"] ;\n",
      "0 -> 1 [labeldistance=2.5, labelangle=45, headlabel=\"True\"] ;\n",
      "2 [label=\"интерфакс <= 0.5\\ngini = 0.3286\\nsamples = 4792\\nvalue = [993, 3799]\\nclass = medvedev\", fillcolor=\"#399de5bc\"] ;\n",
      "1 -> 2 ;\n",
      "3 [label=\"num <= 0.5\\ngini = 0.3767\\nsamples = 3922\\nvalue = [987, 2935]\\nclass = medvedev\", fillcolor=\"#399de5a9\"] ;\n",
      "2 -> 3 ;\n",
      "4 [label=\"область <= 3.5\\ngini = 0.1352\\nsamples = 809\\nvalue = [59, 750]\\nclass = medvedev\", fillcolor=\"#399de5eb\"] ;\n",
      "3 -> 4 ;\n",
      "5 [label=\"gini = 0.1293\\nsamples = 806\\nvalue = [56, 750]\\nclass = medvedev\", fillcolor=\"#399de5ec\"] ;\n",
      "4 -> 5 ;\n",
      "6 [label=\"gini = 0.0\\nsamples = 3\\nvalue = [3, 0]\\nclass = putin\", fillcolor=\"#e58139ff\"] ;\n",
      "4 -> 6 ;\n",
      "7 [label=\"тасс <= 0.5\\ngini = 0.4185\\nsamples = 3113\\nvalue = [928, 2185]\\nclass = medvedev\", fillcolor=\"#399de593\"] ;\n",
      "3 -> 7 ;\n",
      "8 [label=\"gini = 0.4397\\nsamples = 2844\\nvalue = [928, 1916]\\nclass = medvedev\", fillcolor=\"#399de583\"] ;\n",
      "7 -> 8 ;\n",
      "9 [label=\"gini = 0.0\\nsamples = 269\\nvalue = [0, 269]\\nclass = medvedev\", fillcolor=\"#399de5ff\"] ;\n",
      "7 -> 9 ;\n",
      "10 [label=\"процентный <= 0.5\\ngini = 0.0137\\nsamples = 870\\nvalue = [6, 864]\\nclass = medvedev\", fillcolor=\"#399de5fd\"] ;\n",
      "2 -> 10 ;\n",
      "11 [label=\"нулевой <= 0.5\\ngini = 0.0114\\nsamples = 869\\nvalue = [5, 864]\\nclass = medvedev\", fillcolor=\"#399de5fe\"] ;\n",
      "10 -> 11 ;\n",
      "12 [label=\"gini = 0.0092\\nsamples = 868\\nvalue = [4, 864]\\nclass = medvedev\", fillcolor=\"#399de5fe\"] ;\n",
      "11 -> 12 ;\n",
      "13 [label=\"gini = 0.0\\nsamples = 1\\nvalue = [1, 0]\\nclass = putin\", fillcolor=\"#e58139ff\"] ;\n",
      "11 -> 13 ;\n",
      "14 [label=\"gini = 0.0\\nsamples = 1\\nvalue = [1, 0]\\nclass = putin\", fillcolor=\"#e58139ff\"] ;\n",
      "10 -> 14 ;\n",
      "15 [label=\"num <= 0.5\\ngini = 0.4997\\nsamples = 3588\\nvalue = [1836, 1752]\\nclass = putin\", fillcolor=\"#e581390c\"] ;\n",
      "1 -> 15 ;\n",
      "16 [label=\"про <= 0.5\\ngini = 0.2618\\nsamples = 368\\nvalue = [57, 311]\\nclass = medvedev\", fillcolor=\"#399de5d0\"] ;\n",
      "15 -> 16 ;\n",
      "17 [label=\"полёт <= 0.5\\ngini = 0.2521\\nsamples = 365\\nvalue = [54, 311]\\nclass = medvedev\", fillcolor=\"#399de5d3\"] ;\n",
      "16 -> 17 ;\n",
      "18 [label=\"gini = 0.2421\\nsamples = 362\\nvalue = [51, 311]\\nclass = medvedev\", fillcolor=\"#399de5d5\"] ;\n",
      "17 -> 18 ;\n",
      "19 [label=\"gini = 0.0\\nsamples = 3\\nvalue = [3, 0]\\nclass = putin\", fillcolor=\"#e58139ff\"] ;\n",
      "17 -> 19 ;\n",
      "20 [label=\"gini = 0.0\\nsamples = 3\\nvalue = [3, 0]\\nclass = putin\", fillcolor=\"#e58139ff\"] ;\n",
      "16 -> 20 ;\n",
      "21 [label=\"ссылка <= 0.5\\ngini = 0.4945\\nsamples = 3220\\nvalue = [1779, 1441]\\nclass = putin\", fillcolor=\"#e5813930\"] ;\n",
      "15 -> 21 ;\n",
      "22 [label=\"сообщать <= 0.5\\ngini = 0.481\\nsamples = 2802\\nvalue = [1674, 1128]\\nclass = putin\", fillcolor=\"#e5813953\"] ;\n",
      "21 -> 22 ;\n",
      "23 [label=\"gini = 0.4569\\nsamples = 2098\\nvalue = [1357, 741]\\nclass = putin\", fillcolor=\"#e5813974\"] ;\n",
      "22 -> 23 ;\n",
      "24 [label=\"gini = 0.4951\\nsamples = 704\\nvalue = [317, 387]\\nclass = medvedev\", fillcolor=\"#399de52e\"] ;\n",
      "22 -> 24 ;\n",
      "25 [label=\"апрель <= 0.5\\ngini = 0.3762\\nsamples = 418\\nvalue = [105, 313]\\nclass = medvedev\", fillcolor=\"#399de5a9\"] ;\n",
      "21 -> 25 ;\n",
      "26 [label=\"gini = 0.3348\\nsamples = 381\\nvalue = [81, 300]\\nclass = medvedev\", fillcolor=\"#399de5ba\"] ;\n",
      "25 -> 26 ;\n",
      "27 [label=\"gini = 0.4558\\nsamples = 37\\nvalue = [24, 13]\\nclass = putin\", fillcolor=\"#e5813975\"] ;\n",
      "25 -> 27 ;\n",
      "28 [label=\"публиковать <= 1.5\\ngini = 0.0037\\nsamples = 3270\\nvalue = [6, 3264]\\nclass = medvedev\", fillcolor=\"#399de5ff\"] ;\n",
      "0 -> 28 [labeldistance=2.5, labelangle=-45, headlabel=\"False\"] ;\n",
      "29 [label=\"собака <= 2.0\\ngini = 0.0031\\nsamples = 3269\\nvalue = [5, 3264]\\nclass = medvedev\", fillcolor=\"#399de5ff\"] ;\n",
      "28 -> 29 ;\n",
      "30 [label=\"предвыборный <= 2.5\\ngini = 0.0024\\nsamples = 3268\\nvalue = [4, 3264]\\nclass = medvedev\", fillcolor=\"#399de5ff\"] ;\n",
      "29 -> 30 ;\n",
      "31 [label=\"оставлять <= 1.5\\ngini = 0.0018\\nsamples = 3267\\nvalue = [3, 3264]\\nclass = medvedev\", fillcolor=\"#399de5ff\"] ;\n",
      "30 -> 31 ;\n",
      "32 [label=\"gini = 0.0012\\nsamples = 3266\\nvalue = [2, 3264]\\nclass = medvedev\", fillcolor=\"#399de5ff\"] ;\n",
      "31 -> 32 ;\n",
      "33 [label=\"gini = 0.0\\nsamples = 1\\nvalue = [1, 0]\\nclass = putin\", fillcolor=\"#e58139ff\"] ;\n",
      "31 -> 33 ;\n",
      "34 [label=\"gini = 0.0\\nsamples = 1\\nvalue = [1, 0]\\nclass = putin\", fillcolor=\"#e58139ff\"] ;\n",
      "30 -> 34 ;\n",
      "35 [label=\"gini = 0.0\\nsamples = 1\\nvalue = [1, 0]\\nclass = putin\", fillcolor=\"#e58139ff\"] ;\n",
      "29 -> 35 ;\n",
      "36 [label=\"gini = 0.0\\nsamples = 1\\nvalue = [1, 0]\\nclass = putin\", fillcolor=\"#e58139ff\"] ;\n",
      "28 -> 36 ;\n",
      "}\n"
     ]
    }
   ],
   "source": [
    "get_tree_dot_view(clf_final, vectorizer.get_feature_names(), ['putin', 'medvedev'])"
   ]
  },
  {
   "cell_type": "code",
   "execution_count": null,
   "metadata": {
    "collapsed": true
   },
   "outputs": [],
   "source": []
  }
 ],
 "metadata": {
  "anaconda-cloud": {},
  "kernelspec": {
   "display_name": "Python 3",
   "language": "python",
   "name": "python3"
  },
  "language_info": {
   "codemirror_mode": {
    "name": "ipython",
    "version": 3
   },
   "file_extension": ".py",
   "mimetype": "text/x-python",
   "name": "python",
   "nbconvert_exporter": "python",
   "pygments_lexer": "ipython3",
   "version": "3.6.1"
  }
 },
 "nbformat": 4,
 "nbformat_minor": 2
}
