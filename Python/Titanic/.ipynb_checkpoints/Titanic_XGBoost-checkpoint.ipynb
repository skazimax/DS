{
 "cells": [
  {
   "cell_type": "code",
   "execution_count": 1,
   "metadata": {
    "collapsed": true
   },
   "outputs": [],
   "source": [
    "import numpy as np\n",
    "import pandas as pd\n",
    "from matplotlib import pyplot as plt\n",
    "%matplotlib inline"
   ]
  },
  {
   "cell_type": "code",
   "execution_count": 2,
   "metadata": {
    "collapsed": true
   },
   "outputs": [],
   "source": [
    "df_train=pd.read_csv('train.csv')\n",
    "df_test=pd.read_csv('test.csv')\n",
    "y_train=df_train['Survived']"
   ]
  },
  {
   "cell_type": "code",
   "execution_count": 3,
   "metadata": {
    "collapsed": true
   },
   "outputs": [],
   "source": [
    "df_train['is_test']=0\n",
    "df_test['is_test']=1"
   ]
  },
  {
   "cell_type": "code",
   "execution_count": 4,
   "metadata": {
    "collapsed": true
   },
   "outputs": [],
   "source": [
    "del df_train['Survived']"
   ]
  },
  {
   "cell_type": "code",
   "execution_count": 5,
   "metadata": {
    "collapsed": true
   },
   "outputs": [],
   "source": [
    "df1=pd.concat([df_train,df_test])"
   ]
  },
  {
   "cell_type": "code",
   "execution_count": 6,
   "metadata": {
    "collapsed": true
   },
   "outputs": [],
   "source": [
    "df1.Embarked.fillna('S', inplace=True)"
   ]
  },
  {
   "cell_type": "code",
   "execution_count": 7,
   "metadata": {
    "collapsed": true
   },
   "outputs": [],
   "source": [
    "df1['has_Cabin']=df1.Cabin.notnull().astype(int)"
   ]
  },
  {
   "cell_type": "code",
   "execution_count": 8,
   "metadata": {
    "collapsed": true
   },
   "outputs": [],
   "source": [
    "df1['Cabin']=df1.Cabin.str.split()\n",
    "df1['N_Cabin_1']=(df1.Cabin.str.len()==1).astype(int)\n",
    "df1['N_Cabin_2']=(df1.Cabin.str.len()==2).astype(int)\n",
    "df1['N_Cabin_3']=(df1.Cabin.str.len()==3).astype(int)\n",
    "df1['N_Cabin_4']=(df1.Cabin.str.len()==4).astype(int)"
   ]
  },
  {
   "cell_type": "code",
   "execution_count": 9,
   "metadata": {
    "collapsed": true
   },
   "outputs": [],
   "source": [
    "del df1['Cabin']"
   ]
  },
  {
   "cell_type": "code",
   "execution_count": 10,
   "metadata": {
    "collapsed": true
   },
   "outputs": [],
   "source": [
    "df1['Name_20']=((df1.Name.str.len()<=20)).astype(int)\n",
    "df1['Name_2030']=((df1.Name.str.len()>20) & (df1.Name.str.len()<=30)).astype(int)\n",
    "df1['Name_3040']=((df1.Name.str.len()>30) & (df1.Name.str.len()<=40)).astype(int)\n",
    "df1['Name_40']=((df1.Name.str.len()>40)).astype(int)"
   ]
  },
  {
   "cell_type": "code",
   "execution_count": 11,
   "metadata": {
    "collapsed": true
   },
   "outputs": [],
   "source": [
    "df1['is_Miss']=df1.Name.str.contains('Miss').astype(int)\n",
    "df1['is_Master']=df1.Name.str.contains('Master').astype(int)\n",
    "df1['is_Mr']=df1.Name.str.contains(r'(?:\\s|^)Mr.(?:\\s|$)').astype(int)\n",
    "df1['is_Mrs']=df1.Name.str.contains(r'(?:\\s|^)Mrs.(?:\\s|$)').astype(int)\n",
    "df1['Rare']=((df1.is_Miss!=1)&(df1.is_Master!=1)&(df1.is_Mr!=1)&(df1.is_Mrs!=1)).astype(int)"
   ]
  },
  {
   "cell_type": "code",
   "execution_count": 12,
   "metadata": {
    "collapsed": true
   },
   "outputs": [],
   "source": [
    "for index, row in df1.iterrows():\n",
    "    if (np.isnan(row['Age'])):\n",
    "        if row['is_Master']==1:\n",
    "            df1.loc[index, 'Age']=4\n",
    "        elif row['is_Miss']==1:\n",
    "            df1.loc[index,'Age']=(df1.Age[df1['is_Miss']==1]).median()\n",
    "        elif row['is_Mr']==1:\n",
    "            df1.loc[index,'Age']=(df1.Age[df1['is_Mr']==1]).median()\n",
    "        elif row['is_Mrs']==1:\n",
    "            df1.loc[index,'Age']=(df1.Age[df1['is_Mrs']==1]).median()"
   ]
  },
  {
   "cell_type": "code",
   "execution_count": 13,
   "metadata": {
    "collapsed": true
   },
   "outputs": [],
   "source": [
    "df1.fillna(df1.median(), inplace=True);"
   ]
  },
  {
   "cell_type": "code",
   "execution_count": 14,
   "metadata": {
    "collapsed": true
   },
   "outputs": [],
   "source": [
    "for index, row in df1.iterrows():\n",
    "    if row['Age']<=20:\n",
    "        df1.loc[index,'Age']='0-20'\n",
    "    elif 20<row['Age']<=30:\n",
    "        df1.loc[index,'Age']='20-30'\n",
    "    elif 30<row['Age']<=40:\n",
    "        df1.loc[index,'Age']='30-40'\n",
    "    elif 40<row['Age']<=50:\n",
    "        df1.loc[index,'Age']='40-50'\n",
    "    elif 50<row['Age']<=60:\n",
    "        df1.loc[index,'Age']='50-60'\n",
    "    elif row['Age']>60:\n",
    "        df1.loc[index,'Age']='60+'"
   ]
  },
  {
   "cell_type": "code",
   "execution_count": 15,
   "metadata": {
    "collapsed": true
   },
   "outputs": [],
   "source": [
    "for index, row in df1.iterrows():\n",
    "    if row['Fare']<=25:\n",
    "        df1.loc[index, 'Fare']='0-25'\n",
    "    elif 25<row['Fare']<=50:\n",
    "        df1.loc[index, 'Fare']='25-50'\n",
    "    elif 50<row['Fare']<=100:\n",
    "        df1.loc[index, 'Fare']='50-100'\n",
    "    elif 100<row['Fare']<=200:\n",
    "        df1.loc[index, 'Fare']='100-200'\n",
    "    elif 200<row['Fare']<=600:\n",
    "        df1.loc[index, 'Fare']='200-600'\n",
    "    elif 300<row['Fare']<=600:\n",
    "        df1.loc[index, 'Fare']='300-600'"
   ]
  },
  {
   "cell_type": "code",
   "execution_count": 16,
   "metadata": {
    "collapsed": true
   },
   "outputs": [],
   "source": [
    "tickets=df1.Ticket.value_counts().to_dict()"
   ]
  },
  {
   "cell_type": "code",
   "execution_count": 17,
   "metadata": {
    "collapsed": true
   },
   "outputs": [],
   "source": [
    "#df1['small_Family']=0\n",
    "#df1['middle_Family']=0"
   ]
  },
  {
   "cell_type": "code",
   "execution_count": 18,
   "metadata": {},
   "outputs": [],
   "source": [
    "#for index, row in df1.iterrows():\n",
    "#    if tickets[row['Ticket']]<=3:\n",
    "#        df1.loc[index, 'small_Family']=1\n",
    "#    elif tickets[row['Ticket']]<=5:\n",
    "#        df1.loc[index, 'middle_Family']=1"
   ]
  },
  {
   "cell_type": "code",
   "execution_count": 19,
   "metadata": {
    "collapsed": true
   },
   "outputs": [],
   "source": [
    "df1=df1.drop(['Name','Ticket','PassengerId'], axis=1)"
   ]
  },
  {
   "cell_type": "code",
   "execution_count": 20,
   "metadata": {
    "collapsed": true
   },
   "outputs": [],
   "source": [
    "df1=pd.get_dummies(df1)"
   ]
  },
  {
   "cell_type": "code",
   "execution_count": 21,
   "metadata": {
    "collapsed": true
   },
   "outputs": [],
   "source": [
    "X_train=df1[df1['is_test']==0]\n",
    "X_test=df1[df1['is_test']==1]"
   ]
  },
  {
   "cell_type": "code",
   "execution_count": 22,
   "metadata": {
    "collapsed": true
   },
   "outputs": [],
   "source": [
    "del X_test['is_test']\n",
    "del X_train['is_test']"
   ]
  },
  {
   "cell_type": "code",
   "execution_count": 23,
   "metadata": {},
   "outputs": [
    {
     "data": {
      "text/html": [
       "<div>\n",
       "<style>\n",
       "    .dataframe thead tr:only-child th {\n",
       "        text-align: right;\n",
       "    }\n",
       "\n",
       "    .dataframe thead th {\n",
       "        text-align: left;\n",
       "    }\n",
       "\n",
       "    .dataframe tbody tr th {\n",
       "        vertical-align: top;\n",
       "    }\n",
       "</style>\n",
       "<table border=\"1\" class=\"dataframe\">\n",
       "  <thead>\n",
       "    <tr style=\"text-align: right;\">\n",
       "      <th></th>\n",
       "      <th>Pclass</th>\n",
       "      <th>SibSp</th>\n",
       "      <th>Parch</th>\n",
       "      <th>has_Cabin</th>\n",
       "      <th>N_Cabin_1</th>\n",
       "      <th>N_Cabin_2</th>\n",
       "      <th>N_Cabin_3</th>\n",
       "      <th>N_Cabin_4</th>\n",
       "      <th>Name_20</th>\n",
       "      <th>Name_2030</th>\n",
       "      <th>...</th>\n",
       "      <th>Age_50-60</th>\n",
       "      <th>Age_60+</th>\n",
       "      <th>Fare_0-25</th>\n",
       "      <th>Fare_100-200</th>\n",
       "      <th>Fare_200-600</th>\n",
       "      <th>Fare_25-50</th>\n",
       "      <th>Fare_50-100</th>\n",
       "      <th>Embarked_C</th>\n",
       "      <th>Embarked_Q</th>\n",
       "      <th>Embarked_S</th>\n",
       "    </tr>\n",
       "  </thead>\n",
       "  <tbody>\n",
       "    <tr>\n",
       "      <th>0</th>\n",
       "      <td>3</td>\n",
       "      <td>1</td>\n",
       "      <td>0</td>\n",
       "      <td>0</td>\n",
       "      <td>0</td>\n",
       "      <td>0</td>\n",
       "      <td>0</td>\n",
       "      <td>0</td>\n",
       "      <td>0</td>\n",
       "      <td>1</td>\n",
       "      <td>...</td>\n",
       "      <td>0</td>\n",
       "      <td>0</td>\n",
       "      <td>1</td>\n",
       "      <td>0</td>\n",
       "      <td>0</td>\n",
       "      <td>0</td>\n",
       "      <td>0</td>\n",
       "      <td>0</td>\n",
       "      <td>0</td>\n",
       "      <td>1</td>\n",
       "    </tr>\n",
       "    <tr>\n",
       "      <th>1</th>\n",
       "      <td>1</td>\n",
       "      <td>1</td>\n",
       "      <td>0</td>\n",
       "      <td>1</td>\n",
       "      <td>1</td>\n",
       "      <td>0</td>\n",
       "      <td>0</td>\n",
       "      <td>0</td>\n",
       "      <td>0</td>\n",
       "      <td>0</td>\n",
       "      <td>...</td>\n",
       "      <td>0</td>\n",
       "      <td>0</td>\n",
       "      <td>1</td>\n",
       "      <td>0</td>\n",
       "      <td>0</td>\n",
       "      <td>0</td>\n",
       "      <td>0</td>\n",
       "      <td>1</td>\n",
       "      <td>0</td>\n",
       "      <td>0</td>\n",
       "    </tr>\n",
       "    <tr>\n",
       "      <th>2</th>\n",
       "      <td>3</td>\n",
       "      <td>0</td>\n",
       "      <td>0</td>\n",
       "      <td>0</td>\n",
       "      <td>0</td>\n",
       "      <td>0</td>\n",
       "      <td>0</td>\n",
       "      <td>0</td>\n",
       "      <td>0</td>\n",
       "      <td>1</td>\n",
       "      <td>...</td>\n",
       "      <td>0</td>\n",
       "      <td>1</td>\n",
       "      <td>1</td>\n",
       "      <td>0</td>\n",
       "      <td>0</td>\n",
       "      <td>0</td>\n",
       "      <td>0</td>\n",
       "      <td>0</td>\n",
       "      <td>0</td>\n",
       "      <td>1</td>\n",
       "    </tr>\n",
       "    <tr>\n",
       "      <th>3</th>\n",
       "      <td>1</td>\n",
       "      <td>1</td>\n",
       "      <td>0</td>\n",
       "      <td>1</td>\n",
       "      <td>1</td>\n",
       "      <td>0</td>\n",
       "      <td>0</td>\n",
       "      <td>0</td>\n",
       "      <td>0</td>\n",
       "      <td>0</td>\n",
       "      <td>...</td>\n",
       "      <td>0</td>\n",
       "      <td>0</td>\n",
       "      <td>1</td>\n",
       "      <td>0</td>\n",
       "      <td>0</td>\n",
       "      <td>0</td>\n",
       "      <td>0</td>\n",
       "      <td>0</td>\n",
       "      <td>0</td>\n",
       "      <td>1</td>\n",
       "    </tr>\n",
       "    <tr>\n",
       "      <th>4</th>\n",
       "      <td>3</td>\n",
       "      <td>0</td>\n",
       "      <td>0</td>\n",
       "      <td>0</td>\n",
       "      <td>0</td>\n",
       "      <td>0</td>\n",
       "      <td>0</td>\n",
       "      <td>0</td>\n",
       "      <td>0</td>\n",
       "      <td>1</td>\n",
       "      <td>...</td>\n",
       "      <td>0</td>\n",
       "      <td>0</td>\n",
       "      <td>1</td>\n",
       "      <td>0</td>\n",
       "      <td>0</td>\n",
       "      <td>0</td>\n",
       "      <td>0</td>\n",
       "      <td>0</td>\n",
       "      <td>0</td>\n",
       "      <td>1</td>\n",
       "    </tr>\n",
       "  </tbody>\n",
       "</table>\n",
       "<p>5 rows × 33 columns</p>\n",
       "</div>"
      ],
      "text/plain": [
       "   Pclass  SibSp  Parch  has_Cabin  N_Cabin_1  N_Cabin_2  N_Cabin_3  \\\n",
       "0       3      1      0          0          0          0          0   \n",
       "1       1      1      0          1          1          0          0   \n",
       "2       3      0      0          0          0          0          0   \n",
       "3       1      1      0          1          1          0          0   \n",
       "4       3      0      0          0          0          0          0   \n",
       "\n",
       "   N_Cabin_4  Name_20  Name_2030     ...      Age_50-60  Age_60+  Fare_0-25  \\\n",
       "0          0        0          1     ...              0        0          1   \n",
       "1          0        0          0     ...              0        0          1   \n",
       "2          0        0          1     ...              0        1          1   \n",
       "3          0        0          0     ...              0        0          1   \n",
       "4          0        0          1     ...              0        0          1   \n",
       "\n",
       "   Fare_100-200  Fare_200-600  Fare_25-50  Fare_50-100  Embarked_C  \\\n",
       "0             0             0           0            0           0   \n",
       "1             0             0           0            0           1   \n",
       "2             0             0           0            0           0   \n",
       "3             0             0           0            0           0   \n",
       "4             0             0           0            0           0   \n",
       "\n",
       "   Embarked_Q  Embarked_S  \n",
       "0           0           1  \n",
       "1           0           0  \n",
       "2           0           1  \n",
       "3           0           1  \n",
       "4           0           1  \n",
       "\n",
       "[5 rows x 33 columns]"
      ]
     },
     "execution_count": 23,
     "metadata": {},
     "output_type": "execute_result"
    }
   ],
   "source": [
    "X_train.head()"
   ]
  },
  {
   "cell_type": "code",
   "execution_count": 24,
   "metadata": {},
   "outputs": [
    {
     "data": {
      "text/plain": [
       "Index(['Pclass', 'SibSp', 'Parch', 'is_test', 'has_Cabin', 'N_Cabin_1',\n",
       "       'N_Cabin_2', 'N_Cabin_3', 'N_Cabin_4', 'Name_20', 'Name_2030',\n",
       "       'Name_3040', 'Name_40', 'is_Miss', 'is_Master', 'is_Mr', 'is_Mrs',\n",
       "       'Rare', 'Sex_female', 'Sex_male', 'Age_0-20', 'Age_20-30', 'Age_30-40',\n",
       "       'Age_40-50', 'Age_50-60', 'Age_60+', 'Fare_0-25', 'Fare_100-200',\n",
       "       'Fare_200-600', 'Fare_25-50', 'Fare_50-100', 'Embarked_C', 'Embarked_Q',\n",
       "       'Embarked_S'],\n",
       "      dtype='object')"
      ]
     },
     "execution_count": 24,
     "metadata": {},
     "output_type": "execute_result"
    }
   ],
   "source": [
    "df1.columns"
   ]
  },
  {
   "cell_type": "code",
   "execution_count": 25,
   "metadata": {},
   "outputs": [
    {
     "name": "stderr",
     "output_type": "stream",
     "text": [
      "C:\\Users\\mrasskazov\\AppData\\Local\\Continuum\\Anaconda3\\lib\\site-packages\\sklearn\\cross_validation.py:44: DeprecationWarning: This module was deprecated in version 0.18 in favor of the model_selection module into which all the refactored classes and functions are moved. Also note that the interface of the new CV iterators are different from that of this module. This module will be removed in 0.20.\n",
      "  \"This module will be removed in 0.20.\", DeprecationWarning)\n"
     ]
    }
   ],
   "source": [
    "from xgboost import XGBClassifier\n",
    "from sklearn.model_selection import KFold, GridSearchCV"
   ]
  },
  {
   "cell_type": "code",
   "execution_count": null,
   "metadata": {
    "collapsed": true
   },
   "outputs": [],
   "source": []
  },
  {
   "cell_type": "code",
   "execution_count": null,
   "metadata": {
    "collapsed": true
   },
   "outputs": [],
   "source": []
  },
  {
   "cell_type": "code",
   "execution_count": 26,
   "metadata": {},
   "outputs": [
    {
     "name": "stdout",
     "output_type": "stream",
     "text": [
      "Fitting 4 folds for each of 8 candidates, totalling 32 fits\n",
      "[CV] colsample_bytree=0.8, gamma=0.1, learning_rate=0.1, max_depth=5, min_child_weight=2, n_estimators=10, reg_alpha=0.0, reg_lambda=1.0, scale_pos_weight=0.6229508196721312, subsample=0.8 \n",
      "[CV]  colsample_bytree=0.8, gamma=0.1, learning_rate=0.1, max_depth=5, min_child_weight=2, n_estimators=10, reg_alpha=0.0, reg_lambda=1.0, scale_pos_weight=0.6229508196721312, subsample=0.8, score=0.798206, total=   0.0s\n",
      "[CV] colsample_bytree=0.8, gamma=0.1, learning_rate=0.1, max_depth=5, min_child_weight=2, n_estimators=10, reg_alpha=0.0, reg_lambda=1.0, scale_pos_weight=0.6229508196721312, subsample=0.8 \n",
      "[CV]  colsample_bytree=0.8, gamma=0.1, learning_rate=0.1, max_depth=5, min_child_weight=2, n_estimators=10, reg_alpha=0.0, reg_lambda=1.0, scale_pos_weight=0.6229508196721312, subsample=0.8, score=0.775785, total=   0.0s\n",
      "[CV] colsample_bytree=0.8, gamma=0.1, learning_rate=0.1, max_depth=5, min_child_weight=2, n_estimators=10, reg_alpha=0.0, reg_lambda=1.0, scale_pos_weight=0.6229508196721312, subsample=0.8 \n",
      "[CV]  colsample_bytree=0.8, gamma=0.1, learning_rate=0.1, max_depth=5, min_child_weight=2, n_estimators=10, reg_alpha=0.0, reg_lambda=1.0, scale_pos_weight=0.6229508196721312, subsample=0.8, score=0.829596, total=   0.0s\n",
      "[CV] colsample_bytree=0.8, gamma=0.1, learning_rate=0.1, max_depth=5, min_child_weight=2, n_estimators=10, reg_alpha=0.0, reg_lambda=1.0, scale_pos_weight=0.6229508196721312, subsample=0.8 \n",
      "[CV]  colsample_bytree=0.8, gamma=0.1, learning_rate=0.1, max_depth=5, min_child_weight=2, n_estimators=10, reg_alpha=0.0, reg_lambda=1.0, scale_pos_weight=0.6229508196721312, subsample=0.8, score=0.837838, total=   0.0s\n",
      "[CV] colsample_bytree=0.8, gamma=0.1, learning_rate=0.1, max_depth=5, min_child_weight=2, n_estimators=30, reg_alpha=0.0, reg_lambda=1.0, scale_pos_weight=0.6229508196721312, subsample=0.8 \n",
      "[CV]  colsample_bytree=0.8, gamma=0.1, learning_rate=0.1, max_depth=5, min_child_weight=2, n_estimators=30, reg_alpha=0.0, reg_lambda=1.0, scale_pos_weight=0.6229508196721312, subsample=0.8, score=0.807175, total=   0.0s\n",
      "[CV] colsample_bytree=0.8, gamma=0.1, learning_rate=0.1, max_depth=5, min_child_weight=2, n_estimators=30, reg_alpha=0.0, reg_lambda=1.0, scale_pos_weight=0.6229508196721312, subsample=0.8 \n",
      "[CV]  colsample_bytree=0.8, gamma=0.1, learning_rate=0.1, max_depth=5, min_child_weight=2, n_estimators=30, reg_alpha=0.0, reg_lambda=1.0, scale_pos_weight=0.6229508196721312, subsample=0.8, score=0.771300, total=   0.0s\n",
      "[CV] colsample_bytree=0.8, gamma=0.1, learning_rate=0.1, max_depth=5, min_child_weight=2, n_estimators=30, reg_alpha=0.0, reg_lambda=1.0, scale_pos_weight=0.6229508196721312, subsample=0.8 \n",
      "[CV]  colsample_bytree=0.8, gamma=0.1, learning_rate=0.1, max_depth=5, min_child_weight=2, n_estimators=30, reg_alpha=0.0, reg_lambda=1.0, scale_pos_weight=0.6229508196721312, subsample=0.8, score=0.834081, total=   0.0s\n",
      "[CV] colsample_bytree=0.8, gamma=0.1, learning_rate=0.1, max_depth=5, min_child_weight=2, n_estimators=30, reg_alpha=0.0, reg_lambda=1.0, scale_pos_weight=0.6229508196721312, subsample=0.8 \n",
      "[CV]  colsample_bytree=0.8, gamma=0.1, learning_rate=0.1, max_depth=5, min_child_weight=2, n_estimators=30, reg_alpha=0.0, reg_lambda=1.0, scale_pos_weight=0.6229508196721312, subsample=0.8, score=0.864865, total=   0.0s\n",
      "[CV] colsample_bytree=0.8, gamma=0.1, learning_rate=0.1, max_depth=5, min_child_weight=2, n_estimators=50, reg_alpha=0.0, reg_lambda=1.0, scale_pos_weight=0.6229508196721312, subsample=0.8 \n"
     ]
    },
    {
     "name": "stderr",
     "output_type": "stream",
     "text": [
      "[Parallel(n_jobs=1)]: Done   1 out of   1 | elapsed:    0.0s remaining:    0.0s\n",
      "[Parallel(n_jobs=1)]: Done   2 out of   2 | elapsed:    0.0s remaining:    0.0s\n",
      "[Parallel(n_jobs=1)]: Done   3 out of   3 | elapsed:    0.0s remaining:    0.0s\n",
      "[Parallel(n_jobs=1)]: Done   4 out of   4 | elapsed:    0.0s remaining:    0.0s\n"
     ]
    },
    {
     "name": "stdout",
     "output_type": "stream",
     "text": [
      "[CV]  colsample_bytree=0.8, gamma=0.1, learning_rate=0.1, max_depth=5, min_child_weight=2, n_estimators=50, reg_alpha=0.0, reg_lambda=1.0, scale_pos_weight=0.6229508196721312, subsample=0.8, score=0.802691, total=   0.0s\n",
      "[CV] colsample_bytree=0.8, gamma=0.1, learning_rate=0.1, max_depth=5, min_child_weight=2, n_estimators=50, reg_alpha=0.0, reg_lambda=1.0, scale_pos_weight=0.6229508196721312, subsample=0.8 \n",
      "[CV]  colsample_bytree=0.8, gamma=0.1, learning_rate=0.1, max_depth=5, min_child_weight=2, n_estimators=50, reg_alpha=0.0, reg_lambda=1.0, scale_pos_weight=0.6229508196721312, subsample=0.8, score=0.784753, total=   0.0s\n",
      "[CV] colsample_bytree=0.8, gamma=0.1, learning_rate=0.1, max_depth=5, min_child_weight=2, n_estimators=50, reg_alpha=0.0, reg_lambda=1.0, scale_pos_weight=0.6229508196721312, subsample=0.8 \n",
      "[CV]  colsample_bytree=0.8, gamma=0.1, learning_rate=0.1, max_depth=5, min_child_weight=2, n_estimators=50, reg_alpha=0.0, reg_lambda=1.0, scale_pos_weight=0.6229508196721312, subsample=0.8, score=0.843049, total=   0.0s\n",
      "[CV] colsample_bytree=0.8, gamma=0.1, learning_rate=0.1, max_depth=5, min_child_weight=2, n_estimators=50, reg_alpha=0.0, reg_lambda=1.0, scale_pos_weight=0.6229508196721312, subsample=0.8 \n",
      "[CV]  colsample_bytree=0.8, gamma=0.1, learning_rate=0.1, max_depth=5, min_child_weight=2, n_estimators=50, reg_alpha=0.0, reg_lambda=1.0, scale_pos_weight=0.6229508196721312, subsample=0.8, score=0.855856, total=   0.0s\n",
      "[CV] colsample_bytree=0.8, gamma=0.1, learning_rate=0.1, max_depth=5, min_child_weight=2, n_estimators=100, reg_alpha=0.0, reg_lambda=1.0, scale_pos_weight=0.6229508196721312, subsample=0.8 \n",
      "[CV]  colsample_bytree=0.8, gamma=0.1, learning_rate=0.1, max_depth=5, min_child_weight=2, n_estimators=100, reg_alpha=0.0, reg_lambda=1.0, scale_pos_weight=0.6229508196721312, subsample=0.8, score=0.798206, total=   0.0s\n",
      "[CV] colsample_bytree=0.8, gamma=0.1, learning_rate=0.1, max_depth=5, min_child_weight=2, n_estimators=100, reg_alpha=0.0, reg_lambda=1.0, scale_pos_weight=0.6229508196721312, subsample=0.8 \n",
      "[CV]  colsample_bytree=0.8, gamma=0.1, learning_rate=0.1, max_depth=5, min_child_weight=2, n_estimators=100, reg_alpha=0.0, reg_lambda=1.0, scale_pos_weight=0.6229508196721312, subsample=0.8, score=0.775785, total=   0.0s\n",
      "[CV] colsample_bytree=0.8, gamma=0.1, learning_rate=0.1, max_depth=5, min_child_weight=2, n_estimators=100, reg_alpha=0.0, reg_lambda=1.0, scale_pos_weight=0.6229508196721312, subsample=0.8 \n",
      "[CV]  colsample_bytree=0.8, gamma=0.1, learning_rate=0.1, max_depth=5, min_child_weight=2, n_estimators=100, reg_alpha=0.0, reg_lambda=1.0, scale_pos_weight=0.6229508196721312, subsample=0.8, score=0.811659, total=   0.0s\n",
      "[CV] colsample_bytree=0.8, gamma=0.1, learning_rate=0.1, max_depth=5, min_child_weight=2, n_estimators=100, reg_alpha=0.0, reg_lambda=1.0, scale_pos_weight=0.6229508196721312, subsample=0.8 \n",
      "[CV]  colsample_bytree=0.8, gamma=0.1, learning_rate=0.1, max_depth=5, min_child_weight=2, n_estimators=100, reg_alpha=0.0, reg_lambda=1.0, scale_pos_weight=0.6229508196721312, subsample=0.8, score=0.860360, total=   0.0s\n",
      "[CV] colsample_bytree=0.8, gamma=0.1, learning_rate=0.1, max_depth=5, min_child_weight=2, n_estimators=200, reg_alpha=0.0, reg_lambda=1.0, scale_pos_weight=0.6229508196721312, subsample=0.8 \n",
      "[CV]  colsample_bytree=0.8, gamma=0.1, learning_rate=0.1, max_depth=5, min_child_weight=2, n_estimators=200, reg_alpha=0.0, reg_lambda=1.0, scale_pos_weight=0.6229508196721312, subsample=0.8, score=0.789238, total=   0.0s\n",
      "[CV] colsample_bytree=0.8, gamma=0.1, learning_rate=0.1, max_depth=5, min_child_weight=2, n_estimators=200, reg_alpha=0.0, reg_lambda=1.0, scale_pos_weight=0.6229508196721312, subsample=0.8 \n",
      "[CV]  colsample_bytree=0.8, gamma=0.1, learning_rate=0.1, max_depth=5, min_child_weight=2, n_estimators=200, reg_alpha=0.0, reg_lambda=1.0, scale_pos_weight=0.6229508196721312, subsample=0.8, score=0.784753, total=   0.0s\n",
      "[CV] colsample_bytree=0.8, gamma=0.1, learning_rate=0.1, max_depth=5, min_child_weight=2, n_estimators=200, reg_alpha=0.0, reg_lambda=1.0, scale_pos_weight=0.6229508196721312, subsample=0.8 \n",
      "[CV]  colsample_bytree=0.8, gamma=0.1, learning_rate=0.1, max_depth=5, min_child_weight=2, n_estimators=200, reg_alpha=0.0, reg_lambda=1.0, scale_pos_weight=0.6229508196721312, subsample=0.8, score=0.816143, total=   0.0s\n",
      "[CV] colsample_bytree=0.8, gamma=0.1, learning_rate=0.1, max_depth=5, min_child_weight=2, n_estimators=200, reg_alpha=0.0, reg_lambda=1.0, scale_pos_weight=0.6229508196721312, subsample=0.8 \n",
      "[CV]  colsample_bytree=0.8, gamma=0.1, learning_rate=0.1, max_depth=5, min_child_weight=2, n_estimators=200, reg_alpha=0.0, reg_lambda=1.0, scale_pos_weight=0.6229508196721312, subsample=0.8, score=0.855856, total=   0.0s\n",
      "[CV] colsample_bytree=0.8, gamma=0.1, learning_rate=0.1, max_depth=5, min_child_weight=2, n_estimators=400, reg_alpha=0.0, reg_lambda=1.0, scale_pos_weight=0.6229508196721312, subsample=0.8 \n",
      "[CV]  colsample_bytree=0.8, gamma=0.1, learning_rate=0.1, max_depth=5, min_child_weight=2, n_estimators=400, reg_alpha=0.0, reg_lambda=1.0, scale_pos_weight=0.6229508196721312, subsample=0.8, score=0.784753, total=   0.1s\n",
      "[CV] colsample_bytree=0.8, gamma=0.1, learning_rate=0.1, max_depth=5, min_child_weight=2, n_estimators=400, reg_alpha=0.0, reg_lambda=1.0, scale_pos_weight=0.6229508196721312, subsample=0.8 \n",
      "[CV]  colsample_bytree=0.8, gamma=0.1, learning_rate=0.1, max_depth=5, min_child_weight=2, n_estimators=400, reg_alpha=0.0, reg_lambda=1.0, scale_pos_weight=0.6229508196721312, subsample=0.8, score=0.775785, total=   0.0s\n",
      "[CV] colsample_bytree=0.8, gamma=0.1, learning_rate=0.1, max_depth=5, min_child_weight=2, n_estimators=400, reg_alpha=0.0, reg_lambda=1.0, scale_pos_weight=0.6229508196721312, subsample=0.8 \n",
      "[CV]  colsample_bytree=0.8, gamma=0.1, learning_rate=0.1, max_depth=5, min_child_weight=2, n_estimators=400, reg_alpha=0.0, reg_lambda=1.0, scale_pos_weight=0.6229508196721312, subsample=0.8, score=0.811659, total=   0.1s\n",
      "[CV] colsample_bytree=0.8, gamma=0.1, learning_rate=0.1, max_depth=5, min_child_weight=2, n_estimators=400, reg_alpha=0.0, reg_lambda=1.0, scale_pos_weight=0.6229508196721312, subsample=0.8 \n",
      "[CV]  colsample_bytree=0.8, gamma=0.1, learning_rate=0.1, max_depth=5, min_child_weight=2, n_estimators=400, reg_alpha=0.0, reg_lambda=1.0, scale_pos_weight=0.6229508196721312, subsample=0.8, score=0.855856, total=   0.0s\n",
      "[CV] colsample_bytree=0.8, gamma=0.1, learning_rate=0.1, max_depth=5, min_child_weight=2, n_estimators=600, reg_alpha=0.0, reg_lambda=1.0, scale_pos_weight=0.6229508196721312, subsample=0.8 \n",
      "[CV]  colsample_bytree=0.8, gamma=0.1, learning_rate=0.1, max_depth=5, min_child_weight=2, n_estimators=600, reg_alpha=0.0, reg_lambda=1.0, scale_pos_weight=0.6229508196721312, subsample=0.8, score=0.780269, total=   0.1s\n",
      "[CV] colsample_bytree=0.8, gamma=0.1, learning_rate=0.1, max_depth=5, min_child_weight=2, n_estimators=600, reg_alpha=0.0, reg_lambda=1.0, scale_pos_weight=0.6229508196721312, subsample=0.8 \n",
      "[CV]  colsample_bytree=0.8, gamma=0.1, learning_rate=0.1, max_depth=5, min_child_weight=2, n_estimators=600, reg_alpha=0.0, reg_lambda=1.0, scale_pos_weight=0.6229508196721312, subsample=0.8, score=0.780269, total=   0.1s\n",
      "[CV] colsample_bytree=0.8, gamma=0.1, learning_rate=0.1, max_depth=5, min_child_weight=2, n_estimators=600, reg_alpha=0.0, reg_lambda=1.0, scale_pos_weight=0.6229508196721312, subsample=0.8 \n",
      "[CV]  colsample_bytree=0.8, gamma=0.1, learning_rate=0.1, max_depth=5, min_child_weight=2, n_estimators=600, reg_alpha=0.0, reg_lambda=1.0, scale_pos_weight=0.6229508196721312, subsample=0.8, score=0.816143, total=   0.1s\n",
      "[CV] colsample_bytree=0.8, gamma=0.1, learning_rate=0.1, max_depth=5, min_child_weight=2, n_estimators=600, reg_alpha=0.0, reg_lambda=1.0, scale_pos_weight=0.6229508196721312, subsample=0.8 \n",
      "[CV]  colsample_bytree=0.8, gamma=0.1, learning_rate=0.1, max_depth=5, min_child_weight=2, n_estimators=600, reg_alpha=0.0, reg_lambda=1.0, scale_pos_weight=0.6229508196721312, subsample=0.8, score=0.860360, total=   0.1s\n",
      "[CV] colsample_bytree=0.8, gamma=0.1, learning_rate=0.1, max_depth=5, min_child_weight=2, n_estimators=1000, reg_alpha=0.0, reg_lambda=1.0, scale_pos_weight=0.6229508196721312, subsample=0.8 \n"
     ]
    },
    {
     "name": "stdout",
     "output_type": "stream",
     "text": [
      "[CV]  colsample_bytree=0.8, gamma=0.1, learning_rate=0.1, max_depth=5, min_child_weight=2, n_estimators=1000, reg_alpha=0.0, reg_lambda=1.0, scale_pos_weight=0.6229508196721312, subsample=0.8, score=0.762332, total=   0.2s\n",
      "[CV] colsample_bytree=0.8, gamma=0.1, learning_rate=0.1, max_depth=5, min_child_weight=2, n_estimators=1000, reg_alpha=0.0, reg_lambda=1.0, scale_pos_weight=0.6229508196721312, subsample=0.8 \n",
      "[CV]  colsample_bytree=0.8, gamma=0.1, learning_rate=0.1, max_depth=5, min_child_weight=2, n_estimators=1000, reg_alpha=0.0, reg_lambda=1.0, scale_pos_weight=0.6229508196721312, subsample=0.8, score=0.762332, total=   0.3s\n",
      "[CV] colsample_bytree=0.8, gamma=0.1, learning_rate=0.1, max_depth=5, min_child_weight=2, n_estimators=1000, reg_alpha=0.0, reg_lambda=1.0, scale_pos_weight=0.6229508196721312, subsample=0.8 \n",
      "[CV]  colsample_bytree=0.8, gamma=0.1, learning_rate=0.1, max_depth=5, min_child_weight=2, n_estimators=1000, reg_alpha=0.0, reg_lambda=1.0, scale_pos_weight=0.6229508196721312, subsample=0.8, score=0.820628, total=   0.3s\n",
      "[CV] colsample_bytree=0.8, gamma=0.1, learning_rate=0.1, max_depth=5, min_child_weight=2, n_estimators=1000, reg_alpha=0.0, reg_lambda=1.0, scale_pos_weight=0.6229508196721312, subsample=0.8 \n",
      "[CV]  colsample_bytree=0.8, gamma=0.1, learning_rate=0.1, max_depth=5, min_child_weight=2, n_estimators=1000, reg_alpha=0.0, reg_lambda=1.0, scale_pos_weight=0.6229508196721312, subsample=0.8, score=0.851351, total=   0.2s\n",
      "Best score (ACC):  0.821548821549\n",
      "Best params: \n"
     ]
    },
    {
     "name": "stderr",
     "output_type": "stream",
     "text": [
      "[Parallel(n_jobs=1)]: Done  32 out of  32 | elapsed:    3.7s finished\n"
     ]
    },
    {
     "data": {
      "text/plain": [
       "{'base_score': 0.5,\n",
       " 'colsample_bylevel': 1,\n",
       " 'colsample_bytree': 0.8,\n",
       " 'gamma': 0.1,\n",
       " 'learning_rate': 0.1,\n",
       " 'max_delta_step': 0,\n",
       " 'max_depth': 5,\n",
       " 'min_child_weight': 2,\n",
       " 'missing': None,\n",
       " 'n_estimators': 50,\n",
       " 'nthread': -1,\n",
       " 'objective': 'binary:logistic',\n",
       " 'reg_alpha': 0.0,\n",
       " 'reg_lambda': 1.0,\n",
       " 'scale_pos_weight': 0.6229508196721312,\n",
       " 'seed': 0,\n",
       " 'silent': True,\n",
       " 'subsample': 0.8}"
      ]
     },
     "execution_count": 26,
     "metadata": {},
     "output_type": "execute_result"
    }
   ],
   "source": [
    "ones_ratio=y_train[y_train==1].shape[0]*1.0/y_train[y_train==0].shape[0]\n",
    "\n",
    "param_grid = {\n",
    "    # параметры ансамбля\n",
    "    'n_estimators': [10, 30, 50, 100, 200, 400, 600, 1000],\n",
    "    'learning_rate': [0.1],\n",
    "    \n",
    "    # параметры дерева\n",
    "    'max_depth': [5],\n",
    "    'min_child_weight': [2],\n",
    "    'gamma': [0.1],\n",
    "    'subsample': [0.8],\n",
    "    'colsample_bytree': [0.8],\n",
    "    'scale_pos_weight': [ones_ratio],\n",
    "    \n",
    "    # параметры регуляризации\n",
    "    'reg_alpha': [0.0],\n",
    "    'reg_lambda': [1.0]\n",
    "}\n",
    "\n",
    "cv = KFold(n_splits=4, shuffle=True)\n",
    "\n",
    "clf = XGBClassifier()\n",
    "gs = GridSearchCV(clf, param_grid, scoring='accuracy', cv=cv, verbose=5)\n",
    "\n",
    "gs.fit(X_train, y_train)\n",
    "best_params = gs.best_estimator_.get_params()\n",
    "print('Best score (ACC): ', gs.best_score_)\n",
    "print('Best params: ')\n",
    "best_params"
   ]
  },
  {
   "cell_type": "code",
   "execution_count": 27,
   "metadata": {},
   "outputs": [
    {
     "name": "stdout",
     "output_type": "stream",
     "text": [
      "Fitting 4 folds for each of 12 candidates, totalling 48 fits\n",
      "[CV] max_depth=3, min_child_weight=1 .................................\n",
      "[CV] .. max_depth=3, min_child_weight=1, score=0.843049, total=   0.1s\n",
      "[CV] max_depth=3, min_child_weight=1 .................................\n",
      "[CV] .. max_depth=3, min_child_weight=1, score=0.820628, total=   0.0s\n",
      "[CV] max_depth=3, min_child_weight=1 .................................\n"
     ]
    },
    {
     "name": "stderr",
     "output_type": "stream",
     "text": [
      "[Parallel(n_jobs=1)]: Done   1 out of   1 | elapsed:    0.1s remaining:    0.0s\n",
      "[Parallel(n_jobs=1)]: Done   2 out of   2 | elapsed:    0.1s remaining:    0.0s\n",
      "[Parallel(n_jobs=1)]: Done   3 out of   3 | elapsed:    0.2s remaining:    0.0s\n",
      "[Parallel(n_jobs=1)]: Done   4 out of   4 | elapsed:    0.3s remaining:    0.0s\n"
     ]
    },
    {
     "name": "stdout",
     "output_type": "stream",
     "text": [
      "[CV] .. max_depth=3, min_child_weight=1, score=0.807175, total=   0.0s\n",
      "[CV] max_depth=3, min_child_weight=1 .................................\n",
      "[CV] .. max_depth=3, min_child_weight=1, score=0.810811, total=   0.0s\n",
      "[CV] max_depth=3, min_child_weight=3 .................................\n",
      "[CV] .. max_depth=3, min_child_weight=3, score=0.834081, total=   0.0s\n",
      "[CV] max_depth=3, min_child_weight=3 .................................\n",
      "[CV] .. max_depth=3, min_child_weight=3, score=0.820628, total=   0.0s\n",
      "[CV] max_depth=3, min_child_weight=3 .................................\n",
      "[CV] .. max_depth=3, min_child_weight=3, score=0.766816, total=   0.0s\n",
      "[CV] max_depth=3, min_child_weight=3 .................................\n",
      "[CV] .. max_depth=3, min_child_weight=3, score=0.828829, total=   0.0s\n",
      "[CV] max_depth=3, min_child_weight=5 .................................\n",
      "[CV] .. max_depth=3, min_child_weight=5, score=0.829596, total=   0.0s\n",
      "[CV] max_depth=3, min_child_weight=5 .................................\n",
      "[CV] .. max_depth=3, min_child_weight=5, score=0.829596, total=   0.0s\n",
      "[CV] max_depth=3, min_child_weight=5 .................................\n",
      "[CV] .. max_depth=3, min_child_weight=5, score=0.771300, total=   0.0s\n",
      "[CV] max_depth=3, min_child_weight=5 .................................\n",
      "[CV] .. max_depth=3, min_child_weight=5, score=0.801802, total=   0.0s\n",
      "[CV] max_depth=5, min_child_weight=1 .................................\n",
      "[CV] .. max_depth=5, min_child_weight=1, score=0.834081, total=   0.0s\n",
      "[CV] max_depth=5, min_child_weight=1 .................................\n",
      "[CV] .. max_depth=5, min_child_weight=1, score=0.816143, total=   0.0s\n",
      "[CV] max_depth=5, min_child_weight=1 .................................\n",
      "[CV] .. max_depth=5, min_child_weight=1, score=0.780269, total=   0.0s\n",
      "[CV] max_depth=5, min_child_weight=1 .................................\n",
      "[CV] .. max_depth=5, min_child_weight=1, score=0.806306, total=   0.0s\n",
      "[CV] max_depth=5, min_child_weight=3 .................................\n",
      "[CV] .. max_depth=5, min_child_weight=3, score=0.825112, total=   0.0s\n",
      "[CV] max_depth=5, min_child_weight=3 .................................\n",
      "[CV] .. max_depth=5, min_child_weight=3, score=0.825112, total=   0.0s\n",
      "[CV] max_depth=5, min_child_weight=3 .................................\n",
      "[CV] .. max_depth=5, min_child_weight=3, score=0.753363, total=   0.0s\n",
      "[CV] max_depth=5, min_child_weight=3 .................................\n",
      "[CV] .. max_depth=5, min_child_weight=3, score=0.810811, total=   0.0s\n",
      "[CV] max_depth=5, min_child_weight=5 .................................\n",
      "[CV] .. max_depth=5, min_child_weight=5, score=0.829596, total=   0.0s\n",
      "[CV] max_depth=5, min_child_weight=5 .................................\n",
      "[CV] .. max_depth=5, min_child_weight=5, score=0.834081, total=   0.0s\n",
      "[CV] max_depth=5, min_child_weight=5 .................................\n",
      "[CV] .. max_depth=5, min_child_weight=5, score=0.757848, total=   0.0s\n",
      "[CV] max_depth=5, min_child_weight=5 .................................\n",
      "[CV] .. max_depth=5, min_child_weight=5, score=0.810811, total=   0.0s\n",
      "[CV] max_depth=7, min_child_weight=1 .................................\n",
      "[CV] .. max_depth=7, min_child_weight=1, score=0.829596, total=   0.0s\n",
      "[CV] max_depth=7, min_child_weight=1 .................................\n",
      "[CV] .. max_depth=7, min_child_weight=1, score=0.816143, total=   0.0s\n",
      "[CV] max_depth=7, min_child_weight=1 .................................\n",
      "[CV] .. max_depth=7, min_child_weight=1, score=0.784753, total=   0.0s\n",
      "[CV] max_depth=7, min_child_weight=1 .................................\n",
      "[CV] .. max_depth=7, min_child_weight=1, score=0.801802, total=   0.0s\n",
      "[CV] max_depth=7, min_child_weight=3 .................................\n",
      "[CV] .. max_depth=7, min_child_weight=3, score=0.829596, total=   0.0s\n",
      "[CV] max_depth=7, min_child_weight=3 .................................\n",
      "[CV] .. max_depth=7, min_child_weight=3, score=0.825112, total=   0.0s\n",
      "[CV] max_depth=7, min_child_weight=3 .................................\n",
      "[CV] .. max_depth=7, min_child_weight=3, score=0.762332, total=   0.0s\n",
      "[CV] max_depth=7, min_child_weight=3 .................................\n",
      "[CV] .. max_depth=7, min_child_weight=3, score=0.810811, total=   0.0s\n",
      "[CV] max_depth=7, min_child_weight=5 .................................\n",
      "[CV] .. max_depth=7, min_child_weight=5, score=0.829596, total=   0.0s\n",
      "[CV] max_depth=7, min_child_weight=5 .................................\n",
      "[CV] .. max_depth=7, min_child_weight=5, score=0.825112, total=   0.0s\n",
      "[CV] max_depth=7, min_child_weight=5 .................................\n",
      "[CV] .. max_depth=7, min_child_weight=5, score=0.762332, total=   0.0s\n",
      "[CV] max_depth=7, min_child_weight=5 .................................\n",
      "[CV] .. max_depth=7, min_child_weight=5, score=0.810811, total=   0.0s\n",
      "[CV] max_depth=9, min_child_weight=1 .................................\n",
      "[CV] .. max_depth=9, min_child_weight=1, score=0.829596, total=   0.0s\n",
      "[CV] max_depth=9, min_child_weight=1 .................................\n",
      "[CV] .. max_depth=9, min_child_weight=1, score=0.811659, total=   0.0s\n",
      "[CV] max_depth=9, min_child_weight=1 .................................\n",
      "[CV] .. max_depth=9, min_child_weight=1, score=0.784753, total=   0.0s\n",
      "[CV] max_depth=9, min_child_weight=1 .................................\n",
      "[CV] .. max_depth=9, min_child_weight=1, score=0.801802, total=   0.0s\n",
      "[CV] max_depth=9, min_child_weight=3 .................................\n",
      "[CV] .. max_depth=9, min_child_weight=3, score=0.829596, total=   0.0s\n",
      "[CV] max_depth=9, min_child_weight=3 .................................\n",
      "[CV] .. max_depth=9, min_child_weight=3, score=0.825112, total=   0.0s\n",
      "[CV] max_depth=9, min_child_weight=3 .................................\n",
      "[CV] .. max_depth=9, min_child_weight=3, score=0.762332, total=   0.0s\n",
      "[CV] max_depth=9, min_child_weight=3 .................................\n",
      "[CV] .. max_depth=9, min_child_weight=3, score=0.810811, total=   0.0s\n",
      "[CV] max_depth=9, min_child_weight=5 .................................\n",
      "[CV] .. max_depth=9, min_child_weight=5, score=0.829596, total=   0.0s\n",
      "[CV] max_depth=9, min_child_weight=5 .................................\n",
      "[CV] .. max_depth=9, min_child_weight=5, score=0.825112, total=   0.0s\n",
      "[CV] max_depth=9, min_child_weight=5 .................................\n",
      "[CV] .. max_depth=9, min_child_weight=5, score=0.762332, total=   0.0s\n",
      "[CV] max_depth=9, min_child_weight=5 .................................\n",
      "[CV] .. max_depth=9, min_child_weight=5, score=0.810811, total=   0.0s\n",
      "Best score (ACC):  0.820426487093\n",
      "Best params: \n"
     ]
    },
    {
     "name": "stderr",
     "output_type": "stream",
     "text": [
      "[Parallel(n_jobs=1)]: Done  48 out of  48 | elapsed:    1.7s finished\n"
     ]
    },
    {
     "data": {
      "text/plain": [
       "{'base_score': 0.5,\n",
       " 'colsample_bylevel': 1,\n",
       " 'colsample_bytree': 0.8,\n",
       " 'gamma': 0.1,\n",
       " 'learning_rate': 0.1,\n",
       " 'max_delta_step': 0,\n",
       " 'max_depth': 3,\n",
       " 'min_child_weight': 1,\n",
       " 'missing': None,\n",
       " 'n_estimators': 50,\n",
       " 'nthread': -1,\n",
       " 'objective': 'binary:logistic',\n",
       " 'reg_alpha': 0.0,\n",
       " 'reg_lambda': 1.0,\n",
       " 'scale_pos_weight': 0.6229508196721312,\n",
       " 'seed': 0,\n",
       " 'silent': True,\n",
       " 'subsample': 0.8}"
      ]
     },
     "execution_count": 27,
     "metadata": {},
     "output_type": "execute_result"
    }
   ],
   "source": [
    "param_grid = {\n",
    "    'max_depth': range(3, 10, 2),\n",
    "    'min_child_weight': range(1, 6, 2)\n",
    "}\n",
    "\n",
    "clf = XGBClassifier(**best_params) # в качестве отправной точки возьмём модель с наилучшими параметрами предыдущего шага\n",
    "\n",
    "gs = GridSearchCV(clf, param_grid, scoring='accuracy', cv=cv, verbose=5)\n",
    "\n",
    "gs.fit(X_train, y_train)\n",
    "best_params = gs.best_estimator_.get_params()\n",
    "print('Best score (ACC): ', gs.best_score_)\n",
    "print('Best params: ')\n",
    "best_params"
   ]
  },
  {
   "cell_type": "code",
   "execution_count": 28,
   "metadata": {},
   "outputs": [
    {
     "name": "stdout",
     "output_type": "stream",
     "text": [
      "Fitting 4 folds for each of 6 candidates, totalling 24 fits\n",
      "[CV] gamma=0.0 .......................................................\n",
      "[CV] ........................ gamma=0.0, score=0.843049, total=   0.1s\n",
      "[CV] gamma=0.0 .......................................................\n"
     ]
    },
    {
     "name": "stderr",
     "output_type": "stream",
     "text": [
      "[Parallel(n_jobs=1)]: Done   1 out of   1 | elapsed:    0.1s remaining:    0.0s\n",
      "[Parallel(n_jobs=1)]: Done   2 out of   2 | elapsed:    0.1s remaining:    0.0s\n",
      "[Parallel(n_jobs=1)]: Done   3 out of   3 | elapsed:    0.2s remaining:    0.0s\n",
      "[Parallel(n_jobs=1)]: Done   4 out of   4 | elapsed:    0.2s remaining:    0.0s\n"
     ]
    },
    {
     "name": "stdout",
     "output_type": "stream",
     "text": [
      "[CV] ........................ gamma=0.0, score=0.811659, total=   0.0s\n",
      "[CV] gamma=0.0 .......................................................\n",
      "[CV] ........................ gamma=0.0, score=0.860987, total=   0.0s\n",
      "[CV] gamma=0.0 .......................................................\n",
      "[CV] ........................ gamma=0.0, score=0.801802, total=   0.0s\n",
      "[CV] gamma=0.1 .......................................................\n",
      "[CV] ........................ gamma=0.1, score=0.843049, total=   0.1s\n",
      "[CV] gamma=0.1 .......................................................\n",
      "[CV] ........................ gamma=0.1, score=0.811659, total=   0.0s\n",
      "[CV] gamma=0.1 .......................................................\n",
      "[CV] ........................ gamma=0.1, score=0.860987, total=   0.0s\n",
      "[CV] gamma=0.1 .......................................................\n",
      "[CV] ........................ gamma=0.1, score=0.797297, total=   0.0s\n",
      "[CV] gamma=0.2 .......................................................\n",
      "[CV] ........................ gamma=0.2, score=0.843049, total=   0.0s\n",
      "[CV] gamma=0.2 .......................................................\n",
      "[CV] ........................ gamma=0.2, score=0.807175, total=   0.0s\n",
      "[CV] gamma=0.2 .......................................................\n",
      "[CV] ........................ gamma=0.2, score=0.860987, total=   0.0s\n",
      "[CV] gamma=0.2 .......................................................\n",
      "[CV] ........................ gamma=0.2, score=0.801802, total=   0.0s\n",
      "[CV] gamma=0.30000000000000004 .......................................\n",
      "[CV] ........ gamma=0.30000000000000004, score=0.843049, total=   0.0s\n",
      "[CV] gamma=0.30000000000000004 .......................................\n",
      "[CV] ........ gamma=0.30000000000000004, score=0.807175, total=   0.0s\n",
      "[CV] gamma=0.30000000000000004 .......................................\n",
      "[CV] ........ gamma=0.30000000000000004, score=0.860987, total=   0.0s\n",
      "[CV] gamma=0.30000000000000004 .......................................\n",
      "[CV] ........ gamma=0.30000000000000004, score=0.801802, total=   0.0s\n",
      "[CV] gamma=0.4 .......................................................\n",
      "[CV] ........................ gamma=0.4, score=0.843049, total=   0.0s\n",
      "[CV] gamma=0.4 .......................................................\n",
      "[CV] ........................ gamma=0.4, score=0.816143, total=   0.0s\n",
      "[CV] gamma=0.4 .......................................................\n",
      "[CV] ........................ gamma=0.4, score=0.860987, total=   0.0s\n",
      "[CV] gamma=0.4 .......................................................\n",
      "[CV] ........................ gamma=0.4, score=0.801802, total=   0.0s\n",
      "[CV] gamma=0.5 .......................................................\n",
      "[CV] ........................ gamma=0.5, score=0.843049, total=   0.0s\n",
      "[CV] gamma=0.5 .......................................................\n",
      "[CV] ........................ gamma=0.5, score=0.807175, total=   0.0s\n",
      "[CV] gamma=0.5 .......................................................\n",
      "[CV] ........................ gamma=0.5, score=0.860987, total=   0.0s\n",
      "[CV] gamma=0.5 .......................................................\n",
      "[CV] ........................ gamma=0.5, score=0.792793, total=   0.0s\n",
      "Best score (ACC):  0.830527497194\n",
      "Best params: \n"
     ]
    },
    {
     "name": "stderr",
     "output_type": "stream",
     "text": [
      "[Parallel(n_jobs=1)]: Done  24 out of  24 | elapsed:    0.8s finished\n"
     ]
    },
    {
     "data": {
      "text/plain": [
       "{'base_score': 0.5,\n",
       " 'colsample_bylevel': 1,\n",
       " 'colsample_bytree': 0.8,\n",
       " 'gamma': 0.4,\n",
       " 'learning_rate': 0.1,\n",
       " 'max_delta_step': 0,\n",
       " 'max_depth': 3,\n",
       " 'min_child_weight': 1,\n",
       " 'missing': None,\n",
       " 'n_estimators': 50,\n",
       " 'nthread': -1,\n",
       " 'objective': 'binary:logistic',\n",
       " 'reg_alpha': 0.0,\n",
       " 'reg_lambda': 1.0,\n",
       " 'scale_pos_weight': 0.6229508196721312,\n",
       " 'seed': 0,\n",
       " 'silent': True,\n",
       " 'subsample': 0.8}"
      ]
     },
     "execution_count": 28,
     "metadata": {},
     "output_type": "execute_result"
    }
   ],
   "source": [
    "param_grid = {\n",
    "    'gamma': [0.1*i for i in range(6)]\n",
    "}\n",
    "\n",
    "clf = XGBClassifier(**best_params)\n",
    "\n",
    "gs = GridSearchCV(clf, param_grid, scoring='accuracy', cv=cv, verbose=5)\n",
    "\n",
    "gs.fit(X_train, y_train)\n",
    "best_params = gs.best_estimator_.get_params()\n",
    "print('Best score (ACC): ', gs.best_score_)\n",
    "print('Best params: ')\n",
    "best_params"
   ]
  },
  {
   "cell_type": "code",
   "execution_count": 29,
   "metadata": {},
   "outputs": [
    {
     "name": "stdout",
     "output_type": "stream",
     "text": [
      "Fitting 4 folds for each of 36 candidates, totalling 144 fits\n",
      "[CV] colsample_bytree=0.5, subsample=0.5 .............................\n",
      "[CV]  colsample_bytree=0.5, subsample=0.5, score=0.811659, total=   0.0s\n",
      "[CV] colsample_bytree=0.5, subsample=0.5 .............................\n",
      "[CV]  colsample_bytree=0.5, subsample=0.5, score=0.816143, total=   0.0s\n",
      "[CV] colsample_bytree=0.5, subsample=0.5 .............................\n"
     ]
    },
    {
     "name": "stderr",
     "output_type": "stream",
     "text": [
      "[Parallel(n_jobs=1)]: Done   1 out of   1 | elapsed:    0.0s remaining:    0.0s\n",
      "[Parallel(n_jobs=1)]: Done   2 out of   2 | elapsed:    0.1s remaining:    0.0s\n"
     ]
    },
    {
     "name": "stdout",
     "output_type": "stream",
     "text": [
      "[CV]  colsample_bytree=0.5, subsample=0.5, score=0.802691, total=   0.0s\n",
      "[CV] colsample_bytree=0.5, subsample=0.5 .............................\n",
      "[CV]  colsample_bytree=0.5, subsample=0.5, score=0.810811, total=   0.0s\n",
      "[CV] colsample_bytree=0.5, subsample=0.6 .............................\n",
      "[CV]  colsample_bytree=0.5, subsample=0.6, score=0.802691, total=   0.0s\n",
      "[CV] colsample_bytree=0.5, subsample=0.6 .............................\n",
      "[CV]  colsample_bytree=0.5, subsample=0.6, score=0.820628, total=   0.0s\n",
      "[CV] colsample_bytree=0.5, subsample=0.6 .............................\n",
      "[CV]  colsample_bytree=0.5, subsample=0.6, score=0.807175, total=   0.0s\n",
      "[CV] colsample_bytree=0.5, subsample=0.6 .............................\n",
      "[CV]  colsample_bytree=0.5, subsample=0.6, score=0.806306, total=   0.0s\n",
      "[CV] colsample_bytree=0.5, subsample=0.7 .............................\n",
      "[CV]  colsample_bytree=0.5, subsample=0.7, score=0.802691, total=   0.0s\n",
      "[CV] colsample_bytree=0.5, subsample=0.7 .............................\n",
      "[CV]  colsample_bytree=0.5, subsample=0.7, score=0.820628, total=   0.0s\n",
      "[CV] colsample_bytree=0.5, subsample=0.7 .............................\n",
      "[CV]  colsample_bytree=0.5, subsample=0.7, score=0.816143, total=   0.0s\n",
      "[CV] colsample_bytree=0.5, subsample=0.7 .............................\n",
      "[CV]  colsample_bytree=0.5, subsample=0.7, score=0.824324, total=   0.0s\n",
      "[CV] colsample_bytree=0.5, subsample=0.8 .............................\n",
      "[CV]  colsample_bytree=0.5, subsample=0.8, score=0.780269, total=   0.0s\n",
      "[CV] colsample_bytree=0.5, subsample=0.8 .............................\n",
      "[CV]  colsample_bytree=0.5, subsample=0.8, score=0.816143, total=   0.0s\n",
      "[CV] colsample_bytree=0.5, subsample=0.8 .............................\n",
      "[CV]  colsample_bytree=0.5, subsample=0.8, score=0.807175, total=   0.0s"
     ]
    },
    {
     "name": "stderr",
     "output_type": "stream",
     "text": [
      "[Parallel(n_jobs=1)]: Done   3 out of   3 | elapsed:    0.3s remaining:    0.0s\n",
      "[Parallel(n_jobs=1)]: Done   4 out of   4 | elapsed:    0.3s remaining:    0.0s\n"
     ]
    },
    {
     "name": "stdout",
     "output_type": "stream",
     "text": [
      "\n",
      "[CV] colsample_bytree=0.5, subsample=0.8 .............................\n",
      "[CV]  colsample_bytree=0.5, subsample=0.8, score=0.806306, total=   0.0s\n",
      "[CV] colsample_bytree=0.5, subsample=0.9 .............................\n",
      "[CV]  colsample_bytree=0.5, subsample=0.9, score=0.789238, total=   0.0s\n",
      "[CV] colsample_bytree=0.5, subsample=0.9 .............................\n",
      "[CV]  colsample_bytree=0.5, subsample=0.9, score=0.816143, total=   0.0s\n",
      "[CV] colsample_bytree=0.5, subsample=0.9 .............................\n",
      "[CV]  colsample_bytree=0.5, subsample=0.9, score=0.807175, total=   0.0s\n",
      "[CV] colsample_bytree=0.5, subsample=0.9 .............................\n",
      "[CV]  colsample_bytree=0.5, subsample=0.9, score=0.810811, total=   0.0s\n",
      "[CV] colsample_bytree=0.5, subsample=1.0 .............................\n",
      "[CV]  colsample_bytree=0.5, subsample=1.0, score=0.793722, total=   0.0s\n",
      "[CV] colsample_bytree=0.5, subsample=1.0 .............................\n",
      "[CV]  colsample_bytree=0.5, subsample=1.0, score=0.829596, total=   0.0s\n",
      "[CV] colsample_bytree=0.5, subsample=1.0 .............................\n",
      "[CV]  colsample_bytree=0.5, subsample=1.0, score=0.816143, total=   0.0s\n",
      "[CV] colsample_bytree=0.5, subsample=1.0 .............................\n",
      "[CV]  colsample_bytree=0.5, subsample=1.0, score=0.819820, total=   0.0s\n",
      "[CV] colsample_bytree=0.6, subsample=0.5 .............................\n",
      "[CV]  colsample_bytree=0.6, subsample=0.5, score=0.811659, total=   0.0s\n",
      "[CV] colsample_bytree=0.6, subsample=0.5 .............................\n",
      "[CV]  colsample_bytree=0.6, subsample=0.5, score=0.834081, total=   0.0s\n",
      "[CV] colsample_bytree=0.6, subsample=0.5 .............................\n",
      "[CV]  colsample_bytree=0.6, subsample=0.5, score=0.811659, total=   0.0s\n",
      "[CV] colsample_bytree=0.6, subsample=0.5 .............................\n",
      "[CV]  colsample_bytree=0.6, subsample=0.5, score=0.819820, total=   0.0s\n",
      "[CV] colsample_bytree=0.6, subsample=0.6 .............................\n",
      "[CV]  colsample_bytree=0.6, subsample=0.6, score=0.811659, total=   0.0s\n",
      "[CV] colsample_bytree=0.6, subsample=0.6 .............................\n",
      "[CV]  colsample_bytree=0.6, subsample=0.6, score=0.838565, total=   0.0s\n",
      "[CV] colsample_bytree=0.6, subsample=0.6 .............................\n",
      "[CV]  colsample_bytree=0.6, subsample=0.6, score=0.811659, total=   0.0s\n",
      "[CV] colsample_bytree=0.6, subsample=0.6 .............................\n",
      "[CV]  colsample_bytree=0.6, subsample=0.6, score=0.810811, total=   0.0s\n",
      "[CV] colsample_bytree=0.6, subsample=0.7 .............................\n",
      "[CV]  colsample_bytree=0.6, subsample=0.7, score=0.802691, total=   0.0s\n",
      "[CV] colsample_bytree=0.6, subsample=0.7 .............................\n",
      "[CV]  colsample_bytree=0.6, subsample=0.7, score=0.834081, total=   0.0s\n",
      "[CV] colsample_bytree=0.6, subsample=0.7 .............................\n",
      "[CV]  colsample_bytree=0.6, subsample=0.7, score=0.811659, total=   0.0s\n",
      "[CV] colsample_bytree=0.6, subsample=0.7 .............................\n",
      "[CV]  colsample_bytree=0.6, subsample=0.7, score=0.819820, total=   0.0s\n",
      "[CV] colsample_bytree=0.6, subsample=0.8 .............................\n",
      "[CV]  colsample_bytree=0.6, subsample=0.8, score=0.789238, total=   0.1s\n",
      "[CV] colsample_bytree=0.6, subsample=0.8 .............................\n",
      "[CV]  colsample_bytree=0.6, subsample=0.8, score=0.834081, total=   0.0s\n",
      "[CV] colsample_bytree=0.6, subsample=0.8 .............................\n",
      "[CV]  colsample_bytree=0.6, subsample=0.8, score=0.811659, total=   0.0s\n",
      "[CV] colsample_bytree=0.6, subsample=0.8 .............................\n",
      "[CV]  colsample_bytree=0.6, subsample=0.8, score=0.824324, total=   0.0s\n",
      "[CV] colsample_bytree=0.6, subsample=0.9 .............................\n",
      "[CV]  colsample_bytree=0.6, subsample=0.9, score=0.789238, total=   0.0s\n",
      "[CV] colsample_bytree=0.6, subsample=0.9 .............................\n",
      "[CV]  colsample_bytree=0.6, subsample=0.9, score=0.834081, total=   0.0s\n",
      "[CV] colsample_bytree=0.6, subsample=0.9 .............................\n",
      "[CV]  colsample_bytree=0.6, subsample=0.9, score=0.820628, total=   0.0s\n",
      "[CV] colsample_bytree=0.6, subsample=0.9 .............................\n",
      "[CV]  colsample_bytree=0.6, subsample=0.9, score=0.833333, total=   0.0s\n",
      "[CV] colsample_bytree=0.6, subsample=1.0 .............................\n",
      "[CV]  colsample_bytree=0.6, subsample=1.0, score=0.784753, total=   0.0s\n",
      "[CV] colsample_bytree=0.6, subsample=1.0 .............................\n",
      "[CV]  colsample_bytree=0.6, subsample=1.0, score=0.834081, total=   0.0s\n",
      "[CV] colsample_bytree=0.6, subsample=1.0 .............................\n",
      "[CV]  colsample_bytree=0.6, subsample=1.0, score=0.811659, total=   0.0s\n",
      "[CV] colsample_bytree=0.6, subsample=1.0 .............................\n",
      "[CV]  colsample_bytree=0.6, subsample=1.0, score=0.819820, total=   0.0s\n",
      "[CV] colsample_bytree=0.7, subsample=0.5 .............................\n",
      "[CV]  colsample_bytree=0.7, subsample=0.5, score=0.811659, total=   0.0s\n",
      "[CV] colsample_bytree=0.7, subsample=0.5 .............................\n",
      "[CV]  colsample_bytree=0.7, subsample=0.5, score=0.829596, total=   0.0s\n",
      "[CV] colsample_bytree=0.7, subsample=0.5 .............................\n",
      "[CV]  colsample_bytree=0.7, subsample=0.5, score=0.807175, total=   0.0s\n",
      "[CV] colsample_bytree=0.7, subsample=0.5 .............................\n",
      "[CV]  colsample_bytree=0.7, subsample=0.5, score=0.806306, total=   0.0s\n",
      "[CV] colsample_bytree=0.7, subsample=0.6 .............................\n",
      "[CV]  colsample_bytree=0.7, subsample=0.6, score=0.793722, total=   0.0s\n",
      "[CV] colsample_bytree=0.7, subsample=0.6 .............................\n",
      "[CV]  colsample_bytree=0.7, subsample=0.6, score=0.838565, total=   0.0s\n",
      "[CV] colsample_bytree=0.7, subsample=0.6 .............................\n",
      "[CV]  colsample_bytree=0.7, subsample=0.6, score=0.811659, total=   0.0s\n",
      "[CV] colsample_bytree=0.7, subsample=0.6 .............................\n",
      "[CV]  colsample_bytree=0.7, subsample=0.6, score=0.824324, total=   0.0s\n",
      "[CV] colsample_bytree=0.7, subsample=0.7 .............................\n",
      "[CV]  colsample_bytree=0.7, subsample=0.7, score=0.793722, total=   0.0s\n",
      "[CV] colsample_bytree=0.7, subsample=0.7 .............................\n",
      "[CV]  colsample_bytree=0.7, subsample=0.7, score=0.834081, total=   0.0s\n",
      "[CV] colsample_bytree=0.7, subsample=0.7 .............................\n",
      "[CV]  colsample_bytree=0.7, subsample=0.7, score=0.807175, total=   0.0s\n",
      "[CV] colsample_bytree=0.7, subsample=0.7 .............................\n",
      "[CV]  colsample_bytree=0.7, subsample=0.7, score=0.810811, total=   0.0s\n",
      "[CV] colsample_bytree=0.7, subsample=0.8 .............................\n",
      "[CV]  colsample_bytree=0.7, subsample=0.8, score=0.789238, total=   0.0s\n",
      "[CV] colsample_bytree=0.7, subsample=0.8 .............................\n",
      "[CV]  colsample_bytree=0.7, subsample=0.8, score=0.829596, total=   0.0s\n",
      "[CV] colsample_bytree=0.7, subsample=0.8 .............................\n",
      "[CV]  colsample_bytree=0.7, subsample=0.8, score=0.816143, total=   0.0s\n",
      "[CV] colsample_bytree=0.7, subsample=0.8 .............................\n",
      "[CV]  colsample_bytree=0.7, subsample=0.8, score=0.828829, total=   0.0s\n",
      "[CV] colsample_bytree=0.7, subsample=0.9 .............................\n",
      "[CV]  colsample_bytree=0.7, subsample=0.9, score=0.789238, total=   0.0s\n",
      "[CV] colsample_bytree=0.7, subsample=0.9 .............................\n",
      "[CV]  colsample_bytree=0.7, subsample=0.9, score=0.834081, total=   0.0s\n",
      "[CV] colsample_bytree=0.7, subsample=0.9 .............................\n",
      "[CV]  colsample_bytree=0.7, subsample=0.9, score=0.820628, total=   0.0s\n",
      "[CV] colsample_bytree=0.7, subsample=0.9 .............................\n",
      "[CV]  colsample_bytree=0.7, subsample=0.9, score=0.815315, total=   0.0s\n",
      "[CV] colsample_bytree=0.7, subsample=1.0 .............................\n",
      "[CV]  colsample_bytree=0.7, subsample=1.0, score=0.784753, total=   0.0s\n",
      "[CV] colsample_bytree=0.7, subsample=1.0 .............................\n",
      "[CV]  colsample_bytree=0.7, subsample=1.0, score=0.829596, total=   0.0s\n",
      "[CV] colsample_bytree=0.7, subsample=1.0 .............................\n",
      "[CV]  colsample_bytree=0.7, subsample=1.0, score=0.807175, total=   0.0s\n",
      "[CV] colsample_bytree=0.7, subsample=1.0 .............................\n",
      "[CV]  colsample_bytree=0.7, subsample=1.0, score=0.837838, total=   0.0s\n",
      "[CV] colsample_bytree=0.8, subsample=0.5 .............................\n"
     ]
    },
    {
     "name": "stdout",
     "output_type": "stream",
     "text": [
      "[CV]  colsample_bytree=0.8, subsample=0.5, score=0.807175, total=   0.0s\n",
      "[CV] colsample_bytree=0.8, subsample=0.5 .............................\n",
      "[CV]  colsample_bytree=0.8, subsample=0.5, score=0.816143, total=   0.0s\n",
      "[CV] colsample_bytree=0.8, subsample=0.5 .............................\n",
      "[CV]  colsample_bytree=0.8, subsample=0.5, score=0.807175, total=   0.0s\n",
      "[CV] colsample_bytree=0.8, subsample=0.5 .............................\n",
      "[CV]  colsample_bytree=0.8, subsample=0.5, score=0.801802, total=   0.0s\n",
      "[CV] colsample_bytree=0.8, subsample=0.6 .............................\n",
      "[CV]  colsample_bytree=0.8, subsample=0.6, score=0.793722, total=   0.0s\n",
      "[CV] colsample_bytree=0.8, subsample=0.6 .............................\n",
      "[CV]  colsample_bytree=0.8, subsample=0.6, score=0.820628, total=   0.0s\n",
      "[CV] colsample_bytree=0.8, subsample=0.6 .............................\n",
      "[CV]  colsample_bytree=0.8, subsample=0.6, score=0.811659, total=   0.0s\n",
      "[CV] colsample_bytree=0.8, subsample=0.6 .............................\n",
      "[CV]  colsample_bytree=0.8, subsample=0.6, score=0.815315, total=   0.0s\n",
      "[CV] colsample_bytree=0.8, subsample=0.7 .............................\n",
      "[CV]  colsample_bytree=0.8, subsample=0.7, score=0.793722, total=   0.0s\n",
      "[CV] colsample_bytree=0.8, subsample=0.7 .............................\n",
      "[CV]  colsample_bytree=0.8, subsample=0.7, score=0.838565, total=   0.0s\n",
      "[CV] colsample_bytree=0.8, subsample=0.7 .............................\n",
      "[CV]  colsample_bytree=0.8, subsample=0.7, score=0.816143, total=   0.0s\n",
      "[CV] colsample_bytree=0.8, subsample=0.7 .............................\n",
      "[CV]  colsample_bytree=0.8, subsample=0.7, score=0.810811, total=   0.0s\n",
      "[CV] colsample_bytree=0.8, subsample=0.8 .............................\n",
      "[CV]  colsample_bytree=0.8, subsample=0.8, score=0.789238, total=   0.0s\n",
      "[CV] colsample_bytree=0.8, subsample=0.8 .............................\n",
      "[CV]  colsample_bytree=0.8, subsample=0.8, score=0.838565, total=   0.0s\n",
      "[CV] colsample_bytree=0.8, subsample=0.8 .............................\n",
      "[CV]  colsample_bytree=0.8, subsample=0.8, score=0.820628, total=   0.0s\n",
      "[CV] colsample_bytree=0.8, subsample=0.8 .............................\n",
      "[CV]  colsample_bytree=0.8, subsample=0.8, score=0.819820, total=   0.0s\n",
      "[CV] colsample_bytree=0.8, subsample=0.9 .............................\n",
      "[CV]  colsample_bytree=0.8, subsample=0.9, score=0.784753, total=   0.0s\n",
      "[CV] colsample_bytree=0.8, subsample=0.9 .............................\n",
      "[CV]  colsample_bytree=0.8, subsample=0.9, score=0.847534, total=   0.0s\n",
      "[CV] colsample_bytree=0.8, subsample=0.9 .............................\n",
      "[CV]  colsample_bytree=0.8, subsample=0.9, score=0.811659, total=   0.0s\n",
      "[CV] colsample_bytree=0.8, subsample=0.9 .............................\n",
      "[CV]  colsample_bytree=0.8, subsample=0.9, score=0.837838, total=   0.0s\n",
      "[CV] colsample_bytree=0.8, subsample=1.0 .............................\n",
      "[CV]  colsample_bytree=0.8, subsample=1.0, score=0.780269, total=   0.0s\n",
      "[CV] colsample_bytree=0.8, subsample=1.0 .............................\n",
      "[CV]  colsample_bytree=0.8, subsample=1.0, score=0.838565, total=   0.0s\n",
      "[CV] colsample_bytree=0.8, subsample=1.0 .............................\n",
      "[CV]  colsample_bytree=0.8, subsample=1.0, score=0.811659, total=   0.0s\n",
      "[CV] colsample_bytree=0.8, subsample=1.0 .............................\n",
      "[CV]  colsample_bytree=0.8, subsample=1.0, score=0.824324, total=   0.0s\n",
      "[CV] colsample_bytree=0.9, subsample=0.5 .............................\n",
      "[CV]  colsample_bytree=0.9, subsample=0.5, score=0.802691, total=   0.0s\n",
      "[CV] colsample_bytree=0.9, subsample=0.5 .............................\n",
      "[CV]  colsample_bytree=0.9, subsample=0.5, score=0.820628, total=   0.0s\n",
      "[CV] colsample_bytree=0.9, subsample=0.5 .............................\n",
      "[CV]  colsample_bytree=0.9, subsample=0.5, score=0.802691, total=   0.0s\n",
      "[CV] colsample_bytree=0.9, subsample=0.5 .............................\n",
      "[CV]  colsample_bytree=0.9, subsample=0.5, score=0.810811, total=   0.0s\n",
      "[CV] colsample_bytree=0.9, subsample=0.6 .............................\n",
      "[CV]  colsample_bytree=0.9, subsample=0.6, score=0.789238, total=   0.0s\n",
      "[CV] colsample_bytree=0.9, subsample=0.6 .............................\n",
      "[CV]  colsample_bytree=0.9, subsample=0.6, score=0.829596, total=   0.0s\n",
      "[CV] colsample_bytree=0.9, subsample=0.6 .............................\n",
      "[CV]  colsample_bytree=0.9, subsample=0.6, score=0.811659, total=   0.1s\n",
      "[CV] colsample_bytree=0.9, subsample=0.6 .............................\n",
      "[CV]  colsample_bytree=0.9, subsample=0.6, score=0.819820, total=   0.0s\n",
      "[CV] colsample_bytree=0.9, subsample=0.7 .............................\n",
      "[CV]  colsample_bytree=0.9, subsample=0.7, score=0.793722, total=   0.0s\n",
      "[CV] colsample_bytree=0.9, subsample=0.7 .............................\n",
      "[CV]  colsample_bytree=0.9, subsample=0.7, score=0.843049, total=   0.0s\n",
      "[CV] colsample_bytree=0.9, subsample=0.7 .............................\n",
      "[CV]  colsample_bytree=0.9, subsample=0.7, score=0.811659, total=   0.0s\n",
      "[CV] colsample_bytree=0.9, subsample=0.7 .............................\n",
      "[CV]  colsample_bytree=0.9, subsample=0.7, score=0.819820, total=   0.0s\n",
      "[CV] colsample_bytree=0.9, subsample=0.8 .............................\n",
      "[CV]  colsample_bytree=0.9, subsample=0.8, score=0.789238, total=   0.0s\n",
      "[CV] colsample_bytree=0.9, subsample=0.8 .............................\n",
      "[CV]  colsample_bytree=0.9, subsample=0.8, score=0.847534, total=   0.0s\n",
      "[CV] colsample_bytree=0.9, subsample=0.8 .............................\n",
      "[CV]  colsample_bytree=0.9, subsample=0.8, score=0.816143, total=   0.0s\n",
      "[CV] colsample_bytree=0.9, subsample=0.8 .............................\n",
      "[CV]  colsample_bytree=0.9, subsample=0.8, score=0.824324, total=   0.0s\n",
      "[CV] colsample_bytree=0.9, subsample=0.9 .............................\n",
      "[CV]  colsample_bytree=0.9, subsample=0.9, score=0.789238, total=   0.0s\n",
      "[CV] colsample_bytree=0.9, subsample=0.9 .............................\n",
      "[CV]  colsample_bytree=0.9, subsample=0.9, score=0.838565, total=   0.0s\n",
      "[CV] colsample_bytree=0.9, subsample=0.9 .............................\n",
      "[CV]  colsample_bytree=0.9, subsample=0.9, score=0.811659, total=   0.0s\n",
      "[CV] colsample_bytree=0.9, subsample=0.9 .............................\n",
      "[CV]  colsample_bytree=0.9, subsample=0.9, score=0.842342, total=   0.0s\n",
      "[CV] colsample_bytree=0.9, subsample=1.0 .............................\n",
      "[CV]  colsample_bytree=0.9, subsample=1.0, score=0.775785, total=   0.0s\n",
      "[CV] colsample_bytree=0.9, subsample=1.0 .............................\n",
      "[CV]  colsample_bytree=0.9, subsample=1.0, score=0.843049, total=   0.0s\n",
      "[CV] colsample_bytree=0.9, subsample=1.0 .............................\n",
      "[CV]  colsample_bytree=0.9, subsample=1.0, score=0.811659, total=   0.0s\n",
      "[CV] colsample_bytree=0.9, subsample=1.0 .............................\n",
      "[CV]  colsample_bytree=0.9, subsample=1.0, score=0.837838, total=   0.0s\n",
      "[CV] colsample_bytree=1.0, subsample=0.5 .............................\n",
      "[CV]  colsample_bytree=1.0, subsample=0.5, score=0.802691, total=   0.0s\n",
      "[CV] colsample_bytree=1.0, subsample=0.5 .............................\n",
      "[CV]  colsample_bytree=1.0, subsample=0.5, score=0.820628, total=   0.0s\n",
      "[CV] colsample_bytree=1.0, subsample=0.5 .............................\n",
      "[CV]  colsample_bytree=1.0, subsample=0.5, score=0.807175, total=   0.0s\n",
      "[CV] colsample_bytree=1.0, subsample=0.5 .............................\n",
      "[CV]  colsample_bytree=1.0, subsample=0.5, score=0.815315, total=   0.0s\n",
      "[CV] colsample_bytree=1.0, subsample=0.6 .............................\n",
      "[CV]  colsample_bytree=1.0, subsample=0.6, score=0.798206, total=   0.0s\n",
      "[CV] colsample_bytree=1.0, subsample=0.6 .............................\n",
      "[CV]  colsample_bytree=1.0, subsample=0.6, score=0.838565, total=   0.0s\n",
      "[CV] colsample_bytree=1.0, subsample=0.6 .............................\n",
      "[CV]  colsample_bytree=1.0, subsample=0.6, score=0.811659, total=   0.0s\n",
      "[CV] colsample_bytree=1.0, subsample=0.6 .............................\n",
      "[CV]  colsample_bytree=1.0, subsample=0.6, score=0.815315, total=   0.0s\n",
      "[CV] colsample_bytree=1.0, subsample=0.7 .............................\n",
      "[CV]  colsample_bytree=1.0, subsample=0.7, score=0.798206, total=   0.0s\n",
      "[CV] colsample_bytree=1.0, subsample=0.7 .............................\n",
      "[CV]  colsample_bytree=1.0, subsample=0.7, score=0.847534, total=   0.0s\n",
      "[CV] colsample_bytree=1.0, subsample=0.7 .............................\n",
      "[CV]  colsample_bytree=1.0, subsample=0.7, score=0.820628, total=   0.0s\n",
      "[CV] colsample_bytree=1.0, subsample=0.7 .............................\n",
      "[CV]  colsample_bytree=1.0, subsample=0.7, score=0.819820, total=   0.0s\n",
      "[CV] colsample_bytree=1.0, subsample=0.8 .............................\n",
      "[CV]  colsample_bytree=1.0, subsample=0.8, score=0.793722, total=   0.0s\n",
      "[CV] colsample_bytree=1.0, subsample=0.8 .............................\n",
      "[CV]  colsample_bytree=1.0, subsample=0.8, score=0.838565, total=   0.0s\n",
      "[CV] colsample_bytree=1.0, subsample=0.8 .............................\n",
      "[CV]  colsample_bytree=1.0, subsample=0.8, score=0.820628, total=   0.0s\n",
      "[CV] colsample_bytree=1.0, subsample=0.8 .............................\n",
      "[CV]  colsample_bytree=1.0, subsample=0.8, score=0.806306, total=   0.0s\n",
      "[CV] colsample_bytree=1.0, subsample=0.9 .............................\n"
     ]
    },
    {
     "name": "stdout",
     "output_type": "stream",
     "text": [
      "[CV]  colsample_bytree=1.0, subsample=0.9, score=0.780269, total=   0.0s\n",
      "[CV] colsample_bytree=1.0, subsample=0.9 .............................\n",
      "[CV]  colsample_bytree=1.0, subsample=0.9, score=0.843049, total=   0.0s\n",
      "[CV] colsample_bytree=1.0, subsample=0.9 .............................\n",
      "[CV]  colsample_bytree=1.0, subsample=0.9, score=0.816143, total=   0.0s\n",
      "[CV] colsample_bytree=1.0, subsample=0.9 .............................\n",
      "[CV]  colsample_bytree=1.0, subsample=0.9, score=0.824324, total=   0.0s\n",
      "[CV] colsample_bytree=1.0, subsample=1.0 .............................\n",
      "[CV]  colsample_bytree=1.0, subsample=1.0, score=0.775785, total=   0.0s\n",
      "[CV] colsample_bytree=1.0, subsample=1.0 .............................\n",
      "[CV]  colsample_bytree=1.0, subsample=1.0, score=0.838565, total=   0.0s\n",
      "[CV] colsample_bytree=1.0, subsample=1.0 .............................\n",
      "[CV]  colsample_bytree=1.0, subsample=1.0, score=0.811659, total=   0.0s\n",
      "[CV] colsample_bytree=1.0, subsample=1.0 .............................\n",
      "[CV]  colsample_bytree=1.0, subsample=1.0, score=0.833333, total=   0.0s\n",
      "Best score (ACC):  0.821548821549\n",
      "Best params: \n"
     ]
    },
    {
     "name": "stderr",
     "output_type": "stream",
     "text": [
      "[Parallel(n_jobs=1)]: Done 144 out of 144 | elapsed:    4.7s finished\n"
     ]
    },
    {
     "data": {
      "text/plain": [
       "{'base_score': 0.5,\n",
       " 'colsample_bylevel': 1,\n",
       " 'colsample_bytree': 1.0,\n",
       " 'gamma': 0.4,\n",
       " 'learning_rate': 0.1,\n",
       " 'max_delta_step': 0,\n",
       " 'max_depth': 3,\n",
       " 'min_child_weight': 1,\n",
       " 'missing': None,\n",
       " 'n_estimators': 50,\n",
       " 'nthread': -1,\n",
       " 'objective': 'binary:logistic',\n",
       " 'reg_alpha': 0.0,\n",
       " 'reg_lambda': 1.0,\n",
       " 'scale_pos_weight': 0.6229508196721312,\n",
       " 'seed': 0,\n",
       " 'silent': True,\n",
       " 'subsample': 0.7}"
      ]
     },
     "execution_count": 29,
     "metadata": {},
     "output_type": "execute_result"
    }
   ],
   "source": [
    "param_grid = {\n",
    "    'subsample': [0.5 + 0.1*i for i in range(6)],\n",
    "    'colsample_bytree': [0.5 + 0.1*i for i in range(6)]\n",
    "}\n",
    "\n",
    "clf = XGBClassifier(**best_params)\n",
    "\n",
    "gs = GridSearchCV(clf, param_grid, scoring='accuracy', cv=cv, verbose=5)\n",
    "\n",
    "gs.fit(X_train, y_train)\n",
    "best_params = gs.best_estimator_.get_params()\n",
    "print('Best score (ACC): ', gs.best_score_)\n",
    "print('Best params: ')\n",
    "best_params"
   ]
  },
  {
   "cell_type": "code",
   "execution_count": 30,
   "metadata": {},
   "outputs": [
    {
     "name": "stdout",
     "output_type": "stream",
     "text": [
      "Fitting 4 folds for each of 25 candidates, totalling 100 fits\n",
      "[CV] reg_alpha=1e-05, reg_lambda=1e-05 ...............................\n",
      "[CV]  reg_alpha=1e-05, reg_lambda=1e-05, score=0.793722, total=   0.2s\n",
      "[CV] reg_alpha=1e-05, reg_lambda=1e-05 ...............................\n",
      "[CV]  reg_alpha=1e-05, reg_lambda=1e-05, score=0.784753, total=   0.0s\n",
      "[CV] reg_alpha=1e-05, reg_lambda=1e-05 ...............................\n",
      "[CV]  reg_alpha=1e-05, reg_lambda=1e-05, score=0.860987, total=   0.0s\n",
      "[CV] reg_alpha=1e-05, reg_lambda=1e-05 ...............................\n",
      "[CV]  reg_alpha=1e-05, reg_lambda=1e-05, score=0.819820, total=   0.0s\n",
      "[CV] reg_alpha=1e-05, reg_lambda=0.01 ................................\n",
      "[CV] . reg_alpha=1e-05, reg_lambda=0.01, score=0.793722, total=   0.0s\n",
      "[CV] reg_alpha=1e-05, reg_lambda=0.01 ................................\n",
      "[CV] . reg_alpha=1e-05, reg_lambda=0.01, score=0.793722, total=   0.0s\n",
      "[CV] reg_alpha=1e-05, reg_lambda=0.01 ................................\n",
      "[CV] . reg_alpha=1e-05, reg_lambda=0.01, score=0.852018, total=   0.0s\n",
      "[CV] reg_alpha=1e-05, reg_lambda=0.01 ................................\n",
      "[CV] . reg_alpha=1e-05, reg_lambda=0.01, score=0.824324, total=   0.0s\n",
      "[CV] reg_alpha=1e-05, reg_lambda=0.1 .................................\n",
      "[CV] .. reg_alpha=1e-05, reg_lambda=0.1, score=0.789238, total=   0.0s\n",
      "[CV] reg_alpha=1e-05, reg_lambda=0.1 .................................\n",
      "[CV] .. reg_alpha=1e-05, reg_lambda=0.1, score=0.802691, total=   0.0s\n",
      "[CV] reg_alpha=1e-05, reg_lambda=0.1 .................................\n",
      "[CV] .. reg_alpha=1e-05, reg_lambda=0.1, score=0.852018, total=   0.0s\n",
      "[CV] reg_alpha=1e-05, reg_lambda=0.1 .................................\n"
     ]
    },
    {
     "name": "stderr",
     "output_type": "stream",
     "text": [
      "[Parallel(n_jobs=1)]: Done   1 out of   1 | elapsed:    0.2s remaining:    0.0s\n",
      "[Parallel(n_jobs=1)]: Done   2 out of   2 | elapsed:    0.3s remaining:    0.0s\n",
      "[Parallel(n_jobs=1)]: Done   3 out of   3 | elapsed:    0.3s remaining:    0.0s\n",
      "[Parallel(n_jobs=1)]: Done   4 out of   4 | elapsed:    0.3s remaining:    0.0s\n"
     ]
    },
    {
     "name": "stdout",
     "output_type": "stream",
     "text": [
      "[CV] .. reg_alpha=1e-05, reg_lambda=0.1, score=0.824324, total=   0.0s\n",
      "[CV] reg_alpha=1e-05, reg_lambda=1 ...................................\n",
      "[CV] .... reg_alpha=1e-05, reg_lambda=1, score=0.775785, total=   0.0s\n",
      "[CV] reg_alpha=1e-05, reg_lambda=1 ...................................\n",
      "[CV] .... reg_alpha=1e-05, reg_lambda=1, score=0.807175, total=   0.0s\n",
      "[CV] reg_alpha=1e-05, reg_lambda=1 ...................................\n",
      "[CV] .... reg_alpha=1e-05, reg_lambda=1, score=0.865471, total=   0.0s\n",
      "[CV] reg_alpha=1e-05, reg_lambda=1 ...................................\n",
      "[CV] .... reg_alpha=1e-05, reg_lambda=1, score=0.810811, total=   0.0s\n",
      "[CV] reg_alpha=1e-05, reg_lambda=100 .................................\n",
      "[CV] .. reg_alpha=1e-05, reg_lambda=100, score=0.735426, total=   0.0s\n",
      "[CV] reg_alpha=1e-05, reg_lambda=100 .................................\n",
      "[CV] .. reg_alpha=1e-05, reg_lambda=100, score=0.780269, total=   0.0s\n",
      "[CV] reg_alpha=1e-05, reg_lambda=100 .................................\n",
      "[CV] .. reg_alpha=1e-05, reg_lambda=100, score=0.843049, total=   0.0s\n",
      "[CV] reg_alpha=1e-05, reg_lambda=100 .................................\n",
      "[CV] .. reg_alpha=1e-05, reg_lambda=100, score=0.792793, total=   0.0s\n",
      "[CV] reg_alpha=0.01, reg_lambda=1e-05 ................................\n",
      "[CV] . reg_alpha=0.01, reg_lambda=1e-05, score=0.784753, total=   0.0s\n",
      "[CV] reg_alpha=0.01, reg_lambda=1e-05 ................................\n",
      "[CV] . reg_alpha=0.01, reg_lambda=1e-05, score=0.793722, total=   0.0s\n",
      "[CV] reg_alpha=0.01, reg_lambda=1e-05 ................................\n",
      "[CV] . reg_alpha=0.01, reg_lambda=1e-05, score=0.852018, total=   0.0s\n",
      "[CV] reg_alpha=0.01, reg_lambda=1e-05 ................................\n",
      "[CV] . reg_alpha=0.01, reg_lambda=1e-05, score=0.824324, total=   0.0s\n",
      "[CV] reg_alpha=0.01, reg_lambda=0.01 .................................\n",
      "[CV] .. reg_alpha=0.01, reg_lambda=0.01, score=0.784753, total=   0.0s\n",
      "[CV] reg_alpha=0.01, reg_lambda=0.01 .................................\n",
      "[CV] .. reg_alpha=0.01, reg_lambda=0.01, score=0.793722, total=   0.0s\n",
      "[CV] reg_alpha=0.01, reg_lambda=0.01 .................................\n",
      "[CV] .. reg_alpha=0.01, reg_lambda=0.01, score=0.852018, total=   0.0s\n",
      "[CV] reg_alpha=0.01, reg_lambda=0.01 .................................\n",
      "[CV] .. reg_alpha=0.01, reg_lambda=0.01, score=0.824324, total=   0.0s\n",
      "[CV] reg_alpha=0.01, reg_lambda=0.1 ..................................\n",
      "[CV] ... reg_alpha=0.01, reg_lambda=0.1, score=0.789238, total=   0.0s\n",
      "[CV] reg_alpha=0.01, reg_lambda=0.1 ..................................\n",
      "[CV] ... reg_alpha=0.01, reg_lambda=0.1, score=0.802691, total=   0.0s\n",
      "[CV] reg_alpha=0.01, reg_lambda=0.1 ..................................\n",
      "[CV] ... reg_alpha=0.01, reg_lambda=0.1, score=0.856502, total=   0.0s\n",
      "[CV] reg_alpha=0.01, reg_lambda=0.1 ..................................\n",
      "[CV] ... reg_alpha=0.01, reg_lambda=0.1, score=0.824324, total=   0.0s\n",
      "[CV] reg_alpha=0.01, reg_lambda=1 ....................................\n",
      "[CV] ..... reg_alpha=0.01, reg_lambda=1, score=0.775785, total=   0.0s\n",
      "[CV] reg_alpha=0.01, reg_lambda=1 ....................................\n",
      "[CV] ..... reg_alpha=0.01, reg_lambda=1, score=0.807175, total=   0.0s\n",
      "[CV] reg_alpha=0.01, reg_lambda=1 ....................................\n",
      "[CV] ..... reg_alpha=0.01, reg_lambda=1, score=0.865471, total=   0.0s\n",
      "[CV] reg_alpha=0.01, reg_lambda=1 ....................................\n",
      "[CV] ..... reg_alpha=0.01, reg_lambda=1, score=0.815315, total=   0.0s\n",
      "[CV] reg_alpha=0.01, reg_lambda=100 ..................................\n",
      "[CV] ... reg_alpha=0.01, reg_lambda=100, score=0.735426, total=   0.0s\n",
      "[CV] reg_alpha=0.01, reg_lambda=100 ..................................\n",
      "[CV] ... reg_alpha=0.01, reg_lambda=100, score=0.780269, total=   0.0s\n",
      "[CV] reg_alpha=0.01, reg_lambda=100 ..................................\n",
      "[CV] ... reg_alpha=0.01, reg_lambda=100, score=0.843049, total=   0.0s\n",
      "[CV] reg_alpha=0.01, reg_lambda=100 ..................................\n",
      "[CV] ... reg_alpha=0.01, reg_lambda=100, score=0.792793, total=   0.0s\n",
      "[CV] reg_alpha=0.1, reg_lambda=1e-05 .................................\n",
      "[CV] .. reg_alpha=0.1, reg_lambda=1e-05, score=0.789238, total=   0.0s\n",
      "[CV] reg_alpha=0.1, reg_lambda=1e-05 .................................\n",
      "[CV] .. reg_alpha=0.1, reg_lambda=1e-05, score=0.798206, total=   0.0s\n",
      "[CV] reg_alpha=0.1, reg_lambda=1e-05 .................................\n",
      "[CV] .. reg_alpha=0.1, reg_lambda=1e-05, score=0.860987, total=   0.0s\n",
      "[CV] reg_alpha=0.1, reg_lambda=1e-05 .................................\n",
      "[CV] .. reg_alpha=0.1, reg_lambda=1e-05, score=0.819820, total=   0.0s\n",
      "[CV] reg_alpha=0.1, reg_lambda=0.01 ..................................\n",
      "[CV] ... reg_alpha=0.1, reg_lambda=0.01, score=0.789238, total=   0.0s\n",
      "[CV] reg_alpha=0.1, reg_lambda=0.01 ..................................\n",
      "[CV] ... reg_alpha=0.1, reg_lambda=0.01, score=0.802691, total=   0.0s\n",
      "[CV] reg_alpha=0.1, reg_lambda=0.01 ..................................\n",
      "[CV] ... reg_alpha=0.1, reg_lambda=0.01, score=0.860987, total=   0.0s\n",
      "[CV] reg_alpha=0.1, reg_lambda=0.01 ..................................\n",
      "[CV] ... reg_alpha=0.1, reg_lambda=0.01, score=0.819820, total=   0.0s\n",
      "[CV] reg_alpha=0.1, reg_lambda=0.1 ...................................\n",
      "[CV] .... reg_alpha=0.1, reg_lambda=0.1, score=0.784753, total=   0.0s\n",
      "[CV] reg_alpha=0.1, reg_lambda=0.1 ...................................\n",
      "[CV] .... reg_alpha=0.1, reg_lambda=0.1, score=0.798206, total=   0.0s\n",
      "[CV] reg_alpha=0.1, reg_lambda=0.1 ...................................\n",
      "[CV] .... reg_alpha=0.1, reg_lambda=0.1, score=0.865471, total=   0.0s\n",
      "[CV] reg_alpha=0.1, reg_lambda=0.1 ...................................\n",
      "[CV] .... reg_alpha=0.1, reg_lambda=0.1, score=0.810811, total=   0.0s\n",
      "[CV] reg_alpha=0.1, reg_lambda=1 .....................................\n",
      "[CV] ...... reg_alpha=0.1, reg_lambda=1, score=0.780269, total=   0.0s\n",
      "[CV] reg_alpha=0.1, reg_lambda=1 .....................................\n",
      "[CV] ...... reg_alpha=0.1, reg_lambda=1, score=0.807175, total=   0.0s\n",
      "[CV] reg_alpha=0.1, reg_lambda=1 .....................................\n",
      "[CV] ...... reg_alpha=0.1, reg_lambda=1, score=0.856502, total=   0.0s\n",
      "[CV] reg_alpha=0.1, reg_lambda=1 .....................................\n",
      "[CV] ...... reg_alpha=0.1, reg_lambda=1, score=0.810811, total=   0.0s\n",
      "[CV] reg_alpha=0.1, reg_lambda=100 ...................................\n",
      "[CV] .... reg_alpha=0.1, reg_lambda=100, score=0.735426, total=   0.0s\n",
      "[CV] reg_alpha=0.1, reg_lambda=100 ...................................\n",
      "[CV] .... reg_alpha=0.1, reg_lambda=100, score=0.780269, total=   0.0s\n",
      "[CV] reg_alpha=0.1, reg_lambda=100 ...................................\n",
      "[CV] .... reg_alpha=0.1, reg_lambda=100, score=0.838565, total=   0.0s\n",
      "[CV] reg_alpha=0.1, reg_lambda=100 ...................................\n",
      "[CV] .... reg_alpha=0.1, reg_lambda=100, score=0.792793, total=   0.0s\n",
      "[CV] reg_alpha=1, reg_lambda=1e-05 ...................................\n",
      "[CV] .... reg_alpha=1, reg_lambda=1e-05, score=0.784753, total=   0.0s\n",
      "[CV] reg_alpha=1, reg_lambda=1e-05 ...................................\n",
      "[CV] .... reg_alpha=1, reg_lambda=1e-05, score=0.811659, total=   0.0s\n",
      "[CV] reg_alpha=1, reg_lambda=1e-05 ...................................\n",
      "[CV] .... reg_alpha=1, reg_lambda=1e-05, score=0.869955, total=   0.0s\n",
      "[CV] reg_alpha=1, reg_lambda=1e-05 ...................................\n",
      "[CV] .... reg_alpha=1, reg_lambda=1e-05, score=0.810811, total=   0.0s\n",
      "[CV] reg_alpha=1, reg_lambda=0.01 ....................................\n",
      "[CV] ..... reg_alpha=1, reg_lambda=0.01, score=0.780269, total=   0.0s\n",
      "[CV] reg_alpha=1, reg_lambda=0.01 ....................................\n",
      "[CV] ..... reg_alpha=1, reg_lambda=0.01, score=0.816143, total=   0.0s\n",
      "[CV] reg_alpha=1, reg_lambda=0.01 ....................................\n",
      "[CV] ..... reg_alpha=1, reg_lambda=0.01, score=0.869955, total=   0.0s\n",
      "[CV] reg_alpha=1, reg_lambda=0.01 ....................................\n",
      "[CV] ..... reg_alpha=1, reg_lambda=0.01, score=0.810811, total=   0.0s\n",
      "[CV] reg_alpha=1, reg_lambda=0.1 .....................................\n",
      "[CV] ...... reg_alpha=1, reg_lambda=0.1, score=0.775785, total=   0.0s\n",
      "[CV] reg_alpha=1, reg_lambda=0.1 .....................................\n",
      "[CV] ...... reg_alpha=1, reg_lambda=0.1, score=0.811659, total=   0.0s\n",
      "[CV] reg_alpha=1, reg_lambda=0.1 .....................................\n"
     ]
    },
    {
     "name": "stdout",
     "output_type": "stream",
     "text": [
      "[CV] ...... reg_alpha=1, reg_lambda=0.1, score=0.869955, total=   0.0s\n",
      "[CV] reg_alpha=1, reg_lambda=0.1 .....................................\n",
      "[CV] ...... reg_alpha=1, reg_lambda=0.1, score=0.810811, total=   0.0s\n",
      "[CV] reg_alpha=1, reg_lambda=1 .......................................\n",
      "[CV] ........ reg_alpha=1, reg_lambda=1, score=0.780269, total=   0.0s\n",
      "[CV] reg_alpha=1, reg_lambda=1 .......................................\n",
      "[CV] ........ reg_alpha=1, reg_lambda=1, score=0.807175, total=   0.0s\n",
      "[CV] reg_alpha=1, reg_lambda=1 .......................................\n",
      "[CV] ........ reg_alpha=1, reg_lambda=1, score=0.869955, total=   0.0s\n",
      "[CV] reg_alpha=1, reg_lambda=1 .......................................\n",
      "[CV] ........ reg_alpha=1, reg_lambda=1, score=0.815315, total=   0.0s\n",
      "[CV] reg_alpha=1, reg_lambda=100 .....................................\n",
      "[CV] ...... reg_alpha=1, reg_lambda=100, score=0.739910, total=   0.0s\n",
      "[CV] reg_alpha=1, reg_lambda=100 .....................................\n",
      "[CV] ...... reg_alpha=1, reg_lambda=100, score=0.780269, total=   0.0s\n",
      "[CV] reg_alpha=1, reg_lambda=100 .....................................\n",
      "[CV] ...... reg_alpha=1, reg_lambda=100, score=0.843049, total=   0.0s\n",
      "[CV] reg_alpha=1, reg_lambda=100 .....................................\n",
      "[CV] ...... reg_alpha=1, reg_lambda=100, score=0.792793, total=   0.0s\n",
      "[CV] reg_alpha=100, reg_lambda=1e-05 .................................\n",
      "[CV] .. reg_alpha=100, reg_lambda=1e-05, score=0.556054, total=   0.0s\n",
      "[CV] reg_alpha=100, reg_lambda=1e-05 .................................\n",
      "[CV] .. reg_alpha=100, reg_lambda=1e-05, score=0.600897, total=   0.0s\n",
      "[CV] reg_alpha=100, reg_lambda=1e-05 .................................\n",
      "[CV] .. reg_alpha=100, reg_lambda=1e-05, score=0.672646, total=   0.0s\n",
      "[CV] reg_alpha=100, reg_lambda=1e-05 .................................\n",
      "[CV] .. reg_alpha=100, reg_lambda=1e-05, score=0.635135, total=   0.0s\n",
      "[CV] reg_alpha=100, reg_lambda=0.01 ..................................\n",
      "[CV] ... reg_alpha=100, reg_lambda=0.01, score=0.556054, total=   0.0s\n",
      "[CV] reg_alpha=100, reg_lambda=0.01 ..................................\n",
      "[CV] ... reg_alpha=100, reg_lambda=0.01, score=0.600897, total=   0.0s\n",
      "[CV] reg_alpha=100, reg_lambda=0.01 ..................................\n",
      "[CV] ... reg_alpha=100, reg_lambda=0.01, score=0.672646, total=   0.0s\n",
      "[CV] reg_alpha=100, reg_lambda=0.01 ..................................\n",
      "[CV] ... reg_alpha=100, reg_lambda=0.01, score=0.635135, total=   0.0s\n",
      "[CV] reg_alpha=100, reg_lambda=0.1 ...................................\n",
      "[CV] .... reg_alpha=100, reg_lambda=0.1, score=0.556054, total=   0.0s\n",
      "[CV] reg_alpha=100, reg_lambda=0.1 ...................................\n",
      "[CV] .... reg_alpha=100, reg_lambda=0.1, score=0.600897, total=   0.0s\n",
      "[CV] reg_alpha=100, reg_lambda=0.1 ...................................\n",
      "[CV] .... reg_alpha=100, reg_lambda=0.1, score=0.672646, total=   0.0s\n",
      "[CV] reg_alpha=100, reg_lambda=0.1 ...................................\n",
      "[CV] .... reg_alpha=100, reg_lambda=0.1, score=0.635135, total=   0.0s\n",
      "[CV] reg_alpha=100, reg_lambda=1 .....................................\n",
      "[CV] ...... reg_alpha=100, reg_lambda=1, score=0.556054, total=   0.0s\n",
      "[CV] reg_alpha=100, reg_lambda=1 .....................................\n",
      "[CV] ...... reg_alpha=100, reg_lambda=1, score=0.600897, total=   0.0s\n",
      "[CV] reg_alpha=100, reg_lambda=1 .....................................\n",
      "[CV] ...... reg_alpha=100, reg_lambda=1, score=0.672646, total=   0.0s\n",
      "[CV] reg_alpha=100, reg_lambda=1 .....................................\n",
      "[CV] ...... reg_alpha=100, reg_lambda=1, score=0.635135, total=   0.0s\n",
      "[CV] reg_alpha=100, reg_lambda=100 ...................................\n",
      "[CV] .... reg_alpha=100, reg_lambda=100, score=0.556054, total=   0.0s\n",
      "[CV] reg_alpha=100, reg_lambda=100 ...................................\n",
      "[CV] .... reg_alpha=100, reg_lambda=100, score=0.600897, total=   0.0s\n",
      "[CV] reg_alpha=100, reg_lambda=100 ...................................\n",
      "[CV] .... reg_alpha=100, reg_lambda=100, score=0.672646, total=   0.0s\n",
      "[CV] reg_alpha=100, reg_lambda=100 ...................................\n",
      "[CV] .... reg_alpha=100, reg_lambda=100, score=0.635135, total=   0.0s\n",
      "Best score (ACC):  0.819304152637\n",
      "Best params: \n"
     ]
    },
    {
     "name": "stderr",
     "output_type": "stream",
     "text": [
      "[Parallel(n_jobs=1)]: Done 100 out of 100 | elapsed:    2.4s finished\n"
     ]
    },
    {
     "data": {
      "text/plain": [
       "{'base_score': 0.5,\n",
       " 'colsample_bylevel': 1,\n",
       " 'colsample_bytree': 1.0,\n",
       " 'gamma': 0.4,\n",
       " 'learning_rate': 0.1,\n",
       " 'max_delta_step': 0,\n",
       " 'max_depth': 3,\n",
       " 'min_child_weight': 1,\n",
       " 'missing': None,\n",
       " 'n_estimators': 50,\n",
       " 'nthread': -1,\n",
       " 'objective': 'binary:logistic',\n",
       " 'reg_alpha': 1,\n",
       " 'reg_lambda': 1e-05,\n",
       " 'scale_pos_weight': 0.6229508196721312,\n",
       " 'seed': 0,\n",
       " 'silent': True,\n",
       " 'subsample': 0.7}"
      ]
     },
     "execution_count": 30,
     "metadata": {},
     "output_type": "execute_result"
    }
   ],
   "source": [
    "param_grid = {\n",
    "    'reg_alpha': [1e-5, 1e-2, 0.1, 1, 100],\n",
    "    'reg_lambda': [1e-5, 1e-2, 0.1, 1, 100]\n",
    "}\n",
    "\n",
    "clf = XGBClassifier(**best_params)\n",
    "\n",
    "gs = GridSearchCV(clf, param_grid, scoring='accuracy', cv=cv, verbose=5)\n",
    "\n",
    "gs.fit(X_train, y_train)\n",
    "best_params = gs.best_estimator_.get_params()\n",
    "print('Best score (ACC): ', gs.best_score_)\n",
    "print('Best params: ')\n",
    "best_params"
   ]
  },
  {
   "cell_type": "code",
   "execution_count": 32,
   "metadata": {},
   "outputs": [
    {
     "name": "stdout",
     "output_type": "stream",
     "text": [
      "Best score (AUC):  0.822698258797\n",
      "Best params: \n"
     ]
    },
    {
     "data": {
      "text/plain": [
       "{'base_score': 0.5,\n",
       " 'colsample_bylevel': 1,\n",
       " 'colsample_bytree': 1.0,\n",
       " 'gamma': 0.4,\n",
       " 'learning_rate': 0.025,\n",
       " 'max_delta_step': 0,\n",
       " 'max_depth': 3,\n",
       " 'min_child_weight': 1,\n",
       " 'missing': None,\n",
       " 'n_estimators': 200,\n",
       " 'nthread': -1,\n",
       " 'objective': 'binary:logistic',\n",
       " 'reg_alpha': 1,\n",
       " 'reg_lambda': 1e-05,\n",
       " 'scale_pos_weight': 0.6229508196721312,\n",
       " 'seed': 0,\n",
       " 'silent': True,\n",
       " 'subsample': 0.7}"
      ]
     },
     "execution_count": 32,
     "metadata": {},
     "output_type": "execute_result"
    }
   ],
   "source": [
    "import numpy as np\n",
    "from sklearn.metrics import accuracy_score\n",
    "\n",
    "clf = XGBClassifier(**best_params)\n",
    "best_n_estimators = clf.get_params()['n_estimators'] # возьмём наилучшие значения n_estimators с предыдущего шага\n",
    "best_learning_rate = best_params['learning_rate'] # аналогичная запись\n",
    "invariant_composition = best_n_estimators * best_learning_rate\n",
    "n_estimators_range = [10, 30, 100, 200, 400, 600, 800, 1000]\n",
    "\n",
    "best_score = gs.best_score_ # возьмём наилучшее качество с предыдущего шага\n",
    "\n",
    "for n_estimators in n_estimators_range:\n",
    "    learning_rate = invariant_composition / n_estimators\n",
    "    clf.set_params(n_estimators=n_estimators, learning_rate=learning_rate)\n",
    "    aucs = []\n",
    "    for train_idx, test_idx in cv.split(X_train):\n",
    "        X_train_fold, X_test_fold = X_train.iloc[train_idx], X_train.iloc[test_idx]\n",
    "        y_train_fold, y_test_fold = y_train.iloc[train_idx], y_train.iloc[test_idx]\n",
    "        clf.fit(X_train_fold, y_train_fold)\n",
    "        preds = clf.predict(X_test_fold)\n",
    "        auc = accuracy_score(y_test_fold, preds)\n",
    "        aucs.append(auc)\n",
    "    auc = np.mean(aucs)\n",
    "    if auc > best_score:\n",
    "        best_n_estimators = n_estimators\n",
    "        best_learning_rate = learning_rate\n",
    "        best_score = auc\n",
    "        \n",
    "best_params['n_estimators'] = best_n_estimators\n",
    "best_params['learning_rate'] = best_learning_rate\n",
    "\n",
    "print('Best score (AUC): ', best_score)\n",
    "print('Best params: ')\n",
    "best_params"
   ]
  },
  {
   "cell_type": "code",
   "execution_count": 33,
   "metadata": {},
   "outputs": [
    {
     "name": "stdout",
     "output_type": "stream",
     "text": [
      "Feature: \"Pclass\"\tFeature importance: 0.1036\n",
      "Feature: \"SibSp\"\tFeature importance: 0.0852\n",
      "Feature: \"Parch\"\tFeature importance: 0.0312\n",
      "Feature: \"has_Cabin\"\tFeature importance: 0.0654\n",
      "Feature: \"N_Cabin_1\"\tFeature importance: 0.0553\n",
      "Feature: \"N_Cabin_2\"\tFeature importance: 0.0002\n",
      "Feature: \"N_Cabin_3\"\tFeature importance: 0.0000\n",
      "Feature: \"N_Cabin_4\"\tFeature importance: 0.0000\n",
      "Feature: \"Name_20\"\tFeature importance: 0.0293\n",
      "Feature: \"Name_2030\"\tFeature importance: 0.0408\n",
      "Feature: \"Name_3040\"\tFeature importance: 0.0396\n",
      "Feature: \"Name_40\"\tFeature importance: 0.0066\n",
      "Feature: \"is_Miss\"\tFeature importance: 0.0082\n",
      "Feature: \"is_Master\"\tFeature importance: 0.0474\n",
      "Feature: \"is_Mr\"\tFeature importance: 0.0844\n",
      "Feature: \"is_Mrs\"\tFeature importance: 0.0056\n",
      "Feature: \"Rare\"\tFeature importance: 0.0367\n",
      "Feature: \"Sex_female\"\tFeature importance: 0.0646\n",
      "Feature: \"Sex_male\"\tFeature importance: 0.0000\n",
      "Feature: \"Age_0-20\"\tFeature importance: 0.0270\n",
      "Feature: \"Age_20-30\"\tFeature importance: 0.0153\n",
      "Feature: \"Age_30-40\"\tFeature importance: 0.0227\n",
      "Feature: \"Age_40-50\"\tFeature importance: 0.0258\n",
      "Feature: \"Age_50-60\"\tFeature importance: 0.0047\n",
      "Feature: \"Age_60+\"\tFeature importance: 0.0041\n",
      "Feature: \"Fare_0-25\"\tFeature importance: 0.0464\n",
      "Feature: \"Fare_100-200\"\tFeature importance: 0.0095\n",
      "Feature: \"Fare_200-600\"\tFeature importance: 0.0002\n",
      "Feature: \"Fare_25-50\"\tFeature importance: 0.0316\n",
      "Feature: \"Fare_50-100\"\tFeature importance: 0.0295\n",
      "Feature: \"Embarked_C\"\tFeature importance: 0.0307\n",
      "Feature: \"Embarked_Q\"\tFeature importance: 0.0118\n",
      "Feature: \"Embarked_S\"\tFeature importance: 0.0365\n"
     ]
    }
   ],
   "source": [
    "for feature_name, feature_importance in zip(X_train.columns, clf.feature_importances_):\n",
    "    print('Feature: \"%s\"\\tFeature importance: %.4f' % (feature_name, feature_importance))"
   ]
  },
  {
   "cell_type": "code",
   "execution_count": 34,
   "metadata": {
    "collapsed": true
   },
   "outputs": [],
   "source": [
    "clf=XGBClassifier(**best_params)"
   ]
  },
  {
   "cell_type": "code",
   "execution_count": 35,
   "metadata": {
    "collapsed": true
   },
   "outputs": [],
   "source": [
    "model=clf.fit(X_train, y_train)"
   ]
  },
  {
   "cell_type": "code",
   "execution_count": 36,
   "metadata": {
    "collapsed": true
   },
   "outputs": [],
   "source": [
    "pred=model.predict(X_test)"
   ]
  },
  {
   "cell_type": "code",
   "execution_count": 37,
   "metadata": {
    "collapsed": true
   },
   "outputs": [],
   "source": [
    "with open('submission.txt', 'w') as out:\n",
    "    out.write('PassengerId,Survived\\n')\n",
    "    for passenger, y in zip(df_test['PassengerId'], pred):\n",
    "        out.write('%s,%s\\n' % (passenger, y))"
   ]
  },
  {
   "cell_type": "code",
   "execution_count": null,
   "metadata": {
    "collapsed": true
   },
   "outputs": [],
   "source": []
  },
  {
   "cell_type": "code",
   "execution_count": null,
   "metadata": {
    "collapsed": true
   },
   "outputs": [],
   "source": []
  }
 ],
 "metadata": {
  "kernelspec": {
   "display_name": "Python 3",
   "language": "python",
   "name": "python3"
  },
  "language_info": {
   "codemirror_mode": {
    "name": "ipython",
    "version": 3
   },
   "file_extension": ".py",
   "mimetype": "text/x-python",
   "name": "python",
   "nbconvert_exporter": "python",
   "pygments_lexer": "ipython3",
   "version": "3.6.1"
  }
 },
 "nbformat": 4,
 "nbformat_minor": 2
}
