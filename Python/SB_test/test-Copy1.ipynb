{
 "cells": [
  {
   "cell_type": "code",
   "execution_count": 17,
   "metadata": {
    "collapsed": true
   },
   "outputs": [],
   "source": [
    "import pandas as pd\n",
    "%matplotlib inline\n",
    "import matplotlib.pyplot as plt\n",
    "import seaborn as sns\n",
    "import numpy as np"
   ]
  },
  {
   "cell_type": "code",
   "execution_count": 18,
   "metadata": {
    "collapsed": true
   },
   "outputs": [],
   "source": [
    "train=pd.read_excel('../SB_test/train.xlsx')\n",
    "test=pd.read_excel('../SB_test/test.xlsx')"
   ]
  },
  {
   "cell_type": "code",
   "execution_count": 19,
   "metadata": {
    "collapsed": true
   },
   "outputs": [],
   "source": [
    "train['y']=train.y.apply(lambda x: 0 if x=='no' else 1)"
   ]
  },
  {
   "cell_type": "code",
   "execution_count": 20,
   "metadata": {
    "collapsed": true
   },
   "outputs": [],
   "source": [
    "train=train.replace('unknown', np.nan)"
   ]
  },
  {
   "cell_type": "code",
   "execution_count": 21,
   "metadata": {
    "collapsed": true
   },
   "outputs": [],
   "source": [
    "train=train.dropna()"
   ]
  },
  {
   "cell_type": "code",
   "execution_count": 22,
   "metadata": {
    "collapsed": true
   },
   "outputs": [],
   "source": [
    "del train['default']"
   ]
  },
  {
   "cell_type": "code",
   "execution_count": 23,
   "metadata": {
    "collapsed": true
   },
   "outputs": [],
   "source": [
    "train['housing']=train.housing.apply(lambda x: 0 if x=='no' else 1)"
   ]
  },
  {
   "cell_type": "code",
   "execution_count": 24,
   "metadata": {
    "collapsed": true
   },
   "outputs": [],
   "source": [
    "train['loan']=train.loan.apply(lambda x: 0 if x=='no' else 1)"
   ]
  },
  {
   "cell_type": "code",
   "execution_count": 25,
   "metadata": {
    "collapsed": true
   },
   "outputs": [],
   "source": [
    "train['contact']=train.contact.astype('category').cat.codes"
   ]
  },
  {
   "cell_type": "code",
   "execution_count": 26,
   "metadata": {
    "collapsed": true
   },
   "outputs": [],
   "source": [
    "train['month']=train.month.astype('category').cat.codes\n",
    "train['day_of_week']=train.day_of_week.astype('category').cat.codes"
   ]
  },
  {
   "cell_type": "code",
   "execution_count": 27,
   "metadata": {
    "collapsed": true
   },
   "outputs": [],
   "source": [
    "X_train=pd.get_dummies(train)"
   ]
  },
  {
   "cell_type": "code",
   "execution_count": 28,
   "metadata": {},
   "outputs": [],
   "source": [
    "y_train=X_train['y']"
   ]
  },
  {
   "cell_type": "code",
   "execution_count": 29,
   "metadata": {
    "collapsed": true
   },
   "outputs": [],
   "source": [
    "del X_train['y']"
   ]
  },
  {
   "cell_type": "code",
   "execution_count": 35,
   "metadata": {
    "collapsed": true
   },
   "outputs": [],
   "source": [
    "from sklearn.model_selection import train_test_split\n",
    "from sklearn.model_selection import GridSearchCV\n",
    "from xgboost import XGBClassifier\n",
    "from sklearn.neighbors import KNeighborsClassifier\n",
    "from sklearn.ensemble import RandomForestClassifier\n",
    "from sklearn.linear_model import LogisticRegression\n",
    "from sklearn.metrics import accuracy_score\n",
    "from sklearn.metrics import classification_report\n",
    "from sklearn.metrics import roc_auc_score\n",
    "from sklearn.metrics import roc_curve"
   ]
  },
  {
   "cell_type": "code",
   "execution_count": 41,
   "metadata": {},
   "outputs": [
    {
     "name": "stdout",
     "output_type": "stream",
     "text": [
      "Best score (ACC):  0.894142259414\n",
      "Best params: \n"
     ]
    },
    {
     "data": {
      "text/plain": [
       "{'base_score': 0.5,\n",
       " 'booster': 'gbtree',\n",
       " 'colsample_bylevel': 1,\n",
       " 'colsample_bytree': 0.8,\n",
       " 'gamma': 0.1,\n",
       " 'learning_rate': 0.1,\n",
       " 'max_delta_step': 0,\n",
       " 'max_depth': 5,\n",
       " 'min_child_weight': 2,\n",
       " 'missing': None,\n",
       " 'n_estimators': 400,\n",
       " 'n_jobs': 1,\n",
       " 'nthread': None,\n",
       " 'objective': 'binary:logistic',\n",
       " 'random_state': 0,\n",
       " 'reg_alpha': 0.0,\n",
       " 'reg_lambda': 1.0,\n",
       " 'scale_pos_weight': 0.13918017159199236,\n",
       " 'seed': None,\n",
       " 'silent': True,\n",
       " 'subsample': 0.8}"
      ]
     },
     "execution_count": 41,
     "metadata": {},
     "output_type": "execute_result"
    }
   ],
   "source": [
    "ones_ratio=y_train[y_train==1].shape[0]*1.0/y_train[y_train==0].shape[0]\n",
    "\n",
    "param_grid = {\n",
    "    # параметры ансамбля\n",
    "    'n_estimators': [10, 30, 50, 100, 200, 400, 600, 1000],\n",
    "    'learning_rate': [0.1],\n",
    "    \n",
    "    # параметры дерева\n",
    "    'max_depth': [5],\n",
    "    'min_child_weight': [2],\n",
    "    'gamma': [0.1],\n",
    "    'subsample': [0.8],\n",
    "    'colsample_bytree': [0.8],\n",
    "    'scale_pos_weight': [ones_ratio],\n",
    "    \n",
    "    # параметры регуляризации\n",
    "    'reg_alpha': [0.0],\n",
    "    'reg_lambda': [1.0]\n",
    "}\n",
    "\n",
    "\n",
    "clf = XGBClassifier()\n",
    "gs = GridSearchCV(clf, param_grid, scoring='accuracy', cv=4)\n",
    "\n",
    "gs.fit(X_train, y_train)\n",
    "best_params = gs.best_estimator_.get_params()\n",
    "print('Best score (ACC): ', gs.best_score_)\n",
    "print('Best params: ')\n",
    "best_params"
   ]
  },
  {
   "cell_type": "code",
   "execution_count": 42,
   "metadata": {},
   "outputs": [
    {
     "name": "stdout",
     "output_type": "stream",
     "text": [
      "Best score (ACC):  0.897489539749\n",
      "Best params: \n"
     ]
    },
    {
     "data": {
      "text/plain": [
       "{'base_score': 0.5,\n",
       " 'booster': 'gbtree',\n",
       " 'colsample_bylevel': 1,\n",
       " 'colsample_bytree': 0.8,\n",
       " 'gamma': 0.1,\n",
       " 'learning_rate': 0.1,\n",
       " 'max_delta_step': 0,\n",
       " 'max_depth': 7,\n",
       " 'min_child_weight': 1,\n",
       " 'missing': None,\n",
       " 'n_estimators': 400,\n",
       " 'n_jobs': 1,\n",
       " 'nthread': None,\n",
       " 'objective': 'binary:logistic',\n",
       " 'random_state': 0,\n",
       " 'reg_alpha': 0.0,\n",
       " 'reg_lambda': 1.0,\n",
       " 'scale_pos_weight': 0.13918017159199236,\n",
       " 'seed': None,\n",
       " 'silent': True,\n",
       " 'subsample': 0.8}"
      ]
     },
     "execution_count": 42,
     "metadata": {},
     "output_type": "execute_result"
    }
   ],
   "source": [
    "param_grid = {\n",
    "    'max_depth': range(3, 10, 2),\n",
    "    'min_child_weight': range(1, 6, 2)\n",
    "}\n",
    "\n",
    "clf = XGBClassifier(**best_params) # в качестве отправной точки возьмём модель с наилучшими параметрами предыдущего шага\n",
    "\n",
    "gs = GridSearchCV(clf, param_grid, scoring='accuracy', cv=4)\n",
    "\n",
    "gs.fit(X_train, y_train)\n",
    "best_params = gs.best_estimator_.get_params()\n",
    "print('Best score (ACC): ', gs.best_score_)\n",
    "print('Best params: ')\n",
    "best_params"
   ]
  },
  {
   "cell_type": "code",
   "execution_count": 43,
   "metadata": {},
   "outputs": [
    {
     "name": "stdout",
     "output_type": "stream",
     "text": [
      "Best score (ACC):  0.897489539749\n",
      "Best params: \n"
     ]
    },
    {
     "data": {
      "text/plain": [
       "{'base_score': 0.5,\n",
       " 'booster': 'gbtree',\n",
       " 'colsample_bylevel': 1,\n",
       " 'colsample_bytree': 0.8,\n",
       " 'gamma': 0.1,\n",
       " 'learning_rate': 0.1,\n",
       " 'max_delta_step': 0,\n",
       " 'max_depth': 7,\n",
       " 'min_child_weight': 1,\n",
       " 'missing': None,\n",
       " 'n_estimators': 400,\n",
       " 'n_jobs': 1,\n",
       " 'nthread': None,\n",
       " 'objective': 'binary:logistic',\n",
       " 'random_state': 0,\n",
       " 'reg_alpha': 0.0,\n",
       " 'reg_lambda': 1.0,\n",
       " 'scale_pos_weight': 0.13918017159199236,\n",
       " 'seed': None,\n",
       " 'silent': True,\n",
       " 'subsample': 0.8}"
      ]
     },
     "execution_count": 43,
     "metadata": {},
     "output_type": "execute_result"
    }
   ],
   "source": [
    "param_grid = {\n",
    "    'gamma': [0.1*i for i in range(6)]\n",
    "}\n",
    "\n",
    "clf = XGBClassifier(**best_params)\n",
    "\n",
    "gs = GridSearchCV(clf, param_grid, scoring='accuracy', cv=4)\n",
    "\n",
    "gs.fit(X_train, y_train)\n",
    "best_params = gs.best_estimator_.get_params()\n",
    "print('Best score (ACC): ', gs.best_score_)\n",
    "print('Best params: ')\n",
    "best_params"
   ]
  },
  {
   "cell_type": "code",
   "execution_count": 44,
   "metadata": {},
   "outputs": [
    {
     "name": "stdout",
     "output_type": "stream",
     "text": [
      "Best score (ACC):  0.897489539749\n",
      "Best params: \n"
     ]
    },
    {
     "data": {
      "text/plain": [
       "{'base_score': 0.5,\n",
       " 'booster': 'gbtree',\n",
       " 'colsample_bylevel': 1,\n",
       " 'colsample_bytree': 0.8,\n",
       " 'gamma': 0.1,\n",
       " 'learning_rate': 0.1,\n",
       " 'max_delta_step': 0,\n",
       " 'max_depth': 7,\n",
       " 'min_child_weight': 1,\n",
       " 'missing': None,\n",
       " 'n_estimators': 400,\n",
       " 'n_jobs': 1,\n",
       " 'nthread': None,\n",
       " 'objective': 'binary:logistic',\n",
       " 'random_state': 0,\n",
       " 'reg_alpha': 0.0,\n",
       " 'reg_lambda': 1.0,\n",
       " 'scale_pos_weight': 0.13918017159199236,\n",
       " 'seed': None,\n",
       " 'silent': True,\n",
       " 'subsample': 0.8}"
      ]
     },
     "execution_count": 44,
     "metadata": {},
     "output_type": "execute_result"
    }
   ],
   "source": [
    "param_grid = {\n",
    "    'subsample': [0.5 + 0.1*i for i in range(6)],\n",
    "    'colsample_bytree': [0.5 + 0.1*i for i in range(6)]\n",
    "}\n",
    "\n",
    "clf = XGBClassifier(**best_params)\n",
    "\n",
    "gs = GridSearchCV(clf, param_grid, scoring='accuracy', cv=4)\n",
    "\n",
    "gs.fit(X_train, y_train)\n",
    "best_params = gs.best_estimator_.get_params()\n",
    "print('Best score (ACC): ', gs.best_score_)\n",
    "print('Best params: ')\n",
    "best_params"
   ]
  },
  {
   "cell_type": "code",
   "execution_count": 45,
   "metadata": {},
   "outputs": [
    {
     "name": "stdout",
     "output_type": "stream",
     "text": [
      "Best score (ACC):  0.897489539749\n",
      "Best params: \n"
     ]
    },
    {
     "data": {
      "text/plain": [
       "{'base_score': 0.5,\n",
       " 'booster': 'gbtree',\n",
       " 'colsample_bylevel': 1,\n",
       " 'colsample_bytree': 0.8,\n",
       " 'gamma': 0.1,\n",
       " 'learning_rate': 0.1,\n",
       " 'max_delta_step': 0,\n",
       " 'max_depth': 7,\n",
       " 'min_child_weight': 1,\n",
       " 'missing': None,\n",
       " 'n_estimators': 400,\n",
       " 'n_jobs': 1,\n",
       " 'nthread': None,\n",
       " 'objective': 'binary:logistic',\n",
       " 'random_state': 0,\n",
       " 'reg_alpha': 1e-05,\n",
       " 'reg_lambda': 1,\n",
       " 'scale_pos_weight': 0.13918017159199236,\n",
       " 'seed': None,\n",
       " 'silent': True,\n",
       " 'subsample': 0.8}"
      ]
     },
     "execution_count": 45,
     "metadata": {},
     "output_type": "execute_result"
    }
   ],
   "source": [
    "param_grid = {\n",
    "    'reg_alpha': [1e-5, 1e-2, 0.1, 1, 100],\n",
    "    'reg_lambda': [1e-5, 1e-2, 0.1, 1, 100]\n",
    "}\n",
    "\n",
    "clf = XGBClassifier(**best_params)\n",
    "\n",
    "gs = GridSearchCV(clf, param_grid, scoring='accuracy', cv=4)\n",
    "\n",
    "gs.fit(X_train, y_train)\n",
    "best_params = gs.best_estimator_.get_params()\n",
    "print('Best score (ACC): ', gs.best_score_)\n",
    "print('Best params: ')\n",
    "best_params"
   ]
  },
  {
   "cell_type": "code",
   "execution_count": 46,
   "metadata": {},
   "outputs": [
    {
     "name": "stdout",
     "output_type": "stream",
     "text": [
      "Best score (AUC):  0.897907178031\n",
      "Best params: \n"
     ]
    },
    {
     "data": {
      "text/plain": [
       "{'base_score': 0.5,\n",
       " 'booster': 'gbtree',\n",
       " 'colsample_bylevel': 1,\n",
       " 'colsample_bytree': 0.8,\n",
       " 'gamma': 0.1,\n",
       " 'learning_rate': 0.05,\n",
       " 'max_delta_step': 0,\n",
       " 'max_depth': 7,\n",
       " 'min_child_weight': 1,\n",
       " 'missing': None,\n",
       " 'n_estimators': 800,\n",
       " 'n_jobs': 1,\n",
       " 'nthread': None,\n",
       " 'objective': 'binary:logistic',\n",
       " 'random_state': 0,\n",
       " 'reg_alpha': 1e-05,\n",
       " 'reg_lambda': 1,\n",
       " 'scale_pos_weight': 0.13918017159199236,\n",
       " 'seed': None,\n",
       " 'silent': True,\n",
       " 'subsample': 0.8}"
      ]
     },
     "execution_count": 46,
     "metadata": {},
     "output_type": "execute_result"
    }
   ],
   "source": [
    "clf = XGBClassifier(**best_params)\n",
    "best_n_estimators = clf.get_params()['n_estimators'] # возьмём наилучшие значения n_estimators с предыдущего шага\n",
    "best_learning_rate = best_params['learning_rate'] # аналогичная запись\n",
    "invariant_composition = best_n_estimators * best_learning_rate\n",
    "n_estimators_range = [10, 30, 100, 200, 400, 600, 800, 1000]\n",
    "\n",
    "best_score = gs.best_score_ # возьмём наилучшее качество с предыдущего шага\n",
    "\n",
    "for n_estimators in n_estimators_range:\n",
    "    learning_rate = invariant_composition / n_estimators\n",
    "    clf.set_params(n_estimators=n_estimators, learning_rate=learning_rate)\n",
    "    aucs = []\n",
    "    for train_idx, test_idx in cv.split(X_train):\n",
    "        X_train_fold, X_test_fold = X_train.iloc[train_idx], X_train.iloc[test_idx]\n",
    "        y_train_fold, y_test_fold = y_train.iloc[train_idx], y_train.iloc[test_idx]\n",
    "        clf.fit(X_train_fold, y_train_fold)\n",
    "        preds = clf.predict(X_test_fold)\n",
    "        auc = accuracy_score(y_test_fold, preds)\n",
    "        aucs.append(auc)\n",
    "    auc = np.mean(aucs)\n",
    "    if auc > best_score:\n",
    "        best_n_estimators = n_estimators\n",
    "        best_learning_rate = learning_rate\n",
    "        best_score = auc\n",
    "        \n",
    "best_params['n_estimators'] = best_n_estimators\n",
    "best_params['learning_rate'] = best_learning_rate\n",
    "\n",
    "print('Best score (AUC): ', best_score)\n",
    "print('Best params: ')\n",
    "best_params"
   ]
  },
  {
   "cell_type": "code",
   "execution_count": 47,
   "metadata": {},
   "outputs": [
    {
     "name": "stdout",
     "output_type": "stream",
     "text": [
      "Feature: \"age\"\tFeature importance: 0.1342\n",
      "Feature: \"housing\"\tFeature importance: 0.0205\n",
      "Feature: \"loan\"\tFeature importance: 0.0073\n",
      "Feature: \"contact\"\tFeature importance: 0.0101\n",
      "Feature: \"month\"\tFeature importance: 0.0496\n",
      "Feature: \"day_of_week\"\tFeature importance: 0.0621\n",
      "Feature: \"duration\"\tFeature importance: 0.2283\n",
      "Feature: \"campaign\"\tFeature importance: 0.0401\n",
      "Feature: \"pdays\"\tFeature importance: 0.0144\n",
      "Feature: \"previous\"\tFeature importance: 0.0106\n",
      "Feature: \"emp.var.rate\"\tFeature importance: 0.0237\n",
      "Feature: \"cons.price.idx\"\tFeature importance: 0.0589\n",
      "Feature: \"cons.conf.idx\"\tFeature importance: 0.0619\n",
      "Feature: \"euribor3m\"\tFeature importance: 0.1368\n",
      "Feature: \"nr.employed\"\tFeature importance: 0.0228\n",
      "Feature: \"job_admin.\"\tFeature importance: 0.0139\n",
      "Feature: \"job_blue-collar\"\tFeature importance: 0.0080\n",
      "Feature: \"job_entrepreneur\"\tFeature importance: 0.0000\n",
      "Feature: \"job_housemaid\"\tFeature importance: 0.0000\n",
      "Feature: \"job_management\"\tFeature importance: 0.0004\n",
      "Feature: \"job_retired\"\tFeature importance: 0.0008\n",
      "Feature: \"job_self-employed\"\tFeature importance: 0.0000\n",
      "Feature: \"job_services\"\tFeature importance: 0.0000\n",
      "Feature: \"job_student\"\tFeature importance: 0.0000\n",
      "Feature: \"job_technician\"\tFeature importance: 0.0082\n",
      "Feature: \"job_unemployed\"\tFeature importance: 0.0001\n",
      "Feature: \"marital_divorced\"\tFeature importance: 0.0017\n",
      "Feature: \"marital_married\"\tFeature importance: 0.0155\n",
      "Feature: \"marital_single\"\tFeature importance: 0.0170\n",
      "Feature: \"education_basic.4y\"\tFeature importance: 0.0014\n",
      "Feature: \"education_basic.6y\"\tFeature importance: 0.0000\n",
      "Feature: \"education_basic.9y\"\tFeature importance: 0.0046\n",
      "Feature: \"education_high.school\"\tFeature importance: 0.0119\n",
      "Feature: \"education_professional.course\"\tFeature importance: 0.0051\n",
      "Feature: \"education_university.degree\"\tFeature importance: 0.0167\n",
      "Feature: \"poutcome_failure\"\tFeature importance: 0.0061\n",
      "Feature: \"poutcome_nonexistent\"\tFeature importance: 0.0017\n",
      "Feature: \"poutcome_success\"\tFeature importance: 0.0059\n"
     ]
    }
   ],
   "source": [
    "for feature_name, feature_importance in zip(X_train.columns, clf.feature_importances_):\n",
    "    print('Feature: \"%s\"\\tFeature importance: %.4f' % (feature_name, feature_importance))"
   ]
  },
  {
   "cell_type": "code",
   "execution_count": null,
   "metadata": {
    "collapsed": true
   },
   "outputs": [],
   "source": []
  }
 ],
 "metadata": {
  "kernelspec": {
   "display_name": "Python 3",
   "language": "python",
   "name": "python3"
  },
  "language_info": {
   "codemirror_mode": {
    "name": "ipython",
    "version": 3
   },
   "file_extension": ".py",
   "mimetype": "text/x-python",
   "name": "python",
   "nbconvert_exporter": "python",
   "pygments_lexer": "ipython3",
   "version": "3.6.1"
  }
 },
 "nbformat": 4,
 "nbformat_minor": 2
}
