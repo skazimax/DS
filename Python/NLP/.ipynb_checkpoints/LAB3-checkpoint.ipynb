{
 "cells": [
  {
   "cell_type": "code",
   "execution_count": 7,
   "metadata": {},
   "outputs": [],
   "source": [
    "import pandas as pd\n",
    "import re\n",
    "import urllib.request\n",
    "from scrapy.selector import Selector\n",
    "from pymorphy2 import MorphAnalyzer"
   ]
  },
  {
   "cell_type": "code",
   "execution_count": 2,
   "metadata": {},
   "outputs": [],
   "source": [
    "html=urllib.request.urlopen('https://news.yandex.ru/quotes/60000.html?nar=').read()"
   ]
  },
  {
   "cell_type": "code",
   "execution_count": 3,
   "metadata": {},
   "outputs": [],
   "source": [
    "btc_all=re.findall(r'(\\d+.\\d+.\\d+)', Selector(text=html).xpath('/html[@class=\"i-ua_js_no i-ua_css_standard\"]\\\n",
    "                          /body[@class=\"b-page b-page_touch_no b-page_name_quote b-page_type_quotes b-page_ajax b-page_lang_ru b-page_view_normal b-page_mobile_yes loader loader_theme_yellow-38 i-ua daas b-page__body i-global i-ua i-ua i-ua_interaction_yes loader loader_theme_yellow-38 i-ua daas i-bem\"]\\\n",
    "                          /div[@class=\"b-page__inner\"]\\\n",
    "                          /div[@class=\"page-content\"]\\\n",
    "                          /div[@class=\"page-content__layout\"]\\\n",
    "                          /div[@class=\"page-content__left\"]\\\n",
    "                          /div[@class=\"quote i-bem\"]\\\n",
    "                          /div[@class=\"quote__graph\"]\\\n",
    "                          /div[@class=\"quote__data\"]\\\n",
    "                          /table\\\n",
    "                          ').extract()[0])"
   ]
  },
  {
   "cell_type": "code",
   "execution_count": 4,
   "metadata": {},
   "outputs": [],
   "source": [
    "df=pd.DataFrame.from_records(list(zip(*[iter(btc_all)]*3)), columns=['date', 'value','change'])"
   ]
  },
  {
   "cell_type": "code",
   "execution_count": 6,
   "metadata": {},
   "outputs": [
    {
     "data": {
      "text/html": [
       "<div>\n",
       "<style>\n",
       "    .dataframe thead tr:only-child th {\n",
       "        text-align: right;\n",
       "    }\n",
       "\n",
       "    .dataframe thead th {\n",
       "        text-align: left;\n",
       "    }\n",
       "\n",
       "    .dataframe tbody tr th {\n",
       "        vertical-align: top;\n",
       "    }\n",
       "</style>\n",
       "<table border=\"1\" class=\"dataframe\">\n",
       "  <thead>\n",
       "    <tr style=\"text-align: right;\">\n",
       "      <th></th>\n",
       "      <th>date</th>\n",
       "      <th>value</th>\n",
       "      <th>change</th>\n",
       "    </tr>\n",
       "  </thead>\n",
       "  <tbody>\n",
       "    <tr>\n",
       "      <th>0</th>\n",
       "      <td>25.12.17</td>\n",
       "      <td>14420,2975</td>\n",
       "      <td>650,5562</td>\n",
       "    </tr>\n",
       "    <tr>\n",
       "      <th>1</th>\n",
       "      <td>24.12.17</td>\n",
       "      <td>13769,7413</td>\n",
       "      <td>704,0412</td>\n",
       "    </tr>\n",
       "    <tr>\n",
       "      <th>2</th>\n",
       "      <td>23.12.17</td>\n",
       "      <td>14473,7825</td>\n",
       "      <td>672,6075</td>\n",
       "    </tr>\n",
       "    <tr>\n",
       "      <th>3</th>\n",
       "      <td>22.12.17</td>\n",
       "      <td>13801,1750</td>\n",
       "      <td>1724,6833</td>\n",
       "    </tr>\n",
       "    <tr>\n",
       "      <th>4</th>\n",
       "      <td>21.12.17</td>\n",
       "      <td>15525,8583</td>\n",
       "      <td>916,2817</td>\n",
       "    </tr>\n",
       "    <tr>\n",
       "      <th>5</th>\n",
       "      <td>20.12.17</td>\n",
       "      <td>16442,1400</td>\n",
       "      <td>1098,7613</td>\n",
       "    </tr>\n",
       "    <tr>\n",
       "      <th>6</th>\n",
       "      <td>19.12.17</td>\n",
       "      <td>17540,9013</td>\n",
       "      <td>1371,5512</td>\n",
       "    </tr>\n",
       "    <tr>\n",
       "      <th>7</th>\n",
       "      <td>18.12.17</td>\n",
       "      <td>18912,4525</td>\n",
       "      <td>145,0250</td>\n",
       "    </tr>\n",
       "    <tr>\n",
       "      <th>8</th>\n",
       "      <td>17.12.17</td>\n",
       "      <td>19057,4775</td>\n",
       "      <td>334,2575</td>\n",
       "    </tr>\n",
       "    <tr>\n",
       "      <th>9</th>\n",
       "      <td>16.12.17</td>\n",
       "      <td>19391,7350</td>\n",
       "      <td>1825,4100</td>\n",
       "    </tr>\n",
       "  </tbody>\n",
       "</table>\n",
       "</div>"
      ],
      "text/plain": [
       "       date       value     change\n",
       "0  25.12.17  14420,2975   650,5562\n",
       "1  24.12.17  13769,7413   704,0412\n",
       "2  23.12.17  14473,7825   672,6075\n",
       "3  22.12.17  13801,1750  1724,6833\n",
       "4  21.12.17  15525,8583   916,2817\n",
       "5  20.12.17  16442,1400  1098,7613\n",
       "6  19.12.17  17540,9013  1371,5512\n",
       "7  18.12.17  18912,4525   145,0250\n",
       "8  17.12.17  19057,4775   334,2575\n",
       "9  16.12.17  19391,7350  1825,4100"
      ]
     },
     "execution_count": 6,
     "metadata": {},
     "output_type": "execute_result"
    }
   ],
   "source": [
    "df"
   ]
  },
  {
   "cell_type": "code",
   "execution_count": 8,
   "metadata": {
    "collapsed": true
   },
   "outputs": [],
   "source": [
    "m=MorphAnalyzer()"
   ]
  },
  {
   "cell_type": "code",
   "execution_count": 78,
   "metadata": {},
   "outputs": [],
   "source": [
    "baks=m.parse('давать')[0]"
   ]
  },
  {
   "cell_type": "code",
   "execution_count": 72,
   "metadata": {},
   "outputs": [
    {
     "data": {
      "text/plain": [
       "'стоил'"
      ]
     },
     "execution_count": 72,
     "metadata": {},
     "output_type": "execute_result"
    }
   ],
   "source": [
    "baks.make_agree_with_number(5).word"
   ]
  },
  {
   "cell_type": "code",
   "execution_count": 73,
   "metadata": {},
   "outputs": [
    {
     "ename": "SyntaxError",
     "evalue": "invalid syntax (<ipython-input-73-52e2452c62f7>, line 1)",
     "output_type": "error",
     "traceback": [
      "\u001b[1;36m  File \u001b[1;32m\"<ipython-input-73-52e2452c62f7>\"\u001b[1;36m, line \u001b[1;32m1\u001b[0m\n\u001b[1;33m    По состоянию на сегодя года курс биткоина составляет() xx доллар() США\u001b[0m\n\u001b[1;37m               ^\u001b[0m\n\u001b[1;31mSyntaxError\u001b[0m\u001b[1;31m:\u001b[0m invalid syntax\n"
     ]
    }
   ],
   "source": [
    "По состоянию на сегодя за 1 биткоин() давать() xx доллар()"
   ]
  },
  {
   "cell_type": "code",
   "execution_count": 83,
   "metadata": {},
   "outputs": [
    {
     "data": {
      "text/plain": [
       "'дают'"
      ]
     },
     "execution_count": 83,
     "metadata": {},
     "output_type": "execute_result"
    }
   ],
   "source": [
    "baks.inflect({'plur','3per'}).word"
   ]
  },
  {
   "cell_type": "code",
   "execution_count": 84,
   "metadata": {},
   "outputs": [
    {
     "data": {
      "text/plain": [
       "'давали'"
      ]
     },
     "execution_count": 84,
     "metadata": {},
     "output_type": "execute_result"
    }
   ],
   "source": [
    "baks.inflect({'plur','past'}).word"
   ]
  },
  {
   "cell_type": "code",
   "execution_count": 82,
   "metadata": {},
   "outputs": [
    {
     "data": {
      "text/plain": [
       "[Parse(word='давать', tag=OpencorporaTag('INFN,impf,tran'), normal_form='давать', score=1.0, methods_stack=((<DictionaryAnalyzer>, 'давать', 841, 0),)),\n",
       " Parse(word='даю', tag=OpencorporaTag('VERB,impf,tran sing,1per,pres,indc'), normal_form='давать', score=1.0, methods_stack=((<DictionaryAnalyzer>, 'даю', 841, 1),)),\n",
       " Parse(word='даём', tag=OpencorporaTag('VERB,impf,tran plur,1per,pres,indc'), normal_form='давать', score=1.0, methods_stack=((<DictionaryAnalyzer>, 'даём', 841, 2),)),\n",
       " Parse(word='даёшь', tag=OpencorporaTag('VERB,impf,tran sing,2per,pres,indc'), normal_form='давать', score=1.0, methods_stack=((<DictionaryAnalyzer>, 'даёшь', 841, 3),)),\n",
       " Parse(word='даёте', tag=OpencorporaTag('VERB,impf,tran plur,2per,pres,indc'), normal_form='давать', score=1.0, methods_stack=((<DictionaryAnalyzer>, 'даёте', 841, 4),)),\n",
       " Parse(word='даёт', tag=OpencorporaTag('VERB,impf,tran sing,3per,pres,indc'), normal_form='давать', score=1.0, methods_stack=((<DictionaryAnalyzer>, 'даёт', 841, 5),)),\n",
       " Parse(word='дают', tag=OpencorporaTag('VERB,impf,tran plur,3per,pres,indc'), normal_form='давать', score=1.0, methods_stack=((<DictionaryAnalyzer>, 'дают', 841, 6),)),\n",
       " Parse(word='давал', tag=OpencorporaTag('VERB,impf,tran masc,sing,past,indc'), normal_form='давать', score=1.0, methods_stack=((<DictionaryAnalyzer>, 'давал', 841, 7),)),\n",
       " Parse(word='давала', tag=OpencorporaTag('VERB,impf,tran femn,sing,past,indc'), normal_form='давать', score=1.0, methods_stack=((<DictionaryAnalyzer>, 'давала', 841, 8),)),\n",
       " Parse(word='давало', tag=OpencorporaTag('VERB,impf,tran neut,sing,past,indc'), normal_form='давать', score=1.0, methods_stack=((<DictionaryAnalyzer>, 'давало', 841, 9),)),\n",
       " Parse(word='давали', tag=OpencorporaTag('VERB,impf,tran plur,past,indc'), normal_form='давать', score=1.0, methods_stack=((<DictionaryAnalyzer>, 'давали', 841, 10),)),\n",
       " Parse(word='давай', tag=OpencorporaTag('VERB,impf,tran sing,impr,excl'), normal_form='давать', score=1.0, methods_stack=((<DictionaryAnalyzer>, 'давай', 841, 11),)),\n",
       " Parse(word='давайте', tag=OpencorporaTag('VERB,impf,tran plur,impr,excl'), normal_form='давать', score=1.0, methods_stack=((<DictionaryAnalyzer>, 'давайте', 841, 12),)),\n",
       " Parse(word='дающий', tag=OpencorporaTag('PRTF,impf,tran,pres,actv masc,sing,nomn'), normal_form='давать', score=1.0, methods_stack=((<DictionaryAnalyzer>, 'дающий', 841, 13),)),\n",
       " Parse(word='дающего', tag=OpencorporaTag('PRTF,impf,tran,pres,actv masc,sing,gent'), normal_form='давать', score=1.0, methods_stack=((<DictionaryAnalyzer>, 'дающего', 841, 14),)),\n",
       " Parse(word='дающему', tag=OpencorporaTag('PRTF,impf,tran,pres,actv masc,sing,datv'), normal_form='давать', score=1.0, methods_stack=((<DictionaryAnalyzer>, 'дающему', 841, 15),)),\n",
       " Parse(word='дающего', tag=OpencorporaTag('PRTF,impf,tran,pres,actv anim,masc,sing,accs'), normal_form='давать', score=1.0, methods_stack=((<DictionaryAnalyzer>, 'дающего', 841, 16),)),\n",
       " Parse(word='дающий', tag=OpencorporaTag('PRTF,impf,tran,pres,actv inan,masc,sing,accs'), normal_form='давать', score=1.0, methods_stack=((<DictionaryAnalyzer>, 'дающий', 841, 17),)),\n",
       " Parse(word='дающим', tag=OpencorporaTag('PRTF,impf,tran,pres,actv masc,sing,ablt'), normal_form='давать', score=1.0, methods_stack=((<DictionaryAnalyzer>, 'дающим', 841, 18),)),\n",
       " Parse(word='дающем', tag=OpencorporaTag('PRTF,impf,tran,pres,actv masc,sing,loct'), normal_form='давать', score=1.0, methods_stack=((<DictionaryAnalyzer>, 'дающем', 841, 19),)),\n",
       " Parse(word='дающая', tag=OpencorporaTag('PRTF,impf,tran,pres,actv femn,sing,nomn'), normal_form='давать', score=1.0, methods_stack=((<DictionaryAnalyzer>, 'дающая', 841, 20),)),\n",
       " Parse(word='дающей', tag=OpencorporaTag('PRTF,impf,tran,pres,actv femn,sing,gent'), normal_form='давать', score=1.0, methods_stack=((<DictionaryAnalyzer>, 'дающей', 841, 21),)),\n",
       " Parse(word='дающей', tag=OpencorporaTag('PRTF,impf,tran,pres,actv femn,sing,datv'), normal_form='давать', score=1.0, methods_stack=((<DictionaryAnalyzer>, 'дающей', 841, 22),)),\n",
       " Parse(word='дающую', tag=OpencorporaTag('PRTF,impf,tran,pres,actv femn,sing,accs'), normal_form='давать', score=1.0, methods_stack=((<DictionaryAnalyzer>, 'дающую', 841, 23),)),\n",
       " Parse(word='дающей', tag=OpencorporaTag('PRTF,impf,tran,pres,actv femn,sing,ablt'), normal_form='давать', score=1.0, methods_stack=((<DictionaryAnalyzer>, 'дающей', 841, 24),)),\n",
       " Parse(word='дающею', tag=OpencorporaTag('PRTF,impf,tran,pres,actv femn,sing,ablt,V-ey'), normal_form='давать', score=1.0, methods_stack=((<DictionaryAnalyzer>, 'дающею', 841, 25),)),\n",
       " Parse(word='дающей', tag=OpencorporaTag('PRTF,impf,tran,pres,actv femn,sing,loct'), normal_form='давать', score=1.0, methods_stack=((<DictionaryAnalyzer>, 'дающей', 841, 26),)),\n",
       " Parse(word='дающее', tag=OpencorporaTag('PRTF,impf,tran,pres,actv neut,sing,nomn'), normal_form='давать', score=1.0, methods_stack=((<DictionaryAnalyzer>, 'дающее', 841, 27),)),\n",
       " Parse(word='дающего', tag=OpencorporaTag('PRTF,impf,tran,pres,actv neut,sing,gent'), normal_form='давать', score=1.0, methods_stack=((<DictionaryAnalyzer>, 'дающего', 841, 28),)),\n",
       " Parse(word='дающему', tag=OpencorporaTag('PRTF,impf,tran,pres,actv neut,sing,datv'), normal_form='давать', score=1.0, methods_stack=((<DictionaryAnalyzer>, 'дающему', 841, 29),)),\n",
       " Parse(word='дающее', tag=OpencorporaTag('PRTF,impf,tran,pres,actv neut,sing,accs'), normal_form='давать', score=1.0, methods_stack=((<DictionaryAnalyzer>, 'дающее', 841, 30),)),\n",
       " Parse(word='дающим', tag=OpencorporaTag('PRTF,impf,tran,pres,actv neut,sing,ablt'), normal_form='давать', score=1.0, methods_stack=((<DictionaryAnalyzer>, 'дающим', 841, 31),)),\n",
       " Parse(word='дающем', tag=OpencorporaTag('PRTF,impf,tran,pres,actv neut,sing,loct'), normal_form='давать', score=1.0, methods_stack=((<DictionaryAnalyzer>, 'дающем', 841, 32),)),\n",
       " Parse(word='дающие', tag=OpencorporaTag('PRTF,impf,tran,pres,actv plur,nomn'), normal_form='давать', score=1.0, methods_stack=((<DictionaryAnalyzer>, 'дающие', 841, 33),)),\n",
       " Parse(word='дающих', tag=OpencorporaTag('PRTF,impf,tran,pres,actv plur,gent'), normal_form='давать', score=1.0, methods_stack=((<DictionaryAnalyzer>, 'дающих', 841, 34),)),\n",
       " Parse(word='дающим', tag=OpencorporaTag('PRTF,impf,tran,pres,actv plur,datv'), normal_form='давать', score=1.0, methods_stack=((<DictionaryAnalyzer>, 'дающим', 841, 35),)),\n",
       " Parse(word='дающих', tag=OpencorporaTag('PRTF,impf,tran,pres,actv anim,plur,accs'), normal_form='давать', score=1.0, methods_stack=((<DictionaryAnalyzer>, 'дающих', 841, 36),)),\n",
       " Parse(word='дающие', tag=OpencorporaTag('PRTF,impf,tran,pres,actv inan,plur,accs'), normal_form='давать', score=1.0, methods_stack=((<DictionaryAnalyzer>, 'дающие', 841, 37),)),\n",
       " Parse(word='дающими', tag=OpencorporaTag('PRTF,impf,tran,pres,actv plur,ablt'), normal_form='давать', score=1.0, methods_stack=((<DictionaryAnalyzer>, 'дающими', 841, 38),)),\n",
       " Parse(word='дающих', tag=OpencorporaTag('PRTF,impf,tran,pres,actv plur,loct'), normal_form='давать', score=1.0, methods_stack=((<DictionaryAnalyzer>, 'дающих', 841, 39),)),\n",
       " Parse(word='дававший', tag=OpencorporaTag('PRTF,impf,tran,past,actv masc,sing,nomn'), normal_form='давать', score=1.0, methods_stack=((<DictionaryAnalyzer>, 'дававший', 841, 40),)),\n",
       " Parse(word='дававшего', tag=OpencorporaTag('PRTF,impf,tran,past,actv masc,sing,gent'), normal_form='давать', score=1.0, methods_stack=((<DictionaryAnalyzer>, 'дававшего', 841, 41),)),\n",
       " Parse(word='дававшему', tag=OpencorporaTag('PRTF,impf,tran,past,actv masc,sing,datv'), normal_form='давать', score=1.0, methods_stack=((<DictionaryAnalyzer>, 'дававшему', 841, 42),)),\n",
       " Parse(word='дававшего', tag=OpencorporaTag('PRTF,impf,tran,past,actv anim,masc,sing,accs'), normal_form='давать', score=1.0, methods_stack=((<DictionaryAnalyzer>, 'дававшего', 841, 43),)),\n",
       " Parse(word='дававший', tag=OpencorporaTag('PRTF,impf,tran,past,actv inan,masc,sing,accs'), normal_form='давать', score=1.0, methods_stack=((<DictionaryAnalyzer>, 'дававший', 841, 44),)),\n",
       " Parse(word='дававшим', tag=OpencorporaTag('PRTF,impf,tran,past,actv masc,sing,ablt'), normal_form='давать', score=1.0, methods_stack=((<DictionaryAnalyzer>, 'дававшим', 841, 45),)),\n",
       " Parse(word='дававшем', tag=OpencorporaTag('PRTF,impf,tran,past,actv masc,sing,loct'), normal_form='давать', score=1.0, methods_stack=((<DictionaryAnalyzer>, 'дававшем', 841, 46),)),\n",
       " Parse(word='дававшая', tag=OpencorporaTag('PRTF,impf,tran,past,actv femn,sing,nomn'), normal_form='давать', score=1.0, methods_stack=((<DictionaryAnalyzer>, 'дававшая', 841, 47),)),\n",
       " Parse(word='дававшей', tag=OpencorporaTag('PRTF,impf,tran,past,actv femn,sing,gent'), normal_form='давать', score=1.0, methods_stack=((<DictionaryAnalyzer>, 'дававшей', 841, 48),)),\n",
       " Parse(word='дававшей', tag=OpencorporaTag('PRTF,impf,tran,past,actv femn,sing,datv'), normal_form='давать', score=1.0, methods_stack=((<DictionaryAnalyzer>, 'дававшей', 841, 49),)),\n",
       " Parse(word='дававшую', tag=OpencorporaTag('PRTF,impf,tran,past,actv femn,sing,accs'), normal_form='давать', score=1.0, methods_stack=((<DictionaryAnalyzer>, 'дававшую', 841, 50),)),\n",
       " Parse(word='дававшей', tag=OpencorporaTag('PRTF,impf,tran,past,actv femn,sing,ablt'), normal_form='давать', score=1.0, methods_stack=((<DictionaryAnalyzer>, 'дававшей', 841, 51),)),\n",
       " Parse(word='дававшею', tag=OpencorporaTag('PRTF,impf,tran,past,actv femn,sing,ablt,V-ey'), normal_form='давать', score=1.0, methods_stack=((<DictionaryAnalyzer>, 'дававшею', 841, 52),)),\n",
       " Parse(word='дававшей', tag=OpencorporaTag('PRTF,impf,tran,past,actv femn,sing,loct'), normal_form='давать', score=1.0, methods_stack=((<DictionaryAnalyzer>, 'дававшей', 841, 53),)),\n",
       " Parse(word='дававшее', tag=OpencorporaTag('PRTF,impf,tran,past,actv neut,sing,nomn'), normal_form='давать', score=1.0, methods_stack=((<DictionaryAnalyzer>, 'дававшее', 841, 54),)),\n",
       " Parse(word='дававшего', tag=OpencorporaTag('PRTF,impf,tran,past,actv neut,sing,gent'), normal_form='давать', score=1.0, methods_stack=((<DictionaryAnalyzer>, 'дававшего', 841, 55),)),\n",
       " Parse(word='дававшему', tag=OpencorporaTag('PRTF,impf,tran,past,actv neut,sing,datv'), normal_form='давать', score=1.0, methods_stack=((<DictionaryAnalyzer>, 'дававшему', 841, 56),)),\n",
       " Parse(word='дававшее', tag=OpencorporaTag('PRTF,impf,tran,past,actv neut,sing,accs'), normal_form='давать', score=1.0, methods_stack=((<DictionaryAnalyzer>, 'дававшее', 841, 57),)),\n",
       " Parse(word='дававшим', tag=OpencorporaTag('PRTF,impf,tran,past,actv neut,sing,ablt'), normal_form='давать', score=1.0, methods_stack=((<DictionaryAnalyzer>, 'дававшим', 841, 58),)),\n",
       " Parse(word='дававшем', tag=OpencorporaTag('PRTF,impf,tran,past,actv neut,sing,loct'), normal_form='давать', score=1.0, methods_stack=((<DictionaryAnalyzer>, 'дававшем', 841, 59),)),\n",
       " Parse(word='дававшие', tag=OpencorporaTag('PRTF,impf,tran,past,actv plur,nomn'), normal_form='давать', score=1.0, methods_stack=((<DictionaryAnalyzer>, 'дававшие', 841, 60),)),\n",
       " Parse(word='дававших', tag=OpencorporaTag('PRTF,impf,tran,past,actv plur,gent'), normal_form='давать', score=1.0, methods_stack=((<DictionaryAnalyzer>, 'дававших', 841, 61),)),\n",
       " Parse(word='дававшим', tag=OpencorporaTag('PRTF,impf,tran,past,actv plur,datv'), normal_form='давать', score=1.0, methods_stack=((<DictionaryAnalyzer>, 'дававшим', 841, 62),)),\n",
       " Parse(word='дававших', tag=OpencorporaTag('PRTF,impf,tran,past,actv anim,plur,accs'), normal_form='давать', score=1.0, methods_stack=((<DictionaryAnalyzer>, 'дававших', 841, 63),)),\n",
       " Parse(word='дававшие', tag=OpencorporaTag('PRTF,impf,tran,past,actv inan,plur,accs'), normal_form='давать', score=1.0, methods_stack=((<DictionaryAnalyzer>, 'дававшие', 841, 64),)),\n",
       " Parse(word='дававшими', tag=OpencorporaTag('PRTF,impf,tran,past,actv plur,ablt'), normal_form='давать', score=1.0, methods_stack=((<DictionaryAnalyzer>, 'дававшими', 841, 65),)),\n",
       " Parse(word='дававших', tag=OpencorporaTag('PRTF,impf,tran,past,actv plur,loct'), normal_form='давать', score=1.0, methods_stack=((<DictionaryAnalyzer>, 'дававших', 841, 66),)),\n",
       " Parse(word='даваемый', tag=OpencorporaTag('PRTF,impf,tran,pres,pssv masc,sing,nomn'), normal_form='давать', score=1.0, methods_stack=((<DictionaryAnalyzer>, 'даваемый', 841, 67),)),\n",
       " Parse(word='даваемого', tag=OpencorporaTag('PRTF,impf,tran,pres,pssv masc,sing,gent'), normal_form='давать', score=1.0, methods_stack=((<DictionaryAnalyzer>, 'даваемого', 841, 68),)),\n",
       " Parse(word='даваемому', tag=OpencorporaTag('PRTF,impf,tran,pres,pssv masc,sing,datv'), normal_form='давать', score=1.0, methods_stack=((<DictionaryAnalyzer>, 'даваемому', 841, 69),)),\n",
       " Parse(word='даваемого', tag=OpencorporaTag('PRTF,impf,tran,pres,pssv anim,masc,sing,accs'), normal_form='давать', score=1.0, methods_stack=((<DictionaryAnalyzer>, 'даваемого', 841, 70),)),\n",
       " Parse(word='даваемый', tag=OpencorporaTag('PRTF,impf,tran,pres,pssv inan,masc,sing,accs'), normal_form='давать', score=1.0, methods_stack=((<DictionaryAnalyzer>, 'даваемый', 841, 71),)),\n",
       " Parse(word='даваемым', tag=OpencorporaTag('PRTF,impf,tran,pres,pssv masc,sing,ablt'), normal_form='давать', score=1.0, methods_stack=((<DictionaryAnalyzer>, 'даваемым', 841, 72),)),\n",
       " Parse(word='даваемом', tag=OpencorporaTag('PRTF,impf,tran,pres,pssv masc,sing,loct'), normal_form='давать', score=1.0, methods_stack=((<DictionaryAnalyzer>, 'даваемом', 841, 73),)),\n",
       " Parse(word='даваемая', tag=OpencorporaTag('PRTF,impf,tran,pres,pssv femn,sing,nomn'), normal_form='давать', score=1.0, methods_stack=((<DictionaryAnalyzer>, 'даваемая', 841, 74),)),\n",
       " Parse(word='даваемой', tag=OpencorporaTag('PRTF,impf,tran,pres,pssv femn,sing,gent'), normal_form='давать', score=1.0, methods_stack=((<DictionaryAnalyzer>, 'даваемой', 841, 75),)),\n",
       " Parse(word='даваемой', tag=OpencorporaTag('PRTF,impf,tran,pres,pssv femn,sing,datv'), normal_form='давать', score=1.0, methods_stack=((<DictionaryAnalyzer>, 'даваемой', 841, 76),)),\n",
       " Parse(word='даваемую', tag=OpencorporaTag('PRTF,impf,tran,pres,pssv femn,sing,accs'), normal_form='давать', score=1.0, methods_stack=((<DictionaryAnalyzer>, 'даваемую', 841, 77),)),\n",
       " Parse(word='даваемой', tag=OpencorporaTag('PRTF,impf,tran,pres,pssv femn,sing,ablt'), normal_form='давать', score=1.0, methods_stack=((<DictionaryAnalyzer>, 'даваемой', 841, 78),)),\n",
       " Parse(word='даваемою', tag=OpencorporaTag('PRTF,impf,tran,pres,pssv femn,sing,ablt,V-oy'), normal_form='давать', score=1.0, methods_stack=((<DictionaryAnalyzer>, 'даваемою', 841, 79),)),\n",
       " Parse(word='даваемой', tag=OpencorporaTag('PRTF,impf,tran,pres,pssv femn,sing,loct'), normal_form='давать', score=1.0, methods_stack=((<DictionaryAnalyzer>, 'даваемой', 841, 80),)),\n",
       " Parse(word='даваемое', tag=OpencorporaTag('PRTF,impf,tran,pres,pssv neut,sing,nomn'), normal_form='давать', score=1.0, methods_stack=((<DictionaryAnalyzer>, 'даваемое', 841, 81),)),\n",
       " Parse(word='даваемого', tag=OpencorporaTag('PRTF,impf,tran,pres,pssv neut,sing,gent'), normal_form='давать', score=1.0, methods_stack=((<DictionaryAnalyzer>, 'даваемого', 841, 82),)),\n",
       " Parse(word='даваемому', tag=OpencorporaTag('PRTF,impf,tran,pres,pssv neut,sing,datv'), normal_form='давать', score=1.0, methods_stack=((<DictionaryAnalyzer>, 'даваемому', 841, 83),)),\n",
       " Parse(word='даваемое', tag=OpencorporaTag('PRTF,impf,tran,pres,pssv neut,sing,accs'), normal_form='давать', score=1.0, methods_stack=((<DictionaryAnalyzer>, 'даваемое', 841, 84),)),\n",
       " Parse(word='даваемым', tag=OpencorporaTag('PRTF,impf,tran,pres,pssv neut,sing,ablt'), normal_form='давать', score=1.0, methods_stack=((<DictionaryAnalyzer>, 'даваемым', 841, 85),)),\n",
       " Parse(word='даваемом', tag=OpencorporaTag('PRTF,impf,tran,pres,pssv neut,sing,loct'), normal_form='давать', score=1.0, methods_stack=((<DictionaryAnalyzer>, 'даваемом', 841, 86),)),\n",
       " Parse(word='даваемые', tag=OpencorporaTag('PRTF,impf,tran,pres,pssv plur,nomn'), normal_form='давать', score=1.0, methods_stack=((<DictionaryAnalyzer>, 'даваемые', 841, 87),)),\n",
       " Parse(word='даваемых', tag=OpencorporaTag('PRTF,impf,tran,pres,pssv plur,gent'), normal_form='давать', score=1.0, methods_stack=((<DictionaryAnalyzer>, 'даваемых', 841, 88),)),\n",
       " Parse(word='даваемым', tag=OpencorporaTag('PRTF,impf,tran,pres,pssv plur,datv'), normal_form='давать', score=1.0, methods_stack=((<DictionaryAnalyzer>, 'даваемым', 841, 89),)),\n",
       " Parse(word='даваемых', tag=OpencorporaTag('PRTF,impf,tran,pres,pssv anim,plur,accs'), normal_form='давать', score=1.0, methods_stack=((<DictionaryAnalyzer>, 'даваемых', 841, 90),)),\n",
       " Parse(word='даваемые', tag=OpencorporaTag('PRTF,impf,tran,pres,pssv inan,plur,accs'), normal_form='давать', score=1.0, methods_stack=((<DictionaryAnalyzer>, 'даваемые', 841, 91),)),\n",
       " Parse(word='даваемыми', tag=OpencorporaTag('PRTF,impf,tran,pres,pssv plur,ablt'), normal_form='давать', score=1.0, methods_stack=((<DictionaryAnalyzer>, 'даваемыми', 841, 92),)),\n",
       " Parse(word='даваемых', tag=OpencorporaTag('PRTF,impf,tran,pres,pssv plur,loct'), normal_form='давать', score=1.0, methods_stack=((<DictionaryAnalyzer>, 'даваемых', 841, 93),)),\n",
       " Parse(word='давая', tag=OpencorporaTag('GRND,impf,tran pres'), normal_form='давать', score=1.0, methods_stack=((<DictionaryAnalyzer>, 'давая', 841, 94),)),\n",
       " Parse(word='давав', tag=OpencorporaTag('GRND,impf,tran past'), normal_form='давать', score=1.0, methods_stack=((<DictionaryAnalyzer>, 'давав', 841, 95),)),\n",
       " Parse(word='дававши', tag=OpencorporaTag('GRND,impf,tran past,V-sh'), normal_form='давать', score=1.0, methods_stack=((<DictionaryAnalyzer>, 'дававши', 841, 96),)),\n",
       " Parse(word='даваем', tag=OpencorporaTag('PRTS,impf,pres,pssv masc,sing'), normal_form='давать', score=1.0, methods_stack=((<DictionaryAnalyzer>, 'даваем', 841, 97),)),\n",
       " Parse(word='даваема', tag=OpencorporaTag('PRTS,impf,pres,pssv femn,sing'), normal_form='давать', score=1.0, methods_stack=((<DictionaryAnalyzer>, 'даваема', 841, 98),)),\n",
       " Parse(word='даваемо', tag=OpencorporaTag('PRTS,impf,pres,pssv neut,sing'), normal_form='давать', score=1.0, methods_stack=((<DictionaryAnalyzer>, 'даваемо', 841, 99),)),\n",
       " Parse(word='даваемы', tag=OpencorporaTag('PRTS,impf,pres,pssv plur'), normal_form='давать', score=1.0, methods_stack=((<DictionaryAnalyzer>, 'даваемы', 841, 100),))]"
      ]
     },
     "execution_count": 82,
     "metadata": {},
     "output_type": "execute_result"
    }
   ],
   "source": [
    "baks.lexeme"
   ]
  },
  {
   "cell_type": "code",
   "execution_count": null,
   "metadata": {
    "collapsed": true
   },
   "outputs": [],
   "source": []
  }
 ],
 "metadata": {
  "kernelspec": {
   "display_name": "Python 3",
   "language": "python",
   "name": "python3"
  },
  "language_info": {
   "codemirror_mode": {
    "name": "ipython",
    "version": 3
   },
   "file_extension": ".py",
   "mimetype": "text/x-python",
   "name": "python",
   "nbconvert_exporter": "python",
   "pygments_lexer": "ipython3",
   "version": "3.6.1"
  }
 },
 "nbformat": 4,
 "nbformat_minor": 2
}
