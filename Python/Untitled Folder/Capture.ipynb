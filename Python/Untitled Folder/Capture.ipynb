{
 "cells": [
  {
   "cell_type": "code",
   "execution_count": 3,
   "metadata": {
    "scrolled": true
   },
   "outputs": [],
   "source": [
    "import numpy as np\n",
    "import cv2\n",
    "import time\n",
    "import os\n",
    "dir_in = 'c:/Users/mrasskazov/Pictures/In'\n",
    "dir_out = 'c:/Users/mrasskazov/Pictures/Out'"
   ]
  },
  {
   "cell_type": "code",
   "execution_count": 4,
   "metadata": {},
   "outputs": [],
   "source": [
    "cap = cv2.VideoCapture(dir_in+'/nvr_IP Camera6_nvr_20180110085415_20180110085511_72772687.mp4')\n",
    "start_time=time.time()\n",
    "while(cap.isOpened()):\n",
    "\n",
    "    ret, frame = cap.read()\n",
    "\n",
    "    color = cv2.cvtColor(frame, cv2.COLOR_BGR2RGB)\n",
    "    res = cv2.resize(frame, (640,480))\n",
    "    \n",
    "    cv2.imshow('frame',res)\n",
    "    cv2.waitKey(1)\n",
    "    end_time=time.time()\n",
    "    elapsed = end_time - start_time\n",
    "    if elapsed > 5:\n",
    "       break\n",
    "cap.release()\n",
    "cv2.destroyAllWindows()"
   ]
  },
  {
   "cell_type": "code",
   "execution_count": 64,
   "metadata": {},
   "outputs": [],
   "source": [
    "import cv2\n",
    "import os\n",
    "\n",
    "def video_to_frames(video, path_output_dir, file_name):\n",
    "\n",
    "    vidcap = cv2.VideoCapture(video)\n",
    "    count = 1\n",
    "    \n",
    "    while vidcap.isOpened():\n",
    "        success, image = vidcap.read()\n",
    "        res = cv2.resize(image, (1920,1080))\n",
    "        if success and count <=200:\n",
    "            if count%10==0:\n",
    "                cv2.imwrite(os.path.join(path_output_dir, '%d_%d.jpg') % (c,count), res,[int(cv2.IMWRITE_JPEG_QUALITY), 90])\n",
    "            count += 1\n",
    "            \n",
    "        else:\n",
    "            break\n",
    "        \n",
    "    cv2.destroyAllWindows()\n",
    "    vidcap.release()\n",
    "\n"
   ]
  },
  {
   "cell_type": "code",
   "execution_count": 65,
   "metadata": {},
   "outputs": [],
   "source": [
    "for c, name in enumerate(dir):\n",
    "    video_to_frames(dir_in + '/' + name, dir_out, c)"
   ]
  },
  {
   "cell_type": "code",
   "execution_count": null,
   "metadata": {
    "collapsed": true
   },
   "outputs": [],
   "source": []
  }
 ],
 "metadata": {
  "kernelspec": {
   "display_name": "Python 3",
   "language": "python",
   "name": "python3"
  },
  "language_info": {
   "codemirror_mode": {
    "name": "ipython",
    "version": 3
   },
   "file_extension": ".py",
   "mimetype": "text/x-python",
   "name": "python",
   "nbconvert_exporter": "python",
   "pygments_lexer": "ipython3",
   "version": "3.6.1"
  }
 },
 "nbformat": 4,
 "nbformat_minor": 2
}
