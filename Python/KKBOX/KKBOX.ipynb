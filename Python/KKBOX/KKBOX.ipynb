{
 "cells": [
  {
   "cell_type": "code",
   "execution_count": 3,
   "metadata": {
    "collapsed": true
   },
   "outputs": [],
   "source": [
    "import numpy as np\n",
    "import pandas as pd\n",
    "import gc"
   ]
  },
  {
   "cell_type": "code",
   "execution_count": 4,
   "metadata": {},
   "outputs": [],
   "source": [
    "train = pd.read_csv(\"train.csv\")\n",
    "test = pd.read_csv(\"test.csv\")"
   ]
  },
  {
   "cell_type": "code",
   "execution_count": null,
   "metadata": {
    "collapsed": true
   },
   "outputs": [],
   "source": [
    "train[\"id\"] = -1\n",
    "test[\"target\"] = -1\n",
    "data = train.append(test)\n",
    "del train\n",
    "del test\n",
    "gc.collect()"
   ]
  },
  {
   "cell_type": "code",
   "execution_count": null,
   "metadata": {
    "collapsed": true
   },
   "outputs": [],
   "source": [
    "data[\"user_id\"] = data[\"msno\"].astype(\"category\").cat.codes.copy()\n",
    "data[\"item_id\"] = data[\"song_id\"].astype(\"category\").cat.codes.copy()\n",
    "data.drop([\"msno\", \"song_id\"], inplace=True)\n",
    "gc.collect()\n",
    "train_data = data[data[\"id\"] == -1][[\"user_id\", \"item_id\", \"target\"]]\n",
    "test_data = data[data[\"id\"] != -1][[\"user_id\", \"item_id\", \"id\"]]\n",
    "del data\n",
    "gc.collect()"
   ]
  },
  {
   "cell_type": "code",
   "execution_count": null,
   "metadata": {
    "collapsed": true
   },
   "outputs": [],
   "source": [
    "from sklearn.model_selection import train_test_split\n",
    "\n",
    "train_train, train_validation = train_test_split(train_data, train_size=0.8)\n",
    "del train_data\n",
    "gc.collect()"
   ]
  },
  {
   "cell_type": "code",
   "execution_count": null,
   "metadata": {
    "collapsed": true
   },
   "outputs": [],
   "source": [
    "# создаём разреженную матрицу item*user\n",
    "from scipy.sparse import coo_matrix\n",
    "\n",
    "sparse_train = coo_matrix((\n",
    "    train_train[\"target\"].astype(np.float32),\n",
    "    (\n",
    "        train_train[\"user_id\"],\n",
    "        train_train[\"item_id\"]\n",
    "    )\n",
    "))\n",
    "sample_weight = coo_matrix((\n",
    "    np.ones(train_train.shape[0]),\n",
    "    (\n",
    "        train_train[\"user_id\"],\n",
    "        train_train[\"item_id\"]\n",
    "    )\n",
    "))"
   ]
  },
  {
   "cell_type": "code",
   "execution_count": null,
   "metadata": {
    "collapsed": true
   },
   "outputs": [],
   "source": [
    "# функция, которая красиво печатает информацию о разреженных матрицах\n",
    "\n",
    "def sparse_info(sparse_matrix) -> None:\n",
    "    print(\"Размерности матрицы: {}\".format(sparse_matrix.shape))\n",
    "    print(\"Ненулевых элементов в матрице: {}\".format(sparse_matrix.nnz))\n",
    "    print(\"Доля ненулевых элементов: {}\"\n",
    "          .format(sparse_matrix.nnz / sparse_matrix.shape[0] / sparse_matrix.shape[1])\n",
    "    )\n",
    "    print(\"Среднее значение ненулевых элементов: {}\".format(sparse_matrix.data.mean()))\n",
    "    print(\"Максимальное значение ненулевых элементов: {}\".format(sparse_matrix.data.max()))\n",
    "    print(\"Минимальное значение ненулевых элементов: {}\".format(sparse_matrix.data.min()))"
   ]
  },
  {
   "cell_type": "code",
   "execution_count": null,
   "metadata": {
    "collapsed": true
   },
   "outputs": [],
   "source": [
    "avg_target = train_train[\"target\"].mean()\n",
    "print(avg_target)\n",
    "def get_recs(dataset, item_features):\n",
    "    return dataset.shape[0] * [avg_target]\n",
    "train_validation[\"target\"] = avg_target\n",
    "item_features = None"
   ]
  },
  {
   "cell_type": "code",
   "execution_count": null,
   "metadata": {
    "collapsed": true
   },
   "outputs": [],
   "source": [
    "from sklearn.metrics import roc_auc_score\n",
    "\n",
    "train_recs = get_recs(train_train, item_features)\n",
    "print(\"train AUC: {}\".format(roc_auc_score(train_train[\"target\"], train_recs)))\n",
    "validation_recs = get_recs(train_validation, item_features)\n",
    "print(\"test AUC: {}\".format(roc_auc_score(train_validation[\"target\"], validation_recs)))"
   ]
  },
  {
   "cell_type": "code",
   "execution_count": null,
   "metadata": {
    "collapsed": true
   },
   "outputs": [],
   "source": []
  }
 ],
 "metadata": {
  "kernelspec": {
   "display_name": "Python 3",
   "language": "python",
   "name": "python3"
  },
  "language_info": {
   "codemirror_mode": {
    "name": "ipython",
    "version": 3
   },
   "file_extension": ".py",
   "mimetype": "text/x-python",
   "name": "python",
   "nbconvert_exporter": "python",
   "pygments_lexer": "ipython3",
   "version": "3.6.2"
  }
 },
 "nbformat": 4,
 "nbformat_minor": 2
}
