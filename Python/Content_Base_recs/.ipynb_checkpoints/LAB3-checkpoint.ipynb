{
 "cells": [
  {
   "cell_type": "code",
   "execution_count": 140,
   "metadata": {
    "collapsed": true
   },
   "outputs": [],
   "source": [
    "import pandas as pd\n",
    "import numpy as np\n",
    "from os import path, environ"
   ]
  },
  {
   "cell_type": "code",
   "execution_count": 141,
   "metadata": {
    "collapsed": true
   },
   "outputs": [],
   "source": [
    "#data_dir='C://Users//asus//Desktop//Netology//Data//ml-latest-small'\n",
    "data_dir='C://Users//mrasskazov//Desktop//DS//Data//ml-latest-small'\n",
    "#data_dir='/home/spynal/Netology/Data/ml-latest-small/'\n",
    "environ[\"DATA_DIR\"] = \"/home/spynal/Netology/Data/ml-latest-small//\"\n",
    "tags=pd.read_csv(data_dir+'/tags.csv')\n",
    "ratings=pd.read_csv(data_dir+'/ratings.csv')\n",
    "movies=pd.read_csv(data_dir+'/movies.csv')"
   ]
  },
  {
   "cell_type": "code",
   "execution_count": 142,
   "metadata": {
    "scrolled": true
   },
   "outputs": [],
   "source": [
    "tags_gr=tags.groupby('movieId')['tag'].apply(lambda x: '|'.join(x)).reset_index()"
   ]
  },
  {
   "cell_type": "code",
   "execution_count": 143,
   "metadata": {
    "scrolled": true
   },
   "outputs": [
    {
     "data": {
      "text/html": [
       "<div>\n",
       "<style>\n",
       "    .dataframe thead tr:only-child th {\n",
       "        text-align: right;\n",
       "    }\n",
       "\n",
       "    .dataframe thead th {\n",
       "        text-align: left;\n",
       "    }\n",
       "\n",
       "    .dataframe tbody tr th {\n",
       "        vertical-align: top;\n",
       "    }\n",
       "</style>\n",
       "<table border=\"1\" class=\"dataframe\">\n",
       "  <thead>\n",
       "    <tr style=\"text-align: right;\">\n",
       "      <th></th>\n",
       "      <th>userId</th>\n",
       "      <th>movieId</th>\n",
       "      <th>tag</th>\n",
       "      <th>timestamp</th>\n",
       "    </tr>\n",
       "  </thead>\n",
       "  <tbody>\n",
       "  </tbody>\n",
       "</table>\n",
       "</div>"
      ],
      "text/plain": [
       "Empty DataFrame\n",
       "Columns: [userId, movieId, tag, timestamp]\n",
       "Index: []"
      ]
     },
     "execution_count": 143,
     "metadata": {},
     "output_type": "execute_result"
    }
   ],
   "source": [
    "tags[tags.tag.str.contains(r'[^A-Za-z\\-\\(\\)\\s\\:\\!\\*\\'\\,\\&\\?\\\"\\d\\.]')]"
   ]
  },
  {
   "cell_type": "code",
   "execution_count": 149,
   "metadata": {},
   "outputs": [
    {
     "data": {
      "text/html": [
       "<div>\n",
       "<style>\n",
       "    .dataframe thead tr:only-child th {\n",
       "        text-align: right;\n",
       "    }\n",
       "\n",
       "    .dataframe thead th {\n",
       "        text-align: left;\n",
       "    }\n",
       "\n",
       "    .dataframe tbody tr th {\n",
       "        vertical-align: top;\n",
       "    }\n",
       "</style>\n",
       "<table border=\"1\" class=\"dataframe\">\n",
       "  <thead>\n",
       "    <tr style=\"text-align: right;\">\n",
       "      <th></th>\n",
       "      <th>tag</th>\n",
       "      <th>movie_id</th>\n",
       "    </tr>\n",
       "  </thead>\n",
       "  <tbody>\n",
       "    <tr>\n",
       "      <th>495</th>\n",
       "      <td>biblical|crime|dark|disturbing|greed|horror|se...</td>\n",
       "      <td>0</td>\n",
       "    </tr>\n",
       "    <tr>\n",
       "      <th>963</th>\n",
       "      <td>thriller</td>\n",
       "      <td>1</td>\n",
       "    </tr>\n",
       "    <tr>\n",
       "      <th>351</th>\n",
       "      <td>adam sandler</td>\n",
       "      <td>2</td>\n",
       "    </tr>\n",
       "    <tr>\n",
       "      <th>3108</th>\n",
       "      <td>cult film|Martin Scorsese|social commentary</td>\n",
       "      <td>3</td>\n",
       "    </tr>\n",
       "    <tr>\n",
       "      <th>964</th>\n",
       "      <td>Ron Howard|tom hanks</td>\n",
       "      <td>4</td>\n",
       "    </tr>\n",
       "  </tbody>\n",
       "</table>\n",
       "</div>"
      ],
      "text/plain": [
       "                                                    tag  movie_id\n",
       "495   biblical|crime|dark|disturbing|greed|horror|se...         0\n",
       "963                                            thriller         1\n",
       "351                                        adam sandler         2\n",
       "3108        cult film|Martin Scorsese|social commentary         3\n",
       "964                                Ron Howard|tom hanks         4"
      ]
     },
     "execution_count": 149,
     "metadata": {},
     "output_type": "execute_result"
    }
   ],
   "source": [
    "movies_tags_rat.head()"
   ]
  },
  {
   "cell_type": "code",
   "execution_count": 145,
   "metadata": {
    "collapsed": true
   },
   "outputs": [],
   "source": [
    "tags_gr['movie_id']=tags_gr['movieId'].astype('category').cat.codes.copy()\n",
    "ratings[\"movie_id\"] = ratings[\"movieId\"].astype(\"category\").cat.codes.copy()\n",
    "ratings[\"user_id\"] = ratings[\"userId\"].astype(\"category\").cat.codes.copy()"
   ]
  },
  {
   "cell_type": "markdown",
   "metadata": {},
   "source": [
    "Склеиваем данные по рейтингам и тегам, для получения одинаковой размерности"
   ]
  },
  {
   "cell_type": "code",
   "execution_count": 150,
   "metadata": {},
   "outputs": [
    {
     "data": {
      "text/plain": [
       "(9125, 2)"
      ]
     },
     "execution_count": 150,
     "metadata": {},
     "output_type": "execute_result"
    }
   ],
   "source": [
    "movies_tags = movies[[\"movieId\"]].drop_duplicates().join(\n",
    "    tags_gr,\n",
    "    on=\"movieId\",\n",
    "    rsuffix=\"codes\",\n",
    "    lsuffix=\"tags\",\n",
    "    sort=True\n",
    ").fillna(\"None\")[['tag','movieId']]\n",
    "movies_tags.shape"
   ]
  },
  {
   "cell_type": "code",
   "execution_count": 151,
   "metadata": {},
   "outputs": [
    {
     "data": {
      "text/plain": [
       "(9066, 2)"
      ]
     },
     "execution_count": 151,
     "metadata": {},
     "output_type": "execute_result"
    }
   ],
   "source": [
    "movies_tags_rat = ratings[[\"movieId\", 'movie_id']].drop_duplicates().join(\n",
    "    movies_tags,\n",
    "    on=\"movieId\",\n",
    "    rsuffix=\"codes\",\n",
    "    lsuffix=\"movies_tags\",\n",
    "    sort=True\n",
    ").fillna(\"None\")[[\"tag\", 'movie_id']]\n",
    "movies_tags_rat.shape"
   ]
  },
  {
   "cell_type": "markdown",
   "metadata": {},
   "source": [
    "Создаем матрицу тэгов"
   ]
  },
  {
   "cell_type": "code",
   "execution_count": 152,
   "metadata": {
    "collapsed": true
   },
   "outputs": [],
   "source": [
    "from sklearn.feature_extraction.text import CountVectorizer\n",
    "tags_features=CountVectorizer().fit_transform(movies_tags_rat['tag'])"
   ]
  },
  {
   "cell_type": "markdown",
   "metadata": {},
   "source": [
    "Добавляем movie_id"
   ]
  },
  {
   "cell_type": "code",
   "execution_count": 153,
   "metadata": {
    "collapsed": true
   },
   "outputs": [],
   "source": [
    "from scipy.sparse import hstack, identity\n",
    "\n",
    "features = hstack([\n",
    "    identity(movies_tags_rat.shape[0]),\n",
    "    tags_features\n",
    "])"
   ]
  },
  {
   "cell_type": "markdown",
   "metadata": {},
   "source": [
    "Получаем матрицу схожести между фильмами по тэгам"
   ]
  },
  {
   "cell_type": "code",
   "execution_count": 154,
   "metadata": {},
   "outputs": [],
   "source": [
    "from implicit.nearest_neighbours import CosineRecommender\n",
    "model=CosineRecommender()\n",
    "model.fit(tags_features)"
   ]
  },
  {
   "cell_type": "code",
   "execution_count": 155,
   "metadata": {
    "collapsed": true
   },
   "outputs": [],
   "source": [
    "from sklearn.model_selection import train_test_split\n",
    "train, test=train_test_split(ratings, test_size=0.2 )"
   ]
  },
  {
   "cell_type": "markdown",
   "metadata": {},
   "source": [
    "Подготавливаем данные для MREC"
   ]
  },
  {
   "cell_type": "code",
   "execution_count": 128,
   "metadata": {
    "collapsed": true
   },
   "outputs": [],
   "source": [
    "test_file_name = \"ml.test.0\"\n",
    "test[[\"user_id\", 'movie_id','rating']].to_csv(\n",
    "    path.join(data_dir,test_file_name),\n",
    "    sep=\"\\t\",\n",
    "    header=False,\n",
    "    index=False\n",
    ")\n",
    "train_file_name = \"ml.train.0\"\n",
    "train[[\"user_id\",'movie_id','rating']].to_csv(\n",
    "    path.join(data_dir,train_file_name),\n",
    "    sep=\"\\t\",\n",
    "    header=False,\n",
    "    index=False\n",
    ")"
   ]
  },
  {
   "cell_type": "markdown",
   "metadata": {},
   "source": [
    "Получаем рекомендации"
   ]
  },
  {
   "cell_type": "code",
   "execution_count": 129,
   "metadata": {},
   "outputs": [
    {
     "ename": "NameError",
     "evalue": "name 'features' is not defined",
     "output_type": "error",
     "traceback": [
      "\u001b[1;31m---------------------------------------------------------------------------\u001b[0m",
      "\u001b[1;31mNameError\u001b[0m                                 Traceback (most recent call last)",
      "\u001b[1;32m<ipython-input-129-79da1292243c>\u001b[0m in \u001b[0;36m<module>\u001b[1;34m()\u001b[0m\n\u001b[1;32m----> 1\u001b[1;33m \u001b[0mrecs\u001b[0m \u001b[1;33m=\u001b[0m \u001b[0mfeatures\u001b[0m\u001b[1;33m.\u001b[0m\u001b[0mT\u001b[0m\u001b[1;33m.\u001b[0m\u001b[0mtocsr\u001b[0m\u001b[1;33m(\u001b[0m\u001b[1;33m)\u001b[0m\u001b[1;33m\u001b[0m\u001b[0m\n\u001b[0m\u001b[0;32m      2\u001b[0m \u001b[1;32mwith\u001b[0m \u001b[0mopen\u001b[0m\u001b[1;33m(\u001b[0m\u001b[1;33m(\u001b[0m\u001b[0mdata_dir\u001b[0m\u001b[1;33m+\u001b[0m\u001b[1;34m\"/recs/ml.train.0.recs.tsv\"\u001b[0m\u001b[1;33m)\u001b[0m\u001b[1;33m,\u001b[0m \u001b[1;34m\"w\"\u001b[0m\u001b[1;33m)\u001b[0m \u001b[1;32mas\u001b[0m \u001b[0moutput_file\u001b[0m\u001b[1;33m:\u001b[0m\u001b[1;33m\u001b[0m\u001b[0m\n\u001b[0;32m      3\u001b[0m     \u001b[1;32mfor\u001b[0m \u001b[0muser_id\u001b[0m \u001b[1;32min\u001b[0m \u001b[0mtrain\u001b[0m\u001b[1;33m[\u001b[0m\u001b[1;34m\"user_id\"\u001b[0m\u001b[1;33m]\u001b[0m\u001b[1;33m.\u001b[0m\u001b[0munique\u001b[0m\u001b[1;33m(\u001b[0m\u001b[1;33m)\u001b[0m\u001b[1;33m:\u001b[0m\u001b[1;33m\u001b[0m\u001b[0m\n\u001b[0;32m      4\u001b[0m         \u001b[1;32mfor\u001b[0m \u001b[0mmovie_id\u001b[0m\u001b[1;33m,\u001b[0m \u001b[0mscore\u001b[0m \u001b[1;32min\u001b[0m \u001b[0mmodel\u001b[0m\u001b[1;33m.\u001b[0m\u001b[0mrecommend\u001b[0m\u001b[1;33m(\u001b[0m\u001b[0muser_id\u001b[0m\u001b[1;33m,\u001b[0m \u001b[0mrecs\u001b[0m\u001b[1;33m)\u001b[0m\u001b[1;33m:\u001b[0m\u001b[1;33m\u001b[0m\u001b[0m\n\u001b[0;32m      5\u001b[0m                 \u001b[0moutput_file\u001b[0m\u001b[1;33m.\u001b[0m\u001b[0mwrite\u001b[0m\u001b[1;33m(\u001b[0m\u001b[1;34m\"%s\\t%s\\t%s\\n\"\u001b[0m \u001b[1;33m%\u001b[0m \u001b[1;33m(\u001b[0m\u001b[0muser_id\u001b[0m\u001b[1;33m,\u001b[0m \u001b[0mmovie_id\u001b[0m\u001b[1;33m,\u001b[0m\u001b[0mscore\u001b[0m\u001b[1;33m)\u001b[0m\u001b[1;33m)\u001b[0m\u001b[1;33m\u001b[0m\u001b[0m\n",
      "\u001b[1;31mNameError\u001b[0m: name 'features' is not defined"
     ]
    }
   ],
   "source": [
    "recs = features.T.tocsr()\n",
    "with open((data_dir+\"/recs/ml.train.0.recs.tsv\"), \"w\") as output_file:\n",
    "    for user_id in train[\"user_id\"].unique():\n",
    "        for movie_id, score in model.recommend(user_id, recs):\n",
    "                output_file.write(\"%s\\t%s\\t%s\\n\" % (user_id, movie_id,score))"
   ]
  },
  {
   "cell_type": "code",
   "execution_count": 13,
   "metadata": {
    "collapsed": true
   },
   "outputs": [],
   "source": [
    "recs = features.T.tocsr()\n",
    "with open((data_dir+\"/recs/ml.test.0.recs.tsv\"), \"w\") as output_file:\n",
    "    for user_id in test[\"user_id\"].unique():\n",
    "        for movie_id, score in model.recommend(user_id, recs):\n",
    "                output_file.write(\"%s\\t%s\\t%s\\n\" % (user_id, movie_id,score))"
   ]
  },
  {
   "cell_type": "markdown",
   "metadata": {},
   "source": [
    "Оцениваем"
   ]
  },
  {
   "cell_type": "code",
   "execution_count": 14,
   "metadata": {
    "scrolled": true
   },
   "outputs": [
    {
     "name": "stdout",
     "output_type": "stream",
     "text": [
      "[2017-12-09 23:20:11,313] INFO: processing /home/spynal/Netology/Data/ml-latest-small/ml.train.0...\n",
      "None\n",
      "mrr            0.0224 +/- 0.0000\n",
      "prec@5         0.0073 +/- 0.0000\n",
      "prec@10        0.0048 +/- 0.0000\n",
      "prec@15        0.0032 +/- 0.0000\n",
      "prec@20        0.0024 +/- 0.0000\n"
     ]
    }
   ],
   "source": [
    "!mrec_evaluate --input_format tsv --test_input_format tsv --train $DATA_DIR/ml.train.0 --recsdir $DATA_DIR/recs"
   ]
  },
  {
   "cell_type": "code",
   "execution_count": 15,
   "metadata": {
    "scrolled": false
   },
   "outputs": [
    {
     "name": "stdout",
     "output_type": "stream",
     "text": [
      "[2017-12-09 23:20:12,580] INFO: processing /home/spynal/Netology/Data/ml-latest-small/ml.test.0...\n",
      "None\n",
      "mrr            0.0224 +/- 0.0000\n",
      "prec@5         0.0073 +/- 0.0000\n",
      "prec@10        0.0048 +/- 0.0000\n",
      "prec@15        0.0032 +/- 0.0000\n",
      "prec@20        0.0024 +/- 0.0000\n"
     ]
    }
   ],
   "source": [
    "!mrec_evaluate --input_format tsv --test_input_format tsv --train $DATA_DIR/ml.test.0 --recsdir $DATA_DIR/recs"
   ]
  },
  {
   "cell_type": "markdown",
   "metadata": {},
   "source": [
    "Подготавливаем данные для LightFM"
   ]
  },
  {
   "cell_type": "code",
   "execution_count": 156,
   "metadata": {
    "collapsed": true
   },
   "outputs": [],
   "source": [
    "last_movie_id = ratings[\"movie_id\"].max()\n",
    "last_user_id = ratings[\"user_id\"].max()"
   ]
  },
  {
   "cell_type": "code",
   "execution_count": 157,
   "metadata": {
    "collapsed": true
   },
   "outputs": [],
   "source": [
    "from scipy.sparse import csr_matrix\n",
    "\n",
    "user_x_item = ratings[[\"user_id\", \"movie_id\"]].as_matrix()\n",
    "mean_rating = ratings[\"rating\"].mean()\n",
    "user_item_matrix = csr_matrix(\n",
    "    (\n",
    "        (ratings[\"rating\"] > mean_rating).tolist(),\n",
    "        (\n",
    "            [pair[0] for pair in user_x_item],\n",
    "            [pair[1] for pair in user_x_item],\n",
    "        )\n",
    "    ),\n",
    "    shape=(last_user_id + 1, last_movie_id + 1),\n",
    "    dtype=np.float32\n",
    ")"
   ]
  },
  {
   "cell_type": "code",
   "execution_count": 158,
   "metadata": {
    "scrolled": true
   },
   "outputs": [
    {
     "name": "stdout",
     "output_type": "stream",
     "text": [
      "размер обучающей выборки: 41289\n",
      "размер тестовой выборки: 10279\n"
     ]
    }
   ],
   "source": [
    "np.random.seed(0)\n",
    "test_indices = np.random.choice(\n",
    "    range(user_item_matrix.nnz),\n",
    "    replace=False,\n",
    "    size=int(user_item_matrix.nnz * 0.2)\n",
    ").tolist()\n",
    "train_data = user_item_matrix.copy()\n",
    "train_data.data[test_indices] = 0\n",
    "train_data.eliminate_zeros()\n",
    "print(\"размер обучающей выборки: {}\".format(train_data.nnz))\n",
    "test_data = user_item_matrix.copy()\n",
    "test_data.data[:] = 0\n",
    "test_data.data[test_indices] = user_item_matrix.data[test_indices]\n",
    "test_data.eliminate_zeros()\n",
    "print(\"размер тестовой выборки: {}\".format(test_data.nnz))"
   ]
  },
  {
   "cell_type": "markdown",
   "metadata": {},
   "source": [
    "Обучаем модель на Оценках"
   ]
  },
  {
   "cell_type": "code",
   "execution_count": 159,
   "metadata": {
    "scrolled": true
   },
   "outputs": [
    {
     "name": "stdout",
     "output_type": "stream",
     "text": [
      "ROC AUC: train 0.91, test 0.89, PRC: train 0.28, test 0.06, REC: train 0.08, test 0.07.\n"
     ]
    }
   ],
   "source": [
    "from lightfm import LightFM\n",
    "from lightfm.evaluation import auc_score, precision_at_k, recall_at_k\n",
    "\n",
    "model = LightFM(loss=\"warp\")\n",
    "model.fit(\n",
    "    train_data,\n",
    "    num_threads=4\n",
    ")\n",
    "\n",
    "train_mrr = auc_score(model, train_data).mean()\n",
    "test_mrr = auc_score(model, test_data).mean()\n",
    "train_prc = precision_at_k(model, train_data, k=10).mean()\n",
    "test_prc = precision_at_k(model, test_data, k=10).mean()\n",
    "train_rec = recall_at_k(model, train_data, k=10).mean()\n",
    "test_rec = recall_at_k(model, test_data, k=10).mean()\n",
    "print('ROC AUC: train %.2f, test %.2f, PRC: train %.2f, test %.2f, REC: train %.2f, test %.2f.' % (train_mrr, test_mrr,train_prc, test_prc,train_rec, test_rec))"
   ]
  },
  {
   "cell_type": "markdown",
   "metadata": {},
   "source": [
    "Получаем рекомендации"
   ]
  },
  {
   "cell_type": "code",
   "execution_count": 134,
   "metadata": {
    "collapsed": true
   },
   "outputs": [],
   "source": [
    "def get_recs_model(dataset):\n",
    "    recs = model.predict(\n",
    "        user_ids=np.array(dataset[\"user_id\"].astype(np.int32).tolist()),\n",
    "        item_ids=np.array(dataset[\"movie_id\"].astype(np.int32).tolist()),\n",
    "        num_threads=4\n",
    "    )\n",
    "    return recs"
   ]
  },
  {
   "cell_type": "code",
   "execution_count": 135,
   "metadata": {
    "collapsed": true
   },
   "outputs": [],
   "source": [
    "train_recs_model = get_recs_model(train)"
   ]
  },
  {
   "cell_type": "markdown",
   "metadata": {},
   "source": [
    "Обучаем на оценки+тэги"
   ]
  },
  {
   "cell_type": "code",
   "execution_count": 160,
   "metadata": {},
   "outputs": [
    {
     "name": "stdout",
     "output_type": "stream",
     "text": [
      "ROC AUC: train 0.92, test 0.89, PRC: train 0.18, test 0.04, REC: train 0.04, test 0.04.\n"
     ]
    }
   ],
   "source": [
    "hybrid = LightFM(loss=\"warp\")\n",
    "hybrid.fit(\n",
    "    train_data,\n",
    "    num_threads=4,\n",
    "    item_features=features\n",
    ")\n",
    "\n",
    "train_mrr = auc_score(hybrid, train_data, item_features=features).mean()\n",
    "test_mrr = auc_score(hybrid, test_data, item_features=features).mean()\n",
    "train_prc = precision_at_k(hybrid, train_data, item_features=features,k=10).mean()\n",
    "test_prc = precision_at_k(hybrid, test_data, item_features=features,k=10).mean()\n",
    "train_rec = recall_at_k(hybrid, train_data, item_features=features,k=10).mean()\n",
    "test_rec = recall_at_k(hybrid, test_data, item_features=features,k=10).mean()\n",
    "print('ROC AUC: train %.2f, test %.2f, PRC: train %.2f, test %.2f, REC: train %.2f, test %.2f.' % (train_mrr, test_mrr,train_prc, test_prc,train_rec, test_rec))"
   ]
  },
  {
   "cell_type": "markdown",
   "metadata": {},
   "source": [
    "Получаем рекомендации"
   ]
  },
  {
   "cell_type": "code",
   "execution_count": 38,
   "metadata": {
    "collapsed": true
   },
   "outputs": [],
   "source": [
    "def get_recs_hybrid(dataset, features):\n",
    "    recs = hybrid.predict(\n",
    "        user_ids=np.array(dataset[\"user_id\"].astype(np.int32).tolist()),\n",
    "        item_ids=np.array(dataset[\"movie_id\"].astype(np.int32).tolist()),\n",
    "        item_features=features,\n",
    "        num_threads=4\n",
    "    )\n",
    "    return recs"
   ]
  },
  {
   "cell_type": "code",
   "execution_count": 39,
   "metadata": {
    "collapsed": true
   },
   "outputs": [],
   "source": [
    "train_recs = get_recs_hybrid(train, features)"
   ]
  },
  {
   "cell_type": "markdown",
   "metadata": {
    "collapsed": true
   },
   "source": [
    "#### Вывод:\n",
    "Самая лучшая модель получилась на оценки+тэги"
   ]
  },
  {
   "cell_type": "code",
   "execution_count": null,
   "metadata": {
    "collapsed": true
   },
   "outputs": [],
   "source": []
  }
 ],
 "metadata": {
  "kernelspec": {
   "display_name": "Python 3",
   "language": "python",
   "name": "python3"
  },
  "language_info": {
   "codemirror_mode": {
    "name": "ipython",
    "version": 3
   },
   "file_extension": ".py",
   "mimetype": "text/x-python",
   "name": "python",
   "nbconvert_exporter": "python",
   "pygments_lexer": "ipython3",
   "version": "3.6.1"
  }
 },
 "nbformat": 4,
 "nbformat_minor": 2
}
