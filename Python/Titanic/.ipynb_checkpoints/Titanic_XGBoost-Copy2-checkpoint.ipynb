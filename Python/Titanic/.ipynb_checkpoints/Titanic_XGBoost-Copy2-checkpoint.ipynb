{
 "cells": [
  {
   "cell_type": "code",
   "execution_count": 10,
   "metadata": {
    "collapsed": true
   },
   "outputs": [],
   "source": [
    "import numpy as np\n",
    "import pandas as pd\n",
    "from matplotlib import pyplot as plt\n",
    "%matplotlib inline"
   ]
  },
  {
   "cell_type": "code",
   "execution_count": 11,
   "metadata": {
    "collapsed": true
   },
   "outputs": [],
   "source": [
    "df_train=pd.read_csv('train.csv')\n",
    "df_test=pd.read_csv('test.csv')\n",
    "y_train=df_train['Survived']"
   ]
  },
  {
   "cell_type": "code",
   "execution_count": 12,
   "metadata": {
    "collapsed": true
   },
   "outputs": [],
   "source": [
    "df_train['is_test']=0\n",
    "df_test['is_test']=1"
   ]
  },
  {
   "cell_type": "code",
   "execution_count": 13,
   "metadata": {
    "collapsed": true
   },
   "outputs": [],
   "source": [
    "del df_train['Survived']"
   ]
  },
  {
   "cell_type": "code",
   "execution_count": 14,
   "metadata": {
    "collapsed": true
   },
   "outputs": [],
   "source": [
    "df1=pd.concat([df_train,df_test])"
   ]
  },
  {
   "cell_type": "code",
   "execution_count": 15,
   "metadata": {
    "collapsed": true
   },
   "outputs": [],
   "source": [
    "df1.Embarked.fillna('S', inplace=True)"
   ]
  },
  {
   "cell_type": "code",
   "execution_count": 16,
   "metadata": {
    "collapsed": true
   },
   "outputs": [],
   "source": [
    "df1['has_Cabin']=df1.Cabin.notnull().astype(int)"
   ]
  },
  {
   "cell_type": "code",
   "execution_count": 17,
   "metadata": {
    "collapsed": true
   },
   "outputs": [],
   "source": [
    "df1['Cabin']=df1.Cabin.str.split()\n",
    "df1['N_Cabin_1']=(df1.Cabin.str.len()==1).astype(int)\n",
    "df1['N_Cabin_2']=(df1.Cabin.str.len()==2).astype(int)\n",
    "df1['N_Cabin_3']=(df1.Cabin.str.len()==3).astype(int)\n",
    "df1['N_Cabin_4']=(df1.Cabin.str.len()==4).astype(int)"
   ]
  },
  {
   "cell_type": "code",
   "execution_count": 18,
   "metadata": {
    "collapsed": true
   },
   "outputs": [],
   "source": [
    "del df1['Cabin']"
   ]
  },
  {
   "cell_type": "code",
   "execution_count": 19,
   "metadata": {
    "collapsed": true
   },
   "outputs": [],
   "source": [
    "df1['Name_20']=((df1.Name.str.len()<=20)).astype(int)\n",
    "df1['Name_2030']=((df1.Name.str.len()>20) & (df1.Name.str.len()<=30)).astype(int)\n",
    "df1['Name_3040']=((df1.Name.str.len()>30) & (df1.Name.str.len()<=40)).astype(int)\n",
    "df1['Name_40']=((df1.Name.str.len()>40)).astype(int)"
   ]
  },
  {
   "cell_type": "code",
   "execution_count": 20,
   "metadata": {
    "collapsed": true
   },
   "outputs": [],
   "source": [
    "df1['is_Miss']=df1.Name.str.contains('Miss').astype(int)\n",
    "df1['is_Master']=df1.Name.str.contains('Master').astype(int)\n",
    "df1['is_Mr']=df1.Name.str.contains(r'(?:\\s|^)Mr.(?:\\s|$)').astype(int)\n",
    "df1['is_Mrs']=df1.Name.str.contains(r'(?:\\s|^)Mrs.(?:\\s|$)').astype(int)\n",
    "df1['Rare']=((df1.is_Miss!=1)&(df1.is_Master!=1)&(df1.is_Mr!=1)&(df1.is_Mrs!=1)).astype(int)"
   ]
  },
  {
   "cell_type": "code",
   "execution_count": 21,
   "metadata": {
    "collapsed": true
   },
   "outputs": [],
   "source": [
    "for index, row in df1.iterrows():\n",
    "    if (np.isnan(row['Age'])):\n",
    "        if row['is_Master']==1:\n",
    "            df1.loc[index, 'Age']=4\n",
    "        elif row['is_Miss']==1:\n",
    "            df1.loc[index,'Age']=(df1.Age[df1['is_Miss']==1]).median()\n",
    "        elif row['is_Mr']==1:\n",
    "            df1.loc[index,'Age']=(df1.Age[df1['is_Mr']==1]).median()\n",
    "        elif row['is_Mrs']==1:\n",
    "            df1.loc[index,'Age']=(df1.Age[df1['is_Mrs']==1]).median()"
   ]
  },
  {
   "cell_type": "code",
   "execution_count": 22,
   "metadata": {
    "collapsed": true
   },
   "outputs": [],
   "source": [
    "df1.fillna(df1.median(), inplace=True);"
   ]
  },
  {
   "cell_type": "code",
   "execution_count": 23,
   "metadata": {
    "collapsed": true
   },
   "outputs": [],
   "source": [
    "for index, row in df1.iterrows():\n",
    "    if row['Age']<=20:\n",
    "        df1.loc[index,'Age']='0-20'\n",
    "    elif 20<row['Age']<=30:\n",
    "        df1.loc[index,'Age']='20-30'\n",
    "    elif 30<row['Age']<=40:\n",
    "        df1.loc[index,'Age']='30-40'\n",
    "    elif 40<row['Age']<=50:\n",
    "        df1.loc[index,'Age']='40-50'\n",
    "    elif 50<row['Age']<=60:\n",
    "        df1.loc[index,'Age']='50-60'\n",
    "    elif row['Age']>60:\n",
    "        df1.loc[index,'Age']='60+'"
   ]
  },
  {
   "cell_type": "code",
   "execution_count": 24,
   "metadata": {
    "collapsed": true
   },
   "outputs": [],
   "source": [
    "for index, row in df1.iterrows():\n",
    "    if row['Fare']<=25:\n",
    "        df1.loc[index, 'Fare']='0-25'\n",
    "    elif 25<row['Fare']<=50:\n",
    "        df1.loc[index, 'Fare']='25-50'\n",
    "    elif 50<row['Fare']<=100:\n",
    "        df1.loc[index, 'Fare']='50-100'\n",
    "    elif 100<row['Fare']<=200:\n",
    "        df1.loc[index, 'Fare']='100-200'\n",
    "    elif 200<row['Fare']<=600:\n",
    "        df1.loc[index, 'Fare']='200-600'\n",
    "    elif 300<row['Fare']<=600:\n",
    "        df1.loc[index, 'Fare']='300-600'"
   ]
  },
  {
   "cell_type": "code",
   "execution_count": 25,
   "metadata": {
    "collapsed": true
   },
   "outputs": [],
   "source": [
    "df1=df1.drop(['Name','Ticket','PassengerId'], axis=1)"
   ]
  },
  {
   "cell_type": "code",
   "execution_count": 26,
   "metadata": {
    "collapsed": true
   },
   "outputs": [],
   "source": [
    "df1=pd.get_dummies(df1)"
   ]
  },
  {
   "cell_type": "code",
   "execution_count": 27,
   "metadata": {
    "collapsed": true
   },
   "outputs": [],
   "source": [
    "X_train=df1[df1['is_test']==0]\n",
    "X_test=df1[df1['is_test']==1]"
   ]
  },
  {
   "cell_type": "code",
   "execution_count": 28,
   "metadata": {
    "collapsed": true
   },
   "outputs": [],
   "source": [
    "del X_test['is_test']\n",
    "del X_train['is_test']"
   ]
  },
  {
   "cell_type": "code",
   "execution_count": 29,
   "metadata": {
    "scrolled": false
   },
   "outputs": [
    {
     "data": {
      "text/html": [
       "<div>\n",
       "<style>\n",
       "    .dataframe thead tr:only-child th {\n",
       "        text-align: right;\n",
       "    }\n",
       "\n",
       "    .dataframe thead th {\n",
       "        text-align: left;\n",
       "    }\n",
       "\n",
       "    .dataframe tbody tr th {\n",
       "        vertical-align: top;\n",
       "    }\n",
       "</style>\n",
       "<table border=\"1\" class=\"dataframe\">\n",
       "  <thead>\n",
       "    <tr style=\"text-align: right;\">\n",
       "      <th></th>\n",
       "      <th>Pclass</th>\n",
       "      <th>SibSp</th>\n",
       "      <th>Parch</th>\n",
       "      <th>has_Cabin</th>\n",
       "      <th>N_Cabin_1</th>\n",
       "      <th>N_Cabin_2</th>\n",
       "      <th>N_Cabin_3</th>\n",
       "      <th>N_Cabin_4</th>\n",
       "      <th>Name_20</th>\n",
       "      <th>Name_2030</th>\n",
       "      <th>...</th>\n",
       "      <th>Age_50-60</th>\n",
       "      <th>Age_60+</th>\n",
       "      <th>Fare_0-25</th>\n",
       "      <th>Fare_100-200</th>\n",
       "      <th>Fare_200-600</th>\n",
       "      <th>Fare_25-50</th>\n",
       "      <th>Fare_50-100</th>\n",
       "      <th>Embarked_C</th>\n",
       "      <th>Embarked_Q</th>\n",
       "      <th>Embarked_S</th>\n",
       "    </tr>\n",
       "  </thead>\n",
       "  <tbody>\n",
       "    <tr>\n",
       "      <th>0</th>\n",
       "      <td>3</td>\n",
       "      <td>1</td>\n",
       "      <td>0</td>\n",
       "      <td>0</td>\n",
       "      <td>0</td>\n",
       "      <td>0</td>\n",
       "      <td>0</td>\n",
       "      <td>0</td>\n",
       "      <td>0</td>\n",
       "      <td>1</td>\n",
       "      <td>...</td>\n",
       "      <td>0</td>\n",
       "      <td>0</td>\n",
       "      <td>1</td>\n",
       "      <td>0</td>\n",
       "      <td>0</td>\n",
       "      <td>0</td>\n",
       "      <td>0</td>\n",
       "      <td>0</td>\n",
       "      <td>0</td>\n",
       "      <td>1</td>\n",
       "    </tr>\n",
       "    <tr>\n",
       "      <th>1</th>\n",
       "      <td>1</td>\n",
       "      <td>1</td>\n",
       "      <td>0</td>\n",
       "      <td>1</td>\n",
       "      <td>1</td>\n",
       "      <td>0</td>\n",
       "      <td>0</td>\n",
       "      <td>0</td>\n",
       "      <td>0</td>\n",
       "      <td>0</td>\n",
       "      <td>...</td>\n",
       "      <td>0</td>\n",
       "      <td>0</td>\n",
       "      <td>1</td>\n",
       "      <td>0</td>\n",
       "      <td>0</td>\n",
       "      <td>0</td>\n",
       "      <td>0</td>\n",
       "      <td>1</td>\n",
       "      <td>0</td>\n",
       "      <td>0</td>\n",
       "    </tr>\n",
       "    <tr>\n",
       "      <th>2</th>\n",
       "      <td>3</td>\n",
       "      <td>0</td>\n",
       "      <td>0</td>\n",
       "      <td>0</td>\n",
       "      <td>0</td>\n",
       "      <td>0</td>\n",
       "      <td>0</td>\n",
       "      <td>0</td>\n",
       "      <td>0</td>\n",
       "      <td>1</td>\n",
       "      <td>...</td>\n",
       "      <td>0</td>\n",
       "      <td>1</td>\n",
       "      <td>1</td>\n",
       "      <td>0</td>\n",
       "      <td>0</td>\n",
       "      <td>0</td>\n",
       "      <td>0</td>\n",
       "      <td>0</td>\n",
       "      <td>0</td>\n",
       "      <td>1</td>\n",
       "    </tr>\n",
       "    <tr>\n",
       "      <th>3</th>\n",
       "      <td>1</td>\n",
       "      <td>1</td>\n",
       "      <td>0</td>\n",
       "      <td>1</td>\n",
       "      <td>1</td>\n",
       "      <td>0</td>\n",
       "      <td>0</td>\n",
       "      <td>0</td>\n",
       "      <td>0</td>\n",
       "      <td>0</td>\n",
       "      <td>...</td>\n",
       "      <td>0</td>\n",
       "      <td>0</td>\n",
       "      <td>1</td>\n",
       "      <td>0</td>\n",
       "      <td>0</td>\n",
       "      <td>0</td>\n",
       "      <td>0</td>\n",
       "      <td>0</td>\n",
       "      <td>0</td>\n",
       "      <td>1</td>\n",
       "    </tr>\n",
       "    <tr>\n",
       "      <th>4</th>\n",
       "      <td>3</td>\n",
       "      <td>0</td>\n",
       "      <td>0</td>\n",
       "      <td>0</td>\n",
       "      <td>0</td>\n",
       "      <td>0</td>\n",
       "      <td>0</td>\n",
       "      <td>0</td>\n",
       "      <td>0</td>\n",
       "      <td>1</td>\n",
       "      <td>...</td>\n",
       "      <td>0</td>\n",
       "      <td>0</td>\n",
       "      <td>1</td>\n",
       "      <td>0</td>\n",
       "      <td>0</td>\n",
       "      <td>0</td>\n",
       "      <td>0</td>\n",
       "      <td>0</td>\n",
       "      <td>0</td>\n",
       "      <td>1</td>\n",
       "    </tr>\n",
       "  </tbody>\n",
       "</table>\n",
       "<p>5 rows × 33 columns</p>\n",
       "</div>"
      ],
      "text/plain": [
       "   Pclass  SibSp  Parch  has_Cabin  N_Cabin_1  N_Cabin_2  N_Cabin_3  \\\n",
       "0       3      1      0          0          0          0          0   \n",
       "1       1      1      0          1          1          0          0   \n",
       "2       3      0      0          0          0          0          0   \n",
       "3       1      1      0          1          1          0          0   \n",
       "4       3      0      0          0          0          0          0   \n",
       "\n",
       "   N_Cabin_4  Name_20  Name_2030     ...      Age_50-60  Age_60+  Fare_0-25  \\\n",
       "0          0        0          1     ...              0        0          1   \n",
       "1          0        0          0     ...              0        0          1   \n",
       "2          0        0          1     ...              0        1          1   \n",
       "3          0        0          0     ...              0        0          1   \n",
       "4          0        0          1     ...              0        0          1   \n",
       "\n",
       "   Fare_100-200  Fare_200-600  Fare_25-50  Fare_50-100  Embarked_C  \\\n",
       "0             0             0           0            0           0   \n",
       "1             0             0           0            0           1   \n",
       "2             0             0           0            0           0   \n",
       "3             0             0           0            0           0   \n",
       "4             0             0           0            0           0   \n",
       "\n",
       "   Embarked_Q  Embarked_S  \n",
       "0           0           1  \n",
       "1           0           0  \n",
       "2           0           1  \n",
       "3           0           1  \n",
       "4           0           1  \n",
       "\n",
       "[5 rows x 33 columns]"
      ]
     },
     "execution_count": 29,
     "metadata": {},
     "output_type": "execute_result"
    }
   ],
   "source": [
    "X_train.head()"
   ]
  },
  {
   "cell_type": "code",
   "execution_count": null,
   "metadata": {
    "collapsed": true
   },
   "outputs": [],
   "source": []
  },
  {
   "cell_type": "code",
   "execution_count": 33,
   "metadata": {},
   "outputs": [],
   "source": [
    "from sklearn.ensemble import RandomForestClassifier\n",
    "from sklearn.model_selection import KFold\n",
    "\n",
    "clf = RandomForestClassifier()\n",
    "\n",
    "params_grid = { # параметры для RandomForest, которые будем тюнить\n",
    "    'n_estimators': [1, 2, 3, 10, 35],\n",
    "    'min_samples_split': [2, 5, 10]\n",
    "}"
   ]
  },
  {
   "cell_type": "code",
   "execution_count": 35,
   "metadata": {},
   "outputs": [
    {
     "name": "stdout",
     "output_type": "stream",
     "text": [
      "('Training RandomForest with params: ', {'n_estimators': 1, 'min_samples_split': 2})\n",
      "('OOB: ', 0.66666666666666663)\n",
      "('Training RandomForest with params: ', {'n_estimators': 2, 'min_samples_split': 2})\n",
      "('OOB: ', 0.71717171717171713)\n",
      "('Training RandomForest with params: ', {'n_estimators': 3, 'min_samples_split': 2})\n",
      "('OOB: ', 0.72166105499438837)\n",
      "('Training RandomForest with params: ', {'n_estimators': 10, 'min_samples_split': 2})\n",
      "('OOB: ', 0.79012345679012341)\n",
      "('Training RandomForest with params: ', {'n_estimators': 35, 'min_samples_split': 2})\n",
      "('OOB: ', 0.80808080808080807)\n",
      "('Training RandomForest with params: ', {'n_estimators': 1, 'min_samples_split': 5})\n",
      "('OOB: ', 0.66666666666666663)\n",
      "('Training RandomForest with params: ', {'n_estimators': 2, 'min_samples_split': 5})\n",
      "('OOB: ', 0.72053872053872059)\n",
      "('Training RandomForest with params: ', {'n_estimators': 3, 'min_samples_split': 5})\n",
      "('OOB: ', 0.7407407407407407)\n",
      "('Training RandomForest with params: ', {'n_estimators': 10, 'min_samples_split': 5})\n",
      "('OOB: ', 0.79573512906846244)\n",
      "('Training RandomForest with params: ', {'n_estimators': 35, 'min_samples_split': 5})\n",
      "('OOB: ', 0.81705948372615034)\n",
      "('Training RandomForest with params: ', {'n_estimators': 1, 'min_samples_split': 10})\n",
      "('OOB: ', 0.68125701459034793)\n",
      "('Training RandomForest with params: ', {'n_estimators': 2, 'min_samples_split': 10})\n",
      "('OOB: ', 0.71941638608305269)\n",
      "('Training RandomForest with params: ', {'n_estimators': 3, 'min_samples_split': 10})\n",
      "('OOB: ', 0.7407407407407407)\n",
      "('Training RandomForest with params: ', {'n_estimators': 10, 'min_samples_split': 10})\n",
      "('OOB: ', 0.79349046015712688)\n",
      "('Training RandomForest with params: ', {'n_estimators': 35, 'min_samples_split': 10})\n"
     ]
    },
    {
     "name": "stderr",
     "output_type": "stream",
     "text": [
      "C:\\Users\\mrasskazov\\AppData\\Local\\Continuum\\Anaconda3\\lib\\site-packages\\sklearn\\ensemble\\forest.py:439: UserWarning: Some inputs do not have OOB scores. This probably means too few trees were used to compute any reliable oob estimates.\n",
      "  warn(\"Some inputs do not have OOB scores. \"\n",
      "C:\\Users\\mrasskazov\\AppData\\Local\\Continuum\\Anaconda3\\lib\\site-packages\\sklearn\\ensemble\\forest.py:444: RuntimeWarning: invalid value encountered in true_divide\n",
      "  predictions[k].sum(axis=1)[:, np.newaxis])\n",
      "C:\\Users\\mrasskazov\\AppData\\Local\\Continuum\\Anaconda3\\lib\\site-packages\\sklearn\\ensemble\\forest.py:439: UserWarning: Some inputs do not have OOB scores. This probably means too few trees were used to compute any reliable oob estimates.\n",
      "  warn(\"Some inputs do not have OOB scores. \"\n",
      "C:\\Users\\mrasskazov\\AppData\\Local\\Continuum\\Anaconda3\\lib\\site-packages\\sklearn\\ensemble\\forest.py:444: RuntimeWarning: invalid value encountered in true_divide\n",
      "  predictions[k].sum(axis=1)[:, np.newaxis])\n",
      "C:\\Users\\mrasskazov\\AppData\\Local\\Continuum\\Anaconda3\\lib\\site-packages\\sklearn\\ensemble\\forest.py:439: UserWarning: Some inputs do not have OOB scores. This probably means too few trees were used to compute any reliable oob estimates.\n",
      "  warn(\"Some inputs do not have OOB scores. \"\n",
      "C:\\Users\\mrasskazov\\AppData\\Local\\Continuum\\Anaconda3\\lib\\site-packages\\sklearn\\ensemble\\forest.py:444: RuntimeWarning: invalid value encountered in true_divide\n",
      "  predictions[k].sum(axis=1)[:, np.newaxis])\n",
      "C:\\Users\\mrasskazov\\AppData\\Local\\Continuum\\Anaconda3\\lib\\site-packages\\sklearn\\ensemble\\forest.py:439: UserWarning: Some inputs do not have OOB scores. This probably means too few trees were used to compute any reliable oob estimates.\n",
      "  warn(\"Some inputs do not have OOB scores. \"\n",
      "C:\\Users\\mrasskazov\\AppData\\Local\\Continuum\\Anaconda3\\lib\\site-packages\\sklearn\\ensemble\\forest.py:444: RuntimeWarning: invalid value encountered in true_divide\n",
      "  predictions[k].sum(axis=1)[:, np.newaxis])\n",
      "C:\\Users\\mrasskazov\\AppData\\Local\\Continuum\\Anaconda3\\lib\\site-packages\\sklearn\\ensemble\\forest.py:439: UserWarning: Some inputs do not have OOB scores. This probably means too few trees were used to compute any reliable oob estimates.\n",
      "  warn(\"Some inputs do not have OOB scores. \"\n",
      "C:\\Users\\mrasskazov\\AppData\\Local\\Continuum\\Anaconda3\\lib\\site-packages\\sklearn\\ensemble\\forest.py:444: RuntimeWarning: invalid value encountered in true_divide\n",
      "  predictions[k].sum(axis=1)[:, np.newaxis])\n",
      "C:\\Users\\mrasskazov\\AppData\\Local\\Continuum\\Anaconda3\\lib\\site-packages\\sklearn\\ensemble\\forest.py:439: UserWarning: Some inputs do not have OOB scores. This probably means too few trees were used to compute any reliable oob estimates.\n",
      "  warn(\"Some inputs do not have OOB scores. \"\n",
      "C:\\Users\\mrasskazov\\AppData\\Local\\Continuum\\Anaconda3\\lib\\site-packages\\sklearn\\ensemble\\forest.py:444: RuntimeWarning: invalid value encountered in true_divide\n",
      "  predictions[k].sum(axis=1)[:, np.newaxis])\n",
      "C:\\Users\\mrasskazov\\AppData\\Local\\Continuum\\Anaconda3\\lib\\site-packages\\sklearn\\ensemble\\forest.py:439: UserWarning: Some inputs do not have OOB scores. This probably means too few trees were used to compute any reliable oob estimates.\n",
      "  warn(\"Some inputs do not have OOB scores. \"\n",
      "C:\\Users\\mrasskazov\\AppData\\Local\\Continuum\\Anaconda3\\lib\\site-packages\\sklearn\\ensemble\\forest.py:444: RuntimeWarning: invalid value encountered in true_divide\n",
      "  predictions[k].sum(axis=1)[:, np.newaxis])\n",
      "C:\\Users\\mrasskazov\\AppData\\Local\\Continuum\\Anaconda3\\lib\\site-packages\\sklearn\\ensemble\\forest.py:439: UserWarning: Some inputs do not have OOB scores. This probably means too few trees were used to compute any reliable oob estimates.\n",
      "  warn(\"Some inputs do not have OOB scores. \"\n",
      "C:\\Users\\mrasskazov\\AppData\\Local\\Continuum\\Anaconda3\\lib\\site-packages\\sklearn\\ensemble\\forest.py:444: RuntimeWarning: invalid value encountered in true_divide\n",
      "  predictions[k].sum(axis=1)[:, np.newaxis])\n",
      "C:\\Users\\mrasskazov\\AppData\\Local\\Continuum\\Anaconda3\\lib\\site-packages\\sklearn\\ensemble\\forest.py:439: UserWarning: Some inputs do not have OOB scores. This probably means too few trees were used to compute any reliable oob estimates.\n",
      "  warn(\"Some inputs do not have OOB scores. \"\n",
      "C:\\Users\\mrasskazov\\AppData\\Local\\Continuum\\Anaconda3\\lib\\site-packages\\sklearn\\ensemble\\forest.py:444: RuntimeWarning: invalid value encountered in true_divide\n",
      "  predictions[k].sum(axis=1)[:, np.newaxis])\n",
      "C:\\Users\\mrasskazov\\AppData\\Local\\Continuum\\Anaconda3\\lib\\site-packages\\sklearn\\ensemble\\forest.py:439: UserWarning: Some inputs do not have OOB scores. This probably means too few trees were used to compute any reliable oob estimates.\n",
      "  warn(\"Some inputs do not have OOB scores. \"\n",
      "C:\\Users\\mrasskazov\\AppData\\Local\\Continuum\\Anaconda3\\lib\\site-packages\\sklearn\\ensemble\\forest.py:444: RuntimeWarning: invalid value encountered in true_divide\n",
      "  predictions[k].sum(axis=1)[:, np.newaxis])\n",
      "C:\\Users\\mrasskazov\\AppData\\Local\\Continuum\\Anaconda3\\lib\\site-packages\\sklearn\\ensemble\\forest.py:439: UserWarning: Some inputs do not have OOB scores. This probably means too few trees were used to compute any reliable oob estimates.\n",
      "  warn(\"Some inputs do not have OOB scores. \"\n",
      "C:\\Users\\mrasskazov\\AppData\\Local\\Continuum\\Anaconda3\\lib\\site-packages\\sklearn\\ensemble\\forest.py:444: RuntimeWarning: invalid value encountered in true_divide\n",
      "  predictions[k].sum(axis=1)[:, np.newaxis])\n",
      "C:\\Users\\mrasskazov\\AppData\\Local\\Continuum\\Anaconda3\\lib\\site-packages\\sklearn\\ensemble\\forest.py:439: UserWarning: Some inputs do not have OOB scores. This probably means too few trees were used to compute any reliable oob estimates.\n",
      "  warn(\"Some inputs do not have OOB scores. \"\n",
      "C:\\Users\\mrasskazov\\AppData\\Local\\Continuum\\Anaconda3\\lib\\site-packages\\sklearn\\ensemble\\forest.py:444: RuntimeWarning: invalid value encountered in true_divide\n",
      "  predictions[k].sum(axis=1)[:, np.newaxis])\n"
     ]
    },
    {
     "name": "stdout",
     "output_type": "stream",
     "text": [
      "('OOB: ', 0.82491582491582494)\n",
      "Best params:\n"
     ]
    },
    {
     "data": {
      "text/plain": [
       "{'min_samples_split': 10, 'n_estimators': 35}"
      ]
     },
     "execution_count": 35,
     "metadata": {},
     "output_type": "execute_result"
    }
   ],
   "source": [
    "from sklearn.metrics import accuracy_score\n",
    "\n",
    "kf = KFold(n_splits=4, shuffle=True) # Всегда делайте shuffle если обучаете не на последовательных данных!\n",
    "\n",
    "best_score = 0\n",
    "best_params = {}\n",
    "\n",
    "# Опять создадим всевозможные комбинации параметров модели\n",
    "params = [{}]\n",
    "for parameter_name in params_grid:\n",
    "    parameter_values = params_grid[parameter_name]\n",
    "    new_params = []\n",
    "    for value in parameter_values:    \n",
    "        for param in params:\n",
    "            updated_param = param.copy()\n",
    "            updated_param[parameter_name] = value\n",
    "            new_params.append(updated_param)\n",
    "    params = new_params\n",
    "    \n",
    "for param in params:\n",
    "    print(('Training RandomForest with params: ', param))\n",
    "    clf.set_params(**param)\n",
    "    clf.set_params(oob_score=True)\n",
    "    \n",
    "    # Это то, что нам требовалось делать раньше\n",
    "#     fold_aucs = []\n",
    "#     for train_idx, test_idx in kf.split(X_train):\n",
    "#         X_train_fold, X_test_fold = X_train.iloc[train_idx], X_train.iloc[test_idx]\n",
    "#         y_train_fold, y_test_fold = y_train.iloc[train_idx], y_train.iloc[test_idx]\n",
    "#         clf.fit(X_train_fold, y_train_fold)\n",
    "#         preds = clf.predict_proba(X_test_fold)\n",
    "#         auc = roc_auc_score(y_test_fold, preds[:, 1])\n",
    "#         fold_aucs.append(auc)\n",
    "#     print(('AUC: ', np.mean(fold_aucs)))\n",
    "\n",
    "    # А это то, что мы можем делать сейчас без всех махинаций с KFold'ом выше\n",
    "    clf.fit(X_train, y_train)\n",
    "    oob_score = clf.oob_score_\n",
    "    \n",
    "    print(('OOB: ', oob_score))\n",
    "    if oob_score > best_score:\n",
    "        best_score = oob_score\n",
    "        best_params = param\n",
    "\n",
    "print('Best params:')\n",
    "best_params"
   ]
  },
  {
   "cell_type": "code",
   "execution_count": null,
   "metadata": {
    "collapsed": true
   },
   "outputs": [],
   "source": []
  },
  {
   "cell_type": "code",
   "execution_count": null,
   "metadata": {
    "collapsed": true
   },
   "outputs": [],
   "source": []
  },
  {
   "cell_type": "code",
   "execution_count": null,
   "metadata": {
    "collapsed": true
   },
   "outputs": [],
   "source": []
  },
  {
   "cell_type": "code",
   "execution_count": 511,
   "metadata": {
    "collapsed": true
   },
   "outputs": [],
   "source": [
    "clf=XGBClassifier(**best_params)"
   ]
  },
  {
   "cell_type": "code",
   "execution_count": 512,
   "metadata": {
    "collapsed": true
   },
   "outputs": [],
   "source": [
    "model=clf.fit(X_train, y_train)"
   ]
  },
  {
   "cell_type": "code",
   "execution_count": 513,
   "metadata": {
    "collapsed": true
   },
   "outputs": [],
   "source": [
    "pred=model.predict(X_test)"
   ]
  },
  {
   "cell_type": "code",
   "execution_count": 514,
   "metadata": {
    "collapsed": true
   },
   "outputs": [],
   "source": [
    "with open('submission.txt', 'w') as out:\n",
    "    out.write('PassengerId,Survived\\n')\n",
    "    for passenger, y in zip(df_test['PassengerId'], pred):\n",
    "        out.write('%s,%s\\n' % (passenger, y))"
   ]
  },
  {
   "cell_type": "code",
   "execution_count": null,
   "metadata": {
    "collapsed": true
   },
   "outputs": [],
   "source": []
  },
  {
   "cell_type": "code",
   "execution_count": null,
   "metadata": {
    "collapsed": true
   },
   "outputs": [],
   "source": []
  }
 ],
 "metadata": {
  "kernelspec": {
   "display_name": "Python 3",
   "language": "python",
   "name": "python3"
  },
  "language_info": {
   "codemirror_mode": {
    "name": "ipython",
    "version": 3
   },
   "file_extension": ".py",
   "mimetype": "text/x-python",
   "name": "python",
   "nbconvert_exporter": "python",
   "pygments_lexer": "ipython3",
   "version": "3.6.1"
  }
 },
 "nbformat": 4,
 "nbformat_minor": 2
}
