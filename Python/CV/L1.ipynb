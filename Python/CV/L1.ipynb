{
 "cells": [
  {
   "cell_type": "code",
   "execution_count": 1,
   "metadata": {
    "collapsed": true
   },
   "outputs": [],
   "source": [
    "import numpy as np\n",
    "import cv2\n",
    "import matplotlib.pyplot as plt\n",
    "%matplotlib inline"
   ]
  },
  {
   "cell_type": "code",
   "execution_count": 2,
   "metadata": {
    "collapsed": true
   },
   "outputs": [],
   "source": [
    "train = np.loadtxt('C:/Users/mrasskazov/Desktop/DS/Data/MNIST/train.csv', delimiter=',', skiprows=1)\n",
    "test = np.loadtxt('C:/Users/mrasskazov/Desktop/DS/Data/MNIST/test.csv', delimiter=',', skiprows=1)"
   ]
  },
  {
   "cell_type": "code",
   "execution_count": 3,
   "metadata": {
    "collapsed": true
   },
   "outputs": [],
   "source": [
    "train_img=np.resize(train[:,1:], (42000,28, 28))\n",
    "test_img=np.resize(test[:,1:], (42000,28, 28))\n",
    "train_lable=train[:,0]"
   ]
  },
  {
   "cell_type": "code",
   "execution_count": 89,
   "metadata": {
    "scrolled": true
   },
   "outputs": [
    {
     "data": {
      "image/png": "[encoded data removed]",
      "text/plain": [
       "<matplotlib.figure.Figure at 0xfff7978>"
      ]
     },
     "metadata": {},
     "output_type": "display_data"
    }
   ],
   "source": [
    "fig=plt.figure(figsize=(20,10))\n",
    "for i, img in enumerate(train_img[0:5],1):\n",
    "    kernel = np.ones((5,5),np.uint8)\n",
    "    subplot=fig.add_subplot(1,7,i)\n",
    "    plt.imshow(cv2.dilate(img,kernel,1), cmap='gray')\n",
    "    subplot.set_title(train_lable[i-1])"
   ]
  },
  {
   "cell_type": "code",
   "execution_count": 104,
   "metadata": {
    "collapsed": true
   },
   "outputs": [],
   "source": [
    "train_sobel_x = np.zeros_like(train_img)\n",
    "train_sobel_y = np.zeros_like(train_img)\n",
    "for i in range(len(train_img)):\n",
    "    train_sobel_x[i] = cv2.Sobel(train_img[i], cv2.CV_64F, dx=1, dy=0, ksize=3)\n",
    "    train_sobel_y[i] = cv2.Sobel(train_img[i], cv2.CV_64F, dx=0, dy=1, ksize=3)\n",
    "\n",
    "test_sobel_x = np.zeros_like(test_img)\n",
    "test_sobel_y = np.zeros_like(test_img)\n",
    "for i in range(len(test_img)):\n",
    "    test_sobel_x[i] = cv2.Sobel(test_img[i], cv2.CV_64F, dx=1, dy=0, ksize=3)\n",
    "    test_sobel_y[i] = cv2.Sobel(test_img[i], cv2.CV_64F, dx=0, dy=1, ksize=3)\n",
    "###    \n",
    "train_g, train_theta = cv2.cartToPolar(train_sobel_x, train_sobel_y)\n",
    "test_g, test_theta = cv2.cartToPolar(test_sobel_x, test_sobel_y)\n",
    "###\n",
    "train_hist = np.zeros((len(train_img), 16))\n",
    "for i in range(len(train_img)):\n",
    "    hist, borders = np.histogram(train_theta[i],\n",
    "                                 bins=16,\n",
    "                                 range=(0., 2. * np.pi),\n",
    "                                 weights=train_g[i])\n",
    "    train_hist[i] = hist\n",
    "    \n",
    "test_hist = np.zeros((len(test_img), 16))\n",
    "for i in range(len(test_img)):\n",
    "    hist, borders = np.histogram(test_theta[i],\n",
    "                                 bins=16,\n",
    "                                 range=(0., 2. * np.pi),\n",
    "                                 weights=test_g[i])\n",
    "    test_hist[i] = hist\n",
    "    \n",
    "###\n",
    "\n",
    "train_hist = train_hist / np.linalg.norm(train_hist, axis=1)[:, None]\n",
    "test_hist = test_hist / np.linalg.norm(test_hist, axis=1)[:, None]"
   ]
  },
  {
   "cell_type": "code",
   "execution_count": 95,
   "metadata": {},
   "outputs": [],
   "source": [
    "train_sobel_x_i = np.zeros_like(train_img)\n",
    "train_sobel_y_i = np.zeros_like(train_img)\n",
    "for i in range(len(train_img)):\n",
    "    train_sobel_x_i[i] = cv2.Sobel(cv2.dilate(train_img[i],kernel,1), cv2.CV_64F, dx=1, dy=0, ksize=3)\n",
    "    train_sobel_y_i[i] = cv2.Sobel(cv2.dilate(train_img[i],kernel,1), cv2.CV_64F, dx=0, dy=1, ksize=3)\n",
    "\n",
    "test_sobel_x_i = np.zeros_like(test_img)\n",
    "test_sobel_y_i = np.zeros_like(test_img)\n",
    "for i in range(len(test_img)):\n",
    "    test_sobel_x_i[i] = cv2.Sobel(cv2.dilate(test_img[i],kernel,1), cv2.CV_64F, dx=1, dy=0, ksize=3)\n",
    "    test_sobel_y_i[i] = cv2.Sobel(cv2.dilate(test_img[i],kernel,1), cv2.CV_64F, dx=0, dy=1, ksize=3)\n",
    "###    \n",
    "train_g_i, train_theta_i = cv2.cartToPolar(train_sobel_x_i, train_sobel_y_i)\n",
    "test_g_i, test_theta_i = cv2.cartToPolar(test_sobel_x_i, test_sobel_y_i)\n",
    "###\n",
    "train_hist_i = np.zeros((len(train_img), 16))\n",
    "for i in range(len(train_img)):\n",
    "    hist, borders = np.histogram(train_theta_i[i],\n",
    "                                 bins=16,\n",
    "                                 range=(0., 2. * np.pi),\n",
    "                                 weights=train_g_i[i])\n",
    "    train_hist_i[i] = hist\n",
    "    \n",
    "test_hist_i = np.zeros((len(test_img), 16))\n",
    "for i in range(len(test_img)):\n",
    "    hist, borders = np.histogram(test_theta_i[i],\n",
    "                                 bins=16,\n",
    "                                 range=(0., 2. * np.pi),\n",
    "                                 weights=test_g_i[i])\n",
    "    test_hist_i[i] = hist\n",
    "    \n",
    "###\n",
    "\n",
    "train_hist_i = train_hist_i / np.linalg.norm(train_hist_i, axis=1)[:, None]\n",
    "test_hist_i = test_hist_i / np.linalg.norm(test_hist_i, axis=1)[:, None]"
   ]
  },
  {
   "cell_type": "code",
   "execution_count": 96,
   "metadata": {
    "scrolled": true
   },
   "outputs": [
    {
     "data": {
      "text/plain": [
       "<matplotlib.image.AxesImage at 0x92f65f8>"
      ]
     },
     "execution_count": 96,
     "metadata": {},
     "output_type": "execute_result"
    },
    {
     "data": {
      "image/png": "[encoded data removed]",
      "text/plain": [
       "<matplotlib.figure.Figure at 0x9854080>"
      ]
     },
     "metadata": {},
     "output_type": "display_data"
    }
   ],
   "source": [
    "plt.matshow(test_sobel_x_i[1], cmap='gray')"
   ]
  },
  {
   "cell_type": "code",
   "execution_count": 97,
   "metadata": {},
   "outputs": [],
   "source": [
    "train_hist_all=np.concatenate((train_hist,train_hist_i), axis=1)"
   ]
  },
  {
   "cell_type": "code",
   "execution_count": 98,
   "metadata": {
    "collapsed": true
   },
   "outputs": [],
   "source": [
    "from sklearn.model_selection import train_test_split"
   ]
  },
  {
   "cell_type": "code",
   "execution_count": 112,
   "metadata": {},
   "outputs": [],
   "source": [
    "X_train, X_val, y_train, y_val= train_test_split(train_hist_i, train_lable, test_size=0.2, random_state=42)"
   ]
  },
  {
   "cell_type": "code",
   "execution_count": 113,
   "metadata": {
    "collapsed": true
   },
   "outputs": [],
   "source": [
    "from sklearn.neighbors import KNeighborsClassifier"
   ]
  },
  {
   "cell_type": "code",
   "execution_count": 114,
   "metadata": {},
   "outputs": [],
   "source": [
    "clf=KNeighborsClassifier().fit(X_train,y_train)"
   ]
  },
  {
   "cell_type": "code",
   "execution_count": 115,
   "metadata": {
    "collapsed": true
   },
   "outputs": [],
   "source": [
    "knn_pred=clf.predict(X_val)"
   ]
  },
  {
   "cell_type": "code",
   "execution_count": 116,
   "metadata": {},
   "outputs": [
    {
     "data": {
      "text/plain": [
       "0.72202380952380951"
      ]
     },
     "execution_count": 116,
     "metadata": {},
     "output_type": "execute_result"
    }
   ],
   "source": [
    "clf.score(X_val,y_val)"
   ]
  },
  {
   "cell_type": "code",
   "execution_count": 117,
   "metadata": {
    "collapsed": true
   },
   "outputs": [],
   "source": [
    "from sklearn.metrics import accuracy_score\n",
    "from sklearn.metrics import classification_report\n",
    "from sklearn.metrics import confusion_matrix"
   ]
  },
  {
   "cell_type": "code",
   "execution_count": 118,
   "metadata": {},
   "outputs": [
    {
     "data": {
      "text/plain": [
       "0.72202380952380951"
      ]
     },
     "execution_count": 118,
     "metadata": {},
     "output_type": "execute_result"
    }
   ],
   "source": [
    "accuracy_score(y_val, knn_pred)"
   ]
  },
  {
   "cell_type": "code",
   "execution_count": 119,
   "metadata": {},
   "outputs": [
    {
     "name": "stdout",
     "output_type": "stream",
     "text": [
      "             precision    recall  f1-score   support\n",
      "\n",
      "        0.0       0.66      0.73      0.69       816\n",
      "        1.0       0.95      0.95      0.95       909\n",
      "        2.0       0.66      0.69      0.67       846\n",
      "        3.0       0.57      0.70      0.63       937\n",
      "        4.0       0.70      0.78      0.74       839\n",
      "        5.0       0.60      0.56      0.58       702\n",
      "        6.0       0.85      0.76      0.80       785\n",
      "        7.0       0.86      0.77      0.81       893\n",
      "        8.0       0.62      0.48      0.54       835\n",
      "        9.0       0.77      0.76      0.77       838\n",
      "\n",
      "avg / total       0.73      0.72      0.72      8400\n",
      "\n"
     ]
    }
   ],
   "source": [
    "print(classification_report(y_val, knn_pred))"
   ]
  },
  {
   "cell_type": "code",
   "execution_count": 120,
   "metadata": {},
   "outputs": [
    {
     "name": "stdout",
     "output_type": "stream",
     "text": [
      "[[594   7  44  11  31  23  48   2  53   3]\n",
      " [  7 860   2   2  20   0   4   1   2  11]\n",
      " [ 41   2 580  97  13  83  13   1  12   4]\n",
      " [ 26   0  75 658  13  64   2  13  66  20]\n",
      " [ 35  13  19   6 658   4   7  22  22  53]\n",
      " [ 23   0  79 159  12 390   6   6  26   1]\n",
      " [ 65   7  36  12  26  22 596   0  21   0]\n",
      " [ 12   4  11  39  54  11   0 686  15  61]\n",
      " [ 81   5  28 142  51  47  22  22 402  35]\n",
      " [ 17   4  10  29  58   4   0  46  29 641]]\n"
     ]
    }
   ],
   "source": [
    "print(confusion_matrix(y_val, knn_pred))"
   ]
  },
  {
   "cell_type": "code",
   "execution_count": 221,
   "metadata": {
    "collapsed": true
   },
   "outputs": [],
   "source": [
    "knn_pred_test=clf.predict(test_hist)"
   ]
  },
  {
   "cell_type": "code",
   "execution_count": 222,
   "metadata": {},
   "outputs": [
    {
     "data": {
      "image/png": "[encoded data removed]",
      "text/plain": [
       "<matplotlib.figure.Figure at 0xa8cbf28>"
      ]
     },
     "metadata": {},
     "output_type": "display_data"
    }
   ],
   "source": [
    "fig=plt.figure(figsize=(20,10))\n",
    "for i, img in enumerate(test_img[0:5],1):\n",
    "    subplot=fig.add_subplot(1,7,i)\n",
    "    plt.imshow(img, cmap='gray')\n",
    "    subplot.set_title(knn_pred_test[i-1])"
   ]
  },
  {
   "cell_type": "code",
   "execution_count": 143,
   "metadata": {
    "collapsed": true
   },
   "outputs": [],
   "source": [
    "with open('submit.txt', 'w') as dst:\n",
    "    dst.write('ImageId,Label\\n')\n",
    "    for i, p in enumerate(knn_pred_test, 1):\n",
    "        dst.write('%s,%s\\n' % (i, int(p)))"
   ]
  },
  {
   "cell_type": "code",
   "execution_count": null,
   "metadata": {
    "collapsed": true
   },
   "outputs": [],
   "source": []
  }
 ],
 "metadata": {
  "kernelspec": {
   "display_name": "Python 3",
   "language": "python",
   "name": "python3"
  },
  "language_info": {
   "codemirror_mode": {
    "name": "ipython",
    "version": 3
   },
   "file_extension": ".py",
   "mimetype": "text/x-python",
   "name": "python",
   "nbconvert_exporter": "python",
   "pygments_lexer": "ipython3",
   "version": "3.6.1"
  }
 },
 "nbformat": 4,
 "nbformat_minor": 2
}
