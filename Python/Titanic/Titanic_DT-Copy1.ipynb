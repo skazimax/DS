{
 "cells": [
  {
   "cell_type": "code",
   "execution_count": 226,
   "metadata": {
    "collapsed": true
   },
   "outputs": [],
   "source": [
    "import numpy as np\n",
    "import pandas as pd\n",
    "from matplotlib import pyplot\n",
    "%matplotlib inline\n",
    "import seaborn as sb"
   ]
  },
  {
   "cell_type": "code",
   "execution_count": 227,
   "metadata": {
    "collapsed": true
   },
   "outputs": [],
   "source": [
    "df_train=pd.read_csv('train.csv')\n",
    "df_test=pd.read_csv('test.csv')"
   ]
  },
  {
   "cell_type": "code",
   "execution_count": 228,
   "metadata": {
    "collapsed": true
   },
   "outputs": [],
   "source": [
    "y_train=df_train.Survived"
   ]
  },
  {
   "cell_type": "code",
   "execution_count": 229,
   "metadata": {
    "collapsed": true
   },
   "outputs": [],
   "source": [
    "df_train.drop('Survived', axis=1, inplace=True)"
   ]
  },
  {
   "cell_type": "code",
   "execution_count": 230,
   "metadata": {
    "scrolled": true
   },
   "outputs": [
    {
     "data": {
      "text/plain": [
       "array([ True,  True,  True,  True,  True,  True,  True,  True,  True,\n",
       "        True,  True], dtype=bool)"
      ]
     },
     "execution_count": 230,
     "metadata": {},
     "output_type": "execute_result"
    }
   ],
   "source": [
    "df_train.columns==df_test.columns"
   ]
  },
  {
   "cell_type": "code",
   "execution_count": 231,
   "metadata": {
    "collapsed": true
   },
   "outputs": [],
   "source": [
    "df_train['is_test']=0"
   ]
  },
  {
   "cell_type": "code",
   "execution_count": 232,
   "metadata": {
    "collapsed": true
   },
   "outputs": [],
   "source": [
    "df_test['is_test']=1"
   ]
  },
  {
   "cell_type": "code",
   "execution_count": 233,
   "metadata": {
    "collapsed": true
   },
   "outputs": [],
   "source": [
    "df1=pd.concat([df_test,df_train])"
   ]
  },
  {
   "cell_type": "code",
   "execution_count": 234,
   "metadata": {
    "collapsed": true
   },
   "outputs": [],
   "source": [
    "df1['isMale']=df1.Sex.replace({'male':1,'female':0})"
   ]
  },
  {
   "cell_type": "code",
   "execution_count": 235,
   "metadata": {
    "collapsed": true
   },
   "outputs": [],
   "source": [
    "df1['is_Family']=((df1['SibSp']+df1['Parch'])>0).astype(int)"
   ]
  },
  {
   "cell_type": "code",
   "execution_count": 236,
   "metadata": {
    "collapsed": true
   },
   "outputs": [],
   "source": [
    "df1['is_Alone']=(df1['is_Family']==0).astype(int)"
   ]
  },
  {
   "cell_type": "code",
   "execution_count": 237,
   "metadata": {
    "collapsed": true
   },
   "outputs": [],
   "source": [
    "df1['is_Child']=(df1.Age<17).astype(int)"
   ]
  },
  {
   "cell_type": "code",
   "execution_count": 238,
   "metadata": {
    "collapsed": true
   },
   "outputs": [],
   "source": [
    "df1_1=pd.get_dummies(df1,columns=['Pclass'])"
   ]
  },
  {
   "cell_type": "code",
   "execution_count": 239,
   "metadata": {
    "collapsed": true
   },
   "outputs": [],
   "source": [
    "df1_1.drop(['PassengerId', 'Name','Cabin', 'Ticket', 'Sex', 'SibSp','Parch', 'Pclass_3', 'Embarked'], inplace=True, axis=1)"
   ]
  },
  {
   "cell_type": "code",
   "execution_count": 240,
   "metadata": {
    "collapsed": true
   },
   "outputs": [],
   "source": [
    "df1_1.Fare.fillna(df1_1.Fare.mean(), inplace=True)"
   ]
  },
  {
   "cell_type": "code",
   "execution_count": 241,
   "metadata": {},
   "outputs": [],
   "source": [
    "df1_1.Age.fillna(df1_1.Age.mean(), inplace=True)"
   ]
  },
  {
   "cell_type": "code",
   "execution_count": 242,
   "metadata": {
    "collapsed": true
   },
   "outputs": [],
   "source": [
    "x_train=df1_1[df1_1.is_test==0].drop('is_test', axis=1)\n",
    "x_test=df1_1[df1_1.is_test==1].drop('is_test', axis=1)"
   ]
  },
  {
   "cell_type": "code",
   "execution_count": 243,
   "metadata": {
    "collapsed": true
   },
   "outputs": [],
   "source": [
    "columns=x_train.columns"
   ]
  },
  {
   "cell_type": "code",
   "execution_count": 244,
   "metadata": {
    "collapsed": true
   },
   "outputs": [],
   "source": [
    "from sklearn.preprocessing import StandardScaler"
   ]
  },
  {
   "cell_type": "code",
   "execution_count": 245,
   "metadata": {
    "collapsed": true
   },
   "outputs": [],
   "source": [
    "scaler=StandardScaler()"
   ]
  },
  {
   "cell_type": "code",
   "execution_count": 246,
   "metadata": {},
   "outputs": [
    {
     "data": {
      "text/plain": [
       "StandardScaler(copy=True, with_mean=True, with_std=True)"
      ]
     },
     "execution_count": 246,
     "metadata": {},
     "output_type": "execute_result"
    }
   ],
   "source": [
    "scaler.fit(x_train)"
   ]
  },
  {
   "cell_type": "code",
   "execution_count": 247,
   "metadata": {},
   "outputs": [],
   "source": [
    "x_train_sc=scaler.transform(x_train)\n",
    "x_train_sc=pd.DataFrame(x_train_sc, columns=columns)"
   ]
  },
  {
   "cell_type": "code",
   "execution_count": 248,
   "metadata": {},
   "outputs": [
    {
     "data": {
      "text/html": [
       "<div>\n",
       "<style>\n",
       "    .dataframe thead tr:only-child th {\n",
       "        text-align: right;\n",
       "    }\n",
       "\n",
       "    .dataframe thead th {\n",
       "        text-align: left;\n",
       "    }\n",
       "\n",
       "    .dataframe tbody tr th {\n",
       "        vertical-align: top;\n",
       "    }\n",
       "</style>\n",
       "<table border=\"1\" class=\"dataframe\">\n",
       "  <thead>\n",
       "    <tr style=\"text-align: right;\">\n",
       "      <th></th>\n",
       "      <th>Age</th>\n",
       "      <th>Fare</th>\n",
       "      <th>isMale</th>\n",
       "      <th>is_Family</th>\n",
       "      <th>is_Alone</th>\n",
       "      <th>is_Child</th>\n",
       "      <th>Pclass_1</th>\n",
       "      <th>Pclass_2</th>\n",
       "    </tr>\n",
       "  </thead>\n",
       "  <tbody>\n",
       "    <tr>\n",
       "      <th>0</th>\n",
       "      <td>-0.595254</td>\n",
       "      <td>-0.502445</td>\n",
       "      <td>0.737695</td>\n",
       "      <td>1.231645</td>\n",
       "      <td>-1.231645</td>\n",
       "      <td>-0.355559</td>\n",
       "      <td>-0.565685</td>\n",
       "      <td>-0.510152</td>\n",
       "    </tr>\n",
       "    <tr>\n",
       "      <th>1</th>\n",
       "      <td>0.635996</td>\n",
       "      <td>0.786845</td>\n",
       "      <td>-1.355574</td>\n",
       "      <td>1.231645</td>\n",
       "      <td>-1.231645</td>\n",
       "      <td>-0.355559</td>\n",
       "      <td>1.767767</td>\n",
       "      <td>-0.510152</td>\n",
       "    </tr>\n",
       "    <tr>\n",
       "      <th>2</th>\n",
       "      <td>-0.287441</td>\n",
       "      <td>-0.488854</td>\n",
       "      <td>-1.355574</td>\n",
       "      <td>-0.811922</td>\n",
       "      <td>0.811922</td>\n",
       "      <td>-0.355559</td>\n",
       "      <td>-0.565685</td>\n",
       "      <td>-0.510152</td>\n",
       "    </tr>\n",
       "    <tr>\n",
       "      <th>3</th>\n",
       "      <td>0.405137</td>\n",
       "      <td>0.420730</td>\n",
       "      <td>-1.355574</td>\n",
       "      <td>1.231645</td>\n",
       "      <td>-1.231645</td>\n",
       "      <td>-0.355559</td>\n",
       "      <td>1.767767</td>\n",
       "      <td>-0.510152</td>\n",
       "    </tr>\n",
       "    <tr>\n",
       "      <th>4</th>\n",
       "      <td>0.405137</td>\n",
       "      <td>-0.486337</td>\n",
       "      <td>0.737695</td>\n",
       "      <td>-0.811922</td>\n",
       "      <td>0.811922</td>\n",
       "      <td>-0.355559</td>\n",
       "      <td>-0.565685</td>\n",
       "      <td>-0.510152</td>\n",
       "    </tr>\n",
       "  </tbody>\n",
       "</table>\n",
       "</div>"
      ],
      "text/plain": [
       "        Age      Fare    isMale  is_Family  is_Alone  is_Child  Pclass_1  \\\n",
       "0 -0.595254 -0.502445  0.737695   1.231645 -1.231645 -0.355559 -0.565685   \n",
       "1  0.635996  0.786845 -1.355574   1.231645 -1.231645 -0.355559  1.767767   \n",
       "2 -0.287441 -0.488854 -1.355574  -0.811922  0.811922 -0.355559 -0.565685   \n",
       "3  0.405137  0.420730 -1.355574   1.231645 -1.231645 -0.355559  1.767767   \n",
       "4  0.405137 -0.486337  0.737695  -0.811922  0.811922 -0.355559 -0.565685   \n",
       "\n",
       "   Pclass_2  \n",
       "0 -0.510152  \n",
       "1 -0.510152  \n",
       "2 -0.510152  \n",
       "3 -0.510152  \n",
       "4 -0.510152  "
      ]
     },
     "execution_count": 248,
     "metadata": {},
     "output_type": "execute_result"
    }
   ],
   "source": [
    "x_train_sc.head()"
   ]
  },
  {
   "cell_type": "code",
   "execution_count": 249,
   "metadata": {
    "collapsed": true
   },
   "outputs": [],
   "source": [
    "x_test_sc=scaler.transform(x_test)"
   ]
  },
  {
   "cell_type": "code",
   "execution_count": 250,
   "metadata": {
    "collapsed": true
   },
   "outputs": [],
   "source": [
    "from sklearn.model_selection import train_test_split"
   ]
  },
  {
   "cell_type": "code",
   "execution_count": 251,
   "metadata": {
    "collapsed": true
   },
   "outputs": [],
   "source": [
    "x_train_fin, x_cv, y_train_fin, y_cv=train_test_split(x_train_sc, y_train, test_size=0.2)"
   ]
  },
  {
   "cell_type": "code",
   "execution_count": 269,
   "metadata": {},
   "outputs": [
    {
     "ename": "SyntaxError",
     "evalue": "invalid syntax (<ipython-input-269-2224e06d6af8>, line 2)",
     "output_type": "error",
     "traceback": [
      "\u001b[1;36m  File \u001b[1;32m\"<ipython-input-269-2224e06d6af8>\"\u001b[1;36m, line \u001b[1;32m2\u001b[0m\n\u001b[1;33m    from sklearn.ensemble.RandomForestClassifier\u001b[0m\n\u001b[1;37m                                                 ^\u001b[0m\n\u001b[1;31mSyntaxError\u001b[0m\u001b[1;31m:\u001b[0m invalid syntax\n"
     ]
    }
   ],
   "source": [
    "from sklearn.model_selection import GridSearchCV\n",
    "from sklearn.ensemble.RandomForestClassifier "
   ]
  },
  {
   "cell_type": "code",
   "execution_count": 253,
   "metadata": {
    "collapsed": true
   },
   "outputs": [],
   "source": [
    "depth=np.arange(1,10)\n",
    "grid={'max_depth':depth}\n",
    "gridsearch=GridSearchCV(DecisionTreeClassifier(),grid,scoring='accuracy', cv=5)"
   ]
  },
  {
   "cell_type": "code",
   "execution_count": 254,
   "metadata": {},
   "outputs": [
    {
     "data": {
      "text/plain": [
       "GridSearchCV(cv=5, error_score='raise',\n",
       "       estimator=DecisionTreeClassifier(class_weight=None, criterion='gini', max_depth=None,\n",
       "            max_features=None, max_leaf_nodes=None,\n",
       "            min_impurity_split=1e-07, min_samples_leaf=1,\n",
       "            min_samples_split=2, min_weight_fraction_leaf=0.0,\n",
       "            presort=False, random_state=None, splitter='best'),\n",
       "       fit_params={}, iid=True, n_jobs=1,\n",
       "       param_grid={'max_depth': array([1, 2, 3, 4, 5, 6, 7, 8, 9])},\n",
       "       pre_dispatch='2*n_jobs', refit=True, return_train_score=True,\n",
       "       scoring='accuracy', verbose=0)"
      ]
     },
     "execution_count": 254,
     "metadata": {},
     "output_type": "execute_result"
    }
   ],
   "source": [
    "gridsearch.fit(x_train_fin, y_train_fin)"
   ]
  },
  {
   "cell_type": "code",
   "execution_count": 255,
   "metadata": {},
   "outputs": [
    {
     "name": "stderr",
     "output_type": "stream",
     "text": [
      "C:\\Users\\mrasskazov\\AppData\\Local\\Continuum\\Anaconda3\\lib\\site-packages\\sklearn\\model_selection\\_search.py:667: DeprecationWarning: The grid_scores_ attribute was deprecated in version 0.18 in favor of the more elaborate cv_results_ attribute. The grid_scores_ attribute will not be available from 0.20\n",
      "  DeprecationWarning)\n"
     ]
    },
    {
     "data": {
      "text/plain": [
       "[mean: 0.82303, std: 0.02751, params: {'max_depth': 5},\n",
       " mean: 0.81461, std: 0.02380, params: {'max_depth': 4},\n",
       " mean: 0.80758, std: 0.02022, params: {'max_depth': 7},\n",
       " mean: 0.80197, std: 0.02416, params: {'max_depth': 6},\n",
       " mean: 0.80056, std: 0.02544, params: {'max_depth': 8},\n",
       " mean: 0.79916, std: 0.01949, params: {'max_depth': 9},\n",
       " mean: 0.78511, std: 0.02929, params: {'max_depth': 2},\n",
       " mean: 0.78230, std: 0.02950, params: {'max_depth': 1},\n",
       " mean: 0.76966, std: 0.02090, params: {'max_depth': 3}]"
      ]
     },
     "execution_count": 255,
     "metadata": {},
     "output_type": "execute_result"
    }
   ],
   "source": [
    "sorted(gridsearch.grid_scores_, key=lambda x: -x.mean_validation_score)"
   ]
  },
  {
   "cell_type": "code",
   "execution_count": 256,
   "metadata": {
    "scrolled": true
   },
   "outputs": [
    {
     "name": "stderr",
     "output_type": "stream",
     "text": [
      "C:\\Users\\mrasskazov\\AppData\\Local\\Continuum\\Anaconda3\\lib\\site-packages\\sklearn\\model_selection\\_search.py:667: DeprecationWarning: The grid_scores_ attribute was deprecated in version 0.18 in favor of the more elaborate cv_results_ attribute. The grid_scores_ attribute will not be available from 0.20\n",
      "  DeprecationWarning)\n"
     ]
    },
    {
     "data": {
      "image/png": "[encoded data removed]",
      "text/plain": [
       "<matplotlib.figure.Figure at 0xce7e780>"
      ]
     },
     "metadata": {},
     "output_type": "display_data"
    }
   ],
   "source": [
    "scores=[-x.mean_validation_score for x in gridsearch.grid_scores_]\n",
    "pyplot.plot(depth, scores)\n",
    "pyplot.scatter(depth, scores)\n",
    "best_point=np.argmin(scores)\n",
    "pyplot.scatter(depth[best_point], scores[best_point],c='g', s=100);"
   ]
  },
  {
   "cell_type": "code",
   "execution_count": 257,
   "metadata": {
    "collapsed": true
   },
   "outputs": [],
   "source": [
    "from sklearn.metrics import accuracy_score"
   ]
  },
  {
   "cell_type": "code",
   "execution_count": 258,
   "metadata": {
    "collapsed": true
   },
   "outputs": [],
   "source": [
    "dt=DecisionTreeClassifier(max_depth=5)"
   ]
  },
  {
   "cell_type": "code",
   "execution_count": 259,
   "metadata": {},
   "outputs": [
    {
     "data": {
      "text/plain": [
       "DecisionTreeClassifier(class_weight=None, criterion='gini', max_depth=5,\n",
       "            max_features=None, max_leaf_nodes=None,\n",
       "            min_impurity_split=1e-07, min_samples_leaf=1,\n",
       "            min_samples_split=2, min_weight_fraction_leaf=0.0,\n",
       "            presort=False, random_state=None, splitter='best')"
      ]
     },
     "execution_count": 259,
     "metadata": {},
     "output_type": "execute_result"
    }
   ],
   "source": [
    "dt.fit(x_train_fin, y_train_fin)"
   ]
  },
  {
   "cell_type": "code",
   "execution_count": 260,
   "metadata": {
    "collapsed": true
   },
   "outputs": [],
   "source": [
    "y_cv_pred=dt.predict(x_cv)"
   ]
  },
  {
   "cell_type": "code",
   "execution_count": 261,
   "metadata": {},
   "outputs": [
    {
     "data": {
      "text/plain": [
       "0.83240223463687146"
      ]
     },
     "execution_count": 261,
     "metadata": {},
     "output_type": "execute_result"
    }
   ],
   "source": [
    "accuracy_score(y_cv, y_cv_pred)"
   ]
  },
  {
   "cell_type": "code",
   "execution_count": 262,
   "metadata": {
    "scrolled": true
   },
   "outputs": [
    {
     "data": {
      "text/plain": [
       "DecisionTreeClassifier(class_weight=None, criterion='gini', max_depth=5,\n",
       "            max_features=None, max_leaf_nodes=None,\n",
       "            min_impurity_split=1e-07, min_samples_leaf=1,\n",
       "            min_samples_split=2, min_weight_fraction_leaf=0.0,\n",
       "            presort=False, random_state=None, splitter='best')"
      ]
     },
     "execution_count": 262,
     "metadata": {},
     "output_type": "execute_result"
    }
   ],
   "source": [
    "dt.fit(x_train_sc, y_train)"
   ]
  },
  {
   "cell_type": "code",
   "execution_count": 263,
   "metadata": {
    "collapsed": true
   },
   "outputs": [],
   "source": [
    "prediction=dt.predict(x_test_sc)"
   ]
  },
  {
   "cell_type": "code",
   "execution_count": 264,
   "metadata": {
    "collapsed": true
   },
   "outputs": [],
   "source": [
    "submission='PassengerId,Survived\\n'\n",
    "submission+=\"\\n\".join(['{},{}'.format(pid,prediction) for pid, prediction in zip(df_test.PassengerId,prediction)])"
   ]
  },
  {
   "cell_type": "code",
   "execution_count": 265,
   "metadata": {
    "collapsed": true
   },
   "outputs": [],
   "source": [
    "with open ('submission.txt', 'w') as file:\n",
    "    file.write(submission)"
   ]
  },
  {
   "cell_type": "code",
   "execution_count": 266,
   "metadata": {
    "collapsed": true
   },
   "outputs": [],
   "source": [
    "from sklearn.tree import export_graphviz\n",
    "\n",
    "def get_tree_dot_view(clf, feature_names=None, class_names=None):\n",
    "    print(export_graphviz(clf, out_file=None, filled=True, feature_names=feature_names, class_names=class_names))"
   ]
  },
  {
   "cell_type": "code",
   "execution_count": 267,
   "metadata": {
    "collapsed": true
   },
   "outputs": [],
   "source": [
    "from sklearn.preprocessing import LabelEncoder as le"
   ]
  },
  {
   "cell_type": "code",
   "execution_count": 268,
   "metadata": {},
   "outputs": [
    {
     "name": "stdout",
     "output_type": "stream",
     "text": [
      "digraph Tree {\n",
      "node [shape=box, style=\"filled\", color=\"black\"] ;\n",
      "0 [label=\"isMale <= -0.3089\\ngini = 0.473\\nsamples = 891\\nvalue = [549, 342]\", fillcolor=\"#e5813960\"] ;\n",
      "1 [label=\"Pclass_1 <= 0.601\\ngini = 0.3828\\nsamples = 314\\nvalue = [81, 233]\", fillcolor=\"#399de5a6\"] ;\n",
      "0 -> 1 [labeldistance=2.5, labelangle=45, headlabel=\"True\"] ;\n",
      "2 [label=\"Pclass_2 <= 0.725\\ngini = 0.4577\\nsamples = 220\\nvalue = [78, 142]\", fillcolor=\"#399de573\"] ;\n",
      "1 -> 2 ;\n",
      "3 [label=\"Fare <= -0.1783\\ngini = 0.5\\nsamples = 144\\nvalue = [72, 72]\", fillcolor=\"#e5813900\"] ;\n",
      "2 -> 3 ;\n",
      "4 [label=\"Age <= 0.5206\\ngini = 0.4839\\nsamples = 117\\nvalue = [48, 69]\", fillcolor=\"#399de54e\"] ;\n",
      "3 -> 4 ;\n",
      "5 [label=\"gini = 0.4721\\nsamples = 110\\nvalue = [42, 68]\", fillcolor=\"#399de561\"] ;\n",
      "4 -> 5 ;\n",
      "6 [label=\"gini = 0.2449\\nsamples = 7\\nvalue = [6, 1]\", fillcolor=\"#e58139d4\"] ;\n",
      "4 -> 6 ;\n",
      "7 [label=\"Age <= -1.865\\ngini = 0.1975\\nsamples = 27\\nvalue = [24, 3]\", fillcolor=\"#e58139df\"] ;\n",
      "3 -> 7 ;\n",
      "8 [label=\"gini = 0.4444\\nsamples = 3\\nvalue = [2, 1]\", fillcolor=\"#e581397f\"] ;\n",
      "7 -> 8 ;\n",
      "9 [label=\"gini = 0.1528\\nsamples = 24\\nvalue = [22, 2]\", fillcolor=\"#e58139e8\"] ;\n",
      "7 -> 9 ;\n",
      "10 [label=\"Age <= 2.0212\\ngini = 0.1454\\nsamples = 76\\nvalue = [6, 70]\", fillcolor=\"#399de5e9\"] ;\n",
      "2 -> 10 ;\n",
      "11 [label=\"Age <= -0.4798\\ngini = 0.1244\\nsamples = 75\\nvalue = [5, 70]\", fillcolor=\"#399de5ed\"] ;\n",
      "10 -> 11 ;\n",
      "12 [label=\"gini = 0.0\\nsamples = 20\\nvalue = [0, 20]\", fillcolor=\"#399de5ff\"] ;\n",
      "11 -> 12 ;\n",
      "13 [label=\"gini = 0.1653\\nsamples = 55\\nvalue = [5, 50]\", fillcolor=\"#399de5e6\"] ;\n",
      "11 -> 13 ;\n",
      "14 [label=\"gini = 0.0\\nsamples = 1\\nvalue = [1, 0]\", fillcolor=\"#e58139ff\"] ;\n",
      "10 -> 14 ;\n",
      "15 [label=\"Age <= -1.6726\\ngini = 0.0618\\nsamples = 94\\nvalue = [3, 91]\", fillcolor=\"#399de5f7\"] ;\n",
      "1 -> 15 ;\n",
      "16 [label=\"gini = 0.0\\nsamples = 1\\nvalue = [1, 0]\", fillcolor=\"#e58139ff\"] ;\n",
      "15 -> 16 ;\n",
      "17 [label=\"Fare <= -0.0573\\ngini = 0.0421\\nsamples = 93\\nvalue = [2, 91]\", fillcolor=\"#399de5f9\"] ;\n",
      "15 -> 17 ;\n",
      "18 [label=\"Fare <= -0.0803\\ngini = 0.2778\\nsamples = 6\\nvalue = [1, 5]\", fillcolor=\"#399de5cc\"] ;\n",
      "17 -> 18 ;\n",
      "19 [label=\"gini = 0.0\\nsamples = 5\\nvalue = [0, 5]\", fillcolor=\"#399de5ff\"] ;\n",
      "18 -> 19 ;\n",
      "20 [label=\"gini = 0.0\\nsamples = 1\\nvalue = [1, 0]\", fillcolor=\"#e58139ff\"] ;\n",
      "18 -> 20 ;\n",
      "21 [label=\"Fare <= 2.3524\\ngini = 0.0227\\nsamples = 87\\nvalue = [1, 86]\", fillcolor=\"#399de5fc\"] ;\n",
      "17 -> 21 ;\n",
      "22 [label=\"gini = 0.0\\nsamples = 69\\nvalue = [0, 69]\", fillcolor=\"#399de5ff\"] ;\n",
      "21 -> 22 ;\n",
      "23 [label=\"gini = 0.1049\\nsamples = 18\\nvalue = [1, 17]\", fillcolor=\"#399de5f0\"] ;\n",
      "21 -> 23 ;\n",
      "24 [label=\"Age <= -1.788\\ngini = 0.3064\\nsamples = 577\\nvalue = [468, 109]\", fillcolor=\"#e58139c4\"] ;\n",
      "0 -> 24 [labeldistance=2.5, labelangle=-45, headlabel=\"False\"] ;\n",
      "25 [label=\"Pclass_2 <= 0.725\\ngini = 0.4444\\nsamples = 24\\nvalue = [8, 16]\", fillcolor=\"#399de57f\"] ;\n",
      "24 -> 25 ;\n",
      "26 [label=\"Fare <= -0.2291\\ngini = 0.5\\nsamples = 16\\nvalue = [8, 8]\", fillcolor=\"#e5813900\"] ;\n",
      "25 -> 26 ;\n",
      "27 [label=\"gini = 0.0\\nsamples = 5\\nvalue = [0, 5]\", fillcolor=\"#399de5ff\"] ;\n",
      "26 -> 27 ;\n",
      "28 [label=\"Pclass_1 <= 0.601\\ngini = 0.3967\\nsamples = 11\\nvalue = [8, 3]\", fillcolor=\"#e581399f\"] ;\n",
      "26 -> 28 ;\n",
      "29 [label=\"gini = 0.1975\\nsamples = 9\\nvalue = [8, 1]\", fillcolor=\"#e58139df\"] ;\n",
      "28 -> 29 ;\n",
      "30 [label=\"gini = 0.0\\nsamples = 2\\nvalue = [0, 2]\", fillcolor=\"#399de5ff\"] ;\n",
      "28 -> 30 ;\n",
      "31 [label=\"gini = 0.0\\nsamples = 8\\nvalue = [0, 8]\", fillcolor=\"#399de5ff\"] ;\n",
      "25 -> 31 ;\n",
      "32 [label=\"Pclass_1 <= 0.601\\ngini = 0.2798\\nsamples = 553\\nvalue = [460, 93]\", fillcolor=\"#e58139cb\"] ;\n",
      "24 -> 32 ;\n",
      "33 [label=\"Fare <= 0.3925\\ngini = 0.2043\\nsamples = 433\\nvalue = [383, 50]\", fillcolor=\"#e58139de\"] ;\n",
      "32 -> 33 ;\n",
      "34 [label=\"Age <= -1.2878\\ngini = 0.1925\\nsamples = 417\\nvalue = [372, 45]\", fillcolor=\"#e58139e0\"] ;\n",
      "33 -> 34 ;\n",
      "35 [label=\"gini = 0.4444\\nsamples = 12\\nvalue = [8, 4]\", fillcolor=\"#e581397f\"] ;\n",
      "34 -> 35 ;\n",
      "36 [label=\"gini = 0.182\\nsamples = 405\\nvalue = [364, 41]\", fillcolor=\"#e58139e2\"] ;\n",
      "34 -> 36 ;\n",
      "37 [label=\"Fare <= 0.6205\\ngini = 0.4297\\nsamples = 16\\nvalue = [11, 5]\", fillcolor=\"#e581398b\"] ;\n",
      "33 -> 37 ;\n",
      "38 [label=\"gini = 0.4082\\nsamples = 7\\nvalue = [2, 5]\", fillcolor=\"#399de599\"] ;\n",
      "37 -> 38 ;\n",
      "39 [label=\"gini = 0.0\\nsamples = 9\\nvalue = [9, 0]\", fillcolor=\"#e58139ff\"] ;\n",
      "37 -> 39 ;\n",
      "40 [label=\"Fare <= -0.122\\ngini = 0.4599\\nsamples = 120\\nvalue = [77, 43]\", fillcolor=\"#e5813971\"] ;\n",
      "32 -> 40 ;\n",
      "41 [label=\"gini = 0.0\\nsamples = 10\\nvalue = [10, 0]\", fillcolor=\"#e58139ff\"] ;\n",
      "40 -> 41 ;\n",
      "42 [label=\"Age <= 1.7903\\ngini = 0.4762\\nsamples = 110\\nvalue = [67, 43]\", fillcolor=\"#e581395b\"] ;\n",
      "40 -> 42 ;\n",
      "43 [label=\"gini = 0.4949\\nsamples = 89\\nvalue = [49, 40]\", fillcolor=\"#e581392f\"] ;\n",
      "42 -> 43 ;\n",
      "44 [label=\"gini = 0.2449\\nsamples = 21\\nvalue = [18, 3]\", fillcolor=\"#e58139d4\"] ;\n",
      "42 -> 44 ;\n",
      "}\n"
     ]
    }
   ],
   "source": [
    "get_tree_dot_view(dt, list(x_train_sc.columns))"
   ]
  },
  {
   "cell_type": "code",
   "execution_count": null,
   "metadata": {
    "collapsed": true
   },
   "outputs": [],
   "source": []
  },
  {
   "cell_type": "code",
   "execution_count": null,
   "metadata": {
    "collapsed": true
   },
   "outputs": [],
   "source": []
  }
 ],
 "metadata": {
  "kernelspec": {
   "display_name": "Python 3",
   "language": "python",
   "name": "python3"
  },
  "language_info": {
   "codemirror_mode": {
    "name": "ipython",
    "version": 3
   },
   "file_extension": ".py",
   "mimetype": "text/x-python",
   "name": "python",
   "nbconvert_exporter": "python",
   "pygments_lexer": "ipython3",
   "version": "3.6.1"
  }
 },
 "nbformat": 4,
 "nbformat_minor": 2
}
