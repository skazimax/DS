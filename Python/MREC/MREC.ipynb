{
 "cells": [
  {
   "cell_type": "markdown",
   "metadata": {},
   "source": [
    "Делим выборку на train\\test"
   ]
  },
  {
   "cell_type": "code",
   "execution_count": 1,
   "metadata": {},
   "outputs": [
    {
     "name": "stdout",
     "output_type": "stream",
     "text": [
      "[2017-11-22 14:07:32,724] INFO: sorting input data...\n",
      "[2017-11-22 14:07:32,883] INFO: creating split 0: /home/spynal/Netology/splits/u.data.train.0 /home/spynal/Netology/splits/u.data.test.0\n",
      "[2017-11-22 14:07:33,394] INFO: creating split 1: /home/spynal/Netology/splits/u.data.train.1 /home/spynal/Netology/splits/u.data.test.1\n",
      "[2017-11-22 14:07:33,900] INFO: creating split 2: /home/spynal/Netology/splits/u.data.train.2 /home/spynal/Netology/splits/u.data.test.2\n",
      "[2017-11-22 14:07:34,414] INFO: creating split 3: /home/spynal/Netology/splits/u.data.train.3 /home/spynal/Netology/splits/u.data.test.3\n",
      "[2017-11-22 14:07:34,930] INFO: creating split 4: /home/spynal/Netology/splits/u.data.train.4 /home/spynal/Netology/splits/u.data.test.4\n",
      "[2017-11-22 14:07:35,448] INFO: cleaning up...\n",
      "[2017-11-22 14:07:35,451] INFO: done\n"
     ]
    }
   ],
   "source": [
    "!mrec_prepare --dataset ml-100k/u.data --outdir splits --rating_thresh 3.5 --test_size 0.2 --binarize"
   ]
  },
  {
   "cell_type": "markdown",
   "metadata": {},
   "source": [
    "Запускаем"
   ]
  },
  {
   "cell_type": "code",
   "execution_count": 2,
   "metadata": {
    "collapsed": true
   },
   "outputs": [],
   "source": [
    "!ipcluster start -n2 --daemonize"
   ]
  },
  {
   "cell_type": "markdown",
   "metadata": {},
   "source": [
    "Тренируем по популярности"
   ]
  },
  {
   "cell_type": "code",
   "execution_count": 2,
   "metadata": {},
   "outputs": [
    {
     "name": "stdout",
     "output_type": "stream",
     "text": [
      "[2017-11-22 14:07:52,855] INFO: processing /home/spynal/Netology/splits/u.data.train.2...\n",
      "[2017-11-22 14:07:53,771] INFO: processing /home/spynal/Netology/splits/u.data.train.0...\n",
      "[2017-11-22 14:07:54,726] INFO: processing /home/spynal/Netology/splits/u.data.train.1...\n",
      "[2017-11-22 14:07:55,642] INFO: processing /home/spynal/Netology/splits/u.data.train.3...\n",
      "[2017-11-22 14:07:56,555] INFO: processing /home/spynal/Netology/splits/u.data.train.4...\n",
      "[2017-11-22 14:07:57,457] INFO: done\n"
     ]
    }
   ],
   "source": [
    "!mrec_train -n2 --input_format tsv --train \"splits/u.data.train.*\" --outdir models_pop --model popularity"
   ]
  },
  {
   "cell_type": "markdown",
   "metadata": {
    "collapsed": true
   },
   "source": [
    "Предсказываем"
   ]
  },
  {
   "cell_type": "code",
   "execution_count": 6,
   "metadata": {},
   "outputs": [
    {
     "name": "stdout",
     "output_type": "stream",
     "text": [
      "[2017-11-22 14:12:03,195] INFO: processing /home/spynal/Netology/splits/u.data.train.2...\n",
      "[2017-11-22 14:12:03,196] INFO: creating recs directory /home/spynal/Netology/recs_pop/u.data.train.2-recs...\n",
      "[2017-11-22 14:12:03,200] INFO: checking for existing output recs...\n",
      "[2017-11-22 14:12:03,201] INFO: found 1 output files\n",
      "[2017-11-22 14:12:03,201] INFO: creating tasks...\n",
      "[2017-11-22 14:12:03,201] INFO: loading dataset to get size...\n",
      "[2017-11-22 14:12:03,901] INFO: loading model to get size...\n",
      "[2017-11-22 14:12:03,902] INFO: created 1 tasks, 943 users per task\n",
      "[2017-11-22 14:12:03,902] INFO: running in parallel across ipython engines...\n",
      "[2017-11-22 14:12:04,140] INFO: checking output files...\n",
      "[2017-11-22 14:12:04,140] INFO: SUCCESS: all tasks completed\n",
      "[2017-11-22 14:12:04,141] INFO: concatenating 1 partial output files...\n",
      "[2017-11-22 14:12:04,145] INFO: removing partial output files...\n",
      "[2017-11-22 14:12:04,146] INFO: done\n",
      "[2017-11-22 14:12:04,147] INFO: processing /home/spynal/Netology/splits/u.data.train.0...\n",
      "[2017-11-22 14:12:04,147] INFO: creating recs directory /home/spynal/Netology/recs_pop/u.data.train.0-recs...\n",
      "[2017-11-22 14:12:04,150] INFO: checking for existing output recs...\n",
      "[2017-11-22 14:12:04,150] INFO: creating tasks...\n",
      "[2017-11-22 14:12:04,150] INFO: loading dataset to get size...\n",
      "[2017-11-22 14:12:04,827] INFO: loading model to get size...\n",
      "[2017-11-22 14:12:04,828] INFO: created 1 tasks, 943 users per task\n",
      "[2017-11-22 14:12:04,829] INFO: running in parallel across ipython engines...\n",
      "[2017-11-22 14:12:05,901] INFO: checking output files...\n",
      "[2017-11-22 14:12:05,902] INFO: SUCCESS: all tasks completed\n",
      "[2017-11-22 14:12:05,902] INFO: concatenating 1 partial output files...\n",
      "[2017-11-22 14:12:05,911] INFO: removing partial output files...\n",
      "[2017-11-22 14:12:05,912] INFO: done\n",
      "[2017-11-22 14:12:05,912] INFO: processing /home/spynal/Netology/splits/u.data.train.1...\n",
      "[2017-11-22 14:12:05,912] INFO: creating recs directory /home/spynal/Netology/recs_pop/u.data.train.1-recs...\n",
      "[2017-11-22 14:12:05,916] INFO: checking for existing output recs...\n",
      "[2017-11-22 14:12:05,916] INFO: creating tasks...\n",
      "[2017-11-22 14:12:05,916] INFO: loading dataset to get size...\n",
      "[2017-11-22 14:12:06,615] INFO: loading model to get size...\n",
      "[2017-11-22 14:12:06,617] INFO: created 1 tasks, 943 users per task\n",
      "[2017-11-22 14:12:06,617] INFO: running in parallel across ipython engines...\n",
      "[2017-11-22 14:12:07,681] INFO: checking output files...\n",
      "[2017-11-22 14:12:07,681] INFO: SUCCESS: all tasks completed\n",
      "[2017-11-22 14:12:07,681] INFO: concatenating 1 partial output files...\n",
      "[2017-11-22 14:12:07,691] INFO: removing partial output files...\n",
      "[2017-11-22 14:12:07,691] INFO: done\n",
      "[2017-11-22 14:12:07,692] INFO: processing /home/spynal/Netology/splits/u.data.train.3...\n",
      "[2017-11-22 14:12:07,692] INFO: creating recs directory /home/spynal/Netology/recs_pop/u.data.train.3-recs...\n",
      "[2017-11-22 14:12:07,696] INFO: checking for existing output recs...\n",
      "[2017-11-22 14:12:07,696] INFO: creating tasks...\n",
      "[2017-11-22 14:12:07,696] INFO: loading dataset to get size...\n",
      "[2017-11-22 14:12:08,341] INFO: loading model to get size...\n",
      "[2017-11-22 14:12:08,342] INFO: created 1 tasks, 943 users per task\n",
      "[2017-11-22 14:12:08,343] INFO: running in parallel across ipython engines...\n",
      "[2017-11-22 14:12:09,462] INFO: checking output files...\n",
      "[2017-11-22 14:12:09,463] INFO: SUCCESS: all tasks completed\n",
      "[2017-11-22 14:12:09,463] INFO: concatenating 1 partial output files...\n",
      "[2017-11-22 14:12:09,469] INFO: removing partial output files...\n",
      "[2017-11-22 14:12:09,470] INFO: done\n",
      "[2017-11-22 14:12:09,470] INFO: processing /home/spynal/Netology/splits/u.data.train.4...\n",
      "[2017-11-22 14:12:09,473] INFO: creating recs directory /home/spynal/Netology/recs_pop/u.data.train.4-recs...\n",
      "[2017-11-22 14:12:09,478] INFO: checking for existing output recs...\n",
      "[2017-11-22 14:12:09,479] INFO: creating tasks...\n",
      "[2017-11-22 14:12:09,479] INFO: loading dataset to get size...\n",
      "[2017-11-22 14:12:10,135] INFO: loading model to get size...\n",
      "[2017-11-22 14:12:10,136] INFO: created 1 tasks, 943 users per task\n",
      "[2017-11-22 14:12:10,136] INFO: running in parallel across ipython engines...\n",
      "[2017-11-22 14:12:11,297] INFO: checking output files...\n",
      "[2017-11-22 14:12:11,298] INFO: SUCCESS: all tasks completed\n",
      "[2017-11-22 14:12:11,298] INFO: concatenating 1 partial output files...\n",
      "[2017-11-22 14:12:11,304] INFO: removing partial output files...\n",
      "[2017-11-22 14:12:11,304] INFO: done\n",
      "ItemPop\n",
      "mrr            0.3490 +/- 0.0042\n",
      "prec@5         0.1512 +/- 0.0006\n",
      "prec@10        0.1365 +/- 0.0016\n",
      "prec@15        0.1206 +/- 0.0010\n",
      "prec@20        0.1096 +/- 0.0005\n"
     ]
    }
   ],
   "source": [
    "!mrec_predict --input_format tsv --test_input_format tsv --train \"splits/u.data.train.*\" --modeldir models_pop --outdir recs_pop"
   ]
  },
  {
   "cell_type": "markdown",
   "metadata": {},
   "source": [
    "### KNN"
   ]
  },
  {
   "cell_type": "code",
   "execution_count": 7,
   "metadata": {},
   "outputs": [
    {
     "name": "stdout",
     "output_type": "stream",
     "text": [
      "[2017-11-22 14:13:53,199] INFO: processing /home/spynal/Netology/splits/u.data.train.2...\n",
      "[2017-11-22 14:13:53,199] INFO: finding number of items...\n",
      "[2017-11-22 14:13:53,960] INFO: 943 users and 1682 items\n",
      "[2017-11-22 14:13:53,960] INFO: creating sims directory /home/spynal/Netology/models_knn/u.data.train.2-sims...\n",
      "[2017-11-22 14:13:53,966] INFO: checking for existing output sims...\n",
      "[2017-11-22 14:13:53,967] INFO: creating tasks...\n",
      "[2017-11-22 14:13:53,967] INFO: running 2 tasks in parallel across ipython engines...\n",
      "[2017-11-22 14:14:02,799] INFO: checking output files...\n",
      "[2017-11-22 14:14:02,800] INFO: SUCCESS: all tasks completed\n",
      "[2017-11-22 14:14:02,800] INFO: concatenating 2 partial output files...\n",
      "[2017-11-22 14:14:02,810] INFO: removing partial output files...\n",
      "[2017-11-22 14:14:02,812] INFO: loading 1682 items in CosineKNNRecommender model from /home/spynal/Netology/models_knn/u.data.train.2.sims.tsv\n",
      "[2017-11-22 14:14:04,130] INFO: done\n",
      "[2017-11-22 14:14:04,130] INFO: processing /home/spynal/Netology/splits/u.data.train.0...\n",
      "[2017-11-22 14:14:04,130] INFO: finding number of items...\n",
      "[2017-11-22 14:14:04,782] INFO: 943 users and 1682 items\n",
      "[2017-11-22 14:14:04,782] INFO: creating sims directory /home/spynal/Netology/models_knn/u.data.train.0-sims...\n",
      "[2017-11-22 14:14:04,790] INFO: checking for existing output sims...\n",
      "[2017-11-22 14:14:04,790] INFO: creating tasks...\n",
      "[2017-11-22 14:14:04,790] INFO: running 2 tasks in parallel across ipython engines...\n",
      "[2017-11-22 14:14:14,083] INFO: checking output files...\n",
      "[2017-11-22 14:14:14,083] INFO: SUCCESS: all tasks completed\n",
      "[2017-11-22 14:14:14,083] INFO: concatenating 2 partial output files...\n",
      "[2017-11-22 14:14:14,094] INFO: removing partial output files...\n",
      "[2017-11-22 14:14:14,095] INFO: loading 1682 items in CosineKNNRecommender model from /home/spynal/Netology/models_knn/u.data.train.0.sims.tsv\n",
      "[2017-11-22 14:14:15,381] INFO: done\n",
      "[2017-11-22 14:14:15,381] INFO: processing /home/spynal/Netology/splits/u.data.train.1...\n",
      "[2017-11-22 14:14:15,381] INFO: finding number of items...\n",
      "[2017-11-22 14:14:16,079] INFO: 943 users and 1681 items\n",
      "[2017-11-22 14:14:16,079] INFO: creating sims directory /home/spynal/Netology/models_knn/u.data.train.1-sims...\n",
      "[2017-11-22 14:14:16,084] INFO: checking for existing output sims...\n",
      "[2017-11-22 14:14:16,084] INFO: creating tasks...\n",
      "[2017-11-22 14:14:16,085] INFO: running 2 tasks in parallel across ipython engines...\n",
      "[2017-11-22 14:14:25,195] INFO: checking output files...\n",
      "[2017-11-22 14:14:25,196] INFO: SUCCESS: all tasks completed\n",
      "[2017-11-22 14:14:25,196] INFO: concatenating 2 partial output files...\n",
      "[2017-11-22 14:14:25,204] INFO: removing partial output files...\n",
      "[2017-11-22 14:14:25,205] INFO: loading 1681 items in CosineKNNRecommender model from /home/spynal/Netology/models_knn/u.data.train.1.sims.tsv\n",
      "[2017-11-22 14:14:26,473] INFO: done\n",
      "[2017-11-22 14:14:26,474] INFO: processing /home/spynal/Netology/splits/u.data.train.3...\n",
      "[2017-11-22 14:14:26,474] INFO: finding number of items...\n",
      "[2017-11-22 14:14:27,505] INFO: 943 users and 1681 items\n",
      "[2017-11-22 14:14:27,505] INFO: creating sims directory /home/spynal/Netology/models_knn/u.data.train.3-sims...\n",
      "[2017-11-22 14:14:27,510] INFO: checking for existing output sims...\n",
      "[2017-11-22 14:14:27,511] INFO: creating tasks...\n",
      "[2017-11-22 14:14:27,511] INFO: running 2 tasks in parallel across ipython engines...\n",
      "[2017-11-22 14:14:37,098] INFO: checking output files...\n",
      "[2017-11-22 14:14:37,099] INFO: SUCCESS: all tasks completed\n",
      "[2017-11-22 14:14:37,099] INFO: concatenating 2 partial output files...\n",
      "[2017-11-22 14:14:37,107] INFO: removing partial output files...\n",
      "[2017-11-22 14:14:37,108] INFO: loading 1681 items in CosineKNNRecommender model from /home/spynal/Netology/models_knn/u.data.train.3.sims.tsv\n",
      "[2017-11-22 14:14:38,413] INFO: done\n",
      "[2017-11-22 14:14:38,414] INFO: processing /home/spynal/Netology/splits/u.data.train.4...\n",
      "[2017-11-22 14:14:38,414] INFO: finding number of items...\n",
      "[2017-11-22 14:14:39,119] INFO: 943 users and 1682 items\n",
      "[2017-11-22 14:14:39,119] INFO: creating sims directory /home/spynal/Netology/models_knn/u.data.train.4-sims...\n",
      "[2017-11-22 14:14:39,126] INFO: checking for existing output sims...\n",
      "[2017-11-22 14:14:39,127] INFO: creating tasks...\n",
      "[2017-11-22 14:14:39,127] INFO: running 2 tasks in parallel across ipython engines...\n",
      "[2017-11-22 14:14:48,064] INFO: checking output files...\n",
      "[2017-11-22 14:14:48,064] INFO: SUCCESS: all tasks completed\n",
      "[2017-11-22 14:14:48,065] INFO: concatenating 2 partial output files...\n",
      "[2017-11-22 14:14:48,077] INFO: removing partial output files...\n",
      "[2017-11-22 14:14:48,078] INFO: loading 1682 items in CosineKNNRecommender model from /home/spynal/Netology/models_knn/u.data.train.4.sims.tsv\n",
      "[2017-11-22 14:14:49,381] INFO: done\n"
     ]
    }
   ],
   "source": [
    "!mrec_train -n2 --input_format tsv --train \"splits/u.data.train.*\" --outdir models_knn --model knn"
   ]
  },
  {
   "cell_type": "code",
   "execution_count": 8,
   "metadata": {
    "scrolled": true
   },
   "outputs": [
    {
     "name": "stdout",
     "output_type": "stream",
     "text": [
      "[2017-11-22 14:15:39,541] INFO: processing /home/spynal/Netology/splits/u.data.train.2...\n",
      "[2017-11-22 14:15:39,542] INFO: creating recs directory /home/spynal/Netology/recs_knn/u.data.train.2-recs...\n",
      "[2017-11-22 14:15:39,547] INFO: checking for existing output recs...\n",
      "[2017-11-22 14:15:39,547] INFO: creating tasks...\n",
      "[2017-11-22 14:15:39,548] INFO: loading dataset to get size...\n",
      "[2017-11-22 14:15:40,250] INFO: loading model to get size...\n",
      "[2017-11-22 14:15:40,294] INFO: created 1 tasks, 5370 users per task\n",
      "[2017-11-22 14:15:40,294] INFO: running in parallel across ipython engines...\n",
      "[2017-11-22 14:15:42,486] INFO: checking output files...\n",
      "[2017-11-22 14:15:42,487] INFO: SUCCESS: all tasks completed\n",
      "[2017-11-22 14:15:42,487] INFO: concatenating 1 partial output files...\n",
      "[2017-11-22 14:15:42,493] INFO: removing partial output files...\n",
      "[2017-11-22 14:15:42,494] INFO: done\n",
      "[2017-11-22 14:15:42,495] INFO: processing /home/spynal/Netology/splits/u.data.train.0...\n",
      "[2017-11-22 14:15:42,495] INFO: creating recs directory /home/spynal/Netology/recs_knn/u.data.train.0-recs...\n",
      "[2017-11-22 14:15:42,500] INFO: checking for existing output recs...\n",
      "[2017-11-22 14:15:42,500] INFO: creating tasks...\n",
      "[2017-11-22 14:15:42,500] INFO: loading dataset to get size...\n",
      "[2017-11-22 14:15:43,149] INFO: loading model to get size...\n",
      "[2017-11-22 14:15:43,160] INFO: created 1 tasks, 5371 users per task\n",
      "[2017-11-22 14:15:43,160] INFO: running in parallel across ipython engines...\n",
      "[2017-11-22 14:15:45,440] INFO: checking output files...\n",
      "[2017-11-22 14:15:45,441] INFO: SUCCESS: all tasks completed\n",
      "[2017-11-22 14:15:45,441] INFO: concatenating 1 partial output files...\n",
      "[2017-11-22 14:15:45,454] INFO: removing partial output files...\n",
      "[2017-11-22 14:15:45,454] INFO: done\n",
      "[2017-11-22 14:15:45,456] INFO: processing /home/spynal/Netology/splits/u.data.train.1...\n",
      "[2017-11-22 14:15:45,456] INFO: creating recs directory /home/spynal/Netology/recs_knn/u.data.train.1-recs...\n",
      "[2017-11-22 14:15:45,461] INFO: checking for existing output recs...\n",
      "[2017-11-22 14:15:45,461] INFO: creating tasks...\n",
      "[2017-11-22 14:15:45,461] INFO: loading dataset to get size...\n",
      "[2017-11-22 14:15:46,221] INFO: loading model to get size...\n",
      "[2017-11-22 14:15:46,231] INFO: created 1 tasks, 5359 users per task\n",
      "[2017-11-22 14:15:46,231] INFO: running in parallel across ipython engines...\n",
      "[2017-11-22 14:15:49,018] INFO: checking output files...\n",
      "[2017-11-22 14:15:49,018] INFO: SUCCESS: all tasks completed\n",
      "[2017-11-22 14:15:49,019] INFO: concatenating 1 partial output files...\n",
      "[2017-11-22 14:15:49,026] INFO: removing partial output files...\n",
      "[2017-11-22 14:15:49,027] INFO: done\n",
      "[2017-11-22 14:15:49,028] INFO: processing /home/spynal/Netology/splits/u.data.train.3...\n",
      "[2017-11-22 14:15:49,029] INFO: creating recs directory /home/spynal/Netology/recs_knn/u.data.train.3-recs...\n",
      "[2017-11-22 14:15:49,034] INFO: checking for existing output recs...\n",
      "[2017-11-22 14:15:49,035] INFO: creating tasks...\n",
      "[2017-11-22 14:15:49,035] INFO: loading dataset to get size...\n",
      "[2017-11-22 14:15:49,797] INFO: loading model to get size...\n",
      "[2017-11-22 14:15:49,807] INFO: created 1 tasks, 5399 users per task\n",
      "[2017-11-22 14:15:49,807] INFO: running in parallel across ipython engines...\n",
      "[2017-11-22 14:15:52,151] INFO: checking output files...\n",
      "[2017-11-22 14:15:52,151] INFO: SUCCESS: all tasks completed\n",
      "[2017-11-22 14:15:52,152] INFO: concatenating 1 partial output files...\n",
      "[2017-11-22 14:15:52,159] INFO: removing partial output files...\n",
      "[2017-11-22 14:15:52,160] INFO: done\n",
      "[2017-11-22 14:15:52,161] INFO: processing /home/spynal/Netology/splits/u.data.train.4...\n",
      "[2017-11-22 14:15:52,161] INFO: creating recs directory /home/spynal/Netology/recs_knn/u.data.train.4-recs...\n",
      "[2017-11-22 14:15:52,166] INFO: checking for existing output recs...\n",
      "[2017-11-22 14:15:52,167] INFO: creating tasks...\n",
      "[2017-11-22 14:15:52,167] INFO: loading dataset to get size...\n",
      "[2017-11-22 14:15:52,854] INFO: loading model to get size...\n",
      "[2017-11-22 14:15:52,869] INFO: created 1 tasks, 5350 users per task\n",
      "[2017-11-22 14:15:52,869] INFO: running in parallel across ipython engines...\n",
      "[2017-11-22 14:15:55,186] INFO: checking output files...\n",
      "[2017-11-22 14:15:55,186] INFO: SUCCESS: all tasks completed\n",
      "[2017-11-22 14:15:55,187] INFO: concatenating 1 partial output files...\n",
      "[2017-11-22 14:15:55,193] INFO: removing partial output files...\n",
      "[2017-11-22 14:15:55,193] INFO: done\n",
      "CosineKNNRecommender(k=100)\n",
      "mrr            0.5631 +/- 0.0062\n",
      "prec@5         0.3091 +/- 0.0023\n",
      "prec@10        0.2479 +/- 0.0013\n",
      "prec@15        0.2144 +/- 0.0007\n",
      "prec@20        0.1904 +/- 0.0007\n"
     ]
    }
   ],
   "source": [
    "!mrec_predict --input_format tsv --test_input_format tsv --train \"splits/u.data.train.*\" --modeldir models_knn --outdir recs_knn"
   ]
  },
  {
   "cell_type": "markdown",
   "metadata": {},
   "source": [
    "### KNN TUNE"
   ]
  },
  {
   "cell_type": "markdown",
   "metadata": {},
   "source": [
    "max_sims=50, metric=dot"
   ]
  },
  {
   "cell_type": "code",
   "execution_count": 12,
   "metadata": {
    "collapsed": true
   },
   "outputs": [
    {
     "name": "stdout",
     "output_type": "stream",
     "text": [
      "[2017-11-22 14:26:51,413] INFO: processing /home/spynal/Netology/splits/u.data.train.2...\n",
      "[2017-11-22 14:26:51,414] INFO: finding number of items...\n",
      "[2017-11-22 14:26:52,078] INFO: 943 users and 1682 items\n",
      "[2017-11-22 14:26:52,078] INFO: creating sims directory /home/spynal/Netology/models_knn_1/u.data.train.2-sims...\n",
      "[2017-11-22 14:26:52,083] INFO: checking for existing output sims...\n",
      "[2017-11-22 14:26:52,084] INFO: creating tasks...\n",
      "[2017-11-22 14:26:52,084] INFO: running 2 tasks in parallel across ipython engines...\n",
      "[2017-11-22 14:26:55,172] INFO: checking output files...\n",
      "[2017-11-22 14:26:55,173] INFO: SUCCESS: all tasks completed\n",
      "[2017-11-22 14:26:55,173] INFO: concatenating 2 partial output files...\n",
      "[2017-11-22 14:26:55,180] INFO: removing partial output files...\n",
      "[2017-11-22 14:26:55,180] INFO: loading 1682 items in DotProductKNNRecommender model from /home/spynal/Netology/models_knn_1/u.data.train.2.sims.tsv\n",
      "[2017-11-22 14:26:55,875] INFO: done\n",
      "[2017-11-22 14:26:55,875] INFO: processing /home/spynal/Netology/splits/u.data.train.0...\n",
      "[2017-11-22 14:26:55,875] INFO: finding number of items...\n",
      "[2017-11-22 14:26:56,604] INFO: 943 users and 1682 items\n",
      "[2017-11-22 14:26:56,604] INFO: creating sims directory /home/spynal/Netology/models_knn_1/u.data.train.0-sims...\n",
      "[2017-11-22 14:26:56,612] INFO: checking for existing output sims...\n",
      "[2017-11-22 14:26:56,612] INFO: creating tasks...\n",
      "[2017-11-22 14:26:56,613] INFO: running 2 tasks in parallel across ipython engines...\n",
      "[2017-11-22 14:26:59,920] INFO: checking output files...\n",
      "[2017-11-22 14:26:59,921] INFO: SUCCESS: all tasks completed\n",
      "[2017-11-22 14:26:59,921] INFO: concatenating 2 partial output files...\n",
      "[2017-11-22 14:26:59,927] INFO: removing partial output files...\n",
      "[2017-11-22 14:26:59,928] INFO: loading 1682 items in DotProductKNNRecommender model from /home/spynal/Netology/models_knn_1/u.data.train.0.sims.tsv\n",
      "[2017-11-22 14:27:00,572] INFO: done\n",
      "[2017-11-22 14:27:00,572] INFO: processing /home/spynal/Netology/splits/u.data.train.1...\n",
      "[2017-11-22 14:27:00,572] INFO: finding number of items...\n",
      "[2017-11-22 14:27:01,264] INFO: 943 users and 1681 items\n",
      "[2017-11-22 14:27:01,265] INFO: creating sims directory /home/spynal/Netology/models_knn_1/u.data.train.1-sims...\n",
      "[2017-11-22 14:27:01,270] INFO: checking for existing output sims...\n",
      "[2017-11-22 14:27:01,271] INFO: creating tasks...\n",
      "[2017-11-22 14:27:01,271] INFO: running 2 tasks in parallel across ipython engines...\n",
      "[2017-11-22 14:27:04,416] INFO: checking output files...\n",
      "[2017-11-22 14:27:04,417] INFO: SUCCESS: all tasks completed\n",
      "[2017-11-22 14:27:04,417] INFO: concatenating 2 partial output files...\n",
      "[2017-11-22 14:27:04,423] INFO: removing partial output files...\n",
      "[2017-11-22 14:27:04,424] INFO: loading 1681 items in DotProductKNNRecommender model from /home/spynal/Netology/models_knn_1/u.data.train.1.sims.tsv\n",
      "[2017-11-22 14:27:05,101] INFO: done\n",
      "[2017-11-22 14:27:05,102] INFO: processing /home/spynal/Netology/splits/u.data.train.3...\n",
      "[2017-11-22 14:27:05,102] INFO: finding number of items...\n",
      "[2017-11-22 14:27:05,860] INFO: 943 users and 1681 items\n",
      "[2017-11-22 14:27:05,860] INFO: creating sims directory /home/spynal/Netology/models_knn_1/u.data.train.3-sims...\n",
      "[2017-11-22 14:27:05,867] INFO: checking for existing output sims...\n",
      "[2017-11-22 14:27:05,867] INFO: creating tasks...\n",
      "[2017-11-22 14:27:05,867] INFO: running 2 tasks in parallel across ipython engines...\n",
      "[2017-11-22 14:27:09,139] INFO: checking output files...\n",
      "[2017-11-22 14:27:09,139] INFO: SUCCESS: all tasks completed\n",
      "[2017-11-22 14:27:09,139] INFO: concatenating 2 partial output files...\n",
      "[2017-11-22 14:27:09,146] INFO: removing partial output files...\n",
      "[2017-11-22 14:27:09,147] INFO: loading 1681 items in DotProductKNNRecommender model from /home/spynal/Netology/models_knn_1/u.data.train.3.sims.tsv\n",
      "[2017-11-22 14:27:09,766] INFO: done\n",
      "[2017-11-22 14:27:09,766] INFO: processing /home/spynal/Netology/splits/u.data.train.4...\n",
      "[2017-11-22 14:27:09,767] INFO: finding number of items...\n",
      "[2017-11-22 14:27:10,649] INFO: 943 users and 1682 items\n",
      "[2017-11-22 14:27:10,649] INFO: creating sims directory /home/spynal/Netology/models_knn_1/u.data.train.4-sims...\n",
      "[2017-11-22 14:27:10,655] INFO: checking for existing output sims...\n",
      "[2017-11-22 14:27:10,656] INFO: creating tasks...\n",
      "[2017-11-22 14:27:10,656] INFO: running 2 tasks in parallel across ipython engines...\n",
      "[2017-11-22 14:27:13,942] INFO: checking output files...\n",
      "[2017-11-22 14:27:13,943] INFO: SUCCESS: all tasks completed\n",
      "[2017-11-22 14:27:13,943] INFO: concatenating 2 partial output files...\n",
      "[2017-11-22 14:27:13,950] INFO: removing partial output files...\n",
      "[2017-11-22 14:27:13,952] INFO: loading 1682 items in DotProductKNNRecommender model from /home/spynal/Netology/models_knn_1/u.data.train.4.sims.tsv\n",
      "[2017-11-22 14:27:14,561] INFO: done\n"
     ]
    }
   ],
   "source": [
    "!mrec_train -n2 --input_format tsv --train \"splits/u.data.train.*\" --outdir models_knn_1 --model knn --metric dot --max_sims 50"
   ]
  },
  {
   "cell_type": "code",
   "execution_count": 13,
   "metadata": {
    "collapsed": true
   },
   "outputs": [
    {
     "name": "stdout",
     "output_type": "stream",
     "text": [
      "[2017-11-22 14:27:51,894] INFO: processing /home/spynal/Netology/splits/u.data.train.2...\n",
      "[2017-11-22 14:27:51,894] INFO: creating recs directory /home/spynal/Netology/recs_knn_1/u.data.train.2-recs...\n",
      "[2017-11-22 14:27:51,899] INFO: checking for existing output recs...\n",
      "[2017-11-22 14:27:51,900] INFO: creating tasks...\n",
      "[2017-11-22 14:27:51,901] INFO: loading dataset to get size...\n",
      "[2017-11-22 14:27:52,611] INFO: loading model to get size...\n",
      "[2017-11-22 14:27:52,650] INFO: created 1 tasks, 10262 users per task\n",
      "[2017-11-22 14:27:52,650] INFO: running in parallel across ipython engines...\n",
      "[2017-11-22 14:27:55,219] INFO: checking output files...\n",
      "[2017-11-22 14:27:55,220] INFO: SUCCESS: all tasks completed\n",
      "[2017-11-22 14:27:55,220] INFO: concatenating 1 partial output files...\n",
      "[2017-11-22 14:27:55,226] INFO: removing partial output files...\n",
      "[2017-11-22 14:27:55,226] INFO: done\n",
      "[2017-11-22 14:27:55,228] INFO: processing /home/spynal/Netology/splits/u.data.train.0...\n",
      "[2017-11-22 14:27:55,228] INFO: creating recs directory /home/spynal/Netology/recs_knn_1/u.data.train.0-recs...\n",
      "[2017-11-22 14:27:55,232] INFO: checking for existing output recs...\n",
      "[2017-11-22 14:27:55,233] INFO: creating tasks...\n",
      "[2017-11-22 14:27:55,233] INFO: loading dataset to get size...\n",
      "[2017-11-22 14:27:55,901] INFO: loading model to get size...\n",
      "[2017-11-22 14:27:55,908] INFO: created 1 tasks, 10273 users per task\n",
      "[2017-11-22 14:27:55,908] INFO: running in parallel across ipython engines...\n",
      "[2017-11-22 14:27:58,370] INFO: checking output files...\n",
      "[2017-11-22 14:27:58,370] INFO: SUCCESS: all tasks completed\n",
      "[2017-11-22 14:27:58,370] INFO: concatenating 1 partial output files...\n",
      "[2017-11-22 14:27:58,376] INFO: removing partial output files...\n",
      "[2017-11-22 14:27:58,376] INFO: done\n",
      "[2017-11-22 14:27:58,378] INFO: processing /home/spynal/Netology/splits/u.data.train.1...\n",
      "[2017-11-22 14:27:58,378] INFO: creating recs directory /home/spynal/Netology/recs_knn_1/u.data.train.1-recs...\n",
      "[2017-11-22 14:27:58,383] INFO: checking for existing output recs...\n",
      "[2017-11-22 14:27:58,383] INFO: creating tasks...\n",
      "[2017-11-22 14:27:58,383] INFO: loading dataset to get size...\n",
      "[2017-11-22 14:27:59,132] INFO: loading model to get size...\n",
      "[2017-11-22 14:27:59,138] INFO: created 1 tasks, 10268 users per task\n",
      "[2017-11-22 14:27:59,138] INFO: running in parallel across ipython engines...\n",
      "[2017-11-22 14:28:01,716] INFO: checking output files...\n",
      "[2017-11-22 14:28:01,717] INFO: SUCCESS: all tasks completed\n",
      "[2017-11-22 14:28:01,717] INFO: concatenating 1 partial output files...\n",
      "[2017-11-22 14:28:01,723] INFO: removing partial output files...\n",
      "[2017-11-22 14:28:01,723] INFO: done\n",
      "[2017-11-22 14:28:01,725] INFO: processing /home/spynal/Netology/splits/u.data.train.3...\n",
      "[2017-11-22 14:28:01,725] INFO: creating recs directory /home/spynal/Netology/recs_knn_1/u.data.train.3-recs...\n",
      "[2017-11-22 14:28:01,729] INFO: checking for existing output recs...\n",
      "[2017-11-22 14:28:01,730] INFO: creating tasks...\n",
      "[2017-11-22 14:28:01,730] INFO: loading dataset to get size...\n",
      "[2017-11-22 14:28:02,432] INFO: loading model to get size...\n",
      "[2017-11-22 14:28:02,439] INFO: created 1 tasks, 10342 users per task\n",
      "[2017-11-22 14:28:02,439] INFO: running in parallel across ipython engines...\n",
      "[2017-11-22 14:28:04,935] INFO: checking output files...\n",
      "[2017-11-22 14:28:04,936] INFO: SUCCESS: all tasks completed\n",
      "[2017-11-22 14:28:04,936] INFO: concatenating 1 partial output files...\n",
      "[2017-11-22 14:28:04,941] INFO: removing partial output files...\n",
      "[2017-11-22 14:28:04,942] INFO: done\n",
      "[2017-11-22 14:28:04,943] INFO: processing /home/spynal/Netology/splits/u.data.train.4...\n",
      "[2017-11-22 14:28:04,943] INFO: creating recs directory /home/spynal/Netology/recs_knn_1/u.data.train.4-recs...\n",
      "[2017-11-22 14:28:04,951] INFO: checking for existing output recs...\n",
      "[2017-11-22 14:28:04,952] INFO: creating tasks...\n",
      "[2017-11-22 14:28:04,952] INFO: loading dataset to get size...\n",
      "[2017-11-22 14:28:05,639] INFO: loading model to get size...\n",
      "[2017-11-22 14:28:05,645] INFO: created 1 tasks, 10224 users per task\n",
      "[2017-11-22 14:28:05,646] INFO: running in parallel across ipython engines...\n",
      "[2017-11-22 14:28:08,271] INFO: checking output files...\n",
      "[2017-11-22 14:28:08,271] INFO: SUCCESS: all tasks completed\n",
      "[2017-11-22 14:28:08,271] INFO: concatenating 1 partial output files...\n",
      "[2017-11-22 14:28:08,277] INFO: removing partial output files...\n",
      "[2017-11-22 14:28:08,278] INFO: done\n",
      "DotProductKNNRecommender(k=50)\n",
      "mrr            0.5263 +/- 0.0035\n",
      "prec@5         0.2674 +/- 0.0013\n",
      "prec@10        0.2138 +/- 0.0018\n",
      "prec@15        0.1842 +/- 0.0013\n",
      "prec@20        0.1643 +/- 0.0010\n"
     ]
    }
   ],
   "source": [
    "!mrec_predict --input_format tsv --test_input_format tsv --train \"splits/u.data.train.*\" --modeldir models_knn_1 --outdir recs_knn_1"
   ]
  },
  {
   "cell_type": "markdown",
   "metadata": {},
   "source": [
    "### SLIM"
   ]
  },
  {
   "cell_type": "code",
   "execution_count": 9,
   "metadata": {
    "collapsed": true
   },
   "outputs": [
    {
     "name": "stdout",
     "output_type": "stream",
     "text": [
      "[2017-11-22 14:16:51,135] INFO: processing /home/spynal/Netology/splits/u.data.train.2...\n",
      "[2017-11-22 14:16:51,135] INFO: finding number of items...\n",
      "[2017-11-22 14:16:51,845] INFO: 943 users and 1682 items\n",
      "[2017-11-22 14:16:51,845] INFO: creating sims directory /home/spynal/Netology/models_slim/u.data.train.2-sims...\n",
      "[2017-11-22 14:16:51,854] INFO: checking for existing output sims...\n",
      "[2017-11-22 14:16:51,855] INFO: creating tasks...\n",
      "[2017-11-22 14:16:51,855] INFO: running 2 tasks in parallel across ipython engines...\n",
      "[2017-11-22 14:17:06,982] INFO: checking output files...\n",
      "[2017-11-22 14:17:06,983] INFO: SUCCESS: all tasks completed\n",
      "[2017-11-22 14:17:06,983] INFO: concatenating 2 partial output files...\n",
      "[2017-11-22 14:17:06,991] INFO: removing partial output files...\n",
      "[2017-11-22 14:17:06,992] INFO: loading 1682 items in SLIM model from /home/spynal/Netology/models_slim/u.data.train.2.sims.tsv\n",
      "[2017-11-22 14:17:08,018] INFO: done\n",
      "[2017-11-22 14:17:08,018] INFO: processing /home/spynal/Netology/splits/u.data.train.0...\n",
      "[2017-11-22 14:17:08,019] INFO: finding number of items...\n",
      "[2017-11-22 14:17:08,894] INFO: 943 users and 1682 items\n",
      "[2017-11-22 14:17:08,894] INFO: creating sims directory /home/spynal/Netology/models_slim/u.data.train.0-sims...\n",
      "[2017-11-22 14:17:08,902] INFO: checking for existing output sims...\n",
      "[2017-11-22 14:17:08,903] INFO: creating tasks...\n",
      "[2017-11-22 14:17:08,903] INFO: running 2 tasks in parallel across ipython engines...\n",
      "[2017-11-22 14:17:24,224] INFO: checking output files...\n",
      "[2017-11-22 14:17:24,225] INFO: SUCCESS: all tasks completed\n",
      "[2017-11-22 14:17:24,225] INFO: concatenating 2 partial output files...\n",
      "[2017-11-22 14:17:24,236] INFO: removing partial output files...\n",
      "[2017-11-22 14:17:24,237] INFO: loading 1682 items in SLIM model from /home/spynal/Netology/models_slim/u.data.train.0.sims.tsv\n",
      "[2017-11-22 14:17:25,412] INFO: done\n",
      "[2017-11-22 14:17:25,412] INFO: processing /home/spynal/Netology/splits/u.data.train.1...\n",
      "[2017-11-22 14:17:25,413] INFO: finding number of items...\n",
      "[2017-11-22 14:17:26,377] INFO: 943 users and 1681 items\n",
      "[2017-11-22 14:17:26,377] INFO: creating sims directory /home/spynal/Netology/models_slim/u.data.train.1-sims...\n",
      "[2017-11-22 14:17:26,383] INFO: checking for existing output sims...\n",
      "[2017-11-22 14:17:26,383] INFO: creating tasks...\n",
      "[2017-11-22 14:17:26,383] INFO: running 2 tasks in parallel across ipython engines...\n",
      "[2017-11-22 14:17:41,172] INFO: checking output files...\n",
      "[2017-11-22 14:17:41,172] INFO: SUCCESS: all tasks completed\n",
      "[2017-11-22 14:17:41,172] INFO: concatenating 2 partial output files...\n",
      "[2017-11-22 14:17:41,180] INFO: removing partial output files...\n",
      "[2017-11-22 14:17:41,181] INFO: loading 1681 items in SLIM model from /home/spynal/Netology/models_slim/u.data.train.1.sims.tsv\n",
      "[2017-11-22 14:17:42,112] INFO: done\n",
      "[2017-11-22 14:17:42,113] INFO: processing /home/spynal/Netology/splits/u.data.train.3...\n",
      "[2017-11-22 14:17:42,113] INFO: finding number of items...\n",
      "[2017-11-22 14:17:42,820] INFO: 943 users and 1681 items\n",
      "[2017-11-22 14:17:42,820] INFO: creating sims directory /home/spynal/Netology/models_slim/u.data.train.3-sims...\n",
      "[2017-11-22 14:17:42,825] INFO: checking for existing output sims...\n",
      "[2017-11-22 14:17:42,826] INFO: creating tasks...\n",
      "[2017-11-22 14:17:42,826] INFO: running 2 tasks in parallel across ipython engines...\n",
      "[2017-11-22 14:17:58,202] INFO: checking output files...\n",
      "[2017-11-22 14:17:58,202] INFO: SUCCESS: all tasks completed\n",
      "[2017-11-22 14:17:58,202] INFO: concatenating 2 partial output files...\n",
      "[2017-11-22 14:17:58,211] INFO: removing partial output files...\n",
      "[2017-11-22 14:17:58,212] INFO: loading 1681 items in SLIM model from /home/spynal/Netology/models_slim/u.data.train.3.sims.tsv\n",
      "[2017-11-22 14:17:59,181] INFO: done\n",
      "[2017-11-22 14:17:59,181] INFO: processing /home/spynal/Netology/splits/u.data.train.4...\n",
      "[2017-11-22 14:17:59,182] INFO: finding number of items...\n",
      "[2017-11-22 14:17:59,920] INFO: 943 users and 1682 items\n",
      "[2017-11-22 14:17:59,921] INFO: creating sims directory /home/spynal/Netology/models_slim/u.data.train.4-sims...\n",
      "[2017-11-22 14:17:59,926] INFO: checking for existing output sims...\n",
      "[2017-11-22 14:17:59,926] INFO: creating tasks...\n",
      "[2017-11-22 14:17:59,926] INFO: running 2 tasks in parallel across ipython engines...\n",
      "[2017-11-22 14:18:14,743] INFO: checking output files...\n",
      "[2017-11-22 14:18:14,744] INFO: SUCCESS: all tasks completed\n",
      "[2017-11-22 14:18:14,744] INFO: concatenating 2 partial output files...\n",
      "[2017-11-22 14:18:14,757] INFO: removing partial output files...\n",
      "[2017-11-22 14:18:14,758] INFO: loading 1682 items in SLIM model from /home/spynal/Netology/models_slim/u.data.train.4.sims.tsv\n",
      "[2017-11-22 14:18:15,810] INFO: done\n"
     ]
    }
   ],
   "source": [
    "!mrec_train -n2 --input_format tsv --train \"splits/u.data.train.*\" --outdir models_slim"
   ]
  },
  {
   "cell_type": "code",
   "execution_count": 10,
   "metadata": {
    "collapsed": true
   },
   "outputs": [
    {
     "name": "stdout",
     "output_type": "stream",
     "text": [
      "[2017-11-22 14:18:28,012] INFO: processing /home/spynal/Netology/splits/u.data.train.2...\n",
      "[2017-11-22 14:18:28,013] INFO: creating recs directory /home/spynal/Netology/recs_slim/u.data.train.2-recs...\n",
      "[2017-11-22 14:18:28,017] INFO: checking for existing output recs...\n",
      "[2017-11-22 14:18:28,018] INFO: creating tasks...\n",
      "[2017-11-22 14:18:28,018] INFO: loading dataset to get size...\n",
      "[2017-11-22 14:18:28,810] INFO: loading model to get size...\n",
      "[2017-11-22 14:18:28,883] INFO: created 1 tasks, 6863 users per task\n",
      "[2017-11-22 14:18:28,884] INFO: running in parallel across ipython engines...\n",
      "[2017-11-22 14:18:31,219] INFO: checking output files...\n",
      "[2017-11-22 14:18:31,219] INFO: SUCCESS: all tasks completed\n",
      "[2017-11-22 14:18:31,219] INFO: concatenating 1 partial output files...\n",
      "[2017-11-22 14:18:31,230] INFO: removing partial output files...\n",
      "[2017-11-22 14:18:31,231] INFO: done\n",
      "[2017-11-22 14:18:31,233] INFO: processing /home/spynal/Netology/splits/u.data.train.0...\n",
      "[2017-11-22 14:18:31,234] INFO: creating recs directory /home/spynal/Netology/recs_slim/u.data.train.0-recs...\n",
      "[2017-11-22 14:18:31,239] INFO: checking for existing output recs...\n",
      "[2017-11-22 14:18:31,240] INFO: creating tasks...\n",
      "[2017-11-22 14:18:31,240] INFO: loading dataset to get size...\n",
      "[2017-11-22 14:18:32,013] INFO: loading model to get size...\n",
      "[2017-11-22 14:18:32,022] INFO: created 1 tasks, 6834 users per task\n",
      "[2017-11-22 14:18:32,023] INFO: running in parallel across ipython engines...\n",
      "[2017-11-22 14:18:34,610] INFO: checking output files...\n",
      "[2017-11-22 14:18:34,611] INFO: SUCCESS: all tasks completed\n",
      "[2017-11-22 14:18:34,611] INFO: concatenating 1 partial output files...\n",
      "[2017-11-22 14:18:34,617] INFO: removing partial output files...\n",
      "[2017-11-22 14:18:34,618] INFO: done\n",
      "[2017-11-22 14:18:34,621] INFO: processing /home/spynal/Netology/splits/u.data.train.1...\n",
      "[2017-11-22 14:18:34,621] INFO: creating recs directory /home/spynal/Netology/recs_slim/u.data.train.1-recs...\n",
      "[2017-11-22 14:18:34,629] INFO: checking for existing output recs...\n",
      "[2017-11-22 14:18:34,630] INFO: creating tasks...\n",
      "[2017-11-22 14:18:34,630] INFO: loading dataset to get size...\n",
      "[2017-11-22 14:18:35,324] INFO: loading model to get size...\n",
      "[2017-11-22 14:18:35,332] INFO: created 1 tasks, 6818 users per task\n",
      "[2017-11-22 14:18:35,333] INFO: running in parallel across ipython engines...\n",
      "[2017-11-22 14:18:37,674] INFO: checking output files...\n",
      "[2017-11-22 14:18:37,675] INFO: SUCCESS: all tasks completed\n",
      "[2017-11-22 14:18:37,675] INFO: concatenating 1 partial output files...\n",
      "[2017-11-22 14:18:37,681] INFO: removing partial output files...\n",
      "[2017-11-22 14:18:37,682] INFO: done\n",
      "[2017-11-22 14:18:37,684] INFO: processing /home/spynal/Netology/splits/u.data.train.3...\n",
      "[2017-11-22 14:18:37,684] INFO: creating recs directory /home/spynal/Netology/recs_slim/u.data.train.3-recs...\n",
      "[2017-11-22 14:18:37,689] INFO: checking for existing output recs...\n",
      "[2017-11-22 14:18:37,689] INFO: creating tasks...\n",
      "[2017-11-22 14:18:37,689] INFO: loading dataset to get size...\n",
      "[2017-11-22 14:18:38,476] INFO: loading model to get size...\n",
      "[2017-11-22 14:18:38,492] INFO: created 1 tasks, 6849 users per task\n",
      "[2017-11-22 14:18:38,492] INFO: running in parallel across ipython engines...\n",
      "[2017-11-22 14:18:40,972] INFO: checking output files...\n",
      "[2017-11-22 14:18:40,973] INFO: SUCCESS: all tasks completed\n",
      "[2017-11-22 14:18:40,973] INFO: concatenating 1 partial output files...\n",
      "[2017-11-22 14:18:40,983] INFO: removing partial output files...\n",
      "[2017-11-22 14:18:40,984] INFO: done\n",
      "[2017-11-22 14:18:40,985] INFO: processing /home/spynal/Netology/splits/u.data.train.4...\n",
      "[2017-11-22 14:18:40,986] INFO: creating recs directory /home/spynal/Netology/recs_slim/u.data.train.4-recs...\n",
      "[2017-11-22 14:18:40,992] INFO: checking for existing output recs...\n",
      "[2017-11-22 14:18:40,992] INFO: creating tasks...\n",
      "[2017-11-22 14:18:40,992] INFO: loading dataset to get size...\n",
      "[2017-11-22 14:18:41,730] INFO: loading model to get size...\n",
      "[2017-11-22 14:18:41,739] INFO: created 1 tasks, 6795 users per task\n",
      "[2017-11-22 14:18:41,739] INFO: running in parallel across ipython engines...\n",
      "[2017-11-22 14:18:44,173] INFO: checking output files...\n",
      "[2017-11-22 14:18:44,174] INFO: SUCCESS: all tasks completed\n",
      "[2017-11-22 14:18:44,174] INFO: concatenating 1 partial output files...\n",
      "[2017-11-22 14:18:44,184] INFO: removing partial output files...\n",
      "[2017-11-22 14:18:44,184] INFO: done\n",
      "SLIM(SGDRegressor(alpha=0.0011, average=False, epsilon=0.1, eta0=0.01,\n",
      "       fit_intercept=False, l1_ratio=0.9090909090909091,\n",
      "       learning_rate='invscaling', loss='squared_loss', max_iter=None,\n",
      "       n_iter=None, penalty='elasticnet', power_t=0.25, random_state=None,\n",
      "       shuffle=True, tol=None, verbose=0, warm_start=False))\n",
      "mrr            0.6089 +/- 0.0024\n",
      "prec@5         0.3274 +/- 0.0027\n",
      "prec@10        0.2627 +/- 0.0019\n",
      "prec@15        0.2245 +/- 0.0018\n",
      "prec@20        0.1977 +/- 0.0007\n"
     ]
    }
   ],
   "source": [
    "!mrec_predict --input_format tsv --test_input_format tsv --train \"splits/u.data.train.*\" --modeldir models_slim --outdir recs_slim"
   ]
  },
  {
   "cell_type": "code",
   "execution_count": null,
   "metadata": {
    "collapsed": true
   },
   "outputs": [],
   "source": []
  }
 ],
 "metadata": {
  "kernelspec": {
   "display_name": "Python 3",
   "language": "python",
   "name": "python3"
  },
  "language_info": {
   "codemirror_mode": {
    "name": "ipython",
    "version": 3
   },
   "file_extension": ".py",
   "mimetype": "text/x-python",
   "name": "python",
   "nbconvert_exporter": "python",
   "pygments_lexer": "ipython3",
   "version": "3.6.3"
  }
 },
 "nbformat": 4,
 "nbformat_minor": 2
}
