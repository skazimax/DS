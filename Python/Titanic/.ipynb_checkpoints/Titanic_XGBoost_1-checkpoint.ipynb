{
 "cells": [
  {
   "cell_type": "code",
   "execution_count": 413,
   "metadata": {
    "collapsed": true
   },
   "outputs": [],
   "source": [
    "import numpy as np\n",
    "import pandas as pd\n",
    "from matplotlib import pyplot as plt\n",
    "%matplotlib inline"
   ]
  },
  {
   "cell_type": "code",
   "execution_count": 414,
   "metadata": {
    "collapsed": true
   },
   "outputs": [],
   "source": [
    "df_train=pd.read_csv('train.csv', index_col=0)\n",
    "df_test=pd.read_csv('test.csv',index_col=0)\n",
    "y_train=df_train['Survived']"
   ]
  },
  {
   "cell_type": "code",
   "execution_count": 415,
   "metadata": {
    "scrolled": true
   },
   "outputs": [
    {
     "data": {
      "text/plain": [
       "[<matplotlib.lines.Line2D at 0x1566dcf8>]"
      ]
     },
     "execution_count": 415,
     "metadata": {},
     "output_type": "execute_result"
    },
    {
     "data": {
      "image/png": "[encoded data removed]",
      "text/plain": [
       "<matplotlib.figure.Figure at 0x1444ec88>"
      ]
     },
     "metadata": {},
     "output_type": "display_data"
    }
   ],
   "source": [
    "plt.plot(df_train.Fare[df_train['Pclass']==3])"
   ]
  },
  {
   "cell_type": "code",
   "execution_count": 416,
   "metadata": {
    "collapsed": true
   },
   "outputs": [],
   "source": [
    "from scipy.stats import mstats\n",
    "from scipy.stats import boxcox\n",
    "from sklearn.preprocessing import scale"
   ]
  },
  {
   "cell_type": "code",
   "execution_count": 417,
   "metadata": {},
   "outputs": [],
   "source": [
    "transformed_train_data_1 =pd.Series(mstats.winsorize(df_train.Fare[df_train['Pclass']==1], limits=[0.05, 0.05])) \n",
    "transformed_train_data_2 =pd.Series(mstats.winsorize(df_train.Fare[df_train['Pclass']==2], limits=[0.05, 0.05])) \n",
    "transformed_train_data_3 =pd.Series(mstats.winsorize(df_train.Fare[df_train['Pclass']==3], limits=[0.05, 0.05])) "
   ]
  },
  {
   "cell_type": "code",
   "execution_count": 418,
   "metadata": {
    "scrolled": true
   },
   "outputs": [],
   "source": [
    "df_train.loc[df_train['Pclass']==1,'Fare']=transformed_train_data_1.values\n",
    "df_train.loc[df_train['Pclass']==2,'Fare']=transformed_train_data_2.values\n",
    "df_train.loc[df_train['Pclass']==3,'Fare']=transformed_train_data_3.values"
   ]
  },
  {
   "cell_type": "code",
   "execution_count": 419,
   "metadata": {},
   "outputs": [],
   "source": [
    "transformed_test_data_1 =pd.Series(mstats.winsorize(df_test.Fare[df_test['Pclass']==1], limits=[0.05, 0.05])) \n",
    "transformed_test_data_2 =pd.Series(mstats.winsorize(df_test.Fare[df_test['Pclass']==2], limits=[0.05, 0.05])) \n",
    "transformed_test_data_3 =pd.Series(mstats.winsorize(df_test.Fare[df_test['Pclass']==3], limits=[0.05, 0.05])) "
   ]
  },
  {
   "cell_type": "code",
   "execution_count": 420,
   "metadata": {},
   "outputs": [],
   "source": [
    "df_test.loc[df_test['Pclass']==1,'Fare']=transformed_test_data_1.values\n",
    "df_test.loc[df_test['Pclass']==2,'Fare']=transformed_test_data_2.values\n",
    "df_test.loc[df_test['Pclass']==3,'Fare']=transformed_test_data_3.values"
   ]
  },
  {
   "cell_type": "code",
   "execution_count": 421,
   "metadata": {
    "collapsed": true
   },
   "outputs": [],
   "source": [
    "df_train.Embarked.fillna('S', inplace=True)"
   ]
  },
  {
   "cell_type": "code",
   "execution_count": 422,
   "metadata": {
    "collapsed": true
   },
   "outputs": [],
   "source": [
    "df_test['has_Cabin']=df_test.Cabin.notnull().astype(int)\n",
    "df_train['has_Cabin']=df_train.Cabin.notnull().astype(int)"
   ]
  },
  {
   "cell_type": "code",
   "execution_count": 423,
   "metadata": {
    "collapsed": true
   },
   "outputs": [],
   "source": [
    "df_train['Cabin']=df_train.Cabin.str.split()\n",
    "df_train['N_Cabin_1']=(df_train.Cabin.str.len()==1).astype(int)\n",
    "df_train['N_Cabin_2']=(df_train.Cabin.str.len()==2).astype(int)\n",
    "df_train['N_Cabin_3']=(df_train.Cabin.str.len()==3).astype(int)\n",
    "df_train['N_Cabin_4']=(df_train.Cabin.str.len()==4).astype(int)"
   ]
  },
  {
   "cell_type": "code",
   "execution_count": 424,
   "metadata": {
    "collapsed": true
   },
   "outputs": [],
   "source": [
    "df_test['Cabin']=df_test.Cabin.str.split()\n",
    "df_test['N_Cabin_1']=(df_test.Cabin.str.len()==1).astype(int)\n",
    "df_test['N_Cabin_2']=(df_test.Cabin.str.len()==2).astype(int)\n",
    "df_test['N_Cabin_3']=(df_test.Cabin.str.len()==3).astype(int)\n",
    "df_test['N_Cabin_4']=(df_test.Cabin.str.len()==4).astype(int)"
   ]
  },
  {
   "cell_type": "code",
   "execution_count": 425,
   "metadata": {
    "collapsed": true
   },
   "outputs": [],
   "source": [
    "df_train['Name_20']=((df_train.Name.str.len()<=20)).astype(int)\n",
    "df_train['Name_2030']=((df_train.Name.str.len()>20) & (df_train.Name.str.len()<=30)).astype(int)\n",
    "df_train['Name_3040']=((df_train.Name.str.len()>30) & (df_train.Name.str.len()<=40)).astype(int)\n",
    "df_train['Name_40']=((df_train.Name.str.len()>40)).astype(int)"
   ]
  },
  {
   "cell_type": "code",
   "execution_count": 426,
   "metadata": {
    "collapsed": true
   },
   "outputs": [],
   "source": [
    "df_test['Name_20']=((df_test.Name.str.len()<=20)).astype(int)\n",
    "df_test['Name_2030']=((df_test.Name.str.len()>20) & (df_test.Name.str.len()<=30)).astype(int)\n",
    "df_test['Name_3040']=((df_test.Name.str.len()>30) & (df_test.Name.str.len()<=40)).astype(int)\n",
    "df_test['Name_40']=((df_test.Name.str.len()>40)).astype(int)"
   ]
  },
  {
   "cell_type": "code",
   "execution_count": 427,
   "metadata": {
    "collapsed": true
   },
   "outputs": [],
   "source": [
    "df_train['is_Miss']=df_train.Name.str.contains('Miss').astype(int)\n",
    "df_train['is_Master']=df_train.Name.str.contains('Master').astype(int)\n",
    "df_train['is_Mr']=df_train.Name.str.contains(r'(?:\\s|^)Mr.(?:\\s|$)').astype(int)\n",
    "df_train['is_Mrs']=df_train.Name.str.contains(r'(?:\\s|^)Mrs.(?:\\s|$)').astype(int)\n",
    "df_train['Rare']=((df_train.is_Miss!=1)&(df_train.is_Master!=1)&(df_train.is_Mr!=1)&(df_train.is_Mrs!=1)).astype(int)"
   ]
  },
  {
   "cell_type": "code",
   "execution_count": 428,
   "metadata": {
    "collapsed": true
   },
   "outputs": [],
   "source": [
    "df_test['is_Miss']=df_test.Name.str.contains('Miss').astype(int)\n",
    "df_test['is_Master']=df_test.Name.str.contains('Master').astype(int)\n",
    "df_test['is_Mr']=df_test.Name.str.contains(r'(?:\\s|^)Mr.(?:\\s|$)').astype(int)\n",
    "df_test['is_Mrs']=df_test.Name.str.contains(r'(?:\\s|^)Mrs.(?:\\s|$)').astype(int)\n",
    "df_test['Rare']=((df_test.is_Miss!=1)&(df_test.is_Master!=1)&(df_test.is_Mr!=1)&(df_test.is_Mrs!=1)).astype(int)"
   ]
  },
  {
   "cell_type": "code",
   "execution_count": 429,
   "metadata": {
    "collapsed": true
   },
   "outputs": [],
   "source": [
    "for index, row in df_train.iterrows():\n",
    "    if (np.isnan(row['Age'])):\n",
    "        if row['is_Master']==1:\n",
    "            df_train.loc[index, 'Age']=4\n",
    "        elif row['is_Miss']==1:\n",
    "            df_train.loc[index,'Age']=(df_train.Age[df_train['is_Miss']==1]).median()\n",
    "        elif row['is_Mr']==1:\n",
    "            df_train.loc[index,'Age']=(df_train.Age[df_train['is_Mr']==1]).median()\n",
    "        elif row['is_Mrs']==1:\n",
    "            df_train.loc[index,'Age']=(df_train.Age[df_train['is_Mrs']==1]).median()"
   ]
  },
  {
   "cell_type": "code",
   "execution_count": 430,
   "metadata": {
    "collapsed": true
   },
   "outputs": [],
   "source": [
    "for index, row in df_test.iterrows():\n",
    "    if (np.isnan(row['Age'])):\n",
    "        if row['is_Master']==1:\n",
    "            df_test.loc[index, 'Age']=4\n",
    "        elif row['is_Miss']==1:\n",
    "            df_test.loc[index,'Age']=(df_test.Age[df_test['is_Miss']==1]).median()\n",
    "        elif row['is_Mr']==1:\n",
    "            df_test.loc[index,'Age']=(df_test.Age[df_test['is_Mr']==1]).median()\n",
    "        elif row['is_Mrs']==1:\n",
    "            df_test.loc[index,'Age']=(df_test.Age[df_test['is_Mrs']==1]).median()"
   ]
  },
  {
   "cell_type": "code",
   "execution_count": 431,
   "metadata": {
    "collapsed": true
   },
   "outputs": [],
   "source": [
    "df_train.fillna(df_train.median(), inplace=True);\n",
    "df_test.fillna(df_test.median(), inplace=True);"
   ]
  },
  {
   "cell_type": "code",
   "execution_count": 432,
   "metadata": {
    "collapsed": true
   },
   "outputs": [],
   "source": [
    "for index, row in df_train.iterrows():\n",
    "    if row['Age']<=20:\n",
    "        df_train.loc[index,'Age']='0-20'\n",
    "    elif 20<row['Age']<=30:\n",
    "        df_train.loc[index,'Age']='20-30'\n",
    "    elif 30<row['Age']<=40:\n",
    "        df_train.loc[index,'Age']='30-40'\n",
    "    elif 40<row['Age']<=50:\n",
    "        df_train.loc[index,'Age']='40-50'\n",
    "    elif 50<row['Age']<=60:\n",
    "        df_train.loc[index,'Age']='50-60'\n",
    "    elif row['Age']>60:\n",
    "        df_train.loc[index,'Age']='60+'"
   ]
  },
  {
   "cell_type": "code",
   "execution_count": 433,
   "metadata": {
    "collapsed": true
   },
   "outputs": [],
   "source": [
    "for index, row in df_test.iterrows():\n",
    "    if row['Age']<=20:\n",
    "        df_test.loc[index,'Age']='0-20'\n",
    "    elif 20<row['Age']<=30:\n",
    "        df_test.loc[index,'Age']='20-30'\n",
    "    elif 30<row['Age']<=40:\n",
    "        df_test.loc[index,'Age']='30-40'\n",
    "    elif 40<row['Age']<=50:\n",
    "        df_test.loc[index,'Age']='40-50'\n",
    "    elif 50<row['Age']<=60:\n",
    "        df_test.loc[index,'Age']='50-60'\n",
    "    elif row['Age']>60:\n",
    "        df_test.loc[index,'Age']='60+'"
   ]
  },
  {
   "cell_type": "code",
   "execution_count": 434,
   "metadata": {},
   "outputs": [
    {
     "data": {
      "text/plain": [
       "\"\\nfor index, row in df_train.iterrows():\\n    if row['Fare']<=25:\\n        df_train.loc[index, 'Fare']='0-25'\\n    elif 25<row['Fare']<=50:\\n        df_train.loc[index, 'Fare']='25-50'\\n    elif 50<row['Fare']<=100:\\n        df_train.loc[index, 'Fare']='50-100'\\n    elif 100<row['Fare']<=200:\\n        df_train.loc[index, 'Fare']='100-200'\\n    elif 200<row['Fare']<=300:\\n        df_train.loc[index, 'Fare']='200-600'\\n    elif 300<row['Fare']<=600:\\n        df_train.loc[index, 'Fare']='300-600'\\n\""
      ]
     },
     "execution_count": 434,
     "metadata": {},
     "output_type": "execute_result"
    }
   ],
   "source": [
    "'''\n",
    "for index, row in df_train.iterrows():\n",
    "    if row['Fare']<=25:\n",
    "        df_train.loc[index, 'Fare']='0-25'\n",
    "    elif 25<row['Fare']<=50:\n",
    "        df_train.loc[index, 'Fare']='25-50'\n",
    "    elif 50<row['Fare']<=100:\n",
    "        df_train.loc[index, 'Fare']='50-100'\n",
    "    elif 100<row['Fare']<=200:\n",
    "        df_train.loc[index, 'Fare']='100-200'\n",
    "    elif 200<row['Fare']<=300:\n",
    "        df_train.loc[index, 'Fare']='200-600'\n",
    "    elif 300<row['Fare']<=600:\n",
    "        df_train.loc[index, 'Fare']='300-600'\n",
    "'''"
   ]
  },
  {
   "cell_type": "code",
   "execution_count": 435,
   "metadata": {},
   "outputs": [
    {
     "data": {
      "text/plain": [
       "\"\\nfor index, row in df_test.iterrows():\\n    if row['Fare']<=25:\\n        df_test.loc[index, 'Fare']='0-25'\\n    elif 25<row['Fare']<=50:\\n        df_test.loc[index, 'Fare']='25-50'\\n    elif 50<row['Fare']<=100:\\n        df_test.loc[index, 'Fare']='50-100'\\n    elif 100<row['Fare']<=200:\\n        df_test.loc[index, 'Fare']='100-200'\\n    elif 200<row['Fare']<=300:\\n        df_test.loc[index, 'Fare']='200-600'\\n    elif 300<row['Fare']<=600:\\n        df_test.loc[index, 'Fare']='300-600'\\n\""
      ]
     },
     "execution_count": 435,
     "metadata": {},
     "output_type": "execute_result"
    }
   ],
   "source": [
    "'''\n",
    "for index, row in df_test.iterrows():\n",
    "    if row['Fare']<=25:\n",
    "        df_test.loc[index, 'Fare']='0-25'\n",
    "    elif 25<row['Fare']<=50:\n",
    "        df_test.loc[index, 'Fare']='25-50'\n",
    "    elif 50<row['Fare']<=100:\n",
    "        df_test.loc[index, 'Fare']='50-100'\n",
    "    elif 100<row['Fare']<=200:\n",
    "        df_test.loc[index, 'Fare']='100-200'\n",
    "    elif 200<row['Fare']<=300:\n",
    "        df_test.loc[index, 'Fare']='200-600'\n",
    "    elif 300<row['Fare']<=600:\n",
    "        df_test.loc[index, 'Fare']='300-600'\n",
    "'''        "
   ]
  },
  {
   "cell_type": "code",
   "execution_count": 436,
   "metadata": {
    "collapsed": true
   },
   "outputs": [],
   "source": [
    "#tickets_train=df_train.Ticket.value_counts().to_dict()\n",
    "#tickets_test=df_test.Ticket.value_counts().to_dict()"
   ]
  },
  {
   "cell_type": "code",
   "execution_count": 437,
   "metadata": {
    "collapsed": true
   },
   "outputs": [],
   "source": [
    "names_train=df_train.Name.str.split(',').str.get(0).value_counts().to_dict()\n",
    "names_test=df_test.Name.str.split(',').str.get(0).value_counts().to_dict()"
   ]
  },
  {
   "cell_type": "code",
   "execution_count": null,
   "metadata": {
    "collapsed": true
   },
   "outputs": [],
   "source": []
  },
  {
   "cell_type": "code",
   "execution_count": 438,
   "metadata": {
    "collapsed": true
   },
   "outputs": [],
   "source": [
    "df_train['small_Family']=0\n",
    "df_train['middle_Family']=0\n",
    "df_train['big_Family']=0\n",
    "for index, row in df_train.iterrows():\n",
    "    name=row['Name'].split(',')[0]\n",
    "    if names_train[name]<=3:\n",
    "        df_train.loc[index, 'small_Family']=1\n",
    "    elif names_train[name]<=5:\n",
    "        df_train.loc[index, 'middle_Family']=1\n",
    "    elif names_train[name]>5:\n",
    "        df_train.loc[index, 'big_Family']=1"
   ]
  },
  {
   "cell_type": "code",
   "execution_count": 439,
   "metadata": {
    "collapsed": true
   },
   "outputs": [],
   "source": [
    "df_test['small_Family']=0\n",
    "df_test['middle_Family']=0\n",
    "df_test['big_Family']=0\n",
    "for index, row in df_test.iterrows():\n",
    "    name=row['Name'].split(',')[0]\n",
    "    if names_test[name]<=3:\n",
    "        df_test.loc[index, 'small_Family']=1\n",
    "    elif names_test[name]<=5:\n",
    "        df_test.loc[index, 'middle_Family']=1\n",
    "    elif names_test[name]>5:\n",
    "        df_test.loc[index, 'big_Family']=1"
   ]
  },
  {
   "cell_type": "code",
   "execution_count": 440,
   "metadata": {},
   "outputs": [],
   "source": [
    "import re\n",
    "df_train['Left']=0\n",
    "df_train['Right']=0\n",
    "for index, row in df_train.iterrows():\n",
    "    cabine=re.sub('[^0-9]+','',str(row['Cabin']).split(' ')[0])\n",
    "    if(len(cabine)>0 and int(cabine)%2==0):\n",
    "        df_train.loc[index,'Left']=1\n",
    "    elif(len(cabine)>0):\n",
    "        df_train.loc[index,'Right']=1"
   ]
  },
  {
   "cell_type": "code",
   "execution_count": 441,
   "metadata": {
    "collapsed": true
   },
   "outputs": [],
   "source": [
    "import re\n",
    "df_test['Left']=0\n",
    "df_test['Right']=0\n",
    "for index, row in df_test.iterrows():\n",
    "    cabine=re.sub('[^0-9]+','',str(row['Cabin']).split(' ')[0])\n",
    "    if(len(cabine)>0 and int(cabine)%2==0):\n",
    "        df_test.loc[index,'Left']=1\n",
    "    elif(len(cabine)>0):\n",
    "        df_test.loc[index,'Right']=1"
   ]
  },
  {
   "cell_type": "code",
   "execution_count": 442,
   "metadata": {
    "collapsed": true
   },
   "outputs": [],
   "source": [
    "df_train=df_train.drop(['Name','Ticket', 'Survived', 'Cabin'], axis=1)\n",
    "df_test=df_test.drop(['Name','Ticket','Cabin'], axis=1)"
   ]
  },
  {
   "cell_type": "code",
   "execution_count": 443,
   "metadata": {},
   "outputs": [],
   "source": [
    "X_train=pd.get_dummies(df_train)\n",
    "X_test=pd.get_dummies(df_test)"
   ]
  },
  {
   "cell_type": "code",
   "execution_count": null,
   "metadata": {
    "collapsed": true
   },
   "outputs": [],
   "source": []
  },
  {
   "cell_type": "code",
   "execution_count": 444,
   "metadata": {},
   "outputs": [],
   "source": [
    "from xgboost import XGBClassifier\n",
    "from sklearn.model_selection import KFold, GridSearchCV"
   ]
  },
  {
   "cell_type": "code",
   "execution_count": null,
   "metadata": {
    "collapsed": true
   },
   "outputs": [],
   "source": []
  },
  {
   "cell_type": "code",
   "execution_count": null,
   "metadata": {
    "collapsed": true
   },
   "outputs": [],
   "source": []
  },
  {
   "cell_type": "code",
   "execution_count": 445,
   "metadata": {},
   "outputs": [
    {
     "name": "stdout",
     "output_type": "stream",
     "text": [
      "Fitting 4 folds for each of 8 candidates, totalling 32 fits\n",
      "[CV] colsample_bytree=0.8, gamma=0.1, learning_rate=0.1, max_depth=5, min_child_weight=2, n_estimators=10, reg_alpha=0.0, reg_lambda=1.0, scale_pos_weight=0.6229508196721312, subsample=0.8 \n",
      "[CV]  colsample_bytree=0.8, gamma=0.1, learning_rate=0.1, max_depth=5, min_child_weight=2, n_estimators=10, reg_alpha=0.0, reg_lambda=1.0, scale_pos_weight=0.6229508196721312, subsample=0.8, score=0.843049, total=   0.1s\n",
      "[CV] colsample_bytree=0.8, gamma=0.1, learning_rate=0.1, max_depth=5, min_child_weight=2, n_estimators=10, reg_alpha=0.0, reg_lambda=1.0, scale_pos_weight=0.6229508196721312, subsample=0.8 \n",
      "[CV]  colsample_bytree=0.8, gamma=0.1, learning_rate=0.1, max_depth=5, min_child_weight=2, n_estimators=10, reg_alpha=0.0, reg_lambda=1.0, scale_pos_weight=0.6229508196721312, subsample=0.8, score=0.789238, total=   0.0s\n",
      "[CV] colsample_bytree=0.8, gamma=0.1, learning_rate=0.1, max_depth=5, min_child_weight=2, n_estimators=10, reg_alpha=0.0, reg_lambda=1.0, scale_pos_weight=0.6229508196721312, subsample=0.8 \n",
      "[CV]  colsample_bytree=0.8, gamma=0.1, learning_rate=0.1, max_depth=5, min_child_weight=2, n_estimators=10, reg_alpha=0.0, reg_lambda=1.0, scale_pos_weight=0.6229508196721312, subsample=0.8, score=0.820628, total=   0.0s\n",
      "[CV] colsample_bytree=0.8, gamma=0.1, learning_rate=0.1, max_depth=5, min_child_weight=2, n_estimators=10, reg_alpha=0.0, reg_lambda=1.0, scale_pos_weight=0.6229508196721312, subsample=0.8 \n",
      "[CV]  colsample_bytree=0.8, gamma=0.1, learning_rate=0.1, max_depth=5, min_child_weight=2, n_estimators=10, reg_alpha=0.0, reg_lambda=1.0, scale_pos_weight=0.6229508196721312, subsample=0.8, score=0.824324, total=   0.0s\n",
      "[CV] colsample_bytree=0.8, gamma=0.1, learning_rate=0.1, max_depth=5, min_child_weight=2, n_estimators=30, reg_alpha=0.0, reg_lambda=1.0, scale_pos_weight=0.6229508196721312, subsample=0.8 \n",
      "[CV]  colsample_bytree=0.8, gamma=0.1, learning_rate=0.1, max_depth=5, min_child_weight=2, n_estimators=30, reg_alpha=0.0, reg_lambda=1.0, scale_pos_weight=0.6229508196721312, subsample=0.8, score=0.829596, total=   0.0s\n",
      "[CV] colsample_bytree=0.8, gamma=0.1, learning_rate=0.1, max_depth=5, min_child_weight=2, n_estimators=30, reg_alpha=0.0, reg_lambda=1.0, scale_pos_weight=0.6229508196721312, subsample=0.8 \n",
      "[CV]  colsample_bytree=0.8, gamma=0.1, learning_rate=0.1, max_depth=5, min_child_weight=2, n_estimators=30, reg_alpha=0.0, reg_lambda=1.0, scale_pos_weight=0.6229508196721312, subsample=0.8, score=0.820628, total=   0.0s\n",
      "[CV] colsample_bytree=0.8, gamma=0.1, learning_rate=0.1, max_depth=5, min_child_weight=2, n_estimators=30, reg_alpha=0.0, reg_lambda=1.0, scale_pos_weight=0.6229508196721312, subsample=0.8 \n",
      "[CV]  colsample_bytree=0.8, gamma=0.1, learning_rate=0.1, max_depth=5, min_child_weight=2, n_estimators=30, reg_alpha=0.0, reg_lambda=1.0, scale_pos_weight=0.6229508196721312, subsample=0.8, score=0.829596, total=   0.0s\n",
      "[CV] colsample_bytree=0.8, gamma=0.1, learning_rate=0.1, max_depth=5, min_child_weight=2, n_estimators=30, reg_alpha=0.0, reg_lambda=1.0, scale_pos_weight=0.6229508196721312, subsample=0.8 \n",
      "[CV]  colsample_bytree=0.8, gamma=0.1, learning_rate=0.1, max_depth=5, min_child_weight=2, n_estimators=30, reg_alpha=0.0, reg_lambda=1.0, scale_pos_weight=0.6229508196721312, subsample=0.8, score=0.815315, total=   0.0s\n",
      "[CV] colsample_bytree=0.8, gamma=0.1, learning_rate=0.1, max_depth=5, min_child_weight=2, n_estimators=50, reg_alpha=0.0, reg_lambda=1.0, scale_pos_weight=0.6229508196721312, subsample=0.8 \n"
     ]
    },
    {
     "name": "stderr",
     "output_type": "stream",
     "text": [
      "[Parallel(n_jobs=1)]: Done   1 out of   1 | elapsed:    0.1s remaining:    0.0s\n",
      "[Parallel(n_jobs=1)]: Done   2 out of   2 | elapsed:    0.1s remaining:    0.0s\n",
      "[Parallel(n_jobs=1)]: Done   3 out of   3 | elapsed:    0.2s remaining:    0.0s\n",
      "[Parallel(n_jobs=1)]: Done   4 out of   4 | elapsed:    0.2s remaining:    0.0s\n"
     ]
    },
    {
     "name": "stdout",
     "output_type": "stream",
     "text": [
      "[CV]  colsample_bytree=0.8, gamma=0.1, learning_rate=0.1, max_depth=5, min_child_weight=2, n_estimators=50, reg_alpha=0.0, reg_lambda=1.0, scale_pos_weight=0.6229508196721312, subsample=0.8, score=0.838565, total=   0.0s\n",
      "[CV] colsample_bytree=0.8, gamma=0.1, learning_rate=0.1, max_depth=5, min_child_weight=2, n_estimators=50, reg_alpha=0.0, reg_lambda=1.0, scale_pos_weight=0.6229508196721312, subsample=0.8 \n",
      "[CV]  colsample_bytree=0.8, gamma=0.1, learning_rate=0.1, max_depth=5, min_child_weight=2, n_estimators=50, reg_alpha=0.0, reg_lambda=1.0, scale_pos_weight=0.6229508196721312, subsample=0.8, score=0.816143, total=   0.0s\n",
      "[CV] colsample_bytree=0.8, gamma=0.1, learning_rate=0.1, max_depth=5, min_child_weight=2, n_estimators=50, reg_alpha=0.0, reg_lambda=1.0, scale_pos_weight=0.6229508196721312, subsample=0.8 \n",
      "[CV]  colsample_bytree=0.8, gamma=0.1, learning_rate=0.1, max_depth=5, min_child_weight=2, n_estimators=50, reg_alpha=0.0, reg_lambda=1.0, scale_pos_weight=0.6229508196721312, subsample=0.8, score=0.838565, total=   0.0s\n",
      "[CV] colsample_bytree=0.8, gamma=0.1, learning_rate=0.1, max_depth=5, min_child_weight=2, n_estimators=50, reg_alpha=0.0, reg_lambda=1.0, scale_pos_weight=0.6229508196721312, subsample=0.8 \n",
      "[CV]  colsample_bytree=0.8, gamma=0.1, learning_rate=0.1, max_depth=5, min_child_weight=2, n_estimators=50, reg_alpha=0.0, reg_lambda=1.0, scale_pos_weight=0.6229508196721312, subsample=0.8, score=0.801802, total=   0.0s\n",
      "[CV] colsample_bytree=0.8, gamma=0.1, learning_rate=0.1, max_depth=5, min_child_weight=2, n_estimators=100, reg_alpha=0.0, reg_lambda=1.0, scale_pos_weight=0.6229508196721312, subsample=0.8 \n",
      "[CV]  colsample_bytree=0.8, gamma=0.1, learning_rate=0.1, max_depth=5, min_child_weight=2, n_estimators=100, reg_alpha=0.0, reg_lambda=1.0, scale_pos_weight=0.6229508196721312, subsample=0.8, score=0.847534, total=   0.0s\n",
      "[CV] colsample_bytree=0.8, gamma=0.1, learning_rate=0.1, max_depth=5, min_child_weight=2, n_estimators=100, reg_alpha=0.0, reg_lambda=1.0, scale_pos_weight=0.6229508196721312, subsample=0.8 \n",
      "[CV]  colsample_bytree=0.8, gamma=0.1, learning_rate=0.1, max_depth=5, min_child_weight=2, n_estimators=100, reg_alpha=0.0, reg_lambda=1.0, scale_pos_weight=0.6229508196721312, subsample=0.8, score=0.811659, total=   0.0s\n",
      "[CV] colsample_bytree=0.8, gamma=0.1, learning_rate=0.1, max_depth=5, min_child_weight=2, n_estimators=100, reg_alpha=0.0, reg_lambda=1.0, scale_pos_weight=0.6229508196721312, subsample=0.8 \n",
      "[CV]  colsample_bytree=0.8, gamma=0.1, learning_rate=0.1, max_depth=5, min_child_weight=2, n_estimators=100, reg_alpha=0.0, reg_lambda=1.0, scale_pos_weight=0.6229508196721312, subsample=0.8, score=0.838565, total=   0.0s\n",
      "[CV] colsample_bytree=0.8, gamma=0.1, learning_rate=0.1, max_depth=5, min_child_weight=2, n_estimators=100, reg_alpha=0.0, reg_lambda=1.0, scale_pos_weight=0.6229508196721312, subsample=0.8 \n",
      "[CV]  colsample_bytree=0.8, gamma=0.1, learning_rate=0.1, max_depth=5, min_child_weight=2, n_estimators=100, reg_alpha=0.0, reg_lambda=1.0, scale_pos_weight=0.6229508196721312, subsample=0.8, score=0.797297, total=   0.0s\n",
      "[CV] colsample_bytree=0.8, gamma=0.1, learning_rate=0.1, max_depth=5, min_child_weight=2, n_estimators=200, reg_alpha=0.0, reg_lambda=1.0, scale_pos_weight=0.6229508196721312, subsample=0.8 \n",
      "[CV]  colsample_bytree=0.8, gamma=0.1, learning_rate=0.1, max_depth=5, min_child_weight=2, n_estimators=200, reg_alpha=0.0, reg_lambda=1.0, scale_pos_weight=0.6229508196721312, subsample=0.8, score=0.847534, total=   0.0s\n",
      "[CV] colsample_bytree=0.8, gamma=0.1, learning_rate=0.1, max_depth=5, min_child_weight=2, n_estimators=200, reg_alpha=0.0, reg_lambda=1.0, scale_pos_weight=0.6229508196721312, subsample=0.8 \n",
      "[CV]  colsample_bytree=0.8, gamma=0.1, learning_rate=0.1, max_depth=5, min_child_weight=2, n_estimators=200, reg_alpha=0.0, reg_lambda=1.0, scale_pos_weight=0.6229508196721312, subsample=0.8, score=0.802691, total=   0.0s\n",
      "[CV] colsample_bytree=0.8, gamma=0.1, learning_rate=0.1, max_depth=5, min_child_weight=2, n_estimators=200, reg_alpha=0.0, reg_lambda=1.0, scale_pos_weight=0.6229508196721312, subsample=0.8 \n",
      "[CV]  colsample_bytree=0.8, gamma=0.1, learning_rate=0.1, max_depth=5, min_child_weight=2, n_estimators=200, reg_alpha=0.0, reg_lambda=1.0, scale_pos_weight=0.6229508196721312, subsample=0.8, score=0.829596, total=   0.0s\n",
      "[CV] colsample_bytree=0.8, gamma=0.1, learning_rate=0.1, max_depth=5, min_child_weight=2, n_estimators=200, reg_alpha=0.0, reg_lambda=1.0, scale_pos_weight=0.6229508196721312, subsample=0.8 \n",
      "[CV]  colsample_bytree=0.8, gamma=0.1, learning_rate=0.1, max_depth=5, min_child_weight=2, n_estimators=200, reg_alpha=0.0, reg_lambda=1.0, scale_pos_weight=0.6229508196721312, subsample=0.8, score=0.810811, total=   0.0s\n",
      "[CV] colsample_bytree=0.8, gamma=0.1, learning_rate=0.1, max_depth=5, min_child_weight=2, n_estimators=400, reg_alpha=0.0, reg_lambda=1.0, scale_pos_weight=0.6229508196721312, subsample=0.8 \n",
      "[CV]  colsample_bytree=0.8, gamma=0.1, learning_rate=0.1, max_depth=5, min_child_weight=2, n_estimators=400, reg_alpha=0.0, reg_lambda=1.0, scale_pos_weight=0.6229508196721312, subsample=0.8, score=0.829596, total=   0.1s\n",
      "[CV] colsample_bytree=0.8, gamma=0.1, learning_rate=0.1, max_depth=5, min_child_weight=2, n_estimators=400, reg_alpha=0.0, reg_lambda=1.0, scale_pos_weight=0.6229508196721312, subsample=0.8 \n",
      "[CV]  colsample_bytree=0.8, gamma=0.1, learning_rate=0.1, max_depth=5, min_child_weight=2, n_estimators=400, reg_alpha=0.0, reg_lambda=1.0, scale_pos_weight=0.6229508196721312, subsample=0.8, score=0.798206, total=   0.1s\n",
      "[CV] colsample_bytree=0.8, gamma=0.1, learning_rate=0.1, max_depth=5, min_child_weight=2, n_estimators=400, reg_alpha=0.0, reg_lambda=1.0, scale_pos_weight=0.6229508196721312, subsample=0.8 \n",
      "[CV]  colsample_bytree=0.8, gamma=0.1, learning_rate=0.1, max_depth=5, min_child_weight=2, n_estimators=400, reg_alpha=0.0, reg_lambda=1.0, scale_pos_weight=0.6229508196721312, subsample=0.8, score=0.816143, total=   0.1s\n",
      "[CV] colsample_bytree=0.8, gamma=0.1, learning_rate=0.1, max_depth=5, min_child_weight=2, n_estimators=400, reg_alpha=0.0, reg_lambda=1.0, scale_pos_weight=0.6229508196721312, subsample=0.8 \n",
      "[CV]  colsample_bytree=0.8, gamma=0.1, learning_rate=0.1, max_depth=5, min_child_weight=2, n_estimators=400, reg_alpha=0.0, reg_lambda=1.0, scale_pos_weight=0.6229508196721312, subsample=0.8, score=0.806306, total=   0.1s\n",
      "[CV] colsample_bytree=0.8, gamma=0.1, learning_rate=0.1, max_depth=5, min_child_weight=2, n_estimators=600, reg_alpha=0.0, reg_lambda=1.0, scale_pos_weight=0.6229508196721312, subsample=0.8 \n",
      "[CV]  colsample_bytree=0.8, gamma=0.1, learning_rate=0.1, max_depth=5, min_child_weight=2, n_estimators=600, reg_alpha=0.0, reg_lambda=1.0, scale_pos_weight=0.6229508196721312, subsample=0.8, score=0.825112, total=   0.2s\n",
      "[CV] colsample_bytree=0.8, gamma=0.1, learning_rate=0.1, max_depth=5, min_child_weight=2, n_estimators=600, reg_alpha=0.0, reg_lambda=1.0, scale_pos_weight=0.6229508196721312, subsample=0.8 \n",
      "[CV]  colsample_bytree=0.8, gamma=0.1, learning_rate=0.1, max_depth=5, min_child_weight=2, n_estimators=600, reg_alpha=0.0, reg_lambda=1.0, scale_pos_weight=0.6229508196721312, subsample=0.8, score=0.807175, total=   0.3s\n",
      "[CV] colsample_bytree=0.8, gamma=0.1, learning_rate=0.1, max_depth=5, min_child_weight=2, n_estimators=600, reg_alpha=0.0, reg_lambda=1.0, scale_pos_weight=0.6229508196721312, subsample=0.8 \n",
      "[CV]  colsample_bytree=0.8, gamma=0.1, learning_rate=0.1, max_depth=5, min_child_weight=2, n_estimators=600, reg_alpha=0.0, reg_lambda=1.0, scale_pos_weight=0.6229508196721312, subsample=0.8, score=0.829596, total=   0.2s\n",
      "[CV] colsample_bytree=0.8, gamma=0.1, learning_rate=0.1, max_depth=5, min_child_weight=2, n_estimators=600, reg_alpha=0.0, reg_lambda=1.0, scale_pos_weight=0.6229508196721312, subsample=0.8 \n",
      "[CV]  colsample_bytree=0.8, gamma=0.1, learning_rate=0.1, max_depth=5, min_child_weight=2, n_estimators=600, reg_alpha=0.0, reg_lambda=1.0, scale_pos_weight=0.6229508196721312, subsample=0.8, score=0.810811, total=   0.2s\n",
      "[CV] colsample_bytree=0.8, gamma=0.1, learning_rate=0.1, max_depth=5, min_child_weight=2, n_estimators=1000, reg_alpha=0.0, reg_lambda=1.0, scale_pos_weight=0.6229508196721312, subsample=0.8 \n"
     ]
    },
    {
     "name": "stdout",
     "output_type": "stream",
     "text": [
      "[CV]  colsample_bytree=0.8, gamma=0.1, learning_rate=0.1, max_depth=5, min_child_weight=2, n_estimators=1000, reg_alpha=0.0, reg_lambda=1.0, scale_pos_weight=0.6229508196721312, subsample=0.8, score=0.834081, total=   0.3s\n",
      "[CV] colsample_bytree=0.8, gamma=0.1, learning_rate=0.1, max_depth=5, min_child_weight=2, n_estimators=1000, reg_alpha=0.0, reg_lambda=1.0, scale_pos_weight=0.6229508196721312, subsample=0.8 \n",
      "[CV]  colsample_bytree=0.8, gamma=0.1, learning_rate=0.1, max_depth=5, min_child_weight=2, n_estimators=1000, reg_alpha=0.0, reg_lambda=1.0, scale_pos_weight=0.6229508196721312, subsample=0.8, score=0.807175, total=   0.4s\n",
      "[CV] colsample_bytree=0.8, gamma=0.1, learning_rate=0.1, max_depth=5, min_child_weight=2, n_estimators=1000, reg_alpha=0.0, reg_lambda=1.0, scale_pos_weight=0.6229508196721312, subsample=0.8 \n",
      "[CV]  colsample_bytree=0.8, gamma=0.1, learning_rate=0.1, max_depth=5, min_child_weight=2, n_estimators=1000, reg_alpha=0.0, reg_lambda=1.0, scale_pos_weight=0.6229508196721312, subsample=0.8, score=0.829596, total=   0.4s\n",
      "[CV] colsample_bytree=0.8, gamma=0.1, learning_rate=0.1, max_depth=5, min_child_weight=2, n_estimators=1000, reg_alpha=0.0, reg_lambda=1.0, scale_pos_weight=0.6229508196721312, subsample=0.8 \n",
      "[CV]  colsample_bytree=0.8, gamma=0.1, learning_rate=0.1, max_depth=5, min_child_weight=2, n_estimators=1000, reg_alpha=0.0, reg_lambda=1.0, scale_pos_weight=0.6229508196721312, subsample=0.8, score=0.810811, total=   0.4s\n",
      "Best score (ACC):  0.82379349046\n",
      "Best params: \n"
     ]
    },
    {
     "name": "stderr",
     "output_type": "stream",
     "text": [
      "[Parallel(n_jobs=1)]: Done  32 out of  32 | elapsed:    5.2s finished\n"
     ]
    },
    {
     "data": {
      "text/plain": [
       "{'base_score': 0.5,\n",
       " 'colsample_bylevel': 1,\n",
       " 'colsample_bytree': 0.8,\n",
       " 'gamma': 0.1,\n",
       " 'learning_rate': 0.1,\n",
       " 'max_delta_step': 0,\n",
       " 'max_depth': 5,\n",
       " 'min_child_weight': 2,\n",
       " 'missing': None,\n",
       " 'n_estimators': 30,\n",
       " 'nthread': -1,\n",
       " 'objective': 'binary:logistic',\n",
       " 'reg_alpha': 0.0,\n",
       " 'reg_lambda': 1.0,\n",
       " 'scale_pos_weight': 0.6229508196721312,\n",
       " 'seed': 0,\n",
       " 'silent': True,\n",
       " 'subsample': 0.8}"
      ]
     },
     "execution_count": 445,
     "metadata": {},
     "output_type": "execute_result"
    }
   ],
   "source": [
    "ones_ratio=y_train[y_train==1].shape[0]*1.0/y_train[y_train==0].shape[0]\n",
    "\n",
    "param_grid = {\n",
    "    # параметры ансамбля\n",
    "    'n_estimators': [10, 30, 50, 100, 200, 400, 600, 1000],\n",
    "    'learning_rate': [0.1],\n",
    "    \n",
    "    # параметры дерева\n",
    "    'max_depth': [5],\n",
    "    'min_child_weight': [2],\n",
    "    'gamma': [0.1],\n",
    "    'subsample': [0.8],\n",
    "    'colsample_bytree': [0.8],\n",
    "    'scale_pos_weight': [ones_ratio],\n",
    "    \n",
    "    # параметры регуляризации\n",
    "    'reg_alpha': [0.0],\n",
    "    'reg_lambda': [1.0]\n",
    "}\n",
    "\n",
    "cv = KFold(n_splits=4, shuffle=True)\n",
    "\n",
    "clf = XGBClassifier()\n",
    "gs = GridSearchCV(clf, param_grid, scoring='accuracy', cv=cv, verbose=5)\n",
    "\n",
    "gs.fit(X_train, y_train)\n",
    "best_params = gs.best_estimator_.get_params()\n",
    "print('Best score (ACC): ', gs.best_score_)\n",
    "print('Best params: ')\n",
    "best_params"
   ]
  },
  {
   "cell_type": "code",
   "execution_count": 446,
   "metadata": {},
   "outputs": [
    {
     "name": "stdout",
     "output_type": "stream",
     "text": [
      "Fitting 4 folds for each of 12 candidates, totalling 48 fits\n",
      "[CV] max_depth=3, min_child_weight=1 .................................\n",
      "[CV] .. max_depth=3, min_child_weight=1, score=0.811659, total=   0.2s\n",
      "[CV] max_depth=3, min_child_weight=1 .................................\n",
      "[CV] .. max_depth=3, min_child_weight=1, score=0.807175, total=   0.0s\n",
      "[CV] max_depth=3, min_child_weight=1 .................................\n",
      "[CV] .. max_depth=3, min_child_weight=1, score=0.798206, total=   0.0s\n",
      "[CV] max_depth=3, min_child_weight=1 .................................\n",
      "[CV] .. max_depth=3, min_child_weight=1, score=0.792793, total=   0.0s\n",
      "[CV] max_depth=3, min_child_weight=3 .................................\n",
      "[CV] .. max_depth=3, min_child_weight=3, score=0.811659, total=   0.0s\n",
      "[CV] max_depth=3, min_child_weight=3 .................................\n",
      "[CV] .. max_depth=3, min_child_weight=3, score=0.816143, total=   0.0s\n",
      "[CV] max_depth=3, min_child_weight=3 .................................\n",
      "[CV] .. max_depth=3, min_child_weight=3, score=0.798206, total=   0.0s\n",
      "[CV] max_depth=3, min_child_weight=3 .................................\n",
      "[CV] .. max_depth=3, min_child_weight=3, score=0.797297, total=   0.0s\n",
      "[CV] max_depth=3, min_child_weight=5 .................................\n",
      "[CV] .. max_depth=3, min_child_weight=5, score=0.798206, total=   0.0s\n",
      "[CV] max_depth=3, min_child_weight=5 .................................\n",
      "[CV] .. max_depth=3, min_child_weight=5, score=0.816143, total=   0.0s\n",
      "[CV] max_depth=3, min_child_weight=5 .................................\n",
      "[CV] .. max_depth=3, min_child_weight=5, score=0.793722, total=   0.0s\n",
      "[CV] max_depth=3, min_child_weight=5 .................................\n",
      "[CV] .. max_depth=3, min_child_weight=5, score=0.783784, total=   0.0s\n",
      "[CV] max_depth=5, min_child_weight=1 .................................\n",
      "[CV] .. max_depth=5, min_child_weight=1, score=0.816143, total=   0.0s\n",
      "[CV] max_depth=5, min_child_weight=1 .................................\n"
     ]
    },
    {
     "name": "stderr",
     "output_type": "stream",
     "text": [
      "[Parallel(n_jobs=1)]: Done   1 out of   1 | elapsed:    0.2s remaining:    0.0s\n",
      "[Parallel(n_jobs=1)]: Done   2 out of   2 | elapsed:    0.2s remaining:    0.0s\n",
      "[Parallel(n_jobs=1)]: Done   3 out of   3 | elapsed:    0.2s remaining:    0.0s\n",
      "[Parallel(n_jobs=1)]: Done   4 out of   4 | elapsed:    0.2s remaining:    0.0s\n"
     ]
    },
    {
     "name": "stdout",
     "output_type": "stream",
     "text": [
      "[CV] .. max_depth=5, min_child_weight=1, score=0.802691, total=   0.0s\n",
      "[CV] max_depth=5, min_child_weight=1 .................................\n",
      "[CV] .. max_depth=5, min_child_weight=1, score=0.802691, total=   0.0s\n",
      "[CV] max_depth=5, min_child_weight=1 .................................\n",
      "[CV] .. max_depth=5, min_child_weight=1, score=0.806306, total=   0.0s\n",
      "[CV] max_depth=5, min_child_weight=3 .................................\n",
      "[CV] .. max_depth=5, min_child_weight=3, score=0.838565, total=   0.0s\n",
      "[CV] max_depth=5, min_child_weight=3 .................................\n",
      "[CV] .. max_depth=5, min_child_weight=3, score=0.811659, total=   0.0s\n",
      "[CV] max_depth=5, min_child_weight=3 .................................\n",
      "[CV] .. max_depth=5, min_child_weight=3, score=0.811659, total=   0.0s\n",
      "[CV] max_depth=5, min_child_weight=3 .................................\n",
      "[CV] .. max_depth=5, min_child_weight=3, score=0.815315, total=   0.0s\n",
      "[CV] max_depth=5, min_child_weight=5 .................................\n",
      "[CV] .. max_depth=5, min_child_weight=5, score=0.802691, total=   0.0s\n",
      "[CV] max_depth=5, min_child_weight=5 .................................\n",
      "[CV] .. max_depth=5, min_child_weight=5, score=0.829596, total=   0.0s\n",
      "[CV] max_depth=5, min_child_weight=5 .................................\n",
      "[CV] .. max_depth=5, min_child_weight=5, score=0.789238, total=   0.0s\n",
      "[CV] max_depth=5, min_child_weight=5 .................................\n",
      "[CV] .. max_depth=5, min_child_weight=5, score=0.779279, total=   0.0s\n",
      "[CV] max_depth=7, min_child_weight=1 .................................\n",
      "[CV] .. max_depth=7, min_child_weight=1, score=0.811659, total=   0.0s\n",
      "[CV] max_depth=7, min_child_weight=1 .................................\n",
      "[CV] .. max_depth=7, min_child_weight=1, score=0.816143, total=   0.0s\n",
      "[CV] max_depth=7, min_child_weight=1 .................................\n",
      "[CV] .. max_depth=7, min_child_weight=1, score=0.825112, total=   0.0s\n",
      "[CV] max_depth=7, min_child_weight=1 .................................\n",
      "[CV] .. max_depth=7, min_child_weight=1, score=0.810811, total=   0.0s\n",
      "[CV] max_depth=7, min_child_weight=3 .................................\n",
      "[CV] .. max_depth=7, min_child_weight=3, score=0.816143, total=   0.0s\n",
      "[CV] max_depth=7, min_child_weight=3 .................................\n",
      "[CV] .. max_depth=7, min_child_weight=3, score=0.802691, total=   0.0s\n",
      "[CV] max_depth=7, min_child_weight=3 .................................\n",
      "[CV] .. max_depth=7, min_child_weight=3, score=0.820628, total=   0.0s\n",
      "[CV] max_depth=7, min_child_weight=3 .................................\n",
      "[CV] .. max_depth=7, min_child_weight=3, score=0.810811, total=   0.0s\n",
      "[CV] max_depth=7, min_child_weight=5 .................................\n",
      "[CV] .. max_depth=7, min_child_weight=5, score=0.807175, total=   0.0s\n",
      "[CV] max_depth=7, min_child_weight=5 .................................\n",
      "[CV] .. max_depth=7, min_child_weight=5, score=0.829596, total=   0.0s\n",
      "[CV] max_depth=7, min_child_weight=5 .................................\n",
      "[CV] .. max_depth=7, min_child_weight=5, score=0.793722, total=   0.0s\n",
      "[CV] max_depth=7, min_child_weight=5 .................................\n",
      "[CV] .. max_depth=7, min_child_weight=5, score=0.779279, total=   0.0s\n",
      "[CV] max_depth=9, min_child_weight=1 .................................\n",
      "[CV] .. max_depth=9, min_child_weight=1, score=0.811659, total=   0.0s\n",
      "[CV] max_depth=9, min_child_weight=1 .................................\n",
      "[CV] .. max_depth=9, min_child_weight=1, score=0.816143, total=   0.0s\n",
      "[CV] max_depth=9, min_child_weight=1 .................................\n",
      "[CV] .. max_depth=9, min_child_weight=1, score=0.816143, total=   0.0s\n",
      "[CV] max_depth=9, min_child_weight=1 .................................\n",
      "[CV] .. max_depth=9, min_child_weight=1, score=0.815315, total=   0.0s\n",
      "[CV] max_depth=9, min_child_weight=3 .................................\n",
      "[CV] .. max_depth=9, min_child_weight=3, score=0.816143, total=   0.0s\n",
      "[CV] max_depth=9, min_child_weight=3 .................................\n",
      "[CV] .. max_depth=9, min_child_weight=3, score=0.802691, total=   0.0s\n",
      "[CV] max_depth=9, min_child_weight=3 .................................\n",
      "[CV] .. max_depth=9, min_child_weight=3, score=0.820628, total=   0.0s\n",
      "[CV] max_depth=9, min_child_weight=3 .................................\n",
      "[CV] .. max_depth=9, min_child_weight=3, score=0.810811, total=   0.0s\n",
      "[CV] max_depth=9, min_child_weight=5 .................................\n",
      "[CV] .. max_depth=9, min_child_weight=5, score=0.807175, total=   0.0s\n",
      "[CV] max_depth=9, min_child_weight=5 .................................\n",
      "[CV] .. max_depth=9, min_child_weight=5, score=0.829596, total=   0.0s\n",
      "[CV] max_depth=9, min_child_weight=5 .................................\n",
      "[CV] .. max_depth=9, min_child_weight=5, score=0.793722, total=   0.0s\n",
      "[CV] max_depth=9, min_child_weight=5 .................................\n",
      "[CV] .. max_depth=9, min_child_weight=5, score=0.779279, total=   0.0s\n",
      "Best score (ACC):  0.819304152637\n",
      "Best params: \n"
     ]
    },
    {
     "name": "stderr",
     "output_type": "stream",
     "text": [
      "[Parallel(n_jobs=1)]: Done  48 out of  48 | elapsed:    1.4s finished\n"
     ]
    },
    {
     "data": {
      "text/plain": [
       "{'base_score': 0.5,\n",
       " 'colsample_bylevel': 1,\n",
       " 'colsample_bytree': 0.8,\n",
       " 'gamma': 0.1,\n",
       " 'learning_rate': 0.1,\n",
       " 'max_delta_step': 0,\n",
       " 'max_depth': 5,\n",
       " 'min_child_weight': 3,\n",
       " 'missing': None,\n",
       " 'n_estimators': 30,\n",
       " 'nthread': -1,\n",
       " 'objective': 'binary:logistic',\n",
       " 'reg_alpha': 0.0,\n",
       " 'reg_lambda': 1.0,\n",
       " 'scale_pos_weight': 0.6229508196721312,\n",
       " 'seed': 0,\n",
       " 'silent': True,\n",
       " 'subsample': 0.8}"
      ]
     },
     "execution_count": 446,
     "metadata": {},
     "output_type": "execute_result"
    }
   ],
   "source": [
    "param_grid = {\n",
    "    'max_depth': range(3, 10, 2),\n",
    "    'min_child_weight': range(1, 6, 2)\n",
    "}\n",
    "\n",
    "clf = XGBClassifier(**best_params) # в качестве отправной точки возьмём модель с наилучшими параметрами предыдущего шага\n",
    "\n",
    "gs = GridSearchCV(clf, param_grid, scoring='accuracy', cv=cv, verbose=5)\n",
    "\n",
    "gs.fit(X_train, y_train)\n",
    "best_params = gs.best_estimator_.get_params()\n",
    "print('Best score (ACC): ', gs.best_score_)\n",
    "print('Best params: ')\n",
    "best_params"
   ]
  },
  {
   "cell_type": "code",
   "execution_count": 447,
   "metadata": {},
   "outputs": [
    {
     "name": "stdout",
     "output_type": "stream",
     "text": [
      "Fitting 4 folds for each of 6 candidates, totalling 24 fits\n",
      "[CV] gamma=0.0 .......................................................\n",
      "[CV] ........................ gamma=0.0, score=0.834081, total=   0.2s\n",
      "[CV] gamma=0.0 .......................................................\n",
      "[CV] ........................ gamma=0.0, score=0.816143, total=   0.0s\n",
      "[CV] gamma=0.0 .......................................................\n",
      "[CV] ........................ gamma=0.0, score=0.834081, total=   0.0s\n",
      "[CV] gamma=0.0 .......................................................\n",
      "[CV] ........................ gamma=0.0, score=0.806306, total=   0.0s\n",
      "[CV] gamma=0.1 .......................................................\n",
      "[CV] ........................ gamma=0.1, score=0.834081, total=   0.0s\n",
      "[CV] gamma=0.1 .......................................................\n",
      "[CV] ........................ gamma=0.1, score=0.816143, total=   0.0s\n",
      "[CV] gamma=0.1 .......................................................\n",
      "[CV] ........................ gamma=0.1, score=0.834081, total=   0.0s\n",
      "[CV] gamma=0.1 .......................................................\n",
      "[CV] ........................ gamma=0.1, score=0.801802, total=   0.0s\n",
      "[CV] gamma=0.2 .......................................................\n",
      "[CV] ........................ gamma=0.2, score=0.834081, total=   0.0s\n",
      "[CV] gamma=0.2 .......................................................\n",
      "[CV] ........................ gamma=0.2, score=0.816143, total=   0.0s\n",
      "[CV] gamma=0.2 .......................................................\n"
     ]
    },
    {
     "name": "stderr",
     "output_type": "stream",
     "text": [
      "[Parallel(n_jobs=1)]: Done   1 out of   1 | elapsed:    0.2s remaining:    0.0s\n",
      "[Parallel(n_jobs=1)]: Done   2 out of   2 | elapsed:    0.2s remaining:    0.0s\n",
      "[Parallel(n_jobs=1)]: Done   3 out of   3 | elapsed:    0.3s remaining:    0.0s\n",
      "[Parallel(n_jobs=1)]: Done   4 out of   4 | elapsed:    0.3s remaining:    0.0s\n"
     ]
    },
    {
     "name": "stdout",
     "output_type": "stream",
     "text": [
      "[CV] ........................ gamma=0.2, score=0.829596, total=   0.0s\n",
      "[CV] gamma=0.2 .......................................................\n",
      "[CV] ........................ gamma=0.2, score=0.797297, total=   0.0s\n",
      "[CV] gamma=0.30000000000000004 .......................................\n",
      "[CV] ........ gamma=0.30000000000000004, score=0.829596, total=   0.0s\n",
      "[CV] gamma=0.30000000000000004 .......................................\n",
      "[CV] ........ gamma=0.30000000000000004, score=0.816143, total=   0.0s\n",
      "[CV] gamma=0.30000000000000004 .......................................\n",
      "[CV] ........ gamma=0.30000000000000004, score=0.838565, total=   0.0s\n",
      "[CV] gamma=0.30000000000000004 .......................................\n",
      "[CV] ........ gamma=0.30000000000000004, score=0.801802, total=   0.0s\n",
      "[CV] gamma=0.4 .......................................................\n",
      "[CV] ........................ gamma=0.4, score=0.834081, total=   0.0s\n",
      "[CV] gamma=0.4 .......................................................\n",
      "[CV] ........................ gamma=0.4, score=0.816143, total=   0.0s\n",
      "[CV] gamma=0.4 .......................................................\n",
      "[CV] ........................ gamma=0.4, score=0.825112, total=   0.0s\n",
      "[CV] gamma=0.4 .......................................................\n",
      "[CV] ........................ gamma=0.4, score=0.797297, total=   0.0s\n",
      "[CV] gamma=0.5 .......................................................\n",
      "[CV] ........................ gamma=0.5, score=0.829596, total=   0.0s\n",
      "[CV] gamma=0.5 .......................................................\n",
      "[CV] ........................ gamma=0.5, score=0.816143, total=   0.0s\n",
      "[CV] gamma=0.5 .......................................................\n",
      "[CV] ........................ gamma=0.5, score=0.838565, total=   0.0s\n",
      "[CV] gamma=0.5 .......................................................\n",
      "[CV] ........................ gamma=0.5, score=0.801802, total=   0.0s\n",
      "Best score (ACC):  0.822671156004\n",
      "Best params: \n"
     ]
    },
    {
     "name": "stderr",
     "output_type": "stream",
     "text": [
      "[Parallel(n_jobs=1)]: Done  24 out of  24 | elapsed:    0.8s finished\n"
     ]
    },
    {
     "data": {
      "text/plain": [
       "{'base_score': 0.5,\n",
       " 'colsample_bylevel': 1,\n",
       " 'colsample_bytree': 0.8,\n",
       " 'gamma': 0.0,\n",
       " 'learning_rate': 0.1,\n",
       " 'max_delta_step': 0,\n",
       " 'max_depth': 5,\n",
       " 'min_child_weight': 3,\n",
       " 'missing': None,\n",
       " 'n_estimators': 30,\n",
       " 'nthread': -1,\n",
       " 'objective': 'binary:logistic',\n",
       " 'reg_alpha': 0.0,\n",
       " 'reg_lambda': 1.0,\n",
       " 'scale_pos_weight': 0.6229508196721312,\n",
       " 'seed': 0,\n",
       " 'silent': True,\n",
       " 'subsample': 0.8}"
      ]
     },
     "execution_count": 447,
     "metadata": {},
     "output_type": "execute_result"
    }
   ],
   "source": [
    "param_grid = {\n",
    "    'gamma': [0.1*i for i in range(6)]\n",
    "}\n",
    "\n",
    "clf = XGBClassifier(**best_params)\n",
    "\n",
    "gs = GridSearchCV(clf, param_grid, scoring='accuracy', cv=cv, verbose=5)\n",
    "\n",
    "gs.fit(X_train, y_train)\n",
    "best_params = gs.best_estimator_.get_params()\n",
    "print('Best score (ACC): ', gs.best_score_)\n",
    "print('Best params: ')\n",
    "best_params"
   ]
  },
  {
   "cell_type": "code",
   "execution_count": 448,
   "metadata": {},
   "outputs": [
    {
     "name": "stdout",
     "output_type": "stream",
     "text": [
      "Fitting 4 folds for each of 36 candidates, totalling 144 fits\n",
      "[CV] colsample_bytree=0.5, subsample=0.5 .............................\n",
      "[CV]  colsample_bytree=0.5, subsample=0.5, score=0.820628, total=   0.2s\n",
      "[CV] colsample_bytree=0.5, subsample=0.5 .............................\n",
      "[CV]  colsample_bytree=0.5, subsample=0.5, score=0.780269, total=   0.0s\n",
      "[CV] colsample_bytree=0.5, subsample=0.5 .............................\n",
      "[CV]  colsample_bytree=0.5, subsample=0.5, score=0.789238, total=   0.0s\n",
      "[CV] colsample_bytree=0.5, subsample=0.5 .............................\n",
      "[CV]  colsample_bytree=0.5, subsample=0.5, score=0.810811, total=   0.0s\n",
      "[CV] colsample_bytree=0.5, subsample=0.6 .............................\n",
      "[CV]  colsample_bytree=0.5, subsample=0.6, score=0.825112, total=   0.0s\n",
      "[CV] colsample_bytree=0.5, subsample=0.6 .............................\n",
      "[CV]  colsample_bytree=0.5, subsample=0.6, score=0.775785, total=   0.0s\n",
      "[CV] colsample_bytree=0.5, subsample=0.6 .............................\n",
      "[CV]  colsample_bytree=0.5, subsample=0.6, score=0.798206, total=   0.0s\n",
      "[CV] colsample_bytree=0.5, subsample=0.6 .............................\n",
      "[CV]  colsample_bytree=0.5, subsample=0.6, score=0.819820, total=   0.0s\n",
      "[CV] colsample_bytree=0.5, subsample=0.7 .............................\n",
      "[CV]  colsample_bytree=0.5, subsample=0.7, score=0.829596, total=   0.0s\n",
      "[CV] colsample_bytree=0.5, subsample=0.7 .............................\n",
      "[CV]  colsample_bytree=0.5, subsample=0.7, score=0.820628, total=   0.0s\n",
      "[CV] colsample_bytree=0.5, subsample=0.7 .............................\n",
      "[CV]  colsample_bytree=0.5, subsample=0.7, score=0.807175, total=   0.0s"
     ]
    },
    {
     "name": "stderr",
     "output_type": "stream",
     "text": [
      "[Parallel(n_jobs=1)]: Done   1 out of   1 | elapsed:    0.2s remaining:    0.0s\n",
      "[Parallel(n_jobs=1)]: Done   2 out of   2 | elapsed:    0.2s remaining:    0.0s\n",
      "[Parallel(n_jobs=1)]: Done   3 out of   3 | elapsed:    0.2s remaining:    0.0s\n",
      "[Parallel(n_jobs=1)]: Done   4 out of   4 | elapsed:    0.3s remaining:    0.0s\n"
     ]
    },
    {
     "name": "stdout",
     "output_type": "stream",
     "text": [
      "\n",
      "[CV] colsample_bytree=0.5, subsample=0.7 .............................\n",
      "[CV]  colsample_bytree=0.5, subsample=0.7, score=0.819820, total=   0.0s\n",
      "[CV] colsample_bytree=0.5, subsample=0.8 .............................\n",
      "[CV]  colsample_bytree=0.5, subsample=0.8, score=0.838565, total=   0.0s\n",
      "[CV] colsample_bytree=0.5, subsample=0.8 .............................\n",
      "[CV]  colsample_bytree=0.5, subsample=0.8, score=0.811659, total=   0.0s\n",
      "[CV] colsample_bytree=0.5, subsample=0.8 .............................\n",
      "[CV]  colsample_bytree=0.5, subsample=0.8, score=0.807175, total=   0.0s\n",
      "[CV] colsample_bytree=0.5, subsample=0.8 .............................\n",
      "[CV]  colsample_bytree=0.5, subsample=0.8, score=0.828829, total=   0.0s\n",
      "[CV] colsample_bytree=0.5, subsample=0.9 .............................\n",
      "[CV]  colsample_bytree=0.5, subsample=0.9, score=0.847534, total=   0.0s\n",
      "[CV] colsample_bytree=0.5, subsample=0.9 .............................\n",
      "[CV]  colsample_bytree=0.5, subsample=0.9, score=0.820628, total=   0.0s\n",
      "[CV] colsample_bytree=0.5, subsample=0.9 .............................\n",
      "[CV]  colsample_bytree=0.5, subsample=0.9, score=0.816143, total=   0.0s\n",
      "[CV] colsample_bytree=0.5, subsample=0.9 .............................\n",
      "[CV]  colsample_bytree=0.5, subsample=0.9, score=0.824324, total=   0.0s\n",
      "[CV] colsample_bytree=0.5, subsample=1.0 .............................\n",
      "[CV]  colsample_bytree=0.5, subsample=1.0, score=0.847534, total=   0.0s\n",
      "[CV] colsample_bytree=0.5, subsample=1.0 .............................\n",
      "[CV]  colsample_bytree=0.5, subsample=1.0, score=0.820628, total=   0.0s\n",
      "[CV] colsample_bytree=0.5, subsample=1.0 .............................\n",
      "[CV]  colsample_bytree=0.5, subsample=1.0, score=0.811659, total=   0.0s\n",
      "[CV] colsample_bytree=0.5, subsample=1.0 .............................\n",
      "[CV]  colsample_bytree=0.5, subsample=1.0, score=0.810811, total=   0.0s\n",
      "[CV] colsample_bytree=0.6, subsample=0.5 .............................\n",
      "[CV]  colsample_bytree=0.6, subsample=0.5, score=0.825112, total=   0.0s\n",
      "[CV] colsample_bytree=0.6, subsample=0.5 .............................\n",
      "[CV]  colsample_bytree=0.6, subsample=0.5, score=0.798206, total=   0.0s\n",
      "[CV] colsample_bytree=0.6, subsample=0.5 .............................\n",
      "[CV]  colsample_bytree=0.6, subsample=0.5, score=0.789238, total=   0.0s\n",
      "[CV] colsample_bytree=0.6, subsample=0.5 .............................\n",
      "[CV]  colsample_bytree=0.6, subsample=0.5, score=0.810811, total=   0.0s\n",
      "[CV] colsample_bytree=0.6, subsample=0.6 .............................\n",
      "[CV]  colsample_bytree=0.6, subsample=0.6, score=0.825112, total=   0.0s\n",
      "[CV] colsample_bytree=0.6, subsample=0.6 .............................\n",
      "[CV]  colsample_bytree=0.6, subsample=0.6, score=0.807175, total=   0.0s\n",
      "[CV] colsample_bytree=0.6, subsample=0.6 .............................\n",
      "[CV]  colsample_bytree=0.6, subsample=0.6, score=0.802691, total=   0.0s\n",
      "[CV] colsample_bytree=0.6, subsample=0.6 .............................\n",
      "[CV]  colsample_bytree=0.6, subsample=0.6, score=0.824324, total=   0.0s\n",
      "[CV] colsample_bytree=0.6, subsample=0.7 .............................\n",
      "[CV]  colsample_bytree=0.6, subsample=0.7, score=0.829596, total=   0.0s\n",
      "[CV] colsample_bytree=0.6, subsample=0.7 .............................\n",
      "[CV]  colsample_bytree=0.6, subsample=0.7, score=0.825112, total=   0.0s\n",
      "[CV] colsample_bytree=0.6, subsample=0.7 .............................\n",
      "[CV]  colsample_bytree=0.6, subsample=0.7, score=0.807175, total=   0.0s\n",
      "[CV] colsample_bytree=0.6, subsample=0.7 .............................\n",
      "[CV]  colsample_bytree=0.6, subsample=0.7, score=0.815315, total=   0.0s\n",
      "[CV] colsample_bytree=0.6, subsample=0.8 .............................\n",
      "[CV]  colsample_bytree=0.6, subsample=0.8, score=0.838565, total=   0.0s\n",
      "[CV] colsample_bytree=0.6, subsample=0.8 .............................\n",
      "[CV]  colsample_bytree=0.6, subsample=0.8, score=0.825112, total=   0.0s\n",
      "[CV] colsample_bytree=0.6, subsample=0.8 .............................\n",
      "[CV]  colsample_bytree=0.6, subsample=0.8, score=0.820628, total=   0.0s\n",
      "[CV] colsample_bytree=0.6, subsample=0.8 .............................\n",
      "[CV]  colsample_bytree=0.6, subsample=0.8, score=0.815315, total=   0.0s\n",
      "[CV] colsample_bytree=0.6, subsample=0.9 .............................\n",
      "[CV]  colsample_bytree=0.6, subsample=0.9, score=0.829596, total=   0.0s\n",
      "[CV] colsample_bytree=0.6, subsample=0.9 .............................\n",
      "[CV]  colsample_bytree=0.6, subsample=0.9, score=0.816143, total=   0.0s\n",
      "[CV] colsample_bytree=0.6, subsample=0.9 .............................\n",
      "[CV]  colsample_bytree=0.6, subsample=0.9, score=0.820628, total=   0.0s\n",
      "[CV] colsample_bytree=0.6, subsample=0.9 .............................\n",
      "[CV]  colsample_bytree=0.6, subsample=0.9, score=0.819820, total=   0.0s\n",
      "[CV] colsample_bytree=0.6, subsample=1.0 .............................\n",
      "[CV]  colsample_bytree=0.6, subsample=1.0, score=0.847534, total=   0.0s\n",
      "[CV] colsample_bytree=0.6, subsample=1.0 .............................\n",
      "[CV]  colsample_bytree=0.6, subsample=1.0, score=0.807175, total=   0.0s\n",
      "[CV] colsample_bytree=0.6, subsample=1.0 .............................\n",
      "[CV]  colsample_bytree=0.6, subsample=1.0, score=0.811659, total=   0.0s\n",
      "[CV] colsample_bytree=0.6, subsample=1.0 .............................\n",
      "[CV]  colsample_bytree=0.6, subsample=1.0, score=0.815315, total=   0.0s\n",
      "[CV] colsample_bytree=0.7, subsample=0.5 .............................\n",
      "[CV]  colsample_bytree=0.7, subsample=0.5, score=0.825112, total=   0.0s\n",
      "[CV] colsample_bytree=0.7, subsample=0.5 .............................\n",
      "[CV]  colsample_bytree=0.7, subsample=0.5, score=0.807175, total=   0.0s\n",
      "[CV] colsample_bytree=0.7, subsample=0.5 .............................\n",
      "[CV]  colsample_bytree=0.7, subsample=0.5, score=0.784753, total=   0.0s\n",
      "[CV] colsample_bytree=0.7, subsample=0.5 .............................\n",
      "[CV]  colsample_bytree=0.7, subsample=0.5, score=0.815315, total=   0.0s\n",
      "[CV] colsample_bytree=0.7, subsample=0.6 .............................\n",
      "[CV]  colsample_bytree=0.7, subsample=0.6, score=0.825112, total=   0.0s\n",
      "[CV] colsample_bytree=0.7, subsample=0.6 .............................\n",
      "[CV]  colsample_bytree=0.7, subsample=0.6, score=0.820628, total=   0.0s\n",
      "[CV] colsample_bytree=0.7, subsample=0.6 .............................\n",
      "[CV]  colsample_bytree=0.7, subsample=0.6, score=0.793722, total=   0.1s\n",
      "[CV] colsample_bytree=0.7, subsample=0.6 .............................\n",
      "[CV]  colsample_bytree=0.7, subsample=0.6, score=0.815315, total=   0.0s\n",
      "[CV] colsample_bytree=0.7, subsample=0.7 .............................\n",
      "[CV]  colsample_bytree=0.7, subsample=0.7, score=0.829596, total=   0.0s\n",
      "[CV] colsample_bytree=0.7, subsample=0.7 .............................\n",
      "[CV]  colsample_bytree=0.7, subsample=0.7, score=0.820628, total=   0.0s\n",
      "[CV] colsample_bytree=0.7, subsample=0.7 .............................\n",
      "[CV]  colsample_bytree=0.7, subsample=0.7, score=0.807175, total=   0.0s\n",
      "[CV] colsample_bytree=0.7, subsample=0.7 .............................\n",
      "[CV]  colsample_bytree=0.7, subsample=0.7, score=0.810811, total=   0.1s\n",
      "[CV] colsample_bytree=0.7, subsample=0.8 .............................\n",
      "[CV]  colsample_bytree=0.7, subsample=0.8, score=0.829596, total=   0.0s\n",
      "[CV] colsample_bytree=0.7, subsample=0.8 .............................\n",
      "[CV]  colsample_bytree=0.7, subsample=0.8, score=0.825112, total=   0.0s\n",
      "[CV] colsample_bytree=0.7, subsample=0.8 .............................\n",
      "[CV]  colsample_bytree=0.7, subsample=0.8, score=0.825112, total=   0.0s\n",
      "[CV] colsample_bytree=0.7, subsample=0.8 .............................\n",
      "[CV]  colsample_bytree=0.7, subsample=0.8, score=0.819820, total=   0.0s\n",
      "[CV] colsample_bytree=0.7, subsample=0.9 .............................\n",
      "[CV]  colsample_bytree=0.7, subsample=0.9, score=0.852018, total=   0.0s\n",
      "[CV] colsample_bytree=0.7, subsample=0.9 .............................\n",
      "[CV]  colsample_bytree=0.7, subsample=0.9, score=0.811659, total=   0.0s\n",
      "[CV] colsample_bytree=0.7, subsample=0.9 .............................\n",
      "[CV]  colsample_bytree=0.7, subsample=0.9, score=0.811659, total=   0.0s\n",
      "[CV] colsample_bytree=0.7, subsample=0.9 .............................\n",
      "[CV]  colsample_bytree=0.7, subsample=0.9, score=0.828829, total=   0.0s\n",
      "[CV] colsample_bytree=0.7, subsample=1.0 .............................\n",
      "[CV]  colsample_bytree=0.7, subsample=1.0, score=0.838565, total=   0.0s\n",
      "[CV] colsample_bytree=0.7, subsample=1.0 .............................\n",
      "[CV]  colsample_bytree=0.7, subsample=1.0, score=0.798206, total=   0.0s\n",
      "[CV] colsample_bytree=0.7, subsample=1.0 .............................\n"
     ]
    },
    {
     "name": "stdout",
     "output_type": "stream",
     "text": [
      "[CV]  colsample_bytree=0.7, subsample=1.0, score=0.811659, total=   0.0s\n",
      "[CV] colsample_bytree=0.7, subsample=1.0 .............................\n",
      "[CV]  colsample_bytree=0.7, subsample=1.0, score=0.819820, total=   0.0s\n",
      "[CV] colsample_bytree=0.8, subsample=0.5 .............................\n",
      "[CV]  colsample_bytree=0.8, subsample=0.5, score=0.816143, total=   0.0s\n",
      "[CV] colsample_bytree=0.8, subsample=0.5 .............................\n",
      "[CV]  colsample_bytree=0.8, subsample=0.5, score=0.798206, total=   0.0s\n",
      "[CV] colsample_bytree=0.8, subsample=0.5 .............................\n",
      "[CV]  colsample_bytree=0.8, subsample=0.5, score=0.789238, total=   0.0s\n",
      "[CV] colsample_bytree=0.8, subsample=0.5 .............................\n",
      "[CV]  colsample_bytree=0.8, subsample=0.5, score=0.824324, total=   0.0s\n",
      "[CV] colsample_bytree=0.8, subsample=0.6 .............................\n",
      "[CV]  colsample_bytree=0.8, subsample=0.6, score=0.820628, total=   0.2s\n",
      "[CV] colsample_bytree=0.8, subsample=0.6 .............................\n",
      "[CV]  colsample_bytree=0.8, subsample=0.6, score=0.825112, total=   0.0s\n",
      "[CV] colsample_bytree=0.8, subsample=0.6 .............................\n",
      "[CV]  colsample_bytree=0.8, subsample=0.6, score=0.802691, total=   0.0s\n",
      "[CV] colsample_bytree=0.8, subsample=0.6 .............................\n",
      "[CV]  colsample_bytree=0.8, subsample=0.6, score=0.819820, total=   0.0s\n",
      "[CV] colsample_bytree=0.8, subsample=0.7 .............................\n",
      "[CV]  colsample_bytree=0.8, subsample=0.7, score=0.820628, total=   0.0s\n",
      "[CV] colsample_bytree=0.8, subsample=0.7 .............................\n",
      "[CV]  colsample_bytree=0.8, subsample=0.7, score=0.825112, total=   0.0s\n",
      "[CV] colsample_bytree=0.8, subsample=0.7 .............................\n",
      "[CV]  colsample_bytree=0.8, subsample=0.7, score=0.807175, total=   0.0s\n",
      "[CV] colsample_bytree=0.8, subsample=0.7 .............................\n",
      "[CV]  colsample_bytree=0.8, subsample=0.7, score=0.819820, total=   0.0s\n",
      "[CV] colsample_bytree=0.8, subsample=0.8 .............................\n",
      "[CV]  colsample_bytree=0.8, subsample=0.8, score=0.838565, total=   0.0s\n",
      "[CV] colsample_bytree=0.8, subsample=0.8 .............................\n",
      "[CV]  colsample_bytree=0.8, subsample=0.8, score=0.807175, total=   0.0s\n",
      "[CV] colsample_bytree=0.8, subsample=0.8 .............................\n",
      "[CV]  colsample_bytree=0.8, subsample=0.8, score=0.816143, total=   0.0s\n",
      "[CV] colsample_bytree=0.8, subsample=0.8 .............................\n",
      "[CV]  colsample_bytree=0.8, subsample=0.8, score=0.828829, total=   0.0s\n",
      "[CV] colsample_bytree=0.8, subsample=0.9 .............................\n",
      "[CV]  colsample_bytree=0.8, subsample=0.9, score=0.847534, total=   0.0s\n",
      "[CV] colsample_bytree=0.8, subsample=0.9 .............................\n",
      "[CV]  colsample_bytree=0.8, subsample=0.9, score=0.825112, total=   0.0s\n",
      "[CV] colsample_bytree=0.8, subsample=0.9 .............................\n",
      "[CV]  colsample_bytree=0.8, subsample=0.9, score=0.820628, total=   0.0s\n",
      "[CV] colsample_bytree=0.8, subsample=0.9 .............................\n",
      "[CV]  colsample_bytree=0.8, subsample=0.9, score=0.824324, total=   0.0s\n",
      "[CV] colsample_bytree=0.8, subsample=1.0 .............................\n",
      "[CV]  colsample_bytree=0.8, subsample=1.0, score=0.829596, total=   0.1s\n",
      "[CV] colsample_bytree=0.8, subsample=1.0 .............................\n",
      "[CV]  colsample_bytree=0.8, subsample=1.0, score=0.798206, total=   0.0s\n",
      "[CV] colsample_bytree=0.8, subsample=1.0 .............................\n",
      "[CV]  colsample_bytree=0.8, subsample=1.0, score=0.829596, total=   0.0s\n",
      "[CV] colsample_bytree=0.8, subsample=1.0 .............................\n",
      "[CV]  colsample_bytree=0.8, subsample=1.0, score=0.815315, total=   0.0s\n",
      "[CV] colsample_bytree=0.9, subsample=0.5 .............................\n",
      "[CV]  colsample_bytree=0.9, subsample=0.5, score=0.816143, total=   0.0s\n",
      "[CV] colsample_bytree=0.9, subsample=0.5 .............................\n",
      "[CV]  colsample_bytree=0.9, subsample=0.5, score=0.793722, total=   0.0s\n",
      "[CV] colsample_bytree=0.9, subsample=0.5 .............................\n",
      "[CV]  colsample_bytree=0.9, subsample=0.5, score=0.793722, total=   0.0s\n",
      "[CV] colsample_bytree=0.9, subsample=0.5 .............................\n",
      "[CV]  colsample_bytree=0.9, subsample=0.5, score=0.819820, total=   0.0s\n",
      "[CV] colsample_bytree=0.9, subsample=0.6 .............................\n",
      "[CV]  colsample_bytree=0.9, subsample=0.6, score=0.816143, total=   0.0s\n",
      "[CV] colsample_bytree=0.9, subsample=0.6 .............................\n",
      "[CV]  colsample_bytree=0.9, subsample=0.6, score=0.816143, total=   0.0s\n",
      "[CV] colsample_bytree=0.9, subsample=0.6 .............................\n",
      "[CV]  colsample_bytree=0.9, subsample=0.6, score=0.807175, total=   0.0s\n",
      "[CV] colsample_bytree=0.9, subsample=0.6 .............................\n",
      "[CV]  colsample_bytree=0.9, subsample=0.6, score=0.824324, total=   0.0s\n",
      "[CV] colsample_bytree=0.9, subsample=0.7 .............................\n",
      "[CV]  colsample_bytree=0.9, subsample=0.7, score=0.838565, total=   0.0s\n",
      "[CV] colsample_bytree=0.9, subsample=0.7 .............................\n",
      "[CV]  colsample_bytree=0.9, subsample=0.7, score=0.807175, total=   0.0s\n",
      "[CV] colsample_bytree=0.9, subsample=0.7 .............................\n",
      "[CV]  colsample_bytree=0.9, subsample=0.7, score=0.802691, total=   0.0s\n",
      "[CV] colsample_bytree=0.9, subsample=0.7 .............................\n",
      "[CV]  colsample_bytree=0.9, subsample=0.7, score=0.828829, total=   0.0s\n",
      "[CV] colsample_bytree=0.9, subsample=0.8 .............................\n",
      "[CV]  colsample_bytree=0.9, subsample=0.8, score=0.843049, total=   0.0s\n",
      "[CV] colsample_bytree=0.9, subsample=0.8 .............................\n",
      "[CV]  colsample_bytree=0.9, subsample=0.8, score=0.802691, total=   0.0s\n",
      "[CV] colsample_bytree=0.9, subsample=0.8 .............................\n",
      "[CV]  colsample_bytree=0.9, subsample=0.8, score=0.829596, total=   0.0s\n",
      "[CV] colsample_bytree=0.9, subsample=0.8 .............................\n",
      "[CV]  colsample_bytree=0.9, subsample=0.8, score=0.833333, total=   0.0s\n",
      "[CV] colsample_bytree=0.9, subsample=0.9 .............................\n",
      "[CV]  colsample_bytree=0.9, subsample=0.9, score=0.852018, total=   0.0s\n",
      "[CV] colsample_bytree=0.9, subsample=0.9 .............................\n",
      "[CV]  colsample_bytree=0.9, subsample=0.9, score=0.816143, total=   0.0s\n",
      "[CV] colsample_bytree=0.9, subsample=0.9 .............................\n",
      "[CV]  colsample_bytree=0.9, subsample=0.9, score=0.820628, total=   0.0s\n",
      "[CV] colsample_bytree=0.9, subsample=0.9 .............................\n",
      "[CV]  colsample_bytree=0.9, subsample=0.9, score=0.824324, total=   0.0s\n",
      "[CV] colsample_bytree=0.9, subsample=1.0 .............................\n",
      "[CV]  colsample_bytree=0.9, subsample=1.0, score=0.829596, total=   0.0s\n",
      "[CV] colsample_bytree=0.9, subsample=1.0 .............................\n",
      "[CV]  colsample_bytree=0.9, subsample=1.0, score=0.793722, total=   0.0s\n",
      "[CV] colsample_bytree=0.9, subsample=1.0 .............................\n",
      "[CV]  colsample_bytree=0.9, subsample=1.0, score=0.820628, total=   0.0s\n",
      "[CV] colsample_bytree=0.9, subsample=1.0 .............................\n",
      "[CV]  colsample_bytree=0.9, subsample=1.0, score=0.815315, total=   0.0s\n",
      "[CV] colsample_bytree=1.0, subsample=0.5 .............................\n",
      "[CV]  colsample_bytree=1.0, subsample=0.5, score=0.816143, total=   0.0s\n",
      "[CV] colsample_bytree=1.0, subsample=0.5 .............................\n",
      "[CV]  colsample_bytree=1.0, subsample=0.5, score=0.816143, total=   0.0s\n",
      "[CV] colsample_bytree=1.0, subsample=0.5 .............................\n",
      "[CV]  colsample_bytree=1.0, subsample=0.5, score=0.798206, total=   0.0s\n",
      "[CV] colsample_bytree=1.0, subsample=0.5 .............................\n",
      "[CV]  colsample_bytree=1.0, subsample=0.5, score=0.815315, total=   0.0s\n",
      "[CV] colsample_bytree=1.0, subsample=0.6 .............................\n",
      "[CV]  colsample_bytree=1.0, subsample=0.6, score=0.825112, total=   0.0s\n",
      "[CV] colsample_bytree=1.0, subsample=0.6 .............................\n",
      "[CV]  colsample_bytree=1.0, subsample=0.6, score=0.829596, total=   0.0s\n",
      "[CV] colsample_bytree=1.0, subsample=0.6 .............................\n",
      "[CV]  colsample_bytree=1.0, subsample=0.6, score=0.802691, total=   0.0s\n",
      "[CV] colsample_bytree=1.0, subsample=0.6 .............................\n",
      "[CV]  colsample_bytree=1.0, subsample=0.6, score=0.824324, total=   0.0s\n",
      "[CV] colsample_bytree=1.0, subsample=0.7 .............................\n",
      "[CV]  colsample_bytree=1.0, subsample=0.7, score=0.834081, total=   0.0s\n",
      "[CV] colsample_bytree=1.0, subsample=0.7 .............................\n",
      "[CV]  colsample_bytree=1.0, subsample=0.7, score=0.811659, total=   0.0s\n",
      "[CV] colsample_bytree=1.0, subsample=0.7 .............................\n"
     ]
    },
    {
     "name": "stdout",
     "output_type": "stream",
     "text": [
      "[CV]  colsample_bytree=1.0, subsample=0.7, score=0.807175, total=   0.0s\n",
      "[CV] colsample_bytree=1.0, subsample=0.7 .............................\n",
      "[CV]  colsample_bytree=1.0, subsample=0.7, score=0.824324, total=   0.0s\n",
      "[CV] colsample_bytree=1.0, subsample=0.8 .............................\n",
      "[CV]  colsample_bytree=1.0, subsample=0.8, score=0.847534, total=   0.0s\n",
      "[CV] colsample_bytree=1.0, subsample=0.8 .............................\n",
      "[CV]  colsample_bytree=1.0, subsample=0.8, score=0.820628, total=   0.0s\n",
      "[CV] colsample_bytree=1.0, subsample=0.8 .............................\n",
      "[CV]  colsample_bytree=1.0, subsample=0.8, score=0.829596, total=   0.0s\n",
      "[CV] colsample_bytree=1.0, subsample=0.8 .............................\n",
      "[CV]  colsample_bytree=1.0, subsample=0.8, score=0.824324, total=   0.0s\n",
      "[CV] colsample_bytree=1.0, subsample=0.9 .............................\n",
      "[CV]  colsample_bytree=1.0, subsample=0.9, score=0.852018, total=   0.0s\n",
      "[CV] colsample_bytree=1.0, subsample=0.9 .............................\n",
      "[CV]  colsample_bytree=1.0, subsample=0.9, score=0.811659, total=   0.0s\n",
      "[CV] colsample_bytree=1.0, subsample=0.9 .............................\n",
      "[CV]  colsample_bytree=1.0, subsample=0.9, score=0.816143, total=   0.0s\n",
      "[CV] colsample_bytree=1.0, subsample=0.9 .............................\n",
      "[CV]  colsample_bytree=1.0, subsample=0.9, score=0.824324, total=   0.0s\n",
      "[CV] colsample_bytree=1.0, subsample=1.0 .............................\n",
      "[CV]  colsample_bytree=1.0, subsample=1.0, score=0.834081, total=   0.0s\n",
      "[CV] colsample_bytree=1.0, subsample=1.0 .............................\n",
      "[CV]  colsample_bytree=1.0, subsample=1.0, score=0.789238, total=   0.0s\n",
      "[CV] colsample_bytree=1.0, subsample=1.0 .............................\n",
      "[CV]  colsample_bytree=1.0, subsample=1.0, score=0.816143, total=   0.0s\n",
      "[CV] colsample_bytree=1.0, subsample=1.0 .............................\n",
      "[CV]  colsample_bytree=1.0, subsample=1.0, score=0.815315, total=   0.0s\n",
      "Best score (ACC):  0.830527497194\n",
      "Best params: \n"
     ]
    },
    {
     "name": "stderr",
     "output_type": "stream",
     "text": [
      "[Parallel(n_jobs=1)]: Done 144 out of 144 | elapsed:    4.3s finished\n"
     ]
    },
    {
     "data": {
      "text/plain": [
       "{'base_score': 0.5,\n",
       " 'colsample_bylevel': 1,\n",
       " 'colsample_bytree': 1.0,\n",
       " 'gamma': 0.0,\n",
       " 'learning_rate': 0.1,\n",
       " 'max_delta_step': 0,\n",
       " 'max_depth': 5,\n",
       " 'min_child_weight': 3,\n",
       " 'missing': None,\n",
       " 'n_estimators': 30,\n",
       " 'nthread': -1,\n",
       " 'objective': 'binary:logistic',\n",
       " 'reg_alpha': 0.0,\n",
       " 'reg_lambda': 1.0,\n",
       " 'scale_pos_weight': 0.6229508196721312,\n",
       " 'seed': 0,\n",
       " 'silent': True,\n",
       " 'subsample': 0.8}"
      ]
     },
     "execution_count": 448,
     "metadata": {},
     "output_type": "execute_result"
    }
   ],
   "source": [
    "param_grid = {\n",
    "    'subsample': [0.5 + 0.1*i for i in range(6)],\n",
    "    'colsample_bytree': [0.5 + 0.1*i for i in range(6)]\n",
    "}\n",
    "\n",
    "clf = XGBClassifier(**best_params)\n",
    "\n",
    "gs = GridSearchCV(clf, param_grid, scoring='accuracy', cv=cv, verbose=5)\n",
    "\n",
    "gs.fit(X_train, y_train)\n",
    "best_params = gs.best_estimator_.get_params()\n",
    "print('Best score (ACC): ', gs.best_score_)\n",
    "print('Best params: ')\n",
    "best_params"
   ]
  },
  {
   "cell_type": "code",
   "execution_count": 449,
   "metadata": {},
   "outputs": [
    {
     "name": "stdout",
     "output_type": "stream",
     "text": [
      "Fitting 4 folds for each of 25 candidates, totalling 100 fits\n",
      "[CV] reg_alpha=1e-05, reg_lambda=1e-05 ...............................\n",
      "[CV]  reg_alpha=1e-05, reg_lambda=1e-05, score=0.847534, total=   0.0s\n",
      "[CV] reg_alpha=1e-05, reg_lambda=1e-05 ...............................\n",
      "[CV]  reg_alpha=1e-05, reg_lambda=1e-05, score=0.798206, total=   0.0s\n",
      "[CV] reg_alpha=1e-05, reg_lambda=1e-05 ..............................."
     ]
    },
    {
     "name": "stderr",
     "output_type": "stream",
     "text": [
      "[Parallel(n_jobs=1)]: Done   1 out of   1 | elapsed:    0.0s remaining:    0.0s\n",
      "[Parallel(n_jobs=1)]: Done   2 out of   2 | elapsed:    0.0s remaining:    0.0s\n"
     ]
    },
    {
     "name": "stdout",
     "output_type": "stream",
     "text": [
      "\n",
      "[CV]  reg_alpha=1e-05, reg_lambda=1e-05, score=0.811659, total=   0.1s\n",
      "[CV] reg_alpha=1e-05, reg_lambda=1e-05 ...............................\n",
      "[CV]  reg_alpha=1e-05, reg_lambda=1e-05, score=0.801802, total=   0.0s\n",
      "[CV] reg_alpha=1e-05, reg_lambda=0.01 ................................\n",
      "[CV] . reg_alpha=1e-05, reg_lambda=0.01, score=0.847534, total=   0.0s\n",
      "[CV] reg_alpha=1e-05, reg_lambda=0.01 ................................\n",
      "[CV] . reg_alpha=1e-05, reg_lambda=0.01, score=0.798206, total=   0.0s\n",
      "[CV] reg_alpha=1e-05, reg_lambda=0.01 ................................\n",
      "[CV] . reg_alpha=1e-05, reg_lambda=0.01, score=0.793722, total=   0.0s\n",
      "[CV] reg_alpha=1e-05, reg_lambda=0.01 ................................\n",
      "[CV] . reg_alpha=1e-05, reg_lambda=0.01, score=0.806306, total=   0.0s\n",
      "[CV] reg_alpha=1e-05, reg_lambda=0.1 .................................\n",
      "[CV] .. reg_alpha=1e-05, reg_lambda=0.1, score=0.852018, total=   0.0s\n",
      "[CV] reg_alpha=1e-05, reg_lambda=0.1 .................................\n",
      "[CV] .. reg_alpha=1e-05, reg_lambda=0.1, score=0.802691, total=   0.0s\n",
      "[CV] reg_alpha=1e-05, reg_lambda=0.1 .................................\n",
      "[CV] .. reg_alpha=1e-05, reg_lambda=0.1, score=0.811659, total=   0.0s\n",
      "[CV] reg_alpha=1e-05, reg_lambda=0.1 .................................\n"
     ]
    },
    {
     "name": "stderr",
     "output_type": "stream",
     "text": [
      "[Parallel(n_jobs=1)]: Done   3 out of   3 | elapsed:    0.2s remaining:    0.0s\n",
      "[Parallel(n_jobs=1)]: Done   4 out of   4 | elapsed:    0.2s remaining:    0.0s\n"
     ]
    },
    {
     "name": "stdout",
     "output_type": "stream",
     "text": [
      "[CV] .. reg_alpha=1e-05, reg_lambda=0.1, score=0.801802, total=   0.0s\n",
      "[CV] reg_alpha=1e-05, reg_lambda=1 ...................................\n",
      "[CV] .... reg_alpha=1e-05, reg_lambda=1, score=0.843049, total=   0.0s\n",
      "[CV] reg_alpha=1e-05, reg_lambda=1 ...................................\n",
      "[CV] .... reg_alpha=1e-05, reg_lambda=1, score=0.802691, total=   0.0s\n",
      "[CV] reg_alpha=1e-05, reg_lambda=1 ...................................\n",
      "[CV] .... reg_alpha=1e-05, reg_lambda=1, score=0.811659, total=   0.0s\n",
      "[CV] reg_alpha=1e-05, reg_lambda=1 ...................................\n",
      "[CV] .... reg_alpha=1e-05, reg_lambda=1, score=0.774775, total=   0.0s\n",
      "[CV] reg_alpha=1e-05, reg_lambda=100 .................................\n",
      "[CV] .. reg_alpha=1e-05, reg_lambda=100, score=0.820628, total=   0.0s\n",
      "[CV] reg_alpha=1e-05, reg_lambda=100 .................................\n",
      "[CV] .. reg_alpha=1e-05, reg_lambda=100, score=0.798206, total=   0.0s\n",
      "[CV] reg_alpha=1e-05, reg_lambda=100 .................................\n",
      "[CV] .. reg_alpha=1e-05, reg_lambda=100, score=0.793722, total=   0.0s\n",
      "[CV] reg_alpha=1e-05, reg_lambda=100 .................................\n",
      "[CV] .. reg_alpha=1e-05, reg_lambda=100, score=0.779279, total=   0.0s\n",
      "[CV] reg_alpha=0.01, reg_lambda=1e-05 ................................\n",
      "[CV] . reg_alpha=0.01, reg_lambda=1e-05, score=0.847534, total=   0.0s\n",
      "[CV] reg_alpha=0.01, reg_lambda=1e-05 ................................\n",
      "[CV] . reg_alpha=0.01, reg_lambda=1e-05, score=0.798206, total=   0.0s\n",
      "[CV] reg_alpha=0.01, reg_lambda=1e-05 ................................\n",
      "[CV] . reg_alpha=0.01, reg_lambda=1e-05, score=0.793722, total=   0.0s\n",
      "[CV] reg_alpha=0.01, reg_lambda=1e-05 ................................\n",
      "[CV] . reg_alpha=0.01, reg_lambda=1e-05, score=0.801802, total=   0.0s\n",
      "[CV] reg_alpha=0.01, reg_lambda=0.01 .................................\n",
      "[CV] .. reg_alpha=0.01, reg_lambda=0.01, score=0.847534, total=   0.0s\n",
      "[CV] reg_alpha=0.01, reg_lambda=0.01 .................................\n",
      "[CV] .. reg_alpha=0.01, reg_lambda=0.01, score=0.798206, total=   0.0s\n",
      "[CV] reg_alpha=0.01, reg_lambda=0.01 .................................\n",
      "[CV] .. reg_alpha=0.01, reg_lambda=0.01, score=0.802691, total=   0.0s\n",
      "[CV] reg_alpha=0.01, reg_lambda=0.01 .................................\n",
      "[CV] .. reg_alpha=0.01, reg_lambda=0.01, score=0.801802, total=   0.0s\n",
      "[CV] reg_alpha=0.01, reg_lambda=0.1 ..................................\n",
      "[CV] ... reg_alpha=0.01, reg_lambda=0.1, score=0.847534, total=   0.0s\n",
      "[CV] reg_alpha=0.01, reg_lambda=0.1 ..................................\n",
      "[CV] ... reg_alpha=0.01, reg_lambda=0.1, score=0.807175, total=   0.0s\n",
      "[CV] reg_alpha=0.01, reg_lambda=0.1 ..................................\n",
      "[CV] ... reg_alpha=0.01, reg_lambda=0.1, score=0.811659, total=   0.0s\n",
      "[CV] reg_alpha=0.01, reg_lambda=0.1 ..................................\n",
      "[CV] ... reg_alpha=0.01, reg_lambda=0.1, score=0.788288, total=   0.0s\n",
      "[CV] reg_alpha=0.01, reg_lambda=1 ....................................\n",
      "[CV] ..... reg_alpha=0.01, reg_lambda=1, score=0.847534, total=   0.0s\n",
      "[CV] reg_alpha=0.01, reg_lambda=1 ....................................\n",
      "[CV] ..... reg_alpha=0.01, reg_lambda=1, score=0.802691, total=   0.0s\n",
      "[CV] reg_alpha=0.01, reg_lambda=1 ....................................\n",
      "[CV] ..... reg_alpha=0.01, reg_lambda=1, score=0.811659, total=   0.0s\n",
      "[CV] reg_alpha=0.01, reg_lambda=1 ....................................\n",
      "[CV] ..... reg_alpha=0.01, reg_lambda=1, score=0.792793, total=   0.0s\n",
      "[CV] reg_alpha=0.01, reg_lambda=100 ..................................\n",
      "[CV] ... reg_alpha=0.01, reg_lambda=100, score=0.820628, total=   0.0s\n",
      "[CV] reg_alpha=0.01, reg_lambda=100 ..................................\n",
      "[CV] ... reg_alpha=0.01, reg_lambda=100, score=0.798206, total=   0.0s\n",
      "[CV] reg_alpha=0.01, reg_lambda=100 ..................................\n",
      "[CV] ... reg_alpha=0.01, reg_lambda=100, score=0.793722, total=   0.0s\n",
      "[CV] reg_alpha=0.01, reg_lambda=100 ..................................\n",
      "[CV] ... reg_alpha=0.01, reg_lambda=100, score=0.779279, total=   0.0s\n",
      "[CV] reg_alpha=0.1, reg_lambda=1e-05 .................................\n",
      "[CV] .. reg_alpha=0.1, reg_lambda=1e-05, score=0.852018, total=   0.0s\n",
      "[CV] reg_alpha=0.1, reg_lambda=1e-05 .................................\n",
      "[CV] .. reg_alpha=0.1, reg_lambda=1e-05, score=0.807175, total=   0.0s\n",
      "[CV] reg_alpha=0.1, reg_lambda=1e-05 .................................\n",
      "[CV] .. reg_alpha=0.1, reg_lambda=1e-05, score=0.802691, total=   0.0s\n",
      "[CV] reg_alpha=0.1, reg_lambda=1e-05 .................................\n",
      "[CV] .. reg_alpha=0.1, reg_lambda=1e-05, score=0.801802, total=   0.0s\n",
      "[CV] reg_alpha=0.1, reg_lambda=0.01 ..................................\n",
      "[CV] ... reg_alpha=0.1, reg_lambda=0.01, score=0.852018, total=   0.0s\n",
      "[CV] reg_alpha=0.1, reg_lambda=0.01 ..................................\n",
      "[CV] ... reg_alpha=0.1, reg_lambda=0.01, score=0.807175, total=   0.0s\n",
      "[CV] reg_alpha=0.1, reg_lambda=0.01 ..................................\n",
      "[CV] ... reg_alpha=0.1, reg_lambda=0.01, score=0.811659, total=   0.0s\n",
      "[CV] reg_alpha=0.1, reg_lambda=0.01 ..................................\n",
      "[CV] ... reg_alpha=0.1, reg_lambda=0.01, score=0.810811, total=   0.0s\n",
      "[CV] reg_alpha=0.1, reg_lambda=0.1 ...................................\n",
      "[CV] .... reg_alpha=0.1, reg_lambda=0.1, score=0.847534, total=   0.0s\n",
      "[CV] reg_alpha=0.1, reg_lambda=0.1 ...................................\n",
      "[CV] .... reg_alpha=0.1, reg_lambda=0.1, score=0.798206, total=   0.0s\n",
      "[CV] reg_alpha=0.1, reg_lambda=0.1 ...................................\n",
      "[CV] .... reg_alpha=0.1, reg_lambda=0.1, score=0.811659, total=   0.0s\n",
      "[CV] reg_alpha=0.1, reg_lambda=0.1 ...................................\n",
      "[CV] .... reg_alpha=0.1, reg_lambda=0.1, score=0.788288, total=   0.0s\n",
      "[CV] reg_alpha=0.1, reg_lambda=1 .....................................\n",
      "[CV] ...... reg_alpha=0.1, reg_lambda=1, score=0.847534, total=   0.0s\n",
      "[CV] reg_alpha=0.1, reg_lambda=1 .....................................\n",
      "[CV] ...... reg_alpha=0.1, reg_lambda=1, score=0.802691, total=   0.0s\n",
      "[CV] reg_alpha=0.1, reg_lambda=1 .....................................\n",
      "[CV] ...... reg_alpha=0.1, reg_lambda=1, score=0.811659, total=   0.0s\n",
      "[CV] reg_alpha=0.1, reg_lambda=1 .....................................\n",
      "[CV] ...... reg_alpha=0.1, reg_lambda=1, score=0.783784, total=   0.0s\n",
      "[CV] reg_alpha=0.1, reg_lambda=100 ...................................\n",
      "[CV] .... reg_alpha=0.1, reg_lambda=100, score=0.820628, total=   0.0s\n",
      "[CV] reg_alpha=0.1, reg_lambda=100 ...................................\n",
      "[CV] .... reg_alpha=0.1, reg_lambda=100, score=0.798206, total=   0.0s\n",
      "[CV] reg_alpha=0.1, reg_lambda=100 ...................................\n",
      "[CV] .... reg_alpha=0.1, reg_lambda=100, score=0.793722, total=   0.0s\n",
      "[CV] reg_alpha=0.1, reg_lambda=100 ...................................\n",
      "[CV] .... reg_alpha=0.1, reg_lambda=100, score=0.779279, total=   0.0s\n",
      "[CV] reg_alpha=1, reg_lambda=1e-05 ...................................\n",
      "[CV] .... reg_alpha=1, reg_lambda=1e-05, score=0.843049, total=   0.0s\n",
      "[CV] reg_alpha=1, reg_lambda=1e-05 ...................................\n",
      "[CV] .... reg_alpha=1, reg_lambda=1e-05, score=0.802691, total=   0.0s\n",
      "[CV] reg_alpha=1, reg_lambda=1e-05 ...................................\n",
      "[CV] .... reg_alpha=1, reg_lambda=1e-05, score=0.807175, total=   0.0s\n",
      "[CV] reg_alpha=1, reg_lambda=1e-05 ...................................\n",
      "[CV] .... reg_alpha=1, reg_lambda=1e-05, score=0.779279, total=   0.0s\n",
      "[CV] reg_alpha=1, reg_lambda=0.01 ....................................\n",
      "[CV] ..... reg_alpha=1, reg_lambda=0.01, score=0.843049, total=   0.0s\n",
      "[CV] reg_alpha=1, reg_lambda=0.01 ....................................\n",
      "[CV] ..... reg_alpha=1, reg_lambda=0.01, score=0.802691, total=   0.0s\n",
      "[CV] reg_alpha=1, reg_lambda=0.01 ....................................\n",
      "[CV] ..... reg_alpha=1, reg_lambda=0.01, score=0.807175, total=   0.0s\n",
      "[CV] reg_alpha=1, reg_lambda=0.01 ....................................\n",
      "[CV] ..... reg_alpha=1, reg_lambda=0.01, score=0.779279, total=   0.0s\n",
      "[CV] reg_alpha=1, reg_lambda=0.1 .....................................\n",
      "[CV] ...... reg_alpha=1, reg_lambda=0.1, score=0.838565, total=   0.0s\n",
      "[CV] reg_alpha=1, reg_lambda=0.1 .....................................\n",
      "[CV] ...... reg_alpha=1, reg_lambda=0.1, score=0.807175, total=   0.0s\n",
      "[CV] reg_alpha=1, reg_lambda=0.1 .....................................\n",
      "[CV] ...... reg_alpha=1, reg_lambda=0.1, score=0.811659, total=   0.0s\n",
      "[CV] reg_alpha=1, reg_lambda=0.1 .....................................\n",
      "[CV] ...... reg_alpha=1, reg_lambda=0.1, score=0.783784, total=   0.0s\n",
      "[CV] reg_alpha=1, reg_lambda=1 .......................................\n",
      "[CV] ........ reg_alpha=1, reg_lambda=1, score=0.838565, total=   0.0s\n",
      "[CV] reg_alpha=1, reg_lambda=1 .......................................\n",
      "[CV] ........ reg_alpha=1, reg_lambda=1, score=0.802691, total=   0.0s\n",
      "[CV] reg_alpha=1, reg_lambda=1 .......................................\n",
      "[CV] ........ reg_alpha=1, reg_lambda=1, score=0.802691, total=   0.0s\n",
      "[CV] reg_alpha=1, reg_lambda=1 .......................................\n",
      "[CV] ........ reg_alpha=1, reg_lambda=1, score=0.792793, total=   0.0s\n",
      "[CV] reg_alpha=1, reg_lambda=100 .....................................\n",
      "[CV] ...... reg_alpha=1, reg_lambda=100, score=0.820628, total=   0.0s\n",
      "[CV] reg_alpha=1, reg_lambda=100 .....................................\n"
     ]
    },
    {
     "name": "stdout",
     "output_type": "stream",
     "text": [
      "[CV] ...... reg_alpha=1, reg_lambda=100, score=0.798206, total=   0.0s\n",
      "[CV] reg_alpha=1, reg_lambda=100 .....................................\n",
      "[CV] ...... reg_alpha=1, reg_lambda=100, score=0.793722, total=   0.0s\n",
      "[CV] reg_alpha=1, reg_lambda=100 .....................................\n",
      "[CV] ...... reg_alpha=1, reg_lambda=100, score=0.783784, total=   0.0s\n",
      "[CV] reg_alpha=100, reg_lambda=1e-05 .................................\n",
      "[CV] .. reg_alpha=100, reg_lambda=1e-05, score=0.636771, total=   0.0s\n",
      "[CV] reg_alpha=100, reg_lambda=1e-05 .................................\n",
      "[CV] .. reg_alpha=100, reg_lambda=1e-05, score=0.614350, total=   0.0s\n",
      "[CV] reg_alpha=100, reg_lambda=1e-05 .................................\n",
      "[CV] .. reg_alpha=100, reg_lambda=1e-05, score=0.565022, total=   0.0s\n",
      "[CV] reg_alpha=100, reg_lambda=1e-05 .................................\n",
      "[CV] .. reg_alpha=100, reg_lambda=1e-05, score=0.648649, total=   0.0s\n",
      "[CV] reg_alpha=100, reg_lambda=0.01 ..................................\n",
      "[CV] ... reg_alpha=100, reg_lambda=0.01, score=0.636771, total=   0.0s\n",
      "[CV] reg_alpha=100, reg_lambda=0.01 ..................................\n",
      "[CV] ... reg_alpha=100, reg_lambda=0.01, score=0.614350, total=   0.1s\n",
      "[CV] reg_alpha=100, reg_lambda=0.01 ..................................\n",
      "[CV] ... reg_alpha=100, reg_lambda=0.01, score=0.565022, total=   0.0s\n",
      "[CV] reg_alpha=100, reg_lambda=0.01 ..................................\n",
      "[CV] ... reg_alpha=100, reg_lambda=0.01, score=0.648649, total=   0.0s\n",
      "[CV] reg_alpha=100, reg_lambda=0.1 ...................................\n",
      "[CV] .... reg_alpha=100, reg_lambda=0.1, score=0.636771, total=   0.0s\n",
      "[CV] reg_alpha=100, reg_lambda=0.1 ...................................\n",
      "[CV] .... reg_alpha=100, reg_lambda=0.1, score=0.614350, total=   0.0s\n",
      "[CV] reg_alpha=100, reg_lambda=0.1 ...................................\n",
      "[CV] .... reg_alpha=100, reg_lambda=0.1, score=0.565022, total=   0.0s\n",
      "[CV] reg_alpha=100, reg_lambda=0.1 ...................................\n",
      "[CV] .... reg_alpha=100, reg_lambda=0.1, score=0.648649, total=   0.0s\n",
      "[CV] reg_alpha=100, reg_lambda=1 .....................................\n",
      "[CV] ...... reg_alpha=100, reg_lambda=1, score=0.636771, total=   0.0s\n",
      "[CV] reg_alpha=100, reg_lambda=1 .....................................\n",
      "[CV] ...... reg_alpha=100, reg_lambda=1, score=0.614350, total=   0.0s\n",
      "[CV] reg_alpha=100, reg_lambda=1 .....................................\n",
      "[CV] ...... reg_alpha=100, reg_lambda=1, score=0.565022, total=   0.0s\n",
      "[CV] reg_alpha=100, reg_lambda=1 .....................................\n",
      "[CV] ...... reg_alpha=100, reg_lambda=1, score=0.648649, total=   0.0s\n",
      "[CV] reg_alpha=100, reg_lambda=100 ...................................\n",
      "[CV] .... reg_alpha=100, reg_lambda=100, score=0.636771, total=   0.0s\n",
      "[CV] reg_alpha=100, reg_lambda=100 ...................................\n",
      "[CV] .... reg_alpha=100, reg_lambda=100, score=0.614350, total=   0.0s\n",
      "[CV] reg_alpha=100, reg_lambda=100 ...................................\n",
      "[CV] .... reg_alpha=100, reg_lambda=100, score=0.565022, total=   0.0s\n",
      "[CV] reg_alpha=100, reg_lambda=100 ...................................\n",
      "[CV] .... reg_alpha=100, reg_lambda=100, score=0.648649, total=   0.0s\n",
      "Best score (ACC):  0.820426487093\n",
      "Best params: \n"
     ]
    },
    {
     "name": "stderr",
     "output_type": "stream",
     "text": [
      "[Parallel(n_jobs=1)]: Done 100 out of 100 | elapsed:    3.6s finished\n"
     ]
    },
    {
     "data": {
      "text/plain": [
       "{'base_score': 0.5,\n",
       " 'colsample_bylevel': 1,\n",
       " 'colsample_bytree': 1.0,\n",
       " 'gamma': 0.0,\n",
       " 'learning_rate': 0.1,\n",
       " 'max_delta_step': 0,\n",
       " 'max_depth': 5,\n",
       " 'min_child_weight': 3,\n",
       " 'missing': None,\n",
       " 'n_estimators': 30,\n",
       " 'nthread': -1,\n",
       " 'objective': 'binary:logistic',\n",
       " 'reg_alpha': 0.1,\n",
       " 'reg_lambda': 0.01,\n",
       " 'scale_pos_weight': 0.6229508196721312,\n",
       " 'seed': 0,\n",
       " 'silent': True,\n",
       " 'subsample': 0.8}"
      ]
     },
     "execution_count": 449,
     "metadata": {},
     "output_type": "execute_result"
    }
   ],
   "source": [
    "param_grid = {\n",
    "    'reg_alpha': [1e-5, 1e-2, 0.1, 1, 100],\n",
    "    'reg_lambda': [1e-5, 1e-2, 0.1, 1, 100]\n",
    "}\n",
    "\n",
    "clf = XGBClassifier(**best_params)\n",
    "\n",
    "gs = GridSearchCV(clf, param_grid, scoring='accuracy', cv=cv, verbose=5)\n",
    "\n",
    "gs.fit(X_train, y_train)\n",
    "best_params = gs.best_estimator_.get_params()\n",
    "print('Best score (ACC): ', gs.best_score_)\n",
    "print('Best params: ')\n",
    "best_params"
   ]
  },
  {
   "cell_type": "code",
   "execution_count": 450,
   "metadata": {},
   "outputs": [
    {
     "name": "stdout",
     "output_type": "stream",
     "text": [
      "Best score (AUC):  0.824910111906\n",
      "Best params: \n"
     ]
    },
    {
     "data": {
      "text/plain": [
       "{'base_score': 0.5,\n",
       " 'colsample_bylevel': 1,\n",
       " 'colsample_bytree': 1.0,\n",
       " 'gamma': 0.0,\n",
       " 'learning_rate': 0.005,\n",
       " 'max_delta_step': 0,\n",
       " 'max_depth': 5,\n",
       " 'min_child_weight': 3,\n",
       " 'missing': None,\n",
       " 'n_estimators': 600,\n",
       " 'nthread': -1,\n",
       " 'objective': 'binary:logistic',\n",
       " 'reg_alpha': 0.1,\n",
       " 'reg_lambda': 0.01,\n",
       " 'scale_pos_weight': 0.6229508196721312,\n",
       " 'seed': 0,\n",
       " 'silent': True,\n",
       " 'subsample': 0.8}"
      ]
     },
     "execution_count": 450,
     "metadata": {},
     "output_type": "execute_result"
    }
   ],
   "source": [
    "import numpy as np\n",
    "from sklearn.metrics import accuracy_score\n",
    "\n",
    "clf = XGBClassifier(**best_params)\n",
    "best_n_estimators = clf.get_params()['n_estimators'] # возьмём наилучшие значения n_estimators с предыдущего шага\n",
    "best_learning_rate = best_params['learning_rate'] # аналогичная запись\n",
    "invariant_composition = best_n_estimators * best_learning_rate\n",
    "n_estimators_range = [10, 30, 100, 200, 400, 600, 800, 1000]\n",
    "\n",
    "best_score = gs.best_score_ # возьмём наилучшее качество с предыдущего шага\n",
    "\n",
    "for n_estimators in n_estimators_range:\n",
    "    learning_rate = invariant_composition / n_estimators\n",
    "    clf.set_params(n_estimators=n_estimators, learning_rate=learning_rate)\n",
    "    aucs = []\n",
    "    for train_idx, test_idx in cv.split(X_train):\n",
    "        X_train_fold, X_test_fold = X_train.iloc[train_idx], X_train.iloc[test_idx]\n",
    "        y_train_fold, y_test_fold = y_train.iloc[train_idx], y_train.iloc[test_idx]\n",
    "        clf.fit(X_train_fold, y_train_fold)\n",
    "        preds = clf.predict(X_test_fold)\n",
    "        auc = accuracy_score(y_test_fold, preds)\n",
    "        aucs.append(auc)\n",
    "    auc = np.mean(aucs)\n",
    "    if auc > best_score:\n",
    "        best_n_estimators = n_estimators\n",
    "        best_learning_rate = learning_rate\n",
    "        best_score = auc\n",
    "        \n",
    "best_params['n_estimators'] = best_n_estimators\n",
    "best_params['learning_rate'] = best_learning_rate\n",
    "\n",
    "print('Best score (AUC): ', best_score)\n",
    "print('Best params: ')\n",
    "best_params"
   ]
  },
  {
   "cell_type": "code",
   "execution_count": 451,
   "metadata": {},
   "outputs": [
    {
     "name": "stdout",
     "output_type": "stream",
     "text": [
      "Feature: \"Pclass\"\tFeature importance: 0.0653\n",
      "Feature: \"SibSp\"\tFeature importance: 0.0620\n",
      "Feature: \"Parch\"\tFeature importance: 0.0222\n",
      "Feature: \"Fare\"\tFeature importance: 0.3893\n",
      "Feature: \"has_Cabin\"\tFeature importance: 0.0327\n",
      "Feature: \"N_Cabin_1\"\tFeature importance: 0.0143\n",
      "Feature: \"N_Cabin_2\"\tFeature importance: 0.0000\n",
      "Feature: \"N_Cabin_3\"\tFeature importance: 0.0000\n",
      "Feature: \"N_Cabin_4\"\tFeature importance: 0.0000\n",
      "Feature: \"Name_20\"\tFeature importance: 0.0262\n",
      "Feature: \"Name_2030\"\tFeature importance: 0.0510\n",
      "Feature: \"Name_3040\"\tFeature importance: 0.0072\n",
      "Feature: \"Name_40\"\tFeature importance: 0.0078\n",
      "Feature: \"is_Miss\"\tFeature importance: 0.0103\n",
      "Feature: \"is_Master\"\tFeature importance: 0.0301\n",
      "Feature: \"is_Mr\"\tFeature importance: 0.0419\n",
      "Feature: \"is_Mrs\"\tFeature importance: 0.0070\n",
      "Feature: \"Rare\"\tFeature importance: 0.0087\n",
      "Feature: \"small_Family\"\tFeature importance: 0.0043\n",
      "Feature: \"middle_Family\"\tFeature importance: 0.0008\n",
      "Feature: \"big_Family\"\tFeature importance: 0.0032\n",
      "Feature: \"Left\"\tFeature importance: 0.0096\n",
      "Feature: \"Right\"\tFeature importance: 0.0041\n",
      "Feature: \"Sex_female\"\tFeature importance: 0.0386\n",
      "Feature: \"Sex_male\"\tFeature importance: 0.0000\n",
      "Feature: \"Age_0-20\"\tFeature importance: 0.0194\n",
      "Feature: \"Age_20-30\"\tFeature importance: 0.0376\n",
      "Feature: \"Age_30-40\"\tFeature importance: 0.0278\n",
      "Feature: \"Age_40-50\"\tFeature importance: 0.0067\n",
      "Feature: \"Age_50-60\"\tFeature importance: 0.0006\n",
      "Feature: \"Age_60+\"\tFeature importance: 0.0000\n",
      "Feature: \"Embarked_C\"\tFeature importance: 0.0340\n",
      "Feature: \"Embarked_Q\"\tFeature importance: 0.0002\n",
      "Feature: \"Embarked_S\"\tFeature importance: 0.0372\n"
     ]
    }
   ],
   "source": [
    "for feature_name, feature_importance in zip(X_train.columns, clf.feature_importances_):\n",
    "    print('Feature: \"%s\"\\tFeature importance: %.4f' % (feature_name, feature_importance))"
   ]
  },
  {
   "cell_type": "code",
   "execution_count": 452,
   "metadata": {
    "collapsed": true
   },
   "outputs": [],
   "source": [
    "clf=XGBClassifier(**best_params)"
   ]
  },
  {
   "cell_type": "code",
   "execution_count": 453,
   "metadata": {
    "collapsed": true
   },
   "outputs": [],
   "source": [
    "model=clf.fit(X_train, y_train)"
   ]
  },
  {
   "cell_type": "code",
   "execution_count": 454,
   "metadata": {
    "collapsed": true
   },
   "outputs": [],
   "source": [
    "pred=model.predict(X_test)"
   ]
  },
  {
   "cell_type": "code",
   "execution_count": 455,
   "metadata": {
    "collapsed": true
   },
   "outputs": [],
   "source": [
    "with open('submission.txt', 'w') as out:\n",
    "    out.write('PassengerId,Survived\\n')\n",
    "    for passenger, y in zip(X_test.index, pred):\n",
    "        out.write('%s,%s\\n' % (passenger, y))"
   ]
  },
  {
   "cell_type": "code",
   "execution_count": null,
   "metadata": {
    "collapsed": true
   },
   "outputs": [],
   "source": []
  }
 ],
 "metadata": {
  "kernelspec": {
   "display_name": "Python 3",
   "language": "python",
   "name": "python3"
  },
  "language_info": {
   "codemirror_mode": {
    "name": "ipython",
    "version": 3
   },
   "file_extension": ".py",
   "mimetype": "text/x-python",
   "name": "python",
   "nbconvert_exporter": "python",
   "pygments_lexer": "ipython3",
   "version": "3.6.1"
  }
 },
 "nbformat": 4,
 "nbformat_minor": 2
}
