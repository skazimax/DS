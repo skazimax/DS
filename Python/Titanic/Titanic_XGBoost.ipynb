{
 "cells": [
  {
   "cell_type": "code",
   "execution_count": 358,
   "metadata": {
    "collapsed": true
   },
   "outputs": [],
   "source": [
    "import numpy as np\n",
    "import pandas as pd\n",
    "from matplotlib import pyplot as plt\n",
    "%matplotlib inline"
   ]
  },
  {
   "cell_type": "code",
   "execution_count": 359,
   "metadata": {
    "collapsed": true
   },
   "outputs": [],
   "source": [
    "df_train=pd.read_csv('train.csv')\n",
    "df_test=pd.read_csv('test.csv')\n",
    "y_train=df_train['Survived']"
   ]
  },
  {
   "cell_type": "code",
   "execution_count": 360,
   "metadata": {},
   "outputs": [],
   "source": [
    "df_train['is_test']=0\n",
    "df_test['is_test']=1"
   ]
  },
  {
   "cell_type": "code",
   "execution_count": 361,
   "metadata": {},
   "outputs": [],
   "source": [
    "del df_train['Survived']"
   ]
  },
  {
   "cell_type": "code",
   "execution_count": 362,
   "metadata": {},
   "outputs": [],
   "source": [
    "df1=pd.concat([df_train,df_test])"
   ]
  },
  {
   "cell_type": "code",
   "execution_count": 363,
   "metadata": {},
   "outputs": [],
   "source": [
    "df1.Embarked.fillna('S', inplace=True)"
   ]
  },
  {
   "cell_type": "code",
   "execution_count": 364,
   "metadata": {},
   "outputs": [],
   "source": [
    "df1['has_Cabin']=df1.Cabin.notnull().astype(int)"
   ]
  },
  {
   "cell_type": "code",
   "execution_count": 365,
   "metadata": {},
   "outputs": [],
   "source": [
    "df1['Cabin']=df1.Cabin.str.split()"
   ]
  },
  {
   "cell_type": "code",
   "execution_count": 366,
   "metadata": {},
   "outputs": [],
   "source": [
    "df1['N_Cabin_1']=(df1.Cabin.str.len()==1).astype(int)"
   ]
  },
  {
   "cell_type": "code",
   "execution_count": 367,
   "metadata": {
    "collapsed": true
   },
   "outputs": [],
   "source": [
    "df1['N_Cabin_2']=(df1.Cabin.str.len()==2).astype(int)"
   ]
  },
  {
   "cell_type": "code",
   "execution_count": 368,
   "metadata": {
    "collapsed": true
   },
   "outputs": [],
   "source": [
    "df1['N_Cabin_3']=(df1.Cabin.str.len()==3).astype(int)"
   ]
  },
  {
   "cell_type": "code",
   "execution_count": 369,
   "metadata": {},
   "outputs": [],
   "source": [
    "df1['N_Cabin_4']=(df1.Cabin.str.len()==4).astype(int)"
   ]
  },
  {
   "cell_type": "code",
   "execution_count": 370,
   "metadata": {},
   "outputs": [],
   "source": [
    "del df1['Cabin']"
   ]
  },
  {
   "cell_type": "code",
   "execution_count": 371,
   "metadata": {},
   "outputs": [],
   "source": [
    "df1['Name_20']=((df1.Name.str.len()<=20)).astype(int)\n",
    "df1['Name_2030']=((df1.Name.str.len()>20) & (df1.Name.str.len()<=30)).astype(int)\n",
    "df1['Name_3040']=((df1.Name.str.len()>30) & (df1.Name.str.len()<=40)).astype(int)\n",
    "df1['Name_40']=((df1.Name.str.len()>40)).astype(int)"
   ]
  },
  {
   "cell_type": "code",
   "execution_count": 372,
   "metadata": {},
   "outputs": [],
   "source": [
    "df1['is_Miss']=df1.Name.str.contains('Miss').astype(int)\n",
    "df1['is_Master']=df1.Name.str.contains('Master').astype(int)\n",
    "df1['is_Mr']=df1.Name.str.contains(r'(?:\\s|^)Mr.(?:\\s|$)').astype(int)\n",
    "df1['is_Mrs']=df1.Name.str.contains(r'(?:\\s|^)Mrs.(?:\\s|$)').astype(int)"
   ]
  },
  {
   "cell_type": "code",
   "execution_count": 373,
   "metadata": {},
   "outputs": [],
   "source": [
    "df1['Rare']=((df1.is_Miss!=1)&(df1.is_Master!=1)&(df1.is_Mr!=1)&(df1.is_Mrs!=1)).astype(int)"
   ]
  },
  {
   "cell_type": "code",
   "execution_count": 386,
   "metadata": {},
   "outputs": [],
   "source": [
    "df1.Age[df1.is_Master==1].fillna((df1.Age[df1.is_Master==1]).median(), inplace=True)\n",
    "df1.Age[df1.is_Miss==1].fillna((df1.Age[df1.is_Miss==1]).median(), inplace=True)\n",
    "df1.Age[df1.is_Mr==1].fillna((df1.Age[df1.is_Mr==1]).median(), inplace=True)\n",
    "df1.Age[df1.is_Mrs==1].fillna((df1.Age[df1.is_Mrs==1]).median(), inplace=True)"
   ]
  },
  {
   "cell_type": "code",
   "execution_count": 389,
   "metadata": {},
   "outputs": [],
   "source": [
    "df1.Age[df1.is_Master==1].fillna((df1.Age[df1.is_Master==1]).median())"
   ]
  },
  {
   "cell_type": "code",
   "execution_count": 390,
   "metadata": {},
   "outputs": [
    {
     "data": {
      "text/plain": [
       "7       2.00\n",
       "16      2.00\n",
       "50      7.00\n",
       "59     11.00\n",
       "63      4.00\n",
       "65       NaN\n",
       "78      0.83\n",
       "125    12.00\n",
       "159      NaN\n",
       "164     1.00\n",
       "165     9.00\n",
       "171     4.00\n",
       "176      NaN\n",
       "182     9.00\n",
       "183     1.00\n",
       "193     3.00\n",
       "261     3.00\n",
       "278     7.00\n",
       "305     0.92\n",
       "340     2.00\n",
       "348     3.00\n",
       "386     1.00\n",
       "407     3.00\n",
       "445     4.00\n",
       "480     9.00\n",
       "489     9.00\n",
       "549     8.00\n",
       "709      NaN\n",
       "751     6.00\n",
       "755     0.67\n",
       "       ...  \n",
       "788     1.00\n",
       "802    11.00\n",
       "803     0.42\n",
       "819    10.00\n",
       "824     2.00\n",
       "827     1.00\n",
       "831     0.83\n",
       "850     4.00\n",
       "869     4.00\n",
       "21      9.00\n",
       "55     10.00\n",
       "64     13.00\n",
       "80      6.00\n",
       "89      2.00\n",
       "154    13.00\n",
       "161     7.00\n",
       "192    11.50\n",
       "194     8.00\n",
       "196     6.00\n",
       "201     0.33\n",
       "244      NaN\n",
       "281     0.75\n",
       "307     0.83\n",
       "339      NaN\n",
       "344      NaN\n",
       "360    14.50\n",
       "379     5.00\n",
       "389     6.00\n",
       "392    13.00\n",
       "417      NaN\n",
       "Name: Age, Length: 61, dtype: float64"
      ]
     },
     "execution_count": 390,
     "metadata": {},
     "output_type": "execute_result"
    }
   ],
   "source": [
    "df1.Age[df1.is_Master==1]"
   ]
  },
  {
   "cell_type": "code",
   "execution_count": 391,
   "metadata": {},
   "outputs": [
    {
     "data": {
      "text/plain": [
       "<generator object DataFrame.iterrows at 0x000000000CE6ADB0>"
      ]
     },
     "execution_count": 391,
     "metadata": {},
     "output_type": "execute_result"
    }
   ],
   "source": [
    "df1.iterrows()"
   ]
  },
  {
   "cell_type": "code",
   "execution_count": 22,
   "metadata": {
    "collapsed": true
   },
   "outputs": [],
   "source": [
    "from xgboost import XGBClassifier\n",
    "from sklearn.model_selection import KFold, GridSearchCV"
   ]
  },
  {
   "cell_type": "code",
   "execution_count": null,
   "metadata": {
    "collapsed": true
   },
   "outputs": [],
   "source": []
  },
  {
   "cell_type": "code",
   "execution_count": 9,
   "metadata": {},
   "outputs": [
    {
     "name": "stdout",
     "output_type": "stream",
     "text": [
      "Fitting 4 folds for each of 8 candidates, totalling 32 fits\n",
      "[CV] colsample_bytree=0.8, gamma=0.1, learning_rate=0.1, max_depth=5, min_child_weight=2, n_estimators=10, reg_alpha=0.0, reg_lambda=1.0, scale_pos_weight=0.6229508196721312, subsample=0.8 \n",
      "[CV]  colsample_bytree=0.8, gamma=0.1, learning_rate=0.1, max_depth=5, min_child_weight=2, n_estimators=10, reg_alpha=0.0, reg_lambda=1.0, scale_pos_weight=0.6229508196721312, subsample=0.8, score=0.853744, total=   0.0s\n",
      "[CV] colsample_bytree=0.8, gamma=0.1, learning_rate=0.1, max_depth=5, min_child_weight=2, n_estimators=10, reg_alpha=0.0, reg_lambda=1.0, scale_pos_weight=0.6229508196721312, subsample=0.8 \n",
      "[CV]  colsample_bytree=0.8, gamma=0.1, learning_rate=0.1, max_depth=5, min_child_weight=2, n_estimators=10, reg_alpha=0.0, reg_lambda=1.0, scale_pos_weight=0.6229508196721312, subsample=0.8, score=0.857283, total=   0.0s\n",
      "[CV] colsample_bytree=0.8, gamma=0.1, learning_rate=0.1, max_depth=5, min_child_weight=2, n_estimators=10, reg_alpha=0.0, reg_lambda=1.0, scale_pos_weight=0.6229508196721312, subsample=0.8 \n",
      "[CV]  colsample_bytree=0.8, gamma=0.1, learning_rate=0.1, max_depth=5, min_child_weight=2, n_estimators=10, reg_alpha=0.0, reg_lambda=1.0, scale_pos_weight=0.6229508196721312, subsample=0.8, score=0.871060, total=   0.0s\n",
      "[CV] colsample_bytree=0.8, gamma=0.1, learning_rate=0.1, max_depth=5, min_child_weight=2, n_estimators=10, reg_alpha=0.0, reg_lambda=1.0, scale_pos_weight=0.6229508196721312, subsample=0.8 \n",
      "[CV]  colsample_bytree=0.8, gamma=0.1, learning_rate=0.1, max_depth=5, min_child_weight=2, n_estimators=10, reg_alpha=0.0, reg_lambda=1.0, scale_pos_weight=0.6229508196721312, subsample=0.8, score=0.840223, total=   0.0s\n",
      "[CV] colsample_bytree=0.8, gamma=0.1, learning_rate=0.1, max_depth=5, min_child_weight=2, n_estimators=30, reg_alpha=0.0, reg_lambda=1.0, scale_pos_weight=0.6229508196721312, subsample=0.8 \n"
     ]
    },
    {
     "name": "stderr",
     "output_type": "stream",
     "text": [
      "[Parallel(n_jobs=1)]: Done   1 out of   1 | elapsed:    0.0s remaining:    0.0s\n",
      "[Parallel(n_jobs=1)]: Done   2 out of   2 | elapsed:    0.0s remaining:    0.0s\n",
      "[Parallel(n_jobs=1)]: Done   3 out of   3 | elapsed:    0.0s remaining:    0.0s\n",
      "[Parallel(n_jobs=1)]: Done   4 out of   4 | elapsed:    0.1s remaining:    0.0s\n"
     ]
    },
    {
     "name": "stdout",
     "output_type": "stream",
     "text": [
      "[CV]  colsample_bytree=0.8, gamma=0.1, learning_rate=0.1, max_depth=5, min_child_weight=2, n_estimators=30, reg_alpha=0.0, reg_lambda=1.0, scale_pos_weight=0.6229508196721312, subsample=0.8, score=0.870396, total=   0.2s\n",
      "[CV] colsample_bytree=0.8, gamma=0.1, learning_rate=0.1, max_depth=5, min_child_weight=2, n_estimators=30, reg_alpha=0.0, reg_lambda=1.0, scale_pos_weight=0.6229508196721312, subsample=0.8 \n",
      "[CV]  colsample_bytree=0.8, gamma=0.1, learning_rate=0.1, max_depth=5, min_child_weight=2, n_estimators=30, reg_alpha=0.0, reg_lambda=1.0, scale_pos_weight=0.6229508196721312, subsample=0.8, score=0.861508, total=   0.0s\n",
      "[CV] colsample_bytree=0.8, gamma=0.1, learning_rate=0.1, max_depth=5, min_child_weight=2, n_estimators=30, reg_alpha=0.0, reg_lambda=1.0, scale_pos_weight=0.6229508196721312, subsample=0.8 \n",
      "[CV]  colsample_bytree=0.8, gamma=0.1, learning_rate=0.1, max_depth=5, min_child_weight=2, n_estimators=30, reg_alpha=0.0, reg_lambda=1.0, scale_pos_weight=0.6229508196721312, subsample=0.8, score=0.878554, total=   0.0s\n",
      "[CV] colsample_bytree=0.8, gamma=0.1, learning_rate=0.1, max_depth=5, min_child_weight=2, n_estimators=30, reg_alpha=0.0, reg_lambda=1.0, scale_pos_weight=0.6229508196721312, subsample=0.8 \n",
      "[CV]  colsample_bytree=0.8, gamma=0.1, learning_rate=0.1, max_depth=5, min_child_weight=2, n_estimators=30, reg_alpha=0.0, reg_lambda=1.0, scale_pos_weight=0.6229508196721312, subsample=0.8, score=0.836328, total=   0.0s\n",
      "[CV] colsample_bytree=0.8, gamma=0.1, learning_rate=0.1, max_depth=5, min_child_weight=2, n_estimators=50, reg_alpha=0.0, reg_lambda=1.0, scale_pos_weight=0.6229508196721312, subsample=0.8 \n",
      "[CV]  colsample_bytree=0.8, gamma=0.1, learning_rate=0.1, max_depth=5, min_child_weight=2, n_estimators=50, reg_alpha=0.0, reg_lambda=1.0, scale_pos_weight=0.6229508196721312, subsample=0.8, score=0.870482, total=   0.0s\n",
      "[CV] colsample_bytree=0.8, gamma=0.1, learning_rate=0.1, max_depth=5, min_child_weight=2, n_estimators=50, reg_alpha=0.0, reg_lambda=1.0, scale_pos_weight=0.6229508196721312, subsample=0.8 \n",
      "[CV]  colsample_bytree=0.8, gamma=0.1, learning_rate=0.1, max_depth=5, min_child_weight=2, n_estimators=50, reg_alpha=0.0, reg_lambda=1.0, scale_pos_weight=0.6229508196721312, subsample=0.8, score=0.860851, total=   0.0s\n",
      "[CV] colsample_bytree=0.8, gamma=0.1, learning_rate=0.1, max_depth=5, min_child_weight=2, n_estimators=50, reg_alpha=0.0, reg_lambda=1.0, scale_pos_weight=0.6229508196721312, subsample=0.8 \n",
      "[CV]  colsample_bytree=0.8, gamma=0.1, learning_rate=0.1, max_depth=5, min_child_weight=2, n_estimators=50, reg_alpha=0.0, reg_lambda=1.0, scale_pos_weight=0.6229508196721312, subsample=0.8, score=0.880224, total=   0.0s\n",
      "[CV] colsample_bytree=0.8, gamma=0.1, learning_rate=0.1, max_depth=5, min_child_weight=2, n_estimators=50, reg_alpha=0.0, reg_lambda=1.0, scale_pos_weight=0.6229508196721312, subsample=0.8 \n",
      "[CV]  colsample_bytree=0.8, gamma=0.1, learning_rate=0.1, max_depth=5, min_child_weight=2, n_estimators=50, reg_alpha=0.0, reg_lambda=1.0, scale_pos_weight=0.6229508196721312, subsample=0.8, score=0.840666, total=   0.0s\n",
      "[CV] colsample_bytree=0.8, gamma=0.1, learning_rate=0.1, max_depth=5, min_child_weight=2, n_estimators=100, reg_alpha=0.0, reg_lambda=1.0, scale_pos_weight=0.6229508196721312, subsample=0.8 \n",
      "[CV]  colsample_bytree=0.8, gamma=0.1, learning_rate=0.1, max_depth=5, min_child_weight=2, n_estimators=100, reg_alpha=0.0, reg_lambda=1.0, scale_pos_weight=0.6229508196721312, subsample=0.8, score=0.867900, total=   0.0s\n",
      "[CV] colsample_bytree=0.8, gamma=0.1, learning_rate=0.1, max_depth=5, min_child_weight=2, n_estimators=100, reg_alpha=0.0, reg_lambda=1.0, scale_pos_weight=0.6229508196721312, subsample=0.8 \n",
      "[CV]  colsample_bytree=0.8, gamma=0.1, learning_rate=0.1, max_depth=5, min_child_weight=2, n_estimators=100, reg_alpha=0.0, reg_lambda=1.0, scale_pos_weight=0.6229508196721312, subsample=0.8, score=0.861015, total=   0.0s\n",
      "[CV] colsample_bytree=0.8, gamma=0.1, learning_rate=0.1, max_depth=5, min_child_weight=2, n_estimators=100, reg_alpha=0.0, reg_lambda=1.0, scale_pos_weight=0.6229508196721312, subsample=0.8 \n",
      "[CV]  colsample_bytree=0.8, gamma=0.1, learning_rate=0.1, max_depth=5, min_child_weight=2, n_estimators=100, reg_alpha=0.0, reg_lambda=1.0, scale_pos_weight=0.6229508196721312, subsample=0.8, score=0.881937, total=   0.0s\n",
      "[CV] colsample_bytree=0.8, gamma=0.1, learning_rate=0.1, max_depth=5, min_child_weight=2, n_estimators=100, reg_alpha=0.0, reg_lambda=1.0, scale_pos_weight=0.6229508196721312, subsample=0.8 \n",
      "[CV]  colsample_bytree=0.8, gamma=0.1, learning_rate=0.1, max_depth=5, min_child_weight=2, n_estimators=100, reg_alpha=0.0, reg_lambda=1.0, scale_pos_weight=0.6229508196721312, subsample=0.8, score=0.846065, total=   0.0s\n",
      "[CV] colsample_bytree=0.8, gamma=0.1, learning_rate=0.1, max_depth=5, min_child_weight=2, n_estimators=200, reg_alpha=0.0, reg_lambda=1.0, scale_pos_weight=0.6229508196721312, subsample=0.8 \n",
      "[CV]  colsample_bytree=0.8, gamma=0.1, learning_rate=0.1, max_depth=5, min_child_weight=2, n_estimators=200, reg_alpha=0.0, reg_lambda=1.0, scale_pos_weight=0.6229508196721312, subsample=0.8, score=0.873537, total=   0.0s\n",
      "[CV] colsample_bytree=0.8, gamma=0.1, learning_rate=0.1, max_depth=5, min_child_weight=2, n_estimators=200, reg_alpha=0.0, reg_lambda=1.0, scale_pos_weight=0.6229508196721312, subsample=0.8 \n",
      "[CV]  colsample_bytree=0.8, gamma=0.1, learning_rate=0.1, max_depth=5, min_child_weight=2, n_estimators=200, reg_alpha=0.0, reg_lambda=1.0, scale_pos_weight=0.6229508196721312, subsample=0.8, score=0.860523, total=   0.0s\n",
      "[CV] colsample_bytree=0.8, gamma=0.1, learning_rate=0.1, max_depth=5, min_child_weight=2, n_estimators=200, reg_alpha=0.0, reg_lambda=1.0, scale_pos_weight=0.6229508196721312, subsample=0.8 \n",
      "[CV]  colsample_bytree=0.8, gamma=0.1, learning_rate=0.1, max_depth=5, min_child_weight=2, n_estimators=200, reg_alpha=0.0, reg_lambda=1.0, scale_pos_weight=0.6229508196721312, subsample=0.8, score=0.883393, total=   0.0s\n",
      "[CV] colsample_bytree=0.8, gamma=0.1, learning_rate=0.1, max_depth=5, min_child_weight=2, n_estimators=200, reg_alpha=0.0, reg_lambda=1.0, scale_pos_weight=0.6229508196721312, subsample=0.8 \n",
      "[CV]  colsample_bytree=0.8, gamma=0.1, learning_rate=0.1, max_depth=5, min_child_weight=2, n_estimators=200, reg_alpha=0.0, reg_lambda=1.0, scale_pos_weight=0.6229508196721312, subsample=0.8, score=0.844915, total=   0.0s\n",
      "[CV] colsample_bytree=0.8, gamma=0.1, learning_rate=0.1, max_depth=5, min_child_weight=2, n_estimators=400, reg_alpha=0.0, reg_lambda=1.0, scale_pos_weight=0.6229508196721312, subsample=0.8 \n",
      "[CV]  colsample_bytree=0.8, gamma=0.1, learning_rate=0.1, max_depth=5, min_child_weight=2, n_estimators=400, reg_alpha=0.0, reg_lambda=1.0, scale_pos_weight=0.6229508196721312, subsample=0.8, score=0.871213, total=   0.0s\n",
      "[CV] colsample_bytree=0.8, gamma=0.1, learning_rate=0.1, max_depth=5, min_child_weight=2, n_estimators=400, reg_alpha=0.0, reg_lambda=1.0, scale_pos_weight=0.6229508196721312, subsample=0.8 \n",
      "[CV]  colsample_bytree=0.8, gamma=0.1, learning_rate=0.1, max_depth=5, min_child_weight=2, n_estimators=400, reg_alpha=0.0, reg_lambda=1.0, scale_pos_weight=0.6229508196721312, subsample=0.8, score=0.859375, total=   0.0s\n",
      "[CV] colsample_bytree=0.8, gamma=0.1, learning_rate=0.1, max_depth=5, min_child_weight=2, n_estimators=400, reg_alpha=0.0, reg_lambda=1.0, scale_pos_weight=0.6229508196721312, subsample=0.8 \n",
      "[CV]  colsample_bytree=0.8, gamma=0.1, learning_rate=0.1, max_depth=5, min_child_weight=2, n_estimators=400, reg_alpha=0.0, reg_lambda=1.0, scale_pos_weight=0.6229508196721312, subsample=0.8, score=0.878768, total=   0.0s\n",
      "[CV] colsample_bytree=0.8, gamma=0.1, learning_rate=0.1, max_depth=5, min_child_weight=2, n_estimators=400, reg_alpha=0.0, reg_lambda=1.0, scale_pos_weight=0.6229508196721312, subsample=0.8 \n",
      "[CV]  colsample_bytree=0.8, gamma=0.1, learning_rate=0.1, max_depth=5, min_child_weight=2, n_estimators=400, reg_alpha=0.0, reg_lambda=1.0, scale_pos_weight=0.6229508196721312, subsample=0.8, score=0.841462, total=   0.1s\n",
      "[CV] colsample_bytree=0.8, gamma=0.1, learning_rate=0.1, max_depth=5, min_child_weight=2, n_estimators=600, reg_alpha=0.0, reg_lambda=1.0, scale_pos_weight=0.6229508196721312, subsample=0.8 \n",
      "[CV]  colsample_bytree=0.8, gamma=0.1, learning_rate=0.1, max_depth=5, min_child_weight=2, n_estimators=600, reg_alpha=0.0, reg_lambda=1.0, scale_pos_weight=0.6229508196721312, subsample=0.8, score=0.870525, total=   0.0s\n",
      "[CV] colsample_bytree=0.8, gamma=0.1, learning_rate=0.1, max_depth=5, min_child_weight=2, n_estimators=600, reg_alpha=0.0, reg_lambda=1.0, scale_pos_weight=0.6229508196721312, subsample=0.8 \n"
     ]
    },
    {
     "name": "stdout",
     "output_type": "stream",
     "text": [
      "[CV]  colsample_bytree=0.8, gamma=0.1, learning_rate=0.1, max_depth=5, min_child_weight=2, n_estimators=600, reg_alpha=0.0, reg_lambda=1.0, scale_pos_weight=0.6229508196721312, subsample=0.8, score=0.853552, total=   0.5s\n",
      "[CV] colsample_bytree=0.8, gamma=0.1, learning_rate=0.1, max_depth=5, min_child_weight=2, n_estimators=600, reg_alpha=0.0, reg_lambda=1.0, scale_pos_weight=0.6229508196721312, subsample=0.8 \n",
      "[CV]  colsample_bytree=0.8, gamma=0.1, learning_rate=0.1, max_depth=5, min_child_weight=2, n_estimators=600, reg_alpha=0.0, reg_lambda=1.0, scale_pos_weight=0.6229508196721312, subsample=0.8, score=0.875685, total=   0.3s\n",
      "[CV] colsample_bytree=0.8, gamma=0.1, learning_rate=0.1, max_depth=5, min_child_weight=2, n_estimators=600, reg_alpha=0.0, reg_lambda=1.0, scale_pos_weight=0.6229508196721312, subsample=0.8 \n",
      "[CV]  colsample_bytree=0.8, gamma=0.1, learning_rate=0.1, max_depth=5, min_child_weight=2, n_estimators=600, reg_alpha=0.0, reg_lambda=1.0, scale_pos_weight=0.6229508196721312, subsample=0.8, score=0.844915, total=   0.0s\n",
      "[CV] colsample_bytree=0.8, gamma=0.1, learning_rate=0.1, max_depth=5, min_child_weight=2, n_estimators=1000, reg_alpha=0.0, reg_lambda=1.0, scale_pos_weight=0.6229508196721312, subsample=0.8 \n",
      "[CV]  colsample_bytree=0.8, gamma=0.1, learning_rate=0.1, max_depth=5, min_child_weight=2, n_estimators=1000, reg_alpha=0.0, reg_lambda=1.0, scale_pos_weight=0.6229508196721312, subsample=0.8, score=0.868287, total=   0.1s\n",
      "[CV] colsample_bytree=0.8, gamma=0.1, learning_rate=0.1, max_depth=5, min_child_weight=2, n_estimators=1000, reg_alpha=0.0, reg_lambda=1.0, scale_pos_weight=0.6229508196721312, subsample=0.8 \n",
      "[CV]  colsample_bytree=0.8, gamma=0.1, learning_rate=0.1, max_depth=5, min_child_weight=2, n_estimators=1000, reg_alpha=0.0, reg_lambda=1.0, scale_pos_weight=0.6229508196721312, subsample=0.8, score=0.851173, total=   0.1s\n",
      "[CV] colsample_bytree=0.8, gamma=0.1, learning_rate=0.1, max_depth=5, min_child_weight=2, n_estimators=1000, reg_alpha=0.0, reg_lambda=1.0, scale_pos_weight=0.6229508196721312, subsample=0.8 \n",
      "[CV]  colsample_bytree=0.8, gamma=0.1, learning_rate=0.1, max_depth=5, min_child_weight=2, n_estimators=1000, reg_alpha=0.0, reg_lambda=1.0, scale_pos_weight=0.6229508196721312, subsample=0.8, score=0.870546, total=   0.1s\n",
      "[CV] colsample_bytree=0.8, gamma=0.1, learning_rate=0.1, max_depth=5, min_child_weight=2, n_estimators=1000, reg_alpha=0.0, reg_lambda=1.0, scale_pos_weight=0.6229508196721312, subsample=0.8 \n",
      "[CV]  colsample_bytree=0.8, gamma=0.1, learning_rate=0.1, max_depth=5, min_child_weight=2, n_estimators=1000, reg_alpha=0.0, reg_lambda=1.0, scale_pos_weight=0.6229508196721312, subsample=0.8, score=0.844295, total=   0.1s\n",
      "Best score (ACC):  0.865615247925\n",
      "Best params: \n"
     ]
    },
    {
     "name": "stderr",
     "output_type": "stream",
     "text": [
      "[Parallel(n_jobs=1)]: Done  32 out of  32 | elapsed:    3.6s finished\n"
     ]
    },
    {
     "data": {
      "text/plain": [
       "{'base_score': 0.5,\n",
       " 'colsample_bylevel': 1,\n",
       " 'colsample_bytree': 0.8,\n",
       " 'gamma': 0.1,\n",
       " 'learning_rate': 0.1,\n",
       " 'max_delta_step': 0,\n",
       " 'max_depth': 5,\n",
       " 'min_child_weight': 2,\n",
       " 'missing': None,\n",
       " 'n_estimators': 200,\n",
       " 'nthread': -1,\n",
       " 'objective': 'binary:logistic',\n",
       " 'reg_alpha': 0.0,\n",
       " 'reg_lambda': 1.0,\n",
       " 'scale_pos_weight': 0.6229508196721312,\n",
       " 'seed': 0,\n",
       " 'silent': True,\n",
       " 'subsample': 0.8}"
      ]
     },
     "execution_count": 9,
     "metadata": {},
     "output_type": "execute_result"
    }
   ],
   "source": [
    "ones_ratio=y_train[y_train==1].shape[0]*1.0/y_train[y_train==0].shape[0]\n",
    "\n",
    "param_grid = {\n",
    "    # параметры ансамбля\n",
    "    'n_estimators': [10, 30, 50, 100, 200, 400, 600, 1000],\n",
    "    'learning_rate': [0.1],\n",
    "    \n",
    "    # параметры дерева\n",
    "    'max_depth': [5],\n",
    "    'min_child_weight': [2],\n",
    "    'gamma': [0.1],\n",
    "    'subsample': [0.8],\n",
    "    'colsample_bytree': [0.8],\n",
    "    'scale_pos_weight': [ones_ratio],\n",
    "    \n",
    "    # параметры регуляризации\n",
    "    'reg_alpha': [0.0],\n",
    "    'reg_lambda': [1.0]\n",
    "}\n",
    "\n",
    "cv = KFold(n_splits=4, shuffle=True)\n",
    "\n",
    "clf = XGBClassifier()\n",
    "gs = GridSearchCV(clf, param_grid, scoring='roc_auc', cv=cv, verbose=5)\n",
    "\n",
    "gs.fit(X_train, y_train)\n",
    "best_params = gs.best_estimator_.get_params()\n",
    "print('Best score (ACC): ', gs.best_score_)\n",
    "print('Best params: ')\n",
    "best_params"
   ]
  },
  {
   "cell_type": "code",
   "execution_count": 10,
   "metadata": {},
   "outputs": [
    {
     "name": "stdout",
     "output_type": "stream",
     "text": [
      "Fitting 4 folds for each of 12 candidates, totalling 48 fits\n",
      "[CV] max_depth=3, min_child_weight=1 .................................\n",
      "[CV] .. max_depth=3, min_child_weight=1, score=0.856502, total=   0.1s\n",
      "[CV] max_depth=3, min_child_weight=1 .................................\n"
     ]
    },
    {
     "name": "stderr",
     "output_type": "stream",
     "text": [
      "[Parallel(n_jobs=1)]: Done   1 out of   1 | elapsed:    0.1s remaining:    0.0s\n",
      "[Parallel(n_jobs=1)]: Done   2 out of   2 | elapsed:    0.1s remaining:    0.0s\n",
      "[Parallel(n_jobs=1)]: Done   3 out of   3 | elapsed:    0.2s remaining:    0.0s\n",
      "[Parallel(n_jobs=1)]: Done   4 out of   4 | elapsed:    0.2s remaining:    0.0s\n"
     ]
    },
    {
     "name": "stdout",
     "output_type": "stream",
     "text": [
      "[CV] .. max_depth=3, min_child_weight=1, score=0.834081, total=   0.0s\n",
      "[CV] max_depth=3, min_child_weight=1 .................................\n",
      "[CV] .. max_depth=3, min_child_weight=1, score=0.816143, total=   0.0s\n",
      "[CV] max_depth=3, min_child_weight=1 .................................\n",
      "[CV] .. max_depth=3, min_child_weight=1, score=0.801802, total=   0.0s\n",
      "[CV] max_depth=3, min_child_weight=3 .................................\n",
      "[CV] .. max_depth=3, min_child_weight=3, score=0.856502, total=   0.0s\n",
      "[CV] max_depth=3, min_child_weight=3 .................................\n",
      "[CV] .. max_depth=3, min_child_weight=3, score=0.829596, total=   0.0s\n",
      "[CV] max_depth=3, min_child_weight=3 .................................\n",
      "[CV] .. max_depth=3, min_child_weight=3, score=0.834081, total=   0.0s\n",
      "[CV] max_depth=3, min_child_weight=3 .................................\n",
      "[CV] .. max_depth=3, min_child_weight=3, score=0.810811, total=   0.0s\n",
      "[CV] max_depth=3, min_child_weight=5 .................................\n",
      "[CV] .. max_depth=3, min_child_weight=5, score=0.860987, total=   0.0s\n",
      "[CV] max_depth=3, min_child_weight=5 .................................\n",
      "[CV] .. max_depth=3, min_child_weight=5, score=0.820628, total=   0.0s\n",
      "[CV] max_depth=3, min_child_weight=5 .................................\n",
      "[CV] .. max_depth=3, min_child_weight=5, score=0.843049, total=   0.0s\n",
      "[CV] max_depth=3, min_child_weight=5 .................................\n",
      "[CV] .. max_depth=3, min_child_weight=5, score=0.783784, total=   0.0s\n",
      "[CV] max_depth=5, min_child_weight=1 .................................\n",
      "[CV] .. max_depth=5, min_child_weight=1, score=0.878924, total=   0.0s\n",
      "[CV] max_depth=5, min_child_weight=1 .................................\n",
      "[CV] .. max_depth=5, min_child_weight=1, score=0.843049, total=   0.0s\n",
      "[CV] max_depth=5, min_child_weight=1 .................................\n",
      "[CV] .. max_depth=5, min_child_weight=1, score=0.811659, total=   0.0s\n",
      "[CV] max_depth=5, min_child_weight=1 .................................\n",
      "[CV] .. max_depth=5, min_child_weight=1, score=0.806306, total=   0.0s\n",
      "[CV] max_depth=5, min_child_weight=3 .................................\n",
      "[CV] .. max_depth=5, min_child_weight=3, score=0.865471, total=   0.0s\n",
      "[CV] max_depth=5, min_child_weight=3 .................................\n",
      "[CV] .. max_depth=5, min_child_weight=3, score=0.816143, total=   0.0s\n",
      "[CV] max_depth=5, min_child_weight=3 .................................\n",
      "[CV] .. max_depth=5, min_child_weight=3, score=0.834081, total=   0.0s\n",
      "[CV] max_depth=5, min_child_weight=3 .................................\n",
      "[CV] .. max_depth=5, min_child_weight=3, score=0.810811, total=   0.0s\n",
      "[CV] max_depth=5, min_child_weight=5 .................................\n",
      "[CV] .. max_depth=5, min_child_weight=5, score=0.865471, total=   0.0s\n",
      "[CV] max_depth=5, min_child_weight=5 .................................\n",
      "[CV] .. max_depth=5, min_child_weight=5, score=0.834081, total=   0.0s\n",
      "[CV] max_depth=5, min_child_weight=5 .................................\n",
      "[CV] .. max_depth=5, min_child_weight=5, score=0.847534, total=   0.0s\n",
      "[CV] max_depth=5, min_child_weight=5 .................................\n",
      "[CV] .. max_depth=5, min_child_weight=5, score=0.779279, total=   0.0s\n",
      "[CV] max_depth=7, min_child_weight=1 .................................\n",
      "[CV] .. max_depth=7, min_child_weight=1, score=0.865471, total=   0.0s\n",
      "[CV] max_depth=7, min_child_weight=1 .................................\n",
      "[CV] .. max_depth=7, min_child_weight=1, score=0.852018, total=   0.0s\n",
      "[CV] max_depth=7, min_child_weight=1 .................................\n",
      "[CV] .. max_depth=7, min_child_weight=1, score=0.816143, total=   0.0s\n",
      "[CV] max_depth=7, min_child_weight=1 .................................\n",
      "[CV] .. max_depth=7, min_child_weight=1, score=0.806306, total=   0.0s\n",
      "[CV] max_depth=7, min_child_weight=3 .................................\n",
      "[CV] .. max_depth=7, min_child_weight=3, score=0.869955, total=   0.2s\n",
      "[CV] max_depth=7, min_child_weight=3 .................................\n",
      "[CV] .. max_depth=7, min_child_weight=3, score=0.811659, total=   0.1s\n",
      "[CV] max_depth=7, min_child_weight=3 .................................\n",
      "[CV] .. max_depth=7, min_child_weight=3, score=0.829596, total=   0.1s\n",
      "[CV] max_depth=7, min_child_weight=3 .................................\n",
      "[CV] .. max_depth=7, min_child_weight=3, score=0.815315, total=   0.0s\n",
      "[CV] max_depth=7, min_child_weight=5 .................................\n",
      "[CV] .. max_depth=7, min_child_weight=5, score=0.869955, total=   0.0s\n",
      "[CV] max_depth=7, min_child_weight=5 .................................\n",
      "[CV] .. max_depth=7, min_child_weight=5, score=0.843049, total=   0.1s\n",
      "[CV] max_depth=7, min_child_weight=5 .................................\n",
      "[CV] .. max_depth=7, min_child_weight=5, score=0.847534, total=   0.0s\n",
      "[CV] max_depth=7, min_child_weight=5 .................................\n",
      "[CV] .. max_depth=7, min_child_weight=5, score=0.779279, total=   0.0s\n",
      "[CV] max_depth=9, min_child_weight=1 .................................\n",
      "[CV] .. max_depth=9, min_child_weight=1, score=0.883408, total=   0.0s\n",
      "[CV] max_depth=9, min_child_weight=1 .................................\n",
      "[CV] .. max_depth=9, min_child_weight=1, score=0.843049, total=   0.0s\n",
      "[CV] max_depth=9, min_child_weight=1 .................................\n",
      "[CV] .. max_depth=9, min_child_weight=1, score=0.816143, total=   0.0s\n",
      "[CV] max_depth=9, min_child_weight=1 .................................\n",
      "[CV] .. max_depth=9, min_child_weight=1, score=0.815315, total=   0.0s\n",
      "[CV] max_depth=9, min_child_weight=3 .................................\n",
      "[CV] .. max_depth=9, min_child_weight=3, score=0.865471, total=   0.0s\n",
      "[CV] max_depth=9, min_child_weight=3 .................................\n",
      "[CV] .. max_depth=9, min_child_weight=3, score=0.820628, total=   0.0s\n",
      "[CV] max_depth=9, min_child_weight=3 .................................\n",
      "[CV] .. max_depth=9, min_child_weight=3, score=0.829596, total=   0.0s\n",
      "[CV] max_depth=9, min_child_weight=3 .................................\n",
      "[CV] .. max_depth=9, min_child_weight=3, score=0.801802, total=   0.0s\n",
      "[CV] max_depth=9, min_child_weight=5 .................................\n",
      "[CV] .. max_depth=9, min_child_weight=5, score=0.869955, total=   0.1s\n",
      "[CV] max_depth=9, min_child_weight=5 .................................\n",
      "[CV] .. max_depth=9, min_child_weight=5, score=0.843049, total=   0.0s\n",
      "[CV] max_depth=9, min_child_weight=5 .................................\n",
      "[CV] .. max_depth=9, min_child_weight=5, score=0.847534, total=   0.0s\n",
      "[CV] max_depth=9, min_child_weight=5 .................................\n",
      "[CV] .. max_depth=9, min_child_weight=5, score=0.783784, total=   0.0s\n",
      "Best score (AUC):  0.83950617284\n",
      "Best params: \n"
     ]
    },
    {
     "name": "stderr",
     "output_type": "stream",
     "text": [
      "[Parallel(n_jobs=1)]: Done  48 out of  48 | elapsed:    3.7s finished\n"
     ]
    },
    {
     "data": {
      "text/plain": [
       "{'base_score': 0.5,\n",
       " 'colsample_bylevel': 1,\n",
       " 'colsample_bytree': 0.8,\n",
       " 'gamma': 0.1,\n",
       " 'learning_rate': 0.1,\n",
       " 'max_delta_step': 0,\n",
       " 'max_depth': 9,\n",
       " 'min_child_weight': 1,\n",
       " 'missing': None,\n",
       " 'n_estimators': 200,\n",
       " 'nthread': -1,\n",
       " 'objective': 'binary:logistic',\n",
       " 'reg_alpha': 0.0,\n",
       " 'reg_lambda': 1.0,\n",
       " 'scale_pos_weight': 0.6229508196721312,\n",
       " 'seed': 0,\n",
       " 'silent': True,\n",
       " 'subsample': 0.8}"
      ]
     },
     "execution_count": 10,
     "metadata": {},
     "output_type": "execute_result"
    }
   ],
   "source": [
    "param_grid = {\n",
    "    'max_depth': range(3, 10, 2),\n",
    "    'min_child_weight': range(1, 6, 2)\n",
    "}\n",
    "\n",
    "clf = XGBClassifier(**best_params) # в качестве отправной точки возьмём модель с наилучшими параметрами предыдущего шага\n",
    "\n",
    "gs = GridSearchCV(clf, param_grid, scoring='accuracy', cv=cv, verbose=5)\n",
    "\n",
    "gs.fit(X_train, y_train)\n",
    "best_params = gs.best_estimator_.get_params()\n",
    "print('Best score (AUC): ', gs.best_score_)\n",
    "print('Best params: ')\n",
    "best_params"
   ]
  },
  {
   "cell_type": "code",
   "execution_count": 11,
   "metadata": {},
   "outputs": [
    {
     "name": "stdout",
     "output_type": "stream",
     "text": [
      "Fitting 4 folds for each of 6 candidates, totalling 24 fits\n",
      "[CV] gamma=0.0 .......................................................\n",
      "[CV] ........................ gamma=0.0, score=0.884250, total=   0.2s\n",
      "[CV] gamma=0.0 .......................................................\n",
      "[CV] ........................ gamma=0.0, score=0.873924, total=   0.0s\n",
      "[CV] gamma=0.0 .......................................................\n",
      "[CV] ........................ gamma=0.0, score=0.845367, total=   0.0s\n",
      "[CV] gamma=0.0 .......................................................\n"
     ]
    },
    {
     "name": "stderr",
     "output_type": "stream",
     "text": [
      "[Parallel(n_jobs=1)]: Done   1 out of   1 | elapsed:    0.2s remaining:    0.0s\n",
      "[Parallel(n_jobs=1)]: Done   2 out of   2 | elapsed:    0.3s remaining:    0.0s\n",
      "[Parallel(n_jobs=1)]: Done   3 out of   3 | elapsed:    0.3s remaining:    0.0s\n"
     ]
    },
    {
     "name": "stdout",
     "output_type": "stream",
     "text": [
      "[CV] ........................ gamma=0.0, score=0.852613, total=   0.0s\n",
      "[CV] gamma=0.1 .......................................................\n",
      "[CV] ........................ gamma=0.1, score=0.880910, total=   0.0s\n",
      "[CV] gamma=0.1 .......................................................\n",
      "[CV] ........................ gamma=0.1, score=0.875818, total=   0.0s\n",
      "[CV] gamma=0.1 .......................................................\n"
     ]
    },
    {
     "name": "stderr",
     "output_type": "stream",
     "text": [
      "[Parallel(n_jobs=1)]: Done   4 out of   4 | elapsed:    0.4s remaining:    0.0s\n"
     ]
    },
    {
     "name": "stdout",
     "output_type": "stream",
     "text": [
      "[CV] ........................ gamma=0.1, score=0.845452, total=   0.0s\n",
      "[CV] gamma=0.1 .......................................................\n",
      "[CV] ........................ gamma=0.1, score=0.849929, total=   0.0s\n",
      "[CV] gamma=0.2 .......................................................\n",
      "[CV] ........................ gamma=0.2, score=0.880824, total=   0.0s\n",
      "[CV] gamma=0.2 .......................................................\n",
      "[CV] ........................ gamma=0.2, score=0.879346, total=   0.0s\n",
      "[CV] gamma=0.2 .......................................................\n",
      "[CV] ........................ gamma=0.2, score=0.841941, total=   0.0s\n",
      "[CV] gamma=0.2 .......................................................\n",
      "[CV] ........................ gamma=0.2, score=0.849258, total=   0.0s\n",
      "[CV] gamma=0.30000000000000004 .......................................\n",
      "[CV] ........ gamma=0.30000000000000004, score=0.878511, total=   0.0s\n",
      "[CV] gamma=0.30000000000000004 .......................................\n",
      "[CV] ........ gamma=0.30000000000000004, score=0.879002, total=   0.0s\n",
      "[CV] gamma=0.30000000000000004 .......................................\n",
      "[CV] ........ gamma=0.30000000000000004, score=0.840913, total=   0.0s\n",
      "[CV] gamma=0.30000000000000004 .......................................\n",
      "[CV] ........ gamma=0.30000000000000004, score=0.856891, total=   0.0s\n",
      "[CV] gamma=0.4 .......................................................\n",
      "[CV] ........................ gamma=0.4, score=0.884250, total=   0.0s\n",
      "[CV] gamma=0.4 .......................................................\n",
      "[CV] ........................ gamma=0.4, score=0.881239, total=   0.0s\n",
      "[CV] gamma=0.4 .......................................................\n",
      "[CV] ........................ gamma=0.4, score=0.844082, total=   0.0s\n",
      "[CV] gamma=0.4 .......................................................\n",
      "[CV] ........................ gamma=0.4, score=0.861169, total=   0.0s\n",
      "[CV] gamma=0.5 .......................................................\n",
      "[CV] ........................ gamma=0.5, score=0.881680, total=   0.0s\n",
      "[CV] gamma=0.5 .......................................................\n",
      "[CV] ........................ gamma=0.5, score=0.876764, total=   0.0s\n",
      "[CV] gamma=0.5 .......................................................\n",
      "[CV] ........................ gamma=0.5, score=0.841684, total=   0.0s\n",
      "[CV] gamma=0.5 .......................................................\n",
      "[CV] ........................ gamma=0.5, score=0.859576, total=   0.0s\n"
     ]
    },
    {
     "name": "stderr",
     "output_type": "stream",
     "text": [
      "[Parallel(n_jobs=1)]: Done  24 out of  24 | elapsed:    2.1s finished\n"
     ]
    },
    {
     "name": "stdout",
     "output_type": "stream",
     "text": [
      "Best score (AUC):  0.867692369808\n",
      "Best params: \n"
     ]
    },
    {
     "data": {
      "text/plain": [
       "{'base_score': 0.5,\n",
       " 'colsample_bylevel': 1,\n",
       " 'colsample_bytree': 0.8,\n",
       " 'gamma': 0.4,\n",
       " 'learning_rate': 0.1,\n",
       " 'max_delta_step': 0,\n",
       " 'max_depth': 9,\n",
       " 'min_child_weight': 1,\n",
       " 'missing': None,\n",
       " 'n_estimators': 200,\n",
       " 'nthread': -1,\n",
       " 'objective': 'binary:logistic',\n",
       " 'reg_alpha': 0.0,\n",
       " 'reg_lambda': 1.0,\n",
       " 'scale_pos_weight': 0.6229508196721312,\n",
       " 'seed': 0,\n",
       " 'silent': True,\n",
       " 'subsample': 0.8}"
      ]
     },
     "execution_count": 11,
     "metadata": {},
     "output_type": "execute_result"
    }
   ],
   "source": [
    "param_grid = {\n",
    "    'gamma': [0.1*i for i in range(6)]\n",
    "}\n",
    "\n",
    "clf = XGBClassifier(**best_params)\n",
    "\n",
    "gs = GridSearchCV(clf, param_grid, scoring='roc_auc', cv=cv, verbose=5)\n",
    "\n",
    "gs.fit(X_train, y_train)\n",
    "best_params = gs.best_estimator_.get_params()\n",
    "print('Best score (AUC): ', gs.best_score_)\n",
    "print('Best params: ')\n",
    "best_params"
   ]
  },
  {
   "cell_type": "code",
   "execution_count": 12,
   "metadata": {},
   "outputs": [
    {
     "name": "stdout",
     "output_type": "stream",
     "text": [
      "Fitting 4 folds for each of 36 candidates, totalling 144 fits\n",
      "[CV] colsample_bytree=0.5, subsample=0.5 .............................\n",
      "[CV]  colsample_bytree=0.5, subsample=0.5, score=0.835130, total=   0.1s\n",
      "[CV] colsample_bytree=0.5, subsample=0.5 .............................\n",
      "[CV]  colsample_bytree=0.5, subsample=0.5, score=0.835020, total=   0.0s\n",
      "[CV] colsample_bytree=0.5, subsample=0.5 .............................\n",
      "[CV]  colsample_bytree=0.5, subsample=0.5, score=0.891977, total=   0.0s\n",
      "[CV] colsample_bytree=0.5, subsample=0.5 .............................\n"
     ]
    },
    {
     "name": "stderr",
     "output_type": "stream",
     "text": [
      "[Parallel(n_jobs=1)]: Done   1 out of   1 | elapsed:    0.1s remaining:    0.0s\n",
      "[Parallel(n_jobs=1)]: Done   2 out of   2 | elapsed:    0.2s remaining:    0.0s\n",
      "[Parallel(n_jobs=1)]: Done   3 out of   3 | elapsed:    0.3s remaining:    0.0s\n"
     ]
    },
    {
     "name": "stdout",
     "output_type": "stream",
     "text": [
      "[CV]  colsample_bytree=0.5, subsample=0.5, score=0.941073, total=   0.0s\n",
      "[CV] colsample_bytree=0.5, subsample=0.6 .............................\n",
      "[CV]  colsample_bytree=0.5, subsample=0.6, score=0.844296, total=   0.0s\n",
      "[CV] colsample_bytree=0.5, subsample=0.6 .............................\n",
      "[CV]  colsample_bytree=0.5, subsample=0.6, score=0.835106, total=   0.0s\n",
      "[CV] colsample_bytree=0.5, subsample=0.6 .............................\n"
     ]
    },
    {
     "name": "stderr",
     "output_type": "stream",
     "text": [
      "[Parallel(n_jobs=1)]: Done   4 out of   4 | elapsed:    0.3s remaining:    0.0s\n"
     ]
    },
    {
     "name": "stdout",
     "output_type": "stream",
     "text": [
      "[CV]  colsample_bytree=0.5, subsample=0.6, score=0.893962, total=   0.0s\n",
      "[CV] colsample_bytree=0.5, subsample=0.6 .............................\n",
      "[CV]  colsample_bytree=0.5, subsample=0.6, score=0.939322, total=   0.0s\n",
      "[CV] colsample_bytree=0.5, subsample=0.7 .............................\n",
      "[CV]  colsample_bytree=0.5, subsample=0.7, score=0.839119, total=   0.0s\n",
      "[CV] colsample_bytree=0.5, subsample=0.7 .............................\n",
      "[CV]  colsample_bytree=0.5, subsample=0.7, score=0.835539, total=   0.0s\n",
      "[CV] colsample_bytree=0.5, subsample=0.7 .............................\n",
      "[CV]  colsample_bytree=0.5, subsample=0.7, score=0.890612, total=   0.2s\n",
      "[CV] colsample_bytree=0.5, subsample=0.7 .............................\n",
      "[CV]  colsample_bytree=0.5, subsample=0.7, score=0.938096, total=   0.0s\n",
      "[CV] colsample_bytree=0.5, subsample=0.8 .............................\n",
      "[CV]  colsample_bytree=0.5, subsample=0.8, score=0.831056, total=   0.0s\n",
      "[CV] colsample_bytree=0.5, subsample=0.8 .............................\n",
      "[CV]  colsample_bytree=0.5, subsample=0.8, score=0.835582, total=   0.0s\n",
      "[CV] colsample_bytree=0.5, subsample=0.8 .............................\n",
      "[CV]  colsample_bytree=0.5, subsample=0.8, score=0.893672, total=   0.2s\n",
      "[CV] colsample_bytree=0.5, subsample=0.8 .............................\n",
      "[CV]  colsample_bytree=0.5, subsample=0.8, score=0.939673, total=   0.0s\n",
      "[CV] colsample_bytree=0.5, subsample=0.9 .............................\n",
      "[CV]  colsample_bytree=0.5, subsample=0.9, score=0.832584, total=   0.0s\n",
      "[CV] colsample_bytree=0.5, subsample=0.9 .............................\n",
      "[CV]  colsample_bytree=0.5, subsample=0.9, score=0.836663, total=   0.0s\n",
      "[CV] colsample_bytree=0.5, subsample=0.9 .............................\n",
      "[CV]  colsample_bytree=0.5, subsample=0.9, score=0.888958, total=   0.0s\n",
      "[CV] colsample_bytree=0.5, subsample=0.9 .............................\n",
      "[CV]  colsample_bytree=0.5, subsample=0.9, score=0.938272, total=   0.0s\n",
      "[CV] colsample_bytree=0.5, subsample=1.0 .............................\n",
      "[CV]  colsample_bytree=0.5, subsample=1.0, score=0.831480, total=   0.0s\n",
      "[CV] colsample_bytree=0.5, subsample=1.0 .............................\n",
      "[CV]  colsample_bytree=0.5, subsample=1.0, score=0.839042, total=   0.0s\n",
      "[CV] colsample_bytree=0.5, subsample=1.0 .............................\n",
      "[CV]  colsample_bytree=0.5, subsample=1.0, score=0.893507, total=   0.0s\n",
      "[CV] colsample_bytree=0.5, subsample=1.0 .............................\n",
      "[CV]  colsample_bytree=0.5, subsample=1.0, score=0.935645, total=   0.0s\n",
      "[CV] colsample_bytree=0.6, subsample=0.5 .............................\n",
      "[CV]  colsample_bytree=0.6, subsample=0.5, score=0.837337, total=   0.0s\n",
      "[CV] colsample_bytree=0.6, subsample=0.5 .............................\n",
      "[CV]  colsample_bytree=0.6, subsample=0.5, score=0.837355, total=   0.0s\n",
      "[CV] colsample_bytree=0.6, subsample=0.5 .............................\n",
      "[CV]  colsample_bytree=0.6, subsample=0.5, score=0.894830, total=   0.0s\n",
      "[CV] colsample_bytree=0.6, subsample=0.5 .............................\n",
      "[CV]  colsample_bytree=0.6, subsample=0.5, score=0.938534, total=   0.0s\n",
      "[CV] colsample_bytree=0.6, subsample=0.6 .............................\n",
      "[CV]  colsample_bytree=0.6, subsample=0.6, score=0.841156, total=   0.0s\n",
      "[CV] colsample_bytree=0.6, subsample=0.6 .............................\n",
      "[CV]  colsample_bytree=0.6, subsample=0.6, score=0.834804, total=   0.0s\n",
      "[CV] colsample_bytree=0.6, subsample=0.6 .............................\n",
      "[CV]  colsample_bytree=0.6, subsample=0.6, score=0.894086, total=   0.1s\n",
      "[CV] colsample_bytree=0.6, subsample=0.6 .............................\n",
      "[CV]  colsample_bytree=0.6, subsample=0.6, score=0.936170, total=   0.0s\n",
      "[CV] colsample_bytree=0.6, subsample=0.7 .............................\n",
      "[CV]  colsample_bytree=0.6, subsample=0.7, score=0.847352, total=   0.0s\n",
      "[CV] colsample_bytree=0.6, subsample=0.7 .............................\n",
      "[CV]  colsample_bytree=0.6, subsample=0.7, score=0.836274, total=   0.0s\n",
      "[CV] colsample_bytree=0.6, subsample=0.7 .............................\n",
      "[CV]  colsample_bytree=0.6, subsample=0.7, score=0.887469, total=   0.0s\n",
      "[CV] colsample_bytree=0.6, subsample=0.7 .............................\n",
      "[CV]  colsample_bytree=0.6, subsample=0.7, score=0.932931, total=   0.0s\n",
      "[CV] colsample_bytree=0.6, subsample=0.8 .............................\n",
      "[CV]  colsample_bytree=0.6, subsample=0.8, score=0.833008, total=   0.0s\n",
      "[CV] colsample_bytree=0.6, subsample=0.8 .............................\n",
      "[CV]  colsample_bytree=0.6, subsample=0.8, score=0.838696, total=   0.1s\n",
      "[CV] colsample_bytree=0.6, subsample=0.8 .............................\n",
      "[CV]  colsample_bytree=0.6, subsample=0.8, score=0.892763, total=   0.0s\n",
      "[CV] colsample_bytree=0.6, subsample=0.8 .............................\n",
      "[CV]  colsample_bytree=0.6, subsample=0.8, score=0.932843, total=   0.0s\n",
      "[CV] colsample_bytree=0.6, subsample=0.9 .............................\n",
      "[CV]  colsample_bytree=0.6, subsample=0.9, score=0.835215, total=   0.0s\n",
      "[CV] colsample_bytree=0.6, subsample=0.9 .............................\n",
      "[CV]  colsample_bytree=0.6, subsample=0.9, score=0.833160, total=   0.1s\n",
      "[CV] colsample_bytree=0.6, subsample=0.9 .............................\n",
      "[CV]  colsample_bytree=0.6, subsample=0.9, score=0.883664, total=   0.0s\n",
      "[CV] colsample_bytree=0.6, subsample=0.9 .............................\n",
      "[CV]  colsample_bytree=0.6, subsample=0.9, score=0.936258, total=   0.0s\n",
      "[CV] colsample_bytree=0.6, subsample=1.0 .............................\n",
      "[CV]  colsample_bytree=0.6, subsample=1.0, score=0.836997, total=   0.0s\n",
      "[CV] colsample_bytree=0.6, subsample=1.0 .............................\n",
      "[CV]  colsample_bytree=0.6, subsample=1.0, score=0.835279, total=   0.0s\n",
      "[CV] colsample_bytree=0.6, subsample=1.0 .............................\n",
      "[CV]  colsample_bytree=0.6, subsample=1.0, score=0.887221, total=   0.2s\n",
      "[CV] colsample_bytree=0.6, subsample=1.0 .............................\n",
      "[CV]  colsample_bytree=0.6, subsample=1.0, score=0.935207, total=   0.0s\n",
      "[CV] colsample_bytree=0.7, subsample=0.5 .............................\n",
      "[CV]  colsample_bytree=0.7, subsample=0.5, score=0.841156, total=   0.0s\n",
      "[CV] colsample_bytree=0.7, subsample=0.5 .............................\n",
      "[CV]  colsample_bytree=0.7, subsample=0.5, score=0.835193, total=   0.0s\n",
      "[CV] colsample_bytree=0.7, subsample=0.5 .............................\n",
      "[CV]  colsample_bytree=0.7, subsample=0.5, score=0.895658, total=   0.0s\n",
      "[CV] colsample_bytree=0.7, subsample=0.5 .............................\n",
      "[CV]  colsample_bytree=0.7, subsample=0.5, score=0.937002, total=   0.0s\n",
      "[CV] colsample_bytree=0.7, subsample=0.6 .............................\n",
      "[CV]  colsample_bytree=0.7, subsample=0.6, score=0.840986, total=   0.0s\n",
      "[CV] colsample_bytree=0.7, subsample=0.6 .............................\n",
      "[CV]  colsample_bytree=0.7, subsample=0.6, score=0.840469, total=   0.0s\n",
      "[CV] colsample_bytree=0.7, subsample=0.6 .............................\n",
      "[CV]  colsample_bytree=0.7, subsample=0.6, score=0.895906, total=   0.0s\n",
      "[CV] colsample_bytree=0.7, subsample=0.6 .............................\n",
      "[CV]  colsample_bytree=0.7, subsample=0.6, score=0.932493, total=   0.0s\n",
      "[CV] colsample_bytree=0.7, subsample=0.7 .............................\n",
      "[CV]  colsample_bytree=0.7, subsample=0.7, score=0.847946, total=   0.0s\n",
      "[CV] colsample_bytree=0.7, subsample=0.7 .............................\n",
      "[CV]  colsample_bytree=0.7, subsample=0.7, score=0.841420, total=   0.0s\n",
      "[CV] colsample_bytree=0.7, subsample=0.7 .............................\n",
      "[CV]  colsample_bytree=0.7, subsample=0.7, score=0.893424, total=   0.0s\n",
      "[CV] colsample_bytree=0.7, subsample=0.7 .............................\n",
      "[CV]  colsample_bytree=0.7, subsample=0.7, score=0.938359, total=   0.1s\n",
      "[CV] colsample_bytree=0.7, subsample=0.8 .............................\n",
      "[CV]  colsample_bytree=0.7, subsample=0.8, score=0.832923, total=   0.0s\n",
      "[CV] colsample_bytree=0.7, subsample=0.8 .............................\n",
      "[CV]  colsample_bytree=0.7, subsample=0.8, score=0.838350, total=   0.0s\n",
      "[CV] colsample_bytree=0.7, subsample=0.8 .............................\n",
      "[CV]  colsample_bytree=0.7, subsample=0.8, score=0.890860, total=   0.0s\n",
      "[CV] colsample_bytree=0.7, subsample=0.8 .............................\n"
     ]
    },
    {
     "name": "stdout",
     "output_type": "stream",
     "text": [
      "[CV]  colsample_bytree=0.7, subsample=0.8, score=0.934857, total=   0.1s\n",
      "[CV] colsample_bytree=0.7, subsample=0.9 .............................\n",
      "[CV]  colsample_bytree=0.7, subsample=0.9, score=0.841411, total=   0.0s\n",
      "[CV] colsample_bytree=0.7, subsample=0.9 .............................\n",
      "[CV]  colsample_bytree=0.7, subsample=0.9, score=0.843539, total=   0.0s\n",
      "[CV] colsample_bytree=0.7, subsample=0.9 .............................\n",
      "[CV]  colsample_bytree=0.7, subsample=0.9, score=0.887717, total=   0.0s\n",
      "[CV] colsample_bytree=0.7, subsample=0.9 .............................\n",
      "[CV]  colsample_bytree=0.7, subsample=0.9, score=0.934331, total=   0.0s\n",
      "[CV] colsample_bytree=0.7, subsample=1.0 .............................\n",
      "[CV]  colsample_bytree=0.7, subsample=1.0, score=0.838185, total=   0.0s\n",
      "[CV] colsample_bytree=0.7, subsample=1.0 .............................\n",
      "[CV]  colsample_bytree=0.7, subsample=1.0, score=0.836101, total=   0.0s\n",
      "[CV] colsample_bytree=0.7, subsample=1.0 .............................\n",
      "[CV]  colsample_bytree=0.7, subsample=1.0, score=0.883830, total=   0.0s\n",
      "[CV] colsample_bytree=0.7, subsample=1.0 .............................\n",
      "[CV]  colsample_bytree=0.7, subsample=1.0, score=0.934069, total=   0.0s\n",
      "[CV] colsample_bytree=0.8, subsample=0.5 .............................\n",
      "[CV]  colsample_bytree=0.8, subsample=0.5, score=0.842599, total=   0.0s\n",
      "[CV] colsample_bytree=0.8, subsample=0.5 .............................\n",
      "[CV]  colsample_bytree=0.8, subsample=0.5, score=0.834501, total=   0.0s\n",
      "[CV] colsample_bytree=0.8, subsample=0.5 .............................\n",
      "[CV]  colsample_bytree=0.8, subsample=0.5, score=0.897725, total=   0.0s\n",
      "[CV] colsample_bytree=0.8, subsample=0.5 .............................\n",
      "[CV]  colsample_bytree=0.8, subsample=0.5, score=0.939103, total=   0.0s\n",
      "[CV] colsample_bytree=0.8, subsample=0.6 .............................\n",
      "[CV]  colsample_bytree=0.8, subsample=0.6, score=0.840986, total=   0.0s\n",
      "[CV] colsample_bytree=0.8, subsample=0.6 .............................\n",
      "[CV]  colsample_bytree=0.8, subsample=0.6, score=0.833852, total=   0.0s\n",
      "[CV] colsample_bytree=0.8, subsample=0.6 .............................\n",
      "[CV]  colsample_bytree=0.8, subsample=0.6, score=0.892763, total=   0.0s\n",
      "[CV] colsample_bytree=0.8, subsample=0.6 .............................\n",
      "[CV]  colsample_bytree=0.8, subsample=0.6, score=0.932230, total=   0.1s\n",
      "[CV] colsample_bytree=0.8, subsample=0.7 .............................\n",
      "[CV]  colsample_bytree=0.8, subsample=0.7, score=0.847267, total=   0.0s\n",
      "[CV] colsample_bytree=0.8, subsample=0.7 .............................\n",
      "[CV]  colsample_bytree=0.8, subsample=0.7, score=0.836533, total=   0.0s\n",
      "[CV] colsample_bytree=0.8, subsample=0.7 .............................\n",
      "[CV]  colsample_bytree=0.8, subsample=0.7, score=0.890778, total=   0.0s\n",
      "[CV] colsample_bytree=0.8, subsample=0.7 .............................\n",
      "[CV]  colsample_bytree=0.8, subsample=0.7, score=0.934507, total=   0.0s\n",
      "[CV] colsample_bytree=0.8, subsample=0.8 .............................\n",
      "[CV]  colsample_bytree=0.8, subsample=0.8, score=0.836742, total=   0.0s\n",
      "[CV] colsample_bytree=0.8, subsample=0.8 .............................\n",
      "[CV]  colsample_bytree=0.8, subsample=0.8, score=0.836836, total=   0.0s\n",
      "[CV] colsample_bytree=0.8, subsample=0.8 .............................\n",
      "[CV]  colsample_bytree=0.8, subsample=0.8, score=0.889454, total=   0.0s\n",
      "[CV] colsample_bytree=0.8, subsample=0.8 .............................\n",
      "[CV]  colsample_bytree=0.8, subsample=0.8, score=0.933894, total=   0.0s\n",
      "[CV] colsample_bytree=0.8, subsample=0.9 .............................\n",
      "[CV]  colsample_bytree=0.8, subsample=0.9, score=0.832414, total=   0.0s\n",
      "[CV] colsample_bytree=0.8, subsample=0.9 .............................\n",
      "[CV]  colsample_bytree=0.8, subsample=0.9, score=0.843020, total=   0.0s\n",
      "[CV] colsample_bytree=0.8, subsample=0.9 .............................\n",
      "[CV]  colsample_bytree=0.8, subsample=0.9, score=0.884822, total=   0.0s\n",
      "[CV] colsample_bytree=0.8, subsample=0.9 .............................\n",
      "[CV]  colsample_bytree=0.8, subsample=0.9, score=0.933631, total=   0.0s\n",
      "[CV] colsample_bytree=0.8, subsample=1.0 .............................\n",
      "[CV]  colsample_bytree=0.8, subsample=1.0, score=0.832753, total=   0.0s\n",
      "[CV] colsample_bytree=0.8, subsample=1.0 .............................\n",
      "[CV]  colsample_bytree=0.8, subsample=1.0, score=0.845442, total=   0.0s\n",
      "[CV] colsample_bytree=0.8, subsample=1.0 .............................\n",
      "[CV]  colsample_bytree=0.8, subsample=1.0, score=0.884367, total=   0.0s\n",
      "[CV] colsample_bytree=0.8, subsample=1.0 .............................\n",
      "[CV]  colsample_bytree=0.8, subsample=1.0, score=0.931573, total=   0.0s\n",
      "[CV] colsample_bytree=0.9, subsample=0.5 .............................\n",
      "[CV]  colsample_bytree=0.9, subsample=0.5, score=0.840986, total=   0.0s\n",
      "[CV] colsample_bytree=0.9, subsample=0.5 .............................\n",
      "[CV]  colsample_bytree=0.9, subsample=0.5, score=0.834069, total=   0.0s\n",
      "[CV] colsample_bytree=0.9, subsample=0.5 .............................\n",
      "[CV]  colsample_bytree=0.9, subsample=0.5, score=0.884243, total=   0.1s\n",
      "[CV] colsample_bytree=0.9, subsample=0.5 .............................\n",
      "[CV]  colsample_bytree=0.9, subsample=0.5, score=0.937571, total=   0.0s\n",
      "[CV] colsample_bytree=0.9, subsample=0.6 .............................\n",
      "[CV]  colsample_bytree=0.9, subsample=0.6, score=0.840307, total=   0.0s\n",
      "[CV] colsample_bytree=0.9, subsample=0.6 .............................\n",
      "[CV]  colsample_bytree=0.9, subsample=0.6, score=0.835063, total=   0.1s\n",
      "[CV] colsample_bytree=0.9, subsample=0.6 .............................\n",
      "[CV]  colsample_bytree=0.9, subsample=0.6, score=0.890281, total=   0.0s\n",
      "[CV] colsample_bytree=0.9, subsample=0.6 .............................\n",
      "[CV]  colsample_bytree=0.9, subsample=0.6, score=0.932580, total=   0.1s\n",
      "[CV] colsample_bytree=0.9, subsample=0.7 .............................\n",
      "[CV]  colsample_bytree=0.9, subsample=0.7, score=0.842344, total=   0.0s\n",
      "[CV] colsample_bytree=0.9, subsample=0.7 .............................\n",
      "[CV]  colsample_bytree=0.9, subsample=0.7, score=0.832468, total=   0.0s\n",
      "[CV] colsample_bytree=0.9, subsample=0.7 .............................\n",
      "[CV]  colsample_bytree=0.9, subsample=0.7, score=0.888296, total=   0.2s\n",
      "[CV] colsample_bytree=0.9, subsample=0.7 .............................\n",
      "[CV]  colsample_bytree=0.9, subsample=0.7, score=0.930479, total=   0.0s\n",
      "[CV] colsample_bytree=0.9, subsample=0.8 .............................\n",
      "[CV]  colsample_bytree=0.9, subsample=0.8, score=0.838779, total=   0.1s\n",
      "[CV] colsample_bytree=0.9, subsample=0.8 .............................\n",
      "[CV]  colsample_bytree=0.9, subsample=0.8, score=0.837917, total=   0.0s\n",
      "[CV] colsample_bytree=0.9, subsample=0.8 .............................\n",
      "[CV]  colsample_bytree=0.9, subsample=0.8, score=0.891108, total=   0.0s\n",
      "[CV] colsample_bytree=0.9, subsample=0.8 .............................\n",
      "[CV]  colsample_bytree=0.9, subsample=0.8, score=0.933281, total=   0.1s\n",
      "[CV] colsample_bytree=0.9, subsample=0.9 .............................\n",
      "[CV]  colsample_bytree=0.9, subsample=0.9, score=0.839883, total=   0.0s\n",
      "[CV] colsample_bytree=0.9, subsample=0.9 .............................\n",
      "[CV]  colsample_bytree=0.9, subsample=0.9, score=0.843020, total=   0.0s\n",
      "[CV] colsample_bytree=0.9, subsample=0.9 .............................\n",
      "[CV]  colsample_bytree=0.9, subsample=0.9, score=0.888958, total=   0.0s\n",
      "[CV] colsample_bytree=0.9, subsample=0.9 .............................\n",
      "[CV]  colsample_bytree=0.9, subsample=0.9, score=0.935557, total=   0.0s\n",
      "[CV] colsample_bytree=0.9, subsample=1.0 .............................\n",
      "[CV]  colsample_bytree=0.9, subsample=1.0, score=0.839628, total=   0.0s\n",
      "[CV] colsample_bytree=0.9, subsample=1.0 .............................\n",
      "[CV]  colsample_bytree=0.9, subsample=1.0, score=0.839128, total=   0.0s\n",
      "[CV] colsample_bytree=0.9, subsample=1.0 .............................\n",
      "[CV]  colsample_bytree=0.9, subsample=1.0, score=0.889578, total=   0.0s\n",
      "[CV] colsample_bytree=0.9, subsample=1.0 .............................\n",
      "[CV]  colsample_bytree=0.9, subsample=1.0, score=0.930085, total=   0.0s\n",
      "[CV] colsample_bytree=1.0, subsample=0.5 .............................\n"
     ]
    },
    {
     "name": "stdout",
     "output_type": "stream",
     "text": [
      "[CV]  colsample_bytree=1.0, subsample=0.5, score=0.843872, total=   0.0s\n",
      "[CV] colsample_bytree=1.0, subsample=0.5 .............................\n",
      "[CV]  colsample_bytree=1.0, subsample=0.5, score=0.836015, total=   0.0s\n",
      "[CV] colsample_bytree=1.0, subsample=0.5 .............................\n",
      "[CV]  colsample_bytree=1.0, subsample=0.5, score=0.887345, total=   0.0s\n",
      "[CV] colsample_bytree=1.0, subsample=0.5 .............................\n",
      "[CV]  colsample_bytree=1.0, subsample=0.5, score=0.937221, total=   0.0s\n",
      "[CV] colsample_bytree=1.0, subsample=0.6 .............................\n",
      "[CV]  colsample_bytree=1.0, subsample=0.6, score=0.833772, total=   0.0s\n",
      "[CV] colsample_bytree=1.0, subsample=0.6 .............................\n",
      "[CV]  colsample_bytree=1.0, subsample=0.6, score=0.837571, total=   0.0s\n",
      "[CV] colsample_bytree=1.0, subsample=0.6 .............................\n",
      "[CV]  colsample_bytree=1.0, subsample=0.6, score=0.891191, total=   0.0s\n",
      "[CV] colsample_bytree=1.0, subsample=0.6 .............................\n",
      "[CV]  colsample_bytree=1.0, subsample=0.6, score=0.928640, total=   0.0s\n",
      "[CV] colsample_bytree=1.0, subsample=0.7 .............................\n",
      "[CV]  colsample_bytree=1.0, subsample=0.7, score=0.837082, total=   0.0s\n",
      "[CV] colsample_bytree=1.0, subsample=0.7 .............................\n",
      "[CV]  colsample_bytree=1.0, subsample=0.7, score=0.833117, total=   0.0s\n",
      "[CV] colsample_bytree=1.0, subsample=0.7 .............................\n",
      "[CV]  colsample_bytree=1.0, subsample=0.7, score=0.888710, total=   0.0s\n",
      "[CV] colsample_bytree=1.0, subsample=0.7 .............................\n",
      "[CV]  colsample_bytree=1.0, subsample=0.7, score=0.934769, total=   0.0s\n",
      "[CV] colsample_bytree=1.0, subsample=0.8 .............................\n",
      "[CV]  colsample_bytree=1.0, subsample=0.8, score=0.834790, total=   0.0s\n",
      "[CV] colsample_bytree=1.0, subsample=0.8 .............................\n",
      "[CV]  colsample_bytree=1.0, subsample=0.8, score=0.844361, total=   0.0s\n",
      "[CV] colsample_bytree=1.0, subsample=0.8 .............................\n",
      "[CV]  colsample_bytree=1.0, subsample=0.8, score=0.890612, total=   0.0s\n",
      "[CV] colsample_bytree=1.0, subsample=0.8 .............................\n",
      "[CV]  colsample_bytree=1.0, subsample=0.8, score=0.930479, total=   0.0s\n",
      "[CV] colsample_bytree=1.0, subsample=0.9 .............................\n",
      "[CV]  colsample_bytree=1.0, subsample=0.9, score=0.840222, total=   0.0s\n",
      "[CV] colsample_bytree=1.0, subsample=0.9 .............................\n",
      "[CV]  colsample_bytree=1.0, subsample=0.9, score=0.836923, total=   0.0s\n",
      "[CV] colsample_bytree=1.0, subsample=0.9 .............................\n",
      "[CV]  colsample_bytree=1.0, subsample=0.9, score=0.890364, total=   0.0s\n",
      "[CV] colsample_bytree=1.0, subsample=0.9 .............................\n",
      "[CV]  colsample_bytree=1.0, subsample=0.9, score=0.931880, total=   0.0s\n",
      "[CV] colsample_bytree=1.0, subsample=1.0 .............................\n",
      "[CV]  colsample_bytree=1.0, subsample=1.0, score=0.833517, total=   0.0s\n",
      "[CV] colsample_bytree=1.0, subsample=1.0 .............................\n",
      "[CV]  colsample_bytree=1.0, subsample=1.0, score=0.845139, total=   0.0s\n",
      "[CV] colsample_bytree=1.0, subsample=1.0 .............................\n",
      "[CV]  colsample_bytree=1.0, subsample=1.0, score=0.890033, total=   0.0s\n",
      "[CV] colsample_bytree=1.0, subsample=1.0 .............................\n",
      "[CV]  colsample_bytree=1.0, subsample=1.0, score=0.929297, total=   0.0s\n",
      "Best score (AUC):  0.880222241438\n",
      "Best params: \n"
     ]
    },
    {
     "name": "stderr",
     "output_type": "stream",
     "text": [
      "[Parallel(n_jobs=1)]: Done 144 out of 144 | elapsed:   13.5s finished\n"
     ]
    },
    {
     "data": {
      "text/plain": [
       "{'base_score': 0.5,\n",
       " 'colsample_bylevel': 1,\n",
       " 'colsample_bytree': 0.7,\n",
       " 'gamma': 0.4,\n",
       " 'learning_rate': 0.1,\n",
       " 'max_delta_step': 0,\n",
       " 'max_depth': 9,\n",
       " 'min_child_weight': 1,\n",
       " 'missing': None,\n",
       " 'n_estimators': 200,\n",
       " 'nthread': -1,\n",
       " 'objective': 'binary:logistic',\n",
       " 'reg_alpha': 0.0,\n",
       " 'reg_lambda': 1.0,\n",
       " 'scale_pos_weight': 0.6229508196721312,\n",
       " 'seed': 0,\n",
       " 'silent': True,\n",
       " 'subsample': 0.7}"
      ]
     },
     "execution_count": 12,
     "metadata": {},
     "output_type": "execute_result"
    }
   ],
   "source": [
    "param_grid = {\n",
    "    'subsample': [0.5 + 0.1*i for i in range(6)],\n",
    "    'colsample_bytree': [0.5 + 0.1*i for i in range(6)]\n",
    "}\n",
    "\n",
    "clf = XGBClassifier(**best_params)\n",
    "\n",
    "gs = GridSearchCV(clf, param_grid, scoring='roc_auc', cv=cv, verbose=5)\n",
    "\n",
    "gs.fit(X_train, y_train)\n",
    "best_params = gs.best_estimator_.get_params()\n",
    "print('Best score (AUC): ', gs.best_score_)\n",
    "print('Best params: ')\n",
    "best_params"
   ]
  },
  {
   "cell_type": "code",
   "execution_count": 13,
   "metadata": {},
   "outputs": [
    {
     "name": "stdout",
     "output_type": "stream",
     "text": [
      "Fitting 4 folds for each of 25 candidates, totalling 100 fits\n",
      "[CV] reg_alpha=1e-05, reg_lambda=1e-05 ...............................\n",
      "[CV]  reg_alpha=1e-05, reg_lambda=1e-05, score=0.901936, total=   0.2s\n",
      "[CV] reg_alpha=1e-05, reg_lambda=1e-05 ...............................\n",
      "[CV]  reg_alpha=1e-05, reg_lambda=1e-05, score=0.864662, total=   0.0s\n",
      "[CV] reg_alpha=1e-05, reg_lambda=1e-05 ...............................\n",
      "[CV]  reg_alpha=1e-05, reg_lambda=1e-05, score=0.866349, total=   0.0s\n",
      "[CV] reg_alpha=1e-05, reg_lambda=1e-05 ...............................\n"
     ]
    },
    {
     "name": "stderr",
     "output_type": "stream",
     "text": [
      "[Parallel(n_jobs=1)]: Done   1 out of   1 | elapsed:    0.2s remaining:    0.0s\n",
      "[Parallel(n_jobs=1)]: Done   2 out of   2 | elapsed:    0.3s remaining:    0.0s\n",
      "[Parallel(n_jobs=1)]: Done   3 out of   3 | elapsed:    0.4s remaining:    0.0s\n"
     ]
    },
    {
     "name": "stdout",
     "output_type": "stream",
     "text": [
      "[CV]  reg_alpha=1e-05, reg_lambda=1e-05, score=0.854832, total=   0.0s\n",
      "[CV] reg_alpha=1e-05, reg_lambda=0.01 ................................\n",
      "[CV] . reg_alpha=1e-05, reg_lambda=0.01, score=0.900842, total=   0.0s\n",
      "[CV] reg_alpha=1e-05, reg_lambda=0.01 ................................\n",
      "[CV] . reg_alpha=1e-05, reg_lambda=0.01, score=0.865414, total=   0.0s\n",
      "[CV] reg_alpha=1e-05, reg_lambda=0.01 ................................\n"
     ]
    },
    {
     "name": "stderr",
     "output_type": "stream",
     "text": [
      "[Parallel(n_jobs=1)]: Done   4 out of   4 | elapsed:    0.4s remaining:    0.0s\n"
     ]
    },
    {
     "name": "stdout",
     "output_type": "stream",
     "text": [
      "[CV] . reg_alpha=1e-05, reg_lambda=0.01, score=0.861190, total=   0.0s\n",
      "[CV] reg_alpha=1e-05, reg_lambda=0.01 ................................\n",
      "[CV] . reg_alpha=1e-05, reg_lambda=0.01, score=0.857982, total=   0.0s\n",
      "[CV] reg_alpha=1e-05, reg_lambda=0.1 .................................\n",
      "[CV] .. reg_alpha=1e-05, reg_lambda=0.1, score=0.903956, total=   0.1s\n",
      "[CV] reg_alpha=1e-05, reg_lambda=0.1 .................................\n",
      "[CV] .. reg_alpha=1e-05, reg_lambda=0.1, score=0.860986, total=   0.0s\n",
      "[CV] reg_alpha=1e-05, reg_lambda=0.1 .................................\n",
      "[CV] .. reg_alpha=1e-05, reg_lambda=0.1, score=0.864659, total=   0.0s\n",
      "[CV] reg_alpha=1e-05, reg_lambda=0.1 .................................\n",
      "[CV] .. reg_alpha=1e-05, reg_lambda=0.1, score=0.853895, total=   0.2s\n",
      "[CV] reg_alpha=1e-05, reg_lambda=1 ...................................\n",
      "[CV] .... reg_alpha=1e-05, reg_lambda=1, score=0.901599, total=   0.0s\n",
      "[CV] reg_alpha=1e-05, reg_lambda=1 ...................................\n",
      "[CV] .... reg_alpha=1e-05, reg_lambda=1, score=0.865497, total=   0.0s\n",
      "[CV] reg_alpha=1e-05, reg_lambda=1 ...................................\n",
      "[CV] .... reg_alpha=1e-05, reg_lambda=1, score=0.869552, total=   0.0s\n",
      "[CV] reg_alpha=1e-05, reg_lambda=1 ...................................\n",
      "[CV] .... reg_alpha=1e-05, reg_lambda=1, score=0.862750, total=   0.0s\n",
      "[CV] reg_alpha=1e-05, reg_lambda=100 .................................\n",
      "[CV] .. reg_alpha=1e-05, reg_lambda=100, score=0.908039, total=   0.0s\n",
      "[CV] reg_alpha=1e-05, reg_lambda=100 .................................\n",
      "[CV] .. reg_alpha=1e-05, reg_lambda=100, score=0.857185, total=   0.1s\n",
      "[CV] reg_alpha=1e-05, reg_lambda=100 .................................\n",
      "[CV] .. reg_alpha=1e-05, reg_lambda=100, score=0.842065, total=   0.0s\n",
      "[CV] reg_alpha=1e-05, reg_lambda=100 .................................\n",
      "[CV] .. reg_alpha=1e-05, reg_lambda=100, score=0.817412, total=   0.2s\n",
      "[CV] reg_alpha=0.01, reg_lambda=1e-05 ................................\n",
      "[CV] . reg_alpha=0.01, reg_lambda=1e-05, score=0.899074, total=   0.0s\n",
      "[CV] reg_alpha=0.01, reg_lambda=1e-05 ................................\n",
      "[CV] . reg_alpha=0.01, reg_lambda=1e-05, score=0.865079, total=   0.0s\n",
      "[CV] reg_alpha=0.01, reg_lambda=1e-05 ................................\n",
      "[CV] . reg_alpha=0.01, reg_lambda=1e-05, score=0.862080, total=   0.1s\n",
      "[CV] reg_alpha=0.01, reg_lambda=1e-05 ................................\n",
      "[CV] . reg_alpha=0.01, reg_lambda=1e-05, score=0.855683, total=   0.0s\n",
      "[CV] reg_alpha=0.01, reg_lambda=0.01 .................................\n",
      "[CV] .. reg_alpha=0.01, reg_lambda=0.01, score=0.896633, total=   0.0s\n",
      "[CV] reg_alpha=0.01, reg_lambda=0.01 .................................\n",
      "[CV] .. reg_alpha=0.01, reg_lambda=0.01, score=0.863241, total=   0.1s\n",
      "[CV] reg_alpha=0.01, reg_lambda=0.01 .................................\n",
      "[CV] .. reg_alpha=0.01, reg_lambda=0.01, score=0.860656, total=   0.0s\n",
      "[CV] reg_alpha=0.01, reg_lambda=0.01 .................................\n",
      "[CV] .. reg_alpha=0.01, reg_lambda=0.01, score=0.856109, total=   0.0s\n",
      "[CV] reg_alpha=0.01, reg_lambda=0.1 ..................................\n",
      "[CV] ... reg_alpha=0.01, reg_lambda=0.1, score=0.898653, total=   0.0s\n",
      "[CV] reg_alpha=0.01, reg_lambda=0.1 ..................................\n",
      "[CV] ... reg_alpha=0.01, reg_lambda=0.1, score=0.865831, total=   0.0s\n",
      "[CV] reg_alpha=0.01, reg_lambda=0.1 ..................................\n",
      "[CV] ... reg_alpha=0.01, reg_lambda=0.1, score=0.864304, total=   0.0s\n",
      "[CV] reg_alpha=0.01, reg_lambda=0.1 ..................................\n",
      "[CV] ... reg_alpha=0.01, reg_lambda=0.1, score=0.857216, total=   0.0s\n",
      "[CV] reg_alpha=0.01, reg_lambda=1 ....................................\n",
      "[CV] ..... reg_alpha=0.01, reg_lambda=1, score=0.895118, total=   0.1s\n",
      "[CV] reg_alpha=0.01, reg_lambda=1 ....................................\n",
      "[CV] ..... reg_alpha=0.01, reg_lambda=1, score=0.862490, total=   0.1s\n",
      "[CV] reg_alpha=0.01, reg_lambda=1 ....................................\n",
      "[CV] ..... reg_alpha=0.01, reg_lambda=1, score=0.869463, total=   0.0s\n",
      "[CV] reg_alpha=0.01, reg_lambda=1 ....................................\n",
      "[CV] ..... reg_alpha=0.01, reg_lambda=1, score=0.865645, total=   0.0s\n",
      "[CV] reg_alpha=0.01, reg_lambda=100 ..................................\n",
      "[CV] ... reg_alpha=0.01, reg_lambda=100, score=0.908207, total=   0.0s\n",
      "[CV] reg_alpha=0.01, reg_lambda=100 ..................................\n",
      "[CV] ... reg_alpha=0.01, reg_lambda=100, score=0.857435, total=   0.0s\n",
      "[CV] reg_alpha=0.01, reg_lambda=100 ..................................\n",
      "[CV] ... reg_alpha=0.01, reg_lambda=100, score=0.841843, total=   0.0s\n",
      "[CV] reg_alpha=0.01, reg_lambda=100 ..................................\n",
      "[CV] ... reg_alpha=0.01, reg_lambda=100, score=0.817454, total=   0.0s\n",
      "[CV] reg_alpha=0.1, reg_lambda=1e-05 .................................\n",
      "[CV] .. reg_alpha=0.1, reg_lambda=1e-05, score=0.901684, total=   0.0s\n",
      "[CV] reg_alpha=0.1, reg_lambda=1e-05 .................................\n",
      "[CV] .. reg_alpha=0.1, reg_lambda=1e-05, score=0.860902, total=   0.0s\n",
      "[CV] reg_alpha=0.1, reg_lambda=1e-05 .................................\n",
      "[CV] .. reg_alpha=0.1, reg_lambda=1e-05, score=0.869463, total=   0.0s\n",
      "[CV] reg_alpha=0.1, reg_lambda=1e-05 .................................\n",
      "[CV] .. reg_alpha=0.1, reg_lambda=1e-05, score=0.865390, total=   0.0s\n",
      "[CV] reg_alpha=0.1, reg_lambda=0.01 ..................................\n",
      "[CV] ... reg_alpha=0.1, reg_lambda=0.01, score=0.901515, total=   0.0s\n",
      "[CV] reg_alpha=0.1, reg_lambda=0.01 ..................................\n",
      "[CV] ... reg_alpha=0.1, reg_lambda=0.01, score=0.862991, total=   0.0s\n",
      "[CV] reg_alpha=0.1, reg_lambda=0.01 ..................................\n",
      "[CV] ... reg_alpha=0.1, reg_lambda=0.01, score=0.864570, total=   0.0s\n",
      "[CV] reg_alpha=0.1, reg_lambda=0.01 ..................................\n",
      "[CV] ... reg_alpha=0.1, reg_lambda=0.01, score=0.857471, total=   0.0s\n",
      "[CV] reg_alpha=0.1, reg_lambda=0.1 ...................................\n",
      "[CV] .... reg_alpha=0.1, reg_lambda=0.1, score=0.900589, total=   0.1s\n",
      "[CV] reg_alpha=0.1, reg_lambda=0.1 ...................................\n",
      "[CV] .... reg_alpha=0.1, reg_lambda=0.1, score=0.861988, total=   0.1s\n",
      "[CV] reg_alpha=0.1, reg_lambda=0.1 ...................................\n",
      "[CV] .... reg_alpha=0.1, reg_lambda=0.1, score=0.865015, total=   0.0s\n",
      "[CV] reg_alpha=0.1, reg_lambda=0.1 ...................................\n",
      "[CV] .... reg_alpha=0.1, reg_lambda=0.1, score=0.858919, total=   0.0s\n",
      "[CV] reg_alpha=0.1, reg_lambda=1 .....................................\n",
      "[CV] ...... reg_alpha=0.1, reg_lambda=1, score=0.904966, total=   0.0s\n",
      "[CV] reg_alpha=0.1, reg_lambda=1 .....................................\n",
      "[CV] ...... reg_alpha=0.1, reg_lambda=1, score=0.866917, total=   0.0s\n",
      "[CV] reg_alpha=0.1, reg_lambda=1 .....................................\n",
      "[CV] ...... reg_alpha=0.1, reg_lambda=1, score=0.867283, total=   0.0s\n",
      "[CV] reg_alpha=0.1, reg_lambda=1 .....................................\n",
      "[CV] ...... reg_alpha=0.1, reg_lambda=1, score=0.864708, total=   0.0s\n",
      "[CV] reg_alpha=0.1, reg_lambda=100 ...................................\n",
      "[CV] .... reg_alpha=0.1, reg_lambda=100, score=0.908207, total=   0.0s\n",
      "[CV] reg_alpha=0.1, reg_lambda=100 ...................................\n",
      "[CV] .... reg_alpha=0.1, reg_lambda=100, score=0.856809, total=   0.0s\n",
      "[CV] reg_alpha=0.1, reg_lambda=100 ...................................\n",
      "[CV] .... reg_alpha=0.1, reg_lambda=100, score=0.841932, total=   0.0s\n",
      "[CV] reg_alpha=0.1, reg_lambda=100 ...................................\n",
      "[CV] .... reg_alpha=0.1, reg_lambda=100, score=0.817539, total=   0.0s\n",
      "[CV] reg_alpha=1, reg_lambda=1e-05 ...................................\n",
      "[CV] .... reg_alpha=1, reg_lambda=1e-05, score=0.905808, total=   0.2s\n",
      "[CV] reg_alpha=1, reg_lambda=1e-05 ...................................\n",
      "[CV] .... reg_alpha=1, reg_lambda=1e-05, score=0.866583, total=   0.0s\n",
      "[CV] reg_alpha=1, reg_lambda=1e-05 ...................................\n",
      "[CV] .... reg_alpha=1, reg_lambda=1e-05, score=0.873732, total=   0.0s\n",
      "[CV] reg_alpha=1, reg_lambda=1e-05 ...................................\n",
      "[CV] .... reg_alpha=1, reg_lambda=1e-05, score=0.870541, total=   0.0s\n",
      "[CV] reg_alpha=1, reg_lambda=0.01 ....................................\n"
     ]
    },
    {
     "name": "stdout",
     "output_type": "stream",
     "text": [
      "[CV] ..... reg_alpha=1, reg_lambda=0.01, score=0.907744, total=   0.0s\n",
      "[CV] reg_alpha=1, reg_lambda=0.01 ....................................\n",
      "[CV] ..... reg_alpha=1, reg_lambda=0.01, score=0.864244, total=   0.0s\n",
      "[CV] reg_alpha=1, reg_lambda=0.01 ....................................\n",
      "[CV] ..... reg_alpha=1, reg_lambda=0.01, score=0.870797, total=   0.0s\n",
      "[CV] reg_alpha=1, reg_lambda=0.01 ....................................\n",
      "[CV] ..... reg_alpha=1, reg_lambda=0.01, score=0.869860, total=   0.0s\n",
      "[CV] reg_alpha=1, reg_lambda=0.1 .....................................\n",
      "[CV] ...... reg_alpha=1, reg_lambda=0.1, score=0.906145, total=   0.3s\n",
      "[CV] reg_alpha=1, reg_lambda=0.1 .....................................\n",
      "[CV] ...... reg_alpha=1, reg_lambda=0.1, score=0.864077, total=   0.0s\n",
      "[CV] reg_alpha=1, reg_lambda=0.1 .....................................\n",
      "[CV] ...... reg_alpha=1, reg_lambda=0.1, score=0.871864, total=   0.0s\n",
      "[CV] reg_alpha=1, reg_lambda=0.1 .....................................\n",
      "[CV] ...... reg_alpha=1, reg_lambda=0.1, score=0.865006, total=   0.0s\n",
      "[CV] reg_alpha=1, reg_lambda=1 .......................................\n",
      "[CV] ........ reg_alpha=1, reg_lambda=1, score=0.906650, total=   0.0s\n",
      "[CV] reg_alpha=1, reg_lambda=1 .......................................\n",
      "[CV] ........ reg_alpha=1, reg_lambda=1, score=0.866667, total=   0.1s\n",
      "[CV] reg_alpha=1, reg_lambda=1 .......................................\n",
      "[CV] ........ reg_alpha=1, reg_lambda=1, score=0.865771, total=   0.0s\n",
      "[CV] reg_alpha=1, reg_lambda=1 .......................................\n",
      "[CV] ........ reg_alpha=1, reg_lambda=1, score=0.864325, total=   0.0s\n",
      "[CV] reg_alpha=1, reg_lambda=100 .....................................\n",
      "[CV] ...... reg_alpha=1, reg_lambda=100, score=0.909091, total=   0.0s\n",
      "[CV] reg_alpha=1, reg_lambda=100 .....................................\n",
      "[CV] ...... reg_alpha=1, reg_lambda=100, score=0.854720, total=   0.0s\n",
      "[CV] reg_alpha=1, reg_lambda=100 .....................................\n",
      "[CV] ...... reg_alpha=1, reg_lambda=100, score=0.839086, total=   0.0s\n",
      "[CV] reg_alpha=1, reg_lambda=100 .....................................\n",
      "[CV] ...... reg_alpha=1, reg_lambda=100, score=0.816645, total=   0.0s\n",
      "[CV] reg_alpha=100, reg_lambda=1e-05 .................................\n",
      "[CV] .. reg_alpha=100, reg_lambda=1e-05, score=0.824116, total=   0.0s\n",
      "[CV] reg_alpha=100, reg_lambda=1e-05 .................................\n",
      "[CV] .. reg_alpha=100, reg_lambda=1e-05, score=0.769591, total=   0.0s\n",
      "[CV] reg_alpha=100, reg_lambda=1e-05 .................................\n",
      "[CV] .. reg_alpha=100, reg_lambda=1e-05, score=0.762275, total=   0.0s\n",
      "[CV] reg_alpha=100, reg_lambda=1e-05 .................................\n",
      "[CV] .. reg_alpha=100, reg_lambda=1e-05, score=0.730311, total=   0.0s\n",
      "[CV] reg_alpha=100, reg_lambda=0.01 ..................................\n",
      "[CV] ... reg_alpha=100, reg_lambda=0.01, score=0.824116, total=   0.0s\n",
      "[CV] reg_alpha=100, reg_lambda=0.01 ..................................\n",
      "[CV] ... reg_alpha=100, reg_lambda=0.01, score=0.769591, total=   0.0s\n",
      "[CV] reg_alpha=100, reg_lambda=0.01 ..................................\n",
      "[CV] ... reg_alpha=100, reg_lambda=0.01, score=0.762275, total=   0.0s\n",
      "[CV] reg_alpha=100, reg_lambda=0.01 ..................................\n",
      "[CV] ... reg_alpha=100, reg_lambda=0.01, score=0.730311, total=   0.0s\n",
      "[CV] reg_alpha=100, reg_lambda=0.1 ...................................\n",
      "[CV] .... reg_alpha=100, reg_lambda=0.1, score=0.824116, total=   0.0s\n",
      "[CV] reg_alpha=100, reg_lambda=0.1 ...................................\n",
      "[CV] .... reg_alpha=100, reg_lambda=0.1, score=0.769591, total=   0.0s\n",
      "[CV] reg_alpha=100, reg_lambda=0.1 ...................................\n",
      "[CV] .... reg_alpha=100, reg_lambda=0.1, score=0.762275, total=   0.0s\n",
      "[CV] reg_alpha=100, reg_lambda=0.1 ...................................\n",
      "[CV] .... reg_alpha=100, reg_lambda=0.1, score=0.730311, total=   0.0s\n",
      "[CV] reg_alpha=100, reg_lambda=1 .....................................\n",
      "[CV] ...... reg_alpha=100, reg_lambda=1, score=0.824116, total=   0.0s\n",
      "[CV] reg_alpha=100, reg_lambda=1 .....................................\n",
      "[CV] ...... reg_alpha=100, reg_lambda=1, score=0.769591, total=   0.0s\n",
      "[CV] reg_alpha=100, reg_lambda=1 .....................................\n",
      "[CV] ...... reg_alpha=100, reg_lambda=1, score=0.762275, total=   0.0s\n",
      "[CV] reg_alpha=100, reg_lambda=1 .....................................\n",
      "[CV] ...... reg_alpha=100, reg_lambda=1, score=0.730311, total=   0.0s\n",
      "[CV] reg_alpha=100, reg_lambda=100 ...................................\n",
      "[CV] .... reg_alpha=100, reg_lambda=100, score=0.814268, total=   0.0s\n",
      "[CV] reg_alpha=100, reg_lambda=100 ...................................\n",
      "[CV] .... reg_alpha=100, reg_lambda=100, score=0.769591, total=   0.0s\n",
      "[CV] reg_alpha=100, reg_lambda=100 ...................................\n",
      "[CV] .... reg_alpha=100, reg_lambda=100, score=0.749333, total=   0.0s\n",
      "[CV] reg_alpha=100, reg_lambda=100 ...................................\n",
      "[CV] .... reg_alpha=100, reg_lambda=100, score=0.730311, total=   0.0s\n",
      "Best score (AUC):  0.879175753812\n",
      "Best params: \n"
     ]
    },
    {
     "name": "stderr",
     "output_type": "stream",
     "text": [
      "[Parallel(n_jobs=1)]: Done 100 out of 100 | elapsed:    8.4s finished\n"
     ]
    },
    {
     "data": {
      "text/plain": [
       "{'base_score': 0.5,\n",
       " 'colsample_bylevel': 1,\n",
       " 'colsample_bytree': 0.7,\n",
       " 'gamma': 0.4,\n",
       " 'learning_rate': 0.1,\n",
       " 'max_delta_step': 0,\n",
       " 'max_depth': 9,\n",
       " 'min_child_weight': 1,\n",
       " 'missing': None,\n",
       " 'n_estimators': 200,\n",
       " 'nthread': -1,\n",
       " 'objective': 'binary:logistic',\n",
       " 'reg_alpha': 1,\n",
       " 'reg_lambda': 1e-05,\n",
       " 'scale_pos_weight': 0.6229508196721312,\n",
       " 'seed': 0,\n",
       " 'silent': True,\n",
       " 'subsample': 0.7}"
      ]
     },
     "execution_count": 13,
     "metadata": {},
     "output_type": "execute_result"
    }
   ],
   "source": [
    "param_grid = {\n",
    "    'reg_alpha': [1e-5, 1e-2, 0.1, 1, 100],\n",
    "    'reg_lambda': [1e-5, 1e-2, 0.1, 1, 100]\n",
    "}\n",
    "\n",
    "clf = XGBClassifier(**best_params)\n",
    "\n",
    "gs = GridSearchCV(clf, param_grid, scoring='roc_auc', cv=cv, verbose=5)\n",
    "\n",
    "gs.fit(X_train, y_train)\n",
    "best_params = gs.best_estimator_.get_params()\n",
    "print('Best score (AUC): ', gs.best_score_)\n",
    "print('Best params: ')\n",
    "best_params"
   ]
  },
  {
   "cell_type": "code",
   "execution_count": 14,
   "metadata": {},
   "outputs": [
    {
     "name": "stdout",
     "output_type": "stream",
     "text": [
      "Best score (AUC):  0.879175753812\n",
      "Best params: \n"
     ]
    },
    {
     "data": {
      "text/plain": [
       "{'base_score': 0.5,\n",
       " 'colsample_bylevel': 1,\n",
       " 'colsample_bytree': 0.7,\n",
       " 'gamma': 0.4,\n",
       " 'learning_rate': 0.1,\n",
       " 'max_delta_step': 0,\n",
       " 'max_depth': 9,\n",
       " 'min_child_weight': 1,\n",
       " 'missing': None,\n",
       " 'n_estimators': 200,\n",
       " 'nthread': -1,\n",
       " 'objective': 'binary:logistic',\n",
       " 'reg_alpha': 1,\n",
       " 'reg_lambda': 1e-05,\n",
       " 'scale_pos_weight': 0.6229508196721312,\n",
       " 'seed': 0,\n",
       " 'silent': True,\n",
       " 'subsample': 0.7}"
      ]
     },
     "execution_count": 14,
     "metadata": {},
     "output_type": "execute_result"
    }
   ],
   "source": [
    "import numpy as np\n",
    "from sklearn.metrics import roc_auc_score\n",
    "\n",
    "clf = XGBClassifier(**best_params)\n",
    "best_n_estimators = clf.get_params()['n_estimators'] # возьмём наилучшие значения n_estimators с предыдущего шага\n",
    "best_learning_rate = best_params['learning_rate'] # аналогичная запись\n",
    "invariant_composition = best_n_estimators * best_learning_rate\n",
    "n_estimators_range = [10, 30, 100, 200, 400, 600, 800, 1000]\n",
    "\n",
    "best_score = gs.best_score_ # возьмём наилучшее качество с предыдущего шага\n",
    "\n",
    "for n_estimators in n_estimators_range:\n",
    "    learning_rate = invariant_composition / n_estimators\n",
    "    clf.set_params(n_estimators=n_estimators, learning_rate=learning_rate)\n",
    "    aucs = []\n",
    "    for train_idx, test_idx in cv.split(X_train):\n",
    "        X_train_fold, X_test_fold = X_train.iloc[train_idx], X_train.iloc[test_idx]\n",
    "        y_train_fold, y_test_fold = y_train.iloc[train_idx], y_train.iloc[test_idx]\n",
    "        clf.fit(X_train_fold, y_train_fold)\n",
    "        preds = clf.predict_proba(X_test_fold)\n",
    "        auc = roc_auc_score(y_test_fold, preds[:, 1])\n",
    "        aucs.append(auc)\n",
    "    auc = np.mean(aucs)\n",
    "    if auc > best_score:\n",
    "        best_n_estimators = n_estimators\n",
    "        best_learning_rate = learning_rate\n",
    "        best_score = auc\n",
    "        \n",
    "best_params['n_estimators'] = best_n_estimators\n",
    "best_params['learning_rate'] = best_learning_rate\n",
    "\n",
    "print('Best score (AUC): ', best_score)\n",
    "print('Best params: ')\n",
    "best_params"
   ]
  },
  {
   "cell_type": "code",
   "execution_count": 15,
   "metadata": {},
   "outputs": [
    {
     "name": "stdout",
     "output_type": "stream",
     "text": [
      "Feature: \"Pclass\"\tFeature importance: 0.0628\n",
      "Feature: \"Age\"\tFeature importance: 0.3529\n",
      "Feature: \"SibSp\"\tFeature importance: 0.0587\n",
      "Feature: \"Parch\"\tFeature importance: 0.0382\n",
      "Feature: \"Fare\"\tFeature importance: 0.3649\n",
      "Feature: \"Sex_female\"\tFeature importance: 0.0424\n",
      "Feature: \"Sex_male\"\tFeature importance: 0.0148\n",
      "Feature: \"Embarked_C\"\tFeature importance: 0.0304\n",
      "Feature: \"Embarked_Q\"\tFeature importance: 0.0092\n",
      "Feature: \"Embarked_S\"\tFeature importance: 0.0256\n"
     ]
    }
   ],
   "source": [
    "for feature_name, feature_importance in zip(X_train.columns, clf.feature_importances_):\n",
    "    print('Feature: \"%s\"\\tFeature importance: %.4f' % (feature_name, feature_importance))"
   ]
  },
  {
   "cell_type": "code",
   "execution_count": 16,
   "metadata": {
    "collapsed": true
   },
   "outputs": [],
   "source": [
    "clf=XGBClassifier(**best_params)"
   ]
  },
  {
   "cell_type": "code",
   "execution_count": 17,
   "metadata": {
    "collapsed": true
   },
   "outputs": [],
   "source": [
    "model=clf.fit(X_train, y_train)"
   ]
  },
  {
   "cell_type": "code",
   "execution_count": 18,
   "metadata": {
    "collapsed": true
   },
   "outputs": [],
   "source": [
    "pred=model.predict(X_test)"
   ]
  },
  {
   "cell_type": "code",
   "execution_count": 21,
   "metadata": {},
   "outputs": [],
   "source": [
    "with open('submission.txt', 'w') as out:\n",
    "    out.write('PassengerId,Survived\\n')\n",
    "    for passenger, y in zip(test_['PassengerId'], pred):\n",
    "        out.write('%s,%s\\n' % (passenger, y))"
   ]
  },
  {
   "cell_type": "code",
   "execution_count": null,
   "metadata": {
    "collapsed": true
   },
   "outputs": [],
   "source": []
  }
 ],
 "metadata": {
  "kernelspec": {
   "display_name": "Python 3",
   "language": "python",
   "name": "python3"
  },
  "language_info": {
   "codemirror_mode": {
    "name": "ipython",
    "version": 3
   },
   "file_extension": ".py",
   "mimetype": "text/x-python",
   "name": "python",
   "nbconvert_exporter": "python",
   "pygments_lexer": "ipython3",
   "version": "3.6.1"
  }
 },
 "nbformat": 4,
 "nbformat_minor": 2
}
