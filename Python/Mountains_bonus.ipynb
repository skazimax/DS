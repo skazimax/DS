{
 "cells": [
  {
   "cell_type": "code",
   "execution_count": 1,
   "metadata": {
    "collapsed": true
   },
   "outputs": [],
   "source": [
    "import pandas as pd"
   ]
  },
  {
   "cell_type": "code",
   "execution_count": 2,
   "metadata": {
    "collapsed": true
   },
   "outputs": [],
   "source": [
    "data=pd.read_csv('Mountains.csv')"
   ]
  },
  {
   "cell_type": "code",
   "execution_count": 3,
   "metadata": {
    "collapsed": true
   },
   "outputs": [],
   "source": [
    "dataNew=data.groupby('Parent mountain').size()"
   ]
  },
  {
   "cell_type": "code",
   "execution_count": 19,
   "metadata": {},
   "outputs": [],
   "source": [
    "mask=dataNew[dataNew>3]"
   ]
  },
  {
   "cell_type": "code",
   "execution_count": 29,
   "metadata": {},
   "outputs": [],
   "source": [
    "dataNew=data.loc[mask]"
   ]
  },
  {
   "cell_type": "code",
   "execution_count": 31,
   "metadata": {},
   "outputs": [],
   "source": [
    "dataNew.reset_index(inplace=True)"
   ]
  },
  {
   "cell_type": "code",
   "execution_count": 32,
   "metadata": {},
   "outputs": [
    {
     "data": {
      "text/html": [
       "<div>\n",
       "<style>\n",
       "    .dataframe thead tr:only-child th {\n",
       "        text-align: right;\n",
       "    }\n",
       "\n",
       "    .dataframe thead th {\n",
       "        text-align: left;\n",
       "    }\n",
       "\n",
       "    .dataframe tbody tr th {\n",
       "        vertical-align: top;\n",
       "    }\n",
       "</style>\n",
       "<table border=\"1\" class=\"dataframe\">\n",
       "  <thead>\n",
       "    <tr style=\"text-align: right;\">\n",
       "      <th></th>\n",
       "      <th>index</th>\n",
       "      <th>Rank</th>\n",
       "      <th>Mountain</th>\n",
       "      <th>Height (m)</th>\n",
       "      <th>Height (ft)</th>\n",
       "      <th>Prominence (m)</th>\n",
       "      <th>Range</th>\n",
       "      <th>Coordinates</th>\n",
       "      <th>Parent mountain</th>\n",
       "      <th>First ascent</th>\n",
       "      <th>Ascents bef. 2004</th>\n",
       "      <th>Failed attempts bef. 2004</th>\n",
       "    </tr>\n",
       "  </thead>\n",
       "  <tbody>\n",
       "    <tr>\n",
       "      <th>0</th>\n",
       "      <td>7</td>\n",
       "      <td>8</td>\n",
       "      <td>Manaslu</td>\n",
       "      <td>8163</td>\n",
       "      <td>26781</td>\n",
       "      <td>3092</td>\n",
       "      <td>Manaslu Himalaya</td>\n",
       "      <td>28°33′00″N 84°33′35″E﻿</td>\n",
       "      <td>Cho Oyu</td>\n",
       "      <td>1956</td>\n",
       "      <td>49</td>\n",
       "      <td>45.0</td>\n",
       "    </tr>\n",
       "    <tr>\n",
       "      <th>1</th>\n",
       "      <td>4</td>\n",
       "      <td>5</td>\n",
       "      <td>Makalu</td>\n",
       "      <td>8485</td>\n",
       "      <td>27838</td>\n",
       "      <td>2386</td>\n",
       "      <td>Mahalangur Himalaya</td>\n",
       "      <td>27°53′23″N 87°05′20″E﻿</td>\n",
       "      <td>Mount Everest</td>\n",
       "      <td>1955</td>\n",
       "      <td>45</td>\n",
       "      <td>52.0</td>\n",
       "    </tr>\n",
       "    <tr>\n",
       "      <th>2</th>\n",
       "      <td>5</td>\n",
       "      <td>6</td>\n",
       "      <td>Cho Oyu</td>\n",
       "      <td>8188</td>\n",
       "      <td>26864</td>\n",
       "      <td>2340</td>\n",
       "      <td>Mahalangur Himalaya</td>\n",
       "      <td>28°05′39″N 86°39′39″E﻿</td>\n",
       "      <td>Mount Everest</td>\n",
       "      <td>1954</td>\n",
       "      <td>79</td>\n",
       "      <td>28.0</td>\n",
       "    </tr>\n",
       "    <tr>\n",
       "      <th>3</th>\n",
       "      <td>8</td>\n",
       "      <td>9</td>\n",
       "      <td>Nanga Parbat</td>\n",
       "      <td>8126</td>\n",
       "      <td>26660</td>\n",
       "      <td>4608</td>\n",
       "      <td>Nanga Parbat Himalaya</td>\n",
       "      <td>35°14′14″N 74°35′21″E﻿</td>\n",
       "      <td>Dhaulagiri</td>\n",
       "      <td>1953</td>\n",
       "      <td>52</td>\n",
       "      <td>67.0</td>\n",
       "    </tr>\n",
       "    <tr>\n",
       "      <th>4</th>\n",
       "      <td>5</td>\n",
       "      <td>6</td>\n",
       "      <td>Cho Oyu</td>\n",
       "      <td>8188</td>\n",
       "      <td>26864</td>\n",
       "      <td>2340</td>\n",
       "      <td>Mahalangur Himalaya</td>\n",
       "      <td>28°05′39″N 86°39′39″E﻿</td>\n",
       "      <td>Mount Everest</td>\n",
       "      <td>1954</td>\n",
       "      <td>79</td>\n",
       "      <td>28.0</td>\n",
       "    </tr>\n",
       "    <tr>\n",
       "      <th>5</th>\n",
       "      <td>7</td>\n",
       "      <td>8</td>\n",
       "      <td>Manaslu</td>\n",
       "      <td>8163</td>\n",
       "      <td>26781</td>\n",
       "      <td>3092</td>\n",
       "      <td>Manaslu Himalaya</td>\n",
       "      <td>28°33′00″N 84°33′35″E﻿</td>\n",
       "      <td>Cho Oyu</td>\n",
       "      <td>1956</td>\n",
       "      <td>49</td>\n",
       "      <td>45.0</td>\n",
       "    </tr>\n",
       "    <tr>\n",
       "      <th>6</th>\n",
       "      <td>9</td>\n",
       "      <td>10</td>\n",
       "      <td>Annapurna I</td>\n",
       "      <td>8091</td>\n",
       "      <td>26545</td>\n",
       "      <td>2984</td>\n",
       "      <td>Annapurna Himalaya</td>\n",
       "      <td>28°35′44″N 83°49′13″E﻿</td>\n",
       "      <td>Cho Oyu</td>\n",
       "      <td>1950</td>\n",
       "      <td>36</td>\n",
       "      <td>47.0</td>\n",
       "    </tr>\n",
       "    <tr>\n",
       "      <th>7</th>\n",
       "      <td>4</td>\n",
       "      <td>5</td>\n",
       "      <td>Makalu</td>\n",
       "      <td>8485</td>\n",
       "      <td>27838</td>\n",
       "      <td>2386</td>\n",
       "      <td>Mahalangur Himalaya</td>\n",
       "      <td>27°53′23″N 87°05′20″E﻿</td>\n",
       "      <td>Mount Everest</td>\n",
       "      <td>1955</td>\n",
       "      <td>45</td>\n",
       "      <td>52.0</td>\n",
       "    </tr>\n",
       "  </tbody>\n",
       "</table>\n",
       "</div>"
      ],
      "text/plain": [
       "   index  Rank      Mountain  Height (m)  Height (ft)  Prominence (m)  \\\n",
       "0      7     8       Manaslu        8163        26781            3092   \n",
       "1      4     5        Makalu        8485        27838            2386   \n",
       "2      5     6       Cho Oyu        8188        26864            2340   \n",
       "3      8     9  Nanga Parbat        8126        26660            4608   \n",
       "4      5     6       Cho Oyu        8188        26864            2340   \n",
       "5      7     8       Manaslu        8163        26781            3092   \n",
       "6      9    10   Annapurna I        8091        26545            2984   \n",
       "7      4     5        Makalu        8485        27838            2386   \n",
       "\n",
       "                   Range              Coordinates Parent mountain  \\\n",
       "0       Manaslu Himalaya  28°33′00″N 84°33′35″E﻿          Cho Oyu   \n",
       "1    Mahalangur Himalaya  27°53′23″N 87°05′20″E﻿    Mount Everest   \n",
       "2    Mahalangur Himalaya  28°05′39″N 86°39′39″E﻿    Mount Everest   \n",
       "3  Nanga Parbat Himalaya  35°14′14″N 74°35′21″E﻿       Dhaulagiri   \n",
       "4    Mahalangur Himalaya  28°05′39″N 86°39′39″E﻿    Mount Everest   \n",
       "5       Manaslu Himalaya  28°33′00″N 84°33′35″E﻿          Cho Oyu   \n",
       "6     Annapurna Himalaya  28°35′44″N 83°49′13″E﻿          Cho Oyu   \n",
       "7    Mahalangur Himalaya  27°53′23″N 87°05′20″E﻿    Mount Everest   \n",
       "\n",
       "  First ascent Ascents bef. 2004  Failed attempts bef. 2004  \n",
       "0         1956                49                       45.0  \n",
       "1         1955                45                       52.0  \n",
       "2         1954                79                       28.0  \n",
       "3         1953                52                       67.0  \n",
       "4         1954                79                       28.0  \n",
       "5         1956                49                       45.0  \n",
       "6         1950                36                       47.0  \n",
       "7         1955                45                       52.0  "
      ]
     },
     "execution_count": 32,
     "metadata": {},
     "output_type": "execute_result"
    }
   ],
   "source": [
    "dataNew"
   ]
  },
  {
   "cell_type": "code",
   "execution_count": null,
   "metadata": {
    "collapsed": true
   },
   "outputs": [],
   "source": []
  }
 ],
 "metadata": {
  "kernelspec": {
   "display_name": "Python 3",
   "language": "python",
   "name": "python3"
  },
  "language_info": {
   "codemirror_mode": {
    "name": "ipython",
    "version": 3
   },
   "file_extension": ".py",
   "mimetype": "text/x-python",
   "name": "python",
   "nbconvert_exporter": "python",
   "pygments_lexer": "ipython3",
   "version": "3.6.1"
  }
 },
 "nbformat": 4,
 "nbformat_minor": 2
}
