{
 "cells": [
  {
   "cell_type": "code",
   "execution_count": 1,
   "metadata": {
    "collapsed": true
   },
   "outputs": [],
   "source": [
    "import os\n",
    "import shutil\n",
    "from glob import glob\n",
    "import pandas as pd\n",
    "import random\n",
    "import re"
   ]
  },
  {
   "cell_type": "code",
   "execution_count": 10,
   "metadata": {},
   "outputs": [
    {
     "data": {
      "text/plain": [
       "['sample_submission.csv.zip',\n",
       " 'test',\n",
       " 'sample_submission.csv',\n",
       " 'labels.csv',\n",
       " 'train.zip',\n",
       " 'test.zip',\n",
       " 'train',\n",
       " 'labels.csv.zip']"
      ]
     },
     "execution_count": 10,
     "metadata": {},
     "output_type": "execute_result"
    }
   ],
   "source": [
    "os.listdir('/home/spynal/Netology/Data/Breed/labels.csv')"
   ]
  },
  {
   "cell_type": "code",
   "execution_count": 11,
   "metadata": {
    "collapsed": true
   },
   "outputs": [],
   "source": [
    "data = pd.read_csv('/home/spynal/Netology/Data/Breed/labels.csv')"
   ]
  },
  {
   "cell_type": "code",
   "execution_count": 2,
   "metadata": {
    "collapsed": true
   },
   "outputs": [],
   "source": [
    "train_dir = '/home/spynal/Netology/Data/Breed/train/train/'\n",
    "val_dir = '/home/spynal/Netology/Data/Breed/train/val/'"
   ]
  },
  {
   "cell_type": "code",
   "execution_count": 6,
   "metadata": {
    "collapsed": true
   },
   "outputs": [],
   "source": [
    "files_train = glob(train_dir + '*.jpg')\n",
    "files_val = glob(val_dir + '*.jpg')"
   ]
  },
  {
   "cell_type": "code",
   "execution_count": 8,
   "metadata": {
    "collapsed": true
   },
   "outputs": [],
   "source": [
    "sample = random.sample(files, 1000)"
   ]
  },
  {
   "cell_type": "code",
   "execution_count": 12,
   "metadata": {
    "collapsed": true
   },
   "outputs": [],
   "source": [
    "b = []\n",
    "for x in files_val:\n",
    "    b.append((data.breed[data['id']==(os.path.basename(x)).split('.')[0]]).to_string(index=False))"
   ]
  },
  {
   "cell_type": "code",
   "execution_count": 13,
   "metadata": {
    "collapsed": true
   },
   "outputs": [],
   "source": [
    "from collections import Counter\n",
    "dict = Counter(b)"
   ]
  },
  {
   "cell_type": "code",
   "execution_count": 17,
   "metadata": {},
   "outputs": [
    {
     "data": {
      "text/plain": [
       "120"
      ]
     },
     "execution_count": 17,
     "metadata": {},
     "output_type": "execute_result"
    }
   ],
   "source": [
    "len(set(b))"
   ]
  },
  {
   "cell_type": "code",
   "execution_count": 14,
   "metadata": {},
   "outputs": [
    {
     "data": {
      "text/plain": [
       "[('german_short-haired_pointer', 2),\n",
       " ('brabancon_griffon', 3),\n",
       " ('labrador_retriever', 3),\n",
       " ('norwich_terrier', 4),\n",
       " ('french_bulldog', 4),\n",
       " ('standard_schnauzer', 4),\n",
       " ('scotch_terrier', 4),\n",
       " ('cardigan', 4),\n",
       " ('flat-coated_retriever', 5),\n",
       " ('sussex_spaniel', 5),\n",
       " ('bull_mastiff', 5),\n",
       " ('eskimo_dog', 5),\n",
       " ('vizsla', 5),\n",
       " ('german_shepherd', 5),\n",
       " ('miniature_pinscher', 5),\n",
       " ('golden_retriever', 5),\n",
       " ('staffordshire_bullterrier', 5),\n",
       " ('basset', 5),\n",
       " ('newfoundland', 6),\n",
       " ('pekinese', 6),\n",
       " ('african_hunting_dog', 6),\n",
       " ('blenheim_spaniel', 6),\n",
       " ('kelpie', 6),\n",
       " ('bluetick', 6),\n",
       " ('doberman', 6),\n",
       " ('giant_schnauzer', 6),\n",
       " ('black-and-tan_coonhound', 6),\n",
       " ('pug', 6),\n",
       " ('lhasa', 6),\n",
       " ('otterhound', 6),\n",
       " ('english_foxhound', 6),\n",
       " ('gordon_setter', 6),\n",
       " ('miniature_poodle', 6),\n",
       " ('bernese_mountain_dog', 6),\n",
       " ('siberian_husky', 7),\n",
       " ('miniature_schnauzer', 7),\n",
       " ('weimaraner', 7),\n",
       " ('great_dane', 7),\n",
       " ('malinois', 7),\n",
       " ('sealyham_terrier', 7),\n",
       " ('saluki', 7),\n",
       " ('norwegian_elkhound', 7),\n",
       " ('toy_terrier', 7),\n",
       " ('bloodhound', 7),\n",
       " ('saint_bernard', 7),\n",
       " ('english_setter', 7),\n",
       " ('shih-tzu', 7),\n",
       " ('west_highland_white_terrier', 7),\n",
       " ('komondor', 7),\n",
       " ('border_terrier', 7),\n",
       " ('appenzeller', 7),\n",
       " ('american_staffordshire_terrier', 7),\n",
       " ('dhole', 8),\n",
       " ('groenendael', 8),\n",
       " ('borzoi', 8),\n",
       " ('entlebucher', 8),\n",
       " ('pembroke', 8),\n",
       " ('rhodesian_ridgeback', 8),\n",
       " ('welsh_springer_spaniel', 8),\n",
       " ('border_collie', 8),\n",
       " ('yorkshire_terrier', 8),\n",
       " ('pomeranian', 8),\n",
       " ('english_springer', 8),\n",
       " ('kuvasz', 8),\n",
       " ('chihuahua', 8),\n",
       " ('briard', 8),\n",
       " ('boston_bull', 8),\n",
       " ('toy_poodle', 8),\n",
       " ('collie', 8),\n",
       " ('bedlington_terrier', 9),\n",
       " ('irish_setter', 9),\n",
       " ('beagle', 9),\n",
       " ('clumber', 9),\n",
       " ('italian_greyhound', 9),\n",
       " ('norfolk_terrier', 9),\n",
       " ('schipperke', 9),\n",
       " ('wire-haired_fox_terrier', 9),\n",
       " ('kerry_blue_terrier', 9),\n",
       " ('keeshond', 9),\n",
       " ('cocker_spaniel', 9),\n",
       " ('mexican_hairless', 9),\n",
       " ('tibetan_terrier', 9),\n",
       " ('chesapeake_bay_retriever', 9),\n",
       " ('japanese_spaniel', 9),\n",
       " ('curly-coated_retriever', 10),\n",
       " ('basenji', 10),\n",
       " ('irish_wolfhound', 10),\n",
       " ('papillon', 10),\n",
       " ('irish_terrier', 10),\n",
       " ('shetland_sheepdog', 10),\n",
       " ('tibetan_mastiff', 10),\n",
       " ('old_english_sheepdog', 10),\n",
       " ('irish_water_spaniel', 11),\n",
       " ('redbone', 11),\n",
       " ('bouvier_des_flandres', 11),\n",
       " ('dingo', 11),\n",
       " ('affenpinscher', 11),\n",
       " ('brittany_spaniel', 11),\n",
       " ('boxer', 11),\n",
       " ('airedale', 11),\n",
       " ('lakeland_terrier', 11),\n",
       " ('soft-coated_wheaten_terrier', 11),\n",
       " ('samoyed', 11),\n",
       " ('walker_hound', 11),\n",
       " ('malamute', 12),\n",
       " ('standard_poodle', 12),\n",
       " ('maltese_dog', 12),\n",
       " ('chow', 12),\n",
       " ('cairn', 12),\n",
       " ('dandie_dinmont', 13),\n",
       " ('greater_swiss_mountain_dog', 13),\n",
       " ('ibizan_hound', 13),\n",
       " ('australian_terrier', 13),\n",
       " ('silky_terrier', 13),\n",
       " ('whippet', 14),\n",
       " ('leonberg', 14),\n",
       " ('rottweiler', 14),\n",
       " ('great_pyrenees', 14),\n",
       " ('afghan_hound', 18),\n",
       " ('scottish_deerhound', 18)]"
      ]
     },
     "execution_count": 14,
     "metadata": {},
     "output_type": "execute_result"
    }
   ],
   "source": [
    "import operator\n",
    "sorted(dict.items(), key = operator.itemgetter(1))"
   ]
  },
  {
   "cell_type": "code",
   "execution_count": 79,
   "metadata": {
    "collapsed": true
   },
   "outputs": [],
   "source": [
    "for x in data.breed.unique():\n",
    "    os.mkdir('C:/Users/mrasskazov/Desktop/DS/Data/Breed/train/train/' + x)"
   ]
  },
  {
   "cell_type": "code",
   "execution_count": 19,
   "metadata": {},
   "outputs": [],
   "source": [
    "for x in files_val:\n",
    "    f = (data.breed[data['id']==(os.path.basename(x)).split('.')[0]]).to_string(index=False)\n",
    "    shutil.move(x, val_dir + f)"
   ]
  },
  {
   "cell_type": "code",
   "execution_count": 21,
   "metadata": {
    "collapsed": true
   },
   "outputs": [],
   "source": [
    "for x in files_train:\n",
    "    f = (data.breed[data['id']==(os.path.basename(x)).split('.')[0]]).to_string(index=False)\n",
    "    shutil.move(x, train_dir + f)"
   ]
  },
  {
   "cell_type": "code",
   "execution_count": 22,
   "metadata": {
    "scrolled": true
   },
   "outputs": [
    {
     "data": {
      "text/plain": [
       "['chesapeake_bay_retriever',\n",
       " 'gordon_setter',\n",
       " 'borzoi',\n",
       " 'basenji',\n",
       " 'cardigan',\n",
       " 'italian_greyhound',\n",
       " 'cairn',\n",
       " 'rhodesian_ridgeback',\n",
       " 'sussex_spaniel',\n",
       " 'toy_terrier',\n",
       " 'irish_wolfhound',\n",
       " 'clumber',\n",
       " 'miniature_pinscher',\n",
       " 'brabancon_griffon',\n",
       " 'chow',\n",
       " 'bedlington_terrier',\n",
       " 'tibetan_terrier',\n",
       " 'toy_poodle',\n",
       " 'shetland_sheepdog',\n",
       " 'dandie_dinmont',\n",
       " 'blenheim_spaniel',\n",
       " 'pembroke',\n",
       " 'beagle',\n",
       " 'miniature_poodle',\n",
       " 'kelpie',\n",
       " 'appenzeller',\n",
       " 'lhasa',\n",
       " 'entlebucher',\n",
       " 'mexican_hairless',\n",
       " 'weimaraner',\n",
       " 'pomeranian',\n",
       " 'briard',\n",
       " 'norfolk_terrier',\n",
       " 'airedale',\n",
       " 'siberian_husky',\n",
       " 'english_springer',\n",
       " 'saint_bernard',\n",
       " 'komondor',\n",
       " 'cocker_spaniel',\n",
       " 'old_english_sheepdog',\n",
       " 'walker_hound',\n",
       " 'otterhound',\n",
       " 'norwegian_elkhound',\n",
       " 'german_short-haired_pointer',\n",
       " 'west_highland_white_terrier',\n",
       " 'basset',\n",
       " 'malinois',\n",
       " 'norwich_terrier',\n",
       " 'papillon',\n",
       " 'kerry_blue_terrier',\n",
       " 'afghan_hound',\n",
       " 'labrador_retriever',\n",
       " 'soft-coated_wheaten_terrier',\n",
       " 'african_hunting_dog',\n",
       " 'staffordshire_bullterrier',\n",
       " 'affenpinscher',\n",
       " 'irish_setter',\n",
       " 'keeshond',\n",
       " 'australian_terrier',\n",
       " 'saluki',\n",
       " 'pug',\n",
       " 'schipperke',\n",
       " 'great_dane',\n",
       " 'scotch_terrier',\n",
       " 'black-and-tan_coonhound',\n",
       " 'dingo',\n",
       " 'english_foxhound',\n",
       " 'sealyham_terrier',\n",
       " 'bluetick',\n",
       " 'german_shepherd',\n",
       " 'american_staffordshire_terrier',\n",
       " 'kuvasz',\n",
       " 'french_bulldog',\n",
       " 'yorkshire_terrier',\n",
       " 'groenendael',\n",
       " 'border_terrier',\n",
       " 'dhole',\n",
       " 'maltese_dog',\n",
       " 'giant_schnauzer',\n",
       " 'redbone',\n",
       " 'standard_poodle',\n",
       " 'silky_terrier',\n",
       " 'bull_mastiff',\n",
       " 'brittany_spaniel',\n",
       " 'boxer',\n",
       " 'lakeland_terrier',\n",
       " 'border_collie',\n",
       " 'malamute',\n",
       " 'bouvier_des_flandres',\n",
       " 'newfoundland',\n",
       " 'japanese_spaniel',\n",
       " 'bloodhound',\n",
       " 'whippet',\n",
       " 'greater_swiss_mountain_dog',\n",
       " 'shih-tzu',\n",
       " 'irish_terrier',\n",
       " 'scottish_deerhound',\n",
       " 'rottweiler',\n",
       " 'boston_bull',\n",
       " 'eskimo_dog',\n",
       " 'flat-coated_retriever',\n",
       " 'english_setter',\n",
       " 'samoyed',\n",
       " 'doberman',\n",
       " 'chihuahua',\n",
       " 'tibetan_mastiff',\n",
       " 'curly-coated_retriever',\n",
       " 'bernese_mountain_dog',\n",
       " 'irish_water_spaniel',\n",
       " 'golden_retriever',\n",
       " 'miniature_schnauzer',\n",
       " 'ibizan_hound',\n",
       " 'pekinese',\n",
       " 'leonberg',\n",
       " 'vizsla',\n",
       " 'standard_schnauzer',\n",
       " 'great_pyrenees',\n",
       " 'welsh_springer_spaniel',\n",
       " 'collie',\n",
       " 'wire-haired_fox_terrier']"
      ]
     },
     "execution_count": 22,
     "metadata": {},
     "output_type": "execute_result"
    }
   ],
   "source": [
    "os.listdir(train_dir)"
   ]
  }
 ],
 "metadata": {
  "kernelspec": {
   "display_name": "Python 3",
   "language": "python",
   "name": "python3"
  },
  "language_info": {
   "codemirror_mode": {
    "name": "ipython",
    "version": 3
   },
   "file_extension": ".py",
   "mimetype": "text/x-python",
   "name": "python",
   "nbconvert_exporter": "python",
   "pygments_lexer": "ipython3",
   "version": "3.6.2"
  }
 },
 "nbformat": 4,
 "nbformat_minor": 2
}
