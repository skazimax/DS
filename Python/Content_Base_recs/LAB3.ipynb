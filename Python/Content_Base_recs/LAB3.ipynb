{
 "cells": [
  {
   "cell_type": "code",
   "execution_count": 2,
   "metadata": {
    "collapsed": true
   },
   "outputs": [],
   "source": [
    "import pandas as pd\n",
    "import numpy as np"
   ]
  },
  {
   "cell_type": "code",
   "execution_count": 5,
   "metadata": {},
   "outputs": [],
   "source": [
    "data_dir='C://Users//asus//Desktop//Netology//Data//ml-latest-small'\n",
    "#data_dir='C://Users//mrasskazov//Desktop//DS//Data//ml-latest-small'\n",
    "tags=pd.read_csv(data_dir+'/tags.csv')\n",
    "ratings=pd.read_csv(data_dir+'/ratings.csv')\n",
    "movies=pd.read_csv(data_dir+'/movies.csv')"
   ]
  },
  {
   "cell_type": "code",
   "execution_count": 6,
   "metadata": {},
   "outputs": [],
   "source": [
    "tags['movie_id']=tags['movieId'].astype('category').cat.codes.copy()\n",
    "ratings[\"movie_id\"] = ratings[\"movieId\"].astype(\"category\").cat.codes.copy()\n",
    "ratings[\"user_id\"] = ratings[\"userId\"].astype(\"category\").cat.codes.copy()"
   ]
  },
  {
   "cell_type": "code",
   "execution_count": 7,
   "metadata": {},
   "outputs": [
    {
     "data": {
      "text/plain": [
       "(9125, 2)"
      ]
     },
     "execution_count": 7,
     "metadata": {},
     "output_type": "execute_result"
    }
   ],
   "source": [
    "movies_tags = movies[[\"movieId\"]].drop_duplicates().join(\n",
    "    tags,\n",
    "    on=\"movieId\",\n",
    "    rsuffix=\"codes\",\n",
    "    lsuffix=\"tags\",\n",
    "    sort=True\n",
    ").fillna(\"None\")[['tag','movieId']]\n",
    "movies_tags.shape"
   ]
  },
  {
   "cell_type": "code",
   "execution_count": 8,
   "metadata": {},
   "outputs": [
    {
     "data": {
      "text/plain": [
       "(9066, 2)"
      ]
     },
     "execution_count": 8,
     "metadata": {},
     "output_type": "execute_result"
    }
   ],
   "source": [
    "movies_tags_rat = ratings[[\"movieId\", 'movie_id']].drop_duplicates().join(\n",
    "    movies_tags,\n",
    "    on=\"movieId\",\n",
    "    rsuffix=\"codes\",\n",
    "    lsuffix=\"movies_tags\",\n",
    "    sort=True\n",
    ").fillna(\"None\")[[\"tag\", 'movie_id']]\n",
    "movies_tags_rat.shape"
   ]
  },
  {
   "cell_type": "code",
   "execution_count": null,
   "metadata": {
    "collapsed": true
   },
   "outputs": [],
   "source": []
  },
  {
   "cell_type": "markdown",
   "metadata": {},
   "source": [
    "Сливаем все теги для каждого фильма в одну строчку"
   ]
  },
  {
   "cell_type": "code",
   "execution_count": 182,
   "metadata": {
    "collapsed": true
   },
   "outputs": [],
   "source": [
    "tags_comb=tags.groupby('movieId')['tag'].apply('|'.join).reset_index()"
   ]
  },
  {
   "cell_type": "markdown",
   "metadata": {},
   "source": [
    "Создаем матрицу тэгов"
   ]
  },
  {
   "cell_type": "code",
   "execution_count": 9,
   "metadata": {
    "collapsed": true
   },
   "outputs": [],
   "source": [
    "from sklearn.feature_extraction.text import CountVectorizer\n",
    "tags_features=CountVectorizer().fit_transform(movies_tags_rat['tag'])"
   ]
  },
  {
   "cell_type": "markdown",
   "metadata": {},
   "source": [
    "Добавляем movie_id"
   ]
  },
  {
   "cell_type": "code",
   "execution_count": 10,
   "metadata": {
    "collapsed": true
   },
   "outputs": [],
   "source": [
    "from scipy.sparse import hstack, identity\n",
    "\n",
    "features = hstack([\n",
    "    identity(movies_tags_rat.shape[0]),\n",
    "    tags_features\n",
    "])"
   ]
  },
  {
   "cell_type": "markdown",
   "metadata": {},
   "source": [
    "Получаем матрицу схожести между фильмами по тэгам"
   ]
  },
  {
   "cell_type": "code",
   "execution_count": 16,
   "metadata": {
    "collapsed": true
   },
   "outputs": [],
   "source": [
    "from implicit.nearest_neighbours import CosineRecommender\n",
    "model=CosineRecommender()\n",
    "model.fit(features)"
   ]
  },
  {
   "cell_type": "code",
   "execution_count": 19,
   "metadata": {},
   "outputs": [
    {
     "data": {
      "text/plain": [
       "[(4, 1.0000000000000002),\n",
       " (548, 0.25819888974716115),\n",
       " (845, 0.23570226039551589)]"
      ]
     },
     "execution_count": 19,
     "metadata": {},
     "output_type": "execute_result"
    }
   ],
   "source": [
    "model.similar_items(4)"
   ]
  },
  {
   "cell_type": "code",
   "execution_count": 13,
   "metadata": {},
   "outputs": [
    {
     "data": {
      "text/plain": [
       "[('not too thrilled', 'toplist11')]"
      ]
     },
     "execution_count": 13,
     "metadata": {},
     "output_type": "execute_result"
    }
   ],
   "source": [
    "list(zip(tags.tag[tags['movie_id']==88],tags.tag[tags['movie_id']==529]))"
   ]
  },
  {
   "cell_type": "code",
   "execution_count": 14,
   "metadata": {},
   "outputs": [
    {
     "data": {
      "text/html": [
       "<div>\n",
       "<style>\n",
       "    .dataframe thead tr:only-child th {\n",
       "        text-align: right;\n",
       "    }\n",
       "\n",
       "    .dataframe thead th {\n",
       "        text-align: left;\n",
       "    }\n",
       "\n",
       "    .dataframe tbody tr th {\n",
       "        vertical-align: top;\n",
       "    }\n",
       "</style>\n",
       "<table border=\"1\" class=\"dataframe\">\n",
       "  <thead>\n",
       "    <tr style=\"text-align: right;\">\n",
       "      <th></th>\n",
       "      <th>userId</th>\n",
       "      <th>movieId</th>\n",
       "      <th>tag</th>\n",
       "      <th>timestamp</th>\n",
       "      <th>movie_id</th>\n",
       "    </tr>\n",
       "  </thead>\n",
       "  <tbody>\n",
       "    <tr>\n",
       "      <th>966</th>\n",
       "      <td>547</td>\n",
       "      <td>7438</td>\n",
       "      <td>holes00s</td>\n",
       "      <td>1342850493</td>\n",
       "      <td>299</td>\n",
       "    </tr>\n",
       "  </tbody>\n",
       "</table>\n",
       "</div>"
      ],
      "text/plain": [
       "     userId  movieId       tag   timestamp  movie_id\n",
       "966     547     7438  holes00s  1342850493       299"
      ]
     },
     "execution_count": 14,
     "metadata": {},
     "output_type": "execute_result"
    }
   ],
   "source": [
    "tags[tags['movie_id']==299]"
   ]
  },
  {
   "cell_type": "code",
   "execution_count": 15,
   "metadata": {},
   "outputs": [
    {
     "data": {
      "text/html": [
       "<div>\n",
       "<style>\n",
       "    .dataframe thead tr:only-child th {\n",
       "        text-align: right;\n",
       "    }\n",
       "\n",
       "    .dataframe thead th {\n",
       "        text-align: left;\n",
       "    }\n",
       "\n",
       "    .dataframe tbody tr th {\n",
       "        vertical-align: top;\n",
       "    }\n",
       "</style>\n",
       "<table border=\"1\" class=\"dataframe\">\n",
       "  <thead>\n",
       "    <tr style=\"text-align: right;\">\n",
       "      <th></th>\n",
       "      <th>movieId</th>\n",
       "      <th>title</th>\n",
       "      <th>genres</th>\n",
       "    </tr>\n",
       "  </thead>\n",
       "  <tbody>\n",
       "    <tr>\n",
       "      <th>5152</th>\n",
       "      <td>7438</td>\n",
       "      <td>Kill Bill: Vol. 2 (2004)</td>\n",
       "      <td>Action|Drama|Thriller</td>\n",
       "    </tr>\n",
       "  </tbody>\n",
       "</table>\n",
       "</div>"
      ],
      "text/plain": [
       "      movieId                     title                 genres\n",
       "5152     7438  Kill Bill: Vol. 2 (2004)  Action|Drama|Thriller"
      ]
     },
     "execution_count": 15,
     "metadata": {},
     "output_type": "execute_result"
    }
   ],
   "source": [
    "movies[movies['movieId']==7438]"
   ]
  },
  {
   "cell_type": "code",
   "execution_count": 20,
   "metadata": {
    "collapsed": true
   },
   "outputs": [],
   "source": [
    "user_feat=features.T.tocsr()"
   ]
  },
  {
   "cell_type": "code",
   "execution_count": null,
   "metadata": {
    "collapsed": true
   },
   "outputs": [],
   "source": [
    "model.pre"
   ]
  },
  {
   "cell_type": "code",
   "execution_count": 167,
   "metadata": {
    "collapsed": true
   },
   "outputs": [],
   "source": [
    "last_movie_id = ratings[\"movie_id\"].max()\n",
    "last_user_id = ratings[\"user_id\"].max()"
   ]
  },
  {
   "cell_type": "code",
   "execution_count": 170,
   "metadata": {
    "collapsed": true
   },
   "outputs": [],
   "source": [
    "from scipy.sparse import csr_matrix\n",
    "\n",
    "user_x_item = ratings[[\"user_id\", \"movie_id\"]].as_matrix()\n",
    "mean_rating = ratings[\"rating\"].mean()\n",
    "user_item_matrix = csr_matrix(\n",
    "    (\n",
    "        (ratings[\"rating\"] > mean_rating).tolist(),\n",
    "        (\n",
    "            [pair[0] for pair in user_x_item],\n",
    "            [pair[1] for pair in user_x_item],\n",
    "        )\n",
    "    ),\n",
    "    shape=(last_user_id + 1, last_movie_id + 1),\n",
    "    dtype=np.float32\n",
    ")"
   ]
  },
  {
   "cell_type": "code",
   "execution_count": 214,
   "metadata": {
    "collapsed": true
   },
   "outputs": [],
   "source": [
    "from sklearn.model_selection import train_test_split\n",
    "train, test=train_test_split(ratings, test_size=0.2 )"
   ]
  },
  {
   "cell_type": "code",
   "execution_count": 171,
   "metadata": {},
   "outputs": [
    {
     "name": "stdout",
     "output_type": "stream",
     "text": [
      "размер обучающей выборки: 41289\n",
      "размер тестовой выборки: 10279\n"
     ]
    }
   ],
   "source": [
    "np.random.seed(0)\n",
    "test_indices = np.random.choice(\n",
    "    range(user_item_matrix.nnz),\n",
    "    replace=False,\n",
    "    size=int(user_item_matrix.nnz * 0.2)\n",
    ").tolist()\n",
    "train_data = user_item_matrix.copy()\n",
    "train_data.data[test_indices] = 0\n",
    "train_data.eliminate_zeros()\n",
    "print(\"размер обучающей выборки: {}\".format(train_data.nnz))\n",
    "test_data = user_item_matrix.copy()\n",
    "test_data.data[:] = 0\n",
    "test_data.data[test_indices] = user_item_matrix.data[test_indices]\n",
    "test_data.eliminate_zeros()\n",
    "print(\"размер тестовой выборки: {}\".format(test_data.nnz))"
   ]
  },
  {
   "cell_type": "code",
   "execution_count": 226,
   "metadata": {},
   "outputs": [
    {
     "name": "stdout",
     "output_type": "stream",
     "text": [
      "ROC AUC: train 0.91, test 0.89, PRC: train 0.28, test 0.07, REC: train 0.08, test 0.07.\n"
     ]
    }
   ],
   "source": [
    "from lightfm import LightFM\n",
    "from lightfm.evaluation import auc_score, precision_at_k, recall_at_k\n",
    "\n",
    "# обучаем абы какую модель\n",
    "model = LightFM(loss=\"warp\")\n",
    "model.fit(\n",
    "    train_data,\n",
    "    num_threads=4\n",
    ")\n",
    "\n",
    "train_mrr = auc_score(model, train_data).mean()\n",
    "test_mrr = auc_score(model, test_data).mean()\n",
    "train_prc = precision_at_k(model, train_data, k=10).mean()\n",
    "test_prc = precision_at_k(model, test_data, k=10).mean()\n",
    "train_rec = recall_at_k(model, train_data, k=10).mean()\n",
    "test_rec = recall_at_k(model, test_data, k=10).mean()\n",
    "print('ROC AUC: train %.2f, test %.2f, PRC: train %.2f, test %.2f, REC: train %.2f, test %.2f.' % (train_mrr, test_mrr,train_prc, test_prc,train_rec, test_rec))"
   ]
  },
  {
   "cell_type": "code",
   "execution_count": 235,
   "metadata": {
    "collapsed": true
   },
   "outputs": [],
   "source": [
    "def get_recs_model(dataset):\n",
    "    recs = model.predict(\n",
    "        user_ids=np.array(dataset[\"user_id\"].astype(np.int32).tolist()),\n",
    "        item_ids=np.array(dataset[\"movie_id\"].astype(np.int32).tolist()),\n",
    "        num_threads=4\n",
    "    )\n",
    "    return recs"
   ]
  },
  {
   "cell_type": "code",
   "execution_count": 237,
   "metadata": {
    "collapsed": true
   },
   "outputs": [],
   "source": [
    "train_recs_model = get_recs_model(train)"
   ]
  },
  {
   "cell_type": "code",
   "execution_count": 198,
   "metadata": {},
   "outputs": [
    {
     "name": "stdout",
     "output_type": "stream",
     "text": [
      "ROC AUC: train 0.69, test 0.68, PRC: train 0.25, test 0.06, REC: train 0.07, test 0.06.\n"
     ]
    }
   ],
   "source": [
    "hybrid = LightFM(loss=\"warp\")\n",
    "hybrid.fit(\n",
    "    train_data,\n",
    "    num_threads=4,\n",
    "    item_features=features\n",
    ")\n",
    "\n",
    "train_mrr = auc_score(hybrid, train_data, item_features=features).mean()\n",
    "test_mrr = auc_score(hybrid, test_data, item_features=features).mean()\n",
    "train_prc = precision_at_k(hybrid, train_data, item_features=features,k=10).mean()\n",
    "test_prc = precision_at_k(hybrid, test_data, item_features=features,k=10).mean()\n",
    "train_rec = recall_at_k(hybrid, train_data, item_features=features,k=10).mean()\n",
    "test_rec = recall_at_k(hybrid, test_data, item_features=features,k=10).mean()\n",
    "print('ROC AUC: train %.2f, test %.2f, PRC: train %.2f, test %.2f, REC: train %.2f, test %.2f.' % (train_mrr, test_mrr,train_prc, test_prc,train_rec, test_rec))"
   ]
  },
  {
   "cell_type": "code",
   "execution_count": 239,
   "metadata": {
    "collapsed": true
   },
   "outputs": [],
   "source": [
    "def get_recs_hybrid(dataset, features):\n",
    "    recs = hybrid.predict(\n",
    "        user_ids=np.array(dataset[\"user_id\"].astype(np.int32).tolist()),\n",
    "        item_ids=np.array(dataset[\"movie_id\"].astype(np.int32).tolist()),\n",
    "        item_features=features,\n",
    "        num_threads=4\n",
    "    )\n",
    "    return recs"
   ]
  },
  {
   "cell_type": "code",
   "execution_count": 240,
   "metadata": {
    "collapsed": true
   },
   "outputs": [],
   "source": [
    "train_recs = get_recs_hybrid(train, features)"
   ]
  },
  {
   "cell_type": "code",
   "execution_count": null,
   "metadata": {
    "collapsed": true
   },
   "outputs": [],
   "source": []
  }
 ],
 "metadata": {
  "kernelspec": {
   "display_name": "Python 3",
   "language": "python",
   "name": "python3"
  },
  "language_info": {
   "codemirror_mode": {
    "name": "ipython",
    "version": 3
   },
   "file_extension": ".py",
   "mimetype": "text/x-python",
   "name": "python",
   "nbconvert_exporter": "python",
   "pygments_lexer": "ipython3",
   "version": "3.6.2"
  }
 },
 "nbformat": 4,
 "nbformat_minor": 2
}
