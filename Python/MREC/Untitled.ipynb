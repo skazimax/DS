{
 "cells": [
  {
   "cell_type": "markdown",
   "metadata": {},
   "source": [
    "Загружаем данные:"
   ]
  },
  {
   "cell_type": "code",
   "execution_count": 32,
   "metadata": {},
   "outputs": [
    {
     "name": "stderr",
     "output_type": "stream",
     "text": [
      "[2017-11-22 13:08:13,809] INFO: sorting input data...\n",
      "Traceback (most recent call last):\n",
      "  File \"C:\\Users\\mrasskazov\\AppData\\Local\\Continuum\\Anaconda3\\Scripts\\mrec_prepare-script.py\", line 11, in <module>\n",
      "    load_entry_point('mrec==0.3.1', 'console_scripts', 'mrec_prepare')()\n",
      "  File \"C:\\Users\\mrasskazov\\AppData\\Local\\Continuum\\Anaconda3\\lib\\site-packages\\mrec-0.3.1-py3.6-win-amd64.egg\\mrec\\examples\\prepare.py\", line 82, in main\n",
      "    subprocess.check_call(['mkdir', '-p', opts.outdir])\n",
      "  File \"C:\\Users\\mrasskazov\\AppData\\Local\\Continuum\\Anaconda3\\lib\\subprocess.py\", line 286, in check_call\n",
      "    retcode = call(*popenargs, **kwargs)\n",
      "  File \"C:\\Users\\mrasskazov\\AppData\\Local\\Continuum\\Anaconda3\\lib\\subprocess.py\", line 267, in call\n",
      "    with Popen(*popenargs, **kwargs) as p:\n",
      "  File \"C:\\Users\\mrasskazov\\AppData\\Local\\Continuum\\Anaconda3\\lib\\subprocess.py\", line 707, in __init__\n",
      "    restore_signals, start_new_session)\n",
      "  File \"C:\\Users\\mrasskazov\\AppData\\Local\\Continuum\\Anaconda3\\lib\\subprocess.py\", line 990, in _execute_child\n",
      "    startupinfo)\n",
      "FileNotFoundError: [WinError 2] The system cannot find the file specified\n"
     ]
    }
   ],
   "source": [
    "!mrec_prepare --dataset ml-100k/u.data --outdir splits --rating_thresh 3.5 --test_size 0.2 --binarize"
   ]
  },
  {
   "cell_type": "code",
   "execution_count": null,
   "metadata": {
    "collapsed": true
   },
   "outputs": [],
   "source": []
  }
 ],
 "metadata": {
  "kernelspec": {
   "display_name": "Python 3",
   "language": "python",
   "name": "python3"
  },
  "language_info": {
   "codemirror_mode": {
    "name": "ipython",
    "version": 3
   },
   "file_extension": ".py",
   "mimetype": "text/x-python",
   "name": "python",
   "nbconvert_exporter": "python",
   "pygments_lexer": "ipython3",
   "version": "3.6.1"
  }
 },
 "nbformat": 4,
 "nbformat_minor": 2
}
