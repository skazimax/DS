{
 "cells": [
  {
   "cell_type": "code",
   "execution_count": 3,
   "metadata": {
    "collapsed": true,
    "scrolled": true
   },
   "outputs": [],
   "source": [
    "import numpy as np\n",
    "import cv2\n",
    "import time\n",
    "import os\n",
    "#dir_in = 'c:/Users/mrasskazov/Pictures/In'\n",
    "#dir_out = 'c:/Users/mrasskazov/Pictures/Out'\n",
    "dir_in = 'C:/iVMS-4200/video/20180105'\n",
    "#dir_out = 'c:/Users/mrasskazov/Pictures/Out'"
   ]
  },
  {
   "cell_type": "code",
   "execution_count": 42,
   "metadata": {},
   "outputs": [],
   "source": [
    "def play_video(video, name):\n",
    "    print(name)\n",
    "    cap = cv2.VideoCapture(video)\n",
    "    start_time=time.time()\n",
    "    while(cap.isOpened()):\n",
    "\n",
    "        ret, frame = cap.read()\n",
    "        \n",
    "        try:\n",
    "\n",
    "            color = cv2.cvtColor(frame, cv2.COLOR_BGR2RGB)\n",
    "            res = cv2.resize(frame, (640,480))      \n",
    "            cv2.imshow('frame',res)\n",
    "            \n",
    "        except Exception:\n",
    "            pass\n",
    "        \n",
    "        cv2.waitKey(1)\n",
    "        end_time=time.time()\n",
    "        elapsed = end_time - start_time\n",
    "        if elapsed > 5:\n",
    "           break\n",
    "    cap.release()\n",
    "    cv2.destroyAllWindows()"
   ]
  },
  {
   "cell_type": "code",
   "execution_count": 64,
   "metadata": {
    "collapsed": true
   },
   "outputs": [],
   "source": [
    "def video_to_frames(video, path_output_dir, file_name):\n",
    "\n",
    "    vidcap = cv2.VideoCapture(video)\n",
    "    count = 1\n",
    "    \n",
    "    while vidcap.isOpened():\n",
    "        success, image = vidcap.read()\n",
    "        res = cv2.resize(image, (1920,1080))\n",
    "        if success and count <=200:\n",
    "            if count%10==0:\n",
    "                cv2.imwrite(os.path.join(path_output_dir, '%d_%d.jpg') % (c,count), res,[int(cv2.IMWRITE_JPEG_QUALITY), 90])\n",
    "            count += 1\n",
    "            \n",
    "        else:\n",
    "            break\n",
    "        \n",
    "    cv2.destroyAllWindows()\n",
    "    vidcap.release()\n",
    "\n"
   ]
  },
  {
   "cell_type": "code",
   "execution_count": 22,
   "metadata": {},
   "outputs": [],
   "source": [
    "dir=os.listdir(dir_in)"
   ]
  },
  {
   "cell_type": "code",
   "execution_count": 34,
   "metadata": {},
   "outputs": [
    {
     "ename": "NameError",
     "evalue": "name 'video_to_frames' is not defined",
     "output_type": "error",
     "traceback": [
      "\u001b[1;31m---------------------------------------------------------------------------\u001b[0m",
      "\u001b[1;31mNameError\u001b[0m                                 Traceback (most recent call last)",
      "\u001b[1;32m<ipython-input-34-01ba2dbb616a>\u001b[0m in \u001b[0;36m<module>\u001b[1;34m()\u001b[0m\n\u001b[0;32m      1\u001b[0m \u001b[1;32mfor\u001b[0m \u001b[0mc\u001b[0m\u001b[1;33m,\u001b[0m \u001b[0mname\u001b[0m \u001b[1;32min\u001b[0m \u001b[0menumerate\u001b[0m\u001b[1;33m(\u001b[0m\u001b[0mdir\u001b[0m\u001b[1;33m)\u001b[0m\u001b[1;33m:\u001b[0m\u001b[1;33m\u001b[0m\u001b[0m\n\u001b[1;32m----> 2\u001b[1;33m     \u001b[0mvideo_to_frames\u001b[0m\u001b[1;33m(\u001b[0m\u001b[0mdir_in\u001b[0m \u001b[1;33m+\u001b[0m \u001b[1;34m'/'\u001b[0m \u001b[1;33m+\u001b[0m \u001b[0mname\u001b[0m\u001b[1;33m,\u001b[0m \u001b[0mdir_out\u001b[0m\u001b[1;33m,\u001b[0m \u001b[0mc\u001b[0m\u001b[1;33m)\u001b[0m\u001b[1;33m\u001b[0m\u001b[0m\n\u001b[0m",
      "\u001b[1;31mNameError\u001b[0m: name 'video_to_frames' is not defined"
     ]
    }
   ],
   "source": [
    "for c, name in enumerate(dir):\n",
    "    video_to_frames(dir_in + '/' + name, dir_out, c)"
   ]
  },
  {
   "cell_type": "code",
   "execution_count": 40,
   "metadata": {},
   "outputs": [
    {
     "name": "stdout",
     "output_type": "stream",
     "text": [
      "nvr_IP Camera6_nvr_20180105025650_20180105025740_111112794.mp4\n",
      "nvr_IP Camera6_nvr_20180105030600_20180105030646_111142609.mp4\n",
      "nvr_IP Camera6_nvr_20180105032016_20180105032117_111184313.mp4\n",
      "nvr_IP Camera6_nvr_20180105035245_20180105035333_111202821.mp4\n",
      "nvr_IP Camera6_nvr_20180105051804_20180105051859_111247402.mp4\n",
      "nvr_IP Camera6_nvr_20180105062251_20180105062339_111267492.mp4\n",
      "nvr_IP Camera6_nvr_20180105062810_20180105062908_111291048.mp4\n",
      "nvr_IP Camera6_nvr_20180105073614_20180105073658_111321521.mp4\n",
      "nvr_IP Camera6_nvr_20180105073747_20180105073833_111344115.mp4\n",
      "nvr_IP Camera6_nvr_20180105081959_20180105082048_111360533.mp4\n",
      "nvr_IP Camera6_nvr_20180105083619_20180105083708_111393436.mp4\n",
      "nvr_IP Camera6_nvr_20180105083840_20180105083931_111421255.mp4\n",
      "nvr_IP Camera6_nvr_20180105084212_20180105084306_111459616.mp4\n",
      "nvr_IP Camera6_nvr_20180105085455_20180105085547_111483738.mp4\n",
      "nvr_IP Camera6_nvr_20180105090114_20180105090207_111566657.mp4\n",
      "nvr_IP Camera6_nvr_20180105090944_20180105091034_111608658.mp4\n",
      "nvr_IP Camera6_nvr_20180105091031_20180105091120_111642176.mp4\n",
      "nvr_IP Camera6_nvr_20180105091907_20180105092001_111673108.mp4\n",
      "nvr_IP Camera6_nvr_20180105092037_20180105092124_111693984.mp4\n",
      "nvr_IP Camera6_nvr_20180105092154_20180105092241_111729477.mp4\n",
      "nvr_IP Camera6_nvr_20180105093121_20180105093213_111767606.mp4\n",
      "nvr_IP Camera6_nvr_20180105093445_20180105093542_111799040.mp4\n",
      "nvr_IP Camera6_nvr_20180105094220_20180105094310_111813026.mp4\n",
      "nvr_IP Camera6_nvr_20180105094440_20180105094535_111851314.mp4\n",
      "nvr_IP Camera6_nvr_20180105094653_20180105094746_111864136.mp4\n",
      "nvr_IP Camera6_nvr_20180105094754_20180105094841_111873264.mp4\n",
      "nvr_IP Camera6_nvr_20180105100514_20180105100610_111878297.mp4\n",
      "nvr_IP Camera6_nvr_20180105101603_20180105101656_111892670.mp4\n",
      "nvr_IP Camera6_nvr_20180105101800_20180105101846_111915362.mp4\n",
      "nvr_IP Camera6_nvr_20180105102126_20180105102218_111923457.mp4\n",
      "nvr_IP Camera6_nvr_20180105103445_20180105103535_111970433.mp4\n",
      "nvr_IP Camera6_nvr_20180105103514_20180105103601_111985396.mp4\n",
      "nvr_IP Camera6_nvr_20180105104257_20180105104354_112003131.mp4\n",
      "nvr_IP Camera6_nvr_20180105104850_20180105104936_112020178.mp4\n",
      "nvr_IP Camera6_nvr_20180105105054_20180105105140_112028657.mp4\n",
      "nvr_IP Camera6_nvr_20180105105403_20180105105451_112050972.mp4\n",
      "nvr_IP Camera6_nvr_20180105105423_20180105105513_112057881.mp4\n",
      "nvr_IP Camera6_nvr_20180105105626_20180105105717_112076897.mp4\n",
      "nvr_IP Camera6_nvr_20180105111325_20180105111411_112091610.mp4\n",
      "nvr_IP Camera6_nvr_20180105111911_20180105111958_112096156.mp4\n",
      "nvr_IP Camera6_nvr_20180105112421_20180105112515_112105619.mp4\n",
      "nvr_IP Camera6_nvr_20180105112632_20180105112730_112128728.mp4\n",
      "nvr_IP Camera6_nvr_20180105114304_20180105114353_112159839.mp4\n",
      "nvr_IP Camera6_nvr_20180105115628_20180105115722_112187448.mp4\n",
      "nvr_IP Camera6_nvr_20180105121344_20180105121430_112198792.mp4\n",
      "nvr_IP Camera6_nvr_20180105121449_20180105121541_112244451.mp4\n",
      "nvr_IP Camera6_nvr_20180105121541_20180105121629_112280272.mp4\n",
      "nvr_IP Camera6_nvr_20180105121753_20180105121842_112305569.mp4\n",
      "nvr_IP Camera6_nvr_20180105122159_20180105122246_112312210.mp4\n",
      "nvr_IP Camera6_nvr_20180105122212_20180105122302_112333786.mp4\n",
      "nvr_IP Camera6_nvr_20180105122226_20180105122322_112352317.mp4\n",
      "nvr_IP Camera6_nvr_20180105122740_20180105122832_112369975.mp4\n",
      "nvr_IP Camera6_nvr_20180105123138_20180105123234_112392975.mp4\n",
      "nvr_IP Camera6_nvr_20180105123420_20180105123510_112405428.mp4\n",
      "nvr_IP Camera6_nvr_20180105123518_20180105123605_112435340.mp4\n",
      "nvr_IP Camera6_nvr_20180105123810_20180105123855_112466304.mp4\n",
      "nvr_IP Camera6_nvr_20180105123824_20180105123909_112492288.mp4\n",
      "nvr_IP Camera6_nvr_20180105124640_20180105124724_112522882.mp4\n",
      "nvr_IP Camera6_nvr_20180105125631_20180105125724_112532726.mp4\n",
      "nvr_IP Camera6_nvr_20180105130200_20180105130250_112567557.mp4\n",
      "nvr_IP Camera6_nvr_20180105131208_20180105131254_112588580.mp4\n",
      "nvr_IP Camera6_nvr_20180105132317_20180105132405_112605554.mp4\n",
      "nvr_IP Camera6_nvr_20180105132609_20180105132701_112620726.mp4\n",
      "nvr_IP Camera6_nvr_20180105132930_20180105133028_112648139.mp4\n",
      "nvr_IP Camera6_nvr_20180105133003_20180105133047_112673691.mp4\n",
      "nvr_IP Camera6_nvr_20180105134318_20180105134407_112697062.mp4\n",
      "nvr_IP Camera6_nvr_20180105134540_20180105134633_112706828.mp4\n",
      "nvr_IP Camera6_nvr_20180105135010_20180105135104_112729260.mp4\n",
      "nvr_IP Camera6_nvr_20180105135253_20180105135338_112741600.mp4\n",
      "nvr_IP Camera6_nvr_20180105135413_20180105135508_112754636.mp4\n",
      "nvr_IP Camera6_nvr_20180105140142_20180105140234_112793406.mp4\n",
      "nvr_IP Camera6_nvr_20180105140306_20180105140350_112800359.mp4\n",
      "nvr_IP Camera6_nvr_20180105140708_20180105140807_112826078.mp4\n",
      "nvr_IP Camera6_nvr_20180105141318_20180105141411_112838765.mp4\n",
      "nvr_IP Camera6_nvr_20180105141751_20180105141842_112858631.mp4\n",
      "nvr_IP Camera6_nvr_20180105142521_20180105142609_112878729.mp4\n",
      "nvr_IP Camera6_nvr_20180105144451_20180105144539_112905219.mp4\n",
      "nvr_IP Camera6_nvr_20180105144735_20180105144827_112930080.mp4\n",
      "nvr_IP Camera6_nvr_20180105145506_20180105145600_112942455.mp4\n",
      "nvr_IP Camera6_nvr_20180105150057_20180105150154_112985161.mp4\n",
      "nvr_IP Camera6_nvr_20180105150128_20180105150216_113016193.mp4\n",
      "nvr_IP Camera6_nvr_20180105150450_20180105150544_113029681.mp4\n",
      "nvr_IP Camera6_nvr_20180105150710_20180105150810_113035335.mp4\n",
      "nvr_IP Camera6_nvr_20180105150952_20180105151045_113059119.mp4\n",
      "nvr_IP Camera6_nvr_20180105151356_20180105151442_113082480.mp4\n",
      "nvr_IP Camera6_nvr_20180105151706_20180105151756_113116645.mp4\n",
      "nvr_IP Camera6_nvr_20180105152602_20180105152704_113146364.mp4\n",
      "nvr_IP Camera6_nvr_20180105152755_20180105152850_113171454.mp4\n",
      "nvr_IP Camera6_nvr_20180105153348_20180105153442_113180626.mp4\n",
      "nvr_IP Camera6_nvr_20180105153553_20180105153638_113210333.mp4\n",
      "nvr_IP Camera6_nvr_20180105153806_20180105153902_113229021.mp4\n",
      "nvr_IP Camera6_nvr_20180105154128_20180105154226_113263887.mp4\n",
      "nvr_IP Camera6_nvr_20180105154455_20180105154545_113325820.mp4\n",
      "nvr_IP Camera6_nvr_20180105155915_20180105160000_113364054.mp4\n",
      "nvr_IP Camera6_nvr_20180105160623_20180105160709_113396386.mp4\n",
      "nvr_IP Camera6_nvr_20180105161225_20180105161315_113424667.mp4\n",
      "nvr_IP Camera6_nvr_20180105161340_20180105161426_113447816.mp4\n",
      "nvr_IP Camera6_nvr_20180105161508_20180105161554_113473035.mp4\n",
      "nvr_IP Camera6_nvr_20180105162027_20180105162113_113491687.mp4\n",
      "nvr_IP Camera6_nvr_20180105162517_20180105162615_113524203.mp4\n",
      "nvr_IP Camera6_nvr_20180105162659_20180105162747_113573361.mp4\n",
      "nvr_IP Camera6_nvr_20180105162723_20180105162810_113619647.mp4\n",
      "nvr_IP Camera6_nvr_20180105163128_20180105163215_113641907.mp4\n",
      "nvr_IP Camera6_nvr_20180105164048_20180105164140_113698062.mp4\n",
      "nvr_IP Camera6_nvr_20180105164150_20180105164240_113726768.mp4\n",
      "nvr_IP Camera6_nvr_20180105164359_20180105164443_113744003.mp4\n",
      "nvr_IP Camera6_nvr_20180105164418_20180105164510_113765425.mp4\n",
      "nvr_IP Camera6_nvr_20180105164543_20180105164631_113787355.mp4\n",
      "nvr_IP Camera6_nvr_20180105164650_20180105164744_113793699.mp4\n",
      "nvr_IP Camera6_nvr_20180105164803_20180105164847_113804355.mp4\n",
      "nvr_IP Camera6_nvr_20180105170207_20180105170252_113829508.mp4\n",
      "nvr_IP Camera6_nvr_20180105170243_20180105170331_113836055.mp4\n",
      "nvr_IP Camera6_nvr_20180105173527_20180105173615_113854539.mp4\n",
      "nvr_IP Camera6_nvr_20180105181345_20180105181429_113890415.mp4\n",
      "nvr_IP Camera6_nvr_20180105181541_20180105181550_113914328.mp4\n"
     ]
    }
   ],
   "source": [
    "for c, name in enumerate(dir):\n",
    "    play_video(dir_in + '/' + name,name)"
   ]
  },
  {
   "cell_type": "code",
   "execution_count": 4,
   "metadata": {},
   "outputs": [],
   "source": [
    "def play_video(url):\n",
    "    cap = cv2.VideoCapture(url)\n",
    "    while(cap.isOpened()):\n",
    "        ret, frame = cap.read()\n",
    "        \n",
    "        try:\n",
    "\n",
    "            color = cv2.cvtColor(frame, cv2.COLOR_BGR2RGB)\n",
    "            res = cv2.resize(frame, (640,480))      \n",
    "            cv2.imshow('frame',res)\n",
    "            \n",
    "        except Exception:\n",
    "            pass\n",
    "        \n",
    "        if cv2.waitKey(1) & 0xFF == ord('q'):\n",
    "            break\n",
    "\n",
    "    cap.release()\n",
    "    cv2.destroyAllWindows()"
   ]
  },
  {
   "cell_type": "code",
   "execution_count": 8,
   "metadata": {},
   "outputs": [],
   "source": [
    "play_video('rtsp://guest:guestP@ss@skazimax.dlinkddns.com:8088/Streaming/Channels/201')"
   ]
  },
  {
   "cell_type": "code",
   "execution_count": null,
   "metadata": {
    "collapsed": true
   },
   "outputs": [],
   "source": []
  }
 ],
 "metadata": {
  "kernelspec": {
   "display_name": "Python 3",
   "language": "python",
   "name": "python3"
  },
  "language_info": {
   "codemirror_mode": {
    "name": "ipython",
    "version": 3
   },
   "file_extension": ".py",
   "mimetype": "text/x-python",
   "name": "python",
   "nbconvert_exporter": "python",
   "pygments_lexer": "ipython3",
   "version": "3.6.1"
  }
 },
 "nbformat": 4,
 "nbformat_minor": 2
}
