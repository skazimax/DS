{
 "cells": [
  {
   "cell_type": "code",
   "execution_count": 3,
   "metadata": {},
   "outputs": [],
   "source": [
    "import pandas as pd\n",
    "import re\n",
    "import urllib.request\n",
    "from scrapy.selector import Selector\n",
    "from pymorphy2 import MorphAnalyzer"
   ]
  },
  {
   "cell_type": "code",
   "execution_count": 35,
   "metadata": {
    "collapsed": true
   },
   "outputs": [],
   "source": [
    "html=urllib.request.urlopen('https://news.yandex.ru/quotes/60000.html?nar=').read()"
   ]
  },
  {
   "cell_type": "code",
   "execution_count": 36,
   "metadata": {
    "collapsed": true
   },
   "outputs": [],
   "source": [
    "btc_all=re.findall(r'(\\d+.\\d+.\\d+)', Selector(text=html).xpath('/html[@class=\"i-ua_js_no i-ua_css_standard\"]\\\n",
    "                          /body[@class=\"b-page b-page_touch_no b-page_name_quote b-page_type_quotes b-page_ajax b-page_lang_ru b-page_view_normal b-page_mobile_yes loader loader_theme_yellow-38 i-ua daas b-page__body i-global i-ua i-ua i-ua_interaction_yes loader loader_theme_yellow-38 i-ua daas i-bem\"]\\\n",
    "                          /div[@class=\"b-page__inner\"]\\\n",
    "                          /div[@class=\"page-content\"]\\\n",
    "                          /div[@class=\"page-content__layout\"]\\\n",
    "                          /div[@class=\"page-content__left\"]\\\n",
    "                          /div[@class=\"quote i-bem\"]\\\n",
    "                          /div[@class=\"quote__graph\"]\\\n",
    "                          /div[@class=\"quote__data\"]\\\n",
    "                          /table\\\n",
    "                          ').extract()[0])"
   ]
  },
  {
   "cell_type": "code",
   "execution_count": 37,
   "metadata": {
    "collapsed": true
   },
   "outputs": [],
   "source": [
    "df=pd.DataFrame.from_records(list(zip(*[iter(btc_all)]*3)), columns=['date', 'value','change'])"
   ]
  },
  {
   "cell_type": "code",
   "execution_count": 40,
   "metadata": {},
   "outputs": [
    {
     "data": {
      "text/plain": [
       "'25.12.17'"
      ]
     },
     "execution_count": 40,
     "metadata": {},
     "output_type": "execute_result"
    }
   ],
   "source": [
    "df['date'][0]"
   ]
  },
  {
   "cell_type": "code",
   "execution_count": 9,
   "metadata": {
    "collapsed": true
   },
   "outputs": [],
   "source": [
    "m=MorphAnalyzer()"
   ]
  },
  {
   "cell_type": "code",
   "execution_count": 137,
   "metadata": {},
   "outputs": [],
   "source": [
    "baks=m.parse('слон')[0]"
   ]
  },
  {
   "cell_type": "code",
   "execution_count": 141,
   "metadata": {},
   "outputs": [
    {
     "data": {
      "text/plain": [
       "'слона'"
      ]
     },
     "execution_count": 141,
     "metadata": {},
     "output_type": "execute_result"
    }
   ],
   "source": [
    "baks.make_agree_with_number(223).word"
   ]
  },
  {
   "cell_type": "code",
   "execution_count": 136,
   "metadata": {},
   "outputs": [
    {
     "ename": "SyntaxError",
     "evalue": "invalid syntax (<ipython-input-136-c639dba01b94>, line 1)",
     "output_type": "error",
     "traceback": [
      "\u001b[1;36m  File \u001b[1;32m\"<ipython-input-136-c639dba01b94>\"\u001b[1;36m, line \u001b[1;32m1\u001b[0m\n\u001b[1;33m    По состоянию на сегодя за 1 биткоин() давать() xx доллар()\u001b[0m\n\u001b[1;37m               ^\u001b[0m\n\u001b[1;31mSyntaxError\u001b[0m\u001b[1;31m:\u001b[0m invalid syntax\n"
     ]
    }
   ],
   "source": [
    "По состоянию на сегодя за 1 биткоин() давать() xx доллар()"
   ]
  },
  {
   "cell_type": "code",
   "execution_count": 103,
   "metadata": {},
   "outputs": [
    {
     "data": {
      "text/plain": [
       "'составляла'"
      ]
     },
     "execution_count": 103,
     "metadata": {},
     "output_type": "execute_result"
    }
   ],
   "source": [
    "baks.inflect({'femn','past'}).word"
   ]
  },
  {
   "cell_type": "code",
   "execution_count": 84,
   "metadata": {},
   "outputs": [
    {
     "data": {
      "text/plain": [
       "'давали'"
      ]
     },
     "execution_count": 84,
     "metadata": {},
     "output_type": "execute_result"
    }
   ],
   "source": [
    "baks.inflect({'plur','past'}).word"
   ]
  },
  {
   "cell_type": "code",
   "execution_count": 83,
   "metadata": {},
   "outputs": [
    {
     "data": {
      "text/plain": [
       "[Parse(word='составлять', tag=OpencorporaTag('INFN,impf,tran'), normal_form='составлять', score=1.0, methods_stack=((<DictionaryAnalyzer>, 'составлять', 206, 0),)),\n",
       " Parse(word='составляю', tag=OpencorporaTag('VERB,impf,tran sing,1per,pres,indc'), normal_form='составлять', score=1.0, methods_stack=((<DictionaryAnalyzer>, 'составляю', 206, 1),)),\n",
       " Parse(word='составляем', tag=OpencorporaTag('VERB,impf,tran plur,1per,pres,indc'), normal_form='составлять', score=1.0, methods_stack=((<DictionaryAnalyzer>, 'составляем', 206, 2),)),\n",
       " Parse(word='составляешь', tag=OpencorporaTag('VERB,impf,tran sing,2per,pres,indc'), normal_form='составлять', score=1.0, methods_stack=((<DictionaryAnalyzer>, 'составляешь', 206, 3),)),\n",
       " Parse(word='составляете', tag=OpencorporaTag('VERB,impf,tran plur,2per,pres,indc'), normal_form='составлять', score=1.0, methods_stack=((<DictionaryAnalyzer>, 'составляете', 206, 4),)),\n",
       " Parse(word='составляет', tag=OpencorporaTag('VERB,impf,tran sing,3per,pres,indc'), normal_form='составлять', score=1.0, methods_stack=((<DictionaryAnalyzer>, 'составляет', 206, 5),)),\n",
       " Parse(word='составляют', tag=OpencorporaTag('VERB,impf,tran plur,3per,pres,indc'), normal_form='составлять', score=1.0, methods_stack=((<DictionaryAnalyzer>, 'составляют', 206, 6),)),\n",
       " Parse(word='составлял', tag=OpencorporaTag('VERB,impf,tran masc,sing,past,indc'), normal_form='составлять', score=1.0, methods_stack=((<DictionaryAnalyzer>, 'составлял', 206, 7),)),\n",
       " Parse(word='составляла', tag=OpencorporaTag('VERB,impf,tran femn,sing,past,indc'), normal_form='составлять', score=1.0, methods_stack=((<DictionaryAnalyzer>, 'составляла', 206, 8),)),\n",
       " Parse(word='составляло', tag=OpencorporaTag('VERB,impf,tran neut,sing,past,indc'), normal_form='составлять', score=1.0, methods_stack=((<DictionaryAnalyzer>, 'составляло', 206, 9),)),\n",
       " Parse(word='составляли', tag=OpencorporaTag('VERB,impf,tran plur,past,indc'), normal_form='составлять', score=1.0, methods_stack=((<DictionaryAnalyzer>, 'составляли', 206, 10),)),\n",
       " Parse(word='составляй', tag=OpencorporaTag('VERB,impf,tran sing,impr,excl'), normal_form='составлять', score=1.0, methods_stack=((<DictionaryAnalyzer>, 'составляй', 206, 11),)),\n",
       " Parse(word='составляйте', tag=OpencorporaTag('VERB,impf,tran plur,impr,excl'), normal_form='составлять', score=1.0, methods_stack=((<DictionaryAnalyzer>, 'составляйте', 206, 12),)),\n",
       " Parse(word='составляющий', tag=OpencorporaTag('PRTF,impf,tran,pres,actv masc,sing,nomn'), normal_form='составлять', score=1.0, methods_stack=((<DictionaryAnalyzer>, 'составляющий', 206, 13),)),\n",
       " Parse(word='составляющего', tag=OpencorporaTag('PRTF,impf,tran,pres,actv masc,sing,gent'), normal_form='составлять', score=1.0, methods_stack=((<DictionaryAnalyzer>, 'составляющего', 206, 14),)),\n",
       " Parse(word='составляющему', tag=OpencorporaTag('PRTF,impf,tran,pres,actv masc,sing,datv'), normal_form='составлять', score=1.0, methods_stack=((<DictionaryAnalyzer>, 'составляющему', 206, 15),)),\n",
       " Parse(word='составляющего', tag=OpencorporaTag('PRTF,impf,tran,pres,actv anim,masc,sing,accs'), normal_form='составлять', score=1.0, methods_stack=((<DictionaryAnalyzer>, 'составляющего', 206, 16),)),\n",
       " Parse(word='составляющий', tag=OpencorporaTag('PRTF,impf,tran,pres,actv inan,masc,sing,accs'), normal_form='составлять', score=1.0, methods_stack=((<DictionaryAnalyzer>, 'составляющий', 206, 17),)),\n",
       " Parse(word='составляющим', tag=OpencorporaTag('PRTF,impf,tran,pres,actv masc,sing,ablt'), normal_form='составлять', score=1.0, methods_stack=((<DictionaryAnalyzer>, 'составляющим', 206, 18),)),\n",
       " Parse(word='составляющем', tag=OpencorporaTag('PRTF,impf,tran,pres,actv masc,sing,loct'), normal_form='составлять', score=1.0, methods_stack=((<DictionaryAnalyzer>, 'составляющем', 206, 19),)),\n",
       " Parse(word='составляющая', tag=OpencorporaTag('PRTF,impf,tran,pres,actv femn,sing,nomn'), normal_form='составлять', score=1.0, methods_stack=((<DictionaryAnalyzer>, 'составляющая', 206, 20),)),\n",
       " Parse(word='составляющей', tag=OpencorporaTag('PRTF,impf,tran,pres,actv femn,sing,gent'), normal_form='составлять', score=1.0, methods_stack=((<DictionaryAnalyzer>, 'составляющей', 206, 21),)),\n",
       " Parse(word='составляющей', tag=OpencorporaTag('PRTF,impf,tran,pres,actv femn,sing,datv'), normal_form='составлять', score=1.0, methods_stack=((<DictionaryAnalyzer>, 'составляющей', 206, 22),)),\n",
       " Parse(word='составляющую', tag=OpencorporaTag('PRTF,impf,tran,pres,actv femn,sing,accs'), normal_form='составлять', score=1.0, methods_stack=((<DictionaryAnalyzer>, 'составляющую', 206, 23),)),\n",
       " Parse(word='составляющей', tag=OpencorporaTag('PRTF,impf,tran,pres,actv femn,sing,ablt'), normal_form='составлять', score=1.0, methods_stack=((<DictionaryAnalyzer>, 'составляющей', 206, 24),)),\n",
       " Parse(word='составляющею', tag=OpencorporaTag('PRTF,impf,tran,pres,actv femn,sing,ablt,V-ey'), normal_form='составлять', score=1.0, methods_stack=((<DictionaryAnalyzer>, 'составляющею', 206, 25),)),\n",
       " Parse(word='составляющей', tag=OpencorporaTag('PRTF,impf,tran,pres,actv femn,sing,loct'), normal_form='составлять', score=1.0, methods_stack=((<DictionaryAnalyzer>, 'составляющей', 206, 26),)),\n",
       " Parse(word='составляющее', tag=OpencorporaTag('PRTF,impf,tran,pres,actv neut,sing,nomn'), normal_form='составлять', score=1.0, methods_stack=((<DictionaryAnalyzer>, 'составляющее', 206, 27),)),\n",
       " Parse(word='составляющего', tag=OpencorporaTag('PRTF,impf,tran,pres,actv neut,sing,gent'), normal_form='составлять', score=1.0, methods_stack=((<DictionaryAnalyzer>, 'составляющего', 206, 28),)),\n",
       " Parse(word='составляющему', tag=OpencorporaTag('PRTF,impf,tran,pres,actv neut,sing,datv'), normal_form='составлять', score=1.0, methods_stack=((<DictionaryAnalyzer>, 'составляющему', 206, 29),)),\n",
       " Parse(word='составляющее', tag=OpencorporaTag('PRTF,impf,tran,pres,actv neut,sing,accs'), normal_form='составлять', score=1.0, methods_stack=((<DictionaryAnalyzer>, 'составляющее', 206, 30),)),\n",
       " Parse(word='составляющим', tag=OpencorporaTag('PRTF,impf,tran,pres,actv neut,sing,ablt'), normal_form='составлять', score=1.0, methods_stack=((<DictionaryAnalyzer>, 'составляющим', 206, 31),)),\n",
       " Parse(word='составляющем', tag=OpencorporaTag('PRTF,impf,tran,pres,actv neut,sing,loct'), normal_form='составлять', score=1.0, methods_stack=((<DictionaryAnalyzer>, 'составляющем', 206, 32),)),\n",
       " Parse(word='составляющие', tag=OpencorporaTag('PRTF,impf,tran,pres,actv plur,nomn'), normal_form='составлять', score=1.0, methods_stack=((<DictionaryAnalyzer>, 'составляющие', 206, 33),)),\n",
       " Parse(word='составляющих', tag=OpencorporaTag('PRTF,impf,tran,pres,actv plur,gent'), normal_form='составлять', score=1.0, methods_stack=((<DictionaryAnalyzer>, 'составляющих', 206, 34),)),\n",
       " Parse(word='составляющим', tag=OpencorporaTag('PRTF,impf,tran,pres,actv plur,datv'), normal_form='составлять', score=1.0, methods_stack=((<DictionaryAnalyzer>, 'составляющим', 206, 35),)),\n",
       " Parse(word='составляющих', tag=OpencorporaTag('PRTF,impf,tran,pres,actv anim,plur,accs'), normal_form='составлять', score=1.0, methods_stack=((<DictionaryAnalyzer>, 'составляющих', 206, 36),)),\n",
       " Parse(word='составляющие', tag=OpencorporaTag('PRTF,impf,tran,pres,actv inan,plur,accs'), normal_form='составлять', score=1.0, methods_stack=((<DictionaryAnalyzer>, 'составляющие', 206, 37),)),\n",
       " Parse(word='составляющими', tag=OpencorporaTag('PRTF,impf,tran,pres,actv plur,ablt'), normal_form='составлять', score=1.0, methods_stack=((<DictionaryAnalyzer>, 'составляющими', 206, 38),)),\n",
       " Parse(word='составляющих', tag=OpencorporaTag('PRTF,impf,tran,pres,actv plur,loct'), normal_form='составлять', score=1.0, methods_stack=((<DictionaryAnalyzer>, 'составляющих', 206, 39),)),\n",
       " Parse(word='составлявший', tag=OpencorporaTag('PRTF,impf,tran,past,actv masc,sing,nomn'), normal_form='составлять', score=1.0, methods_stack=((<DictionaryAnalyzer>, 'составлявший', 206, 40),)),\n",
       " Parse(word='составлявшего', tag=OpencorporaTag('PRTF,impf,tran,past,actv masc,sing,gent'), normal_form='составлять', score=1.0, methods_stack=((<DictionaryAnalyzer>, 'составлявшего', 206, 41),)),\n",
       " Parse(word='составлявшему', tag=OpencorporaTag('PRTF,impf,tran,past,actv masc,sing,datv'), normal_form='составлять', score=1.0, methods_stack=((<DictionaryAnalyzer>, 'составлявшему', 206, 42),)),\n",
       " Parse(word='составлявшего', tag=OpencorporaTag('PRTF,impf,tran,past,actv anim,masc,sing,accs'), normal_form='составлять', score=1.0, methods_stack=((<DictionaryAnalyzer>, 'составлявшего', 206, 43),)),\n",
       " Parse(word='составлявший', tag=OpencorporaTag('PRTF,impf,tran,past,actv inan,masc,sing,accs'), normal_form='составлять', score=1.0, methods_stack=((<DictionaryAnalyzer>, 'составлявший', 206, 44),)),\n",
       " Parse(word='составлявшим', tag=OpencorporaTag('PRTF,impf,tran,past,actv masc,sing,ablt'), normal_form='составлять', score=1.0, methods_stack=((<DictionaryAnalyzer>, 'составлявшим', 206, 45),)),\n",
       " Parse(word='составлявшем', tag=OpencorporaTag('PRTF,impf,tran,past,actv masc,sing,loct'), normal_form='составлять', score=1.0, methods_stack=((<DictionaryAnalyzer>, 'составлявшем', 206, 46),)),\n",
       " Parse(word='составлявшая', tag=OpencorporaTag('PRTF,impf,tran,past,actv femn,sing,nomn'), normal_form='составлять', score=1.0, methods_stack=((<DictionaryAnalyzer>, 'составлявшая', 206, 47),)),\n",
       " Parse(word='составлявшей', tag=OpencorporaTag('PRTF,impf,tran,past,actv femn,sing,gent'), normal_form='составлять', score=1.0, methods_stack=((<DictionaryAnalyzer>, 'составлявшей', 206, 48),)),\n",
       " Parse(word='составлявшей', tag=OpencorporaTag('PRTF,impf,tran,past,actv femn,sing,datv'), normal_form='составлять', score=1.0, methods_stack=((<DictionaryAnalyzer>, 'составлявшей', 206, 49),)),\n",
       " Parse(word='составлявшую', tag=OpencorporaTag('PRTF,impf,tran,past,actv femn,sing,accs'), normal_form='составлять', score=1.0, methods_stack=((<DictionaryAnalyzer>, 'составлявшую', 206, 50),)),\n",
       " Parse(word='составлявшей', tag=OpencorporaTag('PRTF,impf,tran,past,actv femn,sing,ablt'), normal_form='составлять', score=1.0, methods_stack=((<DictionaryAnalyzer>, 'составлявшей', 206, 51),)),\n",
       " Parse(word='составлявшею', tag=OpencorporaTag('PRTF,impf,tran,past,actv femn,sing,ablt,V-ey'), normal_form='составлять', score=1.0, methods_stack=((<DictionaryAnalyzer>, 'составлявшею', 206, 52),)),\n",
       " Parse(word='составлявшей', tag=OpencorporaTag('PRTF,impf,tran,past,actv femn,sing,loct'), normal_form='составлять', score=1.0, methods_stack=((<DictionaryAnalyzer>, 'составлявшей', 206, 53),)),\n",
       " Parse(word='составлявшее', tag=OpencorporaTag('PRTF,impf,tran,past,actv neut,sing,nomn'), normal_form='составлять', score=1.0, methods_stack=((<DictionaryAnalyzer>, 'составлявшее', 206, 54),)),\n",
       " Parse(word='составлявшего', tag=OpencorporaTag('PRTF,impf,tran,past,actv neut,sing,gent'), normal_form='составлять', score=1.0, methods_stack=((<DictionaryAnalyzer>, 'составлявшего', 206, 55),)),\n",
       " Parse(word='составлявшему', tag=OpencorporaTag('PRTF,impf,tran,past,actv neut,sing,datv'), normal_form='составлять', score=1.0, methods_stack=((<DictionaryAnalyzer>, 'составлявшему', 206, 56),)),\n",
       " Parse(word='составлявшее', tag=OpencorporaTag('PRTF,impf,tran,past,actv neut,sing,accs'), normal_form='составлять', score=1.0, methods_stack=((<DictionaryAnalyzer>, 'составлявшее', 206, 57),)),\n",
       " Parse(word='составлявшим', tag=OpencorporaTag('PRTF,impf,tran,past,actv neut,sing,ablt'), normal_form='составлять', score=1.0, methods_stack=((<DictionaryAnalyzer>, 'составлявшим', 206, 58),)),\n",
       " Parse(word='составлявшем', tag=OpencorporaTag('PRTF,impf,tran,past,actv neut,sing,loct'), normal_form='составлять', score=1.0, methods_stack=((<DictionaryAnalyzer>, 'составлявшем', 206, 59),)),\n",
       " Parse(word='составлявшие', tag=OpencorporaTag('PRTF,impf,tran,past,actv plur,nomn'), normal_form='составлять', score=1.0, methods_stack=((<DictionaryAnalyzer>, 'составлявшие', 206, 60),)),\n",
       " Parse(word='составлявших', tag=OpencorporaTag('PRTF,impf,tran,past,actv plur,gent'), normal_form='составлять', score=1.0, methods_stack=((<DictionaryAnalyzer>, 'составлявших', 206, 61),)),\n",
       " Parse(word='составлявшим', tag=OpencorporaTag('PRTF,impf,tran,past,actv plur,datv'), normal_form='составлять', score=1.0, methods_stack=((<DictionaryAnalyzer>, 'составлявшим', 206, 62),)),\n",
       " Parse(word='составлявших', tag=OpencorporaTag('PRTF,impf,tran,past,actv anim,plur,accs'), normal_form='составлять', score=1.0, methods_stack=((<DictionaryAnalyzer>, 'составлявших', 206, 63),)),\n",
       " Parse(word='составлявшие', tag=OpencorporaTag('PRTF,impf,tran,past,actv inan,plur,accs'), normal_form='составлять', score=1.0, methods_stack=((<DictionaryAnalyzer>, 'составлявшие', 206, 64),)),\n",
       " Parse(word='составлявшими', tag=OpencorporaTag('PRTF,impf,tran,past,actv plur,ablt'), normal_form='составлять', score=1.0, methods_stack=((<DictionaryAnalyzer>, 'составлявшими', 206, 65),)),\n",
       " Parse(word='составлявших', tag=OpencorporaTag('PRTF,impf,tran,past,actv plur,loct'), normal_form='составлять', score=1.0, methods_stack=((<DictionaryAnalyzer>, 'составлявших', 206, 66),)),\n",
       " Parse(word='составляемый', tag=OpencorporaTag('PRTF,impf,tran,pres,pssv masc,sing,nomn'), normal_form='составлять', score=1.0, methods_stack=((<DictionaryAnalyzer>, 'составляемый', 206, 67),)),\n",
       " Parse(word='составляемого', tag=OpencorporaTag('PRTF,impf,tran,pres,pssv masc,sing,gent'), normal_form='составлять', score=1.0, methods_stack=((<DictionaryAnalyzer>, 'составляемого', 206, 68),)),\n",
       " Parse(word='составляемому', tag=OpencorporaTag('PRTF,impf,tran,pres,pssv masc,sing,datv'), normal_form='составлять', score=1.0, methods_stack=((<DictionaryAnalyzer>, 'составляемому', 206, 69),)),\n",
       " Parse(word='составляемого', tag=OpencorporaTag('PRTF,impf,tran,pres,pssv anim,masc,sing,accs'), normal_form='составлять', score=1.0, methods_stack=((<DictionaryAnalyzer>, 'составляемого', 206, 70),)),\n",
       " Parse(word='составляемый', tag=OpencorporaTag('PRTF,impf,tran,pres,pssv inan,masc,sing,accs'), normal_form='составлять', score=1.0, methods_stack=((<DictionaryAnalyzer>, 'составляемый', 206, 71),)),\n",
       " Parse(word='составляемым', tag=OpencorporaTag('PRTF,impf,tran,pres,pssv masc,sing,ablt'), normal_form='составлять', score=1.0, methods_stack=((<DictionaryAnalyzer>, 'составляемым', 206, 72),)),\n",
       " Parse(word='составляемом', tag=OpencorporaTag('PRTF,impf,tran,pres,pssv masc,sing,loct'), normal_form='составлять', score=1.0, methods_stack=((<DictionaryAnalyzer>, 'составляемом', 206, 73),)),\n",
       " Parse(word='составляемая', tag=OpencorporaTag('PRTF,impf,tran,pres,pssv femn,sing,nomn'), normal_form='составлять', score=1.0, methods_stack=((<DictionaryAnalyzer>, 'составляемая', 206, 74),)),\n",
       " Parse(word='составляемой', tag=OpencorporaTag('PRTF,impf,tran,pres,pssv femn,sing,gent'), normal_form='составлять', score=1.0, methods_stack=((<DictionaryAnalyzer>, 'составляемой', 206, 75),)),\n",
       " Parse(word='составляемой', tag=OpencorporaTag('PRTF,impf,tran,pres,pssv femn,sing,datv'), normal_form='составлять', score=1.0, methods_stack=((<DictionaryAnalyzer>, 'составляемой', 206, 76),)),\n",
       " Parse(word='составляемую', tag=OpencorporaTag('PRTF,impf,tran,pres,pssv femn,sing,accs'), normal_form='составлять', score=1.0, methods_stack=((<DictionaryAnalyzer>, 'составляемую', 206, 77),)),\n",
       " Parse(word='составляемой', tag=OpencorporaTag('PRTF,impf,tran,pres,pssv femn,sing,ablt'), normal_form='составлять', score=1.0, methods_stack=((<DictionaryAnalyzer>, 'составляемой', 206, 78),)),\n",
       " Parse(word='составляемою', tag=OpencorporaTag('PRTF,impf,tran,pres,pssv femn,sing,ablt,V-oy'), normal_form='составлять', score=1.0, methods_stack=((<DictionaryAnalyzer>, 'составляемою', 206, 79),)),\n",
       " Parse(word='составляемой', tag=OpencorporaTag('PRTF,impf,tran,pres,pssv femn,sing,loct'), normal_form='составлять', score=1.0, methods_stack=((<DictionaryAnalyzer>, 'составляемой', 206, 80),)),\n",
       " Parse(word='составляемое', tag=OpencorporaTag('PRTF,impf,tran,pres,pssv neut,sing,nomn'), normal_form='составлять', score=1.0, methods_stack=((<DictionaryAnalyzer>, 'составляемое', 206, 81),)),\n",
       " Parse(word='составляемого', tag=OpencorporaTag('PRTF,impf,tran,pres,pssv neut,sing,gent'), normal_form='составлять', score=1.0, methods_stack=((<DictionaryAnalyzer>, 'составляемого', 206, 82),)),\n",
       " Parse(word='составляемому', tag=OpencorporaTag('PRTF,impf,tran,pres,pssv neut,sing,datv'), normal_form='составлять', score=1.0, methods_stack=((<DictionaryAnalyzer>, 'составляемому', 206, 83),)),\n",
       " Parse(word='составляемое', tag=OpencorporaTag('PRTF,impf,tran,pres,pssv neut,sing,accs'), normal_form='составлять', score=1.0, methods_stack=((<DictionaryAnalyzer>, 'составляемое', 206, 84),)),\n",
       " Parse(word='составляемым', tag=OpencorporaTag('PRTF,impf,tran,pres,pssv neut,sing,ablt'), normal_form='составлять', score=1.0, methods_stack=((<DictionaryAnalyzer>, 'составляемым', 206, 85),)),\n",
       " Parse(word='составляемом', tag=OpencorporaTag('PRTF,impf,tran,pres,pssv neut,sing,loct'), normal_form='составлять', score=1.0, methods_stack=((<DictionaryAnalyzer>, 'составляемом', 206, 86),)),\n",
       " Parse(word='составляемые', tag=OpencorporaTag('PRTF,impf,tran,pres,pssv plur,nomn'), normal_form='составлять', score=1.0, methods_stack=((<DictionaryAnalyzer>, 'составляемые', 206, 87),)),\n",
       " Parse(word='составляемых', tag=OpencorporaTag('PRTF,impf,tran,pres,pssv plur,gent'), normal_form='составлять', score=1.0, methods_stack=((<DictionaryAnalyzer>, 'составляемых', 206, 88),)),\n",
       " Parse(word='составляемым', tag=OpencorporaTag('PRTF,impf,tran,pres,pssv plur,datv'), normal_form='составлять', score=1.0, methods_stack=((<DictionaryAnalyzer>, 'составляемым', 206, 89),)),\n",
       " Parse(word='составляемых', tag=OpencorporaTag('PRTF,impf,tran,pres,pssv anim,plur,accs'), normal_form='составлять', score=1.0, methods_stack=((<DictionaryAnalyzer>, 'составляемых', 206, 90),)),\n",
       " Parse(word='составляемые', tag=OpencorporaTag('PRTF,impf,tran,pres,pssv inan,plur,accs'), normal_form='составлять', score=1.0, methods_stack=((<DictionaryAnalyzer>, 'составляемые', 206, 91),)),\n",
       " Parse(word='составляемыми', tag=OpencorporaTag('PRTF,impf,tran,pres,pssv plur,ablt'), normal_form='составлять', score=1.0, methods_stack=((<DictionaryAnalyzer>, 'составляемыми', 206, 92),)),\n",
       " Parse(word='составляемых', tag=OpencorporaTag('PRTF,impf,tran,pres,pssv plur,loct'), normal_form='составлять', score=1.0, methods_stack=((<DictionaryAnalyzer>, 'составляемых', 206, 93),)),\n",
       " Parse(word='составляя', tag=OpencorporaTag('GRND,impf,tran pres'), normal_form='составлять', score=1.0, methods_stack=((<DictionaryAnalyzer>, 'составляя', 206, 94),)),\n",
       " Parse(word='составляв', tag=OpencorporaTag('GRND,impf,tran past'), normal_form='составлять', score=1.0, methods_stack=((<DictionaryAnalyzer>, 'составляв', 206, 95),)),\n",
       " Parse(word='составлявши', tag=OpencorporaTag('GRND,impf,tran past,V-sh'), normal_form='составлять', score=1.0, methods_stack=((<DictionaryAnalyzer>, 'составлявши', 206, 96),)),\n",
       " Parse(word='составляем', tag=OpencorporaTag('PRTS,impf,pres,pssv masc,sing'), normal_form='составлять', score=1.0, methods_stack=((<DictionaryAnalyzer>, 'составляем', 206, 97),)),\n",
       " Parse(word='составляема', tag=OpencorporaTag('PRTS,impf,pres,pssv femn,sing'), normal_form='составлять', score=1.0, methods_stack=((<DictionaryAnalyzer>, 'составляема', 206, 98),)),\n",
       " Parse(word='составляемо', tag=OpencorporaTag('PRTS,impf,pres,pssv neut,sing'), normal_form='составлять', score=1.0, methods_stack=((<DictionaryAnalyzer>, 'составляемо', 206, 99),)),\n",
       " Parse(word='составляемы', tag=OpencorporaTag('PRTS,impf,pres,pssv plur'), normal_form='составлять', score=1.0, methods_stack=((<DictionaryAnalyzer>, 'составляемы', 206, 100),))]"
      ]
     },
     "execution_count": 83,
     "metadata": {},
     "output_type": "execute_result"
    }
   ],
   "source": [
    "baks.lexeme"
   ]
  },
  {
   "cell_type": "code",
   "execution_count": 148,
   "metadata": {},
   "outputs": [],
   "source": [
    "def btc_course(x,date):\n",
    "    m=MorphAnalyzer()\n",
    "    baks=m.parse('доллар')[0]\n",
    "    verb=m.parse('составлять')[0]\n",
    "    btc=m.parse('слон')[0]\n",
    "    btc=btc.make_agree_with_number(int(x)).word\n",
    "    \n",
    "    if date=='сегодня':\n",
    "        d=0\n",
    "        v=verb.inflect({'sing','3per'}).word\n",
    "    elif date=='вчера':\n",
    "        d=1\n",
    "        v=verb.inflect({'femn','past'}).word\n",
    "    print(btc)  \n",
    "    #print(\"По состоянию на \"+df['date'][d]+\" стоимость 1 биткоин \"+v+\" \"+df['value'][d]+\" \"+baks.make_agree_with_number(int(df['value'][d][-1])).word)"
   ]
  },
  {
   "cell_type": "code",
   "execution_count": 150,
   "metadata": {},
   "outputs": [
    {
     "name": "stdout",
     "output_type": "stream",
     "text": [
      "слона\n"
     ]
    }
   ],
   "source": [
    "btc_course('2','вчера')"
   ]
  },
  {
   "cell_type": "code",
   "execution_count": 113,
   "metadata": {},
   "outputs": [
    {
     "data": {
      "text/plain": [
       "'составлять'"
      ]
     },
     "execution_count": 113,
     "metadata": {},
     "output_type": "execute_result"
    }
   ],
   "source": [
    "baks.make_agree_with_number(int(df['value'][0][-1])).word"
   ]
  },
  {
   "cell_type": "code",
   "execution_count": 69,
   "metadata": {},
   "outputs": [
    {
     "data": {
      "text/plain": [
       "5"
      ]
     },
     "execution_count": 69,
     "metadata": {},
     "output_type": "execute_result"
    }
   ],
   "source": [
    "int(df['value'][0][-1])"
   ]
  },
  {
   "cell_type": "code",
   "execution_count": 191,
   "metadata": {},
   "outputs": [
    {
     "data": {
      "text/plain": [
       "['в']"
      ]
     },
     "execution_count": 191,
     "metadata": {},
     "output_type": "execute_result"
    }
   ],
   "source": [
    "re.findall(r'[^слон]','слонов')"
   ]
  },
  {
   "cell_type": "code",
   "execution_count": null,
   "metadata": {
    "collapsed": true
   },
   "outputs": [],
   "source": []
  },
  {
   "cell_type": "code",
   "execution_count": null,
   "metadata": {
    "collapsed": true
   },
   "outputs": [],
   "source": []
  }
 ],
 "metadata": {
  "kernelspec": {
   "display_name": "Python 3",
   "language": "python",
   "name": "python3"
  },
  "language_info": {
   "codemirror_mode": {
    "name": "ipython",
    "version": 3
   },
   "file_extension": ".py",
   "mimetype": "text/x-python",
   "name": "python",
   "nbconvert_exporter": "python",
   "pygments_lexer": "ipython3",
   "version": "3.6.2"
  }
 },
 "nbformat": 4,
 "nbformat_minor": 2
}
