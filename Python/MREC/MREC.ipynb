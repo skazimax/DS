{
 "cells": [
  {
   "cell_type": "markdown",
   "metadata": {},
   "source": [
    "Делим выборку на train\\test"
   ]
  },
  {
   "cell_type": "code",
   "execution_count": 1,
   "metadata": {},
   "outputs": [
    {
     "name": "stdout",
     "output_type": "stream",
     "text": [
      "[2017-12-09 20:21:44,427] INFO: sorting input data...\n",
      "[2017-12-09 20:21:44,585] INFO: creating split 0: /home/spynal/Netology/DS/Python/MREC/splits/u.data.train.0 /home/spynal/Netology/DS/Python/MREC/splits/u.data.test.0\n",
      "[2017-12-09 20:21:45,103] INFO: creating split 1: /home/spynal/Netology/DS/Python/MREC/splits/u.data.train.1 /home/spynal/Netology/DS/Python/MREC/splits/u.data.test.1\n",
      "[2017-12-09 20:21:45,660] INFO: creating split 2: /home/spynal/Netology/DS/Python/MREC/splits/u.data.train.2 /home/spynal/Netology/DS/Python/MREC/splits/u.data.test.2\n",
      "[2017-12-09 20:21:46,201] INFO: creating split 3: /home/spynal/Netology/DS/Python/MREC/splits/u.data.train.3 /home/spynal/Netology/DS/Python/MREC/splits/u.data.test.3\n",
      "[2017-12-09 20:21:46,822] INFO: creating split 4: /home/spynal/Netology/DS/Python/MREC/splits/u.data.train.4 /home/spynal/Netology/DS/Python/MREC/splits/u.data.test.4\n",
      "[2017-12-09 20:21:47,473] INFO: cleaning up...\n",
      "[2017-12-09 20:21:47,478] INFO: done\n"
     ]
    }
   ],
   "source": [
    "!mrec_prepare --dataset ml-100k/u.data --outdir splits --rating_thresh 3.5 --test_size 0.2 --binarize"
   ]
  },
  {
   "cell_type": "markdown",
   "metadata": {},
   "source": [
    "Запускаем"
   ]
  },
  {
   "cell_type": "code",
   "execution_count": 2,
   "metadata": {
    "collapsed": true
   },
   "outputs": [],
   "source": [
    "!ipcluster start -n2 --daemonize"
   ]
  },
  {
   "cell_type": "markdown",
   "metadata": {},
   "source": [
    "Тренируем по популярности"
   ]
  },
  {
   "cell_type": "code",
   "execution_count": 3,
   "metadata": {},
   "outputs": [
    {
     "name": "stdout",
     "output_type": "stream",
     "text": [
      "[2017-12-09 20:22:05,896] INFO: processing /home/spynal/Netology/DS/Python/MREC/splits/u.data.train.1...\n",
      "[2017-12-09 20:22:06,992] INFO: processing /home/spynal/Netology/DS/Python/MREC/splits/u.data.train.0...\n",
      "[2017-12-09 20:22:08,002] INFO: processing /home/spynal/Netology/DS/Python/MREC/splits/u.data.train.4...\n",
      "[2017-12-09 20:22:09,054] INFO: processing /home/spynal/Netology/DS/Python/MREC/splits/u.data.train.2...\n",
      "[2017-12-09 20:22:10,051] INFO: processing /home/spynal/Netology/DS/Python/MREC/splits/u.data.train.3...\n",
      "[2017-12-09 20:22:11,023] INFO: done\n"
     ]
    }
   ],
   "source": [
    "!mrec_train -n2 --input_format tsv --train \"splits/u.data.train.*\" --outdir models_pop --model popularity"
   ]
  },
  {
   "cell_type": "markdown",
   "metadata": {
    "collapsed": true
   },
   "source": [
    "Предсказываем"
   ]
  },
  {
   "cell_type": "code",
   "execution_count": 4,
   "metadata": {},
   "outputs": [
    {
     "name": "stdout",
     "output_type": "stream",
     "text": [
      "[2017-12-09 20:22:12,217] INFO: processing /home/spynal/Netology/DS/Python/MREC/splits/u.data.train.1...\n",
      "[2017-12-09 20:22:12,217] INFO: creating recs directory /home/spynal/Netology/DS/Python/MREC/recs_pop/u.data.train.1-recs...\n",
      "[2017-12-09 20:22:12,246] INFO: checking for existing output recs...\n",
      "[2017-12-09 20:22:12,247] INFO: creating tasks...\n",
      "[2017-12-09 20:22:12,248] INFO: loading dataset to get size...\n",
      "[2017-12-09 20:22:13,045] INFO: loading model to get size...\n",
      "[2017-12-09 20:22:13,046] INFO: created 1 tasks, 943 users per task\n",
      "[2017-12-09 20:22:13,046] INFO: running in parallel across ipython engines...\n",
      "[2017-12-09 20:22:14,462] INFO: checking output files...\n",
      "[2017-12-09 20:22:14,463] INFO: SUCCESS: all tasks completed\n",
      "[2017-12-09 20:22:14,463] INFO: concatenating 1 partial output files...\n",
      "[2017-12-09 20:22:14,467] INFO: removing partial output files...\n",
      "[2017-12-09 20:22:14,467] INFO: done\n",
      "[2017-12-09 20:22:14,468] INFO: processing /home/spynal/Netology/DS/Python/MREC/splits/u.data.train.0...\n",
      "[2017-12-09 20:22:14,468] INFO: creating recs directory /home/spynal/Netology/DS/Python/MREC/recs_pop/u.data.train.0-recs...\n",
      "[2017-12-09 20:22:14,471] INFO: checking for existing output recs...\n",
      "[2017-12-09 20:22:14,472] INFO: creating tasks...\n",
      "[2017-12-09 20:22:14,472] INFO: loading dataset to get size...\n",
      "[2017-12-09 20:22:15,146] INFO: loading model to get size...\n",
      "[2017-12-09 20:22:15,147] INFO: created 1 tasks, 943 users per task\n",
      "[2017-12-09 20:22:15,147] INFO: running in parallel across ipython engines...\n",
      "[2017-12-09 20:22:16,511] INFO: checking output files...\n",
      "[2017-12-09 20:22:16,512] INFO: SUCCESS: all tasks completed\n",
      "[2017-12-09 20:22:16,512] INFO: concatenating 1 partial output files...\n",
      "[2017-12-09 20:22:16,516] INFO: removing partial output files...\n",
      "[2017-12-09 20:22:16,517] INFO: done\n",
      "[2017-12-09 20:22:16,517] INFO: processing /home/spynal/Netology/DS/Python/MREC/splits/u.data.train.4...\n",
      "[2017-12-09 20:22:16,517] INFO: creating recs directory /home/spynal/Netology/DS/Python/MREC/recs_pop/u.data.train.4-recs...\n",
      "[2017-12-09 20:22:16,522] INFO: checking for existing output recs...\n",
      "[2017-12-09 20:22:16,522] INFO: creating tasks...\n",
      "[2017-12-09 20:22:16,522] INFO: loading dataset to get size...\n",
      "[2017-12-09 20:22:17,211] INFO: loading model to get size...\n",
      "[2017-12-09 20:22:17,212] INFO: created 1 tasks, 943 users per task\n",
      "[2017-12-09 20:22:17,212] INFO: running in parallel across ipython engines...\n",
      "[2017-12-09 20:22:18,335] INFO: checking output files...\n",
      "[2017-12-09 20:22:18,335] INFO: SUCCESS: all tasks completed\n",
      "[2017-12-09 20:22:18,335] INFO: concatenating 1 partial output files...\n",
      "[2017-12-09 20:22:18,341] INFO: removing partial output files...\n",
      "[2017-12-09 20:22:18,342] INFO: done\n",
      "[2017-12-09 20:22:18,342] INFO: processing /home/spynal/Netology/DS/Python/MREC/splits/u.data.train.2...\n",
      "[2017-12-09 20:22:18,342] INFO: creating recs directory /home/spynal/Netology/DS/Python/MREC/recs_pop/u.data.train.2-recs...\n",
      "[2017-12-09 20:22:18,347] INFO: checking for existing output recs...\n",
      "[2017-12-09 20:22:18,347] INFO: creating tasks...\n",
      "[2017-12-09 20:22:18,348] INFO: loading dataset to get size...\n",
      "[2017-12-09 20:22:19,023] INFO: loading model to get size...\n",
      "[2017-12-09 20:22:19,023] INFO: created 1 tasks, 943 users per task\n",
      "[2017-12-09 20:22:19,023] INFO: running in parallel across ipython engines...\n",
      "[2017-12-09 20:22:20,204] INFO: checking output files...\n",
      "[2017-12-09 20:22:20,205] INFO: SUCCESS: all tasks completed\n",
      "[2017-12-09 20:22:20,205] INFO: concatenating 1 partial output files...\n",
      "[2017-12-09 20:22:20,210] INFO: removing partial output files...\n",
      "[2017-12-09 20:22:20,211] INFO: done\n",
      "[2017-12-09 20:22:20,211] INFO: processing /home/spynal/Netology/DS/Python/MREC/splits/u.data.train.3...\n",
      "[2017-12-09 20:22:20,212] INFO: creating recs directory /home/spynal/Netology/DS/Python/MREC/recs_pop/u.data.train.3-recs...\n",
      "[2017-12-09 20:22:20,216] INFO: checking for existing output recs...\n",
      "[2017-12-09 20:22:20,217] INFO: creating tasks...\n",
      "[2017-12-09 20:22:20,217] INFO: loading dataset to get size...\n",
      "[2017-12-09 20:22:20,970] INFO: loading model to get size...\n",
      "[2017-12-09 20:22:20,971] INFO: created 1 tasks, 943 users per task\n",
      "[2017-12-09 20:22:20,971] INFO: running in parallel across ipython engines...\n",
      "[2017-12-09 20:22:22,063] INFO: checking output files...\n",
      "[2017-12-09 20:22:22,063] INFO: SUCCESS: all tasks completed\n",
      "[2017-12-09 20:22:22,063] INFO: concatenating 1 partial output files...\n",
      "[2017-12-09 20:22:22,067] INFO: removing partial output files...\n",
      "[2017-12-09 20:22:22,068] INFO: done\n",
      "ItemPop\n",
      "mrr            0.3510 +/- 0.0049\n",
      "prec@5         0.1492 +/- 0.0016\n",
      "prec@10        0.1353 +/- 0.0003\n",
      "prec@15        0.1194 +/- 0.0005\n",
      "prec@20        0.1094 +/- 0.0005\n"
     ]
    }
   ],
   "source": [
    "!mrec_predict --input_format tsv --test_input_format tsv --train \"splits/u.data.train.*\" --modeldir models_pop --outdir recs_pop"
   ]
  },
  {
   "cell_type": "markdown",
   "metadata": {},
   "source": [
    "### KNN"
   ]
  },
  {
   "cell_type": "code",
   "execution_count": 5,
   "metadata": {},
   "outputs": [
    {
     "name": "stdout",
     "output_type": "stream",
     "text": [
      "[2017-12-09 20:22:23,399] INFO: processing /home/spynal/Netology/DS/Python/MREC/splits/u.data.train.1...\n",
      "[2017-12-09 20:22:23,399] INFO: finding number of items...\n",
      "[2017-12-09 20:22:24,126] INFO: 943 users and 1682 items\n",
      "[2017-12-09 20:22:24,126] INFO: creating sims directory /home/spynal/Netology/DS/Python/MREC/models_knn/u.data.train.1-sims...\n",
      "[2017-12-09 20:22:24,132] INFO: checking for existing output sims...\n",
      "[2017-12-09 20:22:24,133] INFO: creating tasks...\n",
      "[2017-12-09 20:22:24,133] INFO: running 2 tasks in parallel across ipython engines...\n",
      "[2017-12-09 20:22:29,277] INFO: checking output files...\n",
      "[2017-12-09 20:22:29,277] INFO: SUCCESS: all tasks completed\n",
      "[2017-12-09 20:22:29,278] INFO: concatenating 2 partial output files...\n",
      "[2017-12-09 20:22:29,299] INFO: removing partial output files...\n",
      "[2017-12-09 20:22:29,300] INFO: loading 1682 items in CosineKNNRecommender model from /home/spynal/Netology/DS/Python/MREC/models_knn/u.data.train.1.sims.tsv\n",
      "[2017-12-09 20:22:30,547] INFO: done\n",
      "[2017-12-09 20:22:30,548] INFO: processing /home/spynal/Netology/DS/Python/MREC/splits/u.data.train.0...\n",
      "[2017-12-09 20:22:30,548] INFO: finding number of items...\n",
      "[2017-12-09 20:22:31,272] INFO: 943 users and 1682 items\n",
      "[2017-12-09 20:22:31,272] INFO: creating sims directory /home/spynal/Netology/DS/Python/MREC/models_knn/u.data.train.0-sims...\n",
      "[2017-12-09 20:22:31,277] INFO: checking for existing output sims...\n",
      "[2017-12-09 20:22:31,277] INFO: creating tasks...\n",
      "[2017-12-09 20:22:31,277] INFO: running 2 tasks in parallel across ipython engines...\n",
      "[2017-12-09 20:22:35,284] INFO: checking output files...\n",
      "[2017-12-09 20:22:35,284] INFO: SUCCESS: all tasks completed\n",
      "[2017-12-09 20:22:35,284] INFO: concatenating 2 partial output files...\n",
      "[2017-12-09 20:22:35,302] INFO: removing partial output files...\n",
      "[2017-12-09 20:22:35,304] INFO: loading 1682 items in CosineKNNRecommender model from /home/spynal/Netology/DS/Python/MREC/models_knn/u.data.train.0.sims.tsv\n",
      "[2017-12-09 20:22:36,586] INFO: done\n",
      "[2017-12-09 20:22:36,586] INFO: processing /home/spynal/Netology/DS/Python/MREC/splits/u.data.train.4...\n",
      "[2017-12-09 20:22:36,587] INFO: finding number of items...\n",
      "[2017-12-09 20:22:37,338] INFO: 943 users and 1682 items\n",
      "[2017-12-09 20:22:37,339] INFO: creating sims directory /home/spynal/Netology/DS/Python/MREC/models_knn/u.data.train.4-sims...\n",
      "[2017-12-09 20:22:37,343] INFO: checking for existing output sims...\n",
      "[2017-12-09 20:22:37,344] INFO: creating tasks...\n",
      "[2017-12-09 20:22:37,344] INFO: running 2 tasks in parallel across ipython engines...\n",
      "[2017-12-09 20:22:43,152] INFO: checking output files...\n",
      "[2017-12-09 20:22:43,152] INFO: SUCCESS: all tasks completed\n",
      "[2017-12-09 20:22:43,152] INFO: concatenating 2 partial output files...\n",
      "[2017-12-09 20:22:43,170] INFO: removing partial output files...\n",
      "[2017-12-09 20:22:43,172] INFO: loading 1682 items in CosineKNNRecommender model from /home/spynal/Netology/DS/Python/MREC/models_knn/u.data.train.4.sims.tsv\n",
      "[2017-12-09 20:22:44,510] INFO: done\n",
      "[2017-12-09 20:22:44,510] INFO: processing /home/spynal/Netology/DS/Python/MREC/splits/u.data.train.2...\n",
      "[2017-12-09 20:22:44,510] INFO: finding number of items...\n",
      "[2017-12-09 20:22:45,227] INFO: 943 users and 1682 items\n",
      "[2017-12-09 20:22:45,227] INFO: creating sims directory /home/spynal/Netology/DS/Python/MREC/models_knn/u.data.train.2-sims...\n",
      "[2017-12-09 20:22:45,232] INFO: checking for existing output sims...\n",
      "[2017-12-09 20:22:45,233] INFO: creating tasks...\n",
      "[2017-12-09 20:22:45,233] INFO: running 2 tasks in parallel across ipython engines...\n",
      "[2017-12-09 20:22:50,387] INFO: checking output files...\n",
      "[2017-12-09 20:22:50,388] INFO: SUCCESS: all tasks completed\n",
      "[2017-12-09 20:22:50,388] INFO: concatenating 2 partial output files...\n",
      "[2017-12-09 20:22:50,409] INFO: removing partial output files...\n",
      "[2017-12-09 20:22:50,410] INFO: loading 1682 items in CosineKNNRecommender model from /home/spynal/Netology/DS/Python/MREC/models_knn/u.data.train.2.sims.tsv\n",
      "[2017-12-09 20:22:51,677] INFO: done\n",
      "[2017-12-09 20:22:51,677] INFO: processing /home/spynal/Netology/DS/Python/MREC/splits/u.data.train.3...\n",
      "[2017-12-09 20:22:51,678] INFO: finding number of items...\n",
      "[2017-12-09 20:22:52,435] INFO: 943 users and 1681 items\n",
      "[2017-12-09 20:22:52,435] INFO: creating sims directory /home/spynal/Netology/DS/Python/MREC/models_knn/u.data.train.3-sims...\n",
      "[2017-12-09 20:22:52,441] INFO: checking for existing output sims...\n",
      "[2017-12-09 20:22:52,441] INFO: creating tasks...\n",
      "[2017-12-09 20:22:52,441] INFO: running 2 tasks in parallel across ipython engines...\n",
      "[2017-12-09 20:22:57,477] INFO: checking output files...\n",
      "[2017-12-09 20:22:57,478] INFO: SUCCESS: all tasks completed\n",
      "[2017-12-09 20:22:57,478] INFO: concatenating 2 partial output files...\n",
      "[2017-12-09 20:22:57,497] INFO: removing partial output files...\n",
      "[2017-12-09 20:22:57,498] INFO: loading 1681 items in CosineKNNRecommender model from /home/spynal/Netology/DS/Python/MREC/models_knn/u.data.train.3.sims.tsv\n",
      "[2017-12-09 20:22:58,780] INFO: done\n"
     ]
    }
   ],
   "source": [
    "!mrec_train -n2 --input_format tsv --train \"splits/u.data.train.*\" --outdir models_knn --model knn"
   ]
  },
  {
   "cell_type": "code",
   "execution_count": 6,
   "metadata": {
    "scrolled": true
   },
   "outputs": [
    {
     "name": "stdout",
     "output_type": "stream",
     "text": [
      "[2017-12-09 20:23:00,040] INFO: processing /home/spynal/Netology/DS/Python/MREC/splits/u.data.train.1...\n",
      "[2017-12-09 20:23:00,040] INFO: creating recs directory /home/spynal/Netology/DS/Python/MREC/recs_knn/u.data.train.1-recs...\n",
      "[2017-12-09 20:23:00,045] INFO: checking for existing output recs...\n",
      "[2017-12-09 20:23:00,046] INFO: creating tasks...\n",
      "[2017-12-09 20:23:00,046] INFO: loading dataset to get size...\n",
      "[2017-12-09 20:23:00,790] INFO: loading model to get size...\n",
      "[2017-12-09 20:23:00,873] INFO: created 1 tasks, 100329 users per task\n",
      "[2017-12-09 20:23:00,873] INFO: running in parallel across ipython engines...\n",
      "[2017-12-09 20:23:03,536] INFO: checking output files...\n",
      "[2017-12-09 20:23:03,536] INFO: SUCCESS: all tasks completed\n",
      "[2017-12-09 20:23:03,536] INFO: concatenating 1 partial output files...\n",
      "[2017-12-09 20:23:03,542] INFO: removing partial output files...\n",
      "[2017-12-09 20:23:03,543] INFO: done\n",
      "[2017-12-09 20:23:03,544] INFO: processing /home/spynal/Netology/DS/Python/MREC/splits/u.data.train.0...\n",
      "[2017-12-09 20:23:03,544] INFO: creating recs directory /home/spynal/Netology/DS/Python/MREC/recs_knn/u.data.train.0-recs...\n",
      "[2017-12-09 20:23:03,549] INFO: checking for existing output recs...\n",
      "[2017-12-09 20:23:03,550] INFO: creating tasks...\n",
      "[2017-12-09 20:23:03,550] INFO: loading dataset to get size...\n",
      "[2017-12-09 20:23:04,265] INFO: loading model to get size...\n",
      "[2017-12-09 20:23:04,276] INFO: created 1 tasks, 100951 users per task\n",
      "[2017-12-09 20:23:04,276] INFO: running in parallel across ipython engines...\n",
      "[2017-12-09 20:23:06,863] INFO: checking output files...\n",
      "[2017-12-09 20:23:06,863] INFO: SUCCESS: all tasks completed\n",
      "[2017-12-09 20:23:06,863] INFO: concatenating 1 partial output files...\n",
      "[2017-12-09 20:23:06,871] INFO: removing partial output files...\n",
      "[2017-12-09 20:23:06,872] INFO: done\n",
      "[2017-12-09 20:23:06,874] INFO: processing /home/spynal/Netology/DS/Python/MREC/splits/u.data.train.4...\n",
      "[2017-12-09 20:23:06,874] INFO: creating recs directory /home/spynal/Netology/DS/Python/MREC/recs_knn/u.data.train.4-recs...\n",
      "[2017-12-09 20:23:06,881] INFO: checking for existing output recs...\n",
      "[2017-12-09 20:23:06,881] INFO: creating tasks...\n",
      "[2017-12-09 20:23:06,881] INFO: loading dataset to get size...\n",
      "[2017-12-09 20:23:07,661] INFO: loading model to get size...\n",
      "[2017-12-09 20:23:07,670] INFO: created 1 tasks, 100058 users per task\n",
      "[2017-12-09 20:23:07,670] INFO: running in parallel across ipython engines...\n",
      "[2017-12-09 20:23:10,224] INFO: checking output files...\n",
      "[2017-12-09 20:23:10,225] INFO: SUCCESS: all tasks completed\n",
      "[2017-12-09 20:23:10,225] INFO: concatenating 1 partial output files...\n",
      "[2017-12-09 20:23:10,230] INFO: removing partial output files...\n",
      "[2017-12-09 20:23:10,231] INFO: done\n",
      "[2017-12-09 20:23:10,232] INFO: processing /home/spynal/Netology/DS/Python/MREC/splits/u.data.train.2...\n",
      "[2017-12-09 20:23:10,232] INFO: creating recs directory /home/spynal/Netology/DS/Python/MREC/recs_knn/u.data.train.2-recs...\n",
      "[2017-12-09 20:23:10,237] INFO: checking for existing output recs...\n",
      "[2017-12-09 20:23:10,238] INFO: creating tasks...\n",
      "[2017-12-09 20:23:10,238] INFO: loading dataset to get size...\n",
      "[2017-12-09 20:23:10,954] INFO: loading model to get size...\n",
      "[2017-12-09 20:23:10,962] INFO: created 1 tasks, 100577 users per task\n",
      "[2017-12-09 20:23:10,963] INFO: running in parallel across ipython engines...\n",
      "[2017-12-09 20:23:13,366] INFO: checking output files...\n",
      "[2017-12-09 20:23:13,366] INFO: SUCCESS: all tasks completed\n",
      "[2017-12-09 20:23:13,367] INFO: concatenating 1 partial output files...\n",
      "[2017-12-09 20:23:13,373] INFO: removing partial output files...\n",
      "[2017-12-09 20:23:13,373] INFO: done\n",
      "[2017-12-09 20:23:13,374] INFO: processing /home/spynal/Netology/DS/Python/MREC/splits/u.data.train.3...\n",
      "[2017-12-09 20:23:13,374] INFO: creating recs directory /home/spynal/Netology/DS/Python/MREC/recs_knn/u.data.train.3-recs...\n",
      "[2017-12-09 20:23:13,380] INFO: checking for existing output recs...\n",
      "[2017-12-09 20:23:13,380] INFO: creating tasks...\n",
      "[2017-12-09 20:23:13,380] INFO: loading dataset to get size...\n",
      "[2017-12-09 20:23:14,085] INFO: loading model to get size...\n",
      "[2017-12-09 20:23:14,095] INFO: created 1 tasks, 99891 users per task\n",
      "[2017-12-09 20:23:14,095] INFO: running in parallel across ipython engines...\n",
      "[2017-12-09 20:23:16,602] INFO: checking output files...\n",
      "[2017-12-09 20:23:16,603] INFO: SUCCESS: all tasks completed\n",
      "[2017-12-09 20:23:16,603] INFO: concatenating 1 partial output files...\n",
      "[2017-12-09 20:23:16,609] INFO: removing partial output files...\n",
      "[2017-12-09 20:23:16,610] INFO: done\n",
      "CosineKNNRecommender(k=100)\n",
      "mrr            0.5654 +/- 0.0036\n",
      "prec@5         0.3049 +/- 0.0027\n",
      "prec@10        0.2479 +/- 0.0013\n",
      "prec@15        0.2119 +/- 0.0009\n",
      "prec@20        0.1874 +/- 0.0007\n"
     ]
    }
   ],
   "source": [
    "!mrec_predict --input_format tsv --test_input_format tsv --train \"splits/u.data.train.*\" --modeldir models_knn --outdir recs_knn"
   ]
  },
  {
   "cell_type": "markdown",
   "metadata": {},
   "source": [
    "### KNN TUNE"
   ]
  },
  {
   "cell_type": "markdown",
   "metadata": {},
   "source": [
    "max_sims=50, metric=dot"
   ]
  },
  {
   "cell_type": "code",
   "execution_count": 7,
   "metadata": {},
   "outputs": [
    {
     "name": "stdout",
     "output_type": "stream",
     "text": [
      "[2017-12-09 20:23:17,858] INFO: processing /home/spynal/Netology/DS/Python/MREC/splits/u.data.train.1...\n",
      "[2017-12-09 20:23:17,859] INFO: finding number of items...\n",
      "[2017-12-09 20:23:18,586] INFO: 943 users and 1682 items\n",
      "[2017-12-09 20:23:18,587] INFO: creating sims directory /home/spynal/Netology/DS/Python/MREC/models_knn_1/u.data.train.1-sims...\n",
      "[2017-12-09 20:23:18,592] INFO: checking for existing output sims...\n",
      "[2017-12-09 20:23:18,593] INFO: creating tasks...\n",
      "[2017-12-09 20:23:18,593] INFO: running 2 tasks in parallel across ipython engines...\n",
      "[2017-12-09 20:23:20,236] INFO: checking output files...\n",
      "[2017-12-09 20:23:20,237] INFO: SUCCESS: all tasks completed\n",
      "[2017-12-09 20:23:20,237] INFO: concatenating 2 partial output files...\n",
      "[2017-12-09 20:23:20,245] INFO: removing partial output files...\n",
      "[2017-12-09 20:23:20,246] INFO: loading 1682 items in DotProductKNNRecommender model from /home/spynal/Netology/DS/Python/MREC/models_knn_1/u.data.train.1.sims.tsv\n",
      "[2017-12-09 20:23:20,859] INFO: done\n",
      "[2017-12-09 20:23:20,860] INFO: processing /home/spynal/Netology/DS/Python/MREC/splits/u.data.train.0...\n",
      "[2017-12-09 20:23:20,860] INFO: finding number of items...\n",
      "[2017-12-09 20:23:21,599] INFO: 943 users and 1682 items\n",
      "[2017-12-09 20:23:21,599] INFO: creating sims directory /home/spynal/Netology/DS/Python/MREC/models_knn_1/u.data.train.0-sims...\n",
      "[2017-12-09 20:23:21,605] INFO: checking for existing output sims...\n",
      "[2017-12-09 20:23:21,606] INFO: creating tasks...\n",
      "[2017-12-09 20:23:21,606] INFO: running 2 tasks in parallel across ipython engines...\n",
      "[2017-12-09 20:23:23,231] INFO: checking output files...\n",
      "[2017-12-09 20:23:23,231] INFO: SUCCESS: all tasks completed\n",
      "[2017-12-09 20:23:23,232] INFO: concatenating 2 partial output files...\n",
      "[2017-12-09 20:23:23,238] INFO: removing partial output files...\n",
      "[2017-12-09 20:23:23,239] INFO: loading 1682 items in DotProductKNNRecommender model from /home/spynal/Netology/DS/Python/MREC/models_knn_1/u.data.train.0.sims.tsv\n",
      "[2017-12-09 20:23:23,862] INFO: done\n",
      "[2017-12-09 20:23:23,863] INFO: processing /home/spynal/Netology/DS/Python/MREC/splits/u.data.train.4...\n",
      "[2017-12-09 20:23:23,863] INFO: finding number of items...\n",
      "[2017-12-09 20:23:24,592] INFO: 943 users and 1682 items\n",
      "[2017-12-09 20:23:24,592] INFO: creating sims directory /home/spynal/Netology/DS/Python/MREC/models_knn_1/u.data.train.4-sims...\n",
      "[2017-12-09 20:23:24,597] INFO: checking for existing output sims...\n",
      "[2017-12-09 20:23:24,598] INFO: creating tasks...\n",
      "[2017-12-09 20:23:24,598] INFO: running 2 tasks in parallel across ipython engines...\n",
      "[2017-12-09 20:23:26,094] INFO: checking output files...\n",
      "[2017-12-09 20:23:26,095] INFO: SUCCESS: all tasks completed\n",
      "[2017-12-09 20:23:26,095] INFO: concatenating 2 partial output files...\n",
      "[2017-12-09 20:23:26,101] INFO: removing partial output files...\n",
      "[2017-12-09 20:23:26,102] INFO: loading 1682 items in DotProductKNNRecommender model from /home/spynal/Netology/DS/Python/MREC/models_knn_1/u.data.train.4.sims.tsv\n",
      "[2017-12-09 20:23:26,702] INFO: done\n",
      "[2017-12-09 20:23:26,702] INFO: processing /home/spynal/Netology/DS/Python/MREC/splits/u.data.train.2...\n",
      "[2017-12-09 20:23:26,702] INFO: finding number of items...\n",
      "[2017-12-09 20:23:27,426] INFO: 943 users and 1682 items\n",
      "[2017-12-09 20:23:27,426] INFO: creating sims directory /home/spynal/Netology/DS/Python/MREC/models_knn_1/u.data.train.2-sims...\n",
      "[2017-12-09 20:23:27,432] INFO: checking for existing output sims...\n",
      "[2017-12-09 20:23:27,432] INFO: creating tasks...\n",
      "[2017-12-09 20:23:27,432] INFO: running 2 tasks in parallel across ipython engines...\n",
      "[2017-12-09 20:23:29,116] INFO: checking output files...\n",
      "[2017-12-09 20:23:29,116] INFO: SUCCESS: all tasks completed\n",
      "[2017-12-09 20:23:29,116] INFO: concatenating 2 partial output files...\n",
      "[2017-12-09 20:23:29,124] INFO: removing partial output files...\n",
      "[2017-12-09 20:23:29,125] INFO: loading 1682 items in DotProductKNNRecommender model from /home/spynal/Netology/DS/Python/MREC/models_knn_1/u.data.train.2.sims.tsv\n",
      "[2017-12-09 20:23:29,707] INFO: done\n",
      "[2017-12-09 20:23:29,707] INFO: processing /home/spynal/Netology/DS/Python/MREC/splits/u.data.train.3...\n",
      "[2017-12-09 20:23:29,708] INFO: finding number of items...\n",
      "[2017-12-09 20:23:30,353] INFO: 943 users and 1681 items\n",
      "[2017-12-09 20:23:30,353] INFO: creating sims directory /home/spynal/Netology/DS/Python/MREC/models_knn_1/u.data.train.3-sims...\n",
      "[2017-12-09 20:23:30,358] INFO: checking for existing output sims...\n",
      "[2017-12-09 20:23:30,359] INFO: creating tasks...\n",
      "[2017-12-09 20:23:30,359] INFO: running 2 tasks in parallel across ipython engines...\n",
      "[2017-12-09 20:23:31,955] INFO: checking output files...\n",
      "[2017-12-09 20:23:31,955] INFO: SUCCESS: all tasks completed\n",
      "[2017-12-09 20:23:31,955] INFO: concatenating 2 partial output files...\n",
      "[2017-12-09 20:23:31,963] INFO: removing partial output files...\n",
      "[2017-12-09 20:23:31,963] INFO: loading 1681 items in DotProductKNNRecommender model from /home/spynal/Netology/DS/Python/MREC/models_knn_1/u.data.train.3.sims.tsv\n",
      "[2017-12-09 20:23:32,616] INFO: done\n"
     ]
    }
   ],
   "source": [
    "!mrec_train -n2 --input_format tsv --train \"splits/u.data.train.*\" --outdir models_knn_1 --model knn --metric dot --max_sims 50"
   ]
  },
  {
   "cell_type": "code",
   "execution_count": 8,
   "metadata": {},
   "outputs": [
    {
     "name": "stdout",
     "output_type": "stream",
     "text": [
      "[2017-12-09 20:23:33,749] INFO: processing /home/spynal/Netology/DS/Python/MREC/splits/u.data.train.1...\n",
      "[2017-12-09 20:23:33,749] INFO: creating recs directory /home/spynal/Netology/DS/Python/MREC/recs_knn_1/u.data.train.1-recs...\n",
      "[2017-12-09 20:23:33,754] INFO: checking for existing output recs...\n",
      "[2017-12-09 20:23:33,755] INFO: creating tasks...\n",
      "[2017-12-09 20:23:33,755] INFO: loading dataset to get size...\n",
      "[2017-12-09 20:23:34,475] INFO: loading model to get size...\n",
      "[2017-12-09 20:23:34,517] INFO: created 1 tasks, 195910 users per task\n",
      "[2017-12-09 20:23:34,517] INFO: running in parallel across ipython engines...\n",
      "[2017-12-09 20:23:37,305] INFO: checking output files...\n",
      "[2017-12-09 20:23:37,305] INFO: SUCCESS: all tasks completed\n",
      "[2017-12-09 20:23:37,305] INFO: concatenating 1 partial output files...\n",
      "[2017-12-09 20:23:37,313] INFO: removing partial output files...\n",
      "[2017-12-09 20:23:37,314] INFO: done\n",
      "[2017-12-09 20:23:37,316] INFO: processing /home/spynal/Netology/DS/Python/MREC/splits/u.data.train.0...\n",
      "[2017-12-09 20:23:37,316] INFO: creating recs directory /home/spynal/Netology/DS/Python/MREC/recs_knn_1/u.data.train.0-recs...\n",
      "[2017-12-09 20:23:37,322] INFO: checking for existing output recs...\n",
      "[2017-12-09 20:23:37,323] INFO: creating tasks...\n",
      "[2017-12-09 20:23:37,323] INFO: loading dataset to get size...\n",
      "[2017-12-09 20:23:38,018] INFO: loading model to get size...\n",
      "[2017-12-09 20:23:38,024] INFO: created 1 tasks, 197065 users per task\n",
      "[2017-12-09 20:23:38,024] INFO: running in parallel across ipython engines...\n",
      "[2017-12-09 20:23:40,753] INFO: checking output files...\n",
      "[2017-12-09 20:23:40,754] INFO: SUCCESS: all tasks completed\n",
      "[2017-12-09 20:23:40,754] INFO: concatenating 1 partial output files...\n",
      "[2017-12-09 20:23:40,760] INFO: removing partial output files...\n",
      "[2017-12-09 20:23:40,760] INFO: done\n",
      "[2017-12-09 20:23:40,762] INFO: processing /home/spynal/Netology/DS/Python/MREC/splits/u.data.train.4...\n",
      "[2017-12-09 20:23:40,762] INFO: creating recs directory /home/spynal/Netology/DS/Python/MREC/recs_knn_1/u.data.train.4-recs...\n",
      "[2017-12-09 20:23:40,768] INFO: checking for existing output recs...\n",
      "[2017-12-09 20:23:40,768] INFO: creating tasks...\n",
      "[2017-12-09 20:23:40,768] INFO: loading dataset to get size...\n",
      "[2017-12-09 20:23:41,471] INFO: loading model to get size...\n",
      "[2017-12-09 20:23:41,477] INFO: created 1 tasks, 195461 users per task\n",
      "[2017-12-09 20:23:41,477] INFO: running in parallel across ipython engines...\n",
      "[2017-12-09 20:23:44,190] INFO: checking output files...\n",
      "[2017-12-09 20:23:44,190] INFO: SUCCESS: all tasks completed\n",
      "[2017-12-09 20:23:44,190] INFO: concatenating 1 partial output files...\n",
      "[2017-12-09 20:23:44,195] INFO: removing partial output files...\n",
      "[2017-12-09 20:23:44,195] INFO: done\n",
      "[2017-12-09 20:23:44,196] INFO: processing /home/spynal/Netology/DS/Python/MREC/splits/u.data.train.2...\n",
      "[2017-12-09 20:23:44,197] INFO: creating recs directory /home/spynal/Netology/DS/Python/MREC/recs_knn_1/u.data.train.2-recs...\n",
      "[2017-12-09 20:23:44,200] INFO: checking for existing output recs...\n",
      "[2017-12-09 20:23:44,201] INFO: creating tasks...\n",
      "[2017-12-09 20:23:44,201] INFO: loading dataset to get size...\n",
      "[2017-12-09 20:23:44,873] INFO: loading model to get size...\n",
      "[2017-12-09 20:23:44,879] INFO: created 1 tasks, 196338 users per task\n",
      "[2017-12-09 20:23:44,879] INFO: running in parallel across ipython engines...\n",
      "[2017-12-09 20:23:47,679] INFO: checking output files...\n",
      "[2017-12-09 20:23:47,680] INFO: SUCCESS: all tasks completed\n",
      "[2017-12-09 20:23:47,680] INFO: concatenating 1 partial output files...\n",
      "[2017-12-09 20:23:47,685] INFO: removing partial output files...\n",
      "[2017-12-09 20:23:47,685] INFO: done\n",
      "[2017-12-09 20:23:47,686] INFO: processing /home/spynal/Netology/DS/Python/MREC/splits/u.data.train.3...\n",
      "[2017-12-09 20:23:47,686] INFO: creating recs directory /home/spynal/Netology/DS/Python/MREC/recs_knn_1/u.data.train.3-recs...\n",
      "[2017-12-09 20:23:47,691] INFO: checking for existing output recs...\n",
      "[2017-12-09 20:23:47,691] INFO: creating tasks...\n",
      "[2017-12-09 20:23:47,691] INFO: loading dataset to get size...\n",
      "[2017-12-09 20:23:48,409] INFO: loading model to get size...\n",
      "[2017-12-09 20:23:48,415] INFO: created 1 tasks, 195198 users per task\n",
      "[2017-12-09 20:23:48,415] INFO: running in parallel across ipython engines...\n",
      "[2017-12-09 20:23:51,178] INFO: checking output files...\n",
      "[2017-12-09 20:23:51,179] INFO: SUCCESS: all tasks completed\n",
      "[2017-12-09 20:23:51,179] INFO: concatenating 1 partial output files...\n",
      "[2017-12-09 20:23:51,184] INFO: removing partial output files...\n",
      "[2017-12-09 20:23:51,185] INFO: done\n",
      "DotProductKNNRecommender(k=50)\n",
      "mrr            0.5271 +/- 0.0031\n",
      "prec@5         0.2660 +/- 0.0025\n",
      "prec@10        0.2119 +/- 0.0023\n",
      "prec@15        0.1826 +/- 0.0013\n",
      "prec@20        0.1636 +/- 0.0009\n"
     ]
    }
   ],
   "source": [
    "!mrec_predict --input_format tsv --test_input_format tsv --train \"splits/u.data.train.*\" --modeldir models_knn_1 --outdir recs_knn_1"
   ]
  },
  {
   "cell_type": "markdown",
   "metadata": {},
   "source": [
    "### SLIM"
   ]
  },
  {
   "cell_type": "code",
   "execution_count": 9,
   "metadata": {},
   "outputs": [
    {
     "name": "stdout",
     "output_type": "stream",
     "text": [
      "[2017-12-09 20:23:52,449] INFO: processing /home/spynal/Netology/DS/Python/MREC/splits/u.data.train.1...\n",
      "[2017-12-09 20:23:52,449] INFO: finding number of items...\n",
      "[2017-12-09 20:23:53,175] INFO: 943 users and 1682 items\n",
      "[2017-12-09 20:23:53,176] INFO: creating sims directory /home/spynal/Netology/DS/Python/MREC/models_slim/u.data.train.1-sims...\n",
      "[2017-12-09 20:23:53,180] INFO: checking for existing output sims...\n",
      "[2017-12-09 20:23:53,181] INFO: creating tasks...\n",
      "[2017-12-09 20:23:53,181] INFO: running 2 tasks in parallel across ipython engines...\n",
      "[2017-12-09 20:24:00,416] INFO: checking output files...\n",
      "[2017-12-09 20:24:00,416] INFO: SUCCESS: all tasks completed\n",
      "[2017-12-09 20:24:00,416] INFO: concatenating 2 partial output files...\n",
      "[2017-12-09 20:24:00,431] INFO: removing partial output files...\n",
      "[2017-12-09 20:24:00,432] INFO: loading 1682 items in SLIM model from /home/spynal/Netology/DS/Python/MREC/models_slim/u.data.train.1.sims.tsv\n",
      "[2017-12-09 20:24:01,446] INFO: done\n",
      "[2017-12-09 20:24:01,447] INFO: processing /home/spynal/Netology/DS/Python/MREC/splits/u.data.train.0...\n",
      "[2017-12-09 20:24:01,447] INFO: finding number of items...\n",
      "[2017-12-09 20:24:02,170] INFO: 943 users and 1682 items\n",
      "[2017-12-09 20:24:02,170] INFO: creating sims directory /home/spynal/Netology/DS/Python/MREC/models_slim/u.data.train.0-sims...\n",
      "[2017-12-09 20:24:02,176] INFO: checking for existing output sims...\n",
      "[2017-12-09 20:24:02,176] INFO: creating tasks...\n",
      "[2017-12-09 20:24:02,176] INFO: running 2 tasks in parallel across ipython engines...\n",
      "[2017-12-09 20:24:09,997] INFO: checking output files...\n",
      "[2017-12-09 20:24:09,998] INFO: SUCCESS: all tasks completed\n",
      "[2017-12-09 20:24:09,998] INFO: concatenating 2 partial output files...\n",
      "[2017-12-09 20:24:10,012] INFO: removing partial output files...\n",
      "[2017-12-09 20:24:10,013] INFO: loading 1682 items in SLIM model from /home/spynal/Netology/DS/Python/MREC/models_slim/u.data.train.0.sims.tsv\n",
      "[2017-12-09 20:24:10,998] INFO: done\n",
      "[2017-12-09 20:24:10,998] INFO: processing /home/spynal/Netology/DS/Python/MREC/splits/u.data.train.4...\n",
      "[2017-12-09 20:24:10,998] INFO: finding number of items...\n",
      "[2017-12-09 20:24:11,656] INFO: 943 users and 1682 items\n",
      "[2017-12-09 20:24:11,657] INFO: creating sims directory /home/spynal/Netology/DS/Python/MREC/models_slim/u.data.train.4-sims...\n",
      "[2017-12-09 20:24:11,662] INFO: checking for existing output sims...\n",
      "[2017-12-09 20:24:11,662] INFO: creating tasks...\n",
      "[2017-12-09 20:24:11,663] INFO: running 2 tasks in parallel across ipython engines...\n",
      "[2017-12-09 20:24:19,084] INFO: checking output files...\n",
      "[2017-12-09 20:24:19,085] INFO: SUCCESS: all tasks completed\n",
      "[2017-12-09 20:24:19,085] INFO: concatenating 2 partial output files...\n",
      "[2017-12-09 20:24:19,101] INFO: removing partial output files...\n",
      "[2017-12-09 20:24:19,102] INFO: loading 1682 items in SLIM model from /home/spynal/Netology/DS/Python/MREC/models_slim/u.data.train.4.sims.tsv\n",
      "[2017-12-09 20:24:20,215] INFO: done\n",
      "[2017-12-09 20:24:20,215] INFO: processing /home/spynal/Netology/DS/Python/MREC/splits/u.data.train.2...\n",
      "[2017-12-09 20:24:20,215] INFO: finding number of items...\n",
      "[2017-12-09 20:24:20,896] INFO: 943 users and 1682 items\n",
      "[2017-12-09 20:24:20,896] INFO: creating sims directory /home/spynal/Netology/DS/Python/MREC/models_slim/u.data.train.2-sims...\n",
      "[2017-12-09 20:24:20,903] INFO: checking for existing output sims...\n",
      "[2017-12-09 20:24:20,903] INFO: creating tasks...\n",
      "[2017-12-09 20:24:20,904] INFO: running 2 tasks in parallel across ipython engines...\n",
      "[2017-12-09 20:24:28,501] INFO: checking output files...\n",
      "[2017-12-09 20:24:28,502] INFO: SUCCESS: all tasks completed\n",
      "[2017-12-09 20:24:28,502] INFO: concatenating 2 partial output files...\n",
      "[2017-12-09 20:24:28,510] INFO: removing partial output files...\n",
      "[2017-12-09 20:24:28,511] INFO: loading 1682 items in SLIM model from /home/spynal/Netology/DS/Python/MREC/models_slim/u.data.train.2.sims.tsv\n",
      "[2017-12-09 20:24:29,462] INFO: done\n",
      "[2017-12-09 20:24:29,462] INFO: processing /home/spynal/Netology/DS/Python/MREC/splits/u.data.train.3...\n",
      "[2017-12-09 20:24:29,463] INFO: finding number of items...\n",
      "[2017-12-09 20:24:30,118] INFO: 943 users and 1681 items\n",
      "[2017-12-09 20:24:30,118] INFO: creating sims directory /home/spynal/Netology/DS/Python/MREC/models_slim/u.data.train.3-sims...\n",
      "[2017-12-09 20:24:30,126] INFO: checking for existing output sims...\n",
      "[2017-12-09 20:24:30,126] INFO: creating tasks...\n",
      "[2017-12-09 20:24:30,126] INFO: running 2 tasks in parallel across ipython engines...\n",
      "[2017-12-09 20:24:37,408] INFO: checking output files...\n",
      "[2017-12-09 20:24:37,408] INFO: SUCCESS: all tasks completed\n",
      "[2017-12-09 20:24:37,408] INFO: concatenating 2 partial output files...\n",
      "[2017-12-09 20:24:37,425] INFO: removing partial output files...\n",
      "[2017-12-09 20:24:37,426] INFO: loading 1681 items in SLIM model from /home/spynal/Netology/DS/Python/MREC/models_slim/u.data.train.3.sims.tsv\n",
      "[2017-12-09 20:24:38,397] INFO: done\n"
     ]
    }
   ],
   "source": [
    "!mrec_train -n2 --input_format tsv --train \"splits/u.data.train.*\" --outdir models_slim"
   ]
  },
  {
   "cell_type": "code",
   "execution_count": 10,
   "metadata": {},
   "outputs": [
    {
     "name": "stdout",
     "output_type": "stream",
     "text": [
      "[2017-12-09 20:24:39,598] INFO: processing /home/spynal/Netology/DS/Python/MREC/splits/u.data.train.1...\n",
      "[2017-12-09 20:24:39,598] INFO: creating recs directory /home/spynal/Netology/DS/Python/MREC/recs_slim/u.data.train.1-recs...\n",
      "[2017-12-09 20:24:39,603] INFO: checking for existing output recs...\n",
      "[2017-12-09 20:24:39,604] INFO: creating tasks...\n",
      "[2017-12-09 20:24:39,604] INFO: loading dataset to get size...\n",
      "[2017-12-09 20:24:40,292] INFO: loading model to get size...\n",
      "[2017-12-09 20:24:40,358] INFO: created 1 tasks, 129114 users per task\n",
      "[2017-12-09 20:24:40,358] INFO: running in parallel across ipython engines...\n",
      "[2017-12-09 20:24:42,984] INFO: checking output files...\n",
      "[2017-12-09 20:24:42,984] INFO: SUCCESS: all tasks completed\n",
      "[2017-12-09 20:24:42,985] INFO: concatenating 1 partial output files...\n",
      "[2017-12-09 20:24:42,991] INFO: removing partial output files...\n",
      "[2017-12-09 20:24:42,992] INFO: done\n",
      "[2017-12-09 20:24:42,994] INFO: processing /home/spynal/Netology/DS/Python/MREC/splits/u.data.train.0...\n",
      "[2017-12-09 20:24:42,994] INFO: creating recs directory /home/spynal/Netology/DS/Python/MREC/recs_slim/u.data.train.0-recs...\n",
      "[2017-12-09 20:24:42,999] INFO: checking for existing output recs...\n",
      "[2017-12-09 20:24:42,999] INFO: creating tasks...\n",
      "[2017-12-09 20:24:42,999] INFO: loading dataset to get size...\n",
      "[2017-12-09 20:24:43,738] INFO: loading model to get size...\n",
      "[2017-12-09 20:24:43,747] INFO: created 1 tasks, 128991 users per task\n",
      "[2017-12-09 20:24:43,747] INFO: running in parallel across ipython engines...\n",
      "[2017-12-09 20:24:46,158] INFO: checking output files...\n",
      "[2017-12-09 20:24:46,158] INFO: SUCCESS: all tasks completed\n",
      "[2017-12-09 20:24:46,158] INFO: concatenating 1 partial output files...\n",
      "[2017-12-09 20:24:46,166] INFO: removing partial output files...\n",
      "[2017-12-09 20:24:46,166] INFO: done\n",
      "[2017-12-09 20:24:46,168] INFO: processing /home/spynal/Netology/DS/Python/MREC/splits/u.data.train.4...\n",
      "[2017-12-09 20:24:46,169] INFO: creating recs directory /home/spynal/Netology/DS/Python/MREC/recs_slim/u.data.train.4-recs...\n",
      "[2017-12-09 20:24:46,175] INFO: checking for existing output recs...\n",
      "[2017-12-09 20:24:46,175] INFO: creating tasks...\n",
      "[2017-12-09 20:24:46,175] INFO: loading dataset to get size...\n",
      "[2017-12-09 20:24:46,865] INFO: loading model to get size...\n",
      "[2017-12-09 20:24:46,877] INFO: created 1 tasks, 127942 users per task\n",
      "[2017-12-09 20:24:46,877] INFO: running in parallel across ipython engines...\n",
      "[2017-12-09 20:24:49,289] INFO: checking output files...\n",
      "[2017-12-09 20:24:49,290] INFO: SUCCESS: all tasks completed\n",
      "[2017-12-09 20:24:49,290] INFO: concatenating 1 partial output files...\n",
      "[2017-12-09 20:24:49,298] INFO: removing partial output files...\n",
      "[2017-12-09 20:24:49,299] INFO: done\n",
      "[2017-12-09 20:24:49,302] INFO: processing /home/spynal/Netology/DS/Python/MREC/splits/u.data.train.2...\n",
      "[2017-12-09 20:24:49,302] INFO: creating recs directory /home/spynal/Netology/DS/Python/MREC/recs_slim/u.data.train.2-recs...\n",
      "[2017-12-09 20:24:49,310] INFO: checking for existing output recs...\n",
      "[2017-12-09 20:24:49,310] INFO: creating tasks...\n",
      "[2017-12-09 20:24:49,310] INFO: loading dataset to get size...\n",
      "[2017-12-09 20:24:50,016] INFO: loading model to get size...\n",
      "[2017-12-09 20:24:50,023] INFO: created 1 tasks, 129342 users per task\n",
      "[2017-12-09 20:24:50,023] INFO: running in parallel across ipython engines...\n",
      "[2017-12-09 20:24:52,679] INFO: checking output files...\n",
      "[2017-12-09 20:24:52,680] INFO: SUCCESS: all tasks completed\n",
      "[2017-12-09 20:24:52,680] INFO: concatenating 1 partial output files...\n",
      "[2017-12-09 20:24:52,686] INFO: removing partial output files...\n",
      "[2017-12-09 20:24:52,686] INFO: done\n",
      "[2017-12-09 20:24:52,688] INFO: processing /home/spynal/Netology/DS/Python/MREC/splits/u.data.train.3...\n",
      "[2017-12-09 20:24:52,689] INFO: creating recs directory /home/spynal/Netology/DS/Python/MREC/recs_slim/u.data.train.3-recs...\n",
      "[2017-12-09 20:24:52,695] INFO: checking for existing output recs...\n",
      "[2017-12-09 20:24:52,695] INFO: creating tasks...\n",
      "[2017-12-09 20:24:52,695] INFO: loading dataset to get size...\n",
      "[2017-12-09 20:24:53,458] INFO: loading model to get size...\n",
      "[2017-12-09 20:24:53,467] INFO: created 1 tasks, 128775 users per task\n",
      "[2017-12-09 20:24:53,467] INFO: running in parallel across ipython engines...\n",
      "[2017-12-09 20:24:56,078] INFO: checking output files...\n",
      "[2017-12-09 20:24:56,078] INFO: SUCCESS: all tasks completed\n",
      "[2017-12-09 20:24:56,078] INFO: concatenating 1 partial output files...\n",
      "[2017-12-09 20:24:56,086] INFO: removing partial output files...\n",
      "[2017-12-09 20:24:56,087] INFO: done\n",
      "SLIM(SGDRegressor(alpha=0.0011, average=False, epsilon=0.1, eta0=0.01,\n",
      "       fit_intercept=False, l1_ratio=0.9090909090909091,\n",
      "       learning_rate='invscaling', loss='squared_loss', max_iter=None,\n",
      "       n_iter=None, penalty='elasticnet', power_t=0.25, random_state=None,\n",
      "       shuffle=True, tol=None, verbose=0, warm_start=False))\n",
      "mrr            0.6010 +/- 0.0021\n",
      "prec@5         0.3257 +/- 0.0007\n",
      "prec@10        0.2611 +/- 0.0010\n",
      "prec@15        0.2220 +/- 0.0007\n",
      "prec@20        0.1958 +/- 0.0009\n"
     ]
    }
   ],
   "source": [
    "!mrec_predict --input_format tsv --test_input_format tsv --train \"splits/u.data.train.*\" --modeldir models_slim --outdir recs_slim"
   ]
  },
  {
   "cell_type": "code",
   "execution_count": null,
   "metadata": {
    "collapsed": true
   },
   "outputs": [],
   "source": []
  }
 ],
 "metadata": {
  "kernelspec": {
   "display_name": "Python 3",
   "language": "python",
   "name": "python3"
  },
  "language_info": {
   "codemirror_mode": {
    "name": "ipython",
    "version": 3
   },
   "file_extension": ".py",
   "mimetype": "text/x-python",
   "name": "python",
   "nbconvert_exporter": "python",
   "pygments_lexer": "ipython3",
   "version": "3.6.3"
  }
 },
 "nbformat": 4,
 "nbformat_minor": 2
}
