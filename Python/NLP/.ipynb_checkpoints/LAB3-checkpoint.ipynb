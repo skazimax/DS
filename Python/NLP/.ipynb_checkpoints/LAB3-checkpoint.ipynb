{
 "cells": [
  {
   "cell_type": "code",
   "execution_count": 218,
   "metadata": {
    "collapsed": true
   },
   "outputs": [],
   "source": [
    "import pandas as pd\n",
    "import re\n",
    "import urllib.request\n",
    "from scrapy.selector import Selector\n",
    "from pymorphy2 import MorphAnalyzer"
   ]
  },
  {
   "cell_type": "markdown",
   "metadata": {},
   "source": [
    "Парсим страничку яндекса с курсом биткоина"
   ]
  },
  {
   "cell_type": "code",
   "execution_count": 219,
   "metadata": {
    "collapsed": true
   },
   "outputs": [],
   "source": [
    "html=urllib.request.urlopen('https://news.yandex.ru/quotes/60000.html?nar=').read()"
   ]
  },
  {
   "cell_type": "code",
   "execution_count": 220,
   "metadata": {
    "collapsed": true
   },
   "outputs": [],
   "source": [
    "btc_all=re.findall(r'(\\d+.\\d+.\\d+)', Selector(text=html).xpath('/html[@class=\"i-ua_js_no i-ua_css_standard\"]\\\n",
    "                          /body[@class=\"b-page b-page_touch_no b-page_name_quote b-page_type_quotes b-page_ajax b-page_lang_ru b-page_view_normal b-page_mobile_yes loader loader_theme_yellow-38 i-ua daas b-page__body i-global i-ua i-ua i-ua_interaction_yes loader loader_theme_yellow-38 i-ua daas i-bem\"]\\\n",
    "                          /div[@class=\"b-page__inner\"]\\\n",
    "                          /div[@class=\"page-content\"]\\\n",
    "                          /div[@class=\"page-content__layout\"]\\\n",
    "                          /div[@class=\"page-content__left\"]\\\n",
    "                          /div[@class=\"quote i-bem\"]\\\n",
    "                          /div[@class=\"quote__graph\"]\\\n",
    "                          /div[@class=\"quote__data\"]\\\n",
    "                          /table\\\n",
    "                          ').extract()[0])"
   ]
  },
  {
   "cell_type": "code",
   "execution_count": 221,
   "metadata": {
    "collapsed": true
   },
   "outputs": [],
   "source": [
    "df=pd.DataFrame.from_records(list(zip(*[iter(btc_all)]*3)), columns=['date', 'value','change'])"
   ]
  },
  {
   "cell_type": "code",
   "execution_count": 222,
   "metadata": {},
   "outputs": [],
   "source": [
    "df['value']=df.value.apply(lambda x: round(float(x.replace(',','.'))))\n",
    "df['change']=df.change.apply(lambda x: round(float(x.replace(',','.'))))"
   ]
  },
  {
   "cell_type": "markdown",
   "metadata": {},
   "source": [
    "Получаем такую табличку"
   ]
  },
  {
   "cell_type": "code",
   "execution_count": 258,
   "metadata": {
    "scrolled": true
   },
   "outputs": [
    {
     "data": {
      "text/html": [
       "<div>\n",
       "<style>\n",
       "    .dataframe thead tr:only-child th {\n",
       "        text-align: right;\n",
       "    }\n",
       "\n",
       "    .dataframe thead th {\n",
       "        text-align: left;\n",
       "    }\n",
       "\n",
       "    .dataframe tbody tr th {\n",
       "        vertical-align: top;\n",
       "    }\n",
       "</style>\n",
       "<table border=\"1\" class=\"dataframe\">\n",
       "  <thead>\n",
       "    <tr style=\"text-align: right;\">\n",
       "      <th></th>\n",
       "      <th>date</th>\n",
       "      <th>value</th>\n",
       "      <th>change</th>\n",
       "    </tr>\n",
       "  </thead>\n",
       "  <tbody>\n",
       "    <tr>\n",
       "      <th>0</th>\n",
       "      <td>26.12.17</td>\n",
       "      <td>15200</td>\n",
       "      <td>1268</td>\n",
       "    </tr>\n",
       "    <tr>\n",
       "      <th>1</th>\n",
       "      <td>25.12.17</td>\n",
       "      <td>13932</td>\n",
       "      <td>162</td>\n",
       "    </tr>\n",
       "    <tr>\n",
       "      <th>2</th>\n",
       "      <td>24.12.17</td>\n",
       "      <td>13770</td>\n",
       "      <td>704</td>\n",
       "    </tr>\n",
       "    <tr>\n",
       "      <th>3</th>\n",
       "      <td>23.12.17</td>\n",
       "      <td>14474</td>\n",
       "      <td>673</td>\n",
       "    </tr>\n",
       "    <tr>\n",
       "      <th>4</th>\n",
       "      <td>22.12.17</td>\n",
       "      <td>13801</td>\n",
       "      <td>1725</td>\n",
       "    </tr>\n",
       "  </tbody>\n",
       "</table>\n",
       "</div>"
      ],
      "text/plain": [
       "       date  value  change\n",
       "0  26.12.17  15200    1268\n",
       "1  25.12.17  13932     162\n",
       "2  24.12.17  13770     704\n",
       "3  23.12.17  14474     673\n",
       "4  22.12.17  13801    1725"
      ]
     },
     "execution_count": 258,
     "metadata": {},
     "output_type": "execute_result"
    }
   ],
   "source": [
    "df.head()"
   ]
  },
  {
   "cell_type": "markdown",
   "metadata": {},
   "source": [
    "Делаем функцию, которая считает курс доллара к биткоин, по сравнению с сегодя и вчера.\n",
    "<br/>PS. т.к. слово **биткоин** pymorhy согласовывать с числом не умеет, то подсовываем для склонения слово **слон**"
   ]
  },
  {
   "cell_type": "code",
   "execution_count": 300,
   "metadata": {},
   "outputs": [],
   "source": [
    "def btc_course(x,date):\n",
    "    m=MorphAnalyzer()\n",
    "    baks=m.parse('доллар')[0]\n",
    "    verb=m.parse('составлять')[0]\n",
    "    btc=m.parse('слона')[0]\n",
    "    btc=btc.make_agree_with_number(int(x)).word\n",
    "    \n",
    "    if date=='сегодня':\n",
    "        d=0\n",
    "        v=verb.inflect({'sing','3per'}).word\n",
    "        day='вчера'\n",
    "        if df['value'][0]>df['value'][1]:\n",
    "            change='больше'\n",
    "        else:\n",
    "            change='меньше'\n",
    "    elif date=='вчера':\n",
    "        d=1\n",
    "        v=verb.inflect({'femn','past'}).word\n",
    "        day='сегодня'\n",
    "        if df['value'][1]>df['value'][0]:\n",
    "            change='больше'\n",
    "        else:\n",
    "            change='меньше'\n",
    "            \n",
    "    print(\"По состоянию на {} стоимость {} {} {} {} {}, что на {} {} {} чем {}\".format(\\\n",
    "                   df['date'][d],x,btc.replace('слон','биткоин'),v,str(df['value'][d]*int(x))\\\n",
    "                  ,baks.make_agree_with_number(int(str(df['value'][d])[-1])).word\\\n",
    "                  ,str(df['change'][0]*int(x)),baks.make_agree_with_number(int(str(df['change'][0])[-1])).word\\\n",
    "                  ,change,day))"
   ]
  },
  {
   "cell_type": "code",
   "execution_count": 301,
   "metadata": {},
   "outputs": [
    {
     "name": "stdout",
     "output_type": "stream",
     "text": [
      "По состоянию на 26.12.17 стоимость 1 биткоина составляет 15200 долларов, что на 1268 долларов больше чем вчера\n"
     ]
    }
   ],
   "source": [
    "btc_course('1','сегодня')"
   ]
  },
  {
   "cell_type": "code",
   "execution_count": 302,
   "metadata": {},
   "outputs": [
    {
     "name": "stdout",
     "output_type": "stream",
     "text": [
      "По состоянию на 25.12.17 стоимость 2 биткоинов составляла 27864 доллара, что на 2536 долларов меньше чем сегодня\n"
     ]
    }
   ],
   "source": [
    "btc_course('2','вчера')"
   ]
  },
  {
   "cell_type": "code",
   "execution_count": null,
   "metadata": {
    "collapsed": true
   },
   "outputs": [],
   "source": []
  }
 ],
 "metadata": {
  "kernelspec": {
   "display_name": "Python 3",
   "language": "python",
   "name": "python3"
  },
  "language_info": {
   "codemirror_mode": {
    "name": "ipython",
    "version": 3
   },
   "file_extension": ".py",
   "mimetype": "text/x-python",
   "name": "python",
   "nbconvert_exporter": "python",
   "pygments_lexer": "ipython3",
   "version": "3.6.1"
  }
 },
 "nbformat": 4,
 "nbformat_minor": 2
}
