{
 "cells": [
  {
   "cell_type": "code",
   "execution_count": 92,
   "metadata": {
    "collapsed": true
   },
   "outputs": [],
   "source": [
    "import pandas as pd\n",
    "import glob\n",
    "import os\n",
    "from matplotlib import pyplot\n",
    "%matplotlib inline\n",
    "import seaborn as sb\n",
    "from pylab import rcParams\n",
    "rcParams['figure.figsize'] = 7, 7\n",
    "rcParams['axes.axisbelow'] = True"
   ]
  },
  {
   "cell_type": "code",
   "execution_count": 53,
   "metadata": {
    "collapsed": true
   },
   "outputs": [],
   "source": [
    "path = '/mnt/Data/HIK/Model/data/obj'\n",
    "allFiles = glob.glob(path + \"/*.txt\")\n",
    "frame = pd.DataFrame()\n",
    "list_ = []\n",
    "empty =0\n",
    "non_empty = 0\n",
    "for file_ in allFiles:\n",
    "    if os.stat(file_).st_size == 0:\n",
    "        df = pd.DataFrame(columns=['a','b','c','d','e'], data=[[-1,0,0,0,0]])\n",
    "        list_.append(df)\n",
    "        empty+=1\n",
    "    else:\n",
    "        df = pd.read_fwf(file_,names=['a','b','c','d','e'])\n",
    "        list_.append(df)\n",
    "        non_empty+=1\n",
    "\n",
    "frame = pd.concat(list_)"
   ]
  },
  {
   "cell_type": "code",
   "execution_count": 100,
   "metadata": {},
   "outputs": [
    {
     "data": {
      "text/plain": [
       " 1    972\n",
       " 2    721\n",
       " 3    566\n",
       "-1    347\n",
       " 0    131\n",
       "Name: a, dtype: int64"
      ]
     },
     "execution_count": 100,
     "metadata": {},
     "output_type": "execute_result"
    }
   ],
   "source": [
    "frame.a.value_counts()"
   ]
  },
  {
   "cell_type": "code",
   "execution_count": 99,
   "metadata": {},
   "outputs": [
    {
     "data": {
      "image/png": "[encoded data removed]",
      "text/plain": [
       "<matplotlib.figure.Figure at 0x7f81b43f72e8>"
      ]
     },
     "metadata": {},
     "output_type": "display_data"
    }
   ],
   "source": [
    "frame['a'].map({-1:'empty', 0:'Animal', 1:'Woman', 2:'Men', 3:'Kid'}).hist();"
   ]
  }
 ],
 "metadata": {
  "kernelspec": {
   "display_name": "Python 3",
   "language": "python",
   "name": "python3"
  },
  "language_info": {
   "codemirror_mode": {
    "name": "ipython",
    "version": 3
   },
   "file_extension": ".py",
   "mimetype": "text/x-python",
   "name": "python",
   "nbconvert_exporter": "python",
   "pygments_lexer": "ipython3",
   "version": "3.6.2"
  }
 },
 "nbformat": 4,
 "nbformat_minor": 2
}
