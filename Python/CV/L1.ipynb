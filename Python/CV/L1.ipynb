{
 "cells": [
  {
   "cell_type": "code",
   "execution_count": 1,
   "metadata": {
    "collapsed": true
   },
   "outputs": [],
   "source": [
    "import numpy as np\n",
    "import cv2\n",
    "import matplotlib.pyplot as plt\n",
    "%matplotlib inline"
   ]
  },
  {
   "cell_type": "code",
   "execution_count": 2,
   "metadata": {
    "collapsed": true
   },
   "outputs": [],
   "source": [
    "train = np.loadtxt('C:/Users/mrasskazov/Desktop/DS/Data/MNIST/train.csv', delimiter=',', skiprows=1)\n",
    "test = np.loadtxt('C:/Users/mrasskazov/Desktop/DS/Data/MNIST/test.csv', delimiter=',', skiprows=1)"
   ]
  },
  {
   "cell_type": "code",
   "execution_count": 3,
   "metadata": {
    "collapsed": true
   },
   "outputs": [],
   "source": [
    "train_img=np.resize(train[:,1:], (train.shape[0],28, 28))\n",
    "test_img=np.resize(test, (test.shape[0],28, 28))\n",
    "train_lable=train[:,0]"
   ]
  },
  {
   "cell_type": "code",
   "execution_count": 4,
   "metadata": {
    "scrolled": false
   },
   "outputs": [
    {
     "data": {
      "image/png": "[encoded data removed]",
      "text/plain": [
       "<matplotlib.figure.Figure at 0x8b1a1d0>"
      ]
     },
     "metadata": {},
     "output_type": "display_data"
    }
   ],
   "source": [
    "fig=plt.figure(figsize=(20,10))\n",
    "for i, img in enumerate(train_img[0:5,7:21,7:21],1):\n",
    "    kernel = np.ones((5,5),np.uint8)\n",
    "    subplot=fig.add_subplot(1,7,i)\n",
    "    plt.imshow(cv2.dilate(img,kernel,1), cmap='gray')\n",
    "    subplot.set_title(train_lable[i-1])"
   ]
  },
  {
   "cell_type": "markdown",
   "metadata": {},
   "source": [
    "### Гистограмма по кропу центра картинки"
   ]
  },
  {
   "cell_type": "code",
   "execution_count": 11,
   "metadata": {
    "collapsed": true
   },
   "outputs": [],
   "source": [
    "train_sobel_x_sp = np.zeros_like(train_img[:,14:,14:])\n",
    "train_sobel_y_sp = np.zeros_like(train_img[:,14:,14:])\n",
    "for i in range(len(train_img)):\n",
    "    train_sobel_x_sp[i] = cv2.Sobel(train_img[i, 7:21,7:21], cv2.CV_64F, dx=1, dy=0, ksize=3)\n",
    "    train_sobel_y_sp[i] = cv2.Sobel(train_img[i, 7:21,7:21], cv2.CV_64F, dx=0, dy=1, ksize=3)\n",
    "\n",
    "test_sobel_x_sp = np.zeros_like(test_img[:,14:,14:])\n",
    "test_sobel_y_sp = np.zeros_like(test_img[:,14:,14:])\n",
    "for i in range(len(test_img)):\n",
    "    test_sobel_x_sp[i] = cv2.Sobel(test_img[i,7:21,7:21], cv2.CV_64F, dx=1, dy=0, ksize=3)\n",
    "    test_sobel_y_sp[i] = cv2.Sobel(test_img[i,7:21,7:21], cv2.CV_64F, dx=0, dy=1, ksize=3)\n",
    "###    \n",
    "train_g, train_theta = cv2.cartToPolar(train_sobel_x_sp, train_sobel_y_sp)\n",
    "test_g, test_theta = cv2.cartToPolar(test_sobel_x_sp, test_sobel_y_sp)\n",
    "###\n",
    "train_hist_sp = np.zeros((len(train_img), 16))\n",
    "for i in range(len(train_img)):\n",
    "    hist, borders = np.histogram(train_theta[i],\n",
    "                                 bins=16,\n",
    "                                 range=(0., 2. * np.pi),\n",
    "                                 weights=train_g[i])\n",
    "    train_hist_sp[i] = hist\n",
    "    \n",
    "test_hist_sp = np.zeros((len(test_img), 16))\n",
    "for i in range(len(test_img)):\n",
    "    hist, borders = np.histogram(test_theta[i],\n",
    "                                 bins=16,\n",
    "                                 range=(0., 2. * np.pi),\n",
    "                                 weights=test_g[i])\n",
    "    test_hist_sp[i] = hist\n",
    "    \n",
    "###\n",
    "\n",
    "train_hist_sp = train_hist_sp / np.linalg.norm(train_hist_sp, axis=1)[:, None]\n",
    "test_hist_sp = test_hist_sp / np.linalg.norm(test_hist_sp, axis=1)[:, None]"
   ]
  },
  {
   "cell_type": "markdown",
   "metadata": {},
   "source": [
    "### Обычная гиcтограмма"
   ]
  },
  {
   "cell_type": "code",
   "execution_count": 12,
   "metadata": {
    "collapsed": true
   },
   "outputs": [],
   "source": [
    "train_sobel_x = np.zeros_like(train_img)\n",
    "train_sobel_y = np.zeros_like(train_img)\n",
    "for i in range(len(train_img)):\n",
    "    train_sobel_x[i] = cv2.Sobel(train_img[i], cv2.CV_64F, dx=1, dy=0, ksize=3)\n",
    "    train_sobel_y[i] = cv2.Sobel(train_img[i], cv2.CV_64F, dx=0, dy=1, ksize=3)\n",
    "\n",
    "test_sobel_x = np.zeros_like(test_img)\n",
    "test_sobel_y = np.zeros_like(test_img)\n",
    "for i in range(len(test_img)):\n",
    "    test_sobel_x[i] = cv2.Sobel(test_img[i], cv2.CV_64F, dx=1, dy=0, ksize=3)\n",
    "    test_sobel_y[i] = cv2.Sobel(test_img[i], cv2.CV_64F, dx=0, dy=1, ksize=3)\n",
    "###    \n",
    "train_g, train_theta = cv2.cartToPolar(train_sobel_x, train_sobel_y)\n",
    "test_g, test_theta = cv2.cartToPolar(test_sobel_x, test_sobel_y)\n",
    "###\n",
    "train_hist = np.zeros((len(train_img), 16))\n",
    "for i in range(len(train_img)):\n",
    "    hist, borders = np.histogram(train_theta[i],\n",
    "                                 bins=16,\n",
    "                                 range=(0., 2. * np.pi),\n",
    "                                 weights=train_g[i])\n",
    "    train_hist[i] = hist\n",
    "    \n",
    "test_hist = np.zeros((len(test_img), 16))\n",
    "for i in range(len(test_img)):\n",
    "    hist, borders = np.histogram(test_theta[i],\n",
    "                                 bins=16,\n",
    "                                 range=(0., 2. * np.pi),\n",
    "                                 weights=test_g[i])\n",
    "    test_hist[i] = hist\n",
    "    \n",
    "###\n",
    "\n",
    "train_hist = train_hist / np.linalg.norm(train_hist, axis=1)[:, None]\n",
    "test_hist = test_hist / np.linalg.norm(test_hist, axis=1)[:, None]"
   ]
  },
  {
   "cell_type": "markdown",
   "metadata": {},
   "source": [
    "### Гистограмма по после морфирования DILATE"
   ]
  },
  {
   "cell_type": "code",
   "execution_count": 15,
   "metadata": {
    "collapsed": true
   },
   "outputs": [],
   "source": [
    "train_sobel_x_i = np.zeros_like(train_img)\n",
    "train_sobel_y_i = np.zeros_like(train_img)\n",
    "for i in range(len(train_img)):\n",
    "    train_sobel_x_i[i] = cv2.Sobel(cv2.dilate(train_img[i],kernel,1), cv2.CV_64F, dx=1, dy=0, ksize=3)\n",
    "    train_sobel_y_i[i] = cv2.Sobel(cv2.dilate(train_img[i],kernel,1), cv2.CV_64F, dx=0, dy=1, ksize=3)\n",
    "\n",
    "test_sobel_x_i = np.zeros_like(test_img)\n",
    "test_sobel_y_i = np.zeros_like(test_img)\n",
    "for i in range(len(test_img)):\n",
    "    test_sobel_x_i[i] = cv2.Sobel(cv2.dilate(test_img[i],kernel,1), cv2.CV_64F, dx=1, dy=0, ksize=3)\n",
    "    test_sobel_y_i[i] = cv2.Sobel(cv2.dilate(test_img[i],kernel,1), cv2.CV_64F, dx=0, dy=1, ksize=3)\n",
    "###    \n",
    "train_g_i, train_theta_i = cv2.cartToPolar(train_sobel_x_i, train_sobel_y_i)\n",
    "test_g_i, test_theta_i = cv2.cartToPolar(test_sobel_x_i, test_sobel_y_i)\n",
    "###\n",
    "train_hist_i = np.zeros((len(train_img), 16))\n",
    "for i in range(len(train_img)):\n",
    "    hist, borders = np.histogram(train_theta_i[i],\n",
    "                                 bins=16,\n",
    "                                 range=(0., 2. * np.pi),\n",
    "                                 weights=train_g_i[i])\n",
    "    train_hist_i[i] = hist\n",
    "    \n",
    "test_hist_i = np.zeros((len(test_img), 16))\n",
    "for i in range(len(test_img)):\n",
    "    hist, borders = np.histogram(test_theta_i[i],\n",
    "                                 bins=16,\n",
    "                                 range=(0., 2. * np.pi),\n",
    "                                 weights=test_g_i[i])\n",
    "    test_hist_i[i] = hist\n",
    "    \n",
    "###\n",
    "\n",
    "train_hist_i = train_hist_i / np.linalg.norm(train_hist_i, axis=1)[:, None]\n",
    "test_hist_i = test_hist_i / np.linalg.norm(test_hist_i, axis=1)[:, None]"
   ]
  },
  {
   "cell_type": "code",
   "execution_count": 13,
   "metadata": {
    "scrolled": false
   },
   "outputs": [
    {
     "data": {
      "text/plain": [
       "<matplotlib.image.AxesImage at 0x328165f8>"
      ]
     },
     "execution_count": 13,
     "metadata": {},
     "output_type": "execute_result"
    },
    {
     "data": {
      "image/png": "[encoded data removed]",
      "text/plain": [
       "<matplotlib.figure.Figure at 0x326e2748>"
      ]
     },
     "metadata": {},
     "output_type": "display_data"
    }
   ],
   "source": [
    "plt.matshow(test_sobel_x_sp[1], cmap='gray')"
   ]
  },
  {
   "cell_type": "markdown",
   "metadata": {},
   "source": [
    "### Объединяем все фичи"
   ]
  },
  {
   "cell_type": "code",
   "execution_count": 16,
   "metadata": {
    "collapsed": true
   },
   "outputs": [],
   "source": [
    "train_hist_all=np.concatenate((train_hist,train_hist_i, train_hist_sp), axis=1)\n",
    "test_hist_all=np.concatenate((test_hist, test_hist_i, test_hist_sp), axis=1)"
   ]
  },
  {
   "cell_type": "code",
   "execution_count": 17,
   "metadata": {
    "collapsed": true
   },
   "outputs": [],
   "source": [
    "from sklearn.model_selection import train_test_split"
   ]
  },
  {
   "cell_type": "code",
   "execution_count": 18,
   "metadata": {
    "collapsed": true
   },
   "outputs": [],
   "source": [
    "X_train, X_val, y_train, y_val= train_test_split(train_hist_all, train_lable, test_size=0.2, random_state=42)"
   ]
  },
  {
   "cell_type": "markdown",
   "metadata": {},
   "source": [
    "### Предсказываем по KNN"
   ]
  },
  {
   "cell_type": "code",
   "execution_count": 19,
   "metadata": {
    "collapsed": true
   },
   "outputs": [],
   "source": [
    "from sklearn.neighbors import KNeighborsClassifier"
   ]
  },
  {
   "cell_type": "code",
   "execution_count": 20,
   "metadata": {
    "collapsed": true
   },
   "outputs": [],
   "source": [
    "clf=KNeighborsClassifier().fit(X_train,y_train)"
   ]
  },
  {
   "cell_type": "code",
   "execution_count": 21,
   "metadata": {
    "collapsed": true
   },
   "outputs": [],
   "source": [
    "knn_pred=clf.predict(X_val)"
   ]
  },
  {
   "cell_type": "code",
   "execution_count": 22,
   "metadata": {},
   "outputs": [
    {
     "data": {
      "text/plain": [
       "0.89107142857142863"
      ]
     },
     "execution_count": 22,
     "metadata": {},
     "output_type": "execute_result"
    }
   ],
   "source": [
    "clf.score(X_val,y_val)"
   ]
  },
  {
   "cell_type": "code",
   "execution_count": 23,
   "metadata": {
    "collapsed": true
   },
   "outputs": [],
   "source": [
    "from sklearn.metrics import accuracy_score\n",
    "from sklearn.metrics import classification_report\n",
    "from sklearn.metrics import confusion_matrix"
   ]
  },
  {
   "cell_type": "code",
   "execution_count": 24,
   "metadata": {},
   "outputs": [
    {
     "data": {
      "text/plain": [
       "0.89107142857142863"
      ]
     },
     "execution_count": 24,
     "metadata": {},
     "output_type": "execute_result"
    }
   ],
   "source": [
    "accuracy_score(y_val, knn_pred)"
   ]
  },
  {
   "cell_type": "code",
   "execution_count": 25,
   "metadata": {},
   "outputs": [
    {
     "name": "stdout",
     "output_type": "stream",
     "text": [
      "             precision    recall  f1-score   support\n",
      "\n",
      "        0.0       0.87      0.90      0.89       816\n",
      "        1.0       0.96      0.98      0.97       909\n",
      "        2.0       0.88      0.88      0.88       846\n",
      "        3.0       0.87      0.87      0.87       937\n",
      "        4.0       0.89      0.89      0.89       839\n",
      "        5.0       0.88      0.88      0.88       702\n",
      "        6.0       0.91      0.93      0.92       785\n",
      "        7.0       0.94      0.85      0.89       893\n",
      "        8.0       0.84      0.82      0.83       835\n",
      "        9.0       0.86      0.90      0.88       838\n",
      "\n",
      "avg / total       0.89      0.89      0.89      8400\n",
      "\n"
     ]
    }
   ],
   "source": [
    "print(classification_report(y_val, knn_pred))"
   ]
  },
  {
   "cell_type": "code",
   "execution_count": 26,
   "metadata": {
    "scrolled": true
   },
   "outputs": [
    {
     "name": "stdout",
     "output_type": "stream",
     "text": [
      "[[738   9  10   4   4   3  25   2  18   3]\n",
      " [ 12 890   2   0   0   0   0   0   1   4]\n",
      " [ 25   2 741  27   2  19  17   3   7   3]\n",
      " [  4   0  22 815   0  20   2   7  59   8]\n",
      " [  8  10   4   1 749   0   7  11   7  42]\n",
      " [  4   0  20  29   4 618   5   4  16   2]\n",
      " [ 17   3  17   0   1   4 731   0  10   2]\n",
      " [  7   7   2   5  48   8   0 760   9  47]\n",
      " [ 26   2  19  45   9  21  11   4 685  13]\n",
      " [  5   2   5   7  26   7   2  19   7 758]]\n"
     ]
    }
   ],
   "source": [
    "print(confusion_matrix(y_val, knn_pred))"
   ]
  },
  {
   "cell_type": "code",
   "execution_count": 27,
   "metadata": {
    "collapsed": true
   },
   "outputs": [],
   "source": [
    "knn_pred_test=clf.predict(test_hist_all)"
   ]
  },
  {
   "cell_type": "code",
   "execution_count": 28,
   "metadata": {},
   "outputs": [
    {
     "data": {
      "image/png": "[encoded data removed]",
      "text/plain": [
       "<matplotlib.figure.Figure at 0x11f6ed30>"
      ]
     },
     "metadata": {},
     "output_type": "display_data"
    }
   ],
   "source": [
    "fig=plt.figure(figsize=(20,10))\n",
    "for i, img in enumerate(test_img[0+100:5+100],1):\n",
    "    subplot=fig.add_subplot(1,7,i)\n",
    "    plt.imshow(img, cmap='gray')\n",
    "    subplot.set_title(knn_pred_test[i+100-1])"
   ]
  },
  {
   "cell_type": "code",
   "execution_count": 29,
   "metadata": {
    "collapsed": true
   },
   "outputs": [],
   "source": [
    "with open('submit.txt', 'w') as dst:\n",
    "    dst.write('ImageId,Label\\n')\n",
    "    for i, p in enumerate(knn_pred_test, 1):\n",
    "        dst.write('%s,%s\\n' % (i, int(p)))"
   ]
  },
  {
   "cell_type": "markdown",
   "metadata": {
    "collapsed": true
   },
   "source": [
    "Your submission scored 0.88771"
   ]
  },
  {
   "cell_type": "code",
   "execution_count": null,
   "metadata": {
    "collapsed": true
   },
   "outputs": [],
   "source": []
  }
 ],
 "metadata": {
  "kernelspec": {
   "display_name": "Python 3",
   "language": "python",
   "name": "python3"
  },
  "language_info": {
   "codemirror_mode": {
    "name": "ipython",
    "version": 3
   },
   "file_extension": ".py",
   "mimetype": "text/x-python",
   "name": "python",
   "nbconvert_exporter": "python",
   "pygments_lexer": "ipython3",
   "version": "3.6.1"
  }
 },
 "nbformat": 4,
 "nbformat_minor": 2
}
