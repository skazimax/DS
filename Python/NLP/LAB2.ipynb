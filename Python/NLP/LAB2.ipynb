{
 "cells": [
  {
   "cell_type": "markdown",
   "metadata": {},
   "source": [
    "### Обработка данных"
   ]
  },
  {
   "cell_type": "code",
   "execution_count": 2,
   "metadata": {
    "collapsed": true
   },
   "outputs": [],
   "source": [
    "import pandas as pd\n",
    "import random\n",
    "from sklearn.model_selection import train_test_split\n",
    "import re\n",
    "from sklearn.metrics import f1_score, accuracy_score\n",
    "import numpy as np"
   ]
  },
  {
   "cell_type": "code",
   "execution_count": 3,
   "metadata": {},
   "outputs": [],
   "source": [
    "data_dir='/home/spynal/Netology/Data/NLP/'\n",
    "data_fem=pd.read_csv(data_dir+'female.txt', header=None, names=['names'])\n",
    "data_male=pd.read_csv(data_dir+'male.txt',header=None, names=['names'])"
   ]
  },
  {
   "cell_type": "code",
   "execution_count": 4,
   "metadata": {
    "collapsed": true
   },
   "outputs": [],
   "source": [
    "data_merge=data_fem.merge(data_male, left_on=data_fem.names,right_on=data_male.names, how='inner')"
   ]
  },
  {
   "cell_type": "code",
   "execution_count": 5,
   "metadata": {
    "collapsed": true
   },
   "outputs": [],
   "source": [
    "data_fem_fil=data_fem[~data_fem.names.isin(data_merge.names_x.values.tolist())]\n",
    "data_male_fil=data_male[~data_male.names.isin(data_merge.names_x.values.tolist())]"
   ]
  },
  {
   "cell_type": "code",
   "execution_count": 6,
   "metadata": {},
   "outputs": [
    {
     "name": "stderr",
     "output_type": "stream",
     "text": [
      "/home/spynal/anaconda3/lib/python3.6/site-packages/ipykernel_launcher.py:1: SettingWithCopyWarning: \n",
      "A value is trying to be set on a copy of a slice from a DataFrame.\n",
      "Try using .loc[row_indexer,col_indexer] = value instead\n",
      "\n",
      "See the caveats in the documentation: http://pandas.pydata.org/pandas-docs/stable/indexing.html#indexing-view-versus-copy\n",
      "  \"\"\"Entry point for launching an IPython kernel.\n",
      "/home/spynal/anaconda3/lib/python3.6/site-packages/ipykernel_launcher.py:2: SettingWithCopyWarning: \n",
      "A value is trying to be set on a copy of a slice from a DataFrame.\n",
      "Try using .loc[row_indexer,col_indexer] = value instead\n",
      "\n",
      "See the caveats in the documentation: http://pandas.pydata.org/pandas-docs/stable/indexing.html#indexing-view-versus-copy\n",
      "  \n",
      "/home/spynal/anaconda3/lib/python3.6/site-packages/ipykernel_launcher.py:3: SettingWithCopyWarning: \n",
      "A value is trying to be set on a copy of a slice from a DataFrame.\n",
      "Try using .loc[row_indexer,col_indexer] = value instead\n",
      "\n",
      "See the caveats in the documentation: http://pandas.pydata.org/pandas-docs/stable/indexing.html#indexing-view-versus-copy\n",
      "  This is separate from the ipykernel package so we can avoid doing imports until\n",
      "/home/spynal/anaconda3/lib/python3.6/site-packages/ipykernel_launcher.py:4: SettingWithCopyWarning: \n",
      "A value is trying to be set on a copy of a slice from a DataFrame.\n",
      "Try using .loc[row_indexer,col_indexer] = value instead\n",
      "\n",
      "See the caveats in the documentation: http://pandas.pydata.org/pandas-docs/stable/indexing.html#indexing-view-versus-copy\n",
      "  after removing the cwd from sys.path.\n"
     ]
    }
   ],
   "source": [
    "data_fem_fil['is_male']=0\n",
    "data_male_fil['is_male']=1\n",
    "data_fem_fil['names']=data_fem_fil.names.str.lower()\n",
    "data_male_fil['names']=data_male_fil.names.str.lower()"
   ]
  },
  {
   "cell_type": "code",
   "execution_count": 7,
   "metadata": {
    "collapsed": true
   },
   "outputs": [],
   "source": [
    "data_fem_fil_samp=data_fem_fil.sample(len(data_male_fil))"
   ]
  },
  {
   "cell_type": "code",
   "execution_count": 8,
   "metadata": {
    "collapsed": true
   },
   "outputs": [],
   "source": [
    "df1=pd.concat([data_fem_fil_samp,data_male_fil], ignore_index=True)"
   ]
  },
  {
   "cell_type": "code",
   "execution_count": 9,
   "metadata": {
    "collapsed": true
   },
   "outputs": [],
   "source": [
    "X_train, X_test, y_train, y_test=train_test_split(df1.names,df1.is_male, random_state=6666, test_size=0.2 )"
   ]
  },
  {
   "cell_type": "markdown",
   "metadata": {},
   "source": [
    "### Классификация\n",
    "Лучший результат дала ЛогРегрессия - 0.88, с разбиением по 2-3 нграмма и char_wb аналайзером"
   ]
  },
  {
   "cell_type": "code",
   "execution_count": 10,
   "metadata": {
    "collapsed": true
   },
   "outputs": [],
   "source": [
    "from sklearn.naive_bayes import MultinomialNB\n",
    "from sklearn.linear_model import LogisticRegression\n",
    "from sklearn.pipeline import Pipeline\n",
    "from sklearn.feature_extraction.text import CountVectorizer\n",
    "from sklearn.model_selection import GridSearchCV"
   ]
  },
  {
   "cell_type": "code",
   "execution_count": 11,
   "metadata": {
    "collapsed": true
   },
   "outputs": [],
   "source": [
    "Classifier=[LogisticRegression(),MultinomialNB()]"
   ]
  },
  {
   "cell_type": "code",
   "execution_count": 12,
   "metadata": {
    "collapsed": true
   },
   "outputs": [],
   "source": [
    "ngrams=[2,3,4]"
   ]
  },
  {
   "cell_type": "code",
   "execution_count": 13,
   "metadata": {},
   "outputs": [
    {
     "name": "stdout",
     "output_type": "stream",
     "text": [
      "LogisticRegression (ngrams=2) :\n",
      "F1-measure:   0.85\n",
      "Accuracy:   0.84\n",
      "\n",
      "LogisticRegression (ngrams=3) :\n",
      "F1-measure:   0.88\n",
      "Accuracy:   0.87\n",
      "\n",
      "LogisticRegression (ngrams=4) :\n",
      "F1-measure:   0.89\n",
      "Accuracy:   0.88\n",
      "\n",
      "MultinomialNB (ngrams=2) :\n",
      "F1-measure:   0.82\n",
      "Accuracy:   0.81\n",
      "\n",
      "MultinomialNB (ngrams=3) :\n",
      "F1-measure:   0.86\n",
      "Accuracy:   0.85\n",
      "\n",
      "MultinomialNB (ngrams=4) :\n",
      "F1-measure:   0.85\n",
      "Accuracy:   0.85\n",
      "\n"
     ]
    }
   ],
   "source": [
    "for c in Classifier:\n",
    "    for n in ngrams:\n",
    "        clf = Pipeline([\n",
    "            ('vect', CountVectorizer(ngram_range=(n-1,n), analyzer='char_wb')),\n",
    "            #('tfidf', TfidfTransformer()),\n",
    "            ('clf', c),\n",
    "            \n",
    "        ])\n",
    "        clf.fit(X_train, y_train)\n",
    "        preds=clf.predict(X_test)\n",
    "        print(*re.findall(r'\\w+(?=\\()',str(c)),'(ngrams='+str(n)+')',':')\n",
    "        print(\"F1-measure: {0:6.2f}\".format(f1_score(y_test, preds)))\n",
    "        print(\"Accuracy: {0:6.2f}\\n\".format(accuracy_score(y_test, preds)))"
   ]
  },
  {
   "cell_type": "markdown",
   "metadata": {},
   "source": [
    "### LSTM\n",
    "При optimization=Adam\\rmsprop, скор получается примерно одинаковый, adam, чуть лучше. <br/>\n",
    "При Dropout>0.3 скор сильно падает<br/>\n",
    "Лучший результат получился - 0.95, что значительно лучше, чем ЛогРегрессия(0.87)."
   ]
  },
  {
   "cell_type": "code",
   "execution_count": 14,
   "metadata": {},
   "outputs": [
    {
     "name": "stderr",
     "output_type": "stream",
     "text": [
      "Using TensorFlow backend.\n",
      "/home/spynal/anaconda3/lib/python3.6/importlib/_bootstrap.py:219: RuntimeWarning: compiletime version 3.5 of module 'tensorflow.python.framework.fast_tensor_util' does not match runtime version 3.6\n",
      "  return f(*args, **kwds)\n"
     ]
    }
   ],
   "source": [
    "from keras.models import Sequential\n",
    "from keras.layers.core import Dense, Activation, Dropout\n",
    "from keras.layers.recurrent import LSTM"
   ]
  },
  {
   "cell_type": "code",
   "execution_count": 15,
   "metadata": {
    "collapsed": true
   },
   "outputs": [],
   "source": [
    "all_names_len=len(df1)"
   ]
  },
  {
   "cell_type": "code",
   "execution_count": 16,
   "metadata": {
    "collapsed": true
   },
   "outputs": [],
   "source": [
    "max_len=len(max(data_fem_fil_samp.names, key=len)+max(data_male_fil.names, key=len))"
   ]
  },
  {
   "cell_type": "code",
   "execution_count": 17,
   "metadata": {
    "collapsed": true
   },
   "outputs": [],
   "source": [
    "chars=set(''.join(df1.names))"
   ]
  },
  {
   "cell_type": "code",
   "execution_count": 18,
   "metadata": {
    "collapsed": true
   },
   "outputs": [],
   "source": [
    "char_ind=dict((c, i) for i, c in enumerate(chars)) \n",
    "ind_char=((i, c) for i, c in enumerate(chars)) "
   ]
  },
  {
   "cell_type": "code",
   "execution_count": 19,
   "metadata": {
    "collapsed": true
   },
   "outputs": [],
   "source": [
    "X=np.zeros((all_names_len,max_len, len(chars)), dtype=np.bool)\n",
    "y=np.zeros((all_names_len,2), dtype=np.bool)"
   ]
  },
  {
   "cell_type": "code",
   "execution_count": 20,
   "metadata": {
    "collapsed": true
   },
   "outputs": [],
   "source": [
    "for i, name in enumerate(data_male_fil.names):\n",
    "    for t, char in enumerate(name):\n",
    "        X[i, t, char_ind[char]]=1\n",
    "    y[i,0] = 1"
   ]
  },
  {
   "cell_type": "code",
   "execution_count": 21,
   "metadata": {
    "collapsed": true
   },
   "outputs": [],
   "source": [
    "for i, name in enumerate(data_fem_fil_samp.names):\n",
    "    for t, char in enumerate(name):\n",
    "        X[i + len(data_male_fil.names), t, char_ind[char]]=1\n",
    "    y[i+len(data_male_fil.names), 1] = 1"
   ]
  },
  {
   "cell_type": "code",
   "execution_count": 72,
   "metadata": {
    "collapsed": true
   },
   "outputs": [],
   "source": [
    "model=Sequential()\n",
    "model.add(LSTM(256, return_sequences=True, input_shape=(max_len, len(chars))))\n",
    "model.add(Dropout(0.2))\n",
    "model.add(LSTM(256, return_sequences=False))\n",
    "model.add(Dropout(0.2))\n",
    "model.add(Dense(2))\n",
    "model.add(Activation('softmax'))\n",
    "#model.add(Activation('relu'))"
   ]
  },
  {
   "cell_type": "code",
   "execution_count": 73,
   "metadata": {},
   "outputs": [],
   "source": [
    "#model.compile(loss='binary_crossentropy',optimizer='rmsprop',metrics=['accuracy'])\n",
    "model.compile(loss='binary_crossentropy',optimizer='adam',metrics=['accuracy'])"
   ]
  },
  {
   "cell_type": "code",
   "execution_count": 74,
   "metadata": {},
   "outputs": [
    {
     "name": "stdout",
     "output_type": "stream",
     "text": [
      "Epoch 1/10\n",
      "5156/5156 [==============================] - 38s 7ms/step - loss: 0.6148 - acc: 0.6645\n",
      "Epoch 2/10\n",
      "5156/5156 [==============================] - 36s 7ms/step - loss: 0.5333 - acc: 0.7469\n",
      "Epoch 3/10\n",
      "5156/5156 [==============================] - 36s 7ms/step - loss: 0.4961 - acc: 0.7698\n",
      "Epoch 4/10\n",
      "5156/5156 [==============================] - 36s 7ms/step - loss: 0.4752 - acc: 0.7820\n",
      "Epoch 5/10\n",
      "5156/5156 [==============================] - 36s 7ms/step - loss: 0.4581 - acc: 0.7851\n",
      "Epoch 6/10\n",
      "5156/5156 [==============================] - 36s 7ms/step - loss: 0.4332 - acc: 0.7979\n",
      "Epoch 7/10\n",
      "5156/5156 [==============================] - 36s 7ms/step - loss: 0.4070 - acc: 0.8107\n",
      "Epoch 8/10\n",
      "5156/5156 [==============================] - 36s 7ms/step - loss: 0.3817 - acc: 0.8260\n",
      "Epoch 9/10\n",
      "5156/5156 [==============================] - 36s 7ms/step - loss: 0.3739 - acc: 0.8313\n",
      "Epoch 10/10\n",
      "5156/5156 [==============================] - 37s 7ms/step - loss: 0.4169 - acc: 0.8128\n"
     ]
    },
    {
     "data": {
      "text/plain": [
       "<keras.callbacks.History at 0x7fabb0fab160>"
      ]
     },
     "execution_count": 74,
     "metadata": {},
     "output_type": "execute_result"
    }
   ],
   "source": [
    "model.fit(X,y, batch_size=16, epochs=10)"
   ]
  },
  {
   "cell_type": "code",
   "execution_count": 62,
   "metadata": {},
   "outputs": [
    {
     "name": "stdout",
     "output_type": "stream",
     "text": [
      "5156/5156 [==============================] - 25s 5ms/step\n"
     ]
    },
    {
     "data": {
      "text/plain": [
       "[0.13399684414429383, 0.95403413498836309]"
      ]
     },
     "execution_count": 62,
     "metadata": {},
     "output_type": "execute_result"
    }
   ],
   "source": [
    "model.evaluate(X,y, batch_size=16)\n",
    "#softmax\n",
    "#Adam\n",
    "#batch25\n",
    "#hidden_size512"
   ]
  },
  {
   "cell_type": "code",
   "execution_count": 75,
   "metadata": {},
   "outputs": [
    {
     "name": "stdout",
     "output_type": "stream",
     "text": [
      "5156/5156 [==============================] - 11s 2ms/step\n"
     ]
    },
    {
     "data": {
      "text/plain": [
       "[0.61085975903055301, 0.71450737005430565]"
      ]
     },
     "execution_count": 75,
     "metadata": {},
     "output_type": "execute_result"
    }
   ],
   "source": [
    "model.evaluate(X,y, batch_size=16)\n",
    "#hidden_size256\n",
    "#adam\n",
    "#batch10"
   ]
  },
  {
   "cell_type": "code",
   "execution_count": null,
   "metadata": {
    "collapsed": true
   },
   "outputs": [],
   "source": []
  }
 ],
 "metadata": {
  "kernelspec": {
   "display_name": "Python 3",
   "language": "python",
   "name": "python3"
  },
  "language_info": {
   "codemirror_mode": {
    "name": "ipython",
    "version": 3
   },
   "file_extension": ".py",
   "mimetype": "text/x-python",
   "name": "python",
   "nbconvert_exporter": "python",
   "pygments_lexer": "ipython3",
   "version": "3.6.3"
  }
 },
 "nbformat": 4,
 "nbformat_minor": 2
}
