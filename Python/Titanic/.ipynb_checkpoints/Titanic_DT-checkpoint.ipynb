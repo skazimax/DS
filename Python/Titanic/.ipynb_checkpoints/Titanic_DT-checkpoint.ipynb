{
 "cells": [
  {
   "cell_type": "code",
   "execution_count": 15,
   "metadata": {
    "collapsed": true
   },
   "outputs": [],
   "source": [
    "import numpy as np\n",
    "import pandas as pd\n",
    "from matplotlib import pyplot\n",
    "%matplotlib inline\n",
    "import seaborn as sb"
   ]
  },
  {
   "cell_type": "code",
   "execution_count": 16,
   "metadata": {
    "collapsed": true
   },
   "outputs": [],
   "source": [
    "df_train=pd.read_csv('train.csv')\n",
    "df_test=pd.read_csv('test.csv')"
   ]
  },
  {
   "cell_type": "code",
   "execution_count": 17,
   "metadata": {
    "collapsed": true
   },
   "outputs": [],
   "source": [
    "y_train=df_train.Survived"
   ]
  },
  {
   "cell_type": "code",
   "execution_count": 18,
   "metadata": {
    "collapsed": true
   },
   "outputs": [],
   "source": [
    "df_train.drop('Survived', axis=1, inplace=True)"
   ]
  },
  {
   "cell_type": "code",
   "execution_count": 19,
   "metadata": {
    "scrolled": true
   },
   "outputs": [
    {
     "data": {
      "text/plain": [
       "array([ True,  True,  True,  True,  True,  True,  True,  True,  True,\n",
       "        True,  True], dtype=bool)"
      ]
     },
     "execution_count": 19,
     "metadata": {},
     "output_type": "execute_result"
    }
   ],
   "source": [
    "df_train.columns==df_test.columns"
   ]
  },
  {
   "cell_type": "code",
   "execution_count": 20,
   "metadata": {
    "collapsed": true
   },
   "outputs": [],
   "source": [
    "df_train['is_test']=0"
   ]
  },
  {
   "cell_type": "code",
   "execution_count": 21,
   "metadata": {
    "collapsed": true
   },
   "outputs": [],
   "source": [
    "df_test['is_test']=1"
   ]
  },
  {
   "cell_type": "code",
   "execution_count": 22,
   "metadata": {
    "collapsed": true
   },
   "outputs": [],
   "source": [
    "df1=pd.concat([df_test,df_train])"
   ]
  },
  {
   "cell_type": "code",
   "execution_count": 23,
   "metadata": {
    "collapsed": true
   },
   "outputs": [],
   "source": [
    "df1['isMale']=df1.Sex.replace({'male':1,'female':0})"
   ]
  },
  {
   "cell_type": "code",
   "execution_count": 24,
   "metadata": {
    "collapsed": true
   },
   "outputs": [],
   "source": [
    "df1['is_Miss']=df1.Name.str.contains('Miss').astype(int)\n",
    "df1['is_Master']=df1.Name.str.contains('Master').astype(int)\n",
    "df1['is_Mr']=df1.Name.str.contains(r'(?:\\s|^)Mr.(?:\\s|$)').astype(int)\n",
    "df1['is_Mrs']=df1.Name.str.contains(r'(?:\\s|^)Mrs.(?:\\s|$)').astype(int)"
   ]
  },
  {
   "cell_type": "code",
   "execution_count": 25,
   "metadata": {
    "collapsed": true
   },
   "outputs": [],
   "source": [
    "df1['Cabin_']=df1.Cabin.str[0]"
   ]
  },
  {
   "cell_type": "code",
   "execution_count": 26,
   "metadata": {
    "collapsed": true
   },
   "outputs": [],
   "source": [
    "df1['is_Family']=((df1['SibSp']+df1['Parch'])>0).astype(int)"
   ]
  },
  {
   "cell_type": "code",
   "execution_count": 28,
   "metadata": {
    "collapsed": true
   },
   "outputs": [],
   "source": [
    "df1['is_Alone']=(df1['is_Family']==0).astype(int)"
   ]
  },
  {
   "cell_type": "code",
   "execution_count": 29,
   "metadata": {},
   "outputs": [
    {
     "data": {
      "text/html": [
       "<div>\n",
       "<style>\n",
       "    .dataframe thead tr:only-child th {\n",
       "        text-align: right;\n",
       "    }\n",
       "\n",
       "    .dataframe thead th {\n",
       "        text-align: left;\n",
       "    }\n",
       "\n",
       "    .dataframe tbody tr th {\n",
       "        vertical-align: top;\n",
       "    }\n",
       "</style>\n",
       "<table border=\"1\" class=\"dataframe\">\n",
       "  <thead>\n",
       "    <tr style=\"text-align: right;\">\n",
       "      <th></th>\n",
       "      <th>PassengerId</th>\n",
       "      <th>Pclass</th>\n",
       "      <th>Name</th>\n",
       "      <th>Sex</th>\n",
       "      <th>Age</th>\n",
       "      <th>SibSp</th>\n",
       "      <th>Parch</th>\n",
       "      <th>Ticket</th>\n",
       "      <th>Fare</th>\n",
       "      <th>Cabin</th>\n",
       "      <th>Embarked</th>\n",
       "      <th>is_test</th>\n",
       "      <th>isMale</th>\n",
       "      <th>is_Miss</th>\n",
       "      <th>is_Master</th>\n",
       "      <th>is_Mr</th>\n",
       "      <th>is_Mrs</th>\n",
       "      <th>Cabin_</th>\n",
       "      <th>is_Family</th>\n",
       "      <th>is_Alone</th>\n",
       "    </tr>\n",
       "  </thead>\n",
       "  <tbody>\n",
       "    <tr>\n",
       "      <th>0</th>\n",
       "      <td>892</td>\n",
       "      <td>3</td>\n",
       "      <td>Kelly, Mr. James</td>\n",
       "      <td>male</td>\n",
       "      <td>34.5</td>\n",
       "      <td>0</td>\n",
       "      <td>0</td>\n",
       "      <td>330911</td>\n",
       "      <td>7.8292</td>\n",
       "      <td>NaN</td>\n",
       "      <td>Q</td>\n",
       "      <td>1</td>\n",
       "      <td>1</td>\n",
       "      <td>0</td>\n",
       "      <td>0</td>\n",
       "      <td>1</td>\n",
       "      <td>0</td>\n",
       "      <td>NaN</td>\n",
       "      <td>0</td>\n",
       "      <td>1</td>\n",
       "    </tr>\n",
       "    <tr>\n",
       "      <th>1</th>\n",
       "      <td>893</td>\n",
       "      <td>3</td>\n",
       "      <td>Wilkes, Mrs. James (Ellen Needs)</td>\n",
       "      <td>female</td>\n",
       "      <td>47.0</td>\n",
       "      <td>1</td>\n",
       "      <td>0</td>\n",
       "      <td>363272</td>\n",
       "      <td>7.0000</td>\n",
       "      <td>NaN</td>\n",
       "      <td>S</td>\n",
       "      <td>1</td>\n",
       "      <td>0</td>\n",
       "      <td>0</td>\n",
       "      <td>0</td>\n",
       "      <td>0</td>\n",
       "      <td>1</td>\n",
       "      <td>NaN</td>\n",
       "      <td>1</td>\n",
       "      <td>0</td>\n",
       "    </tr>\n",
       "    <tr>\n",
       "      <th>2</th>\n",
       "      <td>894</td>\n",
       "      <td>2</td>\n",
       "      <td>Myles, Mr. Thomas Francis</td>\n",
       "      <td>male</td>\n",
       "      <td>62.0</td>\n",
       "      <td>0</td>\n",
       "      <td>0</td>\n",
       "      <td>240276</td>\n",
       "      <td>9.6875</td>\n",
       "      <td>NaN</td>\n",
       "      <td>Q</td>\n",
       "      <td>1</td>\n",
       "      <td>1</td>\n",
       "      <td>0</td>\n",
       "      <td>0</td>\n",
       "      <td>1</td>\n",
       "      <td>0</td>\n",
       "      <td>NaN</td>\n",
       "      <td>0</td>\n",
       "      <td>1</td>\n",
       "    </tr>\n",
       "    <tr>\n",
       "      <th>3</th>\n",
       "      <td>895</td>\n",
       "      <td>3</td>\n",
       "      <td>Wirz, Mr. Albert</td>\n",
       "      <td>male</td>\n",
       "      <td>27.0</td>\n",
       "      <td>0</td>\n",
       "      <td>0</td>\n",
       "      <td>315154</td>\n",
       "      <td>8.6625</td>\n",
       "      <td>NaN</td>\n",
       "      <td>S</td>\n",
       "      <td>1</td>\n",
       "      <td>1</td>\n",
       "      <td>0</td>\n",
       "      <td>0</td>\n",
       "      <td>1</td>\n",
       "      <td>0</td>\n",
       "      <td>NaN</td>\n",
       "      <td>0</td>\n",
       "      <td>1</td>\n",
       "    </tr>\n",
       "    <tr>\n",
       "      <th>4</th>\n",
       "      <td>896</td>\n",
       "      <td>3</td>\n",
       "      <td>Hirvonen, Mrs. Alexander (Helga E Lindqvist)</td>\n",
       "      <td>female</td>\n",
       "      <td>22.0</td>\n",
       "      <td>1</td>\n",
       "      <td>1</td>\n",
       "      <td>3101298</td>\n",
       "      <td>12.2875</td>\n",
       "      <td>NaN</td>\n",
       "      <td>S</td>\n",
       "      <td>1</td>\n",
       "      <td>0</td>\n",
       "      <td>0</td>\n",
       "      <td>0</td>\n",
       "      <td>0</td>\n",
       "      <td>1</td>\n",
       "      <td>NaN</td>\n",
       "      <td>1</td>\n",
       "      <td>0</td>\n",
       "    </tr>\n",
       "  </tbody>\n",
       "</table>\n",
       "</div>"
      ],
      "text/plain": [
       "   PassengerId  Pclass                                          Name     Sex  \\\n",
       "0          892       3                              Kelly, Mr. James    male   \n",
       "1          893       3              Wilkes, Mrs. James (Ellen Needs)  female   \n",
       "2          894       2                     Myles, Mr. Thomas Francis    male   \n",
       "3          895       3                              Wirz, Mr. Albert    male   \n",
       "4          896       3  Hirvonen, Mrs. Alexander (Helga E Lindqvist)  female   \n",
       "\n",
       "    Age  SibSp  Parch   Ticket     Fare Cabin Embarked  is_test  isMale  \\\n",
       "0  34.5      0      0   330911   7.8292   NaN        Q        1       1   \n",
       "1  47.0      1      0   363272   7.0000   NaN        S        1       0   \n",
       "2  62.0      0      0   240276   9.6875   NaN        Q        1       1   \n",
       "3  27.0      0      0   315154   8.6625   NaN        S        1       1   \n",
       "4  22.0      1      1  3101298  12.2875   NaN        S        1       0   \n",
       "\n",
       "   is_Miss  is_Master  is_Mr  is_Mrs Cabin_  is_Family  is_Alone  \n",
       "0        0          0      1       0    NaN          0         1  \n",
       "1        0          0      0       1    NaN          1         0  \n",
       "2        0          0      1       0    NaN          0         1  \n",
       "3        0          0      1       0    NaN          0         1  \n",
       "4        0          0      0       1    NaN          1         0  "
      ]
     },
     "execution_count": 29,
     "metadata": {},
     "output_type": "execute_result"
    }
   ],
   "source": [
    "df1.head()"
   ]
  },
  {
   "cell_type": "code",
   "execution_count": 30,
   "metadata": {
    "collapsed": true
   },
   "outputs": [],
   "source": [
    "df1_1=pd.get_dummies(df1,columns=['Pclass','Embarked', 'Cabin_'])"
   ]
  },
  {
   "cell_type": "code",
   "execution_count": 31,
   "metadata": {
    "collapsed": true
   },
   "outputs": [],
   "source": [
    "df1_1.drop(['PassengerId', 'Name','Cabin', 'Ticket', 'Sex', 'SibSp','Parch'], inplace=True, axis=1)"
   ]
  },
  {
   "cell_type": "code",
   "execution_count": 32,
   "metadata": {
    "collapsed": true
   },
   "outputs": [],
   "source": [
    "df1_1['Fare'].fillna(df1_1['Fare'].loc[(df1_1['Pclass_3']==1) & (df1_1['Age']>50)].mean(), inplace=True)"
   ]
  },
  {
   "cell_type": "markdown",
   "metadata": {},
   "source": [
    "Предсказываем возраст."
   ]
  },
  {
   "cell_type": "code",
   "execution_count": 33,
   "metadata": {
    "collapsed": true
   },
   "outputs": [],
   "source": [
    "df2_train_Age=df1_1[df1_1['Age'].notnull()].drop(['is_test'], axis=1)"
   ]
  },
  {
   "cell_type": "code",
   "execution_count": 34,
   "metadata": {
    "collapsed": true
   },
   "outputs": [],
   "source": [
    "df2_test_Age=df1_1[df1_1['Age'].isnull()].drop(['Age','is_test'], axis=1)"
   ]
  },
  {
   "cell_type": "code",
   "execution_count": 35,
   "metadata": {
    "collapsed": true
   },
   "outputs": [],
   "source": [
    "y_Age=df2_train_Age.Age"
   ]
  },
  {
   "cell_type": "code",
   "execution_count": 36,
   "metadata": {},
   "outputs": [
    {
     "data": {
      "text/plain": [
       "Series([], Name: Age, dtype: float64)"
      ]
     },
     "execution_count": 36,
     "metadata": {},
     "output_type": "execute_result"
    }
   ],
   "source": [
    "y_Age[y_Age==0]"
   ]
  },
  {
   "cell_type": "code",
   "execution_count": 37,
   "metadata": {
    "collapsed": true
   },
   "outputs": [],
   "source": [
    "df2_train_Age.drop(['Age'], axis=1, inplace=True)"
   ]
  },
  {
   "cell_type": "code",
   "execution_count": 38,
   "metadata": {
    "collapsed": true
   },
   "outputs": [],
   "source": [
    "from sklearn.model_selection import train_test_split\n",
    "from sklearn.metrics import accuracy_score"
   ]
  },
  {
   "cell_type": "code",
   "execution_count": 39,
   "metadata": {
    "collapsed": true
   },
   "outputs": [],
   "source": [
    "X_Age_train, X_Age_val, Y_Age_train, Y_Age_val=train_test_split(df2_train_Age, y_Age)"
   ]
  },
  {
   "cell_type": "code",
   "execution_count": 40,
   "metadata": {
    "collapsed": true
   },
   "outputs": [],
   "source": [
    "from sklearn.linear_model import LinearRegression"
   ]
  },
  {
   "cell_type": "code",
   "execution_count": 41,
   "metadata": {
    "collapsed": true
   },
   "outputs": [],
   "source": [
    "lr=LinearRegression()"
   ]
  },
  {
   "cell_type": "code",
   "execution_count": 42,
   "metadata": {},
   "outputs": [
    {
     "data": {
      "text/plain": [
       "LinearRegression(copy_X=True, fit_intercept=True, n_jobs=1, normalize=False)"
      ]
     },
     "execution_count": 42,
     "metadata": {},
     "output_type": "execute_result"
    }
   ],
   "source": [
    "lr.fit(X_Age_train,Y_Age_train)"
   ]
  },
  {
   "cell_type": "code",
   "execution_count": 43,
   "metadata": {
    "collapsed": true
   },
   "outputs": [],
   "source": [
    "Y_Age_val_pred=lr.predict(X_Age_val)"
   ]
  },
  {
   "cell_type": "code",
   "execution_count": 44,
   "metadata": {},
   "outputs": [
    {
     "data": {
      "text/plain": [
       "LinearRegression(copy_X=True, fit_intercept=True, n_jobs=1, normalize=False)"
      ]
     },
     "execution_count": 44,
     "metadata": {},
     "output_type": "execute_result"
    }
   ],
   "source": [
    "lr.fit(df2_train_Age, y_Age)"
   ]
  },
  {
   "cell_type": "code",
   "execution_count": 45,
   "metadata": {
    "collapsed": true
   },
   "outputs": [],
   "source": [
    "Age_pred=lr.predict(df2_test_Age)"
   ]
  },
  {
   "cell_type": "code",
   "execution_count": 46,
   "metadata": {},
   "outputs": [
    {
     "name": "stderr",
     "output_type": "stream",
     "text": [
      "C:\\Users\\mrasskazov\\AppData\\Local\\Continuum\\Anaconda3\\lib\\site-packages\\ipykernel_launcher.py:1: SettingWithCopyWarning: \n",
      "A value is trying to be set on a copy of a slice from a DataFrame\n",
      "\n",
      "See the caveats in the documentation: http://pandas.pydata.org/pandas-docs/stable/indexing.html#indexing-view-versus-copy\n",
      "  \"\"\"Entry point for launching an IPython kernel.\n"
     ]
    }
   ],
   "source": [
    "df1_1.Age[df1_1.Age.isnull()==True]=(pd.Series(Age_pred))"
   ]
  },
  {
   "cell_type": "code",
   "execution_count": 47,
   "metadata": {
    "scrolled": true
   },
   "outputs": [
    {
     "data": {
      "text/plain": [
       "Series([], Name: Age, dtype: float64)"
      ]
     },
     "execution_count": 47,
     "metadata": {},
     "output_type": "execute_result"
    }
   ],
   "source": [
    "df1_1.Age[df1_1.Age.isnull()==True].replace(pd.Series(Age_pred))"
   ]
  },
  {
   "cell_type": "code",
   "execution_count": 48,
   "metadata": {
    "collapsed": true
   },
   "outputs": [],
   "source": [
    "x_train=df1_1[df1_1.is_test==0].drop('is_test', axis=1)\n",
    "x_test=df1_1[df1_1.is_test==1].drop('is_test', axis=1)"
   ]
  },
  {
   "cell_type": "code",
   "execution_count": 49,
   "metadata": {
    "collapsed": true
   },
   "outputs": [],
   "source": [
    "columns=x_train.columns"
   ]
  },
  {
   "cell_type": "code",
   "execution_count": 50,
   "metadata": {
    "collapsed": true
   },
   "outputs": [],
   "source": [
    "from sklearn.preprocessing import StandardScaler"
   ]
  },
  {
   "cell_type": "code",
   "execution_count": 51,
   "metadata": {
    "collapsed": true
   },
   "outputs": [],
   "source": [
    "scaler=StandardScaler()"
   ]
  },
  {
   "cell_type": "code",
   "execution_count": 52,
   "metadata": {},
   "outputs": [
    {
     "data": {
      "text/plain": [
       "StandardScaler(copy=True, with_mean=True, with_std=True)"
      ]
     },
     "execution_count": 52,
     "metadata": {},
     "output_type": "execute_result"
    }
   ],
   "source": [
    "scaler.fit(x_train)"
   ]
  },
  {
   "cell_type": "code",
   "execution_count": 53,
   "metadata": {
    "collapsed": true
   },
   "outputs": [],
   "source": [
    "x_train_sc=scaler.transform(x_train)\n",
    "x_train_sc=pd.DataFrame(x_train_sc, columns=columns)"
   ]
  },
  {
   "cell_type": "code",
   "execution_count": 54,
   "metadata": {},
   "outputs": [
    {
     "data": {
      "text/html": [
       "<div>\n",
       "<style>\n",
       "    .dataframe thead tr:only-child th {\n",
       "        text-align: right;\n",
       "    }\n",
       "\n",
       "    .dataframe thead th {\n",
       "        text-align: left;\n",
       "    }\n",
       "\n",
       "    .dataframe tbody tr th {\n",
       "        vertical-align: top;\n",
       "    }\n",
       "</style>\n",
       "<table border=\"1\" class=\"dataframe\">\n",
       "  <thead>\n",
       "    <tr style=\"text-align: right;\">\n",
       "      <th></th>\n",
       "      <th>Age</th>\n",
       "      <th>Fare</th>\n",
       "      <th>isMale</th>\n",
       "      <th>is_Miss</th>\n",
       "      <th>is_Master</th>\n",
       "      <th>is_Mr</th>\n",
       "      <th>is_Mrs</th>\n",
       "      <th>is_Family</th>\n",
       "      <th>is_Alone</th>\n",
       "      <th>Pclass_1</th>\n",
       "      <th>...</th>\n",
       "      <th>Embarked_Q</th>\n",
       "      <th>Embarked_S</th>\n",
       "      <th>Cabin__A</th>\n",
       "      <th>Cabin__B</th>\n",
       "      <th>Cabin__C</th>\n",
       "      <th>Cabin__D</th>\n",
       "      <th>Cabin__E</th>\n",
       "      <th>Cabin__F</th>\n",
       "      <th>Cabin__G</th>\n",
       "      <th>Cabin__T</th>\n",
       "    </tr>\n",
       "  </thead>\n",
       "  <tbody>\n",
       "    <tr>\n",
       "      <th>0</th>\n",
       "      <td>-0.571324</td>\n",
       "      <td>-0.502445</td>\n",
       "      <td>0.737695</td>\n",
       "      <td>-0.506655</td>\n",
       "      <td>-0.216803</td>\n",
       "      <td>0.850532</td>\n",
       "      <td>-0.403962</td>\n",
       "      <td>1.231645</td>\n",
       "      <td>-1.231645</td>\n",
       "      <td>-0.565685</td>\n",
       "      <td>...</td>\n",
       "      <td>-0.307562</td>\n",
       "      <td>0.619306</td>\n",
       "      <td>-0.130856</td>\n",
       "      <td>-0.235981</td>\n",
       "      <td>-0.266296</td>\n",
       "      <td>-0.196116</td>\n",
       "      <td>-0.193009</td>\n",
       "      <td>-0.121681</td>\n",
       "      <td>-0.067153</td>\n",
       "      <td>-0.03352</td>\n",
       "    </tr>\n",
       "    <tr>\n",
       "      <th>1</th>\n",
       "      <td>0.610916</td>\n",
       "      <td>0.786845</td>\n",
       "      <td>-1.355574</td>\n",
       "      <td>-0.506655</td>\n",
       "      <td>-0.216803</td>\n",
       "      <td>-1.175735</td>\n",
       "      <td>2.475480</td>\n",
       "      <td>1.231645</td>\n",
       "      <td>-1.231645</td>\n",
       "      <td>1.767767</td>\n",
       "      <td>...</td>\n",
       "      <td>-0.307562</td>\n",
       "      <td>-1.614710</td>\n",
       "      <td>-0.130856</td>\n",
       "      <td>-0.235981</td>\n",
       "      <td>3.755222</td>\n",
       "      <td>-0.196116</td>\n",
       "      <td>-0.193009</td>\n",
       "      <td>-0.121681</td>\n",
       "      <td>-0.067153</td>\n",
       "      <td>-0.03352</td>\n",
       "    </tr>\n",
       "    <tr>\n",
       "      <th>2</th>\n",
       "      <td>-0.275764</td>\n",
       "      <td>-0.488854</td>\n",
       "      <td>-1.355574</td>\n",
       "      <td>1.973729</td>\n",
       "      <td>-0.216803</td>\n",
       "      <td>-1.175735</td>\n",
       "      <td>-0.403962</td>\n",
       "      <td>-0.811922</td>\n",
       "      <td>0.811922</td>\n",
       "      <td>-0.565685</td>\n",
       "      <td>...</td>\n",
       "      <td>-0.307562</td>\n",
       "      <td>0.619306</td>\n",
       "      <td>-0.130856</td>\n",
       "      <td>-0.235981</td>\n",
       "      <td>-0.266296</td>\n",
       "      <td>-0.196116</td>\n",
       "      <td>-0.193009</td>\n",
       "      <td>-0.121681</td>\n",
       "      <td>-0.067153</td>\n",
       "      <td>-0.03352</td>\n",
       "    </tr>\n",
       "    <tr>\n",
       "      <th>3</th>\n",
       "      <td>0.389246</td>\n",
       "      <td>0.420730</td>\n",
       "      <td>-1.355574</td>\n",
       "      <td>-0.506655</td>\n",
       "      <td>-0.216803</td>\n",
       "      <td>-1.175735</td>\n",
       "      <td>2.475480</td>\n",
       "      <td>1.231645</td>\n",
       "      <td>-1.231645</td>\n",
       "      <td>1.767767</td>\n",
       "      <td>...</td>\n",
       "      <td>-0.307562</td>\n",
       "      <td>0.619306</td>\n",
       "      <td>-0.130856</td>\n",
       "      <td>-0.235981</td>\n",
       "      <td>3.755222</td>\n",
       "      <td>-0.196116</td>\n",
       "      <td>-0.193009</td>\n",
       "      <td>-0.121681</td>\n",
       "      <td>-0.067153</td>\n",
       "      <td>-0.03352</td>\n",
       "    </tr>\n",
       "    <tr>\n",
       "      <th>4</th>\n",
       "      <td>0.389246</td>\n",
       "      <td>-0.486337</td>\n",
       "      <td>0.737695</td>\n",
       "      <td>-0.506655</td>\n",
       "      <td>-0.216803</td>\n",
       "      <td>0.850532</td>\n",
       "      <td>-0.403962</td>\n",
       "      <td>-0.811922</td>\n",
       "      <td>0.811922</td>\n",
       "      <td>-0.565685</td>\n",
       "      <td>...</td>\n",
       "      <td>-0.307562</td>\n",
       "      <td>0.619306</td>\n",
       "      <td>-0.130856</td>\n",
       "      <td>-0.235981</td>\n",
       "      <td>-0.266296</td>\n",
       "      <td>-0.196116</td>\n",
       "      <td>-0.193009</td>\n",
       "      <td>-0.121681</td>\n",
       "      <td>-0.067153</td>\n",
       "      <td>-0.03352</td>\n",
       "    </tr>\n",
       "  </tbody>\n",
       "</table>\n",
       "<p>5 rows × 23 columns</p>\n",
       "</div>"
      ],
      "text/plain": [
       "        Age      Fare    isMale   is_Miss  is_Master     is_Mr    is_Mrs  \\\n",
       "0 -0.571324 -0.502445  0.737695 -0.506655  -0.216803  0.850532 -0.403962   \n",
       "1  0.610916  0.786845 -1.355574 -0.506655  -0.216803 -1.175735  2.475480   \n",
       "2 -0.275764 -0.488854 -1.355574  1.973729  -0.216803 -1.175735 -0.403962   \n",
       "3  0.389246  0.420730 -1.355574 -0.506655  -0.216803 -1.175735  2.475480   \n",
       "4  0.389246 -0.486337  0.737695 -0.506655  -0.216803  0.850532 -0.403962   \n",
       "\n",
       "   is_Family  is_Alone  Pclass_1    ...     Embarked_Q  Embarked_S  Cabin__A  \\\n",
       "0   1.231645 -1.231645 -0.565685    ...      -0.307562    0.619306 -0.130856   \n",
       "1   1.231645 -1.231645  1.767767    ...      -0.307562   -1.614710 -0.130856   \n",
       "2  -0.811922  0.811922 -0.565685    ...      -0.307562    0.619306 -0.130856   \n",
       "3   1.231645 -1.231645  1.767767    ...      -0.307562    0.619306 -0.130856   \n",
       "4  -0.811922  0.811922 -0.565685    ...      -0.307562    0.619306 -0.130856   \n",
       "\n",
       "   Cabin__B  Cabin__C  Cabin__D  Cabin__E  Cabin__F  Cabin__G  Cabin__T  \n",
       "0 -0.235981 -0.266296 -0.196116 -0.193009 -0.121681 -0.067153  -0.03352  \n",
       "1 -0.235981  3.755222 -0.196116 -0.193009 -0.121681 -0.067153  -0.03352  \n",
       "2 -0.235981 -0.266296 -0.196116 -0.193009 -0.121681 -0.067153  -0.03352  \n",
       "3 -0.235981  3.755222 -0.196116 -0.193009 -0.121681 -0.067153  -0.03352  \n",
       "4 -0.235981 -0.266296 -0.196116 -0.193009 -0.121681 -0.067153  -0.03352  \n",
       "\n",
       "[5 rows x 23 columns]"
      ]
     },
     "execution_count": 54,
     "metadata": {},
     "output_type": "execute_result"
    }
   ],
   "source": [
    "x_train_sc.head()"
   ]
  },
  {
   "cell_type": "code",
   "execution_count": 55,
   "metadata": {
    "collapsed": true
   },
   "outputs": [],
   "source": [
    "x_test_sc=scaler.transform(x_test)"
   ]
  },
  {
   "cell_type": "code",
   "execution_count": 56,
   "metadata": {
    "collapsed": true
   },
   "outputs": [],
   "source": [
    "from sklearn.decomposition import PCA"
   ]
  },
  {
   "cell_type": "code",
   "execution_count": 57,
   "metadata": {
    "collapsed": true
   },
   "outputs": [],
   "source": [
    "pca=PCA(n_components=2)"
   ]
  },
  {
   "cell_type": "code",
   "execution_count": 58,
   "metadata": {
    "collapsed": true
   },
   "outputs": [],
   "source": [
    "ppl=pca.fit_transform(x_train_sc)"
   ]
  },
  {
   "cell_type": "code",
   "execution_count": 59,
   "metadata": {},
   "outputs": [
    {
     "data": {
      "text/plain": [
       "0.28634652640877228"
      ]
     },
     "execution_count": 59,
     "metadata": {},
     "output_type": "execute_result"
    }
   ],
   "source": [
    "pca.explained_variance_ratio_.sum()"
   ]
  },
  {
   "cell_type": "code",
   "execution_count": 60,
   "metadata": {},
   "outputs": [
    {
     "data": {
      "image/png": "[encoded data removed]",
      "text/plain": [
       "<matplotlib.figure.Figure at 0xce146a0>"
      ]
     },
     "metadata": {},
     "output_type": "display_data"
    }
   ],
   "source": [
    "pyplot.plot(ppl[:,0],ppl[:,1], 'ro', alpha=0.1);"
   ]
  },
  {
   "cell_type": "code",
   "execution_count": 61,
   "metadata": {
    "collapsed": true
   },
   "outputs": [],
   "source": [
    "from sklearn.cluster import KMeans"
   ]
  },
  {
   "cell_type": "code",
   "execution_count": 62,
   "metadata": {
    "collapsed": true
   },
   "outputs": [],
   "source": [
    "kmeans=KMeans(n_clusters=7)"
   ]
  },
  {
   "cell_type": "code",
   "execution_count": 63,
   "metadata": {},
   "outputs": [
    {
     "data": {
      "text/plain": [
       "KMeans(algorithm='auto', copy_x=True, init='k-means++', max_iter=300,\n",
       "    n_clusters=7, n_init=10, n_jobs=1, precompute_distances='auto',\n",
       "    random_state=None, tol=0.0001, verbose=0)"
      ]
     },
     "execution_count": 63,
     "metadata": {},
     "output_type": "execute_result"
    }
   ],
   "source": [
    "kmeans.fit(x_train_sc)"
   ]
  },
  {
   "cell_type": "code",
   "execution_count": 64,
   "metadata": {
    "collapsed": true
   },
   "outputs": [],
   "source": [
    "cluster_labels=kmeans.predict(x_train_sc)"
   ]
  },
  {
   "cell_type": "code",
   "execution_count": 65,
   "metadata": {},
   "outputs": [
    {
     "data": {
      "image/png": "[encoded data removed]",
      "text/plain": [
       "<matplotlib.figure.Figure at 0xca3ddd8>"
      ]
     },
     "metadata": {},
     "output_type": "display_data"
    }
   ],
   "source": [
    "for i, color in zip(range(7),{'blue','red','green','black','orange','yellow'}):\n",
    "    t=ppl[cluster_labels==i]\n",
    "    pyplot.plot(t[:,0], t[:,1], 'ro', alpha=0.1, c=color)"
   ]
  },
  {
   "cell_type": "code",
   "execution_count": 66,
   "metadata": {
    "collapsed": true
   },
   "outputs": [],
   "source": [
    "from sklearn.model_selection import train_test_split"
   ]
  },
  {
   "cell_type": "code",
   "execution_count": 67,
   "metadata": {
    "collapsed": true
   },
   "outputs": [],
   "source": [
    "x_train_fin, x_cv, y_train_fin, y_cv=train_test_split(x_train_sc, y_train, test_size=0.2)"
   ]
  },
  {
   "cell_type": "code",
   "execution_count": 68,
   "metadata": {
    "collapsed": true
   },
   "outputs": [],
   "source": [
    "from sklearn.model_selection import GridSearchCV\n",
    "from sklearn.tree import DecisionTreeClassifier"
   ]
  },
  {
   "cell_type": "code",
   "execution_count": 69,
   "metadata": {
    "collapsed": true
   },
   "outputs": [],
   "source": [
    "depth=np.arange(1,10)\n",
    "grid={'max_depth':depth}\n",
    "gridsearch=GridSearchCV(DecisionTreeClassifier(),grid,scoring='accuracy', cv=5)"
   ]
  },
  {
   "cell_type": "code",
   "execution_count": 70,
   "metadata": {},
   "outputs": [
    {
     "data": {
      "text/plain": [
       "GridSearchCV(cv=5, error_score='raise',\n",
       "       estimator=DecisionTreeClassifier(class_weight=None, criterion='gini', max_depth=None,\n",
       "            max_features=None, max_leaf_nodes=None,\n",
       "            min_impurity_split=1e-07, min_samples_leaf=1,\n",
       "            min_samples_split=2, min_weight_fraction_leaf=0.0,\n",
       "            presort=False, random_state=None, splitter='best'),\n",
       "       fit_params={}, iid=True, n_jobs=1,\n",
       "       param_grid={'max_depth': array([1, 2, 3, 4, 5, 6, 7, 8, 9])},\n",
       "       pre_dispatch='2*n_jobs', refit=True, return_train_score=True,\n",
       "       scoring='accuracy', verbose=0)"
      ]
     },
     "execution_count": 70,
     "metadata": {},
     "output_type": "execute_result"
    }
   ],
   "source": [
    "gridsearch.fit(x_train_fin, y_train_fin)"
   ]
  },
  {
   "cell_type": "code",
   "execution_count": 71,
   "metadata": {},
   "outputs": [
    {
     "name": "stderr",
     "output_type": "stream",
     "text": [
      "C:\\Users\\mrasskazov\\AppData\\Local\\Continuum\\Anaconda3\\lib\\site-packages\\sklearn\\model_selection\\_search.py:667: DeprecationWarning: The grid_scores_ attribute was deprecated in version 0.18 in favor of the more elaborate cv_results_ attribute. The grid_scores_ attribute will not be available from 0.20\n",
      "  DeprecationWarning)\n"
     ]
    },
    {
     "data": {
      "text/plain": [
       "[mean: 0.80618, std: 0.04056, params: {'max_depth': 5},\n",
       " mean: 0.80197, std: 0.02910, params: {'max_depth': 7},\n",
       " mean: 0.79916, std: 0.04372, params: {'max_depth': 6},\n",
       " mean: 0.79494, std: 0.02649, params: {'max_depth': 8},\n",
       " mean: 0.79213, std: 0.04683, params: {'max_depth': 1},\n",
       " mean: 0.79073, std: 0.04378, params: {'max_depth': 3},\n",
       " mean: 0.78230, std: 0.04850, params: {'max_depth': 2},\n",
       " mean: 0.77949, std: 0.02138, params: {'max_depth': 4},\n",
       " mean: 0.77949, std: 0.02540, params: {'max_depth': 9}]"
      ]
     },
     "execution_count": 71,
     "metadata": {},
     "output_type": "execute_result"
    }
   ],
   "source": [
    "sorted(gridsearch.grid_scores_, key=lambda x: -x.mean_validation_score)"
   ]
  },
  {
   "cell_type": "code",
   "execution_count": 72,
   "metadata": {
    "scrolled": true
   },
   "outputs": [
    {
     "name": "stderr",
     "output_type": "stream",
     "text": [
      "C:\\Users\\mrasskazov\\AppData\\Local\\Continuum\\Anaconda3\\lib\\site-packages\\sklearn\\model_selection\\_search.py:667: DeprecationWarning: The grid_scores_ attribute was deprecated in version 0.18 in favor of the more elaborate cv_results_ attribute. The grid_scores_ attribute will not be available from 0.20\n",
      "  DeprecationWarning)\n"
     ]
    },
    {
     "data": {
      "image/png": "[encoded data removed]",
      "text/plain": [
       "<matplotlib.figure.Figure at 0xf94b780>"
      ]
     },
     "metadata": {},
     "output_type": "display_data"
    }
   ],
   "source": [
    "scores=[-x.mean_validation_score for x in gridsearch.grid_scores_]\n",
    "pyplot.plot(depth, scores)\n",
    "pyplot.scatter(depth, scores)\n",
    "best_point=np.argmin(scores)\n",
    "pyplot.scatter(depth[best_point], scores[best_point],c='g', s=100);"
   ]
  },
  {
   "cell_type": "code",
   "execution_count": 73,
   "metadata": {
    "collapsed": true
   },
   "outputs": [],
   "source": [
    "from sklearn.metrics import accuracy_score"
   ]
  },
  {
   "cell_type": "code",
   "execution_count": 74,
   "metadata": {
    "collapsed": true
   },
   "outputs": [],
   "source": [
    "dt=DecisionTreeClassifier(max_depth=5)"
   ]
  },
  {
   "cell_type": "code",
   "execution_count": 75,
   "metadata": {},
   "outputs": [
    {
     "data": {
      "text/plain": [
       "DecisionTreeClassifier(class_weight=None, criterion='gini', max_depth=5,\n",
       "            max_features=None, max_leaf_nodes=None,\n",
       "            min_impurity_split=1e-07, min_samples_leaf=1,\n",
       "            min_samples_split=2, min_weight_fraction_leaf=0.0,\n",
       "            presort=False, random_state=None, splitter='best')"
      ]
     },
     "execution_count": 75,
     "metadata": {},
     "output_type": "execute_result"
    }
   ],
   "source": [
    "dt.fit(x_train_fin, y_train_fin)"
   ]
  },
  {
   "cell_type": "code",
   "execution_count": 76,
   "metadata": {
    "collapsed": true
   },
   "outputs": [],
   "source": [
    "y_cv_pred=dt.predict(x_cv)"
   ]
  },
  {
   "cell_type": "code",
   "execution_count": 77,
   "metadata": {},
   "outputs": [
    {
     "data": {
      "text/plain": [
       "0.82681564245810057"
      ]
     },
     "execution_count": 77,
     "metadata": {},
     "output_type": "execute_result"
    }
   ],
   "source": [
    "accuracy_score(y_cv, y_cv_pred)"
   ]
  },
  {
   "cell_type": "code",
   "execution_count": 78,
   "metadata": {
    "scrolled": true
   },
   "outputs": [
    {
     "data": {
      "text/plain": [
       "DecisionTreeClassifier(class_weight=None, criterion='gini', max_depth=5,\n",
       "            max_features=None, max_leaf_nodes=None,\n",
       "            min_impurity_split=1e-07, min_samples_leaf=1,\n",
       "            min_samples_split=2, min_weight_fraction_leaf=0.0,\n",
       "            presort=False, random_state=None, splitter='best')"
      ]
     },
     "execution_count": 78,
     "metadata": {},
     "output_type": "execute_result"
    }
   ],
   "source": [
    "dt.fit(x_train_sc, y_train)"
   ]
  },
  {
   "cell_type": "code",
   "execution_count": 79,
   "metadata": {
    "collapsed": true
   },
   "outputs": [],
   "source": [
    "prediction=dt.predict(x_test_sc)"
   ]
  },
  {
   "cell_type": "code",
   "execution_count": 80,
   "metadata": {
    "collapsed": true
   },
   "outputs": [],
   "source": [
    "submission='PassengerId,Survived\\n'\n",
    "submission+=\"\\n\".join(['{},{}'.format(pid,prediction) for pid, prediction in zip(df_test.PassengerId,prediction)])"
   ]
  },
  {
   "cell_type": "code",
   "execution_count": 81,
   "metadata": {
    "collapsed": true
   },
   "outputs": [],
   "source": [
    "with open ('submission.txt', 'w') as file:\n",
    "    file.write(submission)"
   ]
  },
  {
   "cell_type": "code",
   "execution_count": 82,
   "metadata": {
    "collapsed": true
   },
   "outputs": [],
   "source": [
    "from sklearn.tree import export_graphviz\n",
    "\n",
    "def get_tree_dot_view(clf, feature_names=None, class_names=None):\n",
    "    print(export_graphviz(clf, out_file=None, filled=True, feature_names=feature_names, class_names=class_names))"
   ]
  },
  {
   "cell_type": "code",
   "execution_count": 83,
   "metadata": {
    "collapsed": true
   },
   "outputs": [],
   "source": [
    "from sklearn.preprocessing import LabelEncoder as le"
   ]
  },
  {
   "cell_type": "code",
   "execution_count": 84,
   "metadata": {},
   "outputs": [
    {
     "name": "stdout",
     "output_type": "stream",
     "text": [
      "digraph Tree {\n",
      "node [shape=box, style=\"filled\", color=\"black\"] ;\n",
      "0 [label=\"is_Mr <= -0.1626\\ngini = 0.473\\nsamples = 891\\nvalue = [549, 342]\", fillcolor=\"#e5813960\"] ;\n",
      "1 [label=\"Pclass_3 <= -0.1027\\ngini = 0.4217\\nsamples = 374\\nvalue = [113, 261]\", fillcolor=\"#399de591\"] ;\n",
      "0 -> 1 [labeldistance=2.5, labelangle=45, headlabel=\"True\"] ;\n",
      "2 [label=\"isMale <= -0.3089\\ngini = 0.2094\\nsamples = 202\\nvalue = [24, 178]\", fillcolor=\"#399de5dd\"] ;\n",
      "1 -> 2 ;\n",
      "3 [label=\"Age <= -2.0122\\ngini = 0.1003\\nsamples = 170\\nvalue = [9, 161]\", fillcolor=\"#399de5f1\"] ;\n",
      "2 -> 3 ;\n",
      "4 [label=\"Pclass_1 <= 0.601\\ngini = 0.5\\nsamples = 2\\nvalue = [1, 1]\", fillcolor=\"#e5813900\"] ;\n",
      "3 -> 4 ;\n",
      "5 [label=\"gini = 0.0\\nsamples = 1\\nvalue = [0, 1]\", fillcolor=\"#399de5ff\"] ;\n",
      "4 -> 5 ;\n",
      "6 [label=\"gini = 0.0\\nsamples = 1\\nvalue = [1, 0]\", fillcolor=\"#e58139ff\"] ;\n",
      "4 -> 6 ;\n",
      "7 [label=\"Fare <= -0.0674\\ngini = 0.0907\\nsamples = 168\\nvalue = [8, 160]\", fillcolor=\"#399de5f2\"] ;\n",
      "3 -> 7 ;\n",
      "8 [label=\"gini = 0.1823\\nsamples = 69\\nvalue = [7, 62]\", fillcolor=\"#399de5e2\"] ;\n",
      "7 -> 8 ;\n",
      "9 [label=\"gini = 0.02\\nsamples = 99\\nvalue = [1, 98]\", fillcolor=\"#399de5fc\"] ;\n",
      "7 -> 9 ;\n",
      "10 [label=\"is_Master <= 2.1978\\ngini = 0.498\\nsamples = 32\\nvalue = [15, 17]\", fillcolor=\"#399de51e\"] ;\n",
      "2 -> 10 ;\n",
      "11 [label=\"Fare <= -0.0623\\ngini = 0.375\\nsamples = 20\\nvalue = [15, 5]\", fillcolor=\"#e58139aa\"] ;\n",
      "10 -> 11 ;\n",
      "12 [label=\"gini = 0.0\\nsamples = 11\\nvalue = [11, 0]\", fillcolor=\"#e58139ff\"] ;\n",
      "11 -> 12 ;\n",
      "13 [label=\"gini = 0.4938\\nsamples = 9\\nvalue = [4, 5]\", fillcolor=\"#399de533\"] ;\n",
      "11 -> 13 ;\n",
      "14 [label=\"gini = 0.0\\nsamples = 12\\nvalue = [0, 12]\", fillcolor=\"#399de5ff\"] ;\n",
      "10 -> 14 ;\n",
      "15 [label=\"Fare <= -0.1783\\ngini = 0.4994\\nsamples = 172\\nvalue = [89, 83]\", fillcolor=\"#e5813911\"] ;\n",
      "1 -> 15 ;\n",
      "16 [label=\"Age <= 0.5001\\ngini = 0.4725\\nsamples = 128\\nvalue = [49, 79]\", fillcolor=\"#399de561\"] ;\n",
      "15 -> 16 ;\n",
      "17 [label=\"Age <= -2.0747\\ngini = 0.4582\\nsamples = 121\\nvalue = [43, 78]\", fillcolor=\"#399de572\"] ;\n",
      "16 -> 17 ;\n",
      "18 [label=\"gini = 0.0\\nsamples = 8\\nvalue = [0, 8]\", fillcolor=\"#399de5ff\"] ;\n",
      "17 -> 18 ;\n",
      "19 [label=\"gini = 0.4715\\nsamples = 113\\nvalue = [43, 70]\", fillcolor=\"#399de562\"] ;\n",
      "17 -> 19 ;\n",
      "20 [label=\"Age <= 1.867\\ngini = 0.2449\\nsamples = 7\\nvalue = [6, 1]\", fillcolor=\"#e58139d4\"] ;\n",
      "16 -> 20 ;\n",
      "21 [label=\"gini = 0.0\\nsamples = 6\\nvalue = [6, 0]\", fillcolor=\"#e58139ff\"] ;\n",
      "20 -> 21 ;\n",
      "22 [label=\"gini = 0.0\\nsamples = 1\\nvalue = [0, 1]\", fillcolor=\"#399de5ff\"] ;\n",
      "20 -> 22 ;\n",
      "23 [label=\"Fare <= 0.0136\\ngini = 0.1653\\nsamples = 44\\nvalue = [40, 4]\", fillcolor=\"#e58139e6\"] ;\n",
      "15 -> 23 ;\n",
      "24 [label=\"Fare <= -0.0176\\ngini = 0.2449\\nsamples = 28\\nvalue = [24, 4]\", fillcolor=\"#e58139d4\"] ;\n",
      "23 -> 24 ;\n",
      "25 [label=\"gini = 0.0799\\nsamples = 24\\nvalue = [23, 1]\", fillcolor=\"#e58139f4\"] ;\n",
      "24 -> 25 ;\n",
      "26 [label=\"gini = 0.375\\nsamples = 4\\nvalue = [1, 3]\", fillcolor=\"#399de5aa\"] ;\n",
      "24 -> 26 ;\n",
      "27 [label=\"gini = 0.0\\nsamples = 16\\nvalue = [16, 0]\", fillcolor=\"#e58139ff\"] ;\n",
      "23 -> 27 ;\n",
      "28 [label=\"Fare <= -0.1195\\ngini = 0.2643\\nsamples = 517\\nvalue = [436, 81]\", fillcolor=\"#e58139d0\"] ;\n",
      "0 -> 28 [labeldistance=2.5, labelangle=-45, headlabel=\"False\"] ;\n",
      "29 [label=\"Cabin__D <= 2.4515\\ngini = 0.18\\nsamples = 390\\nvalue = [351, 39]\", fillcolor=\"#e58139e3\"] ;\n",
      "28 -> 29 ;\n",
      "30 [label=\"Age <= 0.2001\\ngini = 0.1767\\nsamples = 388\\nvalue = [350, 38]\", fillcolor=\"#e58139e3\"] ;\n",
      "29 -> 30 ;\n",
      "31 [label=\"Age <= 0.0918\\ngini = 0.2093\\nsamples = 261\\nvalue = [230, 31]\", fillcolor=\"#e58139dd\"] ;\n",
      "30 -> 31 ;\n",
      "32 [label=\"gini = 0.1733\\nsamples = 240\\nvalue = [217, 23]\", fillcolor=\"#e58139e4\"] ;\n",
      "31 -> 32 ;\n",
      "33 [label=\"gini = 0.4717\\nsamples = 21\\nvalue = [13, 8]\", fillcolor=\"#e5813962\"] ;\n",
      "31 -> 33 ;\n",
      "34 [label=\"Fare <= -0.4891\\ngini = 0.1042\\nsamples = 127\\nvalue = [120, 7]\", fillcolor=\"#e58139f0\"] ;\n",
      "30 -> 34 ;\n",
      "35 [label=\"gini = 0.0333\\nsamples = 59\\nvalue = [58, 1]\", fillcolor=\"#e58139fb\"] ;\n",
      "34 -> 35 ;\n",
      "36 [label=\"gini = 0.1609\\nsamples = 68\\nvalue = [62, 6]\", fillcolor=\"#e58139e6\"] ;\n",
      "34 -> 36 ;\n",
      "37 [label=\"Embarked_C <= 0.7962\\ngini = 0.5\\nsamples = 2\\nvalue = [1, 1]\", fillcolor=\"#e5813900\"] ;\n",
      "29 -> 37 ;\n",
      "38 [label=\"gini = 0.0\\nsamples = 1\\nvalue = [0, 1]\", fillcolor=\"#399de5ff\"] ;\n",
      "37 -> 38 ;\n",
      "39 [label=\"gini = 0.0\\nsamples = 1\\nvalue = [1, 0]\", fillcolor=\"#e58139ff\"] ;\n",
      "37 -> 39 ;\n",
      "40 [label=\"Fare <= -0.1093\\ngini = 0.4427\\nsamples = 127\\nvalue = [85, 42]\", fillcolor=\"#e5813981\"] ;\n",
      "28 -> 40 ;\n",
      "41 [label=\"Age <= 1.7562\\ngini = 0.4297\\nsamples = 16\\nvalue = [5, 11]\", fillcolor=\"#399de58b\"] ;\n",
      "40 -> 41 ;\n",
      "42 [label=\"Cabin__C <= 1.7445\\ngini = 0.1528\\nsamples = 12\\nvalue = [1, 11]\", fillcolor=\"#399de5e8\"] ;\n",
      "41 -> 42 ;\n",
      "43 [label=\"gini = 0.0\\nsamples = 10\\nvalue = [0, 10]\", fillcolor=\"#399de5ff\"] ;\n",
      "42 -> 43 ;\n",
      "44 [label=\"gini = 0.5\\nsamples = 2\\nvalue = [1, 1]\", fillcolor=\"#e5813900\"] ;\n",
      "42 -> 44 ;\n",
      "45 [label=\"gini = 0.0\\nsamples = 4\\nvalue = [4, 0]\", fillcolor=\"#e58139ff\"] ;\n",
      "41 -> 45 ;\n",
      "46 [label=\"Pclass_2 <= 0.725\\ngini = 0.4026\\nsamples = 111\\nvalue = [80, 31]\", fillcolor=\"#e581399c\"] ;\n",
      "40 -> 46 ;\n",
      "47 [label=\"Age <= 0.9386\\ngini = 0.4325\\nsamples = 98\\nvalue = [67, 31]\", fillcolor=\"#e5813989\"] ;\n",
      "46 -> 47 ;\n",
      "48 [label=\"gini = 0.4837\\nsamples = 61\\nvalue = [36, 25]\", fillcolor=\"#e581394e\"] ;\n",
      "47 -> 48 ;\n",
      "49 [label=\"gini = 0.2717\\nsamples = 37\\nvalue = [31, 6]\", fillcolor=\"#e58139ce\"] ;\n",
      "47 -> 49 ;\n",
      "50 [label=\"gini = 0.0\\nsamples = 13\\nvalue = [13, 0]\", fillcolor=\"#e58139ff\"] ;\n",
      "46 -> 50 ;\n",
      "}\n"
     ]
    }
   ],
   "source": [
    "get_tree_dot_view(dt, list(x_train_sc.columns))"
   ]
  },
  {
   "cell_type": "code",
   "execution_count": null,
   "metadata": {
    "collapsed": true
   },
   "outputs": [],
   "source": []
  },
  {
   "cell_type": "code",
   "execution_count": null,
   "metadata": {
    "collapsed": true
   },
   "outputs": [],
   "source": []
  }
 ],
 "metadata": {
  "kernelspec": {
   "display_name": "Python 3",
   "language": "python",
   "name": "python3"
  },
  "language_info": {
   "codemirror_mode": {
    "name": "ipython",
    "version": 3
   },
   "file_extension": ".py",
   "mimetype": "text/x-python",
   "name": "python",
   "nbconvert_exporter": "python",
   "pygments_lexer": "ipython3",
   "version": "3.6.1"
  }
 },
 "nbformat": 4,
 "nbformat_minor": 2
}
