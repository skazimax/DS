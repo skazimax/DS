{
 "cells": [
  {
   "cell_type": "code",
   "execution_count": 54,
   "metadata": {},
   "outputs": [],
   "source": [
    "from keras.preprocessing.image import ImageDataGenerator, array_to_img, img_to_array, load_img\n",
    "import os\n",
    "import pandas as pd\n",
    "from glob import glob\n",
    "import matplotlib.pyplot as plt\n",
    "import numpy as np\n",
    "%matplotlib inline\n",
    "from tqdm import tqdm_notebook as progress"
   ]
  },
  {
   "cell_type": "code",
   "execution_count": 57,
   "metadata": {},
   "outputs": [
    {
     "name": "stdout",
     "output_type": "stream",
     "text": [
      "1\n",
      "C:/Temp/test/1\\15.jpg\n",
      "2\n",
      "C:/Temp/test/2\\1.jpg\n",
      "3\n",
      "C:/Temp/test/3\\10.jpg\n",
      "C:/Temp/test/3\\11.jpg\n",
      "C:/Temp/test/3\\12.jpg\n",
      "C:/Temp/test/3\\13.jpg\n"
     ]
    }
   ],
   "source": [
    "datagen = ImageDataGenerator(\n",
    "        rotation_range=40,\n",
    "        width_shift_range=0.2,\n",
    "        height_shift_range=0.2,\n",
    "        shear_range=0.2,\n",
    "        zoom_range=0.2,\n",
    "        horizontal_flip=True,\n",
    "        fill_mode='nearest')\n",
    "\n",
    "for f in os.listdir('C:/Temp/test/'):\n",
    "    print(f)\n",
    "    \n",
    "    for x1 in glob('C:/Temp/test/' + f + '/*.jp*'):\n",
    "        print(x1)\n",
    "        iter = (10/(len(os.listdir('C:/Temp/test/' + f))))-1\n",
    "        if len(os.listdir('C:/Temp/test/' + f)) > 10:\n",
    "            break\n",
    "        else:\n",
    "            img = load_img(x1, target_size=(299,299))  # this is a PIL image\n",
    "            x = img_to_array(img)  # this is a Numpy array with shape (3, 150, 150)\n",
    "            x = x.reshape((1,) + x.shape)  # this is a Numpy array with shape (1, 3, 150, 150)\n",
    "            i = 0\n",
    "            for batch in datagen.flow(x, batch_size=1,\n",
    "                          save_to_dir='C:/Temp/test/' + f, save_prefix='aug', save_format='jpeg'):\n",
    "                i += 1\n",
    "                if i >= iter:\n",
    "                    break  # otherwise the generator would loop indefinitely\n"
   ]
  },
  {
   "cell_type": "code",
   "execution_count": 30,
   "metadata": {},
   "outputs": [
    {
     "data": {
      "text/plain": [
       "['1', '2', '3']"
      ]
     },
     "execution_count": 30,
     "metadata": {},
     "output_type": "execute_result"
    }
   ],
   "source": [
    "os.listdir('C:/Temp/test/')"
   ]
  },
  {
   "cell_type": "code",
   "execution_count": null,
   "metadata": {
    "collapsed": true
   },
   "outputs": [],
   "source": []
  }
 ],
 "metadata": {
  "kernelspec": {
   "display_name": "Python 3",
   "language": "python",
   "name": "python3"
  },
  "language_info": {
   "codemirror_mode": {
    "name": "ipython",
    "version": 3
   },
   "file_extension": ".py",
   "mimetype": "text/x-python",
   "name": "python",
   "nbconvert_exporter": "python",
   "pygments_lexer": "ipython3",
   "version": "3.6.1"
  }
 },
 "nbformat": 4,
 "nbformat_minor": 2
}
