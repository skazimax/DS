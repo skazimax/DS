{
 "cells": [
  {
   "cell_type": "markdown",
   "metadata": {},
   "source": [
    "# Реализация логистической регрессии в TensorFlow"
   ]
  },
  {
   "cell_type": "code",
   "execution_count": 1,
   "metadata": {
    "collapsed": true
   },
   "outputs": [],
   "source": [
    "import numpy as np\n",
    "import tensorflow as tf"
   ]
  },
  {
   "cell_type": "code",
   "execution_count": 12,
   "metadata": {
    "collapsed": true
   },
   "outputs": [],
   "source": [
    "%matplotlib inline\n",
    "from matplotlib import pyplot as plt"
   ]
  },
  {
   "cell_type": "markdown",
   "metadata": {},
   "source": [
    "## Генерируем данные для задачи регрессии"
   ]
  },
  {
   "cell_type": "code",
   "execution_count": 72,
   "metadata": {
    "collapsed": true
   },
   "outputs": [],
   "source": [
    "NUM_FEATURES = 3\n",
    "NUM_SAMPLES = 2000"
   ]
  },
  {
   "cell_type": "code",
   "execution_count": 73,
   "metadata": {},
   "outputs": [
    {
     "data": {
      "image/png": "[encoded data removed]",
      "text/plain": [
       "<matplotlib.figure.Figure at 0x23327158978>"
      ]
     },
     "metadata": {},
     "output_type": "display_data"
    }
   ],
   "source": [
    "from sklearn.datasets import make_classification\n",
    "\n",
    "X, y = make_classification(n_samples = NUM_SAMPLES,\n",
    "                           n_features = NUM_FEATURES,\n",
    "                           n_informative = NUM_FEATURES,\n",
    "                           n_redundant = 0,\n",
    "                           n_classes = 2,\n",
    "                           n_clusters_per_class = 1,\n",
    "                           class_sep = 0.75,\n",
    "                           random_state = 54312)\n",
    "\n",
    "y = y.reshape(-1, 1)\n",
    "\n",
    "ones = np.where(y == 1)   # индексы объектов класса '1'\n",
    "zeros = np.where(y == 0)  # индексы объектов класса '0'\n",
    "\n",
    "plt.xlabel('x')\n",
    "plt.ylabel('y')\n",
    "plt.plot(X[ones, 0], X[ones, 1], 'ob',\n",
    "         X[zeros, 0], X[zeros, 1], 'or');"
   ]
  },
  {
   "cell_type": "markdown",
   "metadata": {},
   "source": [
    "## Вспомогательная функция для создания операций"
   ]
  },
  {
   "cell_type": "code",
   "execution_count": 74,
   "metadata": {
    "collapsed": true
   },
   "outputs": [],
   "source": [
    "import random\n",
    "import string\n",
    "\n",
    "def py_func_with_grad(func, inp, Tout, grad, name = None, stateful = False, graph = None):\n",
    "    \n",
    "    name_prefix = ''.join(random.choices(string.ascii_letters, k = 10))\n",
    "    \n",
    "    name = '%s_%s' % (name_prefix, name or '')\n",
    "    grad_func_name = '%s_grad' % name\n",
    "\n",
    "    tf.RegisterGradient(grad_func_name)(grad)\n",
    "\n",
    "    g = graph or tf.get_default_graph()\n",
    "    with g.gradient_override_map({'PyFunc': grad_func_name, \n",
    "                                  'PyFuncStateless': grad_func_name}):\n",
    "        with tf.name_scope(name, 'PyFuncOp', inp):\n",
    "            return tf.py_func(func, inp, Tout, stateful = stateful, name = name)"
   ]
  },
  {
   "cell_type": "markdown",
   "metadata": {},
   "source": [
    "## Реализация линейной опреаций"
   ]
  },
  {
   "cell_type": "code",
   "execution_count": 75,
   "metadata": {
    "collapsed": true
   },
   "outputs": [],
   "source": [
    "def linear_op_forward(X, W):\n",
    "    ''' Реализация линейной операции '''\n",
    "    return np.dot(X, W.T)  # аргументы являются numpy-массивами\n",
    "\n",
    "def linear_op_backward(op, grads):\n",
    "    ''' Реализация вычисления градиента линейной операции '''\n",
    "    X = op.inputs[0]  # тензор входных данных\n",
    "    W = op.inputs[1]  # тензор параметров модели\n",
    "    dX = tf.multiply(grads, W)\n",
    "    dW = tf.reduce_sum(tf.multiply(X, grads),\n",
    "                       axis = 0,\n",
    "                       keep_dims = True)\n",
    "    return dX, dW\n",
    "\n",
    "def sigmoid_op_forward(X):\n",
    "    # TODO: реализовать операцию sigmoid\n",
    "    return 1 / (1 + np.exp(-X))\n",
    "\n",
    "def sigmoid_op_backward(op, grads):\n",
    "    # TODO: реализовать вычисление градиента для sigmoid\n",
    "    \n",
    "    sigmoid = op.outputs[0]\n",
    "    return sigmoid * (1 - sigmoid) * grads"
   ]
  },
  {
   "cell_type": "markdown",
   "metadata": {},
   "source": [
    "## Создание графа вычислений и обучение модели"
   ]
  },
  {
   "cell_type": "code",
   "execution_count": 76,
   "metadata": {
    "scrolled": false
   },
   "outputs": [
    {
     "name": "stdout",
     "output_type": "stream",
     "text": [
      "[000] loss=0.706 weights=[[ 0.49612096  0.34329516  0.15591705]]\n",
      "[010] loss=0.602 weights=[[ 0.93416059  0.80239236 -0.33505493]]\n",
      "[020] loss=0.573 weights=[[ 1.18136072  1.03840625 -0.54706973]]\n",
      "[030] loss=0.541 weights=[[ 1.36098254  1.207569   -0.66757756]]\n",
      "[040] loss=0.551 weights=[[ 1.50591397  1.33199477 -0.7536869 ]]\n",
      "[050] loss=0.561 weights=[[ 1.6293509   1.42948556 -0.81445974]]\n",
      "[060] loss=0.539 weights=[[ 1.73804998  1.52104962 -0.86099398]]\n",
      "[070] loss=0.547 weights=[[ 1.83078015  1.59625196 -0.90546268]]\n",
      "[080] loss=0.545 weights=[[ 1.92114627  1.66026986 -0.93919569]]\n",
      "[090] loss=0.558 weights=[[ 1.99343002  1.72665322 -0.96672183]]\n",
      "[100] loss=0.553 weights=[[ 2.06226087  1.78182399 -0.99549192]]\n",
      "[110] loss=0.536 weights=[[ 2.12911201  1.83344567 -1.0167259 ]]\n",
      "[120] loss=0.524 weights=[[ 2.193923    1.87517512 -1.03702343]]\n",
      "[130] loss=0.519 weights=[[ 2.2452364   1.9245162  -1.06272006]]\n",
      "[140] loss=0.534 weights=[[ 2.30196691  1.96422327 -1.07524705]]\n",
      "[150] loss=0.559 weights=[[ 2.35035062  1.9996624  -1.09666133]]\n",
      "[160] loss=0.534 weights=[[ 2.40044737  2.04025865 -1.10089123]]\n",
      "[170] loss=0.562 weights=[[ 2.44645286  2.07374811 -1.12207997]]\n",
      "[180] loss=0.551 weights=[[ 2.49011421  2.1043601  -1.13699079]]\n",
      "[190] loss=0.570 weights=[[ 2.53574109  2.13078332 -1.15144122]]\n",
      "[200] loss=0.561 weights=[[ 2.56665158  2.16853333 -1.16715491]]\n",
      "[210] loss=0.531 weights=[[ 2.61429191  2.1887536  -1.17632401]]\n",
      "[220] loss=0.521 weights=[[ 2.65007758  2.21723628 -1.18924475]]\n",
      "[230] loss=0.551 weights=[[ 2.68211913  2.24364066 -1.20330751]]\n",
      "[240] loss=0.553 weights=[[ 2.72018123  2.26750946 -1.21112883]]\n",
      "[250] loss=0.561 weights=[[ 2.75206685  2.29369664 -1.22192156]]\n",
      "[260] loss=0.535 weights=[[ 2.78669596  2.31340051 -1.2319026 ]]\n",
      "[270] loss=0.554 weights=[[ 2.81916404  2.33496451 -1.24119806]]\n",
      "[280] loss=0.562 weights=[[ 2.84779263  2.35717607 -1.25188875]]\n",
      "[290] loss=0.554 weights=[[ 2.87442684  2.38151479 -1.26045001]]\n",
      "[300] loss=0.552 weights=[[ 2.90427828  2.40062213 -1.27113736]]\n",
      "[310] loss=0.578 weights=[[ 2.93256068  2.41859674 -1.2794106 ]]\n",
      "[320] loss=0.530 weights=[[ 2.96170139  2.43785572 -1.28485453]]\n",
      "[330] loss=0.560 weights=[[ 2.98624539  2.45764232 -1.29410517]]\n",
      "[340] loss=0.547 weights=[[ 3.01346302  2.47173023 -1.30642951]]\n",
      "[350] loss=0.532 weights=[[ 3.035707    2.49318552 -1.31370425]]\n",
      "[360] loss=0.560 weights=[[ 3.06360197  2.50724077 -1.31976151]]\n",
      "[370] loss=0.497 weights=[[ 3.08764362  2.52699685 -1.32449734]]\n",
      "[380] loss=0.534 weights=[[ 3.10638332  2.5462923  -1.3363632 ]]\n",
      "[390] loss=0.519 weights=[[ 3.13663936  2.55328631 -1.34246182]]\n",
      "[400] loss=0.541 weights=[[ 3.15135431  2.57643151 -1.35333896]]\n",
      "[410] loss=0.543 weights=[[ 3.17622519  2.58919287 -1.35612655]]\n",
      "[420] loss=0.557 weights=[[ 3.19603109  2.6065948  -1.3651278 ]]\n",
      "[430] loss=0.567 weights=[[ 3.22052884  2.61802125 -1.36865115]]\n",
      "[440] loss=0.519 weights=[[ 3.24003339  2.63275194 -1.37906432]]\n",
      "[450] loss=0.532 weights=[[ 3.25601959  2.65169191 -1.38327146]]\n",
      "[460] loss=0.518 weights=[[ 3.27858377  2.66249037 -1.39099443]]\n",
      "[470] loss=0.535 weights=[[ 3.29608035  2.67538476 -1.40216994]]\n",
      "[480] loss=0.545 weights=[[ 3.31857204  2.68773985 -1.40490854]]\n",
      "[490] loss=0.584 weights=[[ 3.33798432  2.69976783 -1.41315413]]\n"
     ]
    }
   ],
   "source": [
    "BATCH_SIZE = NUM_SAMPLES // 10\n",
    "\n",
    "weights = None  # в этой переменной мы сохраним результат обучения модели\n",
    "learning_curve = []  # значения ошибки на каждой итерации обучения\n",
    "\n",
    "with tf.Session(graph = tf.Graph()) as sess:  # инициализируем сессию вычислений\n",
    "    \n",
    "    # создаем placeholdr'ы, через них мы будем\n",
    "    # передавать внешние данные в граф вычислений\n",
    "    plh_X = tf.placeholder(dtype = tf.float32, shape = [None, NUM_FEATURES])\n",
    "    plh_labels = tf.placeholder(dtype = tf.float32, shape = [None, 1])\n",
    "\n",
    "    # создаем переменную для хранения весов модели\n",
    "    # эти веса будут изменяться в процессе обучения\n",
    "    var_W = tf.Variable(tf.random_uniform(shape = [1, NUM_FEATURES],\n",
    "                                          dtype = tf.float32,\n",
    "                                          seed = 54321))\n",
    "    \n",
    "    # создаем переменную для результата предсказания модели\n",
    "    var_Pred = py_func_with_grad(linear_op_forward,         # функция предсказания модели \n",
    "                                 [plh_X, var_W],            # аргументы функции\n",
    "                                 [tf.float32],              # тип выходных значений\n",
    "                                 name = 'linear_op',        # имя операции \n",
    "                                 grad = linear_op_backward, # функция для вычисления градиента\n",
    "                                 graph = sess.graph)        # объект графа вчислений\n",
    "    \n",
    "    # создаем переменную для результата операции sigmoid\n",
    "    var_Sigmoid = py_func_with_grad(sigmoid_op_forward,\n",
    "                                    [var_Pred],\n",
    "                                    [tf.float32],\n",
    "                                    name = 'sigmoid_op',\n",
    "                                    grad = sigmoid_op_backward,\n",
    "                                    graph = sess.graph)\n",
    "    \n",
    "    # кроссэнтропийная функция потерь для бмнарной классификации\n",
    "    cost = tf.losses.sigmoid_cross_entropy(plh_labels, var_Sigmoid)\n",
    "    \n",
    "    # инициализируем оптимизатор и указываем скорость обучения\n",
    "    optimizer = tf.train.GradientDescentOptimizer(learning_rate = 0.9).minimize(cost)\n",
    "\n",
    "    # инициализируем placeholder'ы и переменные\n",
    "    sess.run(tf.global_variables_initializer())\n",
    "    \n",
    "    indices = np.arange(len(X))  # массив индексов объектов\n",
    "    \n",
    "    # выполняем итерации по 10-ти эпохам\n",
    "    for epoch in range(50):\n",
    "        \n",
    "        # вначале каждой эпохи перемешиваем индексы\n",
    "        np.random.shuffle(indices)\n",
    "        \n",
    "        # внутри каждой эпохи данные разбиваются на батчи\n",
    "        for batch in range(len(X) // BATCH_SIZE):\n",
    "            \n",
    "            # выбираем индексы очередного батча\n",
    "            batch_indices = indices[batch * BATCH_SIZE:(batch + 1) * BATCH_SIZE]\n",
    "\n",
    "            # выполняем шаг обучения: вычисляем ошибку и обновляем веса\n",
    "            loss, _ = sess.run([cost, optimizer],  # указываем, какие операции необходимо выполнить\n",
    "                               feed_dict = {plh_X: X[batch_indices],  # передаем входные данные для вычисления\n",
    "                                            plh_labels: y[batch_indices]})\n",
    "        \n",
    "            # сохраняем занчения ошибки для построения кривой обучения\n",
    "            learning_curve.append(loss)\n",
    "            \n",
    "            # выводим текущее значение ошибки для каждого 10го шага\n",
    "            steps = len(learning_curve) - 1\n",
    "            if steps % 10 == 0:\n",
    "                print('[%03d] loss=%.3f weights=%s' % (steps, loss, var_W.eval()))\n",
    "    \n",
    "    # сохраняем обученные веса\n",
    "    weights = var_W.eval()"
   ]
  },
  {
   "cell_type": "markdown",
   "metadata": {},
   "source": [
    "## Визуализируем кривую обучения"
   ]
  },
  {
   "cell_type": "code",
   "execution_count": 77,
   "metadata": {},
   "outputs": [
    {
     "data": {
      "image/png": "[encoded data removed]",
      "text/plain": [
       "<matplotlib.figure.Figure at 0x2331cdde9e8>"
      ]
     },
     "metadata": {},
     "output_type": "display_data"
    }
   ],
   "source": [
    "plt.xlabel('step')\n",
    "plt.ylabel('loss')\n",
    "plt.title('Learning curve')\n",
    "plt.plot(learning_curve);"
   ]
  },
  {
   "cell_type": "markdown",
   "metadata": {},
   "source": [
    "## Визуализируем разделяющую гиперплоскость"
   ]
  },
  {
   "cell_type": "code",
   "execution_count": 78,
   "metadata": {},
   "outputs": [
    {
     "data": {
      "image/png": "[encoded data removed]",
      "text/plain": [
       "<matplotlib.figure.Figure at 0x23318412c50>"
      ]
     },
     "metadata": {},
     "output_type": "display_data"
    }
   ],
   "source": [
    "y_pred = - X[:, 0] * weights[0, 0] / weights[0, 1]\n",
    "\n",
    "order = np.argsort(X[:, 0])\n",
    "\n",
    "plt.xlabel('x')\n",
    "plt.ylabel('y')\n",
    "plt.plot(X[ones, 0], X[ones, 1], 'ob',\n",
    "         X[zeros, 0], X[zeros, 1], 'or',\n",
    "         X[order, 0], y_pred[order], '-g');"
   ]
  },
  {
   "cell_type": "code",
   "execution_count": null,
   "metadata": {
    "collapsed": true
   },
   "outputs": [],
   "source": []
  }
 ],
 "metadata": {
  "kernelspec": {
   "display_name": "Python 3",
   "language": "python",
   "name": "python3"
  },
  "language_info": {
   "codemirror_mode": {
    "name": "ipython",
    "version": 3
   },
   "file_extension": ".py",
   "mimetype": "text/x-python",
   "name": "python",
   "nbconvert_exporter": "python",
   "pygments_lexer": "ipython3",
   "version": "3.6.1"
  }
 },
 "nbformat": 4,
 "nbformat_minor": 2
}
