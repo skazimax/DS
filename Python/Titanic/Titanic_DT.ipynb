{
 "cells": [
  {
   "cell_type": "code",
   "execution_count": 1,
   "metadata": {
    "collapsed": true
   },
   "outputs": [],
   "source": [
    "import numpy as np\n",
    "import pandas as pd\n",
    "from matplotlib import pyplot\n",
    "%matplotlib inline\n",
    "import seaborn as sb"
   ]
  },
  {
   "cell_type": "code",
   "execution_count": 2,
   "metadata": {
    "collapsed": true
   },
   "outputs": [],
   "source": [
    "df_train=pd.read_csv('train.csv')\n",
    "df_test=pd.read_csv('test.csv')"
   ]
  },
  {
   "cell_type": "code",
   "execution_count": 3,
   "metadata": {
    "collapsed": true
   },
   "outputs": [],
   "source": [
    "y_train=df_train.Survived"
   ]
  },
  {
   "cell_type": "code",
   "execution_count": 4,
   "metadata": {
    "collapsed": true
   },
   "outputs": [],
   "source": [
    "df_train.drop('Survived', axis=1, inplace=True)"
   ]
  },
  {
   "cell_type": "code",
   "execution_count": 5,
   "metadata": {
    "scrolled": true
   },
   "outputs": [
    {
     "data": {
      "text/plain": [
       "array([ True,  True,  True,  True,  True,  True,  True,  True,  True,\n",
       "        True,  True], dtype=bool)"
      ]
     },
     "execution_count": 5,
     "metadata": {},
     "output_type": "execute_result"
    }
   ],
   "source": [
    "df_train.columns==df_test.columns"
   ]
  },
  {
   "cell_type": "code",
   "execution_count": 6,
   "metadata": {
    "collapsed": true
   },
   "outputs": [],
   "source": [
    "df_train['is_test']=0"
   ]
  },
  {
   "cell_type": "code",
   "execution_count": 7,
   "metadata": {
    "collapsed": true
   },
   "outputs": [],
   "source": [
    "df_test['is_test']=1"
   ]
  },
  {
   "cell_type": "code",
   "execution_count": 8,
   "metadata": {
    "collapsed": true
   },
   "outputs": [],
   "source": [
    "df1=pd.concat([df_test,df_train])"
   ]
  },
  {
   "cell_type": "code",
   "execution_count": 9,
   "metadata": {
    "collapsed": true
   },
   "outputs": [],
   "source": [
    "df1['isMale']=df1.Sex.replace({'male':1,'female':0})"
   ]
  },
  {
   "cell_type": "code",
   "execution_count": 10,
   "metadata": {},
   "outputs": [],
   "source": [
    "df1['is_Miss']=df1.Name.str.contains('Miss').astype(int)\n",
    "df1['is_Master']=df1.Name.str.contains('Master').astype(int)\n",
    "df1['is_Mr']=df1.Name.str.contains(r'(?:\\s|^)Mr.(?:\\s|$)').astype(int)\n",
    "df1['is_Mrs']=df1.Name.str.contains(r'(?:\\s|^)Mrs.(?:\\s|$)').astype(int)"
   ]
  },
  {
   "cell_type": "code",
   "execution_count": 11,
   "metadata": {},
   "outputs": [],
   "source": [
    "df1['Cabin_']=df1.Cabin.str[0]"
   ]
  },
  {
   "cell_type": "code",
   "execution_count": 12,
   "metadata": {},
   "outputs": [],
   "source": [
    "df1['is_Family']=df1['SibSp'].loc[(df1['SibSp']>0) & df1['SibSp']<3].astype(bool).astype(int)"
   ]
  },
  {
   "cell_type": "code",
   "execution_count": 13,
   "metadata": {
    "collapsed": true
   },
   "outputs": [],
   "source": [
    "#df1['is_Family']=(df1.SibSp>1).astype(int)"
   ]
  },
  {
   "cell_type": "code",
   "execution_count": 14,
   "metadata": {
    "collapsed": true
   },
   "outputs": [],
   "source": [
    "df1_1=pd.get_dummies(df1,columns=['Pclass','Embarked', 'Cabin_'])"
   ]
  },
  {
   "cell_type": "code",
   "execution_count": 15,
   "metadata": {
    "collapsed": true
   },
   "outputs": [],
   "source": [
    "df1_1.drop(['PassengerId', 'Name','Cabin', 'Ticket', 'Sex', 'SibSp'], inplace=True, axis=1)"
   ]
  },
  {
   "cell_type": "code",
   "execution_count": 16,
   "metadata": {
    "collapsed": true
   },
   "outputs": [],
   "source": [
    "df1_1['Fare'].fillna(df1_1['Fare'].loc[(df1_1['Pclass_3']==1) & (df1_1['Age']>50)].mean(), inplace=True)"
   ]
  },
  {
   "cell_type": "markdown",
   "metadata": {},
   "source": [
    "Предсказываем возраст."
   ]
  },
  {
   "cell_type": "code",
   "execution_count": 17,
   "metadata": {
    "collapsed": true
   },
   "outputs": [],
   "source": [
    "df2_train_Age=df1_1[df1_1['Age'].notnull()].drop(['is_test'], axis=1)"
   ]
  },
  {
   "cell_type": "code",
   "execution_count": 18,
   "metadata": {
    "collapsed": true
   },
   "outputs": [],
   "source": [
    "df2_test_Age=df1_1[df1_1['Age'].isnull()].drop(['Age','is_test'], axis=1)"
   ]
  },
  {
   "cell_type": "code",
   "execution_count": 19,
   "metadata": {},
   "outputs": [],
   "source": [
    "y_Age=df2_train_Age.Age"
   ]
  },
  {
   "cell_type": "code",
   "execution_count": 20,
   "metadata": {},
   "outputs": [
    {
     "data": {
      "text/plain": [
       "Series([], Name: Age, dtype: float64)"
      ]
     },
     "execution_count": 20,
     "metadata": {},
     "output_type": "execute_result"
    }
   ],
   "source": [
    "y_Age[y_Age==0]"
   ]
  },
  {
   "cell_type": "code",
   "execution_count": 21,
   "metadata": {
    "collapsed": true
   },
   "outputs": [],
   "source": [
    "df2_train_Age.drop(['Age'], axis=1, inplace=True)"
   ]
  },
  {
   "cell_type": "code",
   "execution_count": 22,
   "metadata": {
    "collapsed": true
   },
   "outputs": [],
   "source": [
    "from sklearn.model_selection import train_test_split\n",
    "from sklearn.metrics import accuracy_score"
   ]
  },
  {
   "cell_type": "code",
   "execution_count": 23,
   "metadata": {
    "collapsed": true
   },
   "outputs": [],
   "source": [
    "X_Age_train, X_Age_val, Y_Age_train, Y_Age_val=train_test_split(df2_train_Age, y_Age)"
   ]
  },
  {
   "cell_type": "code",
   "execution_count": 24,
   "metadata": {
    "collapsed": true
   },
   "outputs": [],
   "source": [
    "from sklearn.linear_model import LinearRegression"
   ]
  },
  {
   "cell_type": "code",
   "execution_count": 25,
   "metadata": {
    "collapsed": true
   },
   "outputs": [],
   "source": [
    "lr=LinearRegression()"
   ]
  },
  {
   "cell_type": "code",
   "execution_count": 26,
   "metadata": {},
   "outputs": [
    {
     "data": {
      "text/plain": [
       "LinearRegression(copy_X=True, fit_intercept=True, n_jobs=1, normalize=False)"
      ]
     },
     "execution_count": 26,
     "metadata": {},
     "output_type": "execute_result"
    }
   ],
   "source": [
    "lr.fit(X_Age_train,Y_Age_train)"
   ]
  },
  {
   "cell_type": "code",
   "execution_count": 27,
   "metadata": {
    "collapsed": true
   },
   "outputs": [],
   "source": [
    "Y_Age_val_pred=lr.predict(X_Age_val)"
   ]
  },
  {
   "cell_type": "code",
   "execution_count": 28,
   "metadata": {},
   "outputs": [
    {
     "data": {
      "text/plain": [
       "LinearRegression(copy_X=True, fit_intercept=True, n_jobs=1, normalize=False)"
      ]
     },
     "execution_count": 28,
     "metadata": {},
     "output_type": "execute_result"
    }
   ],
   "source": [
    "lr.fit(df2_train_Age, y_Age)"
   ]
  },
  {
   "cell_type": "code",
   "execution_count": 29,
   "metadata": {
    "collapsed": true
   },
   "outputs": [],
   "source": [
    "Age_pred=lr.predict(df2_test_Age)"
   ]
  },
  {
   "cell_type": "code",
   "execution_count": 30,
   "metadata": {},
   "outputs": [
    {
     "name": "stderr",
     "output_type": "stream",
     "text": [
      "C:\\Users\\mrasskazov\\AppData\\Local\\Continuum\\Anaconda3\\lib\\site-packages\\ipykernel_launcher.py:1: SettingWithCopyWarning: \n",
      "A value is trying to be set on a copy of a slice from a DataFrame\n",
      "\n",
      "See the caveats in the documentation: http://pandas.pydata.org/pandas-docs/stable/indexing.html#indexing-view-versus-copy\n",
      "  \"\"\"Entry point for launching an IPython kernel.\n"
     ]
    }
   ],
   "source": [
    "df1_1.Age[df1_1.Age.isnull()==True]=(pd.Series(Age_pred))"
   ]
  },
  {
   "cell_type": "code",
   "execution_count": 31,
   "metadata": {
    "scrolled": true
   },
   "outputs": [
    {
     "data": {
      "text/plain": [
       "Series([], Name: Age, dtype: float64)"
      ]
     },
     "execution_count": 31,
     "metadata": {},
     "output_type": "execute_result"
    }
   ],
   "source": [
    "df1_1.Age[df1_1.Age.isnull()==True].replace(pd.Series(Age_pred))"
   ]
  },
  {
   "cell_type": "code",
   "execution_count": 32,
   "metadata": {
    "collapsed": true
   },
   "outputs": [],
   "source": [
    "x_train=df1_1[df1_1.is_test==0].drop('is_test', axis=1)\n",
    "x_test=df1_1[df1_1.is_test==1].drop('is_test', axis=1)"
   ]
  },
  {
   "cell_type": "code",
   "execution_count": 33,
   "metadata": {
    "collapsed": true
   },
   "outputs": [],
   "source": [
    "columns=x_train.columns"
   ]
  },
  {
   "cell_type": "code",
   "execution_count": 34,
   "metadata": {
    "collapsed": true
   },
   "outputs": [],
   "source": [
    "from sklearn.preprocessing import StandardScaler"
   ]
  },
  {
   "cell_type": "code",
   "execution_count": 35,
   "metadata": {
    "collapsed": true
   },
   "outputs": [],
   "source": [
    "scaler=StandardScaler()"
   ]
  },
  {
   "cell_type": "code",
   "execution_count": 36,
   "metadata": {},
   "outputs": [
    {
     "data": {
      "text/plain": [
       "StandardScaler(copy=True, with_mean=True, with_std=True)"
      ]
     },
     "execution_count": 36,
     "metadata": {},
     "output_type": "execute_result"
    }
   ],
   "source": [
    "scaler.fit(x_train)"
   ]
  },
  {
   "cell_type": "code",
   "execution_count": 37,
   "metadata": {
    "collapsed": true
   },
   "outputs": [],
   "source": [
    "x_train_sc=scaler.transform(x_train)\n",
    "x_train_sc=pd.DataFrame(x_train_sc, columns=columns)"
   ]
  },
  {
   "cell_type": "code",
   "execution_count": 38,
   "metadata": {},
   "outputs": [
    {
     "data": {
      "text/html": [
       "<div>\n",
       "<style>\n",
       "    .dataframe thead tr:only-child th {\n",
       "        text-align: right;\n",
       "    }\n",
       "\n",
       "    .dataframe thead th {\n",
       "        text-align: left;\n",
       "    }\n",
       "\n",
       "    .dataframe tbody tr th {\n",
       "        vertical-align: top;\n",
       "    }\n",
       "</style>\n",
       "<table border=\"1\" class=\"dataframe\">\n",
       "  <thead>\n",
       "    <tr style=\"text-align: right;\">\n",
       "      <th></th>\n",
       "      <th>Age</th>\n",
       "      <th>Parch</th>\n",
       "      <th>Fare</th>\n",
       "      <th>isMale</th>\n",
       "      <th>is_Miss</th>\n",
       "      <th>is_Master</th>\n",
       "      <th>is_Mr</th>\n",
       "      <th>is_Mrs</th>\n",
       "      <th>is_Family</th>\n",
       "      <th>Pclass_1</th>\n",
       "      <th>...</th>\n",
       "      <th>Embarked_Q</th>\n",
       "      <th>Embarked_S</th>\n",
       "      <th>Cabin__A</th>\n",
       "      <th>Cabin__B</th>\n",
       "      <th>Cabin__C</th>\n",
       "      <th>Cabin__D</th>\n",
       "      <th>Cabin__E</th>\n",
       "      <th>Cabin__F</th>\n",
       "      <th>Cabin__G</th>\n",
       "      <th>Cabin__T</th>\n",
       "    </tr>\n",
       "  </thead>\n",
       "  <tbody>\n",
       "    <tr>\n",
       "      <th>0</th>\n",
       "      <td>-0.569879</td>\n",
       "      <td>-0.473674</td>\n",
       "      <td>-0.502445</td>\n",
       "      <td>0.737695</td>\n",
       "      <td>-0.506655</td>\n",
       "      <td>-0.216803</td>\n",
       "      <td>0.850532</td>\n",
       "      <td>-0.403962</td>\n",
       "      <td>1.465746</td>\n",
       "      <td>-0.565685</td>\n",
       "      <td>...</td>\n",
       "      <td>-0.307562</td>\n",
       "      <td>0.619306</td>\n",
       "      <td>-0.130856</td>\n",
       "      <td>-0.235981</td>\n",
       "      <td>-0.266296</td>\n",
       "      <td>-0.196116</td>\n",
       "      <td>-0.193009</td>\n",
       "      <td>-0.121681</td>\n",
       "      <td>-0.067153</td>\n",
       "      <td>-0.03352</td>\n",
       "    </tr>\n",
       "    <tr>\n",
       "      <th>1</th>\n",
       "      <td>0.612686</td>\n",
       "      <td>-0.473674</td>\n",
       "      <td>0.786845</td>\n",
       "      <td>-1.355574</td>\n",
       "      <td>-0.506655</td>\n",
       "      <td>-0.216803</td>\n",
       "      <td>-1.175735</td>\n",
       "      <td>2.475480</td>\n",
       "      <td>1.465746</td>\n",
       "      <td>1.767767</td>\n",
       "      <td>...</td>\n",
       "      <td>-0.307562</td>\n",
       "      <td>-1.614710</td>\n",
       "      <td>-0.130856</td>\n",
       "      <td>-0.235981</td>\n",
       "      <td>3.755222</td>\n",
       "      <td>-0.196116</td>\n",
       "      <td>-0.193009</td>\n",
       "      <td>-0.121681</td>\n",
       "      <td>-0.067153</td>\n",
       "      <td>-0.03352</td>\n",
       "    </tr>\n",
       "    <tr>\n",
       "      <th>2</th>\n",
       "      <td>-0.274238</td>\n",
       "      <td>-0.473674</td>\n",
       "      <td>-0.488854</td>\n",
       "      <td>-1.355574</td>\n",
       "      <td>1.973729</td>\n",
       "      <td>-0.216803</td>\n",
       "      <td>-1.175735</td>\n",
       "      <td>-0.403962</td>\n",
       "      <td>-0.682247</td>\n",
       "      <td>-0.565685</td>\n",
       "      <td>...</td>\n",
       "      <td>-0.307562</td>\n",
       "      <td>0.619306</td>\n",
       "      <td>-0.130856</td>\n",
       "      <td>-0.235981</td>\n",
       "      <td>-0.266296</td>\n",
       "      <td>-0.196116</td>\n",
       "      <td>-0.193009</td>\n",
       "      <td>-0.121681</td>\n",
       "      <td>-0.067153</td>\n",
       "      <td>-0.03352</td>\n",
       "    </tr>\n",
       "    <tr>\n",
       "      <th>3</th>\n",
       "      <td>0.390955</td>\n",
       "      <td>-0.473674</td>\n",
       "      <td>0.420730</td>\n",
       "      <td>-1.355574</td>\n",
       "      <td>-0.506655</td>\n",
       "      <td>-0.216803</td>\n",
       "      <td>-1.175735</td>\n",
       "      <td>2.475480</td>\n",
       "      <td>1.465746</td>\n",
       "      <td>1.767767</td>\n",
       "      <td>...</td>\n",
       "      <td>-0.307562</td>\n",
       "      <td>0.619306</td>\n",
       "      <td>-0.130856</td>\n",
       "      <td>-0.235981</td>\n",
       "      <td>3.755222</td>\n",
       "      <td>-0.196116</td>\n",
       "      <td>-0.193009</td>\n",
       "      <td>-0.121681</td>\n",
       "      <td>-0.067153</td>\n",
       "      <td>-0.03352</td>\n",
       "    </tr>\n",
       "    <tr>\n",
       "      <th>4</th>\n",
       "      <td>0.390955</td>\n",
       "      <td>-0.473674</td>\n",
       "      <td>-0.486337</td>\n",
       "      <td>0.737695</td>\n",
       "      <td>-0.506655</td>\n",
       "      <td>-0.216803</td>\n",
       "      <td>0.850532</td>\n",
       "      <td>-0.403962</td>\n",
       "      <td>-0.682247</td>\n",
       "      <td>-0.565685</td>\n",
       "      <td>...</td>\n",
       "      <td>-0.307562</td>\n",
       "      <td>0.619306</td>\n",
       "      <td>-0.130856</td>\n",
       "      <td>-0.235981</td>\n",
       "      <td>-0.266296</td>\n",
       "      <td>-0.196116</td>\n",
       "      <td>-0.193009</td>\n",
       "      <td>-0.121681</td>\n",
       "      <td>-0.067153</td>\n",
       "      <td>-0.03352</td>\n",
       "    </tr>\n",
       "  </tbody>\n",
       "</table>\n",
       "<p>5 rows × 23 columns</p>\n",
       "</div>"
      ],
      "text/plain": [
       "        Age     Parch      Fare    isMale   is_Miss  is_Master     is_Mr  \\\n",
       "0 -0.569879 -0.473674 -0.502445  0.737695 -0.506655  -0.216803  0.850532   \n",
       "1  0.612686 -0.473674  0.786845 -1.355574 -0.506655  -0.216803 -1.175735   \n",
       "2 -0.274238 -0.473674 -0.488854 -1.355574  1.973729  -0.216803 -1.175735   \n",
       "3  0.390955 -0.473674  0.420730 -1.355574 -0.506655  -0.216803 -1.175735   \n",
       "4  0.390955 -0.473674 -0.486337  0.737695 -0.506655  -0.216803  0.850532   \n",
       "\n",
       "     is_Mrs  is_Family  Pclass_1    ...     Embarked_Q  Embarked_S  Cabin__A  \\\n",
       "0 -0.403962   1.465746 -0.565685    ...      -0.307562    0.619306 -0.130856   \n",
       "1  2.475480   1.465746  1.767767    ...      -0.307562   -1.614710 -0.130856   \n",
       "2 -0.403962  -0.682247 -0.565685    ...      -0.307562    0.619306 -0.130856   \n",
       "3  2.475480   1.465746  1.767767    ...      -0.307562    0.619306 -0.130856   \n",
       "4 -0.403962  -0.682247 -0.565685    ...      -0.307562    0.619306 -0.130856   \n",
       "\n",
       "   Cabin__B  Cabin__C  Cabin__D  Cabin__E  Cabin__F  Cabin__G  Cabin__T  \n",
       "0 -0.235981 -0.266296 -0.196116 -0.193009 -0.121681 -0.067153  -0.03352  \n",
       "1 -0.235981  3.755222 -0.196116 -0.193009 -0.121681 -0.067153  -0.03352  \n",
       "2 -0.235981 -0.266296 -0.196116 -0.193009 -0.121681 -0.067153  -0.03352  \n",
       "3 -0.235981  3.755222 -0.196116 -0.193009 -0.121681 -0.067153  -0.03352  \n",
       "4 -0.235981 -0.266296 -0.196116 -0.193009 -0.121681 -0.067153  -0.03352  \n",
       "\n",
       "[5 rows x 23 columns]"
      ]
     },
     "execution_count": 38,
     "metadata": {},
     "output_type": "execute_result"
    }
   ],
   "source": [
    "x_train_sc.head()"
   ]
  },
  {
   "cell_type": "code",
   "execution_count": 39,
   "metadata": {
    "collapsed": true
   },
   "outputs": [],
   "source": [
    "x_test_sc=scaler.transform(x_test)"
   ]
  },
  {
   "cell_type": "code",
   "execution_count": 40,
   "metadata": {
    "collapsed": true
   },
   "outputs": [],
   "source": [
    "from sklearn.decomposition import PCA"
   ]
  },
  {
   "cell_type": "code",
   "execution_count": 41,
   "metadata": {
    "collapsed": true
   },
   "outputs": [],
   "source": [
    "pca=PCA(n_components=2)"
   ]
  },
  {
   "cell_type": "code",
   "execution_count": 42,
   "metadata": {},
   "outputs": [],
   "source": [
    "ppl=pca.fit_transform(x_train_sc)"
   ]
  },
  {
   "cell_type": "code",
   "execution_count": 43,
   "metadata": {},
   "outputs": [
    {
     "data": {
      "text/plain": [
       "0.2714487437204654"
      ]
     },
     "execution_count": 43,
     "metadata": {},
     "output_type": "execute_result"
    }
   ],
   "source": [
    "pca.explained_variance_ratio_.sum()"
   ]
  },
  {
   "cell_type": "code",
   "execution_count": 44,
   "metadata": {},
   "outputs": [
    {
     "data": {
      "image/png": "[encoded data removed]",
      "text/plain": [
       "<matplotlib.figure.Figure at 0xd283f28>"
      ]
     },
     "metadata": {},
     "output_type": "display_data"
    }
   ],
   "source": [
    "pyplot.plot(ppl[:,0],ppl[:,1], 'ro', alpha=0.1);"
   ]
  },
  {
   "cell_type": "code",
   "execution_count": 45,
   "metadata": {
    "collapsed": true
   },
   "outputs": [],
   "source": [
    "from sklearn.cluster import KMeans"
   ]
  },
  {
   "cell_type": "code",
   "execution_count": 46,
   "metadata": {
    "collapsed": true
   },
   "outputs": [],
   "source": [
    "kmeans=KMeans(n_clusters=7)"
   ]
  },
  {
   "cell_type": "code",
   "execution_count": 47,
   "metadata": {},
   "outputs": [
    {
     "data": {
      "text/plain": [
       "KMeans(algorithm='auto', copy_x=True, init='k-means++', max_iter=300,\n",
       "    n_clusters=7, n_init=10, n_jobs=1, precompute_distances='auto',\n",
       "    random_state=None, tol=0.0001, verbose=0)"
      ]
     },
     "execution_count": 47,
     "metadata": {},
     "output_type": "execute_result"
    }
   ],
   "source": [
    "kmeans.fit(x_train_sc)"
   ]
  },
  {
   "cell_type": "code",
   "execution_count": 48,
   "metadata": {},
   "outputs": [],
   "source": [
    "cluster_labels=kmeans.predict(x_train_sc)"
   ]
  },
  {
   "cell_type": "code",
   "execution_count": 49,
   "metadata": {},
   "outputs": [
    {
     "data": {
      "image/png": "[encoded data removed]",
      "text/plain": [
       "<matplotlib.figure.Figure at 0xca7f780>"
      ]
     },
     "metadata": {},
     "output_type": "display_data"
    }
   ],
   "source": [
    "for i, color in zip(range(7),{'blue','red','green','black','orange','yellow'}):\n",
    "    t=ppl[cluster_labels==i]\n",
    "    pyplot.plot(t[:,0], t[:,1], 'ro', alpha=0.1, c=color)"
   ]
  },
  {
   "cell_type": "code",
   "execution_count": 50,
   "metadata": {
    "collapsed": true
   },
   "outputs": [],
   "source": [
    "from sklearn.model_selection import train_test_split"
   ]
  },
  {
   "cell_type": "code",
   "execution_count": 51,
   "metadata": {},
   "outputs": [],
   "source": [
    "x_train_fin, x_cv, y_train_fin, y_cv=train_test_split(x_train_sc, y_train, test_size=0.2)"
   ]
  },
  {
   "cell_type": "code",
   "execution_count": 52,
   "metadata": {
    "collapsed": true
   },
   "outputs": [],
   "source": [
    "from sklearn.model_selection import GridSearchCV\n",
    "from sklearn.tree import DecisionTreeClassifier"
   ]
  },
  {
   "cell_type": "code",
   "execution_count": 53,
   "metadata": {
    "collapsed": true
   },
   "outputs": [],
   "source": [
    "depth=np.arange(1,10)\n",
    "grid={'max_depth':depth}\n",
    "gridsearch=GridSearchCV(DecisionTreeClassifier(),grid,scoring='accuracy', cv=5)"
   ]
  },
  {
   "cell_type": "code",
   "execution_count": 54,
   "metadata": {},
   "outputs": [
    {
     "data": {
      "text/plain": [
       "GridSearchCV(cv=5, error_score='raise',\n",
       "       estimator=DecisionTreeClassifier(class_weight=None, criterion='gini', max_depth=None,\n",
       "            max_features=None, max_leaf_nodes=None,\n",
       "            min_impurity_split=1e-07, min_samples_leaf=1,\n",
       "            min_samples_split=2, min_weight_fraction_leaf=0.0,\n",
       "            presort=False, random_state=None, splitter='best'),\n",
       "       fit_params={}, iid=True, n_jobs=1,\n",
       "       param_grid={'max_depth': array([1, 2, 3, 4, 5, 6, 7, 8, 9])},\n",
       "       pre_dispatch='2*n_jobs', refit=True, return_train_score=True,\n",
       "       scoring='accuracy', verbose=0)"
      ]
     },
     "execution_count": 54,
     "metadata": {},
     "output_type": "execute_result"
    }
   ],
   "source": [
    "gridsearch.fit(x_train_fin, y_train_fin)"
   ]
  },
  {
   "cell_type": "code",
   "execution_count": 55,
   "metadata": {},
   "outputs": [
    {
     "name": "stderr",
     "output_type": "stream",
     "text": [
      "C:\\Users\\mrasskazov\\AppData\\Local\\Continuum\\Anaconda3\\lib\\site-packages\\sklearn\\model_selection\\_search.py:667: DeprecationWarning: The grid_scores_ attribute was deprecated in version 0.18 in favor of the more elaborate cv_results_ attribute. The grid_scores_ attribute will not be available from 0.20\n",
      "  DeprecationWarning)\n"
     ]
    },
    {
     "data": {
      "text/plain": [
       "[mean: 0.80618, std: 0.01427, params: {'max_depth': 3},\n",
       " mean: 0.80056, std: 0.03798, params: {'max_depth': 8},\n",
       " mean: 0.79635, std: 0.03172, params: {'max_depth': 5},\n",
       " mean: 0.79635, std: 0.02297, params: {'max_depth': 6},\n",
       " mean: 0.79213, std: 0.04048, params: {'max_depth': 4},\n",
       " mean: 0.79213, std: 0.02970, params: {'max_depth': 7},\n",
       " mean: 0.79073, std: 0.01608, params: {'max_depth': 1},\n",
       " mean: 0.78371, std: 0.04957, params: {'max_depth': 9},\n",
       " mean: 0.77809, std: 0.02353, params: {'max_depth': 2}]"
      ]
     },
     "execution_count": 55,
     "metadata": {},
     "output_type": "execute_result"
    }
   ],
   "source": [
    "sorted(gridsearch.grid_scores_, key=lambda x: -x.mean_validation_score)"
   ]
  },
  {
   "cell_type": "code",
   "execution_count": 56,
   "metadata": {
    "scrolled": true
   },
   "outputs": [
    {
     "name": "stderr",
     "output_type": "stream",
     "text": [
      "C:\\Users\\mrasskazov\\AppData\\Local\\Continuum\\Anaconda3\\lib\\site-packages\\sklearn\\model_selection\\_search.py:667: DeprecationWarning: The grid_scores_ attribute was deprecated in version 0.18 in favor of the more elaborate cv_results_ attribute. The grid_scores_ attribute will not be available from 0.20\n",
      "  DeprecationWarning)\n"
     ]
    },
    {
     "data": {
      "image/png": "[encoded data removed]",
      "text/plain": [
       "<matplotlib.figure.Figure at 0xd99dc88>"
      ]
     },
     "metadata": {},
     "output_type": "display_data"
    }
   ],
   "source": [
    "scores=[-x.mean_validation_score for x in gridsearch.grid_scores_]\n",
    "pyplot.plot(depth, scores)\n",
    "pyplot.scatter(depth, scores)\n",
    "best_point=np.argmin(scores)\n",
    "pyplot.scatter(depth[best_point], scores[best_point],c='g', s=100);"
   ]
  },
  {
   "cell_type": "code",
   "execution_count": 57,
   "metadata": {
    "collapsed": true
   },
   "outputs": [],
   "source": [
    "from sklearn.metrics import accuracy_score"
   ]
  },
  {
   "cell_type": "code",
   "execution_count": 58,
   "metadata": {
    "collapsed": true
   },
   "outputs": [],
   "source": [
    "dt=DecisionTreeClassifier(max_depth=3)"
   ]
  },
  {
   "cell_type": "code",
   "execution_count": 59,
   "metadata": {},
   "outputs": [
    {
     "data": {
      "text/plain": [
       "DecisionTreeClassifier(class_weight=None, criterion='gini', max_depth=3,\n",
       "            max_features=None, max_leaf_nodes=None,\n",
       "            min_impurity_split=1e-07, min_samples_leaf=1,\n",
       "            min_samples_split=2, min_weight_fraction_leaf=0.0,\n",
       "            presort=False, random_state=None, splitter='best')"
      ]
     },
     "execution_count": 59,
     "metadata": {},
     "output_type": "execute_result"
    }
   ],
   "source": [
    "dt.fit(x_train_fin, y_train_fin)"
   ]
  },
  {
   "cell_type": "code",
   "execution_count": 60,
   "metadata": {},
   "outputs": [],
   "source": [
    "y_cv_pred=dt.predict(x_cv)"
   ]
  },
  {
   "cell_type": "code",
   "execution_count": 61,
   "metadata": {},
   "outputs": [
    {
     "data": {
      "text/plain": [
       "0.82122905027932958"
      ]
     },
     "execution_count": 61,
     "metadata": {},
     "output_type": "execute_result"
    }
   ],
   "source": [
    "accuracy_score(y_cv, y_cv_pred)"
   ]
  },
  {
   "cell_type": "code",
   "execution_count": 62,
   "metadata": {
    "scrolled": true
   },
   "outputs": [
    {
     "data": {
      "text/plain": [
       "DecisionTreeClassifier(class_weight=None, criterion='gini', max_depth=3,\n",
       "            max_features=None, max_leaf_nodes=None,\n",
       "            min_impurity_split=1e-07, min_samples_leaf=1,\n",
       "            min_samples_split=2, min_weight_fraction_leaf=0.0,\n",
       "            presort=False, random_state=None, splitter='best')"
      ]
     },
     "execution_count": 62,
     "metadata": {},
     "output_type": "execute_result"
    }
   ],
   "source": [
    "dt.fit(x_train_sc, y_train)"
   ]
  },
  {
   "cell_type": "code",
   "execution_count": 63,
   "metadata": {},
   "outputs": [],
   "source": [
    "prediction=dt.predict(x_test_sc)"
   ]
  },
  {
   "cell_type": "code",
   "execution_count": 64,
   "metadata": {},
   "outputs": [],
   "source": [
    "submission='PassengerId,Survived\\n'\n",
    "submission+=\"\\n\".join(['{},{}'.format(pid,prediction) for pid, prediction in zip(df_test.PassengerId,prediction)])"
   ]
  },
  {
   "cell_type": "code",
   "execution_count": 65,
   "metadata": {
    "collapsed": true
   },
   "outputs": [],
   "source": [
    "with open ('submission.txt', 'w') as file:\n",
    "    file.write(submission)"
   ]
  },
  {
   "cell_type": "code",
   "execution_count": 66,
   "metadata": {
    "collapsed": true
   },
   "outputs": [],
   "source": [
    "from sklearn.tree import export_graphviz\n",
    "\n",
    "def get_tree_dot_view(clf, feature_names=None, class_names=None):\n",
    "    print(export_graphviz(clf, out_file=None, filled=True, feature_names=feature_names, class_names=class_names))"
   ]
  },
  {
   "cell_type": "code",
   "execution_count": 67,
   "metadata": {
    "collapsed": true
   },
   "outputs": [],
   "source": [
    "from sklearn.preprocessing import LabelEncoder as le"
   ]
  },
  {
   "cell_type": "code",
   "execution_count": 68,
   "metadata": {},
   "outputs": [
    {
     "name": "stdout",
     "output_type": "stream",
     "text": [
      "digraph Tree {\n",
      "node [shape=box, style=\"filled\", color=\"black\"] ;\n",
      "0 [label=\"is_Mr <= -0.1626\\ngini = 0.473\\nsamples = 891\\nvalue = [549, 342]\", fillcolor=\"#e5813960\"] ;\n",
      "1 [label=\"Pclass_3 <= -0.1027\\ngini = 0.4217\\nsamples = 374\\nvalue = [113, 261]\", fillcolor=\"#399de591\"] ;\n",
      "0 -> 1 [labeldistance=2.5, labelangle=45, headlabel=\"True\"] ;\n",
      "2 [label=\"isMale <= -0.3089\\ngini = 0.2094\\nsamples = 202\\nvalue = [24, 178]\", fillcolor=\"#399de5dd\"] ;\n",
      "1 -> 2 ;\n",
      "3 [label=\"Age <= -2.0117\\ngini = 0.1003\\nsamples = 170\\nvalue = [9, 161]\", fillcolor=\"#399de5f1\"] ;\n",
      "2 -> 3 ;\n",
      "4 [label=\"Pclass_1 <= 0.601\\ngini = 0.5\\nsamples = 2\\nvalue = [1, 1]\", fillcolor=\"#e5813900\"] ;\n",
      "3 -> 4 ;\n",
      "5 [label=\"gini = 0.0\\nsamples = 1\\nvalue = [0, 1]\", fillcolor=\"#399de5ff\"] ;\n",
      "4 -> 5 ;\n",
      "6 [label=\"gini = 0.0\\nsamples = 1\\nvalue = [1, 0]\", fillcolor=\"#e58139ff\"] ;\n",
      "4 -> 6 ;\n",
      "7 [label=\"Fare <= -0.0674\\ngini = 0.0907\\nsamples = 168\\nvalue = [8, 160]\", fillcolor=\"#399de5f2\"] ;\n",
      "3 -> 7 ;\n",
      "8 [label=\"gini = 0.1823\\nsamples = 69\\nvalue = [7, 62]\", fillcolor=\"#399de5e2\"] ;\n",
      "7 -> 8 ;\n",
      "9 [label=\"gini = 0.02\\nsamples = 99\\nvalue = [1, 98]\", fillcolor=\"#399de5fc\"] ;\n",
      "7 -> 9 ;\n",
      "10 [label=\"Age <= -0.9391\\ngini = 0.498\\nsamples = 32\\nvalue = [15, 17]\", fillcolor=\"#399de51e\"] ;\n",
      "2 -> 10 ;\n",
      "11 [label=\"gini = 0.0\\nsamples = 12\\nvalue = [0, 12]\", fillcolor=\"#399de5ff\"] ;\n",
      "10 -> 11 ;\n",
      "12 [label=\"Fare <= -0.0623\\ngini = 0.375\\nsamples = 20\\nvalue = [15, 5]\", fillcolor=\"#e58139aa\"] ;\n",
      "10 -> 12 ;\n",
      "13 [label=\"gini = 0.0\\nsamples = 11\\nvalue = [11, 0]\", fillcolor=\"#e58139ff\"] ;\n",
      "12 -> 13 ;\n",
      "14 [label=\"gini = 0.4938\\nsamples = 9\\nvalue = [4, 5]\", fillcolor=\"#399de533\"] ;\n",
      "12 -> 14 ;\n",
      "15 [label=\"Fare <= -0.1783\\ngini = 0.4994\\nsamples = 172\\nvalue = [89, 83]\", fillcolor=\"#e5813911\"] ;\n",
      "1 -> 15 ;\n",
      "16 [label=\"Age <= -0.1623\\ngini = 0.4725\\nsamples = 128\\nvalue = [49, 79]\", fillcolor=\"#399de561\"] ;\n",
      "15 -> 16 ;\n",
      "17 [label=\"Embarked_S <= -0.4977\\ngini = 0.4373\\nsamples = 96\\nvalue = [31, 65]\", fillcolor=\"#399de585\"] ;\n",
      "16 -> 17 ;\n",
      "18 [label=\"gini = 0.3533\\nsamples = 48\\nvalue = [11, 37]\", fillcolor=\"#399de5b3\"] ;\n",
      "17 -> 18 ;\n",
      "19 [label=\"gini = 0.4861\\nsamples = 48\\nvalue = [20, 28]\", fillcolor=\"#399de549\"] ;\n",
      "17 -> 19 ;\n",
      "20 [label=\"Fare <= -0.349\\ngini = 0.4922\\nsamples = 32\\nvalue = [18, 14]\", fillcolor=\"#e5813939\"] ;\n",
      "16 -> 20 ;\n",
      "21 [label=\"gini = 0.4012\\nsamples = 18\\nvalue = [13, 5]\", fillcolor=\"#e581399d\"] ;\n",
      "20 -> 21 ;\n",
      "22 [label=\"gini = 0.4592\\nsamples = 14\\nvalue = [5, 9]\", fillcolor=\"#399de571\"] ;\n",
      "20 -> 22 ;\n",
      "23 [label=\"Parch <= 0.147\\ngini = 0.1653\\nsamples = 44\\nvalue = [40, 4]\", fillcolor=\"#e58139e6\"] ;\n",
      "15 -> 23 ;\n",
      "24 [label=\"gini = 0.0\\nsamples = 1\\nvalue = [0, 1]\", fillcolor=\"#399de5ff\"] ;\n",
      "23 -> 24 ;\n",
      "25 [label=\"Fare <= -0.0176\\ngini = 0.1298\\nsamples = 43\\nvalue = [40, 3]\", fillcolor=\"#e58139ec\"] ;\n",
      "23 -> 25 ;\n",
      "26 [label=\"gini = 0.0\\nsamples = 23\\nvalue = [23, 0]\", fillcolor=\"#e58139ff\"] ;\n",
      "25 -> 26 ;\n",
      "27 [label=\"gini = 0.255\\nsamples = 20\\nvalue = [17, 3]\", fillcolor=\"#e58139d2\"] ;\n",
      "25 -> 27 ;\n",
      "28 [label=\"Fare <= -0.1195\\ngini = 0.2643\\nsamples = 517\\nvalue = [436, 81]\", fillcolor=\"#e58139d0\"] ;\n",
      "0 -> 28 [labeldistance=2.5, labelangle=-45, headlabel=\"False\"] ;\n",
      "29 [label=\"Age <= 0.2101\\ngini = 0.18\\nsamples = 390\\nvalue = [351, 39]\", fillcolor=\"#e58139e3\"] ;\n",
      "28 -> 29 ;\n",
      "30 [label=\"Age <= 0.1684\\ngini = 0.213\\nsamples = 264\\nvalue = [232, 32]\", fillcolor=\"#e58139dc\"] ;\n",
      "29 -> 30 ;\n",
      "31 [label=\"Embarked_S <= -0.4977\\ngini = 0.1913\\nsamples = 252\\nvalue = [225, 27]\", fillcolor=\"#e58139e0\"] ;\n",
      "30 -> 31 ;\n",
      "32 [label=\"gini = 0.3254\\nsamples = 44\\nvalue = [35, 9]\", fillcolor=\"#e58139bd\"] ;\n",
      "31 -> 32 ;\n",
      "33 [label=\"gini = 0.1581\\nsamples = 208\\nvalue = [190, 18]\", fillcolor=\"#e58139e7\"] ;\n",
      "31 -> 33 ;\n",
      "34 [label=\"Age <= 0.1731\\ngini = 0.4861\\nsamples = 12\\nvalue = [7, 5]\", fillcolor=\"#e5813949\"] ;\n",
      "30 -> 34 ;\n",
      "35 [label=\"gini = 0.4628\\nsamples = 11\\nvalue = [7, 4]\", fillcolor=\"#e581396d\"] ;\n",
      "34 -> 35 ;\n",
      "36 [label=\"gini = 0.0\\nsamples = 1\\nvalue = [0, 1]\", fillcolor=\"#399de5ff\"] ;\n",
      "34 -> 36 ;\n",
      "37 [label=\"Cabin__D <= 2.4515\\ngini = 0.1049\\nsamples = 126\\nvalue = [119, 7]\", fillcolor=\"#e58139f0\"] ;\n",
      "29 -> 37 ;\n",
      "38 [label=\"Age <= 0.6869\\ngini = 0.0921\\nsamples = 124\\nvalue = [118, 6]\", fillcolor=\"#e58139f2\"] ;\n",
      "37 -> 38 ;\n",
      "39 [label=\"gini = 0.0312\\nsamples = 63\\nvalue = [62, 1]\", fillcolor=\"#e58139fb\"] ;\n",
      "38 -> 39 ;\n",
      "40 [label=\"gini = 0.1505\\nsamples = 61\\nvalue = [56, 5]\", fillcolor=\"#e58139e8\"] ;\n",
      "38 -> 40 ;\n",
      "41 [label=\"Embarked_S <= -0.4977\\ngini = 0.5\\nsamples = 2\\nvalue = [1, 1]\", fillcolor=\"#e5813900\"] ;\n",
      "37 -> 41 ;\n",
      "42 [label=\"gini = 0.0\\nsamples = 1\\nvalue = [1, 0]\", fillcolor=\"#e58139ff\"] ;\n",
      "41 -> 42 ;\n",
      "43 [label=\"gini = 0.0\\nsamples = 1\\nvalue = [0, 1]\", fillcolor=\"#399de5ff\"] ;\n",
      "41 -> 43 ;\n",
      "44 [label=\"Fare <= -0.1093\\ngini = 0.4427\\nsamples = 127\\nvalue = [85, 42]\", fillcolor=\"#e5813981\"] ;\n",
      "28 -> 44 ;\n",
      "45 [label=\"Age <= 1.7611\\ngini = 0.4297\\nsamples = 16\\nvalue = [5, 11]\", fillcolor=\"#399de58b\"] ;\n",
      "44 -> 45 ;\n",
      "46 [label=\"Cabin__C <= 1.7445\\ngini = 0.1528\\nsamples = 12\\nvalue = [1, 11]\", fillcolor=\"#399de5e8\"] ;\n",
      "45 -> 46 ;\n",
      "47 [label=\"gini = 0.0\\nsamples = 10\\nvalue = [0, 10]\", fillcolor=\"#399de5ff\"] ;\n",
      "46 -> 47 ;\n",
      "48 [label=\"gini = 0.5\\nsamples = 2\\nvalue = [1, 1]\", fillcolor=\"#e5813900\"] ;\n",
      "46 -> 48 ;\n",
      "49 [label=\"gini = 0.0\\nsamples = 4\\nvalue = [4, 0]\", fillcolor=\"#e58139ff\"] ;\n",
      "45 -> 49 ;\n",
      "50 [label=\"Pclass_2 <= 0.725\\ngini = 0.4026\\nsamples = 111\\nvalue = [80, 31]\", fillcolor=\"#e581399c\"] ;\n",
      "44 -> 50 ;\n",
      "51 [label=\"Age <= 1.0603\\ngini = 0.4325\\nsamples = 98\\nvalue = [67, 31]\", fillcolor=\"#e5813989\"] ;\n",
      "50 -> 51 ;\n",
      "52 [label=\"gini = 0.4775\\nsamples = 66\\nvalue = [40, 26]\", fillcolor=\"#e5813959\"] ;\n",
      "51 -> 52 ;\n",
      "53 [label=\"gini = 0.2637\\nsamples = 32\\nvalue = [27, 5]\", fillcolor=\"#e58139d0\"] ;\n",
      "51 -> 53 ;\n",
      "54 [label=\"gini = 0.0\\nsamples = 13\\nvalue = [13, 0]\", fillcolor=\"#e58139ff\"] ;\n",
      "50 -> 54 ;\n",
      "}\n"
     ]
    }
   ],
   "source": [
    "get_tree_dot_view(dt, list(x_train_sc.columns))"
   ]
  },
  {
   "cell_type": "code",
   "execution_count": null,
   "metadata": {
    "collapsed": true
   },
   "outputs": [],
   "source": []
  },
  {
   "cell_type": "code",
   "execution_count": null,
   "metadata": {
    "collapsed": true
   },
   "outputs": [],
   "source": []
  }
 ],
 "metadata": {
  "kernelspec": {
   "display_name": "Python 3",
   "language": "python",
   "name": "python3"
  },
  "language_info": {
   "codemirror_mode": {
    "name": "ipython",
    "version": 3
   },
   "file_extension": ".py",
   "mimetype": "text/x-python",
   "name": "python",
   "nbconvert_exporter": "python",
   "pygments_lexer": "ipython3",
   "version": "3.6.1"
  }
 },
 "nbformat": 4,
 "nbformat_minor": 2
}
