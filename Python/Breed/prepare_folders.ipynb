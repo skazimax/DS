{
 "cells": [
  {
   "cell_type": "code",
   "execution_count": 11,
   "metadata": {
    "collapsed": true
   },
   "outputs": [],
   "source": [
    "import os\n",
    "import shutil\n",
    "from glob import glob\n",
    "import pandas as pd\n",
    "import random\n",
    "import re"
   ]
  },
  {
   "cell_type": "code",
   "execution_count": 3,
   "metadata": {
    "collapsed": true
   },
   "outputs": [],
   "source": [
    "data = pd.read_csv('C:/Users/mrasskazov/Desktop/DS/Data/Breed/labels.csv')"
   ]
  },
  {
   "cell_type": "code",
   "execution_count": 75,
   "metadata": {
    "collapsed": true
   },
   "outputs": [],
   "source": [
    "files = glob('C:/Users/mrasskazov/Desktop/DS/Data/Breed/train/train/*.jpg')"
   ]
  },
  {
   "cell_type": "code",
   "execution_count": 8,
   "metadata": {
    "collapsed": true
   },
   "outputs": [],
   "source": [
    "sample = random.sample(files, 1000)"
   ]
  },
  {
   "cell_type": "code",
   "execution_count": 52,
   "metadata": {},
   "outputs": [],
   "source": [
    "b = []\n",
    "for x in sample:\n",
    "    b.append((data.breed[data['id']==(os.path.basename(x)).split('.')[0]]).to_string(index=False))"
   ]
  },
  {
   "cell_type": "code",
   "execution_count": 60,
   "metadata": {},
   "outputs": [],
   "source": [
    "from collections import Counter\n",
    "dict = Counter(b)"
   ]
  },
  {
   "cell_type": "code",
   "execution_count": 63,
   "metadata": {},
   "outputs": [
    {
     "data": {
      "text/plain": [
       "[('eskimo_dog', 3),\n",
       " ('toy_poodle', 3),\n",
       " ('wire-haired_fox_terrier', 3),\n",
       " ('samoyed', 3),\n",
       " ('shetland_sheepdog', 3),\n",
       " ('bedlington_terrier', 3),\n",
       " ('kerry_blue_terrier', 4),\n",
       " ('german_short-haired_pointer', 4),\n",
       " ('cairn', 4),\n",
       " ('west_highland_white_terrier', 4),\n",
       " ('border_terrier', 4),\n",
       " ('malinois', 4),\n",
       " ('kelpie', 5),\n",
       " ('saint_bernard', 5),\n",
       " ('walker_hound', 5),\n",
       " ('komondor', 5),\n",
       " ('leonberg', 5),\n",
       " ('bouvier_des_flandres', 5),\n",
       " ('dhole', 5),\n",
       " ('bernese_mountain_dog', 5),\n",
       " ('great_dane', 6),\n",
       " ('golden_retriever', 6),\n",
       " ('collie', 6),\n",
       " ('chesapeake_bay_retriever', 6),\n",
       " ('greater_swiss_mountain_dog', 6),\n",
       " ('english_springer', 6),\n",
       " ('bloodhound', 6),\n",
       " ('lakeland_terrier', 6),\n",
       " ('toy_terrier', 6),\n",
       " ('chihuahua', 6),\n",
       " ('curly-coated_retriever', 6),\n",
       " ('affenpinscher', 6),\n",
       " ('standard_schnauzer', 6),\n",
       " ('american_staffordshire_terrier', 6),\n",
       " ('english_foxhound', 6),\n",
       " ('english_setter', 6),\n",
       " ('ibizan_hound', 7),\n",
       " ('redbone', 7),\n",
       " ('staffordshire_bullterrier', 7),\n",
       " ('tibetan_terrier', 7),\n",
       " ('tibetan_mastiff', 7),\n",
       " ('gordon_setter', 7),\n",
       " ('flat-coated_retriever', 7),\n",
       " ('appenzeller', 7),\n",
       " ('miniature_poodle', 7),\n",
       " ('dingo', 7),\n",
       " ('boston_bull', 7),\n",
       " ('black-and-tan_coonhound', 7),\n",
       " ('cocker_spaniel', 7),\n",
       " ('rottweiler', 7),\n",
       " ('vizsla', 7),\n",
       " ('lhasa', 8),\n",
       " ('boxer', 8),\n",
       " ('irish_terrier', 8),\n",
       " ('siberian_husky', 8),\n",
       " ('papillon', 8),\n",
       " ('schipperke', 8),\n",
       " ('giant_schnauzer', 8),\n",
       " ('sealyham_terrier', 8),\n",
       " ('australian_terrier', 8),\n",
       " ('groenendael', 8),\n",
       " ('basset', 8),\n",
       " ('malamute', 8),\n",
       " ('beagle', 8),\n",
       " ('clumber', 8),\n",
       " ('doberman', 9),\n",
       " ('miniature_schnauzer', 9),\n",
       " ('newfoundland', 9),\n",
       " ('pembroke', 9),\n",
       " ('norfolk_terrier', 9),\n",
       " ('borzoi', 9),\n",
       " ('yorkshire_terrier', 9),\n",
       " ('weimaraner', 9),\n",
       " ('standard_poodle', 9),\n",
       " ('welsh_springer_spaniel', 9),\n",
       " ('labrador_retriever', 9),\n",
       " ('french_bulldog', 9),\n",
       " ('brabancon_griffon', 9),\n",
       " ('mexican_hairless', 9),\n",
       " ('airedale', 10),\n",
       " ('whippet', 10),\n",
       " ('dandie_dinmont', 10),\n",
       " ('irish_setter', 10),\n",
       " ('irish_water_spaniel', 10),\n",
       " ('old_english_sheepdog', 10),\n",
       " ('brittany_spaniel', 10),\n",
       " ('soft-coated_wheaten_terrier', 10),\n",
       " ('italian_greyhound', 10),\n",
       " ('kuvasz', 10),\n",
       " ('german_shepherd', 10),\n",
       " ('keeshond', 10),\n",
       " ('shih-tzu', 10),\n",
       " ('sussex_spaniel', 10),\n",
       " ('maltese_dog', 11),\n",
       " ('blenheim_spaniel', 11),\n",
       " ('pomeranian', 11),\n",
       " ('scottish_deerhound', 11),\n",
       " ('border_collie', 11),\n",
       " ('saluki', 11),\n",
       " ('bull_mastiff', 11),\n",
       " ('great_pyrenees', 11),\n",
       " ('silky_terrier', 11),\n",
       " ('briard', 12),\n",
       " ('miniature_pinscher', 12),\n",
       " ('cardigan', 12),\n",
       " ('otterhound', 12),\n",
       " ('pug', 12),\n",
       " ('african_hunting_dog', 12),\n",
       " ('scotch_terrier', 12),\n",
       " ('entlebucher', 13),\n",
       " ('chow', 13),\n",
       " ('japanese_spaniel', 13),\n",
       " ('bluetick', 14),\n",
       " ('afghan_hound', 14),\n",
       " ('norwich_terrier', 14),\n",
       " ('rhodesian_ridgeback', 14),\n",
       " ('irish_wolfhound', 14),\n",
       " ('pekinese', 14),\n",
       " ('norwegian_elkhound', 16),\n",
       " ('basenji', 17)]"
      ]
     },
     "execution_count": 63,
     "metadata": {},
     "output_type": "execute_result"
    }
   ],
   "source": [
    "import operator\n",
    "sorted(dict.items(), key = operator.itemgetter(1))"
   ]
  },
  {
   "cell_type": "code",
   "execution_count": 79,
   "metadata": {},
   "outputs": [],
   "source": [
    "for x in data.breed.unique():\n",
    "    os.mkdir('C:/Users/mrasskazov/Desktop/DS/Data/Breed/train/train/' + x)"
   ]
  },
  {
   "cell_type": "code",
   "execution_count": 74,
   "metadata": {},
   "outputs": [],
   "source": [
    "for x in sample:\n",
    "    f = (data.breed[data['id']==(os.path.basename(x)).split('.')[0]]).to_string(index=False)\n",
    "    shutil.move(x, 'C:/Users/mrasskazov/Desktop/DS/Data/Breed/train/val/' + f)"
   ]
  },
  {
   "cell_type": "code",
   "execution_count": 80,
   "metadata": {
    "collapsed": true
   },
   "outputs": [],
   "source": [
    "for x in files:\n",
    "    f = (data.breed[data['id']==(os.path.basename(x)).split('.')[0]]).to_string(index=False)\n",
    "    shutil.move(x, 'C:/Users/mrasskazov/Desktop/DS/Data/Breed/train/train/' + f)"
   ]
  },
  {
   "cell_type": "code",
   "execution_count": null,
   "metadata": {
    "collapsed": true
   },
   "outputs": [],
   "source": []
  }
 ],
 "metadata": {
  "kernelspec": {
   "display_name": "Python 3",
   "language": "python",
   "name": "python3"
  },
  "language_info": {
   "codemirror_mode": {
    "name": "ipython",
    "version": 3
   },
   "file_extension": ".py",
   "mimetype": "text/x-python",
   "name": "python",
   "nbconvert_exporter": "python",
   "pygments_lexer": "ipython3",
   "version": "3.6.1"
  }
 },
 "nbformat": 4,
 "nbformat_minor": 2
}
