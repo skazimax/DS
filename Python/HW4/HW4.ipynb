{
 "cells": [
  {
   "cell_type": "code",
   "execution_count": 276,
   "metadata": {
    "collapsed": true
   },
   "outputs": [],
   "source": [
    "from sklearn.datasets import load_digits\n",
    "import numpy as np\n",
    "import pandas as pd\n",
    "from sklearn.model_selection import train_test_split\n",
    "from sklearn.metrics import accuracy_score"
   ]
  },
  {
   "cell_type": "code",
   "execution_count": 277,
   "metadata": {
    "collapsed": true
   },
   "outputs": [],
   "source": [
    "data=load_digits()"
   ]
  },
  {
   "cell_type": "code",
   "execution_count": 278,
   "metadata": {},
   "outputs": [
    {
     "data": {
      "text/plain": [
       "array([0, 1, 2, 3, 4, 5, 6, 7, 8, 9])"
      ]
     },
     "execution_count": 278,
     "metadata": {},
     "output_type": "execute_result"
    }
   ],
   "source": [
    "data['target_names']"
   ]
  },
  {
   "cell_type": "code",
   "execution_count": 279,
   "metadata": {
    "collapsed": true
   },
   "outputs": [],
   "source": [
    "X=pd.DataFrame(data[\"data\"])"
   ]
  },
  {
   "cell_type": "code",
   "execution_count": 280,
   "metadata": {
    "collapsed": true
   },
   "outputs": [],
   "source": [
    "Y=pd.Series(data[\"target\"])"
   ]
  },
  {
   "cell_type": "code",
   "execution_count": 281,
   "metadata": {
    "collapsed": true
   },
   "outputs": [],
   "source": [
    "Y_b=label_binarize(Y,classes=list(range(10)))"
   ]
  },
  {
   "cell_type": "code",
   "execution_count": 282,
   "metadata": {
    "collapsed": true
   },
   "outputs": [],
   "source": [
    "X_test, X_train, y_test, y_train=train_test_split(X, Y, test_size=0.2, random_state=666 )"
   ]
  },
  {
   "cell_type": "code",
   "execution_count": 316,
   "metadata": {},
   "outputs": [],
   "source": [
    "from sklearn.linear_model import LogisticRegression\n",
    "from sklearn.tree import DecisionTreeClassifier\n",
    "from sklearn.neighbors import KNeighborsClassifier\n",
    "from sklearn.model_selection import GridSearchCV\n",
    "from sklearn.linear_model import SGDClassifier\n",
    "from sklearn.svm import SVC"
   ]
  },
  {
   "cell_type": "markdown",
   "metadata": {},
   "source": [
    "##### Набираем модели: возьмём, логРегрессию, Деревья ,Соседей, ГрадСпуск"
   ]
  },
  {
   "cell_type": "code",
   "execution_count": 319,
   "metadata": {
    "collapsed": true
   },
   "outputs": [],
   "source": [
    "lr=LogisticRegression\n",
    "dtc=DecisionTreeClassifier\n",
    "knn=KNeighborsClassifier\n",
    "sgd=SGDClassifier\n",
    "svm=SVC"
   ]
  },
  {
   "cell_type": "code",
   "execution_count": 333,
   "metadata": {
    "collapsed": true
   },
   "outputs": [],
   "source": [
    "models={'lr':LogisticRegression,'dtc':DecisionTreeClassifier, 'knn':KNeighborsClassifier, 'sgd': SGDClassifier,'svm':SVC}"
   ]
  },
  {
   "cell_type": "markdown",
   "metadata": {},
   "source": [
    "##### Набираем параметры для моделей"
   ]
  },
  {
   "cell_type": "code",
   "execution_count": 358,
   "metadata": {},
   "outputs": [
    {
     "data": {
      "text/plain": [
       "{'C': 0.10000000000000001, 'kernel': 'linear', 'tol': 0.56234132519034907}"
      ]
     },
     "execution_count": 358,
     "metadata": {},
     "output_type": "execute_result"
    }
   ],
   "source": [
    "c_svm=np.linspace(0.1,1, num=20)\n",
    "tol=10**np.linspace(-4,1, num=5)\n",
    "grid5={\n",
    "      'C':c_svm\n",
    "    , 'kernel':['linear', 'poly', 'rbf', 'sigmoid']\n",
    "    , 'tol': tol           \n",
    "               }\n",
    "gs5=GridSearchCV(svm(), grid5, scoring='accuracy', cv=5)\n",
    "gs5.fit(X_train,y_train)\n",
    "gs5.best_params_\n",
    "#model5=svm(**gs5.best_params_)\n",
    "#model5.fit(X_train,y_train)\n",
    "#pred5=model5.predict(X_test)\n",
    "#accuracy_score(y_test,pred5)"
   ]
  },
  {
   "cell_type": "code",
   "execution_count": 337,
   "metadata": {},
   "outputs": [
    {
     "data": {
      "text/plain": [
       "{'l1_ratio': 0.21052631578947367, 'loss': 'modified_huber', 'penalty': 'none'}"
      ]
     },
     "execution_count": 337,
     "metadata": {},
     "output_type": "execute_result"
    }
   ],
   "source": [
    "l1r=np.linspace(0,1,num=20)\n",
    "grid4={\n",
    "     'penalty':['none','l2', 'l1','elasticnet']\n",
    "    ,'loss':['hinge', 'log', 'modified_huber', 'squared_hinge', 'perceptron','squared_loss', 'huber', 'epsilon_insensitive','squared_epsilon_insensitive']\n",
    "    ,'l1_ratio':l1r}\n",
    "gs4=GridSearchCV(sgd(), grid4, scoring='accuracy', cv=5)\n",
    "gs4.fit(X_train,y_train)\n",
    "gs4.best_params_\n",
    "#gs4.fit(X_train, y_train)\n",
    "#pred4=gs4.predict(X_test)\n",
    "#accuracy_score(y_test,pred4)"
   ]
  },
  {
   "cell_type": "code",
   "execution_count": 287,
   "metadata": {
    "scrolled": true
   },
   "outputs": [
    {
     "data": {
      "text/plain": [
       "{'C': 0.01, 'dual': False, 'penalty': 'l2', 'solver': 'liblinear'}"
      ]
     },
     "execution_count": 287,
     "metadata": {},
     "output_type": "execute_result"
    }
   ],
   "source": [
    "cs=10**np.linspace(-3,1,5)\n",
    "grid1={\"C\":cs, \"penalty\":['l1','l2'],'solver':['liblinear'], 'dual':[bool(0)]}\n",
    "gs1=GridSearchCV(lr(),grid1,scoring='accuracy', cv=5)\n",
    "gs1.fit(X_train,y_train)\n",
    "gs1.best_params_\n",
    "#model1=lr(**gs1.best_params_)\n",
    "#model1.fit(X_train,y_train)\n",
    "#pred1=model1.predict(X_test)\n",
    "#accuracy_score(y_test,pred1)"
   ]
  },
  {
   "cell_type": "code",
   "execution_count": 288,
   "metadata": {},
   "outputs": [
    {
     "data": {
      "text/plain": [
       "{'class_weight': None,\n",
       " 'criterion': 'entropy',\n",
       " 'max_depth': 13,\n",
       " 'splitter': 'best'}"
      ]
     },
     "execution_count": 288,
     "metadata": {},
     "output_type": "execute_result"
    }
   ],
   "source": [
    "grid2={\n",
    "      'max_depth':list(range(1,20))\n",
    "    , 'criterion':['gini','entropy']\n",
    "    , 'splitter':['best','random']\n",
    "    , 'class_weight':['balanced',None]}\n",
    "gs2=GridSearchCV(DecisionTreeClassifier(), grid2, scoring='accuracy')\n",
    "gs2.fit(X_train, y_train)\n",
    "gs2.best_params_"
   ]
  },
  {
   "cell_type": "code",
   "execution_count": 289,
   "metadata": {
    "scrolled": true
   },
   "outputs": [
    {
     "data": {
      "text/plain": [
       "{'algorithm': 'auto', 'n_neighbors': 1, 'p': 2, 'weights': 'uniform'}"
      ]
     },
     "execution_count": 289,
     "metadata": {},
     "output_type": "execute_result"
    }
   ],
   "source": [
    "grid3={'n_neighbors':list(range(1,6)), 'algorithm':['auto', 'ball_tree', 'kd_tree', 'brute'], 'weights':['uniform','distance'], 'p':[1,2]}\n",
    "gs3=GridSearchCV(knn(),grid3, scoring='accuracy')\n",
    "gs3.fit(X_train,y_train)\n",
    "gs3.best_params_\n",
    "#model3=knn(**gs3.best_params_)\n",
    "#model3.fit(X_train,y_train)\n",
    "#pred3=model3.predict(X_test)\n",
    "#accuracy_score(y_test, pred3)"
   ]
  },
  {
   "cell_type": "markdown",
   "metadata": {},
   "source": [
    "##### Запихиваем в цикл"
   ]
  },
  {
   "cell_type": "code",
   "execution_count": 360,
   "metadata": {},
   "outputs": [
    {
     "name": "stdout",
     "output_type": "stream",
     "text": [
      "(0.94084899095337504, 'lr') (0.76548364648573419, 'dtc') (0.96520528879610301, 'knn') (0.91579679888656929, 'sgd') (0.96520528879610301, 'svm')\n"
     ]
    }
   ],
   "source": [
    "score=[]\n",
    "for x in models.values():\n",
    "    if x==lr:\n",
    "        grids=grid1\n",
    "    elif x==dtc:\n",
    "        grids=grid2\n",
    "    elif x==knn:\n",
    "        grids=grid3\n",
    "    elif x==sgd:\n",
    "        grids=grid4\n",
    "    elif x==svm:\n",
    "        grids=grid5\n",
    "    gs=GridSearchCV(x(), grids, scoring='accuracy')\n",
    "    gs.fit(X_train,y_train)\n",
    "    model=x(**gs.best_params_)\n",
    "    model.fit(X_train,y_train)\n",
    "    pred=model.predict(X_test)\n",
    "    score.append(accuracy_score(y_test,pred ))\n",
    "print(*(zip(score, models.keys())))"
   ]
  },
  {
   "cell_type": "markdown",
   "metadata": {},
   "source": [
    "Получаем, что лучшая модель у нас **KNN** и **SMV**, причём скор у них одинаковый."
   ]
  },
  {
   "cell_type": "code",
   "execution_count": null,
   "metadata": {
    "collapsed": true
   },
   "outputs": [],
   "source": []
  }
 ],
 "metadata": {
  "kernelspec": {
   "display_name": "Python 3",
   "language": "python",
   "name": "python3"
  },
  "language_info": {
   "codemirror_mode": {
    "name": "ipython",
    "version": 3
   },
   "file_extension": ".py",
   "mimetype": "text/x-python",
   "name": "python",
   "nbconvert_exporter": "python",
   "pygments_lexer": "ipython3",
   "version": "3.6.1"
  }
 },
 "nbformat": 4,
 "nbformat_minor": 2
}
