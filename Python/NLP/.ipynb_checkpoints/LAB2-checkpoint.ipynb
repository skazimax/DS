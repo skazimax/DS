{
 "cells": [
  {
   "cell_type": "code",
   "execution_count": 145,
   "metadata": {
    "collapsed": true
   },
   "outputs": [],
   "source": [
    "import pandas as pd\n",
    "import random\n",
    "from sklearn.model_selection import train_test_split\n",
    "import re\n",
    "from sklearn.metrics import f1_score, accuracy_score"
   ]
  },
  {
   "cell_type": "code",
   "execution_count": 101,
   "metadata": {
    "collapsed": true
   },
   "outputs": [],
   "source": [
    "data_fem=pd.read_csv('c:/Users/mrasskazov/Desktop/DS/Data/NLP/female.txt', header=None, names=['names'])\n",
    "data_male=pd.read_csv('c:/Users/mrasskazov/Desktop/DS/Data/NLP/male.txt',header=None, names=['names'])"
   ]
  },
  {
   "cell_type": "code",
   "execution_count": 102,
   "metadata": {},
   "outputs": [],
   "source": [
    "data_merge=data_fem.merge(data_male, left_on=data_fem.names,right_on=data_male.names, how='inner')"
   ]
  },
  {
   "cell_type": "code",
   "execution_count": 103,
   "metadata": {},
   "outputs": [],
   "source": [
    "data_fem_fil=data_fem[~data_fem.names.isin(data_merge.names_x.values.tolist())]\n",
    "data_male_fil=data_male[~data_male.names.isin(data_merge.names_x.values.tolist())]"
   ]
  },
  {
   "cell_type": "code",
   "execution_count": 104,
   "metadata": {},
   "outputs": [
    {
     "name": "stderr",
     "output_type": "stream",
     "text": [
      "C:\\Users\\mrasskazov\\AppData\\Local\\Continuum\\Anaconda3\\lib\\site-packages\\ipykernel_launcher.py:1: SettingWithCopyWarning: \n",
      "A value is trying to be set on a copy of a slice from a DataFrame.\n",
      "Try using .loc[row_indexer,col_indexer] = value instead\n",
      "\n",
      "See the caveats in the documentation: http://pandas.pydata.org/pandas-docs/stable/indexing.html#indexing-view-versus-copy\n",
      "  \"\"\"Entry point for launching an IPython kernel.\n",
      "C:\\Users\\mrasskazov\\AppData\\Local\\Continuum\\Anaconda3\\lib\\site-packages\\ipykernel_launcher.py:2: SettingWithCopyWarning: \n",
      "A value is trying to be set on a copy of a slice from a DataFrame.\n",
      "Try using .loc[row_indexer,col_indexer] = value instead\n",
      "\n",
      "See the caveats in the documentation: http://pandas.pydata.org/pandas-docs/stable/indexing.html#indexing-view-versus-copy\n",
      "  \n"
     ]
    }
   ],
   "source": [
    "data_fem_fil['is_male']=0\n",
    "data_male_fil['is_male']=1"
   ]
  },
  {
   "cell_type": "code",
   "execution_count": 126,
   "metadata": {},
   "outputs": [],
   "source": [
    "data_fem_fil_samp=data_fem_fil.sample(len(data_male_fil))"
   ]
  },
  {
   "cell_type": "code",
   "execution_count": 127,
   "metadata": {},
   "outputs": [],
   "source": [
    "df1=pd.concat([data_fem_fil_samp,data_male_fil], ignore_index=True)"
   ]
  },
  {
   "cell_type": "code",
   "execution_count": 128,
   "metadata": {
    "collapsed": true
   },
   "outputs": [],
   "source": [
    "X_train, X_test, y_train, y_test=train_test_split(df1.names,df1.is_male, random_state=6666, test_size=0.2 )"
   ]
  },
  {
   "cell_type": "code",
   "execution_count": 139,
   "metadata": {
    "collapsed": true
   },
   "outputs": [],
   "source": [
    "from sklearn.naive_bayes import MultinomialNB\n",
    "from sklearn.linear_model import LogisticRegression\n",
    "from sklearn.pipeline import Pipeline\n",
    "from sklearn.feature_extraction.text import CountVectorizer"
   ]
  },
  {
   "cell_type": "code",
   "execution_count": 157,
   "metadata": {},
   "outputs": [],
   "source": [
    "Classifier=[LogisticRegression,MultinomialNB]"
   ]
  },
  {
   "cell_type": "code",
   "execution_count": 150,
   "metadata": {
    "collapsed": true
   },
   "outputs": [],
   "source": [
    "ngrams=[2,3,4]"
   ]
  },
  {
   "cell_type": "code",
   "execution_count": 208,
   "metadata": {},
   "outputs": [
    {
     "name": "stdout",
     "output_type": "stream",
     "text": [
      "LogisticRegression (ngrams=2) :\n",
      "F1-measure:   0.83\n",
      "Accuracy:   0.83\n",
      "\n",
      "LogisticRegression (ngrams=3) :\n",
      "F1-measure:   0.84\n",
      "Accuracy:   0.83\n",
      "\n",
      "LogisticRegression (ngrams=4) :\n",
      "F1-measure:   0.82\n",
      "Accuracy:   0.81\n",
      "\n",
      "MultinomialNB (ngrams=2) :\n",
      "F1-measure:   0.72\n",
      "Accuracy:   0.72\n",
      "\n",
      "MultinomialNB (ngrams=3) :\n",
      "F1-measure:   0.77\n",
      "Accuracy:   0.77\n",
      "\n",
      "MultinomialNB (ngrams=4) :\n",
      "F1-measure:   0.77\n",
      "Accuracy:   0.77\n",
      "\n"
     ]
    }
   ],
   "source": [
    "for c in Classifier:\n",
    "    for n in ngrams:\n",
    "        clf = Pipeline([\n",
    "            ('vect', CountVectorizer(ngram_range=(n-1,n), analyzer='char')),\n",
    "            ('clf', c()),\n",
    "        ])\n",
    "        clf.fit(X_train, y_train)\n",
    "        preds=clf.predict(X_test)\n",
    "        print(*re.findall(r'\\w+(?=\\'>)',str(c)),'(ngrams='+str(n)+')',':')\n",
    "        print(\"F1-measure: {0:6.2f}\".format(f1_score(y_test, preds)))\n",
    "        print(\"Accuracy: {0:6.2f}\\n\".format(accuracy_score(y_test, preds)))"
   ]
  },
  {
   "cell_type": "code",
   "execution_count": 215,
   "metadata": {},
   "outputs": [
    {
     "data": {
      "text/plain": [
       "array([1], dtype=int64)"
      ]
     },
     "execution_count": 215,
     "metadata": {},
     "output_type": "execute_result"
    }
   ],
   "source": [
    "clf.predict(['Dima'])"
   ]
  },
  {
   "cell_type": "code",
   "execution_count": 190,
   "metadata": {},
   "outputs": [
    {
     "data": {
      "text/plain": [
       "991    Fernande\n",
       "Name: names, dtype: object"
      ]
     },
     "execution_count": 190,
     "metadata": {},
     "output_type": "execute_result"
    }
   ],
   "source": [
    "X_test[1:2]"
   ]
  },
  {
   "cell_type": "code",
   "execution_count": null,
   "metadata": {
    "collapsed": true
   },
   "outputs": [],
   "source": []
  }
 ],
 "metadata": {
  "kernelspec": {
   "display_name": "Python 3",
   "language": "python",
   "name": "python3"
  },
  "language_info": {
   "codemirror_mode": {
    "name": "ipython",
    "version": 3
   },
   "file_extension": ".py",
   "mimetype": "text/x-python",
   "name": "python",
   "nbconvert_exporter": "python",
   "pygments_lexer": "ipython3",
   "version": "3.6.1"
  }
 },
 "nbformat": 4,
 "nbformat_minor": 2
}
